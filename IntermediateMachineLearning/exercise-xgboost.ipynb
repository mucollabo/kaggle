{
 "cells": [
  {
   "cell_type": "markdown",
   "id": "ba10aad0",
   "metadata": {
    "papermill": {
     "duration": 0.020392,
     "end_time": "2022-05-09T06:46:28.842134",
     "exception": false,
     "start_time": "2022-05-09T06:46:28.821742",
     "status": "completed"
    },
    "tags": []
   },
   "source": [
    "**This notebook is an exercise in the [Intermediate Machine Learning](https://www.kaggle.com/learn/intermediate-machine-learning) course.  You can reference the tutorial at [this link](https://www.kaggle.com/alexisbcook/xgboost).**\n",
    "\n",
    "---\n"
   ]
  },
  {
   "cell_type": "markdown",
   "id": "672b2fec",
   "metadata": {
    "papermill": {
     "duration": 0.01941,
     "end_time": "2022-05-09T06:46:28.881410",
     "exception": false,
     "start_time": "2022-05-09T06:46:28.862000",
     "status": "completed"
    },
    "tags": []
   },
   "source": [
    "In this exercise, you will use your new knowledge to train a model with **gradient boosting**.\n",
    "\n",
    "# Setup\n",
    "\n",
    "The questions below will give you feedback on your work. Run the following cell to set up the feedback system."
   ]
  },
  {
   "cell_type": "code",
   "execution_count": 1,
   "id": "b1731c25",
   "metadata": {
    "execution": {
     "iopub.execute_input": "2022-05-09T06:46:28.921469Z",
     "iopub.status.busy": "2022-05-09T06:46:28.920904Z",
     "iopub.status.idle": "2022-05-09T06:46:31.423962Z",
     "shell.execute_reply": "2022-05-09T06:46:31.423237Z"
    },
    "papermill": {
     "duration": 2.528321,
     "end_time": "2022-05-09T06:46:31.428839",
     "exception": false,
     "start_time": "2022-05-09T06:46:28.900518",
     "status": "completed"
    },
    "tags": []
   },
   "outputs": [
    {
     "name": "stdout",
     "output_type": "stream",
     "text": [
      "Setup Complete\n"
     ]
    }
   ],
   "source": [
    "# Set up code checking\n",
    "import os\n",
    "if not os.path.exists(\"../input/train.csv\"):\n",
    "    os.symlink(\"../input/home-data-for-ml-course/train.csv\", \"../input/train.csv\")  \n",
    "    os.symlink(\"../input/home-data-for-ml-course/test.csv\", \"../input/test.csv\") \n",
    "from learntools.core import binder\n",
    "binder.bind(globals())\n",
    "from learntools.ml_intermediate.ex6 import *\n",
    "print(\"Setup Complete\")"
   ]
  },
  {
   "cell_type": "markdown",
   "id": "2458388e",
   "metadata": {
    "papermill": {
     "duration": 0.01949,
     "end_time": "2022-05-09T06:46:31.470973",
     "exception": false,
     "start_time": "2022-05-09T06:46:31.451483",
     "status": "completed"
    },
    "tags": []
   },
   "source": [
    "You will work with the [Housing Prices Competition for Kaggle Learn Users](https://www.kaggle.com/c/home-data-for-ml-course) dataset from the previous exercise. \n",
    "\n",
    "![Ames Housing dataset image](https://i.imgur.com/lTJVG4e.png)\n",
    "\n",
    "Run the next code cell without changes to load the training and validation sets in `X_train`, `X_valid`, `y_train`, and `y_valid`.  The test set is loaded in `X_test`."
   ]
  },
  {
   "cell_type": "code",
   "execution_count": 2,
   "id": "f3b48a57",
   "metadata": {
    "execution": {
     "iopub.execute_input": "2022-05-09T06:46:31.512421Z",
     "iopub.status.busy": "2022-05-09T06:46:31.512106Z",
     "iopub.status.idle": "2022-05-09T06:46:31.710513Z",
     "shell.execute_reply": "2022-05-09T06:46:31.709565Z"
    },
    "papermill": {
     "duration": 0.221947,
     "end_time": "2022-05-09T06:46:31.712869",
     "exception": false,
     "start_time": "2022-05-09T06:46:31.490922",
     "status": "completed"
    },
    "tags": []
   },
   "outputs": [],
   "source": [
    "import pandas as pd\n",
    "from sklearn.model_selection import train_test_split\n",
    "\n",
    "# Read the data\n",
    "X = pd.read_csv('../input/train.csv', index_col='Id')\n",
    "X_test_full = pd.read_csv('../input/test.csv', index_col='Id')\n",
    "\n",
    "# Remove rows with missing target, separate target from predictors\n",
    "X.dropna(axis=0, subset=['SalePrice'], inplace=True)\n",
    "y = X.SalePrice              \n",
    "X.drop(['SalePrice'], axis=1, inplace=True)\n",
    "\n",
    "# Break off validation set from training data\n",
    "X_train_full, X_valid_full, y_train, y_valid = train_test_split(X, y, train_size=0.8, test_size=0.2,\n",
    "                                                                random_state=0)\n",
    "\n",
    "# \"Cardinality\" means the number of unique values in a column\n",
    "# Select categorical columns with relatively low cardinality (convenient but arbitrary)\n",
    "low_cardinality_cols = [cname for cname in X_train_full.columns if X_train_full[cname].nunique() < 10 and \n",
    "                        X_train_full[cname].dtype == \"object\"]\n",
    "\n",
    "# Select numeric columns\n",
    "numeric_cols = [cname for cname in X_train_full.columns if X_train_full[cname].dtype in ['int64', 'float64']]\n",
    "\n",
    "# Keep selected columns only\n",
    "my_cols = low_cardinality_cols + numeric_cols\n",
    "X_train = X_train_full[my_cols].copy()\n",
    "X_valid = X_valid_full[my_cols].copy()\n",
    "X_test = X_test_full[my_cols].copy()\n",
    "\n",
    "# One-hot encode the data (to shorten the code, we use pandas)\n",
    "X_train = pd.get_dummies(X_train)\n",
    "X_valid = pd.get_dummies(X_valid)\n",
    "X_test = pd.get_dummies(X_test)\n",
    "X_train, X_valid = X_train.align(X_valid, join='left', axis=1)\n",
    "X_train, X_test = X_train.align(X_test, join='left', axis=1)"
   ]
  },
  {
   "cell_type": "markdown",
   "id": "9277157a",
   "metadata": {
    "papermill": {
     "duration": 0.019853,
     "end_time": "2022-05-09T06:46:31.753234",
     "exception": false,
     "start_time": "2022-05-09T06:46:31.733381",
     "status": "completed"
    },
    "tags": []
   },
   "source": [
    "# Step 1: Build model\n",
    "\n",
    "### Part A\n",
    "\n",
    "In this step, you'll build and train your first model with gradient boosting.\n",
    "\n",
    "- Begin by setting `my_model_1` to an XGBoost model.  Use the [XGBRegressor](https://xgboost.readthedocs.io/en/latest/python/python_api.html#xgboost.XGBRegressor) class, and set the random seed to 0 (`random_state=0`).  **Leave all other parameters as default.**\n",
    "- Then, fit the model to the training data in `X_train` and `y_train`."
   ]
  },
  {
   "cell_type": "code",
   "execution_count": 3,
   "id": "d54fccce",
   "metadata": {
    "execution": {
     "iopub.execute_input": "2022-05-09T06:46:31.793868Z",
     "iopub.status.busy": "2022-05-09T06:46:31.793602Z",
     "iopub.status.idle": "2022-05-09T06:46:32.736120Z",
     "shell.execute_reply": "2022-05-09T06:46:32.735333Z"
    },
    "papermill": {
     "duration": 0.965545,
     "end_time": "2022-05-09T06:46:32.738373",
     "exception": false,
     "start_time": "2022-05-09T06:46:31.772828",
     "status": "completed"
    },
    "tags": []
   },
   "outputs": [
    {
     "data": {
      "application/javascript": [
       "parent.postMessage({\"jupyterEvent\": \"custom.exercise_interaction\", \"data\": {\"outcomeType\": 1, \"valueTowardsCompletion\": 0.5, \"interactionType\": 1, \"questionType\": 2, \"questionId\": \"1.1_Model1A\", \"learnToolsVersion\": \"0.3.4\", \"failureMessage\": \"\", \"exceptionClass\": \"\", \"trace\": \"\"}}, \"*\")"
      ],
      "text/plain": [
       "<IPython.core.display.Javascript object>"
      ]
     },
     "metadata": {},
     "output_type": "display_data"
    },
    {
     "data": {
      "text/markdown": [
       "<span style=\"color:#33cc33\">Correct</span>"
      ],
      "text/plain": [
       "Correct"
      ]
     },
     "metadata": {},
     "output_type": "display_data"
    }
   ],
   "source": [
    "from xgboost import XGBRegressor\n",
    "\n",
    "# Define the model\n",
    "my_model_1 = XGBRegressor(random_state=0)\n",
    "\n",
    "# Fit the model\n",
    "my_model_1.fit(X_train, y_train)\n",
    "\n",
    "# Check your answer\n",
    "step_1.a.check()"
   ]
  },
  {
   "cell_type": "code",
   "execution_count": 4,
   "id": "519c915f",
   "metadata": {
    "execution": {
     "iopub.execute_input": "2022-05-09T06:46:32.783979Z",
     "iopub.status.busy": "2022-05-09T06:46:32.783190Z",
     "iopub.status.idle": "2022-05-09T06:46:32.788097Z",
     "shell.execute_reply": "2022-05-09T06:46:32.786825Z"
    },
    "papermill": {
     "duration": 0.030589,
     "end_time": "2022-05-09T06:46:32.790454",
     "exception": false,
     "start_time": "2022-05-09T06:46:32.759865",
     "status": "completed"
    },
    "tags": []
   },
   "outputs": [],
   "source": [
    "# Lines below will give you a hint or solution code\n",
    "#step_1.a.hint()\n",
    "#step_1.a.solution()"
   ]
  },
  {
   "cell_type": "markdown",
   "id": "9086321f",
   "metadata": {
    "papermill": {
     "duration": 0.020524,
     "end_time": "2022-05-09T06:46:32.833389",
     "exception": false,
     "start_time": "2022-05-09T06:46:32.812865",
     "status": "completed"
    },
    "tags": []
   },
   "source": [
    "### Part B\n",
    "\n",
    "Set `predictions_1` to the model's predictions for the validation data.  Recall that the validation features are stored in `X_valid`."
   ]
  },
  {
   "cell_type": "code",
   "execution_count": 5,
   "id": "f40711e6",
   "metadata": {
    "execution": {
     "iopub.execute_input": "2022-05-09T06:46:32.881784Z",
     "iopub.status.busy": "2022-05-09T06:46:32.881447Z",
     "iopub.status.idle": "2022-05-09T06:46:32.910141Z",
     "shell.execute_reply": "2022-05-09T06:46:32.909192Z"
    },
    "papermill": {
     "duration": 0.053832,
     "end_time": "2022-05-09T06:46:32.912696",
     "exception": false,
     "start_time": "2022-05-09T06:46:32.858864",
     "status": "completed"
    },
    "tags": []
   },
   "outputs": [
    {
     "data": {
      "application/javascript": [
       "parent.postMessage({\"jupyterEvent\": \"custom.exercise_interaction\", \"data\": {\"outcomeType\": 1, \"valueTowardsCompletion\": 0.5, \"interactionType\": 1, \"questionType\": 2, \"questionId\": \"1.2_Model1B\", \"learnToolsVersion\": \"0.3.4\", \"failureMessage\": \"\", \"exceptionClass\": \"\", \"trace\": \"\"}}, \"*\")"
      ],
      "text/plain": [
       "<IPython.core.display.Javascript object>"
      ]
     },
     "metadata": {},
     "output_type": "display_data"
    },
    {
     "data": {
      "text/markdown": [
       "<span style=\"color:#33cc33\">Correct</span>"
      ],
      "text/plain": [
       "Correct"
      ]
     },
     "metadata": {},
     "output_type": "display_data"
    }
   ],
   "source": [
    "from sklearn.metrics import mean_absolute_error\n",
    "\n",
    "# Get predictions\n",
    "predictions_1 = my_model_1.predict(X_valid)\n",
    "\n",
    "# Check your answer\n",
    "step_1.b.check()"
   ]
  },
  {
   "cell_type": "code",
   "execution_count": 6,
   "id": "f44b4462",
   "metadata": {
    "execution": {
     "iopub.execute_input": "2022-05-09T06:46:32.959479Z",
     "iopub.status.busy": "2022-05-09T06:46:32.959206Z",
     "iopub.status.idle": "2022-05-09T06:46:32.963375Z",
     "shell.execute_reply": "2022-05-09T06:46:32.962348Z"
    },
    "papermill": {
     "duration": 0.030029,
     "end_time": "2022-05-09T06:46:32.965748",
     "exception": false,
     "start_time": "2022-05-09T06:46:32.935719",
     "status": "completed"
    },
    "tags": []
   },
   "outputs": [],
   "source": [
    "# Lines below will give you a hint or solution code\n",
    "#step_1.b.hint()\n",
    "#step_1.b.solution()"
   ]
  },
  {
   "cell_type": "markdown",
   "id": "b5e31358",
   "metadata": {
    "papermill": {
     "duration": 0.023249,
     "end_time": "2022-05-09T06:46:33.012753",
     "exception": false,
     "start_time": "2022-05-09T06:46:32.989504",
     "status": "completed"
    },
    "tags": []
   },
   "source": [
    "### Part C\n",
    "\n",
    "Finally, use the `mean_absolute_error()` function to calculate the mean absolute error (MAE) corresponding to the predictions for the validation set.  Recall that the labels for the validation data are stored in `y_valid`."
   ]
  },
  {
   "cell_type": "code",
   "execution_count": 7,
   "id": "8e352c4b",
   "metadata": {
    "execution": {
     "iopub.execute_input": "2022-05-09T06:46:33.059674Z",
     "iopub.status.busy": "2022-05-09T06:46:33.059347Z",
     "iopub.status.idle": "2022-05-09T06:46:33.071031Z",
     "shell.execute_reply": "2022-05-09T06:46:33.070295Z"
    },
    "papermill": {
     "duration": 0.037072,
     "end_time": "2022-05-09T06:46:33.072934",
     "exception": false,
     "start_time": "2022-05-09T06:46:33.035862",
     "status": "completed"
    },
    "tags": []
   },
   "outputs": [
    {
     "name": "stdout",
     "output_type": "stream",
     "text": [
      "Mean Absolute Error: 17662.736729452055\n"
     ]
    },
    {
     "data": {
      "application/javascript": [
       "parent.postMessage({\"jupyterEvent\": \"custom.exercise_interaction\", \"data\": {\"outcomeType\": 1, \"valueTowardsCompletion\": 0.5, \"interactionType\": 1, \"questionType\": 2, \"questionId\": \"1.3_Model1C\", \"learnToolsVersion\": \"0.3.4\", \"failureMessage\": \"\", \"exceptionClass\": \"\", \"trace\": \"\"}}, \"*\")"
      ],
      "text/plain": [
       "<IPython.core.display.Javascript object>"
      ]
     },
     "metadata": {},
     "output_type": "display_data"
    },
    {
     "data": {
      "text/markdown": [
       "<span style=\"color:#33cc33\">Correct</span>"
      ],
      "text/plain": [
       "Correct"
      ]
     },
     "metadata": {},
     "output_type": "display_data"
    }
   ],
   "source": [
    "# Calculate MAE\n",
    "mae_1 = mean_absolute_error(predictions_1, y_valid)\n",
    "\n",
    "# Uncomment to print MAE\n",
    "print(\"Mean Absolute Error:\" , mae_1)\n",
    "\n",
    "# Check your answer\n",
    "step_1.c.check()"
   ]
  },
  {
   "cell_type": "code",
   "execution_count": 8,
   "id": "d2395450",
   "metadata": {
    "execution": {
     "iopub.execute_input": "2022-05-09T06:46:33.123032Z",
     "iopub.status.busy": "2022-05-09T06:46:33.122577Z",
     "iopub.status.idle": "2022-05-09T06:46:33.125580Z",
     "shell.execute_reply": "2022-05-09T06:46:33.124920Z"
    },
    "papermill": {
     "duration": 0.030753,
     "end_time": "2022-05-09T06:46:33.127643",
     "exception": false,
     "start_time": "2022-05-09T06:46:33.096890",
     "status": "completed"
    },
    "tags": []
   },
   "outputs": [],
   "source": [
    "# Lines below will give you a hint or solution code\n",
    "#step_1.c.hint()\n",
    "#step_1.c.solution()"
   ]
  },
  {
   "cell_type": "markdown",
   "id": "624209af",
   "metadata": {
    "papermill": {
     "duration": 0.023409,
     "end_time": "2022-05-09T06:46:33.174851",
     "exception": false,
     "start_time": "2022-05-09T06:46:33.151442",
     "status": "completed"
    },
    "tags": []
   },
   "source": [
    "# Step 2: Improve the model\n",
    "\n",
    "Now that you've trained a default model as baseline, it's time to tinker with the parameters, to see if you can get better performance!\n",
    "- Begin by setting `my_model_2` to an XGBoost model, using the [XGBRegressor](https://xgboost.readthedocs.io/en/latest/python/python_api.html#xgboost.XGBRegressor) class.  Use what you learned in the previous tutorial to figure out how to change the default parameters (like `n_estimators` and `learning_rate`) to get better results.\n",
    "- Then, fit the model to the training data in `X_train` and `y_train`.\n",
    "- Set `predictions_2` to the model's predictions for the validation data.  Recall that the validation features are stored in `X_valid`.\n",
    "- Finally, use the `mean_absolute_error()` function to calculate the mean absolute error (MAE) corresponding to the predictions on the validation set.  Recall that the labels for the validation data are stored in `y_valid`.\n",
    "\n",
    "In order for this step to be marked correct, your model in `my_model_2` must attain lower MAE than the model in `my_model_1`. "
   ]
  },
  {
   "cell_type": "code",
   "execution_count": 9,
   "id": "e57bc56d",
   "metadata": {
    "execution": {
     "iopub.execute_input": "2022-05-09T06:46:33.225557Z",
     "iopub.status.busy": "2022-05-09T06:46:33.225216Z",
     "iopub.status.idle": "2022-05-09T06:46:35.924022Z",
     "shell.execute_reply": "2022-05-09T06:46:35.923313Z"
    },
    "papermill": {
     "duration": 2.727987,
     "end_time": "2022-05-09T06:46:35.926582",
     "exception": false,
     "start_time": "2022-05-09T06:46:33.198595",
     "status": "completed"
    },
    "tags": []
   },
   "outputs": [
    {
     "name": "stderr",
     "output_type": "stream",
     "text": [
      "/opt/conda/lib/python3.7/site-packages/xgboost/sklearn.py:797: UserWarning: `early_stopping_rounds` in `fit` method is deprecated for better compatibility with scikit-learn, use `early_stopping_rounds` in constructor or`set_params` instead.\n",
      "  UserWarning,\n"
     ]
    },
    {
     "name": "stdout",
     "output_type": "stream",
     "text": [
      "Mean Absolute Error: 16802.965325342466\n"
     ]
    },
    {
     "data": {
      "application/javascript": [
       "parent.postMessage({\"jupyterEvent\": \"custom.exercise_interaction\", \"data\": {\"outcomeType\": 1, \"valueTowardsCompletion\": 0.5, \"interactionType\": 1, \"questionType\": 2, \"questionId\": \"2_Model2\", \"learnToolsVersion\": \"0.3.4\", \"failureMessage\": \"\", \"exceptionClass\": \"\", \"trace\": \"\"}}, \"*\")"
      ],
      "text/plain": [
       "<IPython.core.display.Javascript object>"
      ]
     },
     "metadata": {},
     "output_type": "display_data"
    },
    {
     "data": {
      "text/markdown": [
       "<span style=\"color:#33cc33\">Correct</span>"
      ],
      "text/plain": [
       "Correct"
      ]
     },
     "metadata": {},
     "output_type": "display_data"
    }
   ],
   "source": [
    "# Define the model\n",
    "my_model_2 = XGBRegressor(n_estimators=1000, learning_rate=0.05)\n",
    "\n",
    "# Fit the model\n",
    "my_model_2.fit(X_train, y_train,\n",
    "              early_stopping_rounds=5,\n",
    "              eval_set=[(X_valid, y_valid)],\n",
    "              verbose=False)\n",
    "\n",
    "# Get predictions\n",
    "predictions_2 = my_model_2.predict(X_valid)\n",
    "\n",
    "# Calculate MAE\n",
    "mae_2 = mean_absolute_error(predictions_2, y_valid)\n",
    "\n",
    "# Uncomment to print MAE\n",
    "print(\"Mean Absolute Error:\" , mae_2)\n",
    "\n",
    "# Check your answer\n",
    "step_2.check()"
   ]
  },
  {
   "cell_type": "code",
   "execution_count": 10,
   "id": "189a13f2",
   "metadata": {
    "execution": {
     "iopub.execute_input": "2022-05-09T06:46:35.982314Z",
     "iopub.status.busy": "2022-05-09T06:46:35.981487Z",
     "iopub.status.idle": "2022-05-09T06:46:35.985425Z",
     "shell.execute_reply": "2022-05-09T06:46:35.984594Z"
    },
    "papermill": {
     "duration": 0.033013,
     "end_time": "2022-05-09T06:46:35.987663",
     "exception": false,
     "start_time": "2022-05-09T06:46:35.954650",
     "status": "completed"
    },
    "tags": []
   },
   "outputs": [],
   "source": [
    "# Lines below will give you a hint or solution code\n",
    "#step_2.hint()\n",
    "#step_2.solution()"
   ]
  },
  {
   "cell_type": "markdown",
   "id": "3a1f478d",
   "metadata": {
    "papermill": {
     "duration": 0.02602,
     "end_time": "2022-05-09T06:46:36.039939",
     "exception": false,
     "start_time": "2022-05-09T06:46:36.013919",
     "status": "completed"
    },
    "tags": []
   },
   "source": [
    "# Step 3: Break the model\n",
    "\n",
    "In this step, you will create a model that performs worse than the original model in Step 1.  This will help you to develop your intuition for how to set parameters.  You might even find that you accidentally get better performance, which is ultimately a nice problem to have and a valuable learning experience!\n",
    "- Begin by setting `my_model_3` to an XGBoost model, using the [XGBRegressor](https://xgboost.readthedocs.io/en/latest/python/python_api.html#xgboost.XGBRegressor) class.  Use what you learned in the previous tutorial to figure out how to change the default parameters (like `n_estimators` and `learning_rate`) to design a model to get high MAE.\n",
    "- Then, fit the model to the training data in `X_train` and `y_train`.\n",
    "- Set `predictions_3` to the model's predictions for the validation data.  Recall that the validation features are stored in `X_valid`.\n",
    "- Finally, use the `mean_absolute_error()` function to calculate the mean absolute error (MAE) corresponding to the predictions on the validation set.  Recall that the labels for the validation data are stored in `y_valid`.\n",
    "\n",
    "In order for this step to be marked correct, your model in `my_model_3` must attain higher MAE than the model in `my_model_1`. "
   ]
  },
  {
   "cell_type": "code",
   "execution_count": 11,
   "id": "a9dd7b60",
   "metadata": {
    "execution": {
     "iopub.execute_input": "2022-05-09T06:46:36.096521Z",
     "iopub.status.busy": "2022-05-09T06:46:36.096181Z",
     "iopub.status.idle": "2022-05-09T06:46:36.194543Z",
     "shell.execute_reply": "2022-05-09T06:46:36.193702Z"
    },
    "papermill": {
     "duration": 0.130866,
     "end_time": "2022-05-09T06:46:36.197078",
     "exception": false,
     "start_time": "2022-05-09T06:46:36.066212",
     "status": "completed"
    },
    "tags": []
   },
   "outputs": [
    {
     "name": "stdout",
     "output_type": "stream",
     "text": [
      "Mean Absolute Error: 31340.861461900684\n"
     ]
    },
    {
     "name": "stderr",
     "output_type": "stream",
     "text": [
      "/opt/conda/lib/python3.7/site-packages/xgboost/sklearn.py:797: UserWarning: `early_stopping_rounds` in `fit` method is deprecated for better compatibility with scikit-learn, use `early_stopping_rounds` in constructor or`set_params` instead.\n",
      "  UserWarning,\n"
     ]
    },
    {
     "data": {
      "application/javascript": [
       "parent.postMessage({\"jupyterEvent\": \"custom.exercise_interaction\", \"data\": {\"outcomeType\": 1, \"valueTowardsCompletion\": 0.5, \"interactionType\": 1, \"questionType\": 2, \"questionId\": \"3_Model3\", \"learnToolsVersion\": \"0.3.4\", \"failureMessage\": \"\", \"exceptionClass\": \"\", \"trace\": \"\"}}, \"*\")"
      ],
      "text/plain": [
       "<IPython.core.display.Javascript object>"
      ]
     },
     "metadata": {},
     "output_type": "display_data"
    },
    {
     "data": {
      "text/markdown": [
       "<span style=\"color:#33cc33\">Correct</span>"
      ],
      "text/plain": [
       "Correct"
      ]
     },
     "metadata": {},
     "output_type": "display_data"
    }
   ],
   "source": [
    "# Define the model\n",
    "my_model_3 = XGBRegressor(n_estimators=1, learning_rate=0.9, random_state=0)\n",
    "\n",
    "# Fit the model\n",
    "my_model_3.fit(X_train, y_train,\n",
    "              early_stopping_rounds=5,\n",
    "               eval_set=[(X_valid, y_valid)],\n",
    "               verbose=False\n",
    "              )\n",
    "\n",
    "# Get predictions\n",
    "predictions_3 = my_model_3.predict(X_valid)\n",
    "\n",
    "# Calculate MAE\n",
    "mae_3 = mean_absolute_error(predictions_3, y_valid)\n",
    "\n",
    "# Uncomment to print MAE\n",
    "print(\"Mean Absolute Error:\" , mae_3)\n",
    "\n",
    "# Check your answer\n",
    "step_3.check()"
   ]
  },
  {
   "cell_type": "code",
   "execution_count": 12,
   "id": "6d6c02ac",
   "metadata": {
    "execution": {
     "iopub.execute_input": "2022-05-09T06:46:36.256104Z",
     "iopub.status.busy": "2022-05-09T06:46:36.255310Z",
     "iopub.status.idle": "2022-05-09T06:46:36.259496Z",
     "shell.execute_reply": "2022-05-09T06:46:36.258476Z"
    },
    "papermill": {
     "duration": 0.035134,
     "end_time": "2022-05-09T06:46:36.261552",
     "exception": false,
     "start_time": "2022-05-09T06:46:36.226418",
     "status": "completed"
    },
    "tags": []
   },
   "outputs": [],
   "source": [
    "# Lines below will give you a hint or solution code\n",
    "#step_3.hint()\n",
    "#step_3.solution()"
   ]
  },
  {
   "cell_type": "markdown",
   "id": "95547c9a",
   "metadata": {
    "papermill": {
     "duration": 0.029895,
     "end_time": "2022-05-09T06:46:36.319569",
     "exception": false,
     "start_time": "2022-05-09T06:46:36.289674",
     "status": "completed"
    },
    "tags": []
   },
   "source": [
    "# Keep going\n",
    "\n",
    "Continue to learn about **[data leakage](https://www.kaggle.com/alexisbcook/data-leakage)**.  This is an important issue for a data scientist to understand, and it has the potential to ruin your models in subtle and dangerous ways!"
   ]
  },
  {
   "cell_type": "markdown",
   "id": "a2377633",
   "metadata": {
    "papermill": {
     "duration": 0.029037,
     "end_time": "2022-05-09T06:46:36.378010",
     "exception": false,
     "start_time": "2022-05-09T06:46:36.348973",
     "status": "completed"
    },
    "tags": []
   },
   "source": [
    "---\n",
    "\n",
    "\n",
    "\n",
    "\n",
    "*Have questions or comments? Visit the [course discussion forum](https://www.kaggle.com/learn/intermediate-machine-learning/discussion) to chat with other learners.*"
   ]
  }
 ],
 "metadata": {
  "kernelspec": {
   "display_name": "Python 3",
   "language": "python",
   "name": "python3"
  },
  "language_info": {
   "codemirror_mode": {
    "name": "ipython",
    "version": 3
   },
   "file_extension": ".py",
   "mimetype": "text/x-python",
   "name": "python",
   "nbconvert_exporter": "python",
   "pygments_lexer": "ipython3",
   "version": "3.7.12"
  },
  "papermill": {
   "default_parameters": {},
   "duration": 19.015979,
   "end_time": "2022-05-09T06:46:37.129428",
   "environment_variables": {},
   "exception": null,
   "input_path": "__notebook__.ipynb",
   "output_path": "__notebook__.ipynb",
   "parameters": {},
   "start_time": "2022-05-09T06:46:18.113449",
   "version": "2.3.4"
  }
 },
 "nbformat": 4,
 "nbformat_minor": 5
}
