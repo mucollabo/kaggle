{
 "cells": [
  {
   "cell_type": "markdown",
   "id": "81f9b04d",
   "metadata": {
    "papermill": {
     "duration": 0.04101,
     "end_time": "2022-04-29T08:04:42.888001",
     "exception": false,
     "start_time": "2022-04-29T08:04:42.846991",
     "status": "completed"
    },
    "tags": []
   },
   "source": [
    "**This notebook is an exercise in the [Intermediate Machine Learning](https://www.kaggle.com/learn/intermediate-machine-learning) course.  You can reference the tutorial at [this link](https://www.kaggle.com/alexisbcook/missing-values).**\n",
    "\n",
    "---\n"
   ]
  },
  {
   "cell_type": "markdown",
   "id": "ae4d51d7",
   "metadata": {
    "papermill": {
     "duration": 0.040046,
     "end_time": "2022-04-29T08:04:42.968964",
     "exception": false,
     "start_time": "2022-04-29T08:04:42.928918",
     "status": "completed"
    },
    "tags": []
   },
   "source": [
    "Now it's your turn to test your new knowledge of **missing values** handling. You'll probably find it makes a big difference.\n",
    "\n",
    "# Setup\n",
    "\n",
    "The questions will give you feedback on your work. Run the following cell to set up the feedback system."
   ]
  },
  {
   "cell_type": "code",
   "execution_count": 1,
   "id": "e9610be8",
   "metadata": {
    "execution": {
     "iopub.execute_input": "2022-04-29T08:04:43.056466Z",
     "iopub.status.busy": "2022-04-29T08:04:43.055343Z",
     "iopub.status.idle": "2022-04-29T08:04:43.119031Z",
     "shell.execute_reply": "2022-04-29T08:04:43.117722Z"
    },
    "papermill": {
     "duration": 0.112293,
     "end_time": "2022-04-29T08:04:43.123101",
     "exception": false,
     "start_time": "2022-04-29T08:04:43.010808",
     "status": "completed"
    },
    "tags": []
   },
   "outputs": [
    {
     "name": "stdout",
     "output_type": "stream",
     "text": [
      "Setup Complete\n"
     ]
    }
   ],
   "source": [
    "# Set up code checking\n",
    "import os\n",
    "if not os.path.exists(\"../input/train.csv\"):\n",
    "    os.symlink(\"../input/home-data-for-ml-course/train.csv\", \"../input/train.csv\")  \n",
    "    os.symlink(\"../input/home-data-for-ml-course/test.csv\", \"../input/test.csv\") \n",
    "from learntools.core import binder\n",
    "binder.bind(globals())\n",
    "from learntools.ml_intermediate.ex2 import *\n",
    "print(\"Setup Complete\")"
   ]
  },
  {
   "cell_type": "markdown",
   "id": "bfbc8772",
   "metadata": {
    "papermill": {
     "duration": 0.041984,
     "end_time": "2022-04-29T08:04:43.212790",
     "exception": false,
     "start_time": "2022-04-29T08:04:43.170806",
     "status": "completed"
    },
    "tags": []
   },
   "source": [
    "In this exercise, you will work with data from the [Housing Prices Competition for Kaggle Learn Users](https://www.kaggle.com/c/home-data-for-ml-course). \n",
    "\n",
    "![Ames Housing dataset image](https://i.imgur.com/lTJVG4e.png)\n",
    "\n",
    "Run the next code cell without changes to load the training and validation sets in `X_train`, `X_valid`, `y_train`, and `y_valid`.  The test set is loaded in `X_test`."
   ]
  },
  {
   "cell_type": "code",
   "execution_count": 2,
   "id": "bc266b2b",
   "metadata": {
    "execution": {
     "iopub.execute_input": "2022-04-29T08:04:43.300374Z",
     "iopub.status.busy": "2022-04-29T08:04:43.300063Z",
     "iopub.status.idle": "2022-04-29T08:04:44.668837Z",
     "shell.execute_reply": "2022-04-29T08:04:44.667899Z"
    },
    "papermill": {
     "duration": 1.415809,
     "end_time": "2022-04-29T08:04:44.671900",
     "exception": false,
     "start_time": "2022-04-29T08:04:43.256091",
     "status": "completed"
    },
    "tags": []
   },
   "outputs": [],
   "source": [
    "import pandas as pd\n",
    "from sklearn.model_selection import train_test_split\n",
    "\n",
    "# Read the data\n",
    "X_full = pd.read_csv('../input/train.csv', index_col='Id')\n",
    "X_test_full = pd.read_csv('../input/test.csv', index_col='Id')\n",
    "\n",
    "# Remove rows with missing target, separate target from predictors\n",
    "X_full.dropna(axis=0, subset=['SalePrice'], inplace=True)\n",
    "y = X_full.SalePrice\n",
    "X_full.drop(['SalePrice'], axis=1, inplace=True)\n",
    "\n",
    "# To keep things simple, we'll use only numerical predictors\n",
    "X = X_full.select_dtypes(exclude=['object'])\n",
    "X_test = X_test_full.select_dtypes(exclude=['object'])\n",
    "\n",
    "# Break off validation set from training data\n",
    "X_train, X_valid, y_train, y_valid = train_test_split(X, y, train_size=0.8, test_size=0.2,\n",
    "                                                      random_state=0)"
   ]
  },
  {
   "cell_type": "code",
   "execution_count": 3,
   "id": "cf4ff126",
   "metadata": {
    "execution": {
     "iopub.execute_input": "2022-04-29T08:04:44.756268Z",
     "iopub.status.busy": "2022-04-29T08:04:44.755907Z",
     "iopub.status.idle": "2022-04-29T08:04:44.768521Z",
     "shell.execute_reply": "2022-04-29T08:04:44.767624Z"
    },
    "papermill": {
     "duration": 0.057927,
     "end_time": "2022-04-29T08:04:44.771854",
     "exception": false,
     "start_time": "2022-04-29T08:04:44.713927",
     "status": "completed"
    },
    "tags": []
   },
   "outputs": [
    {
     "name": "stdout",
     "output_type": "stream",
     "text": [
      "shape of X_full:  (1460, 79)\n",
      "shape of X_test_full:  (1459, 79)\n",
      "shape of y:  (1460,)\n",
      "name of y(Series):  SalePrice\n",
      "shape of X:  (1460, 36)\n",
      "columns of X:  Index(['MSSubClass', 'LotFrontage', 'LotArea', 'OverallQual', 'OverallCond',\n",
      "       'YearBuilt', 'YearRemodAdd', 'MasVnrArea', 'BsmtFinSF1', 'BsmtFinSF2',\n",
      "       'BsmtUnfSF', 'TotalBsmtSF', '1stFlrSF', '2ndFlrSF', 'LowQualFinSF',\n",
      "       'GrLivArea', 'BsmtFullBath', 'BsmtHalfBath', 'FullBath', 'HalfBath',\n",
      "       'BedroomAbvGr', 'KitchenAbvGr', 'TotRmsAbvGrd', 'Fireplaces',\n",
      "       'GarageYrBlt', 'GarageCars', 'GarageArea', 'WoodDeckSF', 'OpenPorchSF',\n",
      "       'EnclosedPorch', '3SsnPorch', 'ScreenPorch', 'PoolArea', 'MiscVal',\n",
      "       'MoSold', 'YrSold'],\n",
      "      dtype='object')\n",
      "shape of X_test:  (1459, 36)\n",
      "columns of X_test:  Index(['MSSubClass', 'LotFrontage', 'LotArea', 'OverallQual', 'OverallCond',\n",
      "       'YearBuilt', 'YearRemodAdd', 'MasVnrArea', 'BsmtFinSF1', 'BsmtFinSF2',\n",
      "       'BsmtUnfSF', 'TotalBsmtSF', '1stFlrSF', '2ndFlrSF', 'LowQualFinSF',\n",
      "       'GrLivArea', 'BsmtFullBath', 'BsmtHalfBath', 'FullBath', 'HalfBath',\n",
      "       'BedroomAbvGr', 'KitchenAbvGr', 'TotRmsAbvGrd', 'Fireplaces',\n",
      "       'GarageYrBlt', 'GarageCars', 'GarageArea', 'WoodDeckSF', 'OpenPorchSF',\n",
      "       'EnclosedPorch', '3SsnPorch', 'ScreenPorch', 'PoolArea', 'MiscVal',\n",
      "       'MoSold', 'YrSold'],\n",
      "      dtype='object')\n",
      "shape of X_train:  (1168, 36)\n",
      "shape of X_valid:  (292, 36)\n",
      "shape of y_train:  (1168,)\n",
      "shape of y_valid:  (292,)\n"
     ]
    }
   ],
   "source": [
    "print(\"shape of X_full: \", X_full.shape)\n",
    "print(\"shape of X_test_full: \", X_test_full.shape)\n",
    "print(\"shape of y: \", y.shape)\n",
    "print(\"name of y(Series): \", y.name)\n",
    "print(\"shape of X: \", X.shape)\n",
    "print(\"columns of X: \", X.columns)\n",
    "print(\"shape of X_test: \", X_test.shape)\n",
    "print(\"columns of X_test: \", X_test.columns)\n",
    "print(\"shape of X_train: \", X_train.shape)\n",
    "print(\"shape of X_valid: \", X_valid.shape)\n",
    "print(\"shape of y_train: \", y_train.shape)\n",
    "print(\"shape of y_valid: \", y_valid.shape)"
   ]
  },
  {
   "cell_type": "markdown",
   "id": "e57100e7",
   "metadata": {
    "papermill": {
     "duration": 0.043529,
     "end_time": "2022-04-29T08:04:44.855929",
     "exception": false,
     "start_time": "2022-04-29T08:04:44.812400",
     "status": "completed"
    },
    "tags": []
   },
   "source": [
    "Use the next code cell to print the first five rows of the data."
   ]
  },
  {
   "cell_type": "markdown",
   "id": "3ed0afdc",
   "metadata": {
    "papermill": {
     "duration": 0.040138,
     "end_time": "2022-04-29T08:04:44.937297",
     "exception": false,
     "start_time": "2022-04-29T08:04:44.897159",
     "status": "completed"
    },
    "tags": []
   },
   "source": [
    "You can already see a few missing values in the first several rows.  In the next step, you'll obtain a more comprehensive understanding of the missing values in the dataset.\n",
    "\n",
    "# Step 1: Preliminary investigation\n",
    "\n",
    "Run the code cell below without changes."
   ]
  },
  {
   "cell_type": "code",
   "execution_count": 4,
   "id": "0158513d",
   "metadata": {
    "execution": {
     "iopub.execute_input": "2022-04-29T08:04:45.021970Z",
     "iopub.status.busy": "2022-04-29T08:04:45.021209Z",
     "iopub.status.idle": "2022-04-29T08:04:45.029943Z",
     "shell.execute_reply": "2022-04-29T08:04:45.029214Z"
    },
    "papermill": {
     "duration": 0.054618,
     "end_time": "2022-04-29T08:04:45.033283",
     "exception": false,
     "start_time": "2022-04-29T08:04:44.978665",
     "status": "completed"
    },
    "tags": []
   },
   "outputs": [
    {
     "name": "stdout",
     "output_type": "stream",
     "text": [
      "(1168, 36)\n",
      "LotFrontage    212\n",
      "MasVnrArea       6\n",
      "GarageYrBlt     58\n",
      "dtype: int64\n"
     ]
    }
   ],
   "source": [
    "# Shape of training data (num_rows, num_columns)\n",
    "print(X_train.shape)\n",
    "\n",
    "# Number of missing values in each column of training data\n",
    "missing_val_count_by_column = (X_train.isnull().sum())\n",
    "print(missing_val_count_by_column[missing_val_count_by_column > 0])"
   ]
  },
  {
   "cell_type": "code",
   "execution_count": 5,
   "id": "66eaabf4",
   "metadata": {
    "execution": {
     "iopub.execute_input": "2022-04-29T08:04:45.120044Z",
     "iopub.status.busy": "2022-04-29T08:04:45.119547Z",
     "iopub.status.idle": "2022-04-29T08:04:45.127419Z",
     "shell.execute_reply": "2022-04-29T08:04:45.126842Z"
    },
    "papermill": {
     "duration": 0.052539,
     "end_time": "2022-04-29T08:04:45.129402",
     "exception": false,
     "start_time": "2022-04-29T08:04:45.076863",
     "status": "completed"
    },
    "tags": []
   },
   "outputs": [
    {
     "data": {
      "text/plain": [
       "276"
      ]
     },
     "execution_count": 5,
     "metadata": {},
     "output_type": "execute_result"
    }
   ],
   "source": [
    "missing_val_count_by_column.sum()"
   ]
  },
  {
   "cell_type": "markdown",
   "id": "8520bf67",
   "metadata": {
    "papermill": {
     "duration": 0.04559,
     "end_time": "2022-04-29T08:04:45.217008",
     "exception": false,
     "start_time": "2022-04-29T08:04:45.171418",
     "status": "completed"
    },
    "tags": []
   },
   "source": [
    "### Part A\n",
    "\n",
    "Use the above output to answer the questions below."
   ]
  },
  {
   "cell_type": "code",
   "execution_count": 6,
   "id": "e2b961d4",
   "metadata": {
    "execution": {
     "iopub.execute_input": "2022-04-29T08:04:45.302640Z",
     "iopub.status.busy": "2022-04-29T08:04:45.302316Z",
     "iopub.status.idle": "2022-04-29T08:04:45.310144Z",
     "shell.execute_reply": "2022-04-29T08:04:45.309555Z"
    },
    "papermill": {
     "duration": 0.054268,
     "end_time": "2022-04-29T08:04:45.313251",
     "exception": false,
     "start_time": "2022-04-29T08:04:45.258983",
     "status": "completed"
    },
    "tags": []
   },
   "outputs": [
    {
     "data": {
      "application/javascript": [
       "parent.postMessage({\"jupyterEvent\": \"custom.exercise_interaction\", \"data\": {\"outcomeType\": 1, \"valueTowardsCompletion\": 1.0, \"interactionType\": 1, \"questionType\": 1, \"questionId\": \"1.1_InvestigateEquality\", \"learnToolsVersion\": \"0.3.4\", \"failureMessage\": \"\", \"exceptionClass\": \"\", \"trace\": \"\"}}, \"*\")"
      ],
      "text/plain": [
       "<IPython.core.display.Javascript object>"
      ]
     },
     "metadata": {},
     "output_type": "display_data"
    },
    {
     "data": {
      "text/markdown": [
       "<span style=\"color:#33cc33\">Correct</span>"
      ],
      "text/plain": [
       "Correct"
      ]
     },
     "metadata": {},
     "output_type": "display_data"
    }
   ],
   "source": [
    "# Fill in the line below: How many rows are in the training data?\n",
    "num_rows = 1168\n",
    "\n",
    "# Fill in the line below: How many columns in the training data\n",
    "# have missing values?\n",
    "num_cols_with_missing = 3\n",
    "\n",
    "# Fill in the line below: How many missing entries are contained in \n",
    "# all of the training data?\n",
    "tot_missing = missing_val_count_by_column.sum()\n",
    "\n",
    "# Check your answers\n",
    "step_1.a.check()"
   ]
  },
  {
   "cell_type": "code",
   "execution_count": 7,
   "id": "bd7500aa",
   "metadata": {
    "execution": {
     "iopub.execute_input": "2022-04-29T08:04:45.402597Z",
     "iopub.status.busy": "2022-04-29T08:04:45.402253Z",
     "iopub.status.idle": "2022-04-29T08:04:45.406356Z",
     "shell.execute_reply": "2022-04-29T08:04:45.405402Z"
    },
    "papermill": {
     "duration": 0.051346,
     "end_time": "2022-04-29T08:04:45.408605",
     "exception": false,
     "start_time": "2022-04-29T08:04:45.357259",
     "status": "completed"
    },
    "tags": []
   },
   "outputs": [],
   "source": [
    "# Lines below will give you a hint or solution code\n",
    "#step_1.a.hint()\n",
    "#step_1.a.solution()"
   ]
  },
  {
   "cell_type": "markdown",
   "id": "b19eb76c",
   "metadata": {
    "papermill": {
     "duration": 0.043969,
     "end_time": "2022-04-29T08:04:45.497005",
     "exception": false,
     "start_time": "2022-04-29T08:04:45.453036",
     "status": "completed"
    },
    "tags": []
   },
   "source": [
    "### Part B\n",
    "Considering your answers above, what do you think is likely the best approach to dealing with the missing values?"
   ]
  },
  {
   "cell_type": "code",
   "execution_count": 8,
   "id": "115e3f8c",
   "metadata": {
    "execution": {
     "iopub.execute_input": "2022-04-29T08:04:45.586637Z",
     "iopub.status.busy": "2022-04-29T08:04:45.586296Z",
     "iopub.status.idle": "2022-04-29T08:04:45.594025Z",
     "shell.execute_reply": "2022-04-29T08:04:45.593131Z"
    },
    "papermill": {
     "duration": 0.056478,
     "end_time": "2022-04-29T08:04:45.596433",
     "exception": false,
     "start_time": "2022-04-29T08:04:45.539955",
     "status": "completed"
    },
    "tags": []
   },
   "outputs": [
    {
     "data": {
      "application/javascript": [
       "parent.postMessage({\"jupyterEvent\": \"custom.exercise_interaction\", \"data\": {\"outcomeType\": 1, \"valueTowardsCompletion\": 1.0, \"interactionType\": 1, \"questionType\": 4, \"questionId\": \"1.2_InvestigateThought\", \"learnToolsVersion\": \"0.3.4\", \"failureMessage\": \"\", \"exceptionClass\": \"\", \"trace\": \"\"}}, \"*\")"
      ],
      "text/plain": [
       "<IPython.core.display.Javascript object>"
      ]
     },
     "metadata": {},
     "output_type": "display_data"
    },
    {
     "data": {
      "text/markdown": [
       "<span style=\"color:#33cc33\">Correct:</span> \n",
       "\n",
       "Since there are relatively few missing entries in the data (the column with the greatest percentage of missing values is missing less than 20% of its entries), we can expect that dropping columns is unlikely to yield good results.  This is because we'd be throwing away a lot of valuable data, and so imputation will likely perform better."
      ],
      "text/plain": [
       "Correct: \n",
       "\n",
       "Since there are relatively few missing entries in the data (the column with the greatest percentage of missing values is missing less than 20% of its entries), we can expect that dropping columns is unlikely to yield good results.  This is because we'd be throwing away a lot of valuable data, and so imputation will likely perform better."
      ]
     },
     "metadata": {},
     "output_type": "display_data"
    }
   ],
   "source": [
    "# Check your answer (Run this code cell to receive credit!)\n",
    "step_1.b.check()"
   ]
  },
  {
   "cell_type": "code",
   "execution_count": 9,
   "id": "ac75ef2b",
   "metadata": {
    "execution": {
     "iopub.execute_input": "2022-04-29T08:04:45.687550Z",
     "iopub.status.busy": "2022-04-29T08:04:45.687029Z",
     "iopub.status.idle": "2022-04-29T08:04:45.691062Z",
     "shell.execute_reply": "2022-04-29T08:04:45.690321Z"
    },
    "papermill": {
     "duration": 0.052111,
     "end_time": "2022-04-29T08:04:45.693170",
     "exception": false,
     "start_time": "2022-04-29T08:04:45.641059",
     "status": "completed"
    },
    "tags": []
   },
   "outputs": [],
   "source": [
    "#step_1.b.hint()"
   ]
  },
  {
   "cell_type": "markdown",
   "id": "e15545de",
   "metadata": {
    "papermill": {
     "duration": 0.04437,
     "end_time": "2022-04-29T08:04:45.782389",
     "exception": false,
     "start_time": "2022-04-29T08:04:45.738019",
     "status": "completed"
    },
    "tags": []
   },
   "source": [
    "To compare different approaches to dealing with missing values, you'll use the same `score_dataset()` function from the tutorial.  This function reports the [mean absolute error](https://en.wikipedia.org/wiki/Mean_absolute_error) (MAE) from a random forest model."
   ]
  },
  {
   "cell_type": "code",
   "execution_count": 10,
   "id": "d57e7ff0",
   "metadata": {
    "execution": {
     "iopub.execute_input": "2022-04-29T08:04:45.876263Z",
     "iopub.status.busy": "2022-04-29T08:04:45.875966Z",
     "iopub.status.idle": "2022-04-29T08:04:46.115588Z",
     "shell.execute_reply": "2022-04-29T08:04:46.114651Z"
    },
    "papermill": {
     "duration": 0.29101,
     "end_time": "2022-04-29T08:04:46.118128",
     "exception": false,
     "start_time": "2022-04-29T08:04:45.827118",
     "status": "completed"
    },
    "tags": []
   },
   "outputs": [],
   "source": [
    "from sklearn.ensemble import RandomForestRegressor\n",
    "from sklearn.metrics import mean_absolute_error\n",
    "\n",
    "# Function for comparing different approaches\n",
    "def score_dataset(X_train, X_valid, y_train, y_valid):\n",
    "    model = RandomForestRegressor(n_estimators=100, random_state=0)\n",
    "    model.fit(X_train, y_train)\n",
    "    preds = model.predict(X_valid)\n",
    "    return mean_absolute_error(y_valid, preds)"
   ]
  },
  {
   "cell_type": "markdown",
   "id": "792c9215",
   "metadata": {
    "papermill": {
     "duration": 0.044832,
     "end_time": "2022-04-29T08:04:46.206947",
     "exception": false,
     "start_time": "2022-04-29T08:04:46.162115",
     "status": "completed"
    },
    "tags": []
   },
   "source": [
    "# Step 2: Drop columns with missing values\n",
    "\n",
    "In this step, you'll preprocess the data in `X_train` and `X_valid` to remove columns with missing values.  Set the preprocessed DataFrames to `reduced_X_train` and `reduced_X_valid`, respectively.  "
   ]
  },
  {
   "cell_type": "code",
   "execution_count": 11,
   "id": "b8052b7c",
   "metadata": {
    "execution": {
     "iopub.execute_input": "2022-04-29T08:04:46.302697Z",
     "iopub.status.busy": "2022-04-29T08:04:46.302366Z",
     "iopub.status.idle": "2022-04-29T08:04:46.329290Z",
     "shell.execute_reply": "2022-04-29T08:04:46.328646Z"
    },
    "papermill": {
     "duration": 0.077017,
     "end_time": "2022-04-29T08:04:46.331250",
     "exception": false,
     "start_time": "2022-04-29T08:04:46.254233",
     "status": "completed"
    },
    "tags": []
   },
   "outputs": [
    {
     "data": {
      "application/javascript": [
       "parent.postMessage({\"jupyterEvent\": \"custom.exercise_interaction\", \"data\": {\"outcomeType\": 1, \"valueTowardsCompletion\": 1.0, \"interactionType\": 1, \"questionType\": 2, \"questionId\": \"2_DropMissing\", \"learnToolsVersion\": \"0.3.4\", \"failureMessage\": \"\", \"exceptionClass\": \"\", \"trace\": \"\"}}, \"*\")"
      ],
      "text/plain": [
       "<IPython.core.display.Javascript object>"
      ]
     },
     "metadata": {},
     "output_type": "display_data"
    },
    {
     "data": {
      "text/markdown": [
       "<span style=\"color:#33cc33\">Correct</span>"
      ],
      "text/plain": [
       "Correct"
      ]
     },
     "metadata": {},
     "output_type": "display_data"
    }
   ],
   "source": [
    "# Fill in the line below: get names of columns with missing values\n",
    "cols_with_missing = [col for col in X_train.columns if X_train[col].isnull().any()] # Your code here\n",
    "\n",
    "# Fill in the lines below: drop columns in training and validation data\n",
    "reduced_X_train = X_train.drop(cols_with_missing, axis=1)\n",
    "reduced_X_valid = X_valid.drop(cols_with_missing, axis=1)\n",
    "\n",
    "# Check your answers\n",
    "step_2.check()"
   ]
  },
  {
   "cell_type": "code",
   "execution_count": 12,
   "id": "35fd8147",
   "metadata": {
    "execution": {
     "iopub.execute_input": "2022-04-29T08:04:46.424070Z",
     "iopub.status.busy": "2022-04-29T08:04:46.423223Z",
     "iopub.status.idle": "2022-04-29T08:04:46.428806Z",
     "shell.execute_reply": "2022-04-29T08:04:46.428010Z"
    },
    "papermill": {
     "duration": 0.054855,
     "end_time": "2022-04-29T08:04:46.431116",
     "exception": false,
     "start_time": "2022-04-29T08:04:46.376261",
     "status": "completed"
    },
    "tags": []
   },
   "outputs": [
    {
     "name": "stdout",
     "output_type": "stream",
     "text": [
      "(1168, 33)\n",
      "(292, 33)\n"
     ]
    }
   ],
   "source": [
    "# confirm the number of droped columns\n",
    "print(reduced_X_train.shape)\n",
    "print(reduced_X_valid.shape)"
   ]
  },
  {
   "cell_type": "code",
   "execution_count": 13,
   "id": "a12509ac",
   "metadata": {
    "execution": {
     "iopub.execute_input": "2022-04-29T08:04:46.529801Z",
     "iopub.status.busy": "2022-04-29T08:04:46.529218Z",
     "iopub.status.idle": "2022-04-29T08:04:46.532416Z",
     "shell.execute_reply": "2022-04-29T08:04:46.531773Z"
    },
    "papermill": {
     "duration": 0.052977,
     "end_time": "2022-04-29T08:04:46.534423",
     "exception": false,
     "start_time": "2022-04-29T08:04:46.481446",
     "status": "completed"
    },
    "tags": []
   },
   "outputs": [],
   "source": [
    "# Lines below will give you a hint or solution code\n",
    "#step_2.hint()\n",
    "#step_2.solution()"
   ]
  },
  {
   "cell_type": "markdown",
   "id": "c7c2440f",
   "metadata": {
    "papermill": {
     "duration": 0.04604,
     "end_time": "2022-04-29T08:04:46.628004",
     "exception": false,
     "start_time": "2022-04-29T08:04:46.581964",
     "status": "completed"
    },
    "tags": []
   },
   "source": [
    "Run the next code cell without changes to obtain the MAE for this approach."
   ]
  },
  {
   "cell_type": "code",
   "execution_count": 14,
   "id": "068c6274",
   "metadata": {
    "execution": {
     "iopub.execute_input": "2022-04-29T08:04:46.724825Z",
     "iopub.status.busy": "2022-04-29T08:04:46.724270Z",
     "iopub.status.idle": "2022-04-29T08:04:47.888296Z",
     "shell.execute_reply": "2022-04-29T08:04:47.886902Z"
    },
    "papermill": {
     "duration": 1.216911,
     "end_time": "2022-04-29T08:04:47.891043",
     "exception": false,
     "start_time": "2022-04-29T08:04:46.674132",
     "status": "completed"
    },
    "tags": []
   },
   "outputs": [
    {
     "name": "stdout",
     "output_type": "stream",
     "text": [
      "MAE (Drop columns with missing values):\n",
      "17837.82570776256\n"
     ]
    }
   ],
   "source": [
    "print(\"MAE (Drop columns with missing values):\")\n",
    "print(score_dataset(reduced_X_train, reduced_X_valid, y_train, y_valid))"
   ]
  },
  {
   "cell_type": "markdown",
   "id": "617e42df",
   "metadata": {
    "papermill": {
     "duration": 0.048967,
     "end_time": "2022-04-29T08:04:47.988060",
     "exception": false,
     "start_time": "2022-04-29T08:04:47.939093",
     "status": "completed"
    },
    "tags": []
   },
   "source": [
    "# Step 3: Imputation\n",
    "\n",
    "### Part A\n",
    "\n",
    "Use the next code cell to impute missing values with the mean value along each column.  Set the preprocessed DataFrames to `imputed_X_train` and `imputed_X_valid`.  Make sure that the column names match those in `X_train` and `X_valid`."
   ]
  },
  {
   "cell_type": "code",
   "execution_count": 15,
   "id": "16d00c41",
   "metadata": {
    "execution": {
     "iopub.execute_input": "2022-04-29T08:04:48.086584Z",
     "iopub.status.busy": "2022-04-29T08:04:48.086276Z",
     "iopub.status.idle": "2022-04-29T08:04:48.125929Z",
     "shell.execute_reply": "2022-04-29T08:04:48.124942Z"
    },
    "papermill": {
     "duration": 0.089804,
     "end_time": "2022-04-29T08:04:48.128418",
     "exception": false,
     "start_time": "2022-04-29T08:04:48.038614",
     "status": "completed"
    },
    "tags": []
   },
   "outputs": [
    {
     "data": {
      "application/javascript": [
       "parent.postMessage({\"jupyterEvent\": \"custom.exercise_interaction\", \"data\": {\"outcomeType\": 1, \"valueTowardsCompletion\": 1.0, \"interactionType\": 1, \"questionType\": 2, \"questionId\": \"3.1_ImputeCode\", \"learnToolsVersion\": \"0.3.4\", \"failureMessage\": \"\", \"exceptionClass\": \"\", \"trace\": \"\"}}, \"*\")"
      ],
      "text/plain": [
       "<IPython.core.display.Javascript object>"
      ]
     },
     "metadata": {},
     "output_type": "display_data"
    },
    {
     "data": {
      "text/markdown": [
       "<span style=\"color:#33cc33\">Correct</span>"
      ],
      "text/plain": [
       "Correct"
      ]
     },
     "metadata": {},
     "output_type": "display_data"
    }
   ],
   "source": [
    "from sklearn.impute import SimpleImputer\n",
    "\n",
    "# Fill in the lines below: imputation\n",
    "my_imputer = SimpleImputer() # Your code here\n",
    "imputed_X_train = pd.DataFrame(my_imputer.fit_transform(X_train))\n",
    "imputed_X_valid = pd.DataFrame(my_imputer.transform(X_valid))\n",
    "\n",
    "# Fill in the lines below: imputation removed column names; put them back\n",
    "imputed_X_train.columns = X_train.columns\n",
    "imputed_X_valid.columns = X_valid.columns\n",
    "\n",
    "# Check your answers\n",
    "step_3.a.check()"
   ]
  },
  {
   "cell_type": "code",
   "execution_count": 16,
   "id": "b6bc900b",
   "metadata": {
    "execution": {
     "iopub.execute_input": "2022-04-29T08:04:48.226185Z",
     "iopub.status.busy": "2022-04-29T08:04:48.225539Z",
     "iopub.status.idle": "2022-04-29T08:04:48.231272Z",
     "shell.execute_reply": "2022-04-29T08:04:48.230554Z"
    },
    "papermill": {
     "duration": 0.057859,
     "end_time": "2022-04-29T08:04:48.234282",
     "exception": false,
     "start_time": "2022-04-29T08:04:48.176423",
     "status": "completed"
    },
    "tags": []
   },
   "outputs": [
    {
     "name": "stdout",
     "output_type": "stream",
     "text": [
      "(1168, 36)\n",
      "(292, 36)\n"
     ]
    }
   ],
   "source": [
    "print(imputed_X_train.shape)\n",
    "print(imputed_X_valid.shape)"
   ]
  },
  {
   "cell_type": "code",
   "execution_count": 17,
   "id": "ca36bb63",
   "metadata": {
    "execution": {
     "iopub.execute_input": "2022-04-29T08:04:48.333980Z",
     "iopub.status.busy": "2022-04-29T08:04:48.332942Z",
     "iopub.status.idle": "2022-04-29T08:04:48.336643Z",
     "shell.execute_reply": "2022-04-29T08:04:48.335928Z"
    },
    "papermill": {
     "duration": 0.056133,
     "end_time": "2022-04-29T08:04:48.338645",
     "exception": false,
     "start_time": "2022-04-29T08:04:48.282512",
     "status": "completed"
    },
    "tags": []
   },
   "outputs": [],
   "source": [
    "# Lines below will give you a hint or solution code\n",
    "# step_3.a.hint()\n",
    "#step_3.a.solution()"
   ]
  },
  {
   "cell_type": "markdown",
   "id": "f8e987f4",
   "metadata": {
    "papermill": {
     "duration": 0.047491,
     "end_time": "2022-04-29T08:04:48.434209",
     "exception": false,
     "start_time": "2022-04-29T08:04:48.386718",
     "status": "completed"
    },
    "tags": []
   },
   "source": [
    "Run the next code cell without changes to obtain the MAE for this approach."
   ]
  },
  {
   "cell_type": "code",
   "execution_count": 18,
   "id": "5daecdf9",
   "metadata": {
    "execution": {
     "iopub.execute_input": "2022-04-29T08:04:48.533681Z",
     "iopub.status.busy": "2022-04-29T08:04:48.532736Z",
     "iopub.status.idle": "2022-04-29T08:04:49.804997Z",
     "shell.execute_reply": "2022-04-29T08:04:49.804032Z"
    },
    "papermill": {
     "duration": 1.32375,
     "end_time": "2022-04-29T08:04:49.807404",
     "exception": false,
     "start_time": "2022-04-29T08:04:48.483654",
     "status": "completed"
    },
    "tags": []
   },
   "outputs": [
    {
     "name": "stdout",
     "output_type": "stream",
     "text": [
      "MAE (Imputation):\n",
      "18062.894611872147\n"
     ]
    }
   ],
   "source": [
    "print(\"MAE (Imputation):\")\n",
    "print(score_dataset(imputed_X_train, imputed_X_valid, y_train, y_valid))"
   ]
  },
  {
   "cell_type": "markdown",
   "id": "894d282b",
   "metadata": {
    "papermill": {
     "duration": 0.049595,
     "end_time": "2022-04-29T08:04:49.906049",
     "exception": false,
     "start_time": "2022-04-29T08:04:49.856454",
     "status": "completed"
    },
    "tags": []
   },
   "source": [
    "### Part B\n",
    "\n",
    "Compare the MAE from each approach.  Does anything surprise you about the results?  Why do you think one approach performed better than the other?"
   ]
  },
  {
   "cell_type": "code",
   "execution_count": 19,
   "id": "8cd73dc9",
   "metadata": {
    "execution": {
     "iopub.execute_input": "2022-04-29T08:04:50.009859Z",
     "iopub.status.busy": "2022-04-29T08:04:50.008924Z",
     "iopub.status.idle": "2022-04-29T08:04:50.018309Z",
     "shell.execute_reply": "2022-04-29T08:04:50.017125Z"
    },
    "papermill": {
     "duration": 0.064104,
     "end_time": "2022-04-29T08:04:50.021308",
     "exception": false,
     "start_time": "2022-04-29T08:04:49.957204",
     "status": "completed"
    },
    "tags": []
   },
   "outputs": [
    {
     "data": {
      "application/javascript": [
       "parent.postMessage({\"jupyterEvent\": \"custom.exercise_interaction\", \"data\": {\"outcomeType\": 1, \"valueTowardsCompletion\": 1.0, \"interactionType\": 1, \"questionType\": 4, \"questionId\": \"3.2_ImputeThought\", \"learnToolsVersion\": \"0.3.4\", \"failureMessage\": \"\", \"exceptionClass\": \"\", \"trace\": \"\"}}, \"*\")"
      ],
      "text/plain": [
       "<IPython.core.display.Javascript object>"
      ]
     },
     "metadata": {},
     "output_type": "display_data"
    },
    {
     "data": {
      "text/markdown": [
       "<span style=\"color:#33cc33\">Correct:</span> \n",
       "\n",
       "Given that thre are so few missing values in the dataset, we'd expect imputation to perform better than dropping columns entirely.  However, we see that dropping columns performs slightly better!  While this can probably partially be attributed to noise in the dataset, another potential explanation is that the imputation method is not a great match to this dataset.  That is, maybe instead of filling in the mean value, it makes more sense to set every missing value to a value of 0, to fill in the most frequently encountered value, or to use some other method.  For instance, consider the `GarageYrBlt` column (which indicates the year that the garage was built).  It's likely that in some cases, a missing value could indicate a house that does not have a garage.  Does it make more sense to fill in the median value along each column in this case?  Or could we get better results by filling in the minimum value along each column?  It's not quite clear what's best in this case, but perhaps we can rule out some options immediately - for instance, setting missing values in this column to 0 is likely to yield horrible results!"
      ],
      "text/plain": [
       "Correct: \n",
       "\n",
       "Given that thre are so few missing values in the dataset, we'd expect imputation to perform better than dropping columns entirely.  However, we see that dropping columns performs slightly better!  While this can probably partially be attributed to noise in the dataset, another potential explanation is that the imputation method is not a great match to this dataset.  That is, maybe instead of filling in the mean value, it makes more sense to set every missing value to a value of 0, to fill in the most frequently encountered value, or to use some other method.  For instance, consider the `GarageYrBlt` column (which indicates the year that the garage was built).  It's likely that in some cases, a missing value could indicate a house that does not have a garage.  Does it make more sense to fill in the median value along each column in this case?  Or could we get better results by filling in the minimum value along each column?  It's not quite clear what's best in this case, but perhaps we can rule out some options immediately - for instance, setting missing values in this column to 0 is likely to yield horrible results!"
      ]
     },
     "metadata": {},
     "output_type": "display_data"
    }
   ],
   "source": [
    "# Check your answer (Run this code cell to receive credit!)\n",
    "step_3.b.check()"
   ]
  },
  {
   "cell_type": "code",
   "execution_count": 20,
   "id": "e459187a",
   "metadata": {
    "execution": {
     "iopub.execute_input": "2022-04-29T08:04:50.130103Z",
     "iopub.status.busy": "2022-04-29T08:04:50.129798Z",
     "iopub.status.idle": "2022-04-29T08:04:50.133230Z",
     "shell.execute_reply": "2022-04-29T08:04:50.132496Z"
    },
    "papermill": {
     "duration": 0.061379,
     "end_time": "2022-04-29T08:04:50.135205",
     "exception": false,
     "start_time": "2022-04-29T08:04:50.073826",
     "status": "completed"
    },
    "tags": []
   },
   "outputs": [],
   "source": [
    "#step_3.b.hint()"
   ]
  },
  {
   "cell_type": "markdown",
   "id": "92e01c08",
   "metadata": {
    "papermill": {
     "duration": 0.053726,
     "end_time": "2022-04-29T08:04:50.239670",
     "exception": false,
     "start_time": "2022-04-29T08:04:50.185944",
     "status": "completed"
    },
    "tags": []
   },
   "source": [
    "# Step 4: Generate test predictions\n",
    "\n",
    "In this final step, you'll use any approach of your choosing to deal with missing values.  Once you've preprocessed the training and validation features, you'll train and evaluate a random forest model.  Then, you'll preprocess the test data before generating predictions that can be submitted to the competition!\n",
    "\n",
    "### Part A\n",
    "\n",
    "Use the next code cell to preprocess the training and validation data.  Set the preprocessed DataFrames to `final_X_train` and `final_X_valid`.  **You can use any approach of your choosing here!**  in order for this step to be marked as correct, you need only ensure:\n",
    "- the preprocessed DataFrames have the same number of columns,\n",
    "- the preprocessed DataFrames have no missing values, \n",
    "- `final_X_train` and `y_train` have the same number of rows, and\n",
    "- `final_X_valid` and `y_valid` have the same number of rows."
   ]
  },
  {
   "cell_type": "code",
   "execution_count": 21,
   "id": "3803361d",
   "metadata": {
    "execution": {
     "iopub.execute_input": "2022-04-29T08:04:50.345167Z",
     "iopub.status.busy": "2022-04-29T08:04:50.344529Z",
     "iopub.status.idle": "2022-04-29T08:04:50.352614Z",
     "shell.execute_reply": "2022-04-29T08:04:50.351170Z"
    },
    "papermill": {
     "duration": 0.063717,
     "end_time": "2022-04-29T08:04:50.355136",
     "exception": false,
     "start_time": "2022-04-29T08:04:50.291419",
     "status": "completed"
    },
    "tags": []
   },
   "outputs": [
    {
     "name": "stdout",
     "output_type": "stream",
     "text": [
      "shape of reduced_X_train: (1168, 33)\n",
      "shape of y_train: (1168,)\n",
      "shape of reduced_X_valid: (292, 33)\n",
      "shape of y_valid: (292,)\n",
      "shape of imputed_X_train: (1168, 36)\n",
      "shape of imputed_X_valid: (292, 36)\n"
     ]
    }
   ],
   "source": [
    "print(\"shape of reduced_X_train:\", reduced_X_train.shape)\n",
    "print(\"shape of y_train:\", y_train.shape)\n",
    "print(\"shape of reduced_X_valid:\", reduced_X_valid.shape)\n",
    "print(\"shape of y_valid:\", y_valid.shape)\n",
    "print(\"shape of imputed_X_train:\", imputed_X_train.shape)\n",
    "print(\"shape of imputed_X_valid:\", imputed_X_valid.shape)"
   ]
  },
  {
   "cell_type": "code",
   "execution_count": 22,
   "id": "e0afab5e",
   "metadata": {
    "execution": {
     "iopub.execute_input": "2022-04-29T08:04:50.459502Z",
     "iopub.status.busy": "2022-04-29T08:04:50.459167Z",
     "iopub.status.idle": "2022-04-29T08:04:50.480198Z",
     "shell.execute_reply": "2022-04-29T08:04:50.479360Z"
    },
    "papermill": {
     "duration": 0.075355,
     "end_time": "2022-04-29T08:04:50.482387",
     "exception": false,
     "start_time": "2022-04-29T08:04:50.407032",
     "status": "completed"
    },
    "tags": []
   },
   "outputs": [
    {
     "data": {
      "application/javascript": [
       "parent.postMessage({\"jupyterEvent\": \"custom.exercise_interaction\", \"data\": {\"outcomeType\": 1, \"valueTowardsCompletion\": 1.0, \"interactionType\": 1, \"questionType\": 2, \"questionId\": \"4.1_PredsCodeA\", \"learnToolsVersion\": \"0.3.4\", \"failureMessage\": \"\", \"exceptionClass\": \"\", \"trace\": \"\"}}, \"*\")"
      ],
      "text/plain": [
       "<IPython.core.display.Javascript object>"
      ]
     },
     "metadata": {},
     "output_type": "display_data"
    },
    {
     "data": {
      "text/markdown": [
       "<span style=\"color:#33cc33\">Correct</span>"
      ],
      "text/plain": [
       "Correct"
      ]
     },
     "metadata": {},
     "output_type": "display_data"
    }
   ],
   "source": [
    "# Preprocessed training and validation features\n",
    "final_X_train = imputed_X_train\n",
    "final_X_valid = imputed_X_valid\n",
    "\n",
    "# Check your answers\n",
    "step_4.a.check()"
   ]
  },
  {
   "cell_type": "code",
   "execution_count": 23,
   "id": "7f776507",
   "metadata": {
    "execution": {
     "iopub.execute_input": "2022-04-29T08:04:50.592251Z",
     "iopub.status.busy": "2022-04-29T08:04:50.591757Z",
     "iopub.status.idle": "2022-04-29T08:04:50.595875Z",
     "shell.execute_reply": "2022-04-29T08:04:50.594826Z"
    },
    "papermill": {
     "duration": 0.061303,
     "end_time": "2022-04-29T08:04:50.598475",
     "exception": false,
     "start_time": "2022-04-29T08:04:50.537172",
     "status": "completed"
    },
    "tags": []
   },
   "outputs": [],
   "source": [
    "# Lines below will give you a hint or solution code\n",
    "#step_4.a.hint()\n",
    "#step_4.a.solution()"
   ]
  },
  {
   "cell_type": "markdown",
   "id": "1c8f227d",
   "metadata": {
    "papermill": {
     "duration": 0.051939,
     "end_time": "2022-04-29T08:04:50.702779",
     "exception": false,
     "start_time": "2022-04-29T08:04:50.650840",
     "status": "completed"
    },
    "tags": []
   },
   "source": [
    "Run the next code cell to train and evaluate a random forest model.  (*Note that we don't use the `score_dataset()` function above, because we will soon use the trained model to generate test predictions!*)"
   ]
  },
  {
   "cell_type": "code",
   "execution_count": 24,
   "id": "077dca3c",
   "metadata": {
    "execution": {
     "iopub.execute_input": "2022-04-29T08:04:50.814391Z",
     "iopub.status.busy": "2022-04-29T08:04:50.813817Z",
     "iopub.status.idle": "2022-04-29T08:04:52.137941Z",
     "shell.execute_reply": "2022-04-29T08:04:52.136609Z"
    },
    "papermill": {
     "duration": 1.384569,
     "end_time": "2022-04-29T08:04:52.140612",
     "exception": false,
     "start_time": "2022-04-29T08:04:50.756043",
     "status": "completed"
    },
    "tags": []
   },
   "outputs": [
    {
     "name": "stdout",
     "output_type": "stream",
     "text": [
      "MAE (Your approach):\n",
      "18062.894611872147\n"
     ]
    }
   ],
   "source": [
    "# Define and fit model\n",
    "model = RandomForestRegressor(n_estimators=100, random_state=0)\n",
    "model.fit(final_X_train, y_train)\n",
    "\n",
    "# Get validation predictions and MAE\n",
    "preds_valid = model.predict(final_X_valid)\n",
    "print(\"MAE (Your approach):\")\n",
    "print(mean_absolute_error(y_valid, preds_valid))"
   ]
  },
  {
   "cell_type": "markdown",
   "id": "8889629f",
   "metadata": {
    "papermill": {
     "duration": 0.05523,
     "end_time": "2022-04-29T08:04:52.250519",
     "exception": false,
     "start_time": "2022-04-29T08:04:52.195289",
     "status": "completed"
    },
    "tags": []
   },
   "source": [
    "### Part B\n",
    "\n",
    "Use the next code cell to preprocess your test data.  Make sure that you use a method that agrees with how you preprocessed the training and validation data, and set the preprocessed test features to `final_X_test`.\n",
    "\n",
    "Then, use the preprocessed test features and the trained model to generate test predictions in `preds_test`.\n",
    "\n",
    "In order for this step to be marked correct, you need only ensure:\n",
    "- the preprocessed test DataFrame has no missing values, and\n",
    "- `final_X_test` has the same number of rows as `X_test`."
   ]
  },
  {
   "cell_type": "code",
   "execution_count": 25,
   "id": "af611ea9",
   "metadata": {
    "execution": {
     "iopub.execute_input": "2022-04-29T08:04:52.365086Z",
     "iopub.status.busy": "2022-04-29T08:04:52.364440Z",
     "iopub.status.idle": "2022-04-29T08:04:52.374634Z",
     "shell.execute_reply": "2022-04-29T08:04:52.373638Z"
    },
    "papermill": {
     "duration": 0.069961,
     "end_time": "2022-04-29T08:04:52.377576",
     "exception": false,
     "start_time": "2022-04-29T08:04:52.307615",
     "status": "completed"
    },
    "tags": []
   },
   "outputs": [
    {
     "name": "stdout",
     "output_type": "stream",
     "text": [
      "(1459, 36)\n",
      "LotFrontage     227\n",
      "MasVnrArea       15\n",
      "BsmtFinSF1        1\n",
      "BsmtFinSF2        1\n",
      "BsmtUnfSF         1\n",
      "TotalBsmtSF       1\n",
      "BsmtFullBath      2\n",
      "BsmtHalfBath      2\n",
      "GarageYrBlt      78\n",
      "GarageCars        1\n",
      "GarageArea        1\n",
      "dtype: int64\n"
     ]
    }
   ],
   "source": [
    "# Shape of training data (num_rows, num_columns)\n",
    "print(X_test.shape)\n",
    "\n",
    "# Number of missing values in each column of training data\n",
    "missing_val_count_by_column_of_X_test = (X_test.isnull().sum())\n",
    "print(missing_val_count_by_column_of_X_test[missing_val_count_by_column_of_X_test > 0])"
   ]
  },
  {
   "cell_type": "code",
   "execution_count": 26,
   "id": "023809eb",
   "metadata": {
    "execution": {
     "iopub.execute_input": "2022-04-29T08:04:52.488208Z",
     "iopub.status.busy": "2022-04-29T08:04:52.487897Z",
     "iopub.status.idle": "2022-04-29T08:04:52.505867Z",
     "shell.execute_reply": "2022-04-29T08:04:52.504690Z"
    },
    "papermill": {
     "duration": 0.076167,
     "end_time": "2022-04-29T08:04:52.508252",
     "exception": false,
     "start_time": "2022-04-29T08:04:52.432085",
     "status": "completed"
    },
    "tags": []
   },
   "outputs": [
    {
     "data": {
      "text/plain": [
       "['LotFrontage',\n",
       " 'MasVnrArea',\n",
       " 'BsmtFinSF1',\n",
       " 'BsmtFinSF2',\n",
       " 'BsmtUnfSF',\n",
       " 'TotalBsmtSF',\n",
       " 'BsmtFullBath',\n",
       " 'BsmtHalfBath',\n",
       " 'GarageYrBlt',\n",
       " 'GarageCars',\n",
       " 'GarageArea']"
      ]
     },
     "execution_count": 26,
     "metadata": {},
     "output_type": "execute_result"
    }
   ],
   "source": [
    "cols_with_missing_of_X_test = [col for col in X_test.columns if X_test[col].isnull().any()]\n",
    "cols_with_missing_of_X_test"
   ]
  },
  {
   "cell_type": "code",
   "execution_count": 27,
   "id": "0b8cdab0",
   "metadata": {
    "execution": {
     "iopub.execute_input": "2022-04-29T08:04:52.619128Z",
     "iopub.status.busy": "2022-04-29T08:04:52.618793Z",
     "iopub.status.idle": "2022-04-29T08:04:52.676407Z",
     "shell.execute_reply": "2022-04-29T08:04:52.675061Z"
    },
    "papermill": {
     "duration": 0.11567,
     "end_time": "2022-04-29T08:04:52.678861",
     "exception": false,
     "start_time": "2022-04-29T08:04:52.563191",
     "status": "completed"
    },
    "tags": []
   },
   "outputs": [
    {
     "data": {
      "application/javascript": [
       "parent.postMessage({\"jupyterEvent\": \"custom.exercise_interaction\", \"data\": {\"outcomeType\": 1, \"valueTowardsCompletion\": 1.0, \"interactionType\": 1, \"questionType\": 2, \"questionId\": \"4.2_PredsCodeB\", \"learnToolsVersion\": \"0.3.4\", \"failureMessage\": \"\", \"exceptionClass\": \"\", \"trace\": \"\"}}, \"*\")"
      ],
      "text/plain": [
       "<IPython.core.display.Javascript object>"
      ]
     },
     "metadata": {},
     "output_type": "display_data"
    },
    {
     "data": {
      "text/markdown": [
       "<span style=\"color:#33cc33\">Correct</span>"
      ],
      "text/plain": [
       "Correct"
      ]
     },
     "metadata": {},
     "output_type": "display_data"
    }
   ],
   "source": [
    "# Fill in the line below: preprocess test data\n",
    "final_X_test = pd.DataFrame(my_imputer.transform(X_test))\n",
    "\n",
    "# imputation removed column names; put them back\n",
    "final_X_test.columns = X_test.columns\n",
    "\n",
    "# Fill in the line below: get test predictions\n",
    "preds_test = model.predict(final_X_test)\n",
    "\n",
    "# Check your answers\n",
    "step_4.b.check()"
   ]
  },
  {
   "cell_type": "code",
   "execution_count": 28,
   "id": "dcacf080",
   "metadata": {
    "execution": {
     "iopub.execute_input": "2022-04-29T08:04:52.795380Z",
     "iopub.status.busy": "2022-04-29T08:04:52.795049Z",
     "iopub.status.idle": "2022-04-29T08:04:52.799938Z",
     "shell.execute_reply": "2022-04-29T08:04:52.798639Z"
    },
    "papermill": {
     "duration": 0.066143,
     "end_time": "2022-04-29T08:04:52.802504",
     "exception": false,
     "start_time": "2022-04-29T08:04:52.736361",
     "status": "completed"
    },
    "tags": []
   },
   "outputs": [],
   "source": [
    "# Lines below will give you a hint or solution code\n",
    "#step_4.b.hint()\n",
    "#step_4.b.solution()"
   ]
  },
  {
   "cell_type": "markdown",
   "id": "b690c7d0",
   "metadata": {
    "papermill": {
     "duration": 0.05674,
     "end_time": "2022-04-29T08:04:52.916028",
     "exception": false,
     "start_time": "2022-04-29T08:04:52.859288",
     "status": "completed"
    },
    "tags": []
   },
   "source": [
    "Run the next code cell without changes to save your results to a CSV file that can be submitted directly to the competition."
   ]
  },
  {
   "cell_type": "code",
   "execution_count": 29,
   "id": "1e5b2915",
   "metadata": {
    "execution": {
     "iopub.execute_input": "2022-04-29T08:04:53.038244Z",
     "iopub.status.busy": "2022-04-29T08:04:53.037942Z",
     "iopub.status.idle": "2022-04-29T08:04:53.054286Z",
     "shell.execute_reply": "2022-04-29T08:04:53.052921Z"
    },
    "papermill": {
     "duration": 0.081095,
     "end_time": "2022-04-29T08:04:53.057074",
     "exception": false,
     "start_time": "2022-04-29T08:04:52.975979",
     "status": "completed"
    },
    "tags": []
   },
   "outputs": [],
   "source": [
    "# Save test predictions to file\n",
    "output = pd.DataFrame({'Id': X_test.index,\n",
    "                       'SalePrice': preds_test})\n",
    "output.to_csv('submission.csv', index=False)"
   ]
  },
  {
   "cell_type": "markdown",
   "id": "14e321ec",
   "metadata": {
    "papermill": {
     "duration": 0.05623,
     "end_time": "2022-04-29T08:04:53.171291",
     "exception": false,
     "start_time": "2022-04-29T08:04:53.115061",
     "status": "completed"
    },
    "tags": []
   },
   "source": [
    "# Submit your results\n",
    "\n",
    "Once you have successfully completed Step 4, you're ready to submit your results to the leaderboard!  (_You also learned how to do this in the previous exercise.  If you need a reminder of how to do this, please use the instructions below._)  \n",
    "\n",
    "First, you'll need to join the competition if you haven't already.  So open a new window by clicking on [this link](https://www.kaggle.com/c/home-data-for-ml-course).  Then click on the **Join Competition** button.\n",
    "\n",
    "![join competition image](https://i.imgur.com/wLmFtH3.png)\n",
    "\n",
    "Next, follow the instructions below:\n",
    "1. Begin by clicking on the **Save Version** button in the top right corner of the window.  This will generate a pop-up window.  \n",
    "2. Ensure that the **Save and Run All** option is selected, and then click on the **Save** button.\n",
    "3. This generates a window in the bottom left corner of the notebook.  After it has finished running, click on the number to the right of the **Save Version** button.  This pulls up a list of versions on the right of the screen.  Click on the ellipsis **(...)** to the right of the most recent version, and select **Open in Viewer**.  This brings you into view mode of the same page. You will need to scroll down to get back to these instructions.\n",
    "4. Click on the **Output** tab on the right of the screen.  Then, click on the file you would like to submit, and click on the **Submit** button to submit your results to the leaderboard.\n",
    "\n",
    "You have now successfully submitted to the competition!\n",
    "\n",
    "If you want to keep working to improve your performance, select the **Edit** button in the top right of the screen. Then you can change your code and repeat the process. There's a lot of room to improve, and you will climb up the leaderboard as you work.\n",
    "\n",
    "\n",
    "# Keep going\n",
    "\n",
    "Move on to learn what **[categorical variables](https://www.kaggle.com/alexisbcook/categorical-variables)** are, along with how to incorporate them into your machine learning models.  Categorical variables are very common in real-world data, but you'll get an error if you try to plug them into your models without processing them first!"
   ]
  },
  {
   "cell_type": "markdown",
   "id": "a2f7195b",
   "metadata": {
    "papermill": {
     "duration": 0.063182,
     "end_time": "2022-04-29T08:04:53.294736",
     "exception": false,
     "start_time": "2022-04-29T08:04:53.231554",
     "status": "completed"
    },
    "tags": []
   },
   "source": [
    "---\n",
    "\n",
    "\n",
    "\n",
    "\n",
    "*Have questions or comments? Visit the [course discussion forum](https://www.kaggle.com/learn/intermediate-machine-learning/discussion) to chat with other learners.*"
   ]
  }
 ],
 "metadata": {
  "kernelspec": {
   "display_name": "Python 3",
   "language": "python",
   "name": "python3"
  },
  "language_info": {
   "codemirror_mode": {
    "name": "ipython",
    "version": 3
   },
   "file_extension": ".py",
   "mimetype": "text/x-python",
   "name": "python",
   "nbconvert_exporter": "python",
   "pygments_lexer": "ipython3",
   "version": "3.7.12"
  },
  "papermill": {
   "default_parameters": {},
   "duration": 24.37089,
   "end_time": "2022-04-29T08:04:54.284248",
   "environment_variables": {},
   "exception": null,
   "input_path": "__notebook__.ipynb",
   "output_path": "__notebook__.ipynb",
   "parameters": {},
   "start_time": "2022-04-29T08:04:29.913358",
   "version": "2.3.4"
  }
 },
 "nbformat": 4,
 "nbformat_minor": 5
}
