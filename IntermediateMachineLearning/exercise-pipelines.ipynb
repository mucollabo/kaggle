{
 "cells": [
  {
   "cell_type": "markdown",
   "id": "15a772cd",
   "metadata": {
    "papermill": {
     "duration": 0.016771,
     "end_time": "2022-05-04T13:09:16.947764",
     "exception": false,
     "start_time": "2022-05-04T13:09:16.930993",
     "status": "completed"
    },
    "tags": []
   },
   "source": [
    "**This notebook is an exercise in the [Intermediate Machine Learning](https://www.kaggle.com/learn/intermediate-machine-learning) course.  You can reference the tutorial at [this link](https://www.kaggle.com/alexisbcook/pipelines).**\n",
    "\n",
    "---\n"
   ]
  },
  {
   "cell_type": "markdown",
   "id": "321ef233",
   "metadata": {
    "papermill": {
     "duration": 0.015801,
     "end_time": "2022-05-04T13:09:16.979757",
     "exception": false,
     "start_time": "2022-05-04T13:09:16.963956",
     "status": "completed"
    },
    "tags": []
   },
   "source": [
    "In this exercise, you will use **pipelines** to improve the efficiency of your machine learning code.\n",
    "\n",
    "# Setup\n",
    "\n",
    "The questions below will give you feedback on your work. Run the following cell to set up the feedback system."
   ]
  },
  {
   "cell_type": "code",
   "execution_count": 1,
   "id": "16eca553",
   "metadata": {
    "execution": {
     "iopub.execute_input": "2022-05-04T13:09:17.013283Z",
     "iopub.status.busy": "2022-05-04T13:09:17.012831Z",
     "iopub.status.idle": "2022-05-04T13:09:18.098475Z",
     "shell.execute_reply": "2022-05-04T13:09:18.096956Z"
    },
    "papermill": {
     "duration": 1.105941,
     "end_time": "2022-05-04T13:09:18.101783",
     "exception": false,
     "start_time": "2022-05-04T13:09:16.995842",
     "status": "completed"
    },
    "tags": []
   },
   "outputs": [
    {
     "name": "stdout",
     "output_type": "stream",
     "text": [
      "Setup Complete\n"
     ]
    }
   ],
   "source": [
    "# Set up code checking\n",
    "import os\n",
    "if not os.path.exists(\"../input/train.csv\"):\n",
    "    os.symlink(\"../input/home-data-for-ml-course/train.csv\", \"../input/train.csv\")  \n",
    "    os.symlink(\"../input/home-data-for-ml-course/test.csv\", \"../input/test.csv\") \n",
    "from learntools.core import binder\n",
    "binder.bind(globals())\n",
    "from learntools.ml_intermediate.ex4 import *\n",
    "print(\"Setup Complete\")"
   ]
  },
  {
   "cell_type": "markdown",
   "id": "8d4325a1",
   "metadata": {
    "papermill": {
     "duration": 0.020291,
     "end_time": "2022-05-04T13:09:18.148916",
     "exception": false,
     "start_time": "2022-05-04T13:09:18.128625",
     "status": "completed"
    },
    "tags": []
   },
   "source": [
    "You will work with data from the [Housing Prices Competition for Kaggle Learn Users](https://www.kaggle.com/c/home-data-for-ml-course). \n",
    "\n",
    "![Ames Housing dataset image](https://i.imgur.com/lTJVG4e.png)\n",
    "\n",
    "Run the next code cell without changes to load the training and validation sets in `X_train`, `X_valid`, `y_train`, and `y_valid`.  The test set is loaded in `X_test`."
   ]
  },
  {
   "cell_type": "code",
   "execution_count": 2,
   "id": "e7df7d0f",
   "metadata": {
    "execution": {
     "iopub.execute_input": "2022-05-04T13:09:18.183124Z",
     "iopub.status.busy": "2022-05-04T13:09:18.182908Z",
     "iopub.status.idle": "2022-05-04T13:09:18.378061Z",
     "shell.execute_reply": "2022-05-04T13:09:18.376676Z"
    },
    "papermill": {
     "duration": 0.215432,
     "end_time": "2022-05-04T13:09:18.380639",
     "exception": false,
     "start_time": "2022-05-04T13:09:18.165207",
     "status": "completed"
    },
    "tags": []
   },
   "outputs": [],
   "source": [
    "import pandas as pd\n",
    "from sklearn.model_selection import train_test_split\n",
    "\n",
    "# Read the data\n",
    "X_full = pd.read_csv('../input/train.csv', index_col='Id')\n",
    "X_test_full = pd.read_csv('../input/test.csv', index_col='Id')\n",
    "\n",
    "# Remove rows with missing target, separate target from predictors\n",
    "X_full.dropna(axis=0, subset=['SalePrice'], inplace=True)\n",
    "y = X_full.SalePrice\n",
    "X_full.drop(['SalePrice'], axis=1, inplace=True)\n",
    "\n",
    "# Break off validation set from training data\n",
    "X_train_full, X_valid_full, y_train, y_valid = train_test_split(X_full, y, \n",
    "                                                                train_size=0.8, test_size=0.2,\n",
    "                                                                random_state=0)\n",
    "\n",
    "# \"Cardinality\" means the number of unique values in a column\n",
    "# Select categorical columns with relatively low cardinality (convenient but arbitrary)\n",
    "categorical_cols = [cname for cname in X_train_full.columns if\n",
    "                    X_train_full[cname].nunique() < 10 and \n",
    "                    X_train_full[cname].dtype == \"object\"]\n",
    "\n",
    "# Select numerical columns\n",
    "numerical_cols = [cname for cname in X_train_full.columns if \n",
    "                X_train_full[cname].dtype in ['int64', 'float64']]\n",
    "\n",
    "# Keep selected columns only\n",
    "my_cols = categorical_cols + numerical_cols\n",
    "X_train = X_train_full[my_cols].copy()\n",
    "X_valid = X_valid_full[my_cols].copy()\n",
    "X_test = X_test_full[my_cols].copy()"
   ]
  },
  {
   "cell_type": "code",
   "execution_count": 3,
   "id": "d5852ae1",
   "metadata": {
    "execution": {
     "iopub.execute_input": "2022-05-04T13:09:18.414962Z",
     "iopub.status.busy": "2022-05-04T13:09:18.414669Z",
     "iopub.status.idle": "2022-05-04T13:09:18.447188Z",
     "shell.execute_reply": "2022-05-04T13:09:18.445878Z"
    },
    "papermill": {
     "duration": 0.052792,
     "end_time": "2022-05-04T13:09:18.449924",
     "exception": false,
     "start_time": "2022-05-04T13:09:18.397132",
     "status": "completed"
    },
    "tags": []
   },
   "outputs": [
    {
     "data": {
      "text/html": [
       "<div>\n",
       "<style scoped>\n",
       "    .dataframe tbody tr th:only-of-type {\n",
       "        vertical-align: middle;\n",
       "    }\n",
       "\n",
       "    .dataframe tbody tr th {\n",
       "        vertical-align: top;\n",
       "    }\n",
       "\n",
       "    .dataframe thead th {\n",
       "        text-align: right;\n",
       "    }\n",
       "</style>\n",
       "<table border=\"1\" class=\"dataframe\">\n",
       "  <thead>\n",
       "    <tr style=\"text-align: right;\">\n",
       "      <th></th>\n",
       "      <th>MSZoning</th>\n",
       "      <th>Street</th>\n",
       "      <th>Alley</th>\n",
       "      <th>LotShape</th>\n",
       "      <th>LandContour</th>\n",
       "      <th>Utilities</th>\n",
       "      <th>LotConfig</th>\n",
       "      <th>LandSlope</th>\n",
       "      <th>Condition1</th>\n",
       "      <th>Condition2</th>\n",
       "      <th>...</th>\n",
       "      <th>GarageArea</th>\n",
       "      <th>WoodDeckSF</th>\n",
       "      <th>OpenPorchSF</th>\n",
       "      <th>EnclosedPorch</th>\n",
       "      <th>3SsnPorch</th>\n",
       "      <th>ScreenPorch</th>\n",
       "      <th>PoolArea</th>\n",
       "      <th>MiscVal</th>\n",
       "      <th>MoSold</th>\n",
       "      <th>YrSold</th>\n",
       "    </tr>\n",
       "    <tr>\n",
       "      <th>Id</th>\n",
       "      <th></th>\n",
       "      <th></th>\n",
       "      <th></th>\n",
       "      <th></th>\n",
       "      <th></th>\n",
       "      <th></th>\n",
       "      <th></th>\n",
       "      <th></th>\n",
       "      <th></th>\n",
       "      <th></th>\n",
       "      <th></th>\n",
       "      <th></th>\n",
       "      <th></th>\n",
       "      <th></th>\n",
       "      <th></th>\n",
       "      <th></th>\n",
       "      <th></th>\n",
       "      <th></th>\n",
       "      <th></th>\n",
       "      <th></th>\n",
       "      <th></th>\n",
       "    </tr>\n",
       "  </thead>\n",
       "  <tbody>\n",
       "    <tr>\n",
       "      <th>619</th>\n",
       "      <td>RL</td>\n",
       "      <td>Pave</td>\n",
       "      <td>NaN</td>\n",
       "      <td>Reg</td>\n",
       "      <td>Lvl</td>\n",
       "      <td>AllPub</td>\n",
       "      <td>Inside</td>\n",
       "      <td>Gtl</td>\n",
       "      <td>Norm</td>\n",
       "      <td>Norm</td>\n",
       "      <td>...</td>\n",
       "      <td>774</td>\n",
       "      <td>0</td>\n",
       "      <td>108</td>\n",
       "      <td>0</td>\n",
       "      <td>0</td>\n",
       "      <td>260</td>\n",
       "      <td>0</td>\n",
       "      <td>0</td>\n",
       "      <td>7</td>\n",
       "      <td>2007</td>\n",
       "    </tr>\n",
       "    <tr>\n",
       "      <th>871</th>\n",
       "      <td>RL</td>\n",
       "      <td>Pave</td>\n",
       "      <td>NaN</td>\n",
       "      <td>Reg</td>\n",
       "      <td>Lvl</td>\n",
       "      <td>AllPub</td>\n",
       "      <td>Inside</td>\n",
       "      <td>Gtl</td>\n",
       "      <td>PosN</td>\n",
       "      <td>Norm</td>\n",
       "      <td>...</td>\n",
       "      <td>308</td>\n",
       "      <td>0</td>\n",
       "      <td>0</td>\n",
       "      <td>0</td>\n",
       "      <td>0</td>\n",
       "      <td>0</td>\n",
       "      <td>0</td>\n",
       "      <td>0</td>\n",
       "      <td>8</td>\n",
       "      <td>2009</td>\n",
       "    </tr>\n",
       "    <tr>\n",
       "      <th>93</th>\n",
       "      <td>RL</td>\n",
       "      <td>Pave</td>\n",
       "      <td>Grvl</td>\n",
       "      <td>IR1</td>\n",
       "      <td>HLS</td>\n",
       "      <td>AllPub</td>\n",
       "      <td>Inside</td>\n",
       "      <td>Gtl</td>\n",
       "      <td>Norm</td>\n",
       "      <td>Norm</td>\n",
       "      <td>...</td>\n",
       "      <td>432</td>\n",
       "      <td>0</td>\n",
       "      <td>0</td>\n",
       "      <td>44</td>\n",
       "      <td>0</td>\n",
       "      <td>0</td>\n",
       "      <td>0</td>\n",
       "      <td>0</td>\n",
       "      <td>8</td>\n",
       "      <td>2009</td>\n",
       "    </tr>\n",
       "    <tr>\n",
       "      <th>818</th>\n",
       "      <td>RL</td>\n",
       "      <td>Pave</td>\n",
       "      <td>NaN</td>\n",
       "      <td>IR1</td>\n",
       "      <td>Lvl</td>\n",
       "      <td>AllPub</td>\n",
       "      <td>CulDSac</td>\n",
       "      <td>Gtl</td>\n",
       "      <td>Norm</td>\n",
       "      <td>Norm</td>\n",
       "      <td>...</td>\n",
       "      <td>857</td>\n",
       "      <td>150</td>\n",
       "      <td>59</td>\n",
       "      <td>0</td>\n",
       "      <td>0</td>\n",
       "      <td>0</td>\n",
       "      <td>0</td>\n",
       "      <td>0</td>\n",
       "      <td>7</td>\n",
       "      <td>2008</td>\n",
       "    </tr>\n",
       "    <tr>\n",
       "      <th>303</th>\n",
       "      <td>RL</td>\n",
       "      <td>Pave</td>\n",
       "      <td>NaN</td>\n",
       "      <td>IR1</td>\n",
       "      <td>Lvl</td>\n",
       "      <td>AllPub</td>\n",
       "      <td>Corner</td>\n",
       "      <td>Gtl</td>\n",
       "      <td>Norm</td>\n",
       "      <td>Norm</td>\n",
       "      <td>...</td>\n",
       "      <td>843</td>\n",
       "      <td>468</td>\n",
       "      <td>81</td>\n",
       "      <td>0</td>\n",
       "      <td>0</td>\n",
       "      <td>0</td>\n",
       "      <td>0</td>\n",
       "      <td>0</td>\n",
       "      <td>1</td>\n",
       "      <td>2006</td>\n",
       "    </tr>\n",
       "  </tbody>\n",
       "</table>\n",
       "<p>5 rows × 76 columns</p>\n",
       "</div>"
      ],
      "text/plain": [
       "    MSZoning Street Alley LotShape LandContour Utilities LotConfig LandSlope  \\\n",
       "Id                                                                             \n",
       "619       RL   Pave   NaN      Reg         Lvl    AllPub    Inside       Gtl   \n",
       "871       RL   Pave   NaN      Reg         Lvl    AllPub    Inside       Gtl   \n",
       "93        RL   Pave  Grvl      IR1         HLS    AllPub    Inside       Gtl   \n",
       "818       RL   Pave   NaN      IR1         Lvl    AllPub   CulDSac       Gtl   \n",
       "303       RL   Pave   NaN      IR1         Lvl    AllPub    Corner       Gtl   \n",
       "\n",
       "    Condition1 Condition2  ... GarageArea WoodDeckSF OpenPorchSF  \\\n",
       "Id                         ...                                     \n",
       "619       Norm       Norm  ...        774          0         108   \n",
       "871       PosN       Norm  ...        308          0           0   \n",
       "93        Norm       Norm  ...        432          0           0   \n",
       "818       Norm       Norm  ...        857        150          59   \n",
       "303       Norm       Norm  ...        843        468          81   \n",
       "\n",
       "    EnclosedPorch 3SsnPorch ScreenPorch PoolArea MiscVal MoSold YrSold  \n",
       "Id                                                                      \n",
       "619             0         0         260        0       0      7   2007  \n",
       "871             0         0           0        0       0      8   2009  \n",
       "93             44         0           0        0       0      8   2009  \n",
       "818             0         0           0        0       0      7   2008  \n",
       "303             0         0           0        0       0      1   2006  \n",
       "\n",
       "[5 rows x 76 columns]"
      ]
     },
     "execution_count": 3,
     "metadata": {},
     "output_type": "execute_result"
    }
   ],
   "source": [
    "X_train.head()"
   ]
  },
  {
   "cell_type": "markdown",
   "id": "dec6485a",
   "metadata": {
    "papermill": {
     "duration": 0.026166,
     "end_time": "2022-05-04T13:09:18.501575",
     "exception": false,
     "start_time": "2022-05-04T13:09:18.475409",
     "status": "completed"
    },
    "tags": []
   },
   "source": [
    "The next code cell uses code from the tutorial to preprocess the data and train a model.  Run this code without changes."
   ]
  },
  {
   "cell_type": "code",
   "execution_count": 4,
   "id": "3e1e221f",
   "metadata": {
    "execution": {
     "iopub.execute_input": "2022-05-04T13:09:18.553302Z",
     "iopub.status.busy": "2022-05-04T13:09:18.552989Z",
     "iopub.status.idle": "2022-05-04T13:09:21.576937Z",
     "shell.execute_reply": "2022-05-04T13:09:21.575718Z"
    },
    "papermill": {
     "duration": 3.05249,
     "end_time": "2022-05-04T13:09:21.579262",
     "exception": false,
     "start_time": "2022-05-04T13:09:18.526772",
     "status": "completed"
    },
    "tags": []
   },
   "outputs": [
    {
     "name": "stdout",
     "output_type": "stream",
     "text": [
      "MAE: 17861.780102739725\n"
     ]
    }
   ],
   "source": [
    "from sklearn.compose import ColumnTransformer\n",
    "from sklearn.pipeline import Pipeline\n",
    "from sklearn.impute import SimpleImputer\n",
    "from sklearn.preprocessing import OneHotEncoder\n",
    "from sklearn.ensemble import RandomForestRegressor\n",
    "from sklearn.metrics import mean_absolute_error\n",
    "\n",
    "# Preprocessing for numerical data\n",
    "numerical_transformer = SimpleImputer(strategy='constant')\n",
    "\n",
    "# Preprocessing for categorical data\n",
    "categorical_transformer = Pipeline(steps=[\n",
    "    ('imputer', SimpleImputer(strategy='most_frequent')),\n",
    "    ('onehot', OneHotEncoder(handle_unknown='ignore'))\n",
    "])\n",
    "\n",
    "# Bundle preprocessing for numerical and categorical data\n",
    "preprocessor = ColumnTransformer(\n",
    "    transformers=[\n",
    "        ('num', numerical_transformer, numerical_cols),\n",
    "        ('cat', categorical_transformer, categorical_cols)\n",
    "    ])\n",
    "\n",
    "# Define model\n",
    "model = RandomForestRegressor(n_estimators=100, random_state=0)\n",
    "\n",
    "# Bundle preprocessing and modeling code in a pipeline\n",
    "clf = Pipeline(steps=[('preprocessor', preprocessor),\n",
    "                      ('model', model)\n",
    "                     ])\n",
    "\n",
    "# Preprocessing of training data, fit model \n",
    "clf.fit(X_train, y_train)\n",
    "\n",
    "# Preprocessing of validation data, get predictions\n",
    "preds = clf.predict(X_valid)\n",
    "\n",
    "print('MAE:', mean_absolute_error(y_valid, preds))"
   ]
  },
  {
   "cell_type": "markdown",
   "id": "7c025843",
   "metadata": {
    "papermill": {
     "duration": 0.019088,
     "end_time": "2022-05-04T13:09:21.615442",
     "exception": false,
     "start_time": "2022-05-04T13:09:21.596354",
     "status": "completed"
    },
    "tags": []
   },
   "source": [
    "The code yields a value around 17862 for the mean absolute error (MAE).  In the next step, you will amend the code to do better.\n",
    "\n",
    "# Step 1: Improve the performance\n",
    "\n",
    "### Part A\n",
    "\n",
    "Now, it's your turn!  In the code cell below, define your own preprocessing steps and random forest model.  Fill in values for the following variables:\n",
    "- `numerical_transformer`\n",
    "- `categorical_transformer`\n",
    "- `model`\n",
    "\n",
    "To pass this part of the exercise, you need only define valid preprocessing steps and a random forest model."
   ]
  },
  {
   "cell_type": "code",
   "execution_count": 5,
   "id": "172618b2",
   "metadata": {
    "execution": {
     "iopub.execute_input": "2022-05-04T13:09:21.650833Z",
     "iopub.status.busy": "2022-05-04T13:09:21.650386Z",
     "iopub.status.idle": "2022-05-04T13:09:21.676608Z",
     "shell.execute_reply": "2022-05-04T13:09:21.675709Z"
    },
    "papermill": {
     "duration": 0.046447,
     "end_time": "2022-05-04T13:09:21.678799",
     "exception": false,
     "start_time": "2022-05-04T13:09:21.632352",
     "status": "completed"
    },
    "tags": []
   },
   "outputs": [
    {
     "name": "stdout",
     "output_type": "stream",
     "text": [
      "<class 'pandas.core.frame.DataFrame'>\n",
      "Int64Index: 1168 entries, 619 to 685\n",
      "Data columns (total 76 columns):\n",
      " #   Column         Non-Null Count  Dtype  \n",
      "---  ------         --------------  -----  \n",
      " 0   MSZoning       1168 non-null   object \n",
      " 1   Street         1168 non-null   object \n",
      " 2   Alley          71 non-null     object \n",
      " 3   LotShape       1168 non-null   object \n",
      " 4   LandContour    1168 non-null   object \n",
      " 5   Utilities      1168 non-null   object \n",
      " 6   LotConfig      1168 non-null   object \n",
      " 7   LandSlope      1168 non-null   object \n",
      " 8   Condition1     1168 non-null   object \n",
      " 9   Condition2     1168 non-null   object \n",
      " 10  BldgType       1168 non-null   object \n",
      " 11  HouseStyle     1168 non-null   object \n",
      " 12  RoofStyle      1168 non-null   object \n",
      " 13  RoofMatl       1168 non-null   object \n",
      " 14  MasVnrType     1162 non-null   object \n",
      " 15  ExterQual      1168 non-null   object \n",
      " 16  ExterCond      1168 non-null   object \n",
      " 17  Foundation     1168 non-null   object \n",
      " 18  BsmtQual       1140 non-null   object \n",
      " 19  BsmtCond       1140 non-null   object \n",
      " 20  BsmtExposure   1140 non-null   object \n",
      " 21  BsmtFinType1   1140 non-null   object \n",
      " 22  BsmtFinType2   1139 non-null   object \n",
      " 23  Heating        1168 non-null   object \n",
      " 24  HeatingQC      1168 non-null   object \n",
      " 25  CentralAir     1168 non-null   object \n",
      " 26  Electrical     1167 non-null   object \n",
      " 27  KitchenQual    1168 non-null   object \n",
      " 28  Functional     1168 non-null   object \n",
      " 29  FireplaceQu    617 non-null    object \n",
      " 30  GarageType     1110 non-null   object \n",
      " 31  GarageFinish   1110 non-null   object \n",
      " 32  GarageQual     1110 non-null   object \n",
      " 33  GarageCond     1110 non-null   object \n",
      " 34  PavedDrive     1168 non-null   object \n",
      " 35  PoolQC         4 non-null      object \n",
      " 36  Fence          214 non-null    object \n",
      " 37  MiscFeature    49 non-null     object \n",
      " 38  SaleType       1168 non-null   object \n",
      " 39  SaleCondition  1168 non-null   object \n",
      " 40  MSSubClass     1168 non-null   int64  \n",
      " 41  LotFrontage    956 non-null    float64\n",
      " 42  LotArea        1168 non-null   int64  \n",
      " 43  OverallQual    1168 non-null   int64  \n",
      " 44  OverallCond    1168 non-null   int64  \n",
      " 45  YearBuilt      1168 non-null   int64  \n",
      " 46  YearRemodAdd   1168 non-null   int64  \n",
      " 47  MasVnrArea     1162 non-null   float64\n",
      " 48  BsmtFinSF1     1168 non-null   int64  \n",
      " 49  BsmtFinSF2     1168 non-null   int64  \n",
      " 50  BsmtUnfSF      1168 non-null   int64  \n",
      " 51  TotalBsmtSF    1168 non-null   int64  \n",
      " 52  1stFlrSF       1168 non-null   int64  \n",
      " 53  2ndFlrSF       1168 non-null   int64  \n",
      " 54  LowQualFinSF   1168 non-null   int64  \n",
      " 55  GrLivArea      1168 non-null   int64  \n",
      " 56  BsmtFullBath   1168 non-null   int64  \n",
      " 57  BsmtHalfBath   1168 non-null   int64  \n",
      " 58  FullBath       1168 non-null   int64  \n",
      " 59  HalfBath       1168 non-null   int64  \n",
      " 60  BedroomAbvGr   1168 non-null   int64  \n",
      " 61  KitchenAbvGr   1168 non-null   int64  \n",
      " 62  TotRmsAbvGrd   1168 non-null   int64  \n",
      " 63  Fireplaces     1168 non-null   int64  \n",
      " 64  GarageYrBlt    1110 non-null   float64\n",
      " 65  GarageCars     1168 non-null   int64  \n",
      " 66  GarageArea     1168 non-null   int64  \n",
      " 67  WoodDeckSF     1168 non-null   int64  \n",
      " 68  OpenPorchSF    1168 non-null   int64  \n",
      " 69  EnclosedPorch  1168 non-null   int64  \n",
      " 70  3SsnPorch      1168 non-null   int64  \n",
      " 71  ScreenPorch    1168 non-null   int64  \n",
      " 72  PoolArea       1168 non-null   int64  \n",
      " 73  MiscVal        1168 non-null   int64  \n",
      " 74  MoSold         1168 non-null   int64  \n",
      " 75  YrSold         1168 non-null   int64  \n",
      "dtypes: float64(3), int64(33), object(40)\n",
      "memory usage: 702.6+ KB\n"
     ]
    }
   ],
   "source": [
    "X_train.info()"
   ]
  },
  {
   "cell_type": "code",
   "execution_count": 6,
   "id": "d27d7cb2",
   "metadata": {
    "execution": {
     "iopub.execute_input": "2022-05-04T13:09:21.714917Z",
     "iopub.status.busy": "2022-05-04T13:09:21.714663Z",
     "iopub.status.idle": "2022-05-04T13:09:21.724660Z",
     "shell.execute_reply": "2022-05-04T13:09:21.724263Z"
    },
    "papermill": {
     "duration": 0.030609,
     "end_time": "2022-05-04T13:09:21.726823",
     "exception": false,
     "start_time": "2022-05-04T13:09:21.696214",
     "status": "completed"
    },
    "tags": []
   },
   "outputs": [
    {
     "data": {
      "application/javascript": [
       "parent.postMessage({\"jupyterEvent\": \"custom.exercise_interaction\", \"data\": {\"outcomeType\": 1, \"valueTowardsCompletion\": 1.0, \"interactionType\": 1, \"questionType\": 2, \"questionId\": \"1.1_YourTurnModel\", \"learnToolsVersion\": \"0.3.4\", \"failureMessage\": \"\", \"exceptionClass\": \"\", \"trace\": \"\"}}, \"*\")"
      ],
      "text/plain": [
       "<IPython.core.display.Javascript object>"
      ]
     },
     "metadata": {},
     "output_type": "display_data"
    },
    {
     "data": {
      "text/markdown": [
       "<span style=\"color:#33cc33\">Correct</span>"
      ],
      "text/plain": [
       "Correct"
      ]
     },
     "metadata": {},
     "output_type": "display_data"
    }
   ],
   "source": [
    "# Preprocessing for numerical data\n",
    "numerical_transformer = SimpleImputer(strategy='mean')\n",
    "\n",
    "# Preprocessing for categorical data\n",
    "categorical_transformer = Pipeline(steps=[\n",
    "    ('imputer', SimpleImputer(strategy='constant')),\n",
    "    ('onehot', OneHotEncoder(handle_unknown='ignore'))\n",
    "])\n",
    "\n",
    "# Bundle preprocessing for numerical and categorical data\n",
    "preprocessor = ColumnTransformer(\n",
    "    transformers=[\n",
    "        ('num', numerical_transformer, numerical_cols),\n",
    "        ('cat', categorical_transformer, categorical_cols)\n",
    "    ])\n",
    "\n",
    "# Define model\n",
    "model = RandomForestRegressor(n_estimators=100, random_state=0)\n",
    "\n",
    "# Check your answer\n",
    "step_1.a.check()"
   ]
  },
  {
   "cell_type": "code",
   "execution_count": 7,
   "id": "da970266",
   "metadata": {
    "execution": {
     "iopub.execute_input": "2022-05-04T13:09:21.784828Z",
     "iopub.status.busy": "2022-05-04T13:09:21.784500Z",
     "iopub.status.idle": "2022-05-04T13:09:21.790506Z",
     "shell.execute_reply": "2022-05-04T13:09:21.789547Z"
    },
    "papermill": {
     "duration": 0.036989,
     "end_time": "2022-05-04T13:09:21.792334",
     "exception": false,
     "start_time": "2022-05-04T13:09:21.755345",
     "status": "completed"
    },
    "tags": []
   },
   "outputs": [
    {
     "data": {
      "application/javascript": [
       "parent.postMessage({\"jupyterEvent\": \"custom.exercise_interaction\", \"data\": {\"interactionType\": 2, \"questionType\": 2, \"questionId\": \"1.1_YourTurnModel\", \"learnToolsVersion\": \"0.3.4\", \"valueTowardsCompletion\": 0.0, \"failureMessage\": \"\", \"exceptionClass\": \"\", \"trace\": \"\", \"outcomeType\": 4}}, \"*\")"
      ],
      "text/plain": [
       "<IPython.core.display.Javascript object>"
      ]
     },
     "metadata": {},
     "output_type": "display_data"
    },
    {
     "data": {
      "text/markdown": [
       "<span style=\"color:#3366cc\">Hint:</span> While there are many different potential solutions to this problem, we achieved satisfactory results by changing only `column_transformer` from the default value - specifically, we changed the `strategy` parameter that decides how missing values are imputed."
      ],
      "text/plain": [
       "Hint: While there are many different potential solutions to this problem, we achieved satisfactory results by changing only `column_transformer` from the default value - specifically, we changed the `strategy` parameter that decides how missing values are imputed."
      ]
     },
     "metadata": {},
     "output_type": "display_data"
    }
   ],
   "source": [
    "# Lines below will give you a hint or solution code\n",
    "step_1.a.hint()\n",
    "#step_1.a.solution()"
   ]
  },
  {
   "cell_type": "markdown",
   "id": "887e494d",
   "metadata": {
    "papermill": {
     "duration": 0.019942,
     "end_time": "2022-05-04T13:09:21.832004",
     "exception": false,
     "start_time": "2022-05-04T13:09:21.812062",
     "status": "completed"
    },
    "tags": []
   },
   "source": [
    "### Part B\n",
    "\n",
    "Run the code cell below without changes.\n",
    "\n",
    "To pass this step, you need to have defined a pipeline in **Part A** that achieves lower MAE than the code above.  You're encouraged to take your time here and try out many different approaches, to see how low you can get the MAE!  (_If your code does not pass, please amend the preprocessing steps and model in Part A._)"
   ]
  },
  {
   "cell_type": "code",
   "execution_count": 8,
   "id": "55acae7b",
   "metadata": {
    "execution": {
     "iopub.execute_input": "2022-05-04T13:09:21.872821Z",
     "iopub.status.busy": "2022-05-04T13:09:21.872598Z",
     "iopub.status.idle": "2022-05-04T13:09:24.775150Z",
     "shell.execute_reply": "2022-05-04T13:09:24.773948Z"
    },
    "papermill": {
     "duration": 2.924847,
     "end_time": "2022-05-04T13:09:24.776632",
     "exception": false,
     "start_time": "2022-05-04T13:09:21.851785",
     "status": "completed"
    },
    "tags": []
   },
   "outputs": [
    {
     "name": "stdout",
     "output_type": "stream",
     "text": [
      "MAE: 17479.87044520548\n"
     ]
    },
    {
     "data": {
      "application/javascript": [
       "parent.postMessage({\"jupyterEvent\": \"custom.exercise_interaction\", \"data\": {\"outcomeType\": 1, \"valueTowardsCompletion\": 1.0, \"interactionType\": 1, \"questionType\": 2, \"questionId\": \"1.2_YourTurnPredict\", \"learnToolsVersion\": \"0.3.4\", \"failureMessage\": \"\", \"exceptionClass\": \"\", \"trace\": \"\"}}, \"*\")"
      ],
      "text/plain": [
       "<IPython.core.display.Javascript object>"
      ]
     },
     "metadata": {},
     "output_type": "display_data"
    },
    {
     "data": {
      "text/markdown": [
       "<span style=\"color:#33cc33\">Correct</span>"
      ],
      "text/plain": [
       "Correct"
      ]
     },
     "metadata": {},
     "output_type": "display_data"
    }
   ],
   "source": [
    "# Bundle preprocessing and modeling code in a pipeline\n",
    "my_pipeline = Pipeline(steps=[('preprocessor', preprocessor),\n",
    "                              ('model', model)\n",
    "                             ])\n",
    "\n",
    "# Preprocessing of training data, fit model \n",
    "my_pipeline.fit(X_train, y_train)\n",
    "\n",
    "# Preprocessing of validation data, get predictions\n",
    "preds = my_pipeline.predict(X_valid)\n",
    "\n",
    "# Evaluate the model\n",
    "score = mean_absolute_error(y_valid, preds)\n",
    "print('MAE:', score)\n",
    "\n",
    "# Check your answer\n",
    "step_1.b.check()"
   ]
  },
  {
   "cell_type": "code",
   "execution_count": 9,
   "id": "a0f3b630",
   "metadata": {
    "execution": {
     "iopub.execute_input": "2022-05-04T13:09:24.820354Z",
     "iopub.status.busy": "2022-05-04T13:09:24.819984Z",
     "iopub.status.idle": "2022-05-04T13:09:24.822295Z",
     "shell.execute_reply": "2022-05-04T13:09:24.821891Z"
    },
    "papermill": {
     "duration": 0.026056,
     "end_time": "2022-05-04T13:09:24.823589",
     "exception": false,
     "start_time": "2022-05-04T13:09:24.797533",
     "status": "completed"
    },
    "tags": []
   },
   "outputs": [],
   "source": [
    "# Line below will give you a hint\n",
    "#step_1.b.hint()"
   ]
  },
  {
   "cell_type": "markdown",
   "id": "551371a6",
   "metadata": {
    "papermill": {
     "duration": 0.031162,
     "end_time": "2022-05-04T13:09:24.882629",
     "exception": false,
     "start_time": "2022-05-04T13:09:24.851467",
     "status": "completed"
    },
    "tags": []
   },
   "source": [
    "# Step 2: Generate test predictions\n",
    "\n",
    "Now, you'll use your trained model to generate predictions with the test data."
   ]
  },
  {
   "cell_type": "code",
   "execution_count": 10,
   "id": "c01f7dbb",
   "metadata": {
    "execution": {
     "iopub.execute_input": "2022-05-04T13:09:24.946963Z",
     "iopub.status.busy": "2022-05-04T13:09:24.946426Z",
     "iopub.status.idle": "2022-05-04T13:09:25.007639Z",
     "shell.execute_reply": "2022-05-04T13:09:25.007090Z"
    },
    "papermill": {
     "duration": 0.095965,
     "end_time": "2022-05-04T13:09:25.010136",
     "exception": false,
     "start_time": "2022-05-04T13:09:24.914171",
     "status": "completed"
    },
    "tags": []
   },
   "outputs": [
    {
     "data": {
      "application/javascript": [
       "parent.postMessage({\"jupyterEvent\": \"custom.exercise_interaction\", \"data\": {\"outcomeType\": 1, \"valueTowardsCompletion\": 1.0, \"interactionType\": 1, \"questionType\": 2, \"questionId\": \"2_TestPreds\", \"learnToolsVersion\": \"0.3.4\", \"failureMessage\": \"\", \"exceptionClass\": \"\", \"trace\": \"\"}}, \"*\")"
      ],
      "text/plain": [
       "<IPython.core.display.Javascript object>"
      ]
     },
     "metadata": {},
     "output_type": "display_data"
    },
    {
     "data": {
      "text/markdown": [
       "<span style=\"color:#33cc33\">Correct</span>"
      ],
      "text/plain": [
       "Correct"
      ]
     },
     "metadata": {},
     "output_type": "display_data"
    }
   ],
   "source": [
    "# Preprocessing of test data, fit model\n",
    "preds_test = my_pipeline.predict(X_test)\n",
    "\n",
    "# Check your answer\n",
    "step_2.check()"
   ]
  },
  {
   "cell_type": "code",
   "execution_count": 11,
   "id": "1b5e7897",
   "metadata": {
    "execution": {
     "iopub.execute_input": "2022-05-04T13:09:25.078193Z",
     "iopub.status.busy": "2022-05-04T13:09:25.077598Z",
     "iopub.status.idle": "2022-05-04T13:09:25.081450Z",
     "shell.execute_reply": "2022-05-04T13:09:25.080904Z"
    },
    "papermill": {
     "duration": 0.040149,
     "end_time": "2022-05-04T13:09:25.083573",
     "exception": false,
     "start_time": "2022-05-04T13:09:25.043424",
     "status": "completed"
    },
    "tags": []
   },
   "outputs": [],
   "source": [
    "# Lines below will give you a hint or solution code\n",
    "#step_2.hint()\n",
    "#step_2.solution()"
   ]
  },
  {
   "cell_type": "markdown",
   "id": "304fc58c",
   "metadata": {
    "papermill": {
     "duration": 0.022565,
     "end_time": "2022-05-04T13:09:25.128943",
     "exception": false,
     "start_time": "2022-05-04T13:09:25.106378",
     "status": "completed"
    },
    "tags": []
   },
   "source": [
    "Run the next code cell without changes to save your results to a CSV file that can be submitted directly to the competition."
   ]
  },
  {
   "cell_type": "code",
   "execution_count": 12,
   "id": "0336cddd",
   "metadata": {
    "execution": {
     "iopub.execute_input": "2022-05-04T13:09:25.175440Z",
     "iopub.status.busy": "2022-05-04T13:09:25.175015Z",
     "iopub.status.idle": "2022-05-04T13:09:25.188517Z",
     "shell.execute_reply": "2022-05-04T13:09:25.187364Z"
    },
    "papermill": {
     "duration": 0.039711,
     "end_time": "2022-05-04T13:09:25.190807",
     "exception": false,
     "start_time": "2022-05-04T13:09:25.151096",
     "status": "completed"
    },
    "tags": []
   },
   "outputs": [],
   "source": [
    "# Save test predictions to file\n",
    "output = pd.DataFrame({'Id': X_test.index,\n",
    "                       'SalePrice': preds_test})\n",
    "output.to_csv('submission.csv', index=False)"
   ]
  },
  {
   "cell_type": "code",
   "execution_count": 13,
   "id": "f4b1d818",
   "metadata": {
    "execution": {
     "iopub.execute_input": "2022-05-04T13:09:25.236213Z",
     "iopub.status.busy": "2022-05-04T13:09:25.235635Z",
     "iopub.status.idle": "2022-05-04T13:09:25.246815Z",
     "shell.execute_reply": "2022-05-04T13:09:25.246121Z"
    },
    "papermill": {
     "duration": 0.036498,
     "end_time": "2022-05-04T13:09:25.248817",
     "exception": false,
     "start_time": "2022-05-04T13:09:25.212319",
     "status": "completed"
    },
    "tags": []
   },
   "outputs": [
    {
     "name": "stdout",
     "output_type": "stream",
     "text": [
      "<class 'pandas.core.frame.DataFrame'>\n",
      "RangeIndex: 1459 entries, 0 to 1458\n",
      "Data columns (total 2 columns):\n",
      " #   Column     Non-Null Count  Dtype  \n",
      "---  ------     --------------  -----  \n",
      " 0   Id         1459 non-null   int64  \n",
      " 1   SalePrice  1459 non-null   float64\n",
      "dtypes: float64(1), int64(1)\n",
      "memory usage: 22.9 KB\n"
     ]
    }
   ],
   "source": [
    "output.info()"
   ]
  },
  {
   "cell_type": "markdown",
   "id": "4e4f0a79",
   "metadata": {
    "papermill": {
     "duration": 0.022737,
     "end_time": "2022-05-04T13:09:25.294187",
     "exception": false,
     "start_time": "2022-05-04T13:09:25.271450",
     "status": "completed"
    },
    "tags": []
   },
   "source": [
    "# Submit your results\n",
    "\n",
    "Once you have successfully completed Step 2, you're ready to submit your results to the leaderboard!  If you choose to do so, make sure that you have already joined the competition by clicking on the **Join Competition** button at [this link](https://www.kaggle.com/c/home-data-for-ml-course).  \n",
    "1. Begin by clicking on the **Save Version** button in the top right corner of the window.  This will generate a pop-up window.  \n",
    "2. Ensure that the **Save and Run All** option is selected, and then click on the **Save** button.\n",
    "3. This generates a window in the bottom left corner of the notebook.  After it has finished running, click on the number to the right of the **Save Version** button.  This pulls up a list of versions on the right of the screen.  Click on the ellipsis **(...)** to the right of the most recent version, and select **Open in Viewer**.  This brings you into view mode of the same page. You will need to scroll down to get back to these instructions.\n",
    "4. Click on the **Output** tab on the right of the screen.  Then, click on the file you would like to submit, and click on the **Submit** button to submit your results to the leaderboard.\n",
    "\n",
    "You have now successfully submitted to the competition!\n",
    "\n",
    "If you want to keep working to improve your performance, select the **Edit** button in the top right of the screen. Then you can change your code and repeat the process. There's a lot of room to improve, and you will climb up the leaderboard as you work.\n",
    "\n",
    "\n",
    "# Keep going\n",
    "\n",
    "Move on to learn about [**cross-validation**](https://www.kaggle.com/alexisbcook/cross-validation), a technique you can use to obtain more accurate estimates of model performance!"
   ]
  },
  {
   "cell_type": "markdown",
   "id": "12c840ad",
   "metadata": {
    "papermill": {
     "duration": 0.022561,
     "end_time": "2022-05-04T13:09:25.339584",
     "exception": false,
     "start_time": "2022-05-04T13:09:25.317023",
     "status": "completed"
    },
    "tags": []
   },
   "source": [
    "---\n",
    "\n",
    "\n",
    "\n",
    "\n",
    "*Have questions or comments? Visit the [course discussion forum](https://www.kaggle.com/learn/intermediate-machine-learning/discussion) to chat with other learners.*"
   ]
  }
 ],
 "metadata": {
  "kernelspec": {
   "display_name": "Python 3",
   "language": "python",
   "name": "python3"
  },
  "language_info": {
   "codemirror_mode": {
    "name": "ipython",
    "version": 3
   },
   "file_extension": ".py",
   "mimetype": "text/x-python",
   "name": "python",
   "nbconvert_exporter": "python",
   "pygments_lexer": "ipython3",
   "version": "3.7.12"
  },
  "papermill": {
   "default_parameters": {},
   "duration": 19.939274,
   "end_time": "2022-05-04T13:09:26.382620",
   "environment_variables": {},
   "exception": null,
   "input_path": "__notebook__.ipynb",
   "output_path": "__notebook__.ipynb",
   "parameters": {},
   "start_time": "2022-05-04T13:09:06.443346",
   "version": "2.3.4"
  }
 },
 "nbformat": 4,
 "nbformat_minor": 5
}
