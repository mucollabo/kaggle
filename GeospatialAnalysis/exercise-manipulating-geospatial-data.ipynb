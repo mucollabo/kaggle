{
 "cells": [
  {
   "cell_type": "markdown",
   "id": "494bb019",
   "metadata": {
    "papermill": {
     "duration": 0.017504,
     "end_time": "2024-02-22T16:11:52.644604",
     "exception": false,
     "start_time": "2024-02-22T16:11:52.627100",
     "status": "completed"
    },
    "tags": []
   },
   "source": [
    "**This notebook is an exercise in the [Geospatial Analysis](https://www.kaggle.com/learn/geospatial-analysis) course.  You can reference the tutorial at [this link](https://www.kaggle.com/alexisbcook/manipulating-geospatial-data).**\n",
    "\n",
    "---\n"
   ]
  },
  {
   "cell_type": "markdown",
   "id": "3d7417c5",
   "metadata": {
    "papermill": {
     "duration": 0.017759,
     "end_time": "2024-02-22T16:11:52.679951",
     "exception": false,
     "start_time": "2024-02-22T16:11:52.662192",
     "status": "completed"
    },
    "tags": []
   },
   "source": [
    "# Introduction\n",
    "\n",
    "You are a Starbucks big data analyst ([that’s a real job!](https://www.forbes.com/sites/bernardmarr/2018/05/28/starbucks-using-big-data-analytics-and-artificial-intelligence-to-boost-performance/#130c7d765cdc)) looking to find the next store into a [Starbucks Reserve Roastery](https://www.businessinsider.com/starbucks-reserve-roastery-compared-regular-starbucks-2018-12#also-on-the-first-floor-was-the-main-coffee-bar-five-hourglass-like-units-hold-the-freshly-roasted-coffee-beans-that-are-used-in-each-order-the-selection-rotates-seasonally-5).  These roasteries are much larger than a typical Starbucks store and have several additional features, including various food and wine options, along with upscale lounge areas.  You'll investigate the demographics of various counties in the state of California, to determine potentially suitable locations.\n",
    "\n",
    "<center>\n",
    "<img src=\"https://storage.googleapis.com/kaggle-media/learn/images/BIyE6kR.png\" width=\"450\"><br/><br/>\n",
    "</center>\n",
    "\n",
    "Before you get started, run the code cell below to set everything up."
   ]
  },
  {
   "cell_type": "code",
   "execution_count": 1,
   "id": "359ebd79",
   "metadata": {
    "execution": {
     "iopub.execute_input": "2024-02-22T16:11:52.715799Z",
     "iopub.status.busy": "2024-02-22T16:11:52.715044Z",
     "iopub.status.idle": "2024-02-22T16:11:56.303281Z",
     "shell.execute_reply": "2024-02-22T16:11:56.302256Z"
    },
    "papermill": {
     "duration": 3.609985,
     "end_time": "2024-02-22T16:11:56.306325",
     "exception": false,
     "start_time": "2024-02-22T16:11:52.696340",
     "status": "completed"
    },
    "tags": []
   },
   "outputs": [],
   "source": [
    "import math\n",
    "import pandas as pd\n",
    "import geopandas as gpd\n",
    "#from geopy.geocoders import Nominatim            # What you'd normally run\n",
    "from learntools.geospatial.tools import Nominatim # Just for this exercise\n",
    "\n",
    "import folium \n",
    "from folium import Marker\n",
    "from folium.plugins import MarkerCluster\n",
    "\n",
    "from learntools.core import binder\n",
    "binder.bind(globals())\n",
    "from learntools.geospatial.ex4 import *"
   ]
  },
  {
   "cell_type": "markdown",
   "id": "0e1ccf2b",
   "metadata": {
    "papermill": {
     "duration": 0.018034,
     "end_time": "2024-02-22T16:11:56.342011",
     "exception": false,
     "start_time": "2024-02-22T16:11:56.323977",
     "status": "completed"
    },
    "tags": []
   },
   "source": [
    "You'll use the `embed_map()` function from the previous exercise to visualize your maps."
   ]
  },
  {
   "cell_type": "code",
   "execution_count": 2,
   "id": "90c910c4",
   "metadata": {
    "execution": {
     "iopub.execute_input": "2024-02-22T16:11:56.376500Z",
     "iopub.status.busy": "2024-02-22T16:11:56.376074Z",
     "iopub.status.idle": "2024-02-22T16:11:56.381288Z",
     "shell.execute_reply": "2024-02-22T16:11:56.380098Z"
    },
    "papermill": {
     "duration": 0.025602,
     "end_time": "2024-02-22T16:11:56.383923",
     "exception": false,
     "start_time": "2024-02-22T16:11:56.358321",
     "status": "completed"
    },
    "tags": []
   },
   "outputs": [],
   "source": [
    "def embed_map(m, file_name):\n",
    "    from IPython.display import IFrame\n",
    "    m.save(file_name)\n",
    "    return IFrame(file_name, width='100%', height='500px')"
   ]
  },
  {
   "cell_type": "markdown",
   "id": "2442c595",
   "metadata": {
    "papermill": {
     "duration": 0.017508,
     "end_time": "2024-02-22T16:11:56.418386",
     "exception": false,
     "start_time": "2024-02-22T16:11:56.400878",
     "status": "completed"
    },
    "tags": []
   },
   "source": [
    "# Exercises\n",
    "\n",
    "### 1) Geocode the missing locations.\n",
    "\n",
    "Run the next code cell to create a DataFrame `starbucks` containing Starbucks locations in the state of California."
   ]
  },
  {
   "cell_type": "code",
   "execution_count": 3,
   "id": "5ba0f792",
   "metadata": {
    "execution": {
     "iopub.execute_input": "2024-02-22T16:11:56.453048Z",
     "iopub.status.busy": "2024-02-22T16:11:56.452666Z",
     "iopub.status.idle": "2024-02-22T16:11:56.486104Z",
     "shell.execute_reply": "2024-02-22T16:11:56.484999Z"
    },
    "papermill": {
     "duration": 0.053807,
     "end_time": "2024-02-22T16:11:56.488766",
     "exception": false,
     "start_time": "2024-02-22T16:11:56.434959",
     "status": "completed"
    },
    "tags": []
   },
   "outputs": [
    {
     "data": {
      "text/html": [
       "<div>\n",
       "<style scoped>\n",
       "    .dataframe tbody tr th:only-of-type {\n",
       "        vertical-align: middle;\n",
       "    }\n",
       "\n",
       "    .dataframe tbody tr th {\n",
       "        vertical-align: top;\n",
       "    }\n",
       "\n",
       "    .dataframe thead th {\n",
       "        text-align: right;\n",
       "    }\n",
       "</style>\n",
       "<table border=\"1\" class=\"dataframe\">\n",
       "  <thead>\n",
       "    <tr style=\"text-align: right;\">\n",
       "      <th></th>\n",
       "      <th>Store Number</th>\n",
       "      <th>Store Name</th>\n",
       "      <th>Address</th>\n",
       "      <th>City</th>\n",
       "      <th>Longitude</th>\n",
       "      <th>Latitude</th>\n",
       "    </tr>\n",
       "  </thead>\n",
       "  <tbody>\n",
       "    <tr>\n",
       "      <th>0</th>\n",
       "      <td>10429-100710</td>\n",
       "      <td>Palmdale &amp; Hwy 395</td>\n",
       "      <td>14136 US Hwy 395 Adelanto CA</td>\n",
       "      <td>Adelanto</td>\n",
       "      <td>-117.40</td>\n",
       "      <td>34.51</td>\n",
       "    </tr>\n",
       "    <tr>\n",
       "      <th>1</th>\n",
       "      <td>635-352</td>\n",
       "      <td>Kanan &amp; Thousand Oaks</td>\n",
       "      <td>5827 Kanan Road Agoura CA</td>\n",
       "      <td>Agoura</td>\n",
       "      <td>-118.76</td>\n",
       "      <td>34.16</td>\n",
       "    </tr>\n",
       "    <tr>\n",
       "      <th>2</th>\n",
       "      <td>74510-27669</td>\n",
       "      <td>Vons-Agoura Hills #2001</td>\n",
       "      <td>5671 Kanan Rd. Agoura Hills CA</td>\n",
       "      <td>Agoura Hills</td>\n",
       "      <td>-118.76</td>\n",
       "      <td>34.15</td>\n",
       "    </tr>\n",
       "    <tr>\n",
       "      <th>3</th>\n",
       "      <td>29839-255026</td>\n",
       "      <td>Target Anaheim T-0677</td>\n",
       "      <td>8148 E SANTA ANA CANYON ROAD AHAHEIM CA</td>\n",
       "      <td>AHAHEIM</td>\n",
       "      <td>-117.75</td>\n",
       "      <td>33.87</td>\n",
       "    </tr>\n",
       "    <tr>\n",
       "      <th>4</th>\n",
       "      <td>23463-230284</td>\n",
       "      <td>Safeway - Alameda 3281</td>\n",
       "      <td>2600 5th Street Alameda CA</td>\n",
       "      <td>Alameda</td>\n",
       "      <td>-122.28</td>\n",
       "      <td>37.79</td>\n",
       "    </tr>\n",
       "  </tbody>\n",
       "</table>\n",
       "</div>"
      ],
      "text/plain": [
       "   Store Number               Store Name  \\\n",
       "0  10429-100710       Palmdale & Hwy 395   \n",
       "1       635-352    Kanan & Thousand Oaks   \n",
       "2   74510-27669  Vons-Agoura Hills #2001   \n",
       "3  29839-255026    Target Anaheim T-0677   \n",
       "4  23463-230284   Safeway - Alameda 3281   \n",
       "\n",
       "                                   Address          City  Longitude  Latitude  \n",
       "0             14136 US Hwy 395 Adelanto CA      Adelanto    -117.40     34.51  \n",
       "1                5827 Kanan Road Agoura CA        Agoura    -118.76     34.16  \n",
       "2           5671 Kanan Rd. Agoura Hills CA  Agoura Hills    -118.76     34.15  \n",
       "3  8148 E SANTA ANA CANYON ROAD AHAHEIM CA       AHAHEIM    -117.75     33.87  \n",
       "4               2600 5th Street Alameda CA       Alameda    -122.28     37.79  "
      ]
     },
     "execution_count": 3,
     "metadata": {},
     "output_type": "execute_result"
    }
   ],
   "source": [
    "# Load and preview Starbucks locations in California\n",
    "starbucks = pd.read_csv(\"../input/geospatial-learn-course-data/starbucks_locations.csv\")\n",
    "starbucks.head()"
   ]
  },
  {
   "cell_type": "markdown",
   "id": "d0008dde",
   "metadata": {
    "papermill": {
     "duration": 0.018914,
     "end_time": "2024-02-22T16:11:56.526189",
     "exception": false,
     "start_time": "2024-02-22T16:11:56.507275",
     "status": "completed"
    },
    "tags": []
   },
   "source": [
    "Most of the stores have known (latitude, longitude) locations.  But, all of the locations in the city of Berkeley are missing."
   ]
  },
  {
   "cell_type": "code",
   "execution_count": 4,
   "id": "288ea733",
   "metadata": {
    "execution": {
     "iopub.execute_input": "2024-02-22T16:11:56.564148Z",
     "iopub.status.busy": "2024-02-22T16:11:56.563472Z",
     "iopub.status.idle": "2024-02-22T16:11:56.583969Z",
     "shell.execute_reply": "2024-02-22T16:11:56.582665Z"
    },
    "papermill": {
     "duration": 0.041869,
     "end_time": "2024-02-22T16:11:56.586774",
     "exception": false,
     "start_time": "2024-02-22T16:11:56.544905",
     "status": "completed"
    },
    "tags": []
   },
   "outputs": [
    {
     "name": "stdout",
     "output_type": "stream",
     "text": [
      "Store Number    0\n",
      "Store Name      0\n",
      "Address         0\n",
      "City            0\n",
      "Longitude       5\n",
      "Latitude        5\n",
      "dtype: int64\n"
     ]
    },
    {
     "data": {
      "text/html": [
       "<div>\n",
       "<style scoped>\n",
       "    .dataframe tbody tr th:only-of-type {\n",
       "        vertical-align: middle;\n",
       "    }\n",
       "\n",
       "    .dataframe tbody tr th {\n",
       "        vertical-align: top;\n",
       "    }\n",
       "\n",
       "    .dataframe thead th {\n",
       "        text-align: right;\n",
       "    }\n",
       "</style>\n",
       "<table border=\"1\" class=\"dataframe\">\n",
       "  <thead>\n",
       "    <tr style=\"text-align: right;\">\n",
       "      <th></th>\n",
       "      <th>Store Number</th>\n",
       "      <th>Store Name</th>\n",
       "      <th>Address</th>\n",
       "      <th>City</th>\n",
       "      <th>Longitude</th>\n",
       "      <th>Latitude</th>\n",
       "    </tr>\n",
       "  </thead>\n",
       "  <tbody>\n",
       "    <tr>\n",
       "      <th>153</th>\n",
       "      <td>5406-945</td>\n",
       "      <td>2224 Shattuck - Berkeley</td>\n",
       "      <td>2224 Shattuck Avenue Berkeley CA</td>\n",
       "      <td>Berkeley</td>\n",
       "      <td>NaN</td>\n",
       "      <td>NaN</td>\n",
       "    </tr>\n",
       "    <tr>\n",
       "      <th>154</th>\n",
       "      <td>570-512</td>\n",
       "      <td>Solano Ave</td>\n",
       "      <td>1799 Solano Avenue Berkeley CA</td>\n",
       "      <td>Berkeley</td>\n",
       "      <td>NaN</td>\n",
       "      <td>NaN</td>\n",
       "    </tr>\n",
       "    <tr>\n",
       "      <th>155</th>\n",
       "      <td>17877-164526</td>\n",
       "      <td>Safeway - Berkeley #691</td>\n",
       "      <td>1444 Shattuck Place Berkeley CA</td>\n",
       "      <td>Berkeley</td>\n",
       "      <td>NaN</td>\n",
       "      <td>NaN</td>\n",
       "    </tr>\n",
       "    <tr>\n",
       "      <th>156</th>\n",
       "      <td>19864-202264</td>\n",
       "      <td>Telegraph &amp; Ashby</td>\n",
       "      <td>3001 Telegraph Avenue Berkeley CA</td>\n",
       "      <td>Berkeley</td>\n",
       "      <td>NaN</td>\n",
       "      <td>NaN</td>\n",
       "    </tr>\n",
       "    <tr>\n",
       "      <th>157</th>\n",
       "      <td>9217-9253</td>\n",
       "      <td>2128 Oxford St.</td>\n",
       "      <td>2128 Oxford Street Berkeley CA</td>\n",
       "      <td>Berkeley</td>\n",
       "      <td>NaN</td>\n",
       "      <td>NaN</td>\n",
       "    </tr>\n",
       "  </tbody>\n",
       "</table>\n",
       "</div>"
      ],
      "text/plain": [
       "     Store Number                Store Name  \\\n",
       "153      5406-945  2224 Shattuck - Berkeley   \n",
       "154       570-512                Solano Ave   \n",
       "155  17877-164526   Safeway - Berkeley #691   \n",
       "156  19864-202264         Telegraph & Ashby   \n",
       "157     9217-9253           2128 Oxford St.   \n",
       "\n",
       "                               Address      City  Longitude  Latitude  \n",
       "153   2224 Shattuck Avenue Berkeley CA  Berkeley        NaN       NaN  \n",
       "154     1799 Solano Avenue Berkeley CA  Berkeley        NaN       NaN  \n",
       "155    1444 Shattuck Place Berkeley CA  Berkeley        NaN       NaN  \n",
       "156  3001 Telegraph Avenue Berkeley CA  Berkeley        NaN       NaN  \n",
       "157     2128 Oxford Street Berkeley CA  Berkeley        NaN       NaN  "
      ]
     },
     "execution_count": 4,
     "metadata": {},
     "output_type": "execute_result"
    }
   ],
   "source": [
    "# How many rows in each column have missing values?\n",
    "print(starbucks.isnull().sum())\n",
    "\n",
    "# View rows with missing locations\n",
    "rows_with_missing = starbucks[starbucks[\"City\"]==\"Berkeley\"]\n",
    "rows_with_missing"
   ]
  },
  {
   "cell_type": "markdown",
   "id": "baf271d4",
   "metadata": {
    "papermill": {
     "duration": 0.017938,
     "end_time": "2024-02-22T16:11:56.623437",
     "exception": false,
     "start_time": "2024-02-22T16:11:56.605499",
     "status": "completed"
    },
    "tags": []
   },
   "source": [
    "Use the code cell below to fill in these values with the Nominatim geocoder.\n",
    "\n",
    "Note that in the tutorial, we used `Nominatim()` (from `geopy.geocoders`) to geocode values, and this is what you can use in your own projects outside of this course.  \n",
    "\n",
    "In this exercise, you will use a slightly different function `Nominatim()` (from `learntools.geospatial.tools`).  This function was imported at the top of the notebook and works identically to the function from GeoPandas.\n",
    "\n",
    "So, in other words, as long as: \n",
    "- you don't change the import statements at the top of the notebook, and \n",
    "- you call the geocoding function as `geocode()` in the code cell below, \n",
    "\n",
    "your code will work as intended!"
   ]
  },
  {
   "cell_type": "code",
   "execution_count": 5,
   "id": "7d14ae7f",
   "metadata": {
    "execution": {
     "iopub.execute_input": "2024-02-22T16:11:56.659546Z",
     "iopub.status.busy": "2024-02-22T16:11:56.659094Z",
     "iopub.status.idle": "2024-02-22T16:11:56.740221Z",
     "shell.execute_reply": "2024-02-22T16:11:56.738686Z"
    },
    "papermill": {
     "duration": 0.102574,
     "end_time": "2024-02-22T16:11:56.743031",
     "exception": false,
     "start_time": "2024-02-22T16:11:56.640457",
     "status": "completed"
    },
    "tags": []
   },
   "outputs": [
    {
     "data": {
      "application/javascript": [
       "parent.postMessage({\"jupyterEvent\": \"custom.exercise_interaction\", \"data\": {\"outcomeType\": 1, \"valueTowardsCompletion\": 0.2, \"interactionType\": 1, \"questionType\": 2, \"questionId\": \"1_Q1\", \"learnToolsVersion\": \"0.3.4\", \"failureMessage\": \"\", \"exceptionClass\": \"\", \"trace\": \"\"}}, \"*\")"
      ],
      "text/plain": [
       "<IPython.core.display.Javascript object>"
      ]
     },
     "metadata": {},
     "output_type": "display_data"
    },
    {
     "data": {
      "text/markdown": [
       "<span style=\"color:#33cc33\">Correct</span>"
      ],
      "text/plain": [
       "Correct"
      ]
     },
     "metadata": {},
     "output_type": "display_data"
    }
   ],
   "source": [
    "# Create the geocoder\n",
    "geolocator = Nominatim(user_agent=\"kaggle_learn\")\n",
    "\n",
    "# Your code here\n",
    "def my_geocoder(row):\n",
    "    point = geolocator.geocode(row).point\n",
    "    return pd.Series({'Latitude': point.latitude, 'Longitude': point.longitude})\n",
    "    \n",
    "berkeley_locations = rows_with_missing.apply(lambda x: my_geocoder(x['Address']), axis=1)\n",
    "starbucks.update(berkeley_locations)\n",
    "\n",
    "# Check your answer\n",
    "q_1.check()"
   ]
  },
  {
   "cell_type": "code",
   "execution_count": 6,
   "id": "4633c455",
   "metadata": {
    "execution": {
     "iopub.execute_input": "2024-02-22T16:11:56.781465Z",
     "iopub.status.busy": "2024-02-22T16:11:56.780833Z",
     "iopub.status.idle": "2024-02-22T16:11:56.792226Z",
     "shell.execute_reply": "2024-02-22T16:11:56.791308Z"
    },
    "papermill": {
     "duration": 0.033475,
     "end_time": "2024-02-22T16:11:56.794656",
     "exception": false,
     "start_time": "2024-02-22T16:11:56.761181",
     "status": "completed"
    },
    "tags": []
   },
   "outputs": [
    {
     "data": {
      "text/html": [
       "<div>\n",
       "<style scoped>\n",
       "    .dataframe tbody tr th:only-of-type {\n",
       "        vertical-align: middle;\n",
       "    }\n",
       "\n",
       "    .dataframe tbody tr th {\n",
       "        vertical-align: top;\n",
       "    }\n",
       "\n",
       "    .dataframe thead th {\n",
       "        text-align: right;\n",
       "    }\n",
       "</style>\n",
       "<table border=\"1\" class=\"dataframe\">\n",
       "  <thead>\n",
       "    <tr style=\"text-align: right;\">\n",
       "      <th></th>\n",
       "      <th>Latitude</th>\n",
       "      <th>Longitude</th>\n",
       "    </tr>\n",
       "  </thead>\n",
       "  <tbody>\n",
       "    <tr>\n",
       "      <th>153</th>\n",
       "      <td>37.868839</td>\n",
       "      <td>-122.268230</td>\n",
       "    </tr>\n",
       "    <tr>\n",
       "      <th>154</th>\n",
       "      <td>37.891383</td>\n",
       "      <td>-122.280050</td>\n",
       "    </tr>\n",
       "    <tr>\n",
       "      <th>155</th>\n",
       "      <td>37.880907</td>\n",
       "      <td>-122.269679</td>\n",
       "    </tr>\n",
       "    <tr>\n",
       "      <th>156</th>\n",
       "      <td>37.855947</td>\n",
       "      <td>-122.259370</td>\n",
       "    </tr>\n",
       "    <tr>\n",
       "      <th>157</th>\n",
       "      <td>37.870410</td>\n",
       "      <td>-122.266079</td>\n",
       "    </tr>\n",
       "  </tbody>\n",
       "</table>\n",
       "</div>"
      ],
      "text/plain": [
       "      Latitude   Longitude\n",
       "153  37.868839 -122.268230\n",
       "154  37.891383 -122.280050\n",
       "155  37.880907 -122.269679\n",
       "156  37.855947 -122.259370\n",
       "157  37.870410 -122.266079"
      ]
     },
     "execution_count": 6,
     "metadata": {},
     "output_type": "execute_result"
    }
   ],
   "source": [
    "berkeley_locations.head()"
   ]
  },
  {
   "cell_type": "code",
   "execution_count": 7,
   "id": "e1501ab5",
   "metadata": {
    "execution": {
     "iopub.execute_input": "2024-02-22T16:11:56.832763Z",
     "iopub.status.busy": "2024-02-22T16:11:56.832310Z",
     "iopub.status.idle": "2024-02-22T16:11:56.847508Z",
     "shell.execute_reply": "2024-02-22T16:11:56.846277Z"
    },
    "papermill": {
     "duration": 0.037039,
     "end_time": "2024-02-22T16:11:56.850312",
     "exception": false,
     "start_time": "2024-02-22T16:11:56.813273",
     "status": "completed"
    },
    "tags": []
   },
   "outputs": [
    {
     "data": {
      "text/html": [
       "<div>\n",
       "<style scoped>\n",
       "    .dataframe tbody tr th:only-of-type {\n",
       "        vertical-align: middle;\n",
       "    }\n",
       "\n",
       "    .dataframe tbody tr th {\n",
       "        vertical-align: top;\n",
       "    }\n",
       "\n",
       "    .dataframe thead th {\n",
       "        text-align: right;\n",
       "    }\n",
       "</style>\n",
       "<table border=\"1\" class=\"dataframe\">\n",
       "  <thead>\n",
       "    <tr style=\"text-align: right;\">\n",
       "      <th></th>\n",
       "      <th>Store Number</th>\n",
       "      <th>Store Name</th>\n",
       "      <th>Address</th>\n",
       "      <th>City</th>\n",
       "      <th>Longitude</th>\n",
       "      <th>Latitude</th>\n",
       "    </tr>\n",
       "  </thead>\n",
       "  <tbody>\n",
       "    <tr>\n",
       "      <th>153</th>\n",
       "      <td>5406-945</td>\n",
       "      <td>2224 Shattuck - Berkeley</td>\n",
       "      <td>2224 Shattuck Avenue Berkeley CA</td>\n",
       "      <td>Berkeley</td>\n",
       "      <td>-122.268230</td>\n",
       "      <td>37.868839</td>\n",
       "    </tr>\n",
       "    <tr>\n",
       "      <th>154</th>\n",
       "      <td>570-512</td>\n",
       "      <td>Solano Ave</td>\n",
       "      <td>1799 Solano Avenue Berkeley CA</td>\n",
       "      <td>Berkeley</td>\n",
       "      <td>-122.280050</td>\n",
       "      <td>37.891383</td>\n",
       "    </tr>\n",
       "    <tr>\n",
       "      <th>155</th>\n",
       "      <td>17877-164526</td>\n",
       "      <td>Safeway - Berkeley #691</td>\n",
       "      <td>1444 Shattuck Place Berkeley CA</td>\n",
       "      <td>Berkeley</td>\n",
       "      <td>-122.269679</td>\n",
       "      <td>37.880907</td>\n",
       "    </tr>\n",
       "    <tr>\n",
       "      <th>156</th>\n",
       "      <td>19864-202264</td>\n",
       "      <td>Telegraph &amp; Ashby</td>\n",
       "      <td>3001 Telegraph Avenue Berkeley CA</td>\n",
       "      <td>Berkeley</td>\n",
       "      <td>-122.259370</td>\n",
       "      <td>37.855947</td>\n",
       "    </tr>\n",
       "    <tr>\n",
       "      <th>157</th>\n",
       "      <td>9217-9253</td>\n",
       "      <td>2128 Oxford St.</td>\n",
       "      <td>2128 Oxford Street Berkeley CA</td>\n",
       "      <td>Berkeley</td>\n",
       "      <td>-122.266079</td>\n",
       "      <td>37.870410</td>\n",
       "    </tr>\n",
       "  </tbody>\n",
       "</table>\n",
       "</div>"
      ],
      "text/plain": [
       "     Store Number                Store Name  \\\n",
       "153      5406-945  2224 Shattuck - Berkeley   \n",
       "154       570-512                Solano Ave   \n",
       "155  17877-164526   Safeway - Berkeley #691   \n",
       "156  19864-202264         Telegraph & Ashby   \n",
       "157     9217-9253           2128 Oxford St.   \n",
       "\n",
       "                               Address      City   Longitude   Latitude  \n",
       "153   2224 Shattuck Avenue Berkeley CA  Berkeley -122.268230  37.868839  \n",
       "154     1799 Solano Avenue Berkeley CA  Berkeley -122.280050  37.891383  \n",
       "155    1444 Shattuck Place Berkeley CA  Berkeley -122.269679  37.880907  \n",
       "156  3001 Telegraph Avenue Berkeley CA  Berkeley -122.259370  37.855947  \n",
       "157     2128 Oxford Street Berkeley CA  Berkeley -122.266079  37.870410  "
      ]
     },
     "execution_count": 7,
     "metadata": {},
     "output_type": "execute_result"
    }
   ],
   "source": [
    "starbucks[153:158]"
   ]
  },
  {
   "cell_type": "code",
   "execution_count": 8,
   "id": "942f22f5",
   "metadata": {
    "execution": {
     "iopub.execute_input": "2024-02-22T16:11:56.889822Z",
     "iopub.status.busy": "2024-02-22T16:11:56.889386Z",
     "iopub.status.idle": "2024-02-22T16:11:56.894745Z",
     "shell.execute_reply": "2024-02-22T16:11:56.893411Z"
    },
    "papermill": {
     "duration": 0.028027,
     "end_time": "2024-02-22T16:11:56.897298",
     "exception": false,
     "start_time": "2024-02-22T16:11:56.869271",
     "status": "completed"
    },
    "tags": []
   },
   "outputs": [],
   "source": [
    "# Line below will give you solution code\n",
    "# q_1.solution()"
   ]
  },
  {
   "cell_type": "markdown",
   "id": "4a27eb31",
   "metadata": {
    "papermill": {
     "duration": 0.017557,
     "end_time": "2024-02-22T16:11:56.933200",
     "exception": false,
     "start_time": "2024-02-22T16:11:56.915643",
     "status": "completed"
    },
    "tags": []
   },
   "source": [
    "### 2) View Berkeley locations.\n",
    "\n",
    "Let's take a look at the locations you just found.  Visualize the (latitude, longitude) locations in Berkeley in the OpenStreetMap style. "
   ]
  },
  {
   "cell_type": "code",
   "execution_count": 9,
   "id": "91776fab",
   "metadata": {
    "execution": {
     "iopub.execute_input": "2024-02-22T16:11:56.971972Z",
     "iopub.status.busy": "2024-02-22T16:11:56.971561Z",
     "iopub.status.idle": "2024-02-22T16:11:56.992950Z",
     "shell.execute_reply": "2024-02-22T16:11:56.991981Z"
    },
    "papermill": {
     "duration": 0.043188,
     "end_time": "2024-02-22T16:11:56.995339",
     "exception": false,
     "start_time": "2024-02-22T16:11:56.952151",
     "status": "completed"
    },
    "tags": []
   },
   "outputs": [
    {
     "data": {
      "text/html": [
       "\n",
       "        <iframe\n",
       "            width=\"100%\"\n",
       "            height=\"500px\"\n",
       "            src=\"q_2.html\"\n",
       "            frameborder=\"0\"\n",
       "            allowfullscreen\n",
       "            \n",
       "        ></iframe>\n",
       "        "
      ],
      "text/plain": [
       "<IPython.lib.display.IFrame at 0x7d1ceb679ab0>"
      ]
     },
     "execution_count": 9,
     "metadata": {},
     "output_type": "execute_result"
    }
   ],
   "source": [
    "# Create a base map\n",
    "m_2 = folium.Map(location=[37.88,-122.26], zoom_start=13)\n",
    "\n",
    "# Your code here: Add a marker for each Berkeley location\n",
    "for idx, row in berkeley_locations.iterrows():\n",
    "    Marker([row['Latitude'], row['Longitude']]).add_to(m_2)\n",
    "\n",
    "# Uncomment to see a hint\n",
    "#q_2.a.hint()\n",
    "\n",
    "# Show the map\n",
    "embed_map(m_2, 'q_2.html')"
   ]
  },
  {
   "cell_type": "code",
   "execution_count": 10,
   "id": "fad58f30",
   "metadata": {
    "execution": {
     "iopub.execute_input": "2024-02-22T16:11:57.035170Z",
     "iopub.status.busy": "2024-02-22T16:11:57.034668Z",
     "iopub.status.idle": "2024-02-22T16:11:57.044445Z",
     "shell.execute_reply": "2024-02-22T16:11:57.043202Z"
    },
    "papermill": {
     "duration": 0.032186,
     "end_time": "2024-02-22T16:11:57.047252",
     "exception": false,
     "start_time": "2024-02-22T16:11:57.015066",
     "status": "completed"
    },
    "tags": []
   },
   "outputs": [
    {
     "data": {
      "application/javascript": [
       "parent.postMessage({\"jupyterEvent\": \"custom.exercise_interaction\", \"data\": {\"outcomeType\": 1, \"valueTowardsCompletion\": 0.2, \"interactionType\": 1, \"questionType\": 2, \"questionId\": \"2.1_Q2P\", \"learnToolsVersion\": \"0.3.4\", \"failureMessage\": \"\", \"exceptionClass\": \"\", \"trace\": \"\"}}, \"*\")"
      ],
      "text/plain": [
       "<IPython.core.display.Javascript object>"
      ]
     },
     "metadata": {},
     "output_type": "display_data"
    },
    {
     "data": {
      "text/markdown": [
       "<span style=\"color:#33cc33\">Thank you for creating a map!</span>"
      ],
      "text/plain": [
       "Thank you for creating a map!"
      ]
     },
     "metadata": {},
     "output_type": "display_data"
    }
   ],
   "source": [
    "# Get credit for your work after you have created a map\n",
    "q_2.a.check()\n",
    "\n",
    "# Uncomment to see our solution (your code may look different!)\n",
    "#q_2.a.solution()"
   ]
  },
  {
   "cell_type": "markdown",
   "id": "71c10079",
   "metadata": {
    "papermill": {
     "duration": 0.019225,
     "end_time": "2024-02-22T16:11:57.084952",
     "exception": false,
     "start_time": "2024-02-22T16:11:57.065727",
     "status": "completed"
    },
    "tags": []
   },
   "source": [
    "Considering only the five locations in Berkeley, how many of the (latitude, longitude) locations seem potentially correct (are located in the correct city)?"
   ]
  },
  {
   "cell_type": "code",
   "execution_count": 11,
   "id": "8a8729a4",
   "metadata": {
    "execution": {
     "iopub.execute_input": "2024-02-22T16:11:57.127448Z",
     "iopub.status.busy": "2024-02-22T16:11:57.126983Z",
     "iopub.status.idle": "2024-02-22T16:11:57.136031Z",
     "shell.execute_reply": "2024-02-22T16:11:57.134820Z"
    },
    "papermill": {
     "duration": 0.032894,
     "end_time": "2024-02-22T16:11:57.138283",
     "exception": false,
     "start_time": "2024-02-22T16:11:57.105389",
     "status": "completed"
    },
    "tags": []
   },
   "outputs": [
    {
     "data": {
      "application/javascript": [
       "parent.postMessage({\"jupyterEvent\": \"custom.exercise_interaction\", \"data\": {\"interactionType\": 3, \"questionType\": 4, \"questionId\": \"2.2_Q2T\", \"learnToolsVersion\": \"0.3.4\", \"valueTowardsCompletion\": 0.0, \"failureMessage\": \"\", \"exceptionClass\": \"\", \"trace\": \"\", \"outcomeType\": 4}}, \"*\")"
      ],
      "text/plain": [
       "<IPython.core.display.Javascript object>"
      ]
     },
     "metadata": {},
     "output_type": "display_data"
    },
    {
     "data": {
      "text/markdown": [
       "<span style=\"color:#33cc99\">Solution:</span> All five locations appear to be correct!"
      ],
      "text/plain": [
       "Solution: All five locations appear to be correct!"
      ]
     },
     "metadata": {},
     "output_type": "display_data"
    }
   ],
   "source": [
    "# View the solution (Run this code cell to receive credit!)\n",
    "q_2.b.solution()"
   ]
  },
  {
   "cell_type": "markdown",
   "id": "c4b74c73",
   "metadata": {
    "papermill": {
     "duration": 0.01854,
     "end_time": "2024-02-22T16:11:57.176149",
     "exception": false,
     "start_time": "2024-02-22T16:11:57.157609",
     "status": "completed"
    },
    "tags": []
   },
   "source": [
    "### 3) Consolidate your data.\n",
    "\n",
    "Run the code below to load a GeoDataFrame `CA_counties` containing the name, area (in square kilometers), and a unique id (in the \"GEOID\" column) for each county in the state of California.  The \"geometry\" column contains a polygon with county boundaries."
   ]
  },
  {
   "cell_type": "code",
   "execution_count": 12,
   "id": "019d3114",
   "metadata": {
    "execution": {
     "iopub.execute_input": "2024-02-22T16:11:57.215959Z",
     "iopub.status.busy": "2024-02-22T16:11:57.215167Z",
     "iopub.status.idle": "2024-02-22T16:11:57.481738Z",
     "shell.execute_reply": "2024-02-22T16:11:57.480450Z"
    },
    "papermill": {
     "duration": 0.289807,
     "end_time": "2024-02-22T16:11:57.484573",
     "exception": false,
     "start_time": "2024-02-22T16:11:57.194766",
     "status": "completed"
    },
    "tags": []
   },
   "outputs": [
    {
     "name": "stderr",
     "output_type": "stream",
     "text": [
      "/opt/conda/lib/python3.10/site-packages/pyproj/crs/crs.py:141: FutureWarning: '+init=<authority>:<code>' syntax is deprecated. '<authority>:<code>' is the preferred initialization method. When making the change, be mindful of axis order changes: https://pyproj4.github.io/pyproj/stable/gotchas.html#axis-order-changes-in-proj-6\n",
      "  in_crs_string = _prepare_from_proj_string(in_crs_string)\n"
     ]
    },
    {
     "data": {
      "text/html": [
       "<div>\n",
       "<style scoped>\n",
       "    .dataframe tbody tr th:only-of-type {\n",
       "        vertical-align: middle;\n",
       "    }\n",
       "\n",
       "    .dataframe tbody tr th {\n",
       "        vertical-align: top;\n",
       "    }\n",
       "\n",
       "    .dataframe thead th {\n",
       "        text-align: right;\n",
       "    }\n",
       "</style>\n",
       "<table border=\"1\" class=\"dataframe\">\n",
       "  <thead>\n",
       "    <tr style=\"text-align: right;\">\n",
       "      <th></th>\n",
       "      <th>GEOID</th>\n",
       "      <th>name</th>\n",
       "      <th>area_sqkm</th>\n",
       "      <th>geometry</th>\n",
       "    </tr>\n",
       "  </thead>\n",
       "  <tbody>\n",
       "    <tr>\n",
       "      <th>0</th>\n",
       "      <td>6091</td>\n",
       "      <td>Sierra County</td>\n",
       "      <td>2491.995494</td>\n",
       "      <td>POLYGON ((-120.65560 39.69357, -120.65554 39.6...</td>\n",
       "    </tr>\n",
       "    <tr>\n",
       "      <th>1</th>\n",
       "      <td>6067</td>\n",
       "      <td>Sacramento County</td>\n",
       "      <td>2575.258262</td>\n",
       "      <td>POLYGON ((-121.18858 38.71431, -121.18732 38.7...</td>\n",
       "    </tr>\n",
       "    <tr>\n",
       "      <th>2</th>\n",
       "      <td>6083</td>\n",
       "      <td>Santa Barbara County</td>\n",
       "      <td>9813.817958</td>\n",
       "      <td>MULTIPOLYGON (((-120.58191 34.09856, -120.5822...</td>\n",
       "    </tr>\n",
       "    <tr>\n",
       "      <th>3</th>\n",
       "      <td>6009</td>\n",
       "      <td>Calaveras County</td>\n",
       "      <td>2685.626726</td>\n",
       "      <td>POLYGON ((-120.63095 38.34111, -120.63058 38.3...</td>\n",
       "    </tr>\n",
       "    <tr>\n",
       "      <th>4</th>\n",
       "      <td>6111</td>\n",
       "      <td>Ventura County</td>\n",
       "      <td>5719.321379</td>\n",
       "      <td>MULTIPOLYGON (((-119.63631 33.27304, -119.6360...</td>\n",
       "    </tr>\n",
       "  </tbody>\n",
       "</table>\n",
       "</div>"
      ],
      "text/plain": [
       "   GEOID                  name    area_sqkm  \\\n",
       "0   6091         Sierra County  2491.995494   \n",
       "1   6067     Sacramento County  2575.258262   \n",
       "2   6083  Santa Barbara County  9813.817958   \n",
       "3   6009      Calaveras County  2685.626726   \n",
       "4   6111        Ventura County  5719.321379   \n",
       "\n",
       "                                            geometry  \n",
       "0  POLYGON ((-120.65560 39.69357, -120.65554 39.6...  \n",
       "1  POLYGON ((-121.18858 38.71431, -121.18732 38.7...  \n",
       "2  MULTIPOLYGON (((-120.58191 34.09856, -120.5822...  \n",
       "3  POLYGON ((-120.63095 38.34111, -120.63058 38.3...  \n",
       "4  MULTIPOLYGON (((-119.63631 33.27304, -119.6360...  "
      ]
     },
     "execution_count": 12,
     "metadata": {},
     "output_type": "execute_result"
    }
   ],
   "source": [
    "CA_counties = gpd.read_file(\"../input/geospatial-learn-course-data/CA_county_boundaries/CA_county_boundaries/CA_county_boundaries.shp\")\n",
    "CA_counties.crs = {'init': 'epsg:4326'}\n",
    "CA_counties.head()"
   ]
  },
  {
   "cell_type": "markdown",
   "id": "72827ceb",
   "metadata": {
    "papermill": {
     "duration": 0.01881,
     "end_time": "2024-02-22T16:11:57.522364",
     "exception": false,
     "start_time": "2024-02-22T16:11:57.503554",
     "status": "completed"
    },
    "tags": []
   },
   "source": [
    "Next, we create three DataFrames:\n",
    "- `CA_pop` contains an estimate of the population of each county.\n",
    "- `CA_high_earners` contains the number of households with an income of at least $150,000 per year.\n",
    "- `CA_median_age` contains the median age for each county."
   ]
  },
  {
   "cell_type": "code",
   "execution_count": 13,
   "id": "9bf6bcea",
   "metadata": {
    "execution": {
     "iopub.execute_input": "2024-02-22T16:11:57.626168Z",
     "iopub.status.busy": "2024-02-22T16:11:57.625795Z",
     "iopub.status.idle": "2024-02-22T16:11:57.639175Z",
     "shell.execute_reply": "2024-02-22T16:11:57.637617Z"
    },
    "papermill": {
     "duration": 0.036703,
     "end_time": "2024-02-22T16:11:57.641665",
     "exception": false,
     "start_time": "2024-02-22T16:11:57.604962",
     "status": "completed"
    },
    "tags": []
   },
   "outputs": [],
   "source": [
    "CA_pop = pd.read_csv(\"../input/geospatial-learn-course-data/CA_county_population.csv\", index_col=\"GEOID\")\n",
    "CA_high_earners = pd.read_csv(\"../input/geospatial-learn-course-data/CA_county_high_earners.csv\", index_col=\"GEOID\")\n",
    "CA_median_age = pd.read_csv(\"../input/geospatial-learn-course-data/CA_county_median_age.csv\", index_col=\"GEOID\")"
   ]
  },
  {
   "cell_type": "markdown",
   "id": "742adc7a",
   "metadata": {
    "papermill": {
     "duration": 0.020936,
     "end_time": "2024-02-22T16:11:57.682183",
     "exception": false,
     "start_time": "2024-02-22T16:11:57.661247",
     "status": "completed"
    },
    "tags": []
   },
   "source": [
    "Use the next code cell to join the `CA_counties` GeoDataFrame with `CA_pop`, `CA_high_earners`, and `CA_median_age`.\n",
    "\n",
    "Name the resultant GeoDataFrame `CA_stats`, and make sure it has 8 columns: \"GEOID\", \"name\", \"area_sqkm\", \"geometry\", \"population\", \"high_earners\", and \"median_age\".  "
   ]
  },
  {
   "cell_type": "code",
   "execution_count": 14,
   "id": "ad9227d0",
   "metadata": {
    "execution": {
     "iopub.execute_input": "2024-02-22T16:11:57.725508Z",
     "iopub.status.busy": "2024-02-22T16:11:57.724694Z",
     "iopub.status.idle": "2024-02-22T16:11:57.734988Z",
     "shell.execute_reply": "2024-02-22T16:11:57.733769Z"
    },
    "papermill": {
     "duration": 0.03514,
     "end_time": "2024-02-22T16:11:57.737633",
     "exception": false,
     "start_time": "2024-02-22T16:11:57.702493",
     "status": "completed"
    },
    "tags": []
   },
   "outputs": [
    {
     "data": {
      "text/html": [
       "<div>\n",
       "<style scoped>\n",
       "    .dataframe tbody tr th:only-of-type {\n",
       "        vertical-align: middle;\n",
       "    }\n",
       "\n",
       "    .dataframe tbody tr th {\n",
       "        vertical-align: top;\n",
       "    }\n",
       "\n",
       "    .dataframe thead th {\n",
       "        text-align: right;\n",
       "    }\n",
       "</style>\n",
       "<table border=\"1\" class=\"dataframe\">\n",
       "  <thead>\n",
       "    <tr style=\"text-align: right;\">\n",
       "      <th></th>\n",
       "      <th>population</th>\n",
       "    </tr>\n",
       "    <tr>\n",
       "      <th>GEOID</th>\n",
       "      <th></th>\n",
       "    </tr>\n",
       "  </thead>\n",
       "  <tbody>\n",
       "    <tr>\n",
       "      <th>6001</th>\n",
       "      <td>1666753</td>\n",
       "    </tr>\n",
       "    <tr>\n",
       "      <th>6003</th>\n",
       "      <td>1101</td>\n",
       "    </tr>\n",
       "    <tr>\n",
       "      <th>6005</th>\n",
       "      <td>39383</td>\n",
       "    </tr>\n",
       "    <tr>\n",
       "      <th>6007</th>\n",
       "      <td>231256</td>\n",
       "    </tr>\n",
       "    <tr>\n",
       "      <th>6009</th>\n",
       "      <td>45602</td>\n",
       "    </tr>\n",
       "  </tbody>\n",
       "</table>\n",
       "</div>"
      ],
      "text/plain": [
       "       population\n",
       "GEOID            \n",
       "6001      1666753\n",
       "6003         1101\n",
       "6005        39383\n",
       "6007       231256\n",
       "6009        45602"
      ]
     },
     "execution_count": 14,
     "metadata": {},
     "output_type": "execute_result"
    }
   ],
   "source": [
    "CA_pop.head()"
   ]
  },
  {
   "cell_type": "code",
   "execution_count": 15,
   "id": "a0170fae",
   "metadata": {
    "execution": {
     "iopub.execute_input": "2024-02-22T16:11:57.778115Z",
     "iopub.status.busy": "2024-02-22T16:11:57.777745Z",
     "iopub.status.idle": "2024-02-22T16:11:57.787063Z",
     "shell.execute_reply": "2024-02-22T16:11:57.785913Z"
    },
    "papermill": {
     "duration": 0.032416,
     "end_time": "2024-02-22T16:11:57.789468",
     "exception": false,
     "start_time": "2024-02-22T16:11:57.757052",
     "status": "completed"
    },
    "tags": []
   },
   "outputs": [
    {
     "data": {
      "text/html": [
       "<div>\n",
       "<style scoped>\n",
       "    .dataframe tbody tr th:only-of-type {\n",
       "        vertical-align: middle;\n",
       "    }\n",
       "\n",
       "    .dataframe tbody tr th {\n",
       "        vertical-align: top;\n",
       "    }\n",
       "\n",
       "    .dataframe thead th {\n",
       "        text-align: right;\n",
       "    }\n",
       "</style>\n",
       "<table border=\"1\" class=\"dataframe\">\n",
       "  <thead>\n",
       "    <tr style=\"text-align: right;\">\n",
       "      <th></th>\n",
       "      <th>high_earners</th>\n",
       "    </tr>\n",
       "    <tr>\n",
       "      <th>GEOID</th>\n",
       "      <th></th>\n",
       "    </tr>\n",
       "  </thead>\n",
       "  <tbody>\n",
       "    <tr>\n",
       "      <th>6001</th>\n",
       "      <td>145696</td>\n",
       "    </tr>\n",
       "    <tr>\n",
       "      <th>6003</th>\n",
       "      <td>30</td>\n",
       "    </tr>\n",
       "    <tr>\n",
       "      <th>6005</th>\n",
       "      <td>1220</td>\n",
       "    </tr>\n",
       "    <tr>\n",
       "      <th>6007</th>\n",
       "      <td>6860</td>\n",
       "    </tr>\n",
       "    <tr>\n",
       "      <th>6009</th>\n",
       "      <td>2046</td>\n",
       "    </tr>\n",
       "  </tbody>\n",
       "</table>\n",
       "</div>"
      ],
      "text/plain": [
       "       high_earners\n",
       "GEOID              \n",
       "6001         145696\n",
       "6003             30\n",
       "6005           1220\n",
       "6007           6860\n",
       "6009           2046"
      ]
     },
     "execution_count": 15,
     "metadata": {},
     "output_type": "execute_result"
    }
   ],
   "source": [
    "CA_high_earners.head()"
   ]
  },
  {
   "cell_type": "code",
   "execution_count": 16,
   "id": "317d2559",
   "metadata": {
    "execution": {
     "iopub.execute_input": "2024-02-22T16:11:57.831730Z",
     "iopub.status.busy": "2024-02-22T16:11:57.831314Z",
     "iopub.status.idle": "2024-02-22T16:11:57.842663Z",
     "shell.execute_reply": "2024-02-22T16:11:57.841213Z"
    },
    "papermill": {
     "duration": 0.036034,
     "end_time": "2024-02-22T16:11:57.845257",
     "exception": false,
     "start_time": "2024-02-22T16:11:57.809223",
     "status": "completed"
    },
    "tags": []
   },
   "outputs": [
    {
     "data": {
      "text/html": [
       "<div>\n",
       "<style scoped>\n",
       "    .dataframe tbody tr th:only-of-type {\n",
       "        vertical-align: middle;\n",
       "    }\n",
       "\n",
       "    .dataframe tbody tr th {\n",
       "        vertical-align: top;\n",
       "    }\n",
       "\n",
       "    .dataframe thead th {\n",
       "        text-align: right;\n",
       "    }\n",
       "</style>\n",
       "<table border=\"1\" class=\"dataframe\">\n",
       "  <thead>\n",
       "    <tr style=\"text-align: right;\">\n",
       "      <th></th>\n",
       "      <th>median_age</th>\n",
       "    </tr>\n",
       "    <tr>\n",
       "      <th>GEOID</th>\n",
       "      <th></th>\n",
       "    </tr>\n",
       "  </thead>\n",
       "  <tbody>\n",
       "    <tr>\n",
       "      <th>6001</th>\n",
       "      <td>37.3</td>\n",
       "    </tr>\n",
       "    <tr>\n",
       "      <th>6003</th>\n",
       "      <td>44.9</td>\n",
       "    </tr>\n",
       "    <tr>\n",
       "      <th>6005</th>\n",
       "      <td>50.6</td>\n",
       "    </tr>\n",
       "    <tr>\n",
       "      <th>6007</th>\n",
       "      <td>36.9</td>\n",
       "    </tr>\n",
       "    <tr>\n",
       "      <th>6009</th>\n",
       "      <td>51.6</td>\n",
       "    </tr>\n",
       "  </tbody>\n",
       "</table>\n",
       "</div>"
      ],
      "text/plain": [
       "       median_age\n",
       "GEOID            \n",
       "6001         37.3\n",
       "6003         44.9\n",
       "6005         50.6\n",
       "6007         36.9\n",
       "6009         51.6"
      ]
     },
     "execution_count": 16,
     "metadata": {},
     "output_type": "execute_result"
    }
   ],
   "source": [
    "CA_median_age.head()"
   ]
  },
  {
   "cell_type": "code",
   "execution_count": 17,
   "id": "6bdb3551",
   "metadata": {
    "execution": {
     "iopub.execute_input": "2024-02-22T16:11:57.889474Z",
     "iopub.status.busy": "2024-02-22T16:11:57.889082Z",
     "iopub.status.idle": "2024-02-22T16:11:58.087938Z",
     "shell.execute_reply": "2024-02-22T16:11:58.086226Z"
    },
    "papermill": {
     "duration": 0.223907,
     "end_time": "2024-02-22T16:11:58.091058",
     "exception": false,
     "start_time": "2024-02-22T16:11:57.867151",
     "status": "completed"
    },
    "tags": []
   },
   "outputs": [
    {
     "data": {
      "application/javascript": [
       "parent.postMessage({\"jupyterEvent\": \"custom.exercise_interaction\", \"data\": {\"outcomeType\": 1, \"valueTowardsCompletion\": 0.2, \"interactionType\": 1, \"questionType\": 2, \"questionId\": \"3_Q3\", \"learnToolsVersion\": \"0.3.4\", \"failureMessage\": \"\", \"exceptionClass\": \"\", \"trace\": \"\"}}, \"*\")"
      ],
      "text/plain": [
       "<IPython.core.display.Javascript object>"
      ]
     },
     "metadata": {},
     "output_type": "display_data"
    },
    {
     "data": {
      "text/markdown": [
       "<span style=\"color:#33cc33\">Correct</span>"
      ],
      "text/plain": [
       "Correct"
      ]
     },
     "metadata": {},
     "output_type": "display_data"
    }
   ],
   "source": [
    "# Your code here\n",
    "CA_stats = CA_counties.merge(CA_pop, on='GEOID')\n",
    "CA_stats = CA_stats.merge(CA_high_earners, on='GEOID')\n",
    "CA_stats = CA_stats.merge(CA_median_age, on='GEOID')\n",
    "\n",
    "# Check your answer\n",
    "q_3.check()"
   ]
  },
  {
   "cell_type": "code",
   "execution_count": 18,
   "id": "7b648065",
   "metadata": {
    "execution": {
     "iopub.execute_input": "2024-02-22T16:11:58.148565Z",
     "iopub.status.busy": "2024-02-22T16:11:58.148122Z",
     "iopub.status.idle": "2024-02-22T16:11:58.152323Z",
     "shell.execute_reply": "2024-02-22T16:11:58.151420Z"
    },
    "papermill": {
     "duration": 0.038136,
     "end_time": "2024-02-22T16:11:58.155218",
     "exception": false,
     "start_time": "2024-02-22T16:11:58.117082",
     "status": "completed"
    },
    "tags": []
   },
   "outputs": [],
   "source": [
    "# Lines below will give you a hint or solution code\n",
    "#q_3.hint()\n",
    "#q_3.solution()"
   ]
  },
  {
   "cell_type": "code",
   "execution_count": 19,
   "id": "42c02f87",
   "metadata": {
    "execution": {
     "iopub.execute_input": "2024-02-22T16:11:58.214424Z",
     "iopub.status.busy": "2024-02-22T16:11:58.213424Z",
     "iopub.status.idle": "2024-02-22T16:11:58.354241Z",
     "shell.execute_reply": "2024-02-22T16:11:58.353374Z"
    },
    "papermill": {
     "duration": 0.17148,
     "end_time": "2024-02-22T16:11:58.356846",
     "exception": false,
     "start_time": "2024-02-22T16:11:58.185366",
     "status": "completed"
    },
    "tags": []
   },
   "outputs": [
    {
     "data": {
      "text/html": [
       "<div>\n",
       "<style scoped>\n",
       "    .dataframe tbody tr th:only-of-type {\n",
       "        vertical-align: middle;\n",
       "    }\n",
       "\n",
       "    .dataframe tbody tr th {\n",
       "        vertical-align: top;\n",
       "    }\n",
       "\n",
       "    .dataframe thead th {\n",
       "        text-align: right;\n",
       "    }\n",
       "</style>\n",
       "<table border=\"1\" class=\"dataframe\">\n",
       "  <thead>\n",
       "    <tr style=\"text-align: right;\">\n",
       "      <th></th>\n",
       "      <th>GEOID</th>\n",
       "      <th>name</th>\n",
       "      <th>area_sqkm</th>\n",
       "      <th>geometry</th>\n",
       "      <th>population</th>\n",
       "      <th>high_earners</th>\n",
       "      <th>median_age</th>\n",
       "    </tr>\n",
       "  </thead>\n",
       "  <tbody>\n",
       "    <tr>\n",
       "      <th>0</th>\n",
       "      <td>6091</td>\n",
       "      <td>Sierra County</td>\n",
       "      <td>2491.995494</td>\n",
       "      <td>POLYGON ((-120.65560 39.69357, -120.65554 39.6...</td>\n",
       "      <td>2987</td>\n",
       "      <td>111</td>\n",
       "      <td>55.0</td>\n",
       "    </tr>\n",
       "    <tr>\n",
       "      <th>1</th>\n",
       "      <td>6067</td>\n",
       "      <td>Sacramento County</td>\n",
       "      <td>2575.258262</td>\n",
       "      <td>POLYGON ((-121.18858 38.71431, -121.18732 38.7...</td>\n",
       "      <td>1540975</td>\n",
       "      <td>65768</td>\n",
       "      <td>35.9</td>\n",
       "    </tr>\n",
       "    <tr>\n",
       "      <th>2</th>\n",
       "      <td>6083</td>\n",
       "      <td>Santa Barbara County</td>\n",
       "      <td>9813.817958</td>\n",
       "      <td>MULTIPOLYGON (((-120.58191 34.09856, -120.5822...</td>\n",
       "      <td>446527</td>\n",
       "      <td>25231</td>\n",
       "      <td>33.7</td>\n",
       "    </tr>\n",
       "    <tr>\n",
       "      <th>3</th>\n",
       "      <td>6009</td>\n",
       "      <td>Calaveras County</td>\n",
       "      <td>2685.626726</td>\n",
       "      <td>POLYGON ((-120.63095 38.34111, -120.63058 38.3...</td>\n",
       "      <td>45602</td>\n",
       "      <td>2046</td>\n",
       "      <td>51.6</td>\n",
       "    </tr>\n",
       "    <tr>\n",
       "      <th>4</th>\n",
       "      <td>6111</td>\n",
       "      <td>Ventura County</td>\n",
       "      <td>5719.321379</td>\n",
       "      <td>MULTIPOLYGON (((-119.63631 33.27304, -119.6360...</td>\n",
       "      <td>850967</td>\n",
       "      <td>57121</td>\n",
       "      <td>37.5</td>\n",
       "    </tr>\n",
       "  </tbody>\n",
       "</table>\n",
       "</div>"
      ],
      "text/plain": [
       "   GEOID                  name    area_sqkm  \\\n",
       "0   6091         Sierra County  2491.995494   \n",
       "1   6067     Sacramento County  2575.258262   \n",
       "2   6083  Santa Barbara County  9813.817958   \n",
       "3   6009      Calaveras County  2685.626726   \n",
       "4   6111        Ventura County  5719.321379   \n",
       "\n",
       "                                            geometry  population  \\\n",
       "0  POLYGON ((-120.65560 39.69357, -120.65554 39.6...        2987   \n",
       "1  POLYGON ((-121.18858 38.71431, -121.18732 38.7...     1540975   \n",
       "2  MULTIPOLYGON (((-120.58191 34.09856, -120.5822...      446527   \n",
       "3  POLYGON ((-120.63095 38.34111, -120.63058 38.3...       45602   \n",
       "4  MULTIPOLYGON (((-119.63631 33.27304, -119.6360...      850967   \n",
       "\n",
       "   high_earners  median_age  \n",
       "0           111        55.0  \n",
       "1         65768        35.9  \n",
       "2         25231        33.7  \n",
       "3          2046        51.6  \n",
       "4         57121        37.5  "
      ]
     },
     "execution_count": 19,
     "metadata": {},
     "output_type": "execute_result"
    }
   ],
   "source": [
    "CA_stats.head()"
   ]
  },
  {
   "cell_type": "markdown",
   "id": "bb56e428",
   "metadata": {
    "papermill": {
     "duration": 0.024661,
     "end_time": "2024-02-22T16:11:58.402230",
     "exception": false,
     "start_time": "2024-02-22T16:11:58.377569",
     "status": "completed"
    },
    "tags": []
   },
   "source": [
    "Now that we have all of the data in one place, it's much easier to calculate statistics that use a combination of columns.  Run the next code cell to create a \"density\" column with the population density."
   ]
  },
  {
   "cell_type": "code",
   "execution_count": 20,
   "id": "511c7acb",
   "metadata": {
    "execution": {
     "iopub.execute_input": "2024-02-22T16:11:58.457128Z",
     "iopub.status.busy": "2024-02-22T16:11:58.456642Z",
     "iopub.status.idle": "2024-02-22T16:11:58.463588Z",
     "shell.execute_reply": "2024-02-22T16:11:58.462664Z"
    },
    "papermill": {
     "duration": 0.036609,
     "end_time": "2024-02-22T16:11:58.466052",
     "exception": false,
     "start_time": "2024-02-22T16:11:58.429443",
     "status": "completed"
    },
    "tags": []
   },
   "outputs": [],
   "source": [
    "CA_stats[\"density\"] = CA_stats[\"population\"] / CA_stats[\"area_sqkm\"]"
   ]
  },
  {
   "cell_type": "code",
   "execution_count": 21,
   "id": "7e1398e4",
   "metadata": {
    "execution": {
     "iopub.execute_input": "2024-02-22T16:11:58.515239Z",
     "iopub.status.busy": "2024-02-22T16:11:58.514507Z",
     "iopub.status.idle": "2024-02-22T16:11:58.650363Z",
     "shell.execute_reply": "2024-02-22T16:11:58.649110Z"
    },
    "papermill": {
     "duration": 0.165589,
     "end_time": "2024-02-22T16:11:58.653286",
     "exception": false,
     "start_time": "2024-02-22T16:11:58.487697",
     "status": "completed"
    },
    "tags": []
   },
   "outputs": [
    {
     "data": {
      "text/html": [
       "<div>\n",
       "<style scoped>\n",
       "    .dataframe tbody tr th:only-of-type {\n",
       "        vertical-align: middle;\n",
       "    }\n",
       "\n",
       "    .dataframe tbody tr th {\n",
       "        vertical-align: top;\n",
       "    }\n",
       "\n",
       "    .dataframe thead th {\n",
       "        text-align: right;\n",
       "    }\n",
       "</style>\n",
       "<table border=\"1\" class=\"dataframe\">\n",
       "  <thead>\n",
       "    <tr style=\"text-align: right;\">\n",
       "      <th></th>\n",
       "      <th>GEOID</th>\n",
       "      <th>name</th>\n",
       "      <th>area_sqkm</th>\n",
       "      <th>geometry</th>\n",
       "      <th>population</th>\n",
       "      <th>high_earners</th>\n",
       "      <th>median_age</th>\n",
       "      <th>density</th>\n",
       "    </tr>\n",
       "  </thead>\n",
       "  <tbody>\n",
       "    <tr>\n",
       "      <th>0</th>\n",
       "      <td>6091</td>\n",
       "      <td>Sierra County</td>\n",
       "      <td>2491.995494</td>\n",
       "      <td>POLYGON ((-120.65560 39.69357, -120.65554 39.6...</td>\n",
       "      <td>2987</td>\n",
       "      <td>111</td>\n",
       "      <td>55.0</td>\n",
       "      <td>1.198638</td>\n",
       "    </tr>\n",
       "    <tr>\n",
       "      <th>1</th>\n",
       "      <td>6067</td>\n",
       "      <td>Sacramento County</td>\n",
       "      <td>2575.258262</td>\n",
       "      <td>POLYGON ((-121.18858 38.71431, -121.18732 38.7...</td>\n",
       "      <td>1540975</td>\n",
       "      <td>65768</td>\n",
       "      <td>35.9</td>\n",
       "      <td>598.376878</td>\n",
       "    </tr>\n",
       "    <tr>\n",
       "      <th>2</th>\n",
       "      <td>6083</td>\n",
       "      <td>Santa Barbara County</td>\n",
       "      <td>9813.817958</td>\n",
       "      <td>MULTIPOLYGON (((-120.58191 34.09856, -120.5822...</td>\n",
       "      <td>446527</td>\n",
       "      <td>25231</td>\n",
       "      <td>33.7</td>\n",
       "      <td>45.499825</td>\n",
       "    </tr>\n",
       "    <tr>\n",
       "      <th>3</th>\n",
       "      <td>6009</td>\n",
       "      <td>Calaveras County</td>\n",
       "      <td>2685.626726</td>\n",
       "      <td>POLYGON ((-120.63095 38.34111, -120.63058 38.3...</td>\n",
       "      <td>45602</td>\n",
       "      <td>2046</td>\n",
       "      <td>51.6</td>\n",
       "      <td>16.980022</td>\n",
       "    </tr>\n",
       "    <tr>\n",
       "      <th>4</th>\n",
       "      <td>6111</td>\n",
       "      <td>Ventura County</td>\n",
       "      <td>5719.321379</td>\n",
       "      <td>MULTIPOLYGON (((-119.63631 33.27304, -119.6360...</td>\n",
       "      <td>850967</td>\n",
       "      <td>57121</td>\n",
       "      <td>37.5</td>\n",
       "      <td>148.788107</td>\n",
       "    </tr>\n",
       "  </tbody>\n",
       "</table>\n",
       "</div>"
      ],
      "text/plain": [
       "   GEOID                  name    area_sqkm  \\\n",
       "0   6091         Sierra County  2491.995494   \n",
       "1   6067     Sacramento County  2575.258262   \n",
       "2   6083  Santa Barbara County  9813.817958   \n",
       "3   6009      Calaveras County  2685.626726   \n",
       "4   6111        Ventura County  5719.321379   \n",
       "\n",
       "                                            geometry  population  \\\n",
       "0  POLYGON ((-120.65560 39.69357, -120.65554 39.6...        2987   \n",
       "1  POLYGON ((-121.18858 38.71431, -121.18732 38.7...     1540975   \n",
       "2  MULTIPOLYGON (((-120.58191 34.09856, -120.5822...      446527   \n",
       "3  POLYGON ((-120.63095 38.34111, -120.63058 38.3...       45602   \n",
       "4  MULTIPOLYGON (((-119.63631 33.27304, -119.6360...      850967   \n",
       "\n",
       "   high_earners  median_age     density  \n",
       "0           111        55.0    1.198638  \n",
       "1         65768        35.9  598.376878  \n",
       "2         25231        33.7   45.499825  \n",
       "3          2046        51.6   16.980022  \n",
       "4         57121        37.5  148.788107  "
      ]
     },
     "execution_count": 21,
     "metadata": {},
     "output_type": "execute_result"
    }
   ],
   "source": [
    "CA_stats.head()"
   ]
  },
  {
   "cell_type": "markdown",
   "id": "cae5c83b",
   "metadata": {
    "papermill": {
     "duration": 0.020754,
     "end_time": "2024-02-22T16:11:58.697254",
     "exception": false,
     "start_time": "2024-02-22T16:11:58.676500",
     "status": "completed"
    },
    "tags": []
   },
   "source": [
    "### 4) Which counties look promising?\n",
    "\n",
    "Collapsing all of the information into a single GeoDataFrame also makes it much easier to select counties that meet specific criteria.\n",
    "\n",
    "Use the next code cell to create a GeoDataFrame `sel_counties` that contains a subset of the rows (and all of the columns) from the `CA_stats` GeoDataFrame.  In particular, you should select counties where:\n",
    "- there are at least 100,000 households making \\$150,000 per year,\n",
    "- the median age is less than 38.5, and\n",
    "- the density of inhabitants is at least 285 (per square kilometer).\n",
    "\n",
    "Additionally, selected counties should satisfy at least one of the following criteria:\n",
    "- there are at least 500,000 households making \\$150,000 per year,\n",
    "- the median age is less than 35.5, or\n",
    "- the density of inhabitants is at least 1400 (per square kilometer)."
   ]
  },
  {
   "cell_type": "code",
   "execution_count": 22,
   "id": "1e9e9223",
   "metadata": {
    "execution": {
     "iopub.execute_input": "2024-02-22T16:11:58.743425Z",
     "iopub.status.busy": "2024-02-22T16:11:58.743003Z",
     "iopub.status.idle": "2024-02-22T16:11:58.754405Z",
     "shell.execute_reply": "2024-02-22T16:11:58.753166Z"
    },
    "papermill": {
     "duration": 0.037287,
     "end_time": "2024-02-22T16:11:58.757049",
     "exception": false,
     "start_time": "2024-02-22T16:11:58.719762",
     "status": "completed"
    },
    "tags": []
   },
   "outputs": [],
   "source": [
    "test_counties = CA_stats[((CA_stats.high_earners >= 100000) & (CA_stats.median_age < 38.5) & (CA_stats.density >= 285)) & ((CA_stats.high_earners >= 500000) | (CA_stats.median_age < 35.5) | (CA_stats.density >= 1400))]"
   ]
  },
  {
   "cell_type": "code",
   "execution_count": 23,
   "id": "26e18126",
   "metadata": {
    "execution": {
     "iopub.execute_input": "2024-02-22T16:11:58.815961Z",
     "iopub.status.busy": "2024-02-22T16:11:58.814754Z",
     "iopub.status.idle": "2024-02-22T16:11:58.881083Z",
     "shell.execute_reply": "2024-02-22T16:11:58.879567Z"
    },
    "papermill": {
     "duration": 0.103678,
     "end_time": "2024-02-22T16:11:58.883810",
     "exception": false,
     "start_time": "2024-02-22T16:11:58.780132",
     "status": "completed"
    },
    "tags": []
   },
   "outputs": [
    {
     "data": {
      "text/html": [
       "<div>\n",
       "<style scoped>\n",
       "    .dataframe tbody tr th:only-of-type {\n",
       "        vertical-align: middle;\n",
       "    }\n",
       "\n",
       "    .dataframe tbody tr th {\n",
       "        vertical-align: top;\n",
       "    }\n",
       "\n",
       "    .dataframe thead th {\n",
       "        text-align: right;\n",
       "    }\n",
       "</style>\n",
       "<table border=\"1\" class=\"dataframe\">\n",
       "  <thead>\n",
       "    <tr style=\"text-align: right;\">\n",
       "      <th></th>\n",
       "      <th>GEOID</th>\n",
       "      <th>name</th>\n",
       "      <th>area_sqkm</th>\n",
       "      <th>geometry</th>\n",
       "      <th>population</th>\n",
       "      <th>high_earners</th>\n",
       "      <th>median_age</th>\n",
       "      <th>density</th>\n",
       "    </tr>\n",
       "  </thead>\n",
       "  <tbody>\n",
       "    <tr>\n",
       "      <th>5</th>\n",
       "      <td>6037</td>\n",
       "      <td>Los Angeles County</td>\n",
       "      <td>12305.376879</td>\n",
       "      <td>MULTIPOLYGON (((-118.66761 33.47749, -118.6682...</td>\n",
       "      <td>10105518</td>\n",
       "      <td>501413</td>\n",
       "      <td>36.0</td>\n",
       "      <td>821.227834</td>\n",
       "    </tr>\n",
       "    <tr>\n",
       "      <th>8</th>\n",
       "      <td>6073</td>\n",
       "      <td>San Diego County</td>\n",
       "      <td>11721.342229</td>\n",
       "      <td>POLYGON ((-117.43744 33.17953, -117.44955 33.1...</td>\n",
       "      <td>3343364</td>\n",
       "      <td>194676</td>\n",
       "      <td>35.4</td>\n",
       "      <td>285.237299</td>\n",
       "    </tr>\n",
       "    <tr>\n",
       "      <th>10</th>\n",
       "      <td>6075</td>\n",
       "      <td>San Francisco County</td>\n",
       "      <td>600.588247</td>\n",
       "      <td>MULTIPOLYGON (((-122.60025 37.80249, -122.6123...</td>\n",
       "      <td>883305</td>\n",
       "      <td>114989</td>\n",
       "      <td>38.3</td>\n",
       "      <td>1470.733077</td>\n",
       "    </tr>\n",
       "  </tbody>\n",
       "</table>\n",
       "</div>"
      ],
      "text/plain": [
       "    GEOID                  name     area_sqkm  \\\n",
       "5    6037    Los Angeles County  12305.376879   \n",
       "8    6073      San Diego County  11721.342229   \n",
       "10   6075  San Francisco County    600.588247   \n",
       "\n",
       "                                             geometry  population  \\\n",
       "5   MULTIPOLYGON (((-118.66761 33.47749, -118.6682...    10105518   \n",
       "8   POLYGON ((-117.43744 33.17953, -117.44955 33.1...     3343364   \n",
       "10  MULTIPOLYGON (((-122.60025 37.80249, -122.6123...      883305   \n",
       "\n",
       "    high_earners  median_age      density  \n",
       "5         501413        36.0   821.227834  \n",
       "8         194676        35.4   285.237299  \n",
       "10        114989        38.3  1470.733077  "
      ]
     },
     "execution_count": 23,
     "metadata": {},
     "output_type": "execute_result"
    }
   ],
   "source": [
    "test_counties"
   ]
  },
  {
   "cell_type": "code",
   "execution_count": 24,
   "id": "f85c98fd",
   "metadata": {
    "execution": {
     "iopub.execute_input": "2024-02-22T16:11:58.930152Z",
     "iopub.status.busy": "2024-02-22T16:11:58.929740Z",
     "iopub.status.idle": "2024-02-22T16:11:58.947066Z",
     "shell.execute_reply": "2024-02-22T16:11:58.945917Z"
    },
    "papermill": {
     "duration": 0.042445,
     "end_time": "2024-02-22T16:11:58.949369",
     "exception": false,
     "start_time": "2024-02-22T16:11:58.906924",
     "status": "completed"
    },
    "tags": []
   },
   "outputs": [
    {
     "data": {
      "application/javascript": [
       "parent.postMessage({\"jupyterEvent\": \"custom.exercise_interaction\", \"data\": {\"outcomeType\": 1, \"valueTowardsCompletion\": 0.2, \"interactionType\": 1, \"questionType\": 2, \"questionId\": \"4_Q4\", \"learnToolsVersion\": \"0.3.4\", \"failureMessage\": \"\", \"exceptionClass\": \"\", \"trace\": \"\"}}, \"*\")"
      ],
      "text/plain": [
       "<IPython.core.display.Javascript object>"
      ]
     },
     "metadata": {},
     "output_type": "display_data"
    },
    {
     "data": {
      "text/markdown": [
       "<span style=\"color:#33cc33\">Correct</span>"
      ],
      "text/plain": [
       "Correct"
      ]
     },
     "metadata": {},
     "output_type": "display_data"
    }
   ],
   "source": [
    "# Your code here\n",
    "sel_counties = CA_stats[((CA_stats.high_earners >= 100000) & (CA_stats.median_age < 38.5) & (CA_stats.density >= 285)) & ((CA_stats.high_earners >= 500000) | (CA_stats.median_age < 35.5) | (CA_stats.density >= 1400))]\n",
    "\n",
    "# Check your answer\n",
    "q_4.check()"
   ]
  },
  {
   "cell_type": "code",
   "execution_count": 25,
   "id": "3ab109e1",
   "metadata": {
    "execution": {
     "iopub.execute_input": "2024-02-22T16:11:58.995085Z",
     "iopub.status.busy": "2024-02-22T16:11:58.994654Z",
     "iopub.status.idle": "2024-02-22T16:11:59.000021Z",
     "shell.execute_reply": "2024-02-22T16:11:58.998646Z"
    },
    "papermill": {
     "duration": 0.031467,
     "end_time": "2024-02-22T16:11:59.002526",
     "exception": false,
     "start_time": "2024-02-22T16:11:58.971059",
     "status": "completed"
    },
    "tags": []
   },
   "outputs": [],
   "source": [
    "# Lines below will give you a hint or solution code\n",
    "#q_4.hint()\n",
    "#q_4.solution()"
   ]
  },
  {
   "cell_type": "markdown",
   "id": "2364d563",
   "metadata": {
    "papermill": {
     "duration": 0.021367,
     "end_time": "2024-02-22T16:11:59.046986",
     "exception": false,
     "start_time": "2024-02-22T16:11:59.025619",
     "status": "completed"
    },
    "tags": []
   },
   "source": [
    "### 5) How many stores did you identify?\n",
    "\n",
    "When looking for the next Starbucks Reserve Roastery location, you'd like to consider all of the stores within the counties that you selected.  So, how many stores are within the selected counties?\n",
    "\n",
    "To prepare to answer this question, run the next code cell to create a GeoDataFrame `starbucks_gdf` with all of the starbucks locations."
   ]
  },
  {
   "cell_type": "code",
   "execution_count": 26,
   "id": "c8c27ade",
   "metadata": {
    "execution": {
     "iopub.execute_input": "2024-02-22T16:11:59.093243Z",
     "iopub.status.busy": "2024-02-22T16:11:59.092838Z",
     "iopub.status.idle": "2024-02-22T16:11:59.258896Z",
     "shell.execute_reply": "2024-02-22T16:11:59.257658Z"
    },
    "papermill": {
     "duration": 0.191866,
     "end_time": "2024-02-22T16:11:59.261541",
     "exception": false,
     "start_time": "2024-02-22T16:11:59.069675",
     "status": "completed"
    },
    "tags": []
   },
   "outputs": [
    {
     "name": "stderr",
     "output_type": "stream",
     "text": [
      "/opt/conda/lib/python3.10/site-packages/pyproj/crs/crs.py:141: FutureWarning: '+init=<authority>:<code>' syntax is deprecated. '<authority>:<code>' is the preferred initialization method. When making the change, be mindful of axis order changes: https://pyproj4.github.io/pyproj/stable/gotchas.html#axis-order-changes-in-proj-6\n",
      "  in_crs_string = _prepare_from_proj_string(in_crs_string)\n"
     ]
    }
   ],
   "source": [
    "starbucks_gdf = gpd.GeoDataFrame(starbucks, geometry=gpd.points_from_xy(starbucks.Longitude, starbucks.Latitude))\n",
    "starbucks_gdf.crs = {'init': 'epsg:4326'}"
   ]
  },
  {
   "cell_type": "code",
   "execution_count": 27,
   "id": "ad13f0d6",
   "metadata": {
    "execution": {
     "iopub.execute_input": "2024-02-22T16:11:59.309355Z",
     "iopub.status.busy": "2024-02-22T16:11:59.308704Z",
     "iopub.status.idle": "2024-02-22T16:11:59.329839Z",
     "shell.execute_reply": "2024-02-22T16:11:59.328536Z"
    },
    "papermill": {
     "duration": 0.048661,
     "end_time": "2024-02-22T16:11:59.332423",
     "exception": false,
     "start_time": "2024-02-22T16:11:59.283762",
     "status": "completed"
    },
    "tags": []
   },
   "outputs": [
    {
     "data": {
      "text/html": [
       "<div>\n",
       "<style scoped>\n",
       "    .dataframe tbody tr th:only-of-type {\n",
       "        vertical-align: middle;\n",
       "    }\n",
       "\n",
       "    .dataframe tbody tr th {\n",
       "        vertical-align: top;\n",
       "    }\n",
       "\n",
       "    .dataframe thead th {\n",
       "        text-align: right;\n",
       "    }\n",
       "</style>\n",
       "<table border=\"1\" class=\"dataframe\">\n",
       "  <thead>\n",
       "    <tr style=\"text-align: right;\">\n",
       "      <th></th>\n",
       "      <th>Store Number</th>\n",
       "      <th>Store Name</th>\n",
       "      <th>Address</th>\n",
       "      <th>City</th>\n",
       "      <th>Longitude</th>\n",
       "      <th>Latitude</th>\n",
       "      <th>geometry</th>\n",
       "    </tr>\n",
       "  </thead>\n",
       "  <tbody>\n",
       "    <tr>\n",
       "      <th>0</th>\n",
       "      <td>10429-100710</td>\n",
       "      <td>Palmdale &amp; Hwy 395</td>\n",
       "      <td>14136 US Hwy 395 Adelanto CA</td>\n",
       "      <td>Adelanto</td>\n",
       "      <td>-117.40</td>\n",
       "      <td>34.51</td>\n",
       "      <td>POINT (-117.40000 34.51000)</td>\n",
       "    </tr>\n",
       "    <tr>\n",
       "      <th>1</th>\n",
       "      <td>635-352</td>\n",
       "      <td>Kanan &amp; Thousand Oaks</td>\n",
       "      <td>5827 Kanan Road Agoura CA</td>\n",
       "      <td>Agoura</td>\n",
       "      <td>-118.76</td>\n",
       "      <td>34.16</td>\n",
       "      <td>POINT (-118.76000 34.16000)</td>\n",
       "    </tr>\n",
       "    <tr>\n",
       "      <th>2</th>\n",
       "      <td>74510-27669</td>\n",
       "      <td>Vons-Agoura Hills #2001</td>\n",
       "      <td>5671 Kanan Rd. Agoura Hills CA</td>\n",
       "      <td>Agoura Hills</td>\n",
       "      <td>-118.76</td>\n",
       "      <td>34.15</td>\n",
       "      <td>POINT (-118.76000 34.15000)</td>\n",
       "    </tr>\n",
       "    <tr>\n",
       "      <th>3</th>\n",
       "      <td>29839-255026</td>\n",
       "      <td>Target Anaheim T-0677</td>\n",
       "      <td>8148 E SANTA ANA CANYON ROAD AHAHEIM CA</td>\n",
       "      <td>AHAHEIM</td>\n",
       "      <td>-117.75</td>\n",
       "      <td>33.87</td>\n",
       "      <td>POINT (-117.75000 33.87000)</td>\n",
       "    </tr>\n",
       "    <tr>\n",
       "      <th>4</th>\n",
       "      <td>23463-230284</td>\n",
       "      <td>Safeway - Alameda 3281</td>\n",
       "      <td>2600 5th Street Alameda CA</td>\n",
       "      <td>Alameda</td>\n",
       "      <td>-122.28</td>\n",
       "      <td>37.79</td>\n",
       "      <td>POINT (-122.28000 37.79000)</td>\n",
       "    </tr>\n",
       "  </tbody>\n",
       "</table>\n",
       "</div>"
      ],
      "text/plain": [
       "   Store Number               Store Name  \\\n",
       "0  10429-100710       Palmdale & Hwy 395   \n",
       "1       635-352    Kanan & Thousand Oaks   \n",
       "2   74510-27669  Vons-Agoura Hills #2001   \n",
       "3  29839-255026    Target Anaheim T-0677   \n",
       "4  23463-230284   Safeway - Alameda 3281   \n",
       "\n",
       "                                   Address          City  Longitude  Latitude  \\\n",
       "0             14136 US Hwy 395 Adelanto CA      Adelanto    -117.40     34.51   \n",
       "1                5827 Kanan Road Agoura CA        Agoura    -118.76     34.16   \n",
       "2           5671 Kanan Rd. Agoura Hills CA  Agoura Hills    -118.76     34.15   \n",
       "3  8148 E SANTA ANA CANYON ROAD AHAHEIM CA       AHAHEIM    -117.75     33.87   \n",
       "4               2600 5th Street Alameda CA       Alameda    -122.28     37.79   \n",
       "\n",
       "                      geometry  \n",
       "0  POINT (-117.40000 34.51000)  \n",
       "1  POINT (-118.76000 34.16000)  \n",
       "2  POINT (-118.76000 34.15000)  \n",
       "3  POINT (-117.75000 33.87000)  \n",
       "4  POINT (-122.28000 37.79000)  "
      ]
     },
     "execution_count": 27,
     "metadata": {},
     "output_type": "execute_result"
    }
   ],
   "source": [
    "starbucks_gdf.head()"
   ]
  },
  {
   "cell_type": "code",
   "execution_count": 28,
   "id": "facad95a",
   "metadata": {
    "execution": {
     "iopub.execute_input": "2024-02-22T16:11:59.378708Z",
     "iopub.status.busy": "2024-02-22T16:11:59.378183Z",
     "iopub.status.idle": "2024-02-22T16:11:59.385078Z",
     "shell.execute_reply": "2024-02-22T16:11:59.384223Z"
    },
    "papermill": {
     "duration": 0.032373,
     "end_time": "2024-02-22T16:11:59.387210",
     "exception": false,
     "start_time": "2024-02-22T16:11:59.354837",
     "status": "completed"
    },
    "tags": []
   },
   "outputs": [
    {
     "data": {
      "text/plain": [
       "geopandas.geodataframe.GeoDataFrame"
      ]
     },
     "execution_count": 28,
     "metadata": {},
     "output_type": "execute_result"
    }
   ],
   "source": [
    "type(sel_counties)"
   ]
  },
  {
   "cell_type": "code",
   "execution_count": 29,
   "id": "ef0818a1",
   "metadata": {
    "execution": {
     "iopub.execute_input": "2024-02-22T16:11:59.436066Z",
     "iopub.status.busy": "2024-02-22T16:11:59.435374Z",
     "iopub.status.idle": "2024-02-22T16:11:59.441479Z",
     "shell.execute_reply": "2024-02-22T16:11:59.440430Z"
    },
    "papermill": {
     "duration": 0.033501,
     "end_time": "2024-02-22T16:11:59.443855",
     "exception": false,
     "start_time": "2024-02-22T16:11:59.410354",
     "status": "completed"
    },
    "tags": []
   },
   "outputs": [
    {
     "data": {
      "text/plain": [
       "pandas.core.frame.DataFrame"
      ]
     },
     "execution_count": 29,
     "metadata": {},
     "output_type": "execute_result"
    }
   ],
   "source": [
    "type(starbucks)"
   ]
  },
  {
   "cell_type": "code",
   "execution_count": 30,
   "id": "90666a65",
   "metadata": {
    "execution": {
     "iopub.execute_input": "2024-02-22T16:11:59.492555Z",
     "iopub.status.busy": "2024-02-22T16:11:59.491738Z",
     "iopub.status.idle": "2024-02-22T16:11:59.498072Z",
     "shell.execute_reply": "2024-02-22T16:11:59.496921Z"
    },
    "papermill": {
     "duration": 0.033022,
     "end_time": "2024-02-22T16:11:59.500840",
     "exception": false,
     "start_time": "2024-02-22T16:11:59.467818",
     "status": "completed"
    },
    "tags": []
   },
   "outputs": [
    {
     "data": {
      "text/plain": [
       "geopandas.geodataframe.GeoDataFrame"
      ]
     },
     "execution_count": 30,
     "metadata": {},
     "output_type": "execute_result"
    }
   ],
   "source": [
    "type(starbucks_gdf)"
   ]
  },
  {
   "cell_type": "markdown",
   "id": "b6b7b4ea",
   "metadata": {
    "papermill": {
     "duration": 0.023274,
     "end_time": "2024-02-22T16:11:59.548644",
     "exception": false,
     "start_time": "2024-02-22T16:11:59.525370",
     "status": "completed"
    },
    "tags": []
   },
   "source": [
    "So, how many stores are in the counties you selected?"
   ]
  },
  {
   "cell_type": "code",
   "execution_count": 31,
   "id": "644c736b",
   "metadata": {
    "execution": {
     "iopub.execute_input": "2024-02-22T16:11:59.596468Z",
     "iopub.status.busy": "2024-02-22T16:11:59.595428Z",
     "iopub.status.idle": "2024-02-22T16:11:59.940145Z",
     "shell.execute_reply": "2024-02-22T16:11:59.938700Z"
    },
    "papermill": {
     "duration": 0.371432,
     "end_time": "2024-02-22T16:11:59.943070",
     "exception": false,
     "start_time": "2024-02-22T16:11:59.571638",
     "status": "completed"
    },
    "tags": []
   },
   "outputs": [],
   "source": [
    "join_sbuck_counties = gpd.sjoin(starbucks_gdf, sel_counties)"
   ]
  },
  {
   "cell_type": "code",
   "execution_count": 32,
   "id": "731816ae",
   "metadata": {
    "execution": {
     "iopub.execute_input": "2024-02-22T16:11:59.990421Z",
     "iopub.status.busy": "2024-02-22T16:11:59.990061Z",
     "iopub.status.idle": "2024-02-22T16:12:00.013189Z",
     "shell.execute_reply": "2024-02-22T16:12:00.012196Z"
    },
    "papermill": {
     "duration": 0.049299,
     "end_time": "2024-02-22T16:12:00.015611",
     "exception": false,
     "start_time": "2024-02-22T16:11:59.966312",
     "status": "completed"
    },
    "tags": []
   },
   "outputs": [
    {
     "data": {
      "text/html": [
       "<div>\n",
       "<style scoped>\n",
       "    .dataframe tbody tr th:only-of-type {\n",
       "        vertical-align: middle;\n",
       "    }\n",
       "\n",
       "    .dataframe tbody tr th {\n",
       "        vertical-align: top;\n",
       "    }\n",
       "\n",
       "    .dataframe thead th {\n",
       "        text-align: right;\n",
       "    }\n",
       "</style>\n",
       "<table border=\"1\" class=\"dataframe\">\n",
       "  <thead>\n",
       "    <tr style=\"text-align: right;\">\n",
       "      <th></th>\n",
       "      <th>Store Number</th>\n",
       "      <th>Store Name</th>\n",
       "      <th>Address</th>\n",
       "      <th>City</th>\n",
       "      <th>Longitude</th>\n",
       "      <th>Latitude</th>\n",
       "      <th>geometry</th>\n",
       "      <th>index_right</th>\n",
       "      <th>GEOID</th>\n",
       "      <th>name</th>\n",
       "      <th>area_sqkm</th>\n",
       "      <th>population</th>\n",
       "      <th>high_earners</th>\n",
       "      <th>median_age</th>\n",
       "      <th>density</th>\n",
       "    </tr>\n",
       "  </thead>\n",
       "  <tbody>\n",
       "    <tr>\n",
       "      <th>1</th>\n",
       "      <td>635-352</td>\n",
       "      <td>Kanan &amp; Thousand Oaks</td>\n",
       "      <td>5827 Kanan Road Agoura CA</td>\n",
       "      <td>Agoura</td>\n",
       "      <td>-118.76</td>\n",
       "      <td>34.16</td>\n",
       "      <td>POINT (-118.76000 34.16000)</td>\n",
       "      <td>5</td>\n",
       "      <td>6037</td>\n",
       "      <td>Los Angeles County</td>\n",
       "      <td>12305.376879</td>\n",
       "      <td>10105518</td>\n",
       "      <td>501413</td>\n",
       "      <td>36.0</td>\n",
       "      <td>821.227834</td>\n",
       "    </tr>\n",
       "    <tr>\n",
       "      <th>2</th>\n",
       "      <td>74510-27669</td>\n",
       "      <td>Vons-Agoura Hills #2001</td>\n",
       "      <td>5671 Kanan Rd. Agoura Hills CA</td>\n",
       "      <td>Agoura Hills</td>\n",
       "      <td>-118.76</td>\n",
       "      <td>34.15</td>\n",
       "      <td>POINT (-118.76000 34.15000)</td>\n",
       "      <td>5</td>\n",
       "      <td>6037</td>\n",
       "      <td>Los Angeles County</td>\n",
       "      <td>12305.376879</td>\n",
       "      <td>10105518</td>\n",
       "      <td>501413</td>\n",
       "      <td>36.0</td>\n",
       "      <td>821.227834</td>\n",
       "    </tr>\n",
       "    <tr>\n",
       "      <th>14</th>\n",
       "      <td>76365-97162</td>\n",
       "      <td>Target Alhambra T-184</td>\n",
       "      <td>1220 West Main Street Alhambra CA</td>\n",
       "      <td>Alhambra</td>\n",
       "      <td>-118.14</td>\n",
       "      <td>34.09</td>\n",
       "      <td>POINT (-118.14000 34.09000)</td>\n",
       "      <td>5</td>\n",
       "      <td>6037</td>\n",
       "      <td>Los Angeles County</td>\n",
       "      <td>12305.376879</td>\n",
       "      <td>10105518</td>\n",
       "      <td>501413</td>\n",
       "      <td>36.0</td>\n",
       "      <td>821.227834</td>\n",
       "    </tr>\n",
       "    <tr>\n",
       "      <th>15</th>\n",
       "      <td>6794-41839</td>\n",
       "      <td>Fremont Ave &amp; Mission Rd</td>\n",
       "      <td>1131 S Fremont Ave, A Alhambra CA</td>\n",
       "      <td>Alhambra</td>\n",
       "      <td>-118.15</td>\n",
       "      <td>34.08</td>\n",
       "      <td>POINT (-118.15000 34.08000)</td>\n",
       "      <td>5</td>\n",
       "      <td>6037</td>\n",
       "      <td>Los Angeles County</td>\n",
       "      <td>12305.376879</td>\n",
       "      <td>10105518</td>\n",
       "      <td>501413</td>\n",
       "      <td>36.0</td>\n",
       "      <td>821.227834</td>\n",
       "    </tr>\n",
       "    <tr>\n",
       "      <th>16</th>\n",
       "      <td>11220-104633</td>\n",
       "      <td>Atlantic &amp; Valley, Alhambra</td>\n",
       "      <td>1410 South Atlantic Blvd. Alhambra CA</td>\n",
       "      <td>Alhambra</td>\n",
       "      <td>-118.13</td>\n",
       "      <td>34.08</td>\n",
       "      <td>POINT (-118.13000 34.08000)</td>\n",
       "      <td>5</td>\n",
       "      <td>6037</td>\n",
       "      <td>Los Angeles County</td>\n",
       "      <td>12305.376879</td>\n",
       "      <td>10105518</td>\n",
       "      <td>501413</td>\n",
       "      <td>36.0</td>\n",
       "      <td>821.227834</td>\n",
       "    </tr>\n",
       "  </tbody>\n",
       "</table>\n",
       "</div>"
      ],
      "text/plain": [
       "    Store Number                   Store Name  \\\n",
       "1        635-352        Kanan & Thousand Oaks   \n",
       "2    74510-27669      Vons-Agoura Hills #2001   \n",
       "14   76365-97162        Target Alhambra T-184   \n",
       "15    6794-41839     Fremont Ave & Mission Rd   \n",
       "16  11220-104633  Atlantic & Valley, Alhambra   \n",
       "\n",
       "                                  Address          City  Longitude  Latitude  \\\n",
       "1               5827 Kanan Road Agoura CA        Agoura    -118.76     34.16   \n",
       "2          5671 Kanan Rd. Agoura Hills CA  Agoura Hills    -118.76     34.15   \n",
       "14      1220 West Main Street Alhambra CA      Alhambra    -118.14     34.09   \n",
       "15      1131 S Fremont Ave, A Alhambra CA      Alhambra    -118.15     34.08   \n",
       "16  1410 South Atlantic Blvd. Alhambra CA      Alhambra    -118.13     34.08   \n",
       "\n",
       "                       geometry  index_right  GEOID                name  \\\n",
       "1   POINT (-118.76000 34.16000)            5   6037  Los Angeles County   \n",
       "2   POINT (-118.76000 34.15000)            5   6037  Los Angeles County   \n",
       "14  POINT (-118.14000 34.09000)            5   6037  Los Angeles County   \n",
       "15  POINT (-118.15000 34.08000)            5   6037  Los Angeles County   \n",
       "16  POINT (-118.13000 34.08000)            5   6037  Los Angeles County   \n",
       "\n",
       "       area_sqkm  population  high_earners  median_age     density  \n",
       "1   12305.376879    10105518        501413        36.0  821.227834  \n",
       "2   12305.376879    10105518        501413        36.0  821.227834  \n",
       "14  12305.376879    10105518        501413        36.0  821.227834  \n",
       "15  12305.376879    10105518        501413        36.0  821.227834  \n",
       "16  12305.376879    10105518        501413        36.0  821.227834  "
      ]
     },
     "execution_count": 32,
     "metadata": {},
     "output_type": "execute_result"
    }
   ],
   "source": [
    "join_sbuck_counties.head()"
   ]
  },
  {
   "cell_type": "code",
   "execution_count": 33,
   "id": "eb469e75",
   "metadata": {
    "execution": {
     "iopub.execute_input": "2024-02-22T16:12:00.064959Z",
     "iopub.status.busy": "2024-02-22T16:12:00.064159Z",
     "iopub.status.idle": "2024-02-22T16:12:00.102741Z",
     "shell.execute_reply": "2024-02-22T16:12:00.101445Z"
    },
    "papermill": {
     "duration": 0.066255,
     "end_time": "2024-02-22T16:12:00.105561",
     "exception": false,
     "start_time": "2024-02-22T16:12:00.039306",
     "status": "completed"
    },
    "tags": []
   },
   "outputs": [
    {
     "data": {
      "text/html": [
       "<div>\n",
       "<style scoped>\n",
       "    .dataframe tbody tr th:only-of-type {\n",
       "        vertical-align: middle;\n",
       "    }\n",
       "\n",
       "    .dataframe tbody tr th {\n",
       "        vertical-align: top;\n",
       "    }\n",
       "\n",
       "    .dataframe thead th {\n",
       "        text-align: right;\n",
       "    }\n",
       "</style>\n",
       "<table border=\"1\" class=\"dataframe\">\n",
       "  <thead>\n",
       "    <tr style=\"text-align: right;\">\n",
       "      <th></th>\n",
       "      <th>Longitude</th>\n",
       "      <th>Latitude</th>\n",
       "      <th>index_right</th>\n",
       "      <th>GEOID</th>\n",
       "      <th>area_sqkm</th>\n",
       "      <th>population</th>\n",
       "      <th>high_earners</th>\n",
       "      <th>median_age</th>\n",
       "      <th>density</th>\n",
       "    </tr>\n",
       "  </thead>\n",
       "  <tbody>\n",
       "    <tr>\n",
       "      <th>count</th>\n",
       "      <td>1043.000000</td>\n",
       "      <td>1043.000000</td>\n",
       "      <td>1043.000000</td>\n",
       "      <td>1043.000000</td>\n",
       "      <td>1043.000000</td>\n",
       "      <td>1.043000e+03</td>\n",
       "      <td>1043.000000</td>\n",
       "      <td>1043.000000</td>\n",
       "      <td>1043.000000</td>\n",
       "    </tr>\n",
       "    <tr>\n",
       "      <th>mean</th>\n",
       "      <td>-118.306970</td>\n",
       "      <td>34.046683</td>\n",
       "      <td>6.248322</td>\n",
       "      <td>6050.144775</td>\n",
       "      <td>11167.215206</td>\n",
       "      <td>7.462570e+06</td>\n",
       "      <td>384187.802493</td>\n",
       "      <td>36.025599</td>\n",
       "      <td>726.890050</td>\n",
       "    </tr>\n",
       "    <tr>\n",
       "      <th>std</th>\n",
       "      <td>1.348466</td>\n",
       "      <td>1.251114</td>\n",
       "      <td>1.738876</td>\n",
       "      <td>17.523145</td>\n",
       "      <td>3199.484553</td>\n",
       "      <td>3.576524e+06</td>\n",
       "      <td>157505.189324</td>\n",
       "      <td>0.735439</td>\n",
       "      <td>325.565911</td>\n",
       "    </tr>\n",
       "    <tr>\n",
       "      <th>min</th>\n",
       "      <td>-122.490000</td>\n",
       "      <td>32.570000</td>\n",
       "      <td>5.000000</td>\n",
       "      <td>6037.000000</td>\n",
       "      <td>600.588247</td>\n",
       "      <td>8.833050e+05</td>\n",
       "      <td>114989.000000</td>\n",
       "      <td>35.400000</td>\n",
       "      <td>285.237299</td>\n",
       "    </tr>\n",
       "    <tr>\n",
       "      <th>25%</th>\n",
       "      <td>-118.405000</td>\n",
       "      <td>33.150000</td>\n",
       "      <td>5.000000</td>\n",
       "      <td>6037.000000</td>\n",
       "      <td>11721.342229</td>\n",
       "      <td>3.343364e+06</td>\n",
       "      <td>194676.000000</td>\n",
       "      <td>35.400000</td>\n",
       "      <td>285.237299</td>\n",
       "    </tr>\n",
       "    <tr>\n",
       "      <th>50%</th>\n",
       "      <td>-118.200000</td>\n",
       "      <td>34.020000</td>\n",
       "      <td>5.000000</td>\n",
       "      <td>6037.000000</td>\n",
       "      <td>12305.376879</td>\n",
       "      <td>1.010552e+07</td>\n",
       "      <td>501413.000000</td>\n",
       "      <td>36.000000</td>\n",
       "      <td>821.227834</td>\n",
       "    </tr>\n",
       "    <tr>\n",
       "      <th>75%</th>\n",
       "      <td>-117.270000</td>\n",
       "      <td>34.150000</td>\n",
       "      <td>8.000000</td>\n",
       "      <td>6073.000000</td>\n",
       "      <td>12305.376879</td>\n",
       "      <td>1.010552e+07</td>\n",
       "      <td>501413.000000</td>\n",
       "      <td>36.000000</td>\n",
       "      <td>821.227834</td>\n",
       "    </tr>\n",
       "    <tr>\n",
       "      <th>max</th>\n",
       "      <td>-116.750000</td>\n",
       "      <td>37.810000</td>\n",
       "      <td>10.000000</td>\n",
       "      <td>6075.000000</td>\n",
       "      <td>12305.376879</td>\n",
       "      <td>1.010552e+07</td>\n",
       "      <td>501413.000000</td>\n",
       "      <td>38.300000</td>\n",
       "      <td>1470.733077</td>\n",
       "    </tr>\n",
       "  </tbody>\n",
       "</table>\n",
       "</div>"
      ],
      "text/plain": [
       "         Longitude     Latitude  index_right        GEOID     area_sqkm  \\\n",
       "count  1043.000000  1043.000000  1043.000000  1043.000000   1043.000000   \n",
       "mean   -118.306970    34.046683     6.248322  6050.144775  11167.215206   \n",
       "std       1.348466     1.251114     1.738876    17.523145   3199.484553   \n",
       "min    -122.490000    32.570000     5.000000  6037.000000    600.588247   \n",
       "25%    -118.405000    33.150000     5.000000  6037.000000  11721.342229   \n",
       "50%    -118.200000    34.020000     5.000000  6037.000000  12305.376879   \n",
       "75%    -117.270000    34.150000     8.000000  6073.000000  12305.376879   \n",
       "max    -116.750000    37.810000    10.000000  6075.000000  12305.376879   \n",
       "\n",
       "         population   high_earners   median_age      density  \n",
       "count  1.043000e+03    1043.000000  1043.000000  1043.000000  \n",
       "mean   7.462570e+06  384187.802493    36.025599   726.890050  \n",
       "std    3.576524e+06  157505.189324     0.735439   325.565911  \n",
       "min    8.833050e+05  114989.000000    35.400000   285.237299  \n",
       "25%    3.343364e+06  194676.000000    35.400000   285.237299  \n",
       "50%    1.010552e+07  501413.000000    36.000000   821.227834  \n",
       "75%    1.010552e+07  501413.000000    36.000000   821.227834  \n",
       "max    1.010552e+07  501413.000000    38.300000  1470.733077  "
      ]
     },
     "execution_count": 33,
     "metadata": {},
     "output_type": "execute_result"
    }
   ],
   "source": [
    "join_sbuck_counties.describe()"
   ]
  },
  {
   "cell_type": "code",
   "execution_count": 34,
   "id": "c5652453",
   "metadata": {
    "execution": {
     "iopub.execute_input": "2024-02-22T16:12:00.158093Z",
     "iopub.status.busy": "2024-02-22T16:12:00.157442Z",
     "iopub.status.idle": "2024-02-22T16:12:00.164402Z",
     "shell.execute_reply": "2024-02-22T16:12:00.163362Z"
    },
    "papermill": {
     "duration": 0.034848,
     "end_time": "2024-02-22T16:12:00.166615",
     "exception": false,
     "start_time": "2024-02-22T16:12:00.131767",
     "status": "completed"
    },
    "tags": []
   },
   "outputs": [
    {
     "data": {
      "text/plain": [
       "Index(['Store Number', 'Store Name', 'Address', 'City', 'Longitude',\n",
       "       'Latitude', 'geometry', 'index_right', 'GEOID', 'name', 'area_sqkm',\n",
       "       'population', 'high_earners', 'median_age', 'density'],\n",
       "      dtype='object')"
      ]
     },
     "execution_count": 34,
     "metadata": {},
     "output_type": "execute_result"
    }
   ],
   "source": [
    "join_sbuck_counties.columns"
   ]
  },
  {
   "cell_type": "code",
   "execution_count": 35,
   "id": "f381583a",
   "metadata": {
    "execution": {
     "iopub.execute_input": "2024-02-22T16:12:00.215404Z",
     "iopub.status.busy": "2024-02-22T16:12:00.214755Z",
     "iopub.status.idle": "2024-02-22T16:12:00.222451Z",
     "shell.execute_reply": "2024-02-22T16:12:00.221370Z"
    },
    "papermill": {
     "duration": 0.035253,
     "end_time": "2024-02-22T16:12:00.225047",
     "exception": false,
     "start_time": "2024-02-22T16:12:00.189794",
     "status": "completed"
    },
    "tags": []
   },
   "outputs": [
    {
     "data": {
      "text/plain": [
       "5     6037\n",
       "8     6073\n",
       "10    6075\n",
       "Name: GEOID, dtype: int64"
      ]
     },
     "execution_count": 35,
     "metadata": {},
     "output_type": "execute_result"
    }
   ],
   "source": [
    "sel_counties.GEOID"
   ]
  },
  {
   "cell_type": "code",
   "execution_count": 36,
   "id": "bd840f14",
   "metadata": {
    "execution": {
     "iopub.execute_input": "2024-02-22T16:12:00.273758Z",
     "iopub.status.busy": "2024-02-22T16:12:00.273119Z",
     "iopub.status.idle": "2024-02-22T16:12:00.281343Z",
     "shell.execute_reply": "2024-02-22T16:12:00.280291Z"
    },
    "papermill": {
     "duration": 0.035205,
     "end_time": "2024-02-22T16:12:00.283555",
     "exception": false,
     "start_time": "2024-02-22T16:12:00.248350",
     "status": "completed"
    },
    "tags": []
   },
   "outputs": [
    {
     "data": {
      "text/plain": [
       "1       6037\n",
       "2       6037\n",
       "14      6037\n",
       "15      6037\n",
       "16      6037\n",
       "        ... \n",
       "2804    6037\n",
       "2805    6037\n",
       "2806    6037\n",
       "2807    6037\n",
       "2808    6037\n",
       "Name: GEOID, Length: 1043, dtype: int64"
      ]
     },
     "execution_count": 36,
     "metadata": {},
     "output_type": "execute_result"
    }
   ],
   "source": [
    "join_sbuck_counties.GEOID"
   ]
  },
  {
   "cell_type": "code",
   "execution_count": 37,
   "id": "4386fdfe",
   "metadata": {
    "execution": {
     "iopub.execute_input": "2024-02-22T16:12:00.337125Z",
     "iopub.status.busy": "2024-02-22T16:12:00.336461Z",
     "iopub.status.idle": "2024-02-22T16:12:00.664937Z",
     "shell.execute_reply": "2024-02-22T16:12:00.663548Z"
    },
    "papermill": {
     "duration": 0.358739,
     "end_time": "2024-02-22T16:12:00.667911",
     "exception": false,
     "start_time": "2024-02-22T16:12:00.309172",
     "status": "completed"
    },
    "tags": []
   },
   "outputs": [
    {
     "data": {
      "application/javascript": [
       "parent.postMessage({\"jupyterEvent\": \"custom.exercise_interaction\", \"data\": {\"outcomeType\": 1, \"valueTowardsCompletion\": 0.2, \"interactionType\": 1, \"questionType\": 2, \"questionId\": \"5_Q5\", \"learnToolsVersion\": \"0.3.4\", \"failureMessage\": \"\", \"exceptionClass\": \"\", \"trace\": \"\"}}, \"*\")"
      ],
      "text/plain": [
       "<IPython.core.display.Javascript object>"
      ]
     },
     "metadata": {},
     "output_type": "display_data"
    },
    {
     "data": {
      "text/markdown": [
       "<span style=\"color:#33cc33\">Correct</span>"
      ],
      "text/plain": [
       "Correct"
      ]
     },
     "metadata": {},
     "output_type": "display_data"
    }
   ],
   "source": [
    "# Fill in your answer\n",
    "join_sbuck_counties = gpd.sjoin(starbucks_gdf, sel_counties)\n",
    "num_stores = len(join_sbuck_counties)\n",
    "\n",
    "# Check your answer\n",
    "q_5.check()"
   ]
  },
  {
   "cell_type": "code",
   "execution_count": 38,
   "id": "3c34bca5",
   "metadata": {
    "execution": {
     "iopub.execute_input": "2024-02-22T16:12:00.720128Z",
     "iopub.status.busy": "2024-02-22T16:12:00.719718Z",
     "iopub.status.idle": "2024-02-22T16:12:00.725172Z",
     "shell.execute_reply": "2024-02-22T16:12:00.723886Z"
    },
    "papermill": {
     "duration": 0.035858,
     "end_time": "2024-02-22T16:12:00.727937",
     "exception": false,
     "start_time": "2024-02-22T16:12:00.692079",
     "status": "completed"
    },
    "tags": []
   },
   "outputs": [],
   "source": [
    "# Lines below will give you a hint or solution code\n",
    "# q_5.hint()\n",
    "# q_5.solution()"
   ]
  },
  {
   "cell_type": "markdown",
   "id": "eae12aef",
   "metadata": {
    "papermill": {
     "duration": 0.024013,
     "end_time": "2024-02-22T16:12:00.777241",
     "exception": false,
     "start_time": "2024-02-22T16:12:00.753228",
     "status": "completed"
    },
    "tags": []
   },
   "source": [
    "### 6) Visualize the store locations.\n",
    "\n",
    "Create a map that shows the locations of the stores that you identified in the previous question."
   ]
  },
  {
   "cell_type": "code",
   "execution_count": 39,
   "id": "430e6451",
   "metadata": {
    "execution": {
     "iopub.execute_input": "2024-02-22T16:12:00.827790Z",
     "iopub.status.busy": "2024-02-22T16:12:00.827412Z",
     "iopub.status.idle": "2024-02-22T16:12:02.693613Z",
     "shell.execute_reply": "2024-02-22T16:12:02.692669Z"
    },
    "papermill": {
     "duration": 1.894661,
     "end_time": "2024-02-22T16:12:02.696345",
     "exception": false,
     "start_time": "2024-02-22T16:12:00.801684",
     "status": "completed"
    },
    "tags": []
   },
   "outputs": [
    {
     "data": {
      "text/html": [
       "\n",
       "        <iframe\n",
       "            width=\"100%\"\n",
       "            height=\"500px\"\n",
       "            src=\"q_6.html\"\n",
       "            frameborder=\"0\"\n",
       "            allowfullscreen\n",
       "            \n",
       "        ></iframe>\n",
       "        "
      ],
      "text/plain": [
       "<IPython.lib.display.IFrame at 0x7d1d20615870>"
      ]
     },
     "execution_count": 39,
     "metadata": {},
     "output_type": "execute_result"
    }
   ],
   "source": [
    "# Create a base map\n",
    "m_6 = folium.Map(location=[37,-120], zoom_start=6)\n",
    "\n",
    "# Your code here: show selected store locations\n",
    "for idx, row in join_sbuck_counties.iterrows():\n",
    "    Marker([row['Latitude'], row['Longitude']], popup=row['Store Name']).add_to(m_6)\n",
    "\n",
    "# Uncomment to see a hint\n",
    "#q_6.hint()\n",
    "\n",
    "# Show the map\n",
    "embed_map(m_6, 'q_6.html')"
   ]
  },
  {
   "cell_type": "code",
   "execution_count": 40,
   "id": "1d5154a3",
   "metadata": {
    "execution": {
     "iopub.execute_input": "2024-02-22T16:12:02.750531Z",
     "iopub.status.busy": "2024-02-22T16:12:02.749837Z",
     "iopub.status.idle": "2024-02-22T16:12:02.758327Z",
     "shell.execute_reply": "2024-02-22T16:12:02.757125Z"
    },
    "papermill": {
     "duration": 0.037229,
     "end_time": "2024-02-22T16:12:02.760572",
     "exception": false,
     "start_time": "2024-02-22T16:12:02.723343",
     "status": "completed"
    },
    "tags": []
   },
   "outputs": [
    {
     "data": {
      "application/javascript": [
       "parent.postMessage({\"jupyterEvent\": \"custom.exercise_interaction\", \"data\": {\"outcomeType\": 1, \"valueTowardsCompletion\": 0.2, \"interactionType\": 1, \"questionType\": 2, \"questionId\": \"6_Q6\", \"learnToolsVersion\": \"0.3.4\", \"failureMessage\": \"\", \"exceptionClass\": \"\", \"trace\": \"\"}}, \"*\")"
      ],
      "text/plain": [
       "<IPython.core.display.Javascript object>"
      ]
     },
     "metadata": {},
     "output_type": "display_data"
    },
    {
     "data": {
      "text/markdown": [
       "<span style=\"color:#33cc33\">Thank you for creating a map!</span>"
      ],
      "text/plain": [
       "Thank you for creating a map!"
      ]
     },
     "metadata": {},
     "output_type": "display_data"
    }
   ],
   "source": [
    "# Get credit for your work after you have created a map\n",
    "q_6.check()\n",
    "\n",
    "# Uncomment to see our solution (your code may look different!)\n",
    "#q_6.solution()"
   ]
  },
  {
   "cell_type": "markdown",
   "id": "ecaa3f91",
   "metadata": {
    "papermill": {
     "duration": 0.029541,
     "end_time": "2024-02-22T16:12:02.814503",
     "exception": false,
     "start_time": "2024-02-22T16:12:02.784962",
     "status": "completed"
    },
    "tags": []
   },
   "source": [
    "# Keep going\n",
    "\n",
    "Learn about how **[proximity analysis](https://www.kaggle.com/alexisbcook/proximity-analysis)** can help you to understand the relationships between points on a map."
   ]
  },
  {
   "cell_type": "markdown",
   "id": "8ba33d17",
   "metadata": {
    "papermill": {
     "duration": 0.028521,
     "end_time": "2024-02-22T16:12:02.878795",
     "exception": false,
     "start_time": "2024-02-22T16:12:02.850274",
     "status": "completed"
    },
    "tags": []
   },
   "source": [
    "---\n",
    "\n",
    "\n",
    "\n",
    "\n",
    "*Have questions or comments? Visit the [course discussion forum](https://www.kaggle.com/learn/geospatial-analysis/discussion) to chat with other learners.*"
   ]
  }
 ],
 "metadata": {
  "kaggle": {
   "accelerator": "none",
   "dataSources": [
    {
     "datasetId": 348259,
     "sourceId": 695175,
     "sourceType": "datasetVersion"
    },
    {
     "datasetId": 116573,
     "sourceId": 3551030,
     "sourceType": "datasetVersion"
    }
   ],
   "isGpuEnabled": false,
   "isInternetEnabled": false,
   "language": "python",
   "sourceType": "notebook"
  },
  "kernelspec": {
   "display_name": "Python 3",
   "language": "python",
   "name": "python3"
  },
  "language_info": {
   "codemirror_mode": {
    "name": "ipython",
    "version": 3
   },
   "file_extension": ".py",
   "mimetype": "text/x-python",
   "name": "python",
   "nbconvert_exporter": "python",
   "pygments_lexer": "ipython3",
   "version": "3.10.13"
  },
  "papermill": {
   "default_parameters": {},
   "duration": 14.356116,
   "end_time": "2024-02-22T16:12:03.625412",
   "environment_variables": {},
   "exception": null,
   "input_path": "__notebook__.ipynb",
   "output_path": "__notebook__.ipynb",
   "parameters": {},
   "start_time": "2024-02-22T16:11:49.269296",
   "version": "2.5.0"
  }
 },
 "nbformat": 4,
 "nbformat_minor": 5
}
