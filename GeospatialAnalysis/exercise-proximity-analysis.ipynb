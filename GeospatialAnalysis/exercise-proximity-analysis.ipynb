{
 "cells": [
  {
   "cell_type": "markdown",
   "id": "d1af7051",
   "metadata": {
    "papermill": {
     "duration": 0.00755,
     "end_time": "2024-02-26T09:28:57.886903",
     "exception": false,
     "start_time": "2024-02-26T09:28:57.879353",
     "status": "completed"
    },
    "tags": []
   },
   "source": [
    "**This notebook is an exercise in the [Geospatial Analysis](https://www.kaggle.com/learn/geospatial-analysis) course.  You can reference the tutorial at [this link](https://www.kaggle.com/alexisbcook/proximity-analysis).**\n",
    "\n",
    "---\n"
   ]
  },
  {
   "cell_type": "markdown",
   "id": "0d551c99",
   "metadata": {
    "papermill": {
     "duration": 0.006358,
     "end_time": "2024-02-26T09:28:57.900289",
     "exception": false,
     "start_time": "2024-02-26T09:28:57.893931",
     "status": "completed"
    },
    "tags": []
   },
   "source": [
    "# Introduction \n",
    "\n",
    "You are part of a crisis response team, and you want to identify how hospitals have been responding to crash collisions in New York City.\n",
    "\n",
    "<center>\n",
    "<img src=\"https://storage.googleapis.com/kaggle-media/learn/images/wamd0n7.png\" width=\"450\"><br/>\n",
    "</center>\n",
    "\n",
    "Before you get started, run the code cell below to set everything up."
   ]
  },
  {
   "cell_type": "code",
   "execution_count": 1,
   "id": "62ea3530",
   "metadata": {
    "execution": {
     "iopub.execute_input": "2024-02-26T09:28:57.915583Z",
     "iopub.status.busy": "2024-02-26T09:28:57.915215Z",
     "iopub.status.idle": "2024-02-26T09:31:14.245642Z",
     "shell.execute_reply": "2024-02-26T09:31:14.244390Z"
    },
    "papermill": {
     "duration": 136.341049,
     "end_time": "2024-02-26T09:31:14.248119",
     "exception": false,
     "start_time": "2024-02-26T09:28:57.907070",
     "status": "completed"
    },
    "tags": []
   },
   "outputs": [],
   "source": [
    "import math\n",
    "import geopandas as gpd\n",
    "import pandas as pd\n",
    "from shapely.geometry import MultiPolygon\n",
    "\n",
    "import folium\n",
    "from folium import Choropleth, Marker\n",
    "from folium.plugins import HeatMap, MarkerCluster\n",
    "\n",
    "from learntools.core import binder\n",
    "binder.bind(globals())\n",
    "from learntools.geospatial.ex5 import *"
   ]
  },
  {
   "cell_type": "markdown",
   "id": "b8b7df53",
   "metadata": {
    "papermill": {
     "duration": 0.006658,
     "end_time": "2024-02-26T09:31:14.262050",
     "exception": false,
     "start_time": "2024-02-26T09:31:14.255392",
     "status": "completed"
    },
    "tags": []
   },
   "source": [
    "You'll use the `embed_map()` function to visualize your maps."
   ]
  },
  {
   "cell_type": "code",
   "execution_count": 2,
   "id": "c3ccdef0",
   "metadata": {
    "execution": {
     "iopub.execute_input": "2024-02-26T09:31:14.277415Z",
     "iopub.status.busy": "2024-02-26T09:31:14.277067Z",
     "iopub.status.idle": "2024-02-26T09:31:14.282980Z",
     "shell.execute_reply": "2024-02-26T09:31:14.281356Z"
    },
    "papermill": {
     "duration": 0.016648,
     "end_time": "2024-02-26T09:31:14.285571",
     "exception": false,
     "start_time": "2024-02-26T09:31:14.268923",
     "status": "completed"
    },
    "tags": []
   },
   "outputs": [],
   "source": [
    "def embed_map(m, file_name):\n",
    "    from IPython.display import IFrame\n",
    "    m.save(file_name)\n",
    "    return IFrame(file_name, width='100%', height='500px')"
   ]
  },
  {
   "cell_type": "markdown",
   "id": "813e9237",
   "metadata": {
    "papermill": {
     "duration": 0.008254,
     "end_time": "2024-02-26T09:31:14.301218",
     "exception": false,
     "start_time": "2024-02-26T09:31:14.292964",
     "status": "completed"
    },
    "tags": []
   },
   "source": [
    "# Exercises\n",
    "\n",
    "### 1) Visualize the collision data.\n",
    "\n",
    "Run the code cell below to load a GeoDataFrame `collisions` tracking major motor vehicle collisions in 2013-2018."
   ]
  },
  {
   "cell_type": "code",
   "execution_count": 3,
   "id": "dff2a7ee",
   "metadata": {
    "execution": {
     "iopub.execute_input": "2024-02-26T09:31:14.318046Z",
     "iopub.status.busy": "2024-02-26T09:31:14.317693Z",
     "iopub.status.idle": "2024-02-26T09:33:27.754893Z",
     "shell.execute_reply": "2024-02-26T09:33:27.753557Z"
    },
    "papermill": {
     "duration": 133.454232,
     "end_time": "2024-02-26T09:33:27.763754",
     "exception": false,
     "start_time": "2024-02-26T09:31:14.309522",
     "status": "completed"
    },
    "tags": []
   },
   "outputs": [
    {
     "data": {
      "text/html": [
       "<div>\n",
       "<style scoped>\n",
       "    .dataframe tbody tr th:only-of-type {\n",
       "        vertical-align: middle;\n",
       "    }\n",
       "\n",
       "    .dataframe tbody tr th {\n",
       "        vertical-align: top;\n",
       "    }\n",
       "\n",
       "    .dataframe thead th {\n",
       "        text-align: right;\n",
       "    }\n",
       "</style>\n",
       "<table border=\"1\" class=\"dataframe\">\n",
       "  <thead>\n",
       "    <tr style=\"text-align: right;\">\n",
       "      <th></th>\n",
       "      <th>DATE</th>\n",
       "      <th>TIME</th>\n",
       "      <th>BOROUGH</th>\n",
       "      <th>ZIP CODE</th>\n",
       "      <th>LATITUDE</th>\n",
       "      <th>LONGITUDE</th>\n",
       "      <th>LOCATION</th>\n",
       "      <th>ON STREET</th>\n",
       "      <th>CROSS STRE</th>\n",
       "      <th>OFF STREET</th>\n",
       "      <th>...</th>\n",
       "      <th>CONTRIBU_2</th>\n",
       "      <th>CONTRIBU_3</th>\n",
       "      <th>CONTRIBU_4</th>\n",
       "      <th>UNIQUE KEY</th>\n",
       "      <th>VEHICLE TY</th>\n",
       "      <th>VEHICLE _1</th>\n",
       "      <th>VEHICLE _2</th>\n",
       "      <th>VEHICLE _3</th>\n",
       "      <th>VEHICLE _4</th>\n",
       "      <th>geometry</th>\n",
       "    </tr>\n",
       "  </thead>\n",
       "  <tbody>\n",
       "    <tr>\n",
       "      <th>0</th>\n",
       "      <td>07/30/2019</td>\n",
       "      <td>0:00</td>\n",
       "      <td>BRONX</td>\n",
       "      <td>10464</td>\n",
       "      <td>40.841100</td>\n",
       "      <td>-73.784960</td>\n",
       "      <td>(40.8411, -73.78496)</td>\n",
       "      <td>None</td>\n",
       "      <td>None</td>\n",
       "      <td>121       PILOT STREET</td>\n",
       "      <td>...</td>\n",
       "      <td>Unspecified</td>\n",
       "      <td>None</td>\n",
       "      <td>None</td>\n",
       "      <td>4180045</td>\n",
       "      <td>Sedan</td>\n",
       "      <td>Station Wagon/Sport Utility Vehicle</td>\n",
       "      <td>Station Wagon/Sport Utility Vehicle</td>\n",
       "      <td>None</td>\n",
       "      <td>None</td>\n",
       "      <td>POINT (1043750.211 245785.815)</td>\n",
       "    </tr>\n",
       "    <tr>\n",
       "      <th>1</th>\n",
       "      <td>07/30/2019</td>\n",
       "      <td>0:10</td>\n",
       "      <td>QUEENS</td>\n",
       "      <td>11423</td>\n",
       "      <td>40.710827</td>\n",
       "      <td>-73.770660</td>\n",
       "      <td>(40.710827, -73.77066)</td>\n",
       "      <td>JAMAICA AVENUE</td>\n",
       "      <td>188 STREET</td>\n",
       "      <td>None</td>\n",
       "      <td>...</td>\n",
       "      <td>None</td>\n",
       "      <td>None</td>\n",
       "      <td>None</td>\n",
       "      <td>4180007</td>\n",
       "      <td>Sedan</td>\n",
       "      <td>Sedan</td>\n",
       "      <td>None</td>\n",
       "      <td>None</td>\n",
       "      <td>None</td>\n",
       "      <td>POINT (1047831.185 198333.171)</td>\n",
       "    </tr>\n",
       "    <tr>\n",
       "      <th>2</th>\n",
       "      <td>07/30/2019</td>\n",
       "      <td>0:25</td>\n",
       "      <td>None</td>\n",
       "      <td>None</td>\n",
       "      <td>40.880318</td>\n",
       "      <td>-73.841286</td>\n",
       "      <td>(40.880318, -73.841286)</td>\n",
       "      <td>BOSTON ROAD</td>\n",
       "      <td>None</td>\n",
       "      <td>None</td>\n",
       "      <td>...</td>\n",
       "      <td>None</td>\n",
       "      <td>None</td>\n",
       "      <td>None</td>\n",
       "      <td>4179575</td>\n",
       "      <td>Sedan</td>\n",
       "      <td>Station Wagon/Sport Utility Vehicle</td>\n",
       "      <td>None</td>\n",
       "      <td>None</td>\n",
       "      <td>None</td>\n",
       "      <td>POINT (1028139.293 260041.178)</td>\n",
       "    </tr>\n",
       "    <tr>\n",
       "      <th>3</th>\n",
       "      <td>07/30/2019</td>\n",
       "      <td>0:35</td>\n",
       "      <td>MANHATTAN</td>\n",
       "      <td>10036</td>\n",
       "      <td>40.756744</td>\n",
       "      <td>-73.984590</td>\n",
       "      <td>(40.756744, -73.98459)</td>\n",
       "      <td>None</td>\n",
       "      <td>None</td>\n",
       "      <td>155       WEST 44 STREET</td>\n",
       "      <td>...</td>\n",
       "      <td>None</td>\n",
       "      <td>None</td>\n",
       "      <td>None</td>\n",
       "      <td>4179544</td>\n",
       "      <td>Box Truck</td>\n",
       "      <td>Station Wagon/Sport Utility Vehicle</td>\n",
       "      <td>None</td>\n",
       "      <td>None</td>\n",
       "      <td>None</td>\n",
       "      <td>POINT (988519.261 214979.320)</td>\n",
       "    </tr>\n",
       "    <tr>\n",
       "      <th>4</th>\n",
       "      <td>07/30/2019</td>\n",
       "      <td>10:00</td>\n",
       "      <td>BROOKLYN</td>\n",
       "      <td>11223</td>\n",
       "      <td>40.600090</td>\n",
       "      <td>-73.965910</td>\n",
       "      <td>(40.60009, -73.96591)</td>\n",
       "      <td>AVENUE T</td>\n",
       "      <td>OCEAN PARKWAY</td>\n",
       "      <td>None</td>\n",
       "      <td>...</td>\n",
       "      <td>None</td>\n",
       "      <td>None</td>\n",
       "      <td>None</td>\n",
       "      <td>4180660</td>\n",
       "      <td>Station Wagon/Sport Utility Vehicle</td>\n",
       "      <td>Bike</td>\n",
       "      <td>None</td>\n",
       "      <td>None</td>\n",
       "      <td>None</td>\n",
       "      <td>POINT (993716.669 157907.212)</td>\n",
       "    </tr>\n",
       "  </tbody>\n",
       "</table>\n",
       "<p>5 rows × 30 columns</p>\n",
       "</div>"
      ],
      "text/plain": [
       "         DATE   TIME    BOROUGH ZIP CODE   LATITUDE  LONGITUDE  \\\n",
       "0  07/30/2019   0:00      BRONX    10464  40.841100 -73.784960   \n",
       "1  07/30/2019   0:10     QUEENS    11423  40.710827 -73.770660   \n",
       "2  07/30/2019   0:25       None     None  40.880318 -73.841286   \n",
       "3  07/30/2019   0:35  MANHATTAN    10036  40.756744 -73.984590   \n",
       "4  07/30/2019  10:00   BROOKLYN    11223  40.600090 -73.965910   \n",
       "\n",
       "                  LOCATION       ON STREET     CROSS STRE  \\\n",
       "0     (40.8411, -73.78496)            None           None   \n",
       "1   (40.710827, -73.77066)  JAMAICA AVENUE     188 STREET   \n",
       "2  (40.880318, -73.841286)     BOSTON ROAD           None   \n",
       "3   (40.756744, -73.98459)            None           None   \n",
       "4    (40.60009, -73.96591)        AVENUE T  OCEAN PARKWAY   \n",
       "\n",
       "                 OFF STREET  ...   CONTRIBU_2  CONTRIBU_3  CONTRIBU_4  \\\n",
       "0    121       PILOT STREET  ...  Unspecified        None        None   \n",
       "1                      None  ...         None        None        None   \n",
       "2                      None  ...         None        None        None   \n",
       "3  155       WEST 44 STREET  ...         None        None        None   \n",
       "4                      None  ...         None        None        None   \n",
       "\n",
       "   UNIQUE KEY                           VEHICLE TY  \\\n",
       "0     4180045                                Sedan   \n",
       "1     4180007                                Sedan   \n",
       "2     4179575                                Sedan   \n",
       "3     4179544                            Box Truck   \n",
       "4     4180660  Station Wagon/Sport Utility Vehicle   \n",
       "\n",
       "                            VEHICLE _1                           VEHICLE _2  \\\n",
       "0  Station Wagon/Sport Utility Vehicle  Station Wagon/Sport Utility Vehicle   \n",
       "1                                Sedan                                 None   \n",
       "2  Station Wagon/Sport Utility Vehicle                                 None   \n",
       "3  Station Wagon/Sport Utility Vehicle                                 None   \n",
       "4                                 Bike                                 None   \n",
       "\n",
       "   VEHICLE _3 VEHICLE _4                        geometry  \n",
       "0        None       None  POINT (1043750.211 245785.815)  \n",
       "1        None       None  POINT (1047831.185 198333.171)  \n",
       "2        None       None  POINT (1028139.293 260041.178)  \n",
       "3        None       None   POINT (988519.261 214979.320)  \n",
       "4        None       None   POINT (993716.669 157907.212)  \n",
       "\n",
       "[5 rows x 30 columns]"
      ]
     },
     "execution_count": 3,
     "metadata": {},
     "output_type": "execute_result"
    }
   ],
   "source": [
    "collisions = gpd.read_file(\"../input/geospatial-learn-course-data/NYPD_Motor_Vehicle_Collisions/NYPD_Motor_Vehicle_Collisions/NYPD_Motor_Vehicle_Collisions.shp\")\n",
    "collisions.head()"
   ]
  },
  {
   "cell_type": "markdown",
   "id": "81a3c403",
   "metadata": {
    "papermill": {
     "duration": 0.006876,
     "end_time": "2024-02-26T09:33:27.777800",
     "exception": false,
     "start_time": "2024-02-26T09:33:27.770924",
     "status": "completed"
    },
    "tags": []
   },
   "source": [
    "Use the \"LATITUDE\" and \"LONGITUDE\" columns to create an interactive map to visualize the collision data.  What type of map do you think is most effective?"
   ]
  },
  {
   "cell_type": "code",
   "execution_count": 4,
   "id": "d4d90a23",
   "metadata": {
    "execution": {
     "iopub.execute_input": "2024-02-26T09:33:27.794431Z",
     "iopub.status.busy": "2024-02-26T09:33:27.793656Z",
     "iopub.status.idle": "2024-02-26T09:33:30.333997Z",
     "shell.execute_reply": "2024-02-26T09:33:30.332818Z"
    },
    "papermill": {
     "duration": 2.551996,
     "end_time": "2024-02-26T09:33:30.336935",
     "exception": false,
     "start_time": "2024-02-26T09:33:27.784939",
     "status": "completed"
    },
    "tags": []
   },
   "outputs": [
    {
     "data": {
      "text/html": [
       "\n",
       "        <iframe\n",
       "            width=\"100%\"\n",
       "            height=\"500px\"\n",
       "            src=\"q_1.html\"\n",
       "            frameborder=\"0\"\n",
       "            allowfullscreen\n",
       "            \n",
       "        ></iframe>\n",
       "        "
      ],
      "text/plain": [
       "<IPython.lib.display.IFrame at 0x7926fc729e70>"
      ]
     },
     "execution_count": 4,
     "metadata": {},
     "output_type": "execute_result"
    }
   ],
   "source": [
    "m_1 = folium.Map(location=[40.7, -74], zoom_start=11) \n",
    "\n",
    "# Your code here: Visualize the collision data\n",
    "HeatMap(data=collisions[['LATITUDE', 'LONGITUDE']], radius=15).add_to(m_1)\n",
    "\n",
    "# Uncomment to see a hint\n",
    "#q_1.hint()\n",
    "\n",
    "# Show the map\n",
    "embed_map(m_1, \"q_1.html\")"
   ]
  },
  {
   "cell_type": "code",
   "execution_count": 5,
   "id": "2f5fe3ec",
   "metadata": {
    "execution": {
     "iopub.execute_input": "2024-02-26T09:33:30.353893Z",
     "iopub.status.busy": "2024-02-26T09:33:30.353555Z",
     "iopub.status.idle": "2024-02-26T09:33:30.361315Z",
     "shell.execute_reply": "2024-02-26T09:33:30.360406Z"
    },
    "papermill": {
     "duration": 0.018515,
     "end_time": "2024-02-26T09:33:30.363003",
     "exception": false,
     "start_time": "2024-02-26T09:33:30.344488",
     "status": "completed"
    },
    "tags": []
   },
   "outputs": [
    {
     "data": {
      "application/javascript": [
       "parent.postMessage({\"jupyterEvent\": \"custom.exercise_interaction\", \"data\": {\"outcomeType\": 1, \"valueTowardsCompletion\": 0.16666666666666666, \"interactionType\": 1, \"questionType\": 2, \"questionId\": \"1_Q1\", \"learnToolsVersion\": \"0.3.4\", \"failureMessage\": \"\", \"exceptionClass\": \"\", \"trace\": \"\"}}, \"*\")"
      ],
      "text/plain": [
       "<IPython.core.display.Javascript object>"
      ]
     },
     "metadata": {},
     "output_type": "display_data"
    },
    {
     "data": {
      "text/markdown": [
       "<span style=\"color:#33cc33\">Thank you for creating a map!</span>"
      ],
      "text/plain": [
       "Thank you for creating a map!"
      ]
     },
     "metadata": {},
     "output_type": "display_data"
    }
   ],
   "source": [
    "# Get credit for your work after you have created a map\n",
    "q_1.check()\n",
    "\n",
    "# Uncomment to see our solution (your code may look different!)\n",
    "#q_1.solution()"
   ]
  },
  {
   "cell_type": "markdown",
   "id": "0f1a77d8",
   "metadata": {
    "papermill": {
     "duration": 0.007551,
     "end_time": "2024-02-26T09:33:30.378336",
     "exception": false,
     "start_time": "2024-02-26T09:33:30.370785",
     "status": "completed"
    },
    "tags": []
   },
   "source": [
    "### 2) Understand hospital coverage.\n",
    "\n",
    "Run the next code cell to load the hospital data."
   ]
  },
  {
   "cell_type": "code",
   "execution_count": 6,
   "id": "63205198",
   "metadata": {
    "execution": {
     "iopub.execute_input": "2024-02-26T09:33:30.395639Z",
     "iopub.status.busy": "2024-02-26T09:33:30.395104Z",
     "iopub.status.idle": "2024-02-26T09:33:30.676548Z",
     "shell.execute_reply": "2024-02-26T09:33:30.675528Z"
    },
    "papermill": {
     "duration": 0.292599,
     "end_time": "2024-02-26T09:33:30.678638",
     "exception": false,
     "start_time": "2024-02-26T09:33:30.386039",
     "status": "completed"
    },
    "tags": []
   },
   "outputs": [
    {
     "data": {
      "text/html": [
       "<div>\n",
       "<style scoped>\n",
       "    .dataframe tbody tr th:only-of-type {\n",
       "        vertical-align: middle;\n",
       "    }\n",
       "\n",
       "    .dataframe tbody tr th {\n",
       "        vertical-align: top;\n",
       "    }\n",
       "\n",
       "    .dataframe thead th {\n",
       "        text-align: right;\n",
       "    }\n",
       "</style>\n",
       "<table border=\"1\" class=\"dataframe\">\n",
       "  <thead>\n",
       "    <tr style=\"text-align: right;\">\n",
       "      <th></th>\n",
       "      <th>id</th>\n",
       "      <th>name</th>\n",
       "      <th>address</th>\n",
       "      <th>zip</th>\n",
       "      <th>factype</th>\n",
       "      <th>facname</th>\n",
       "      <th>capacity</th>\n",
       "      <th>capname</th>\n",
       "      <th>bcode</th>\n",
       "      <th>xcoord</th>\n",
       "      <th>ycoord</th>\n",
       "      <th>latitude</th>\n",
       "      <th>longitude</th>\n",
       "      <th>geometry</th>\n",
       "    </tr>\n",
       "  </thead>\n",
       "  <tbody>\n",
       "    <tr>\n",
       "      <th>0</th>\n",
       "      <td>317000001H1178</td>\n",
       "      <td>BRONX-LEBANON HOSPITAL CENTER - CONCOURSE DIVI...</td>\n",
       "      <td>1650 Grand Concourse</td>\n",
       "      <td>10457</td>\n",
       "      <td>3102</td>\n",
       "      <td>Hospital</td>\n",
       "      <td>415</td>\n",
       "      <td>Beds</td>\n",
       "      <td>36005</td>\n",
       "      <td>1008872.0</td>\n",
       "      <td>246596.0</td>\n",
       "      <td>40.843490</td>\n",
       "      <td>-73.911010</td>\n",
       "      <td>POINT (1008872.000 246596.000)</td>\n",
       "    </tr>\n",
       "    <tr>\n",
       "      <th>1</th>\n",
       "      <td>317000001H1164</td>\n",
       "      <td>BRONX-LEBANON HOSPITAL CENTER - FULTON DIVISION</td>\n",
       "      <td>1276 Fulton Ave</td>\n",
       "      <td>10456</td>\n",
       "      <td>3102</td>\n",
       "      <td>Hospital</td>\n",
       "      <td>164</td>\n",
       "      <td>Beds</td>\n",
       "      <td>36005</td>\n",
       "      <td>1011044.0</td>\n",
       "      <td>242204.0</td>\n",
       "      <td>40.831429</td>\n",
       "      <td>-73.903178</td>\n",
       "      <td>POINT (1011044.000 242204.000)</td>\n",
       "    </tr>\n",
       "    <tr>\n",
       "      <th>2</th>\n",
       "      <td>317000011H1175</td>\n",
       "      <td>CALVARY HOSPITAL INC</td>\n",
       "      <td>1740-70 Eastchester Rd</td>\n",
       "      <td>10461</td>\n",
       "      <td>3102</td>\n",
       "      <td>Hospital</td>\n",
       "      <td>225</td>\n",
       "      <td>Beds</td>\n",
       "      <td>36005</td>\n",
       "      <td>1027505.0</td>\n",
       "      <td>248287.0</td>\n",
       "      <td>40.848060</td>\n",
       "      <td>-73.843656</td>\n",
       "      <td>POINT (1027505.000 248287.000)</td>\n",
       "    </tr>\n",
       "    <tr>\n",
       "      <th>3</th>\n",
       "      <td>317000002H1165</td>\n",
       "      <td>JACOBI MEDICAL CENTER</td>\n",
       "      <td>1400 Pelham Pkwy</td>\n",
       "      <td>10461</td>\n",
       "      <td>3102</td>\n",
       "      <td>Hospital</td>\n",
       "      <td>457</td>\n",
       "      <td>Beds</td>\n",
       "      <td>36005</td>\n",
       "      <td>1027042.0</td>\n",
       "      <td>251065.0</td>\n",
       "      <td>40.855687</td>\n",
       "      <td>-73.845311</td>\n",
       "      <td>POINT (1027042.000 251065.000)</td>\n",
       "    </tr>\n",
       "    <tr>\n",
       "      <th>4</th>\n",
       "      <td>317000008H1172</td>\n",
       "      <td>LINCOLN MEDICAL &amp; MENTAL HEALTH CENTER</td>\n",
       "      <td>234 E 149 St</td>\n",
       "      <td>10451</td>\n",
       "      <td>3102</td>\n",
       "      <td>Hospital</td>\n",
       "      <td>362</td>\n",
       "      <td>Beds</td>\n",
       "      <td>36005</td>\n",
       "      <td>1005154.0</td>\n",
       "      <td>236853.0</td>\n",
       "      <td>40.816758</td>\n",
       "      <td>-73.924478</td>\n",
       "      <td>POINT (1005154.000 236853.000)</td>\n",
       "    </tr>\n",
       "  </tbody>\n",
       "</table>\n",
       "</div>"
      ],
      "text/plain": [
       "               id                                               name  \\\n",
       "0  317000001H1178  BRONX-LEBANON HOSPITAL CENTER - CONCOURSE DIVI...   \n",
       "1  317000001H1164    BRONX-LEBANON HOSPITAL CENTER - FULTON DIVISION   \n",
       "2  317000011H1175                               CALVARY HOSPITAL INC   \n",
       "3  317000002H1165                              JACOBI MEDICAL CENTER   \n",
       "4  317000008H1172             LINCOLN MEDICAL & MENTAL HEALTH CENTER   \n",
       "\n",
       "                  address    zip factype   facname capacity capname  bcode  \\\n",
       "0    1650 Grand Concourse  10457    3102  Hospital      415    Beds  36005   \n",
       "1         1276 Fulton Ave  10456    3102  Hospital      164    Beds  36005   \n",
       "2  1740-70 Eastchester Rd  10461    3102  Hospital      225    Beds  36005   \n",
       "3        1400 Pelham Pkwy  10461    3102  Hospital      457    Beds  36005   \n",
       "4            234 E 149 St  10451    3102  Hospital      362    Beds  36005   \n",
       "\n",
       "      xcoord    ycoord   latitude  longitude                        geometry  \n",
       "0  1008872.0  246596.0  40.843490 -73.911010  POINT (1008872.000 246596.000)  \n",
       "1  1011044.0  242204.0  40.831429 -73.903178  POINT (1011044.000 242204.000)  \n",
       "2  1027505.0  248287.0  40.848060 -73.843656  POINT (1027505.000 248287.000)  \n",
       "3  1027042.0  251065.0  40.855687 -73.845311  POINT (1027042.000 251065.000)  \n",
       "4  1005154.0  236853.0  40.816758 -73.924478  POINT (1005154.000 236853.000)  "
      ]
     },
     "execution_count": 6,
     "metadata": {},
     "output_type": "execute_result"
    }
   ],
   "source": [
    "hospitals = gpd.read_file(\"../input/geospatial-learn-course-data/nyu_2451_34494/nyu_2451_34494/nyu_2451_34494.shp\")\n",
    "hospitals.head()"
   ]
  },
  {
   "cell_type": "markdown",
   "id": "ed66cff2",
   "metadata": {
    "papermill": {
     "duration": 0.008039,
     "end_time": "2024-02-26T09:33:30.694950",
     "exception": false,
     "start_time": "2024-02-26T09:33:30.686911",
     "status": "completed"
    },
    "tags": []
   },
   "source": [
    "Use the \"latitude\" and \"longitude\" columns to visualize the hospital locations. "
   ]
  },
  {
   "cell_type": "code",
   "execution_count": 7,
   "id": "3561c75b",
   "metadata": {
    "execution": {
     "iopub.execute_input": "2024-02-26T09:33:30.712845Z",
     "iopub.status.busy": "2024-02-26T09:33:30.712484Z",
     "iopub.status.idle": "2024-02-26T09:33:30.757182Z",
     "shell.execute_reply": "2024-02-26T09:33:30.756034Z"
    },
    "papermill": {
     "duration": 0.055966,
     "end_time": "2024-02-26T09:33:30.759159",
     "exception": false,
     "start_time": "2024-02-26T09:33:30.703193",
     "status": "completed"
    },
    "tags": []
   },
   "outputs": [
    {
     "data": {
      "text/html": [
       "\n",
       "        <iframe\n",
       "            width=\"100%\"\n",
       "            height=\"500px\"\n",
       "            src=\"q_2.html\"\n",
       "            frameborder=\"0\"\n",
       "            allowfullscreen\n",
       "            \n",
       "        ></iframe>\n",
       "        "
      ],
      "text/plain": [
       "<IPython.lib.display.IFrame at 0x7926fc6deb30>"
      ]
     },
     "execution_count": 7,
     "metadata": {},
     "output_type": "execute_result"
    }
   ],
   "source": [
    "m_2 = folium.Map(location=[40.7, -74], zoom_start=11) \n",
    "\n",
    "# Your code here: Visualize the hospital locations\n",
    "for idx, row in hospitals.iterrows():\n",
    "    Marker([row['latitude'], row['longitude']]).add_to(m_2)\n",
    "\n",
    "# Uncomment to see a hint\n",
    "#q_2.hint()\n",
    "        \n",
    "# Show the map\n",
    "embed_map(m_2, \"q_2.html\")"
   ]
  },
  {
   "cell_type": "code",
   "execution_count": 8,
   "id": "2df57070",
   "metadata": {
    "execution": {
     "iopub.execute_input": "2024-02-26T09:33:30.778074Z",
     "iopub.status.busy": "2024-02-26T09:33:30.777695Z",
     "iopub.status.idle": "2024-02-26T09:33:30.784691Z",
     "shell.execute_reply": "2024-02-26T09:33:30.783935Z"
    },
    "papermill": {
     "duration": 0.019255,
     "end_time": "2024-02-26T09:33:30.786415",
     "exception": false,
     "start_time": "2024-02-26T09:33:30.767160",
     "status": "completed"
    },
    "tags": []
   },
   "outputs": [
    {
     "data": {
      "application/javascript": [
       "parent.postMessage({\"jupyterEvent\": \"custom.exercise_interaction\", \"data\": {\"outcomeType\": 1, \"valueTowardsCompletion\": 0.16666666666666666, \"interactionType\": 1, \"questionType\": 2, \"questionId\": \"2_Q2\", \"learnToolsVersion\": \"0.3.4\", \"failureMessage\": \"\", \"exceptionClass\": \"\", \"trace\": \"\"}}, \"*\")"
      ],
      "text/plain": [
       "<IPython.core.display.Javascript object>"
      ]
     },
     "metadata": {},
     "output_type": "display_data"
    },
    {
     "data": {
      "text/markdown": [
       "<span style=\"color:#33cc33\">Thank you for creating a map!</span>"
      ],
      "text/plain": [
       "Thank you for creating a map!"
      ]
     },
     "metadata": {},
     "output_type": "display_data"
    }
   ],
   "source": [
    "# Get credit for your work after you have created a map\n",
    "q_2.check()\n",
    "\n",
    "# Uncomment to see our solution (your code may look different!)\n",
    "#q_2.solution()"
   ]
  },
  {
   "cell_type": "markdown",
   "id": "99f144f8",
   "metadata": {
    "papermill": {
     "duration": 0.008004,
     "end_time": "2024-02-26T09:33:30.802586",
     "exception": false,
     "start_time": "2024-02-26T09:33:30.794582",
     "status": "completed"
    },
    "tags": []
   },
   "source": [
    "### 3) When was the closest hospital more than 10 kilometers away?\n",
    "\n",
    "Create a DataFrame `outside_range` containing all rows from `collisions` with crashes that occurred more than 10 kilometers from the closest hospital.\n",
    "\n",
    "Note that both `hospitals` and `collisions` have EPSG 2263 as the coordinate reference system, and EPSG 2263 has units of meters."
   ]
  },
  {
   "cell_type": "code",
   "execution_count": 9,
   "id": "f9b4db11",
   "metadata": {
    "execution": {
     "iopub.execute_input": "2024-02-26T09:33:30.820383Z",
     "iopub.status.busy": "2024-02-26T09:33:30.820069Z",
     "iopub.status.idle": "2024-02-26T09:33:30.841513Z",
     "shell.execute_reply": "2024-02-26T09:33:30.840661Z"
    },
    "papermill": {
     "duration": 0.033179,
     "end_time": "2024-02-26T09:33:30.843858",
     "exception": false,
     "start_time": "2024-02-26T09:33:30.810679",
     "status": "completed"
    },
    "tags": []
   },
   "outputs": [
    {
     "data": {
      "text/plain": [
       "0    POLYGON ((1018872.000 246596.000, 1018823.847 ...\n",
       "1    POLYGON ((1021044.000 242204.000, 1020995.847 ...\n",
       "2    POLYGON ((1037505.000 248287.000, 1037456.847 ...\n",
       "3    POLYGON ((1037042.000 251065.000, 1036993.847 ...\n",
       "4    POLYGON ((1015154.000 236853.000, 1015105.847 ...\n",
       "dtype: geometry"
      ]
     },
     "execution_count": 9,
     "metadata": {},
     "output_type": "execute_result"
    }
   ],
   "source": [
    "ten_kilometers_buffer = gpd.GeoDataFrame(geometry=hospitals.geometry).buffer(10000)\n",
    "ten_kilometers_buffer.head()"
   ]
  },
  {
   "cell_type": "code",
   "execution_count": 10,
   "id": "e0eacb31",
   "metadata": {
    "execution": {
     "iopub.execute_input": "2024-02-26T09:33:30.861944Z",
     "iopub.status.busy": "2024-02-26T09:33:30.861595Z",
     "iopub.status.idle": "2024-02-26T09:33:59.733243Z",
     "shell.execute_reply": "2024-02-26T09:33:59.732375Z"
    },
    "papermill": {
     "duration": 28.882899,
     "end_time": "2024-02-26T09:33:59.735066",
     "exception": false,
     "start_time": "2024-02-26T09:33:30.852167",
     "status": "completed"
    },
    "tags": []
   },
   "outputs": [
    {
     "data": {
      "application/javascript": [
       "parent.postMessage({\"jupyterEvent\": \"custom.exercise_interaction\", \"data\": {\"outcomeType\": 1, \"valueTowardsCompletion\": 0.16666666666666666, \"interactionType\": 1, \"questionType\": 2, \"questionId\": \"3_Q3\", \"learnToolsVersion\": \"0.3.4\", \"failureMessage\": \"\", \"exceptionClass\": \"\", \"trace\": \"\"}}, \"*\")"
      ],
      "text/plain": [
       "<IPython.core.display.Javascript object>"
      ]
     },
     "metadata": {},
     "output_type": "display_data"
    },
    {
     "data": {
      "text/markdown": [
       "<span style=\"color:#33cc33\">Correct</span>"
      ],
      "text/plain": [
       "Correct"
      ]
     },
     "metadata": {},
     "output_type": "display_data"
    }
   ],
   "source": [
    "# Your code here\n",
    "my_union = ten_kilometers_buffer.geometry.unary_union\n",
    "outside_range = collisions.loc[~collisions['geometry'].apply(lambda x: my_union.contains(x))]\n",
    "\n",
    "\n",
    "# Check your answer\n",
    "q_3.check()"
   ]
  },
  {
   "cell_type": "code",
   "execution_count": 11,
   "id": "289114d2",
   "metadata": {
    "execution": {
     "iopub.execute_input": "2024-02-26T09:33:59.753426Z",
     "iopub.status.busy": "2024-02-26T09:33:59.753094Z",
     "iopub.status.idle": "2024-02-26T09:33:59.778256Z",
     "shell.execute_reply": "2024-02-26T09:33:59.776899Z"
    },
    "papermill": {
     "duration": 0.036831,
     "end_time": "2024-02-26T09:33:59.780417",
     "exception": false,
     "start_time": "2024-02-26T09:33:59.743586",
     "status": "completed"
    },
    "tags": []
   },
   "outputs": [
    {
     "data": {
      "text/html": [
       "<div>\n",
       "<style scoped>\n",
       "    .dataframe tbody tr th:only-of-type {\n",
       "        vertical-align: middle;\n",
       "    }\n",
       "\n",
       "    .dataframe tbody tr th {\n",
       "        vertical-align: top;\n",
       "    }\n",
       "\n",
       "    .dataframe thead th {\n",
       "        text-align: right;\n",
       "    }\n",
       "</style>\n",
       "<table border=\"1\" class=\"dataframe\">\n",
       "  <thead>\n",
       "    <tr style=\"text-align: right;\">\n",
       "      <th></th>\n",
       "      <th>DATE</th>\n",
       "      <th>TIME</th>\n",
       "      <th>BOROUGH</th>\n",
       "      <th>ZIP CODE</th>\n",
       "      <th>LATITUDE</th>\n",
       "      <th>LONGITUDE</th>\n",
       "      <th>LOCATION</th>\n",
       "      <th>ON STREET</th>\n",
       "      <th>CROSS STRE</th>\n",
       "      <th>OFF STREET</th>\n",
       "      <th>...</th>\n",
       "      <th>CONTRIBU_2</th>\n",
       "      <th>CONTRIBU_3</th>\n",
       "      <th>CONTRIBU_4</th>\n",
       "      <th>UNIQUE KEY</th>\n",
       "      <th>VEHICLE TY</th>\n",
       "      <th>VEHICLE _1</th>\n",
       "      <th>VEHICLE _2</th>\n",
       "      <th>VEHICLE _3</th>\n",
       "      <th>VEHICLE _4</th>\n",
       "      <th>geometry</th>\n",
       "    </tr>\n",
       "  </thead>\n",
       "  <tbody>\n",
       "    <tr>\n",
       "      <th>0</th>\n",
       "      <td>07/30/2019</td>\n",
       "      <td>0:00</td>\n",
       "      <td>BRONX</td>\n",
       "      <td>10464</td>\n",
       "      <td>40.841100</td>\n",
       "      <td>-73.784960</td>\n",
       "      <td>(40.8411, -73.78496)</td>\n",
       "      <td>None</td>\n",
       "      <td>None</td>\n",
       "      <td>121       PILOT STREET</td>\n",
       "      <td>...</td>\n",
       "      <td>Unspecified</td>\n",
       "      <td>None</td>\n",
       "      <td>None</td>\n",
       "      <td>4180045</td>\n",
       "      <td>Sedan</td>\n",
       "      <td>Station Wagon/Sport Utility Vehicle</td>\n",
       "      <td>Station Wagon/Sport Utility Vehicle</td>\n",
       "      <td>None</td>\n",
       "      <td>None</td>\n",
       "      <td>POINT (1043750.211 245785.815)</td>\n",
       "    </tr>\n",
       "    <tr>\n",
       "      <th>1</th>\n",
       "      <td>07/30/2019</td>\n",
       "      <td>0:10</td>\n",
       "      <td>QUEENS</td>\n",
       "      <td>11423</td>\n",
       "      <td>40.710827</td>\n",
       "      <td>-73.770660</td>\n",
       "      <td>(40.710827, -73.77066)</td>\n",
       "      <td>JAMAICA AVENUE</td>\n",
       "      <td>188 STREET</td>\n",
       "      <td>None</td>\n",
       "      <td>...</td>\n",
       "      <td>None</td>\n",
       "      <td>None</td>\n",
       "      <td>None</td>\n",
       "      <td>4180007</td>\n",
       "      <td>Sedan</td>\n",
       "      <td>Sedan</td>\n",
       "      <td>None</td>\n",
       "      <td>None</td>\n",
       "      <td>None</td>\n",
       "      <td>POINT (1047831.185 198333.171)</td>\n",
       "    </tr>\n",
       "    <tr>\n",
       "      <th>5</th>\n",
       "      <td>07/30/2019</td>\n",
       "      <td>10:50</td>\n",
       "      <td>QUEENS</td>\n",
       "      <td>11423</td>\n",
       "      <td>40.721060</td>\n",
       "      <td>-73.759450</td>\n",
       "      <td>(40.72106, -73.75945)</td>\n",
       "      <td>FRANCIS LEWIS BOULEVARD</td>\n",
       "      <td>HILLSIDE AVENUE</td>\n",
       "      <td>None</td>\n",
       "      <td>...</td>\n",
       "      <td>None</td>\n",
       "      <td>None</td>\n",
       "      <td>None</td>\n",
       "      <td>4179812</td>\n",
       "      <td>Sedan</td>\n",
       "      <td>Box Truck</td>\n",
       "      <td>None</td>\n",
       "      <td>None</td>\n",
       "      <td>None</td>\n",
       "      <td>POINT (1050928.749 202069.687)</td>\n",
       "    </tr>\n",
       "    <tr>\n",
       "      <th>6</th>\n",
       "      <td>07/30/2019</td>\n",
       "      <td>10:55</td>\n",
       "      <td>QUEENS</td>\n",
       "      <td>11434</td>\n",
       "      <td>40.676228</td>\n",
       "      <td>-73.761120</td>\n",
       "      <td>(40.676228, -73.76112)</td>\n",
       "      <td>CRANDALL AVENUE</td>\n",
       "      <td>CHENEY STREET</td>\n",
       "      <td>None</td>\n",
       "      <td>...</td>\n",
       "      <td>None</td>\n",
       "      <td>None</td>\n",
       "      <td>None</td>\n",
       "      <td>4180464</td>\n",
       "      <td>Station Wagon/Sport Utility Vehicle</td>\n",
       "      <td>Station Wagon/Sport Utility Vehicle</td>\n",
       "      <td>None</td>\n",
       "      <td>None</td>\n",
       "      <td>None</td>\n",
       "      <td>POINT (1050510.380 185734.852)</td>\n",
       "    </tr>\n",
       "    <tr>\n",
       "      <th>15</th>\n",
       "      <td>07/30/2019</td>\n",
       "      <td>13:05</td>\n",
       "      <td>None</td>\n",
       "      <td>None</td>\n",
       "      <td>40.588413</td>\n",
       "      <td>-74.166725</td>\n",
       "      <td>(40.588413, -74.166725)</td>\n",
       "      <td>None</td>\n",
       "      <td>None</td>\n",
       "      <td>26        RICHMOND HILL ROAD</td>\n",
       "      <td>...</td>\n",
       "      <td>None</td>\n",
       "      <td>None</td>\n",
       "      <td>None</td>\n",
       "      <td>4180091</td>\n",
       "      <td>Station Wagon/Sport Utility Vehicle</td>\n",
       "      <td>Box Truck</td>\n",
       "      <td>None</td>\n",
       "      <td>None</td>\n",
       "      <td>None</td>\n",
       "      <td>POINT (937943.004 153695.210)</td>\n",
       "    </tr>\n",
       "  </tbody>\n",
       "</table>\n",
       "<p>5 rows × 30 columns</p>\n",
       "</div>"
      ],
      "text/plain": [
       "          DATE   TIME BOROUGH ZIP CODE   LATITUDE  LONGITUDE  \\\n",
       "0   07/30/2019   0:00   BRONX    10464  40.841100 -73.784960   \n",
       "1   07/30/2019   0:10  QUEENS    11423  40.710827 -73.770660   \n",
       "5   07/30/2019  10:50  QUEENS    11423  40.721060 -73.759450   \n",
       "6   07/30/2019  10:55  QUEENS    11434  40.676228 -73.761120   \n",
       "15  07/30/2019  13:05    None     None  40.588413 -74.166725   \n",
       "\n",
       "                   LOCATION                ON STREET       CROSS STRE  \\\n",
       "0      (40.8411, -73.78496)                     None             None   \n",
       "1    (40.710827, -73.77066)           JAMAICA AVENUE       188 STREET   \n",
       "5     (40.72106, -73.75945)  FRANCIS LEWIS BOULEVARD  HILLSIDE AVENUE   \n",
       "6    (40.676228, -73.76112)          CRANDALL AVENUE    CHENEY STREET   \n",
       "15  (40.588413, -74.166725)                     None             None   \n",
       "\n",
       "                      OFF STREET  ...   CONTRIBU_2  CONTRIBU_3  CONTRIBU_4  \\\n",
       "0         121       PILOT STREET  ...  Unspecified        None        None   \n",
       "1                           None  ...         None        None        None   \n",
       "5                           None  ...         None        None        None   \n",
       "6                           None  ...         None        None        None   \n",
       "15  26        RICHMOND HILL ROAD  ...         None        None        None   \n",
       "\n",
       "    UNIQUE KEY                           VEHICLE TY  \\\n",
       "0      4180045                                Sedan   \n",
       "1      4180007                                Sedan   \n",
       "5      4179812                                Sedan   \n",
       "6      4180464  Station Wagon/Sport Utility Vehicle   \n",
       "15     4180091  Station Wagon/Sport Utility Vehicle   \n",
       "\n",
       "                             VEHICLE _1                           VEHICLE _2  \\\n",
       "0   Station Wagon/Sport Utility Vehicle  Station Wagon/Sport Utility Vehicle   \n",
       "1                                 Sedan                                 None   \n",
       "5                             Box Truck                                 None   \n",
       "6   Station Wagon/Sport Utility Vehicle                                 None   \n",
       "15                            Box Truck                                 None   \n",
       "\n",
       "    VEHICLE _3 VEHICLE _4                        geometry  \n",
       "0         None       None  POINT (1043750.211 245785.815)  \n",
       "1         None       None  POINT (1047831.185 198333.171)  \n",
       "5         None       None  POINT (1050928.749 202069.687)  \n",
       "6         None       None  POINT (1050510.380 185734.852)  \n",
       "15        None       None   POINT (937943.004 153695.210)  \n",
       "\n",
       "[5 rows x 30 columns]"
      ]
     },
     "execution_count": 11,
     "metadata": {},
     "output_type": "execute_result"
    }
   ],
   "source": [
    "outside_range.head()"
   ]
  },
  {
   "cell_type": "code",
   "execution_count": 12,
   "id": "b7987310",
   "metadata": {
    "execution": {
     "iopub.execute_input": "2024-02-26T09:33:59.799478Z",
     "iopub.status.busy": "2024-02-26T09:33:59.799170Z",
     "iopub.status.idle": "2024-02-26T09:33:59.804096Z",
     "shell.execute_reply": "2024-02-26T09:33:59.802789Z"
    },
    "papermill": {
     "duration": 0.017287,
     "end_time": "2024-02-26T09:33:59.806539",
     "exception": false,
     "start_time": "2024-02-26T09:33:59.789252",
     "status": "completed"
    },
    "tags": []
   },
   "outputs": [],
   "source": [
    "# Lines below will give you a hint or solution code\n",
    "# q_3.hint()\n",
    "# q_3.solution()"
   ]
  },
  {
   "cell_type": "markdown",
   "id": "7da97105",
   "metadata": {
    "papermill": {
     "duration": 0.008576,
     "end_time": "2024-02-26T09:33:59.824384",
     "exception": false,
     "start_time": "2024-02-26T09:33:59.815808",
     "status": "completed"
    },
    "tags": []
   },
   "source": [
    "The next code cell calculates the percentage of collisions that occurred more than 10 kilometers away from the closest hospital."
   ]
  },
  {
   "cell_type": "code",
   "execution_count": 13,
   "id": "7062f554",
   "metadata": {
    "execution": {
     "iopub.execute_input": "2024-02-26T09:33:59.844329Z",
     "iopub.status.busy": "2024-02-26T09:33:59.844013Z",
     "iopub.status.idle": "2024-02-26T09:33:59.849893Z",
     "shell.execute_reply": "2024-02-26T09:33:59.848763Z"
    },
    "papermill": {
     "duration": 0.018645,
     "end_time": "2024-02-26T09:33:59.852075",
     "exception": false,
     "start_time": "2024-02-26T09:33:59.833430",
     "status": "completed"
    },
    "tags": []
   },
   "outputs": [
    {
     "name": "stdout",
     "output_type": "stream",
     "text": [
      "Percentage of collisions more than 10 km away from the closest hospital: 15.12%\n"
     ]
    }
   ],
   "source": [
    "percentage = round(100*len(outside_range)/len(collisions), 2)\n",
    "print(\"Percentage of collisions more than 10 km away from the closest hospital: {}%\".format(percentage))"
   ]
  },
  {
   "cell_type": "markdown",
   "id": "158324dd",
   "metadata": {
    "papermill": {
     "duration": 0.008761,
     "end_time": "2024-02-26T09:33:59.869924",
     "exception": false,
     "start_time": "2024-02-26T09:33:59.861163",
     "status": "completed"
    },
    "tags": []
   },
   "source": [
    "### 4) Make a recommender.\n",
    "\n",
    "When collisions occur in distant locations, it becomes even more vital that injured persons are transported to the nearest available hospital.\n",
    "\n",
    "With this in mind, you decide to create a recommender that:\n",
    "- takes the location of the crash (in EPSG 2263) as input,\n",
    "- finds the closest hospital (where distance calculations are done in EPSG 2263), and \n",
    "- returns the name of the closest hospital. "
   ]
  },
  {
   "cell_type": "code",
   "execution_count": 14,
   "id": "c4ba4d2a",
   "metadata": {
    "execution": {
     "iopub.execute_input": "2024-02-26T09:33:59.890544Z",
     "iopub.status.busy": "2024-02-26T09:33:59.890205Z",
     "iopub.status.idle": "2024-02-26T09:33:59.897159Z",
     "shell.execute_reply": "2024-02-26T09:33:59.896604Z"
    },
    "papermill": {
     "duration": 0.019031,
     "end_time": "2024-02-26T09:33:59.898909",
     "exception": false,
     "start_time": "2024-02-26T09:33:59.879878",
     "status": "completed"
    },
    "tags": []
   },
   "outputs": [
    {
     "data": {
      "text/plain": [
       "2"
      ]
     },
     "execution_count": 14,
     "metadata": {},
     "output_type": "execute_result"
    }
   ],
   "source": [
    "hospitals.geometry.distance(outside_range.geometry.iloc[0]).idxmin()"
   ]
  },
  {
   "cell_type": "code",
   "execution_count": 15,
   "id": "ea7a2f40",
   "metadata": {
    "execution": {
     "iopub.execute_input": "2024-02-26T09:33:59.918743Z",
     "iopub.status.busy": "2024-02-26T09:33:59.918384Z",
     "iopub.status.idle": "2024-02-26T09:33:59.932610Z",
     "shell.execute_reply": "2024-02-26T09:33:59.931675Z"
    },
    "papermill": {
     "duration": 0.026819,
     "end_time": "2024-02-26T09:33:59.934987",
     "exception": false,
     "start_time": "2024-02-26T09:33:59.908168",
     "status": "completed"
    },
    "tags": []
   },
   "outputs": [
    {
     "name": "stdout",
     "output_type": "stream",
     "text": [
      "CALVARY HOSPITAL INC\n"
     ]
    },
    {
     "data": {
      "application/javascript": [
       "parent.postMessage({\"jupyterEvent\": \"custom.exercise_interaction\", \"data\": {\"outcomeType\": 1, \"valueTowardsCompletion\": 0.16666666666666666, \"interactionType\": 1, \"questionType\": 2, \"questionId\": \"4_Q4\", \"learnToolsVersion\": \"0.3.4\", \"failureMessage\": \"\", \"exceptionClass\": \"\", \"trace\": \"\"}}, \"*\")"
      ],
      "text/plain": [
       "<IPython.core.display.Javascript object>"
      ]
     },
     "metadata": {},
     "output_type": "display_data"
    },
    {
     "data": {
      "text/markdown": [
       "<span style=\"color:#33cc33\">Correct</span>"
      ],
      "text/plain": [
       "Correct"
      ]
     },
     "metadata": {},
     "output_type": "display_data"
    }
   ],
   "source": [
    "def best_hospital(collision_location):\n",
    "    # Your code here\n",
    "    idx_min = hospitals.geometry.distance(collision_location).idxmin()\n",
    "    my_hospital = hospitals.iloc[idx_min]\n",
    "    name = my_hospital['name']\n",
    "    return name\n",
    "\n",
    "# Test your function: this should suggest CALVARY HOSPITAL INC\n",
    "print(best_hospital(outside_range.geometry.iloc[0]))\n",
    "\n",
    "# Check your answer\n",
    "q_4.check()"
   ]
  },
  {
   "cell_type": "code",
   "execution_count": 16,
   "id": "e9278bf1",
   "metadata": {
    "execution": {
     "iopub.execute_input": "2024-02-26T09:33:59.955817Z",
     "iopub.status.busy": "2024-02-26T09:33:59.955448Z",
     "iopub.status.idle": "2024-02-26T09:33:59.959967Z",
     "shell.execute_reply": "2024-02-26T09:33:59.958916Z"
    },
    "papermill": {
     "duration": 0.017157,
     "end_time": "2024-02-26T09:33:59.961899",
     "exception": false,
     "start_time": "2024-02-26T09:33:59.944742",
     "status": "completed"
    },
    "tags": []
   },
   "outputs": [],
   "source": [
    "# Lines below will give you a hint or solution code\n",
    "# q_4.hint()\n",
    "# q_4.solution()"
   ]
  },
  {
   "cell_type": "markdown",
   "id": "1be9e6c8",
   "metadata": {
    "papermill": {
     "duration": 0.008959,
     "end_time": "2024-02-26T09:33:59.980381",
     "exception": false,
     "start_time": "2024-02-26T09:33:59.971422",
     "status": "completed"
    },
    "tags": []
   },
   "source": [
    "### 5) Which hospital is under the highest demand?\n",
    "\n",
    "Considering only collisions in the `outside_range` DataFrame, which hospital is most recommended?  \n",
    "\n",
    "Your answer should be a Python string that exactly matches the name of the hospital returned by the function you created in **4)**."
   ]
  },
  {
   "cell_type": "code",
   "execution_count": 17,
   "id": "471dba11",
   "metadata": {
    "execution": {
     "iopub.execute_input": "2024-02-26T09:34:00.000591Z",
     "iopub.status.busy": "2024-02-26T09:34:00.000231Z",
     "iopub.status.idle": "2024-02-26T09:34:26.784733Z",
     "shell.execute_reply": "2024-02-26T09:34:26.783483Z"
    },
    "papermill": {
     "duration": 26.797333,
     "end_time": "2024-02-26T09:34:26.786939",
     "exception": false,
     "start_time": "2024-02-26T09:33:59.989606",
     "status": "completed"
    },
    "tags": []
   },
   "outputs": [
    {
     "data": {
      "text/plain": [
       "0                        CALVARY HOSPITAL INC\n",
       "1                      QUEENS HOSPITAL CENTER\n",
       "5                      QUEENS HOSPITAL CENTER\n",
       "6             JAMAICA HOSPITAL MEDICAL CENTER\n",
       "15        STATEN ISLAND UNIV HOSP-CONCORD DIV\n",
       "                         ...                 \n",
       "261853        JAMAICA HOSPITAL MEDICAL CENTER\n",
       "261856        JAMAICA HOSPITAL MEDICAL CENTER\n",
       "261888        JAMAICA HOSPITAL MEDICAL CENTER\n",
       "261896        JAMAICA HOSPITAL MEDICAL CENTER\n",
       "261900      LONG ISLAND JEWISH MEDICAL CENTER\n",
       "Length: 39595, dtype: object"
      ]
     },
     "execution_count": 17,
     "metadata": {},
     "output_type": "execute_result"
    }
   ],
   "source": [
    "outside_range.geometry.apply(best_hospital)"
   ]
  },
  {
   "cell_type": "code",
   "execution_count": 18,
   "id": "bd965289",
   "metadata": {
    "execution": {
     "iopub.execute_input": "2024-02-26T09:34:26.808138Z",
     "iopub.status.busy": "2024-02-26T09:34:26.807820Z",
     "iopub.status.idle": "2024-02-26T09:34:53.725799Z",
     "shell.execute_reply": "2024-02-26T09:34:53.724880Z"
    },
    "papermill": {
     "duration": 26.931633,
     "end_time": "2024-02-26T09:34:53.728585",
     "exception": false,
     "start_time": "2024-02-26T09:34:26.796952",
     "status": "completed"
    },
    "tags": []
   },
   "outputs": [
    {
     "data": {
      "text/plain": [
       "JAMAICA HOSPITAL MEDICAL CENTER                                                11673\n",
       "QUEENS HOSPITAL CENTER                                                          4060\n",
       "BROOKDALE HOSPITAL MEDICAL CENTER                                               4000\n",
       "LONG ISLAND JEWISH MEDICAL CENTER                                               3410\n",
       "FLUSHING HOSPITAL MEDICAL CENTER                                                2951\n",
       "STATEN ISLAND UNIVERSITY HOSP-SOUTH                                             2109\n",
       "ST JOHNS EPISCOPAL HOSPITAL SO SHORE                                            2070\n",
       "RICHMOND UNIVERSITY MEDICAL CENTER                                              1566\n",
       "WYCKOFF HEIGHTS MEDICAL CENTER                                                  1080\n",
       "CONEY ISLAND HOSPITAL                                                           1023\n",
       "MAIMONIDES MEDICAL CENTER                                                        934\n",
       "STATEN ISLAND UNIVERSITY HOSP-NORTH                                              904\n",
       "STATEN ISLAND UNIV HOSP-CONCORD DIV                                              765\n",
       "MOUNT SINAI BETH ISRAEL BROOKLYN                                                 546\n",
       "RUMC-BAYLEY SETON                                                                453\n",
       "MONTEFIORE MEDICAL CENTER - MONTEFIORE WESTCHESTER SQUARE                        388\n",
       "FOREST HILLS HOSPITAL                                                            279\n",
       "MONTEFIORE MEDICAL CENTER-WAKEFIELD HOSPITAL                                     245\n",
       "LUTHERAN MEDICAL CENTER                                                          245\n",
       "ELMHURST HOSPITAL CENTER                                                         226\n",
       "NORTH CENTRAL BRONX HOSPITAL                                                     169\n",
       "JACOBI MEDICAL CENTER                                                            131\n",
       "CALVARY HOSPITAL INC                                                             104\n",
       "COLER-GOLDWATER SPECIALTY HOSPITAL & NURSING FACILITY - COLER HOSPITAL SITE       97\n",
       "NEW YORK COMMUNITY HOSPITAL OF BROOKLYN, INC                                      76\n",
       "BRONX-LEBANON HOSPITAL CENTER - FULTON DIVISION                                   49\n",
       "NEW YORK PRESBYTERIAN HOSPITAL - ALLEN HOSPITAL                                   14\n",
       "BELLEVUE HOSPITAL CENTER                                                          12\n",
       "MOUNT SINAI HOSPITAL - MOUNT SINAI HOSPITAL OF QUEENS                             10\n",
       "WOODHULL MEDICAL & MENTAL HEALTH CENTER                                            6\n",
       "Name: count, dtype: int64"
      ]
     },
     "execution_count": 18,
     "metadata": {},
     "output_type": "execute_result"
    }
   ],
   "source": [
    "outside_range.geometry.apply(best_hospital).value_counts()"
   ]
  },
  {
   "cell_type": "code",
   "execution_count": 19,
   "id": "961c8983",
   "metadata": {
    "execution": {
     "iopub.execute_input": "2024-02-26T09:34:53.749556Z",
     "iopub.status.busy": "2024-02-26T09:34:53.749209Z",
     "iopub.status.idle": "2024-02-26T09:35:20.832648Z",
     "shell.execute_reply": "2024-02-26T09:35:20.831462Z"
    },
    "papermill": {
     "duration": 27.096901,
     "end_time": "2024-02-26T09:35:20.835355",
     "exception": false,
     "start_time": "2024-02-26T09:34:53.738454",
     "status": "completed"
    },
    "tags": []
   },
   "outputs": [
    {
     "data": {
      "text/plain": [
       "'JAMAICA HOSPITAL MEDICAL CENTER'"
      ]
     },
     "execution_count": 19,
     "metadata": {},
     "output_type": "execute_result"
    }
   ],
   "source": [
    "outside_range.geometry.apply(best_hospital).value_counts().idxmax()"
   ]
  },
  {
   "cell_type": "code",
   "execution_count": 20,
   "id": "c36e3dff",
   "metadata": {
    "execution": {
     "iopub.execute_input": "2024-02-26T09:35:20.856210Z",
     "iopub.status.busy": "2024-02-26T09:35:20.855884Z",
     "iopub.status.idle": "2024-02-26T09:35:47.825428Z",
     "shell.execute_reply": "2024-02-26T09:35:47.824318Z"
    },
    "papermill": {
     "duration": 26.9821,
     "end_time": "2024-02-26T09:35:47.827350",
     "exception": false,
     "start_time": "2024-02-26T09:35:20.845250",
     "status": "completed"
    },
    "tags": []
   },
   "outputs": [
    {
     "data": {
      "application/javascript": [
       "parent.postMessage({\"jupyterEvent\": \"custom.exercise_interaction\", \"data\": {\"outcomeType\": 1, \"valueTowardsCompletion\": 0.16666666666666666, \"interactionType\": 1, \"questionType\": 2, \"questionId\": \"5_Q5\", \"learnToolsVersion\": \"0.3.4\", \"failureMessage\": \"\", \"exceptionClass\": \"\", \"trace\": \"\"}}, \"*\")"
      ],
      "text/plain": [
       "<IPython.core.display.Javascript object>"
      ]
     },
     "metadata": {},
     "output_type": "display_data"
    },
    {
     "data": {
      "text/markdown": [
       "<span style=\"color:#33cc33\">Correct</span>"
      ],
      "text/plain": [
       "Correct"
      ]
     },
     "metadata": {},
     "output_type": "display_data"
    }
   ],
   "source": [
    "# Your code here\n",
    "highest_demand = outside_range.geometry.apply(best_hospital).value_counts().idxmax()\n",
    "\n",
    "# Check your answer\n",
    "q_5.check()"
   ]
  },
  {
   "cell_type": "code",
   "execution_count": 21,
   "id": "c871c32f",
   "metadata": {
    "execution": {
     "iopub.execute_input": "2024-02-26T09:35:47.848924Z",
     "iopub.status.busy": "2024-02-26T09:35:47.848578Z",
     "iopub.status.idle": "2024-02-26T09:35:47.853476Z",
     "shell.execute_reply": "2024-02-26T09:35:47.852261Z"
    },
    "papermill": {
     "duration": 0.018327,
     "end_time": "2024-02-26T09:35:47.855690",
     "exception": false,
     "start_time": "2024-02-26T09:35:47.837363",
     "status": "completed"
    },
    "tags": []
   },
   "outputs": [],
   "source": [
    "# Lines below will give you a hint or solution code\n",
    "# q_5.hint()\n",
    "# q_5.solution()"
   ]
  },
  {
   "cell_type": "markdown",
   "id": "19780836",
   "metadata": {
    "papermill": {
     "duration": 0.009909,
     "end_time": "2024-02-26T09:35:47.875873",
     "exception": false,
     "start_time": "2024-02-26T09:35:47.865964",
     "status": "completed"
    },
    "tags": []
   },
   "source": [
    "### 6) Where should the city construct new hospitals?\n",
    "\n",
    "Run the next code cell (without changes) to visualize hospital locations, in addition to collisions that occurred more than 10 kilometers away from the closest hospital. "
   ]
  },
  {
   "cell_type": "code",
   "execution_count": 22,
   "id": "38906990",
   "metadata": {
    "execution": {
     "iopub.execute_input": "2024-02-26T09:35:47.898026Z",
     "iopub.status.busy": "2024-02-26T09:35:47.897697Z",
     "iopub.status.idle": "2024-02-26T09:35:48.448642Z",
     "shell.execute_reply": "2024-02-26T09:35:48.447762Z"
    },
    "papermill": {
     "duration": 0.564341,
     "end_time": "2024-02-26T09:35:48.450446",
     "exception": false,
     "start_time": "2024-02-26T09:35:47.886105",
     "status": "completed"
    },
    "scrolled": true,
    "tags": []
   },
   "outputs": [
    {
     "data": {
      "text/html": [
       "\n",
       "        <iframe\n",
       "            width=\"100%\"\n",
       "            height=\"500px\"\n",
       "            src=\"m_6.html\"\n",
       "            frameborder=\"0\"\n",
       "            allowfullscreen\n",
       "            \n",
       "        ></iframe>\n",
       "        "
      ],
      "text/plain": [
       "<IPython.lib.display.IFrame at 0x7926fc833580>"
      ]
     },
     "execution_count": 22,
     "metadata": {},
     "output_type": "execute_result"
    }
   ],
   "source": [
    "m_6 = folium.Map(location=[40.7, -74], zoom_start=11) \n",
    "\n",
    "coverage = gpd.GeoDataFrame(geometry=hospitals.geometry).buffer(10000)\n",
    "folium.GeoJson(coverage.geometry.to_crs(epsg=4326)).add_to(m_6)\n",
    "HeatMap(data=outside_range[['LATITUDE', 'LONGITUDE']], radius=9).add_to(m_6)\n",
    "folium.LatLngPopup().add_to(m_6)\n",
    "\n",
    "embed_map(m_6, 'm_6.html')"
   ]
  },
  {
   "cell_type": "markdown",
   "id": "1dfbdf10",
   "metadata": {
    "papermill": {
     "duration": 0.009537,
     "end_time": "2024-02-26T09:35:48.470069",
     "exception": false,
     "start_time": "2024-02-26T09:35:48.460532",
     "status": "completed"
    },
    "tags": []
   },
   "source": [
    "Click anywhere on the map to see a pop-up with the corresponding location in latitude and longitude.\n",
    "\n",
    "The city of New York reaches out to you for help with deciding locations for two brand new hospitals.  They specifically want your help with identifying locations to bring the calculated percentage from step **3)** to less than ten percent.  Using the map (and without worrying about zoning laws or what potential buildings would have to be removed in order to build the hospitals), can you identify two locations that would help the city accomplish this goal?  \n",
    "\n",
    "Put the proposed latitude and longitude for hospital 1 in `lat_1` and `long_1`, respectively.  (Likewise for hospital 2.)\n",
    "\n",
    "Then, run the rest of the cell as-is to see the effect of the new hospitals.  Your answer will be marked correct, if the two new hospitals bring the percentage to less than ten percent."
   ]
  },
  {
   "cell_type": "code",
   "execution_count": 23,
   "id": "35a47fca",
   "metadata": {
    "execution": {
     "iopub.execute_input": "2024-02-26T09:35:48.551096Z",
     "iopub.status.busy": "2024-02-26T09:35:48.550108Z",
     "iopub.status.idle": "2024-02-26T09:35:49.353458Z",
     "shell.execute_reply": "2024-02-26T09:35:49.352111Z"
    },
    "papermill": {
     "duration": 0.875605,
     "end_time": "2024-02-26T09:35:49.355882",
     "exception": false,
     "start_time": "2024-02-26T09:35:48.480277",
     "status": "completed"
    },
    "tags": []
   },
   "outputs": [
    {
     "name": "stderr",
     "output_type": "stream",
     "text": [
      "/opt/conda/lib/python3.10/site-packages/pyproj/crs/crs.py:141: FutureWarning: '+init=<authority>:<code>' syntax is deprecated. '<authority>:<code>' is the preferred initialization method. When making the change, be mindful of axis order changes: https://pyproj4.github.io/pyproj/stable/gotchas.html#axis-order-changes-in-proj-6\n",
      "  in_crs_string = _prepare_from_proj_string(in_crs_string)\n"
     ]
    },
    {
     "name": "stdout",
     "output_type": "stream",
     "text": [
      "(NEW) Percentage of collisions more than 10 km away from the closest hospital: 9.79%\n"
     ]
    },
    {
     "data": {
      "application/javascript": [
       "parent.postMessage({\"jupyterEvent\": \"custom.exercise_interaction\", \"data\": {\"outcomeType\": 1, \"valueTowardsCompletion\": 0.16666666666666666, \"interactionType\": 1, \"questionType\": 2, \"questionId\": \"6_Q6\", \"learnToolsVersion\": \"0.3.4\", \"failureMessage\": \"\", \"exceptionClass\": \"\", \"trace\": \"\"}}, \"*\")"
      ],
      "text/plain": [
       "<IPython.core.display.Javascript object>"
      ]
     },
     "metadata": {},
     "output_type": "display_data"
    },
    {
     "data": {
      "text/markdown": [
       "<span style=\"color:#33cc33\">Correct</span>"
      ],
      "text/plain": [
       "Correct"
      ]
     },
     "metadata": {},
     "output_type": "display_data"
    },
    {
     "data": {
      "text/html": [
       "\n",
       "        <iframe\n",
       "            width=\"100%\"\n",
       "            height=\"500px\"\n",
       "            src=\"q_6.html\"\n",
       "            frameborder=\"0\"\n",
       "            allowfullscreen\n",
       "            \n",
       "        ></iframe>\n",
       "        "
      ],
      "text/plain": [
       "<IPython.lib.display.IFrame at 0x7926fc72b520>"
      ]
     },
     "metadata": {},
     "output_type": "display_data"
    }
   ],
   "source": [
    "# Your answer here: proposed location of hospital 1\n",
    "lat_1 = 40.6733\n",
    "long_1 = -73.8734\n",
    "\n",
    "# Your answer here: proposed location of hospital 2\n",
    "lat_2 = 40.6640\n",
    "long_2 = -73.7526\n",
    "\n",
    "\n",
    "# Do not modify the code below this line\n",
    "try:\n",
    "    new_df = pd.DataFrame(\n",
    "        {'Latitude': [lat_1, lat_2],\n",
    "         'Longitude': [long_1, long_2]})\n",
    "    new_gdf = gpd.GeoDataFrame(new_df, geometry=gpd.points_from_xy(new_df.Longitude, new_df.Latitude))\n",
    "    new_gdf.crs = {'init' :'epsg:4326'}\n",
    "    new_gdf = new_gdf.to_crs(epsg=2263)\n",
    "    # get new percentage\n",
    "    new_coverage = gpd.GeoDataFrame(geometry=new_gdf.geometry).buffer(10000)\n",
    "    new_my_union = new_coverage.geometry.unary_union\n",
    "    new_outside_range = outside_range.loc[~outside_range[\"geometry\"].apply(lambda x: new_my_union.contains(x))]\n",
    "    new_percentage = round(100*len(new_outside_range)/len(collisions), 2)\n",
    "    print(\"(NEW) Percentage of collisions more than 10 km away from the closest hospital: {}%\".format(new_percentage))\n",
    "    # Did you help the city to meet its goal?\n",
    "    q_6.check()\n",
    "    # make the map\n",
    "    m = folium.Map(location=[40.7, -74], zoom_start=11) \n",
    "    folium.GeoJson(coverage.geometry.to_crs(epsg=4326)).add_to(m)\n",
    "    folium.GeoJson(new_coverage.geometry.to_crs(epsg=4326)).add_to(m)\n",
    "    for idx, row in new_gdf.iterrows():\n",
    "        Marker([row['Latitude'], row['Longitude']]).add_to(m)\n",
    "    HeatMap(data=new_outside_range[['LATITUDE', 'LONGITUDE']], radius=9).add_to(m)\n",
    "    folium.LatLngPopup().add_to(m)\n",
    "    display(embed_map(m, 'q_6.html'))\n",
    "except:\n",
    "    q_6.hint()"
   ]
  },
  {
   "cell_type": "code",
   "execution_count": 24,
   "id": "91656ac8",
   "metadata": {
    "execution": {
     "iopub.execute_input": "2024-02-26T09:35:49.379390Z",
     "iopub.status.busy": "2024-02-26T09:35:49.379027Z",
     "iopub.status.idle": "2024-02-26T09:35:49.383373Z",
     "shell.execute_reply": "2024-02-26T09:35:49.382302Z"
    },
    "papermill": {
     "duration": 0.018552,
     "end_time": "2024-02-26T09:35:49.385240",
     "exception": false,
     "start_time": "2024-02-26T09:35:49.366688",
     "status": "completed"
    },
    "tags": []
   },
   "outputs": [],
   "source": [
    "# Uncomment to see one potential answer \n",
    "#q_6.solution()"
   ]
  },
  {
   "cell_type": "markdown",
   "id": "01608041",
   "metadata": {
    "papermill": {
     "duration": 0.010746,
     "end_time": "2024-02-26T09:35:49.406975",
     "exception": false,
     "start_time": "2024-02-26T09:35:49.396229",
     "status": "completed"
    },
    "tags": []
   },
   "source": [
    "# Congratulations!\n",
    "\n",
    "You have just completed the Geospatial Analysis micro-course!  Great job!"
   ]
  },
  {
   "cell_type": "markdown",
   "id": "e62818c1",
   "metadata": {
    "papermill": {
     "duration": 0.010545,
     "end_time": "2024-02-26T09:35:49.428199",
     "exception": false,
     "start_time": "2024-02-26T09:35:49.417654",
     "status": "completed"
    },
    "tags": []
   },
   "source": [
    "---\n",
    "\n",
    "\n",
    "\n",
    "\n",
    "*Have questions or comments? Visit the [course discussion forum](https://www.kaggle.com/learn/geospatial-analysis/discussion) to chat with other learners.*"
   ]
  }
 ],
 "metadata": {
  "kaggle": {
   "accelerator": "none",
   "dataSources": [
    {
     "datasetId": 348259,
     "sourceId": 695175,
     "sourceType": "datasetVersion"
    },
    {
     "datasetId": 116573,
     "sourceId": 3551030,
     "sourceType": "datasetVersion"
    }
   ],
   "isGpuEnabled": false,
   "isInternetEnabled": false,
   "language": "python",
   "sourceType": "notebook"
  },
  "kernelspec": {
   "display_name": "Python 3",
   "language": "python",
   "name": "python3"
  },
  "language_info": {
   "codemirror_mode": {
    "name": "ipython",
    "version": 3
   },
   "file_extension": ".py",
   "mimetype": "text/x-python",
   "name": "python",
   "nbconvert_exporter": "python",
   "pygments_lexer": "ipython3",
   "version": "3.10.13"
  },
  "papermill": {
   "default_parameters": {},
   "duration": 416.77152,
   "end_time": "2024-02-26T09:35:52.160211",
   "environment_variables": {},
   "exception": null,
   "input_path": "__notebook__.ipynb",
   "output_path": "__notebook__.ipynb",
   "parameters": {},
   "start_time": "2024-02-26T09:28:55.388691",
   "version": "2.5.0"
  }
 },
 "nbformat": 4,
 "nbformat_minor": 5
}
