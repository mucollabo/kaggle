{
 "cells": [
  {
   "cell_type": "markdown",
   "id": "ef84028b",
   "metadata": {
    "papermill": {
     "duration": 0.005561,
     "end_time": "2022-06-22T09:48:38.766721",
     "exception": false,
     "start_time": "2022-06-22T09:48:38.761160",
     "status": "completed"
    },
    "tags": []
   },
   "source": [
    "**This notebook is an exercise in the [Advanced SQL](https://www.kaggle.com/learn/advanced-sql) course.  You can reference the tutorial at [this link](https://www.kaggle.com/alexisbcook/analytic-functions).**\n",
    "\n",
    "---\n"
   ]
  },
  {
   "cell_type": "markdown",
   "id": "c8bfc561",
   "metadata": {
    "papermill": {
     "duration": 0.004247,
     "end_time": "2022-06-22T09:48:38.775742",
     "exception": false,
     "start_time": "2022-06-22T09:48:38.771495",
     "status": "completed"
    },
    "tags": []
   },
   "source": [
    "# Introduction\n",
    "\n",
    "Here, you'll use window functions to answer questions about the [Chicago Taxi Trips](https://www.kaggle.com/chicago/chicago-taxi-trips-bq) dataset.\n",
    "\n",
    "Before you get started, run the code cell below to set everything up."
   ]
  },
  {
   "cell_type": "code",
   "execution_count": 1,
   "id": "12481104",
   "metadata": {
    "execution": {
     "iopub.execute_input": "2022-06-22T09:48:38.786798Z",
     "iopub.status.busy": "2022-06-22T09:48:38.786303Z",
     "iopub.status.idle": "2022-06-22T09:48:55.179017Z",
     "shell.execute_reply": "2022-06-22T09:48:55.177569Z"
    },
    "papermill": {
     "duration": 16.40179,
     "end_time": "2022-06-22T09:48:55.182095",
     "exception": false,
     "start_time": "2022-06-22T09:48:38.780305",
     "status": "completed"
    },
    "tags": []
   },
   "outputs": [
    {
     "name": "stdout",
     "output_type": "stream",
     "text": [
      "Using Kaggle's public dataset BigQuery integration.\n"
     ]
    },
    {
     "name": "stderr",
     "output_type": "stream",
     "text": [
      "/opt/conda/lib/python3.7/site-packages/google/cloud/bigquery/client.py:440: UserWarning: Cannot create BigQuery Storage client, the dependency google-cloud-bigquery-storage is not installed.\n",
      "  \"Cannot create BigQuery Storage client, the dependency \"\n"
     ]
    },
    {
     "name": "stdout",
     "output_type": "stream",
     "text": [
      "Setup Complete\n"
     ]
    }
   ],
   "source": [
    "# Set up feedback system\n",
    "from learntools.core import binder\n",
    "binder.bind(globals())\n",
    "from learntools.sql_advanced.ex2 import *\n",
    "print(\"Setup Complete\")"
   ]
  },
  {
   "cell_type": "markdown",
   "id": "8d2b2172",
   "metadata": {
    "papermill": {
     "duration": 0.004901,
     "end_time": "2022-06-22T09:48:55.192256",
     "exception": false,
     "start_time": "2022-06-22T09:48:55.187355",
     "status": "completed"
    },
    "tags": []
   },
   "source": [
    "The following code cell fetches the `taxi_trips` table from the `chicago_taxi_trips` dataset. We also preview the first five rows of the table.  You'll use the table to answer the questions below."
   ]
  },
  {
   "cell_type": "code",
   "execution_count": 2,
   "id": "a492fb7d",
   "metadata": {
    "execution": {
     "iopub.execute_input": "2022-06-22T09:48:55.204612Z",
     "iopub.status.busy": "2022-06-22T09:48:55.204169Z",
     "iopub.status.idle": "2022-06-22T09:48:56.344960Z",
     "shell.execute_reply": "2022-06-22T09:48:56.343442Z"
    },
    "papermill": {
     "duration": 1.149932,
     "end_time": "2022-06-22T09:48:56.347701",
     "exception": false,
     "start_time": "2022-06-22T09:48:55.197769",
     "status": "completed"
    },
    "tags": []
   },
   "outputs": [
    {
     "name": "stdout",
     "output_type": "stream",
     "text": [
      "Using Kaggle's public dataset BigQuery integration.\n"
     ]
    },
    {
     "name": "stderr",
     "output_type": "stream",
     "text": [
      "/opt/conda/lib/python3.7/site-packages/ipykernel_launcher.py:19: UserWarning: Cannot use bqstorage_client if max_results is set, reverting to fetching data with the tabledata.list endpoint.\n"
     ]
    },
    {
     "data": {
      "text/html": [
       "<div>\n",
       "<style scoped>\n",
       "    .dataframe tbody tr th:only-of-type {\n",
       "        vertical-align: middle;\n",
       "    }\n",
       "\n",
       "    .dataframe tbody tr th {\n",
       "        vertical-align: top;\n",
       "    }\n",
       "\n",
       "    .dataframe thead th {\n",
       "        text-align: right;\n",
       "    }\n",
       "</style>\n",
       "<table border=\"1\" class=\"dataframe\">\n",
       "  <thead>\n",
       "    <tr style=\"text-align: right;\">\n",
       "      <th></th>\n",
       "      <th>unique_key</th>\n",
       "      <th>taxi_id</th>\n",
       "      <th>trip_start_timestamp</th>\n",
       "      <th>trip_end_timestamp</th>\n",
       "      <th>trip_seconds</th>\n",
       "      <th>trip_miles</th>\n",
       "      <th>pickup_census_tract</th>\n",
       "      <th>dropoff_census_tract</th>\n",
       "      <th>pickup_community_area</th>\n",
       "      <th>dropoff_community_area</th>\n",
       "      <th>...</th>\n",
       "      <th>extras</th>\n",
       "      <th>trip_total</th>\n",
       "      <th>payment_type</th>\n",
       "      <th>company</th>\n",
       "      <th>pickup_latitude</th>\n",
       "      <th>pickup_longitude</th>\n",
       "      <th>pickup_location</th>\n",
       "      <th>dropoff_latitude</th>\n",
       "      <th>dropoff_longitude</th>\n",
       "      <th>dropoff_location</th>\n",
       "    </tr>\n",
       "  </thead>\n",
       "  <tbody>\n",
       "    <tr>\n",
       "      <th>0</th>\n",
       "      <td>6ac2488f401e05799558f7a6015bf03c5354d622</td>\n",
       "      <td>8ac089148362cd529ebbb3d1f1fba4ca368d94478c0e83...</td>\n",
       "      <td>2016-06-08 23:45:00+00:00</td>\n",
       "      <td>2016-06-09 00:00:00+00:00</td>\n",
       "      <td>705</td>\n",
       "      <td>2.3</td>\n",
       "      <td>NaN</td>\n",
       "      <td>NaN</td>\n",
       "      <td>NaN</td>\n",
       "      <td>NaN</td>\n",
       "      <td>...</td>\n",
       "      <td>0.0</td>\n",
       "      <td>7.00</td>\n",
       "      <td>Cash</td>\n",
       "      <td>303 Taxi</td>\n",
       "      <td>NaN</td>\n",
       "      <td>NaN</td>\n",
       "      <td>None</td>\n",
       "      <td>NaN</td>\n",
       "      <td>NaN</td>\n",
       "      <td>None</td>\n",
       "    </tr>\n",
       "    <tr>\n",
       "      <th>1</th>\n",
       "      <td>85dfe100e44ed32347972e7eccc0f5fb90f86146</td>\n",
       "      <td>8ac089148362cd529ebbb3d1f1fba4ca368d94478c0e83...</td>\n",
       "      <td>2016-06-09 00:45:00+00:00</td>\n",
       "      <td>2016-06-09 00:45:00+00:00</td>\n",
       "      <td>512</td>\n",
       "      <td>3.4</td>\n",
       "      <td>NaN</td>\n",
       "      <td>NaN</td>\n",
       "      <td>NaN</td>\n",
       "      <td>NaN</td>\n",
       "      <td>...</td>\n",
       "      <td>0.0</td>\n",
       "      <td>9.20</td>\n",
       "      <td>Cash</td>\n",
       "      <td>303 Taxi</td>\n",
       "      <td>NaN</td>\n",
       "      <td>NaN</td>\n",
       "      <td>None</td>\n",
       "      <td>NaN</td>\n",
       "      <td>NaN</td>\n",
       "      <td>None</td>\n",
       "    </tr>\n",
       "    <tr>\n",
       "      <th>2</th>\n",
       "      <td>cc7852078d7422dfd7764a9276fcd239209976d0</td>\n",
       "      <td>8ac089148362cd529ebbb3d1f1fba4ca368d94478c0e83...</td>\n",
       "      <td>2016-06-09 04:00:00+00:00</td>\n",
       "      <td>2016-06-09 04:15:00+00:00</td>\n",
       "      <td>493</td>\n",
       "      <td>3.2</td>\n",
       "      <td>NaN</td>\n",
       "      <td>NaN</td>\n",
       "      <td>NaN</td>\n",
       "      <td>NaN</td>\n",
       "      <td>...</td>\n",
       "      <td>0.0</td>\n",
       "      <td>8.60</td>\n",
       "      <td>Cash</td>\n",
       "      <td>303 Taxi</td>\n",
       "      <td>NaN</td>\n",
       "      <td>NaN</td>\n",
       "      <td>None</td>\n",
       "      <td>NaN</td>\n",
       "      <td>NaN</td>\n",
       "      <td>None</td>\n",
       "    </tr>\n",
       "    <tr>\n",
       "      <th>3</th>\n",
       "      <td>9bfaddca9732699f6fde5617a3cb0091ba580135</td>\n",
       "      <td>8ac089148362cd529ebbb3d1f1fba4ca368d94478c0e83...</td>\n",
       "      <td>2016-06-09 08:45:00+00:00</td>\n",
       "      <td>2016-06-09 09:00:00+00:00</td>\n",
       "      <td>1390</td>\n",
       "      <td>4.8</td>\n",
       "      <td>NaN</td>\n",
       "      <td>NaN</td>\n",
       "      <td>NaN</td>\n",
       "      <td>NaN</td>\n",
       "      <td>...</td>\n",
       "      <td>0.0</td>\n",
       "      <td>17.20</td>\n",
       "      <td>Cash</td>\n",
       "      <td>303 Taxi</td>\n",
       "      <td>NaN</td>\n",
       "      <td>NaN</td>\n",
       "      <td>None</td>\n",
       "      <td>NaN</td>\n",
       "      <td>NaN</td>\n",
       "      <td>None</td>\n",
       "    </tr>\n",
       "    <tr>\n",
       "      <th>4</th>\n",
       "      <td>3392da9b0dabb6f9f59832ec82944c64968bf117</td>\n",
       "      <td>5fa0a0f93d7c8f729c7f3132eed2de1dcf04fd38e73cee...</td>\n",
       "      <td>2016-06-03 12:45:00+00:00</td>\n",
       "      <td>2016-06-03 12:45:00+00:00</td>\n",
       "      <td>6</td>\n",
       "      <td>0.0</td>\n",
       "      <td>NaN</td>\n",
       "      <td>NaN</td>\n",
       "      <td>NaN</td>\n",
       "      <td>NaN</td>\n",
       "      <td>...</td>\n",
       "      <td>0.0</td>\n",
       "      <td>6.01</td>\n",
       "      <td>Credit Card</td>\n",
       "      <td>303 Taxi</td>\n",
       "      <td>NaN</td>\n",
       "      <td>NaN</td>\n",
       "      <td>None</td>\n",
       "      <td>NaN</td>\n",
       "      <td>NaN</td>\n",
       "      <td>None</td>\n",
       "    </tr>\n",
       "  </tbody>\n",
       "</table>\n",
       "<p>5 rows × 23 columns</p>\n",
       "</div>"
      ],
      "text/plain": [
       "                                 unique_key  \\\n",
       "0  6ac2488f401e05799558f7a6015bf03c5354d622   \n",
       "1  85dfe100e44ed32347972e7eccc0f5fb90f86146   \n",
       "2  cc7852078d7422dfd7764a9276fcd239209976d0   \n",
       "3  9bfaddca9732699f6fde5617a3cb0091ba580135   \n",
       "4  3392da9b0dabb6f9f59832ec82944c64968bf117   \n",
       "\n",
       "                                             taxi_id  \\\n",
       "0  8ac089148362cd529ebbb3d1f1fba4ca368d94478c0e83...   \n",
       "1  8ac089148362cd529ebbb3d1f1fba4ca368d94478c0e83...   \n",
       "2  8ac089148362cd529ebbb3d1f1fba4ca368d94478c0e83...   \n",
       "3  8ac089148362cd529ebbb3d1f1fba4ca368d94478c0e83...   \n",
       "4  5fa0a0f93d7c8f729c7f3132eed2de1dcf04fd38e73cee...   \n",
       "\n",
       "       trip_start_timestamp        trip_end_timestamp  trip_seconds  \\\n",
       "0 2016-06-08 23:45:00+00:00 2016-06-09 00:00:00+00:00           705   \n",
       "1 2016-06-09 00:45:00+00:00 2016-06-09 00:45:00+00:00           512   \n",
       "2 2016-06-09 04:00:00+00:00 2016-06-09 04:15:00+00:00           493   \n",
       "3 2016-06-09 08:45:00+00:00 2016-06-09 09:00:00+00:00          1390   \n",
       "4 2016-06-03 12:45:00+00:00 2016-06-03 12:45:00+00:00             6   \n",
       "\n",
       "   trip_miles  pickup_census_tract  dropoff_census_tract  \\\n",
       "0         2.3                  NaN                   NaN   \n",
       "1         3.4                  NaN                   NaN   \n",
       "2         3.2                  NaN                   NaN   \n",
       "3         4.8                  NaN                   NaN   \n",
       "4         0.0                  NaN                   NaN   \n",
       "\n",
       "   pickup_community_area  dropoff_community_area  ...  extras  trip_total  \\\n",
       "0                    NaN                     NaN  ...     0.0        7.00   \n",
       "1                    NaN                     NaN  ...     0.0        9.20   \n",
       "2                    NaN                     NaN  ...     0.0        8.60   \n",
       "3                    NaN                     NaN  ...     0.0       17.20   \n",
       "4                    NaN                     NaN  ...     0.0        6.01   \n",
       "\n",
       "   payment_type   company  pickup_latitude pickup_longitude pickup_location  \\\n",
       "0          Cash  303 Taxi              NaN              NaN            None   \n",
       "1          Cash  303 Taxi              NaN              NaN            None   \n",
       "2          Cash  303 Taxi              NaN              NaN            None   \n",
       "3          Cash  303 Taxi              NaN              NaN            None   \n",
       "4   Credit Card  303 Taxi              NaN              NaN            None   \n",
       "\n",
       "   dropoff_latitude  dropoff_longitude dropoff_location  \n",
       "0               NaN                NaN             None  \n",
       "1               NaN                NaN             None  \n",
       "2               NaN                NaN             None  \n",
       "3               NaN                NaN             None  \n",
       "4               NaN                NaN             None  \n",
       "\n",
       "[5 rows x 23 columns]"
      ]
     },
     "execution_count": 2,
     "metadata": {},
     "output_type": "execute_result"
    }
   ],
   "source": [
    "from google.cloud import bigquery\n",
    "\n",
    "# Create a \"Client\" object\n",
    "client = bigquery.Client()\n",
    "\n",
    "# Construct a reference to the \"chicago_taxi_trips\" dataset\n",
    "dataset_ref = client.dataset(\"chicago_taxi_trips\", project=\"bigquery-public-data\")\n",
    "\n",
    "# API request - fetch the dataset\n",
    "dataset = client.get_dataset(dataset_ref)\n",
    "\n",
    "# Construct a reference to the \"taxi_trips\" table\n",
    "table_ref = dataset_ref.table(\"taxi_trips\")\n",
    "\n",
    "# API request - fetch the table\n",
    "table = client.get_table(table_ref)\n",
    "\n",
    "# Preview the first five lines of the table\n",
    "client.list_rows(table, max_results=5).to_dataframe()"
   ]
  },
  {
   "cell_type": "code",
   "execution_count": 3,
   "id": "763b9830",
   "metadata": {
    "execution": {
     "iopub.execute_input": "2022-06-22T09:48:56.361228Z",
     "iopub.status.busy": "2022-06-22T09:48:56.360164Z",
     "iopub.status.idle": "2022-06-22T09:48:56.835552Z",
     "shell.execute_reply": "2022-06-22T09:48:56.833658Z"
    },
    "papermill": {
     "duration": 0.484857,
     "end_time": "2022-06-22T09:48:56.838272",
     "exception": false,
     "start_time": "2022-06-22T09:48:56.353415",
     "status": "completed"
    },
    "tags": []
   },
   "outputs": [
    {
     "name": "stderr",
     "output_type": "stream",
     "text": [
      "/opt/conda/lib/python3.7/site-packages/ipykernel_launcher.py:1: UserWarning: Cannot use bqstorage_client if max_results is set, reverting to fetching data with the tabledata.list endpoint.\n",
      "  \"\"\"Entry point for launching an IPython kernel.\n"
     ]
    },
    {
     "name": "stdout",
     "output_type": "stream",
     "text": [
      "<class 'pandas.core.frame.DataFrame'>\n",
      "RangeIndex: 5 entries, 0 to 4\n",
      "Data columns (total 23 columns):\n",
      " #   Column                  Non-Null Count  Dtype              \n",
      "---  ------                  --------------  -----              \n",
      " 0   unique_key              5 non-null      object             \n",
      " 1   taxi_id                 5 non-null      object             \n",
      " 2   trip_start_timestamp    5 non-null      datetime64[ns, UTC]\n",
      " 3   trip_end_timestamp      5 non-null      datetime64[ns, UTC]\n",
      " 4   trip_seconds            5 non-null      int64              \n",
      " 5   trip_miles              5 non-null      float64            \n",
      " 6   pickup_census_tract     0 non-null      float64            \n",
      " 7   dropoff_census_tract    0 non-null      float64            \n",
      " 8   pickup_community_area   0 non-null      float64            \n",
      " 9   dropoff_community_area  0 non-null      float64            \n",
      " 10  fare                    5 non-null      float64            \n",
      " 11  tips                    5 non-null      float64            \n",
      " 12  tolls                   0 non-null      float64            \n",
      " 13  extras                  5 non-null      float64            \n",
      " 14  trip_total              5 non-null      float64            \n",
      " 15  payment_type            5 non-null      object             \n",
      " 16  company                 5 non-null      object             \n",
      " 17  pickup_latitude         0 non-null      float64            \n",
      " 18  pickup_longitude        0 non-null      float64            \n",
      " 19  pickup_location         0 non-null      object             \n",
      " 20  dropoff_latitude        0 non-null      float64            \n",
      " 21  dropoff_longitude       0 non-null      float64            \n",
      " 22  dropoff_location        0 non-null      object             \n",
      "dtypes: datetime64[ns, UTC](2), float64(14), int64(1), object(6)\n",
      "memory usage: 1.0+ KB\n"
     ]
    }
   ],
   "source": [
    "client.list_rows(table, max_results=5).to_dataframe().info()"
   ]
  },
  {
   "cell_type": "markdown",
   "id": "930af157",
   "metadata": {
    "papermill": {
     "duration": 0.005455,
     "end_time": "2022-06-22T09:48:56.849616",
     "exception": false,
     "start_time": "2022-06-22T09:48:56.844161",
     "status": "completed"
    },
    "tags": []
   },
   "source": [
    "# Exercises\n",
    "\n",
    "### 1) How can you predict the demand for taxis?\n",
    "\n",
    "Say you work for a taxi company, and you're interested in predicting the demand for taxis.  Towards this goal, you'd like to create a plot that shows a rolling average of the daily number of taxi trips.  Amend the (partial) query below to return a DataFrame with two columns:\n",
    "- `trip_date` - contains one entry for each date from January 1, 2016, to December 31, 2017.\n",
    "- `avg_num_trips` - shows the average number of daily trips, calculated over a window including the value for the current date, along with the values for the preceding 15 days and the following 15 days, as long as the days fit within the two-year time frame.  For instance, when calculating the value in this column for January 5, 2016, the window will include the number of trips for the preceding 4 days, the current date, and the following 15 days.\n",
    "\n",
    "This query is partially completed for you, and you need only write the part that calculates the `avg_num_trips` column.  Note that this query uses a common table expression (CTE); if you need to review how to use CTEs, you're encouraged to check out [this tutorial](https://www.kaggle.com/dansbecker/as-with) in the [Intro to SQL](https://www.kaggle.com/learn/intro-to-sql) micro-course."
   ]
  },
  {
   "cell_type": "code",
   "execution_count": 4,
   "id": "7ae5d95b",
   "metadata": {
    "execution": {
     "iopub.execute_input": "2022-06-22T09:48:56.862589Z",
     "iopub.status.busy": "2022-06-22T09:48:56.862170Z",
     "iopub.status.idle": "2022-06-22T09:48:57.898305Z",
     "shell.execute_reply": "2022-06-22T09:48:57.897207Z"
    },
    "papermill": {
     "duration": 1.045477,
     "end_time": "2022-06-22T09:48:57.900709",
     "exception": false,
     "start_time": "2022-06-22T09:48:56.855232",
     "status": "completed"
    },
    "tags": []
   },
   "outputs": [
    {
     "name": "stderr",
     "output_type": "stream",
     "text": [
      "/opt/conda/lib/python3.7/site-packages/google/cloud/bigquery/client.py:440: UserWarning: Cannot create BigQuery Storage client, the dependency google-cloud-bigquery-storage is not installed.\n",
      "  \"Cannot create BigQuery Storage client, the dependency \"\n"
     ]
    },
    {
     "data": {
      "text/html": [
       "<div>\n",
       "<style scoped>\n",
       "    .dataframe tbody tr th:only-of-type {\n",
       "        vertical-align: middle;\n",
       "    }\n",
       "\n",
       "    .dataframe tbody tr th {\n",
       "        vertical-align: top;\n",
       "    }\n",
       "\n",
       "    .dataframe thead th {\n",
       "        text-align: right;\n",
       "    }\n",
       "</style>\n",
       "<table border=\"1\" class=\"dataframe\">\n",
       "  <thead>\n",
       "    <tr style=\"text-align: right;\">\n",
       "      <th></th>\n",
       "      <th>trip_date</th>\n",
       "      <th>avg_num_trips</th>\n",
       "    </tr>\n",
       "  </thead>\n",
       "  <tbody>\n",
       "    <tr>\n",
       "      <th>0</th>\n",
       "      <td>2016-01-01</td>\n",
       "      <td>80461.937500</td>\n",
       "    </tr>\n",
       "    <tr>\n",
       "      <th>1</th>\n",
       "      <td>2016-01-02</td>\n",
       "      <td>80150.647059</td>\n",
       "    </tr>\n",
       "    <tr>\n",
       "      <th>2</th>\n",
       "      <td>2016-01-03</td>\n",
       "      <td>79419.611111</td>\n",
       "    </tr>\n",
       "    <tr>\n",
       "      <th>3</th>\n",
       "      <td>2016-01-04</td>\n",
       "      <td>79810.421053</td>\n",
       "    </tr>\n",
       "    <tr>\n",
       "      <th>4</th>\n",
       "      <td>2016-01-05</td>\n",
       "      <td>80293.900000</td>\n",
       "    </tr>\n",
       "  </tbody>\n",
       "</table>\n",
       "</div>"
      ],
      "text/plain": [
       "    trip_date  avg_num_trips\n",
       "0  2016-01-01   80461.937500\n",
       "1  2016-01-02   80150.647059\n",
       "2  2016-01-03   79419.611111\n",
       "3  2016-01-04   79810.421053\n",
       "4  2016-01-05   80293.900000"
      ]
     },
     "metadata": {},
     "output_type": "display_data"
    },
    {
     "data": {
      "application/javascript": [
       "parent.postMessage({\"jupyterEvent\": \"custom.exercise_interaction\", \"data\": {\"outcomeType\": 1, \"valueTowardsCompletion\": 0.3333333333333333, \"interactionType\": 1, \"questionType\": 2, \"questionId\": \"1_TaxiDemand\", \"learnToolsVersion\": \"0.3.4\", \"failureMessage\": \"\", \"exceptionClass\": \"\", \"trace\": \"\"}}, \"*\")"
      ],
      "text/plain": [
       "<IPython.core.display.Javascript object>"
      ]
     },
     "metadata": {},
     "output_type": "display_data"
    },
    {
     "data": {
      "text/markdown": [
       "<span style=\"color:#33cc33\">Correct</span>"
      ],
      "text/plain": [
       "Correct"
      ]
     },
     "metadata": {},
     "output_type": "display_data"
    }
   ],
   "source": [
    "# Fill in the blank below\n",
    "avg_num_trips_query = \"\"\"\n",
    "                      WITH trips_by_day AS\n",
    "                      (\n",
    "                      SELECT DATE(trip_start_timestamp) AS trip_date,\n",
    "                          COUNT(*) as num_trips\n",
    "                      FROM `bigquery-public-data.chicago_taxi_trips.taxi_trips`\n",
    "                      WHERE trip_start_timestamp >= '2016-01-01' AND trip_start_timestamp < '2018-01-01'\n",
    "                      GROUP BY trip_date\n",
    "                      ORDER BY trip_date\n",
    "                      )\n",
    "                      SELECT trip_date,\n",
    "                          AVG(num_trips)\n",
    "                          OVER (\n",
    "                               ORDER BY trip_date\n",
    "                               ROWS BETWEEN 15 PRECEDING AND 15 FOLLOWING\n",
    "                               ) AS avg_num_trips\n",
    "                      FROM trips_by_day\n",
    "                      \"\"\"\n",
    "\n",
    "# Check your answer\n",
    "q_1.check()"
   ]
  },
  {
   "cell_type": "code",
   "execution_count": 5,
   "id": "55cb1b68",
   "metadata": {
    "execution": {
     "iopub.execute_input": "2022-06-22T09:48:57.915308Z",
     "iopub.status.busy": "2022-06-22T09:48:57.914426Z",
     "iopub.status.idle": "2022-06-22T09:48:57.920039Z",
     "shell.execute_reply": "2022-06-22T09:48:57.919240Z"
    },
    "papermill": {
     "duration": 0.015142,
     "end_time": "2022-06-22T09:48:57.922230",
     "exception": false,
     "start_time": "2022-06-22T09:48:57.907088",
     "status": "completed"
    },
    "tags": []
   },
   "outputs": [],
   "source": [
    "# Lines below will give you a hint or solution code\n",
    "# q_1.hint()\n",
    "#q_1.solution()"
   ]
  },
  {
   "cell_type": "markdown",
   "id": "5386864e",
   "metadata": {
    "papermill": {
     "duration": 0.006043,
     "end_time": "2022-06-22T09:48:57.934529",
     "exception": false,
     "start_time": "2022-06-22T09:48:57.928486",
     "status": "completed"
    },
    "tags": []
   },
   "source": [
    "### 2) Can you separate and order trips by community area?\n",
    "\n",
    "The query below returns a DataFrame with three columns from the table: `pickup_community_area`, `trip_start_timestamp`, and `trip_end_timestamp`.  \n",
    "\n",
    "Amend the query to return an additional column called `trip_number` which shows the order in which the trips were taken from their respective community areas.  So, the first trip of the day originating from community area 1 should receive a value of 1; the second trip of the day from the same area should receive a value of 2.  Likewise, the first trip of the day from community area 2 should receive a value of 1, and so on.\n",
    "\n",
    "Note that there are many numbering functions that can be used to solve this problem (depending on how you want to deal with trips that started at the same time from the same community area); to answer this question, please use the **RANK()** function."
   ]
  },
  {
   "cell_type": "code",
   "execution_count": 6,
   "id": "2809ca9b",
   "metadata": {
    "execution": {
     "iopub.execute_input": "2022-06-22T09:48:57.951279Z",
     "iopub.status.busy": "2022-06-22T09:48:57.950172Z",
     "iopub.status.idle": "2022-06-22T09:49:01.981710Z",
     "shell.execute_reply": "2022-06-22T09:49:01.980475Z"
    },
    "papermill": {
     "duration": 4.04181,
     "end_time": "2022-06-22T09:49:01.984066",
     "exception": false,
     "start_time": "2022-06-22T09:48:57.942256",
     "status": "completed"
    },
    "tags": []
   },
   "outputs": [
    {
     "name": "stderr",
     "output_type": "stream",
     "text": [
      "/opt/conda/lib/python3.7/site-packages/google/cloud/bigquery/client.py:440: UserWarning: Cannot create BigQuery Storage client, the dependency google-cloud-bigquery-storage is not installed.\n",
      "  \"Cannot create BigQuery Storage client, the dependency \"\n"
     ]
    },
    {
     "data": {
      "text/html": [
       "<div>\n",
       "<style scoped>\n",
       "    .dataframe tbody tr th:only-of-type {\n",
       "        vertical-align: middle;\n",
       "    }\n",
       "\n",
       "    .dataframe tbody tr th {\n",
       "        vertical-align: top;\n",
       "    }\n",
       "\n",
       "    .dataframe thead th {\n",
       "        text-align: right;\n",
       "    }\n",
       "</style>\n",
       "<table border=\"1\" class=\"dataframe\">\n",
       "  <thead>\n",
       "    <tr style=\"text-align: right;\">\n",
       "      <th></th>\n",
       "      <th>pickup_community_area</th>\n",
       "      <th>trip_start_timestamp</th>\n",
       "      <th>trip_end_timestamp</th>\n",
       "      <th>trip_number</th>\n",
       "    </tr>\n",
       "  </thead>\n",
       "  <tbody>\n",
       "    <tr>\n",
       "      <th>0</th>\n",
       "      <td>53.0</td>\n",
       "      <td>2017-05-01 08:15:00+00:00</td>\n",
       "      <td>2017-05-01 08:15:00+00:00</td>\n",
       "      <td>1</td>\n",
       "    </tr>\n",
       "    <tr>\n",
       "      <th>1</th>\n",
       "      <td>53.0</td>\n",
       "      <td>2017-05-01 08:45:00+00:00</td>\n",
       "      <td>2017-05-01 09:15:00+00:00</td>\n",
       "      <td>2</td>\n",
       "    </tr>\n",
       "    <tr>\n",
       "      <th>2</th>\n",
       "      <td>53.0</td>\n",
       "      <td>2017-05-01 11:45:00+00:00</td>\n",
       "      <td>2017-05-01 12:15:00+00:00</td>\n",
       "      <td>3</td>\n",
       "    </tr>\n",
       "    <tr>\n",
       "      <th>3</th>\n",
       "      <td>37.0</td>\n",
       "      <td>2017-05-01 10:30:00+00:00</td>\n",
       "      <td>2017-05-01 10:45:00+00:00</td>\n",
       "      <td>1</td>\n",
       "    </tr>\n",
       "    <tr>\n",
       "      <th>4</th>\n",
       "      <td>37.0</td>\n",
       "      <td>2017-05-01 14:00:00+00:00</td>\n",
       "      <td>2017-05-01 14:15:00+00:00</td>\n",
       "      <td>2</td>\n",
       "    </tr>\n",
       "  </tbody>\n",
       "</table>\n",
       "</div>"
      ],
      "text/plain": [
       "   pickup_community_area      trip_start_timestamp        trip_end_timestamp  \\\n",
       "0                   53.0 2017-05-01 08:15:00+00:00 2017-05-01 08:15:00+00:00   \n",
       "1                   53.0 2017-05-01 08:45:00+00:00 2017-05-01 09:15:00+00:00   \n",
       "2                   53.0 2017-05-01 11:45:00+00:00 2017-05-01 12:15:00+00:00   \n",
       "3                   37.0 2017-05-01 10:30:00+00:00 2017-05-01 10:45:00+00:00   \n",
       "4                   37.0 2017-05-01 14:00:00+00:00 2017-05-01 14:15:00+00:00   \n",
       "\n",
       "   trip_number  \n",
       "0            1  \n",
       "1            2  \n",
       "2            3  \n",
       "3            1  \n",
       "4            2  "
      ]
     },
     "metadata": {},
     "output_type": "display_data"
    },
    {
     "data": {
      "application/javascript": [
       "parent.postMessage({\"jupyterEvent\": \"custom.exercise_interaction\", \"data\": {\"outcomeType\": 1, \"valueTowardsCompletion\": 0.3333333333333333, \"interactionType\": 1, \"questionType\": 2, \"questionId\": \"2_CommunityArea\", \"learnToolsVersion\": \"0.3.4\", \"failureMessage\": \"\", \"exceptionClass\": \"\", \"trace\": \"\"}}, \"*\")"
      ],
      "text/plain": [
       "<IPython.core.display.Javascript object>"
      ]
     },
     "metadata": {},
     "output_type": "display_data"
    },
    {
     "data": {
      "text/markdown": [
       "<span style=\"color:#33cc33\">Correct</span>"
      ],
      "text/plain": [
       "Correct"
      ]
     },
     "metadata": {},
     "output_type": "display_data"
    }
   ],
   "source": [
    "# Amend the query below\n",
    "trip_number_query = \"\"\"\n",
    "                    SELECT pickup_community_area,\n",
    "                        trip_start_timestamp,\n",
    "                        trip_end_timestamp,\n",
    "                        RANK() \n",
    "                        OVER (\n",
    "                              PARTITION BY pickup_community_area\n",
    "                              ORDER BY trip_start_timestamp\n",
    "                              ) AS trip_number\n",
    "                    FROM `bigquery-public-data.chicago_taxi_trips.taxi_trips`\n",
    "                    WHERE DATE(trip_start_timestamp) = '2017-05-01'\n",
    "                    \"\"\"\n",
    "\n",
    "# Check your answer\n",
    "q_2.check()"
   ]
  },
  {
   "cell_type": "code",
   "execution_count": 7,
   "id": "61659140",
   "metadata": {
    "execution": {
     "iopub.execute_input": "2022-06-22T09:49:01.999710Z",
     "iopub.status.busy": "2022-06-22T09:49:01.998773Z",
     "iopub.status.idle": "2022-06-22T09:49:02.004018Z",
     "shell.execute_reply": "2022-06-22T09:49:02.002835Z"
    },
    "papermill": {
     "duration": 0.015408,
     "end_time": "2022-06-22T09:49:02.006294",
     "exception": false,
     "start_time": "2022-06-22T09:49:01.990886",
     "status": "completed"
    },
    "tags": []
   },
   "outputs": [],
   "source": [
    "# Lines below will give you a hint or solution code\n",
    "# q_2.hint()\n",
    "# q_2.solution()"
   ]
  },
  {
   "cell_type": "markdown",
   "id": "0dee9f59",
   "metadata": {
    "papermill": {
     "duration": 0.006454,
     "end_time": "2022-06-22T09:49:02.019620",
     "exception": false,
     "start_time": "2022-06-22T09:49:02.013166",
     "status": "completed"
    },
    "tags": []
   },
   "source": [
    "### 3) How much time elapses between trips?\n",
    "\n",
    "The (partial) query in the code cell below shows, for each trip in the selected time frame, the corresponding `taxi_id`, `trip_start_timestamp`, and `trip_end_timestamp`. \n",
    "\n",
    "Your task in this exercise is to edit the query to include an additional `prev_break` column that shows the length of the break (in minutes) that the driver had before each trip started (this corresponds to the time between `trip_start_timestamp` of the current trip and `trip_end_timestamp` of the previous trip).  Partition the calculation by `taxi_id`, and order the results within each partition by `trip_start_timestamp`.\n",
    "\n",
    "Some sample results are shown below, where all rows correspond to the same driver (or `taxi_id`).  Take the time now to make sure that the values in the `prev_break` column make sense to you!\n",
    "\n",
    "![first_commands](https://i.imgur.com/qjvQzg8.png)\n",
    "\n",
    "Note that the first trip of the day for each driver should have a value of **NaN** (not a number) in the `prev_break` column."
   ]
  },
  {
   "cell_type": "code",
   "execution_count": 8,
   "id": "be61ad27",
   "metadata": {
    "execution": {
     "iopub.execute_input": "2022-06-22T09:49:02.035510Z",
     "iopub.status.busy": "2022-06-22T09:49:02.035083Z",
     "iopub.status.idle": "2022-06-22T09:49:12.807132Z",
     "shell.execute_reply": "2022-06-22T09:49:12.806075Z"
    },
    "papermill": {
     "duration": 10.783054,
     "end_time": "2022-06-22T09:49:12.809516",
     "exception": false,
     "start_time": "2022-06-22T09:49:02.026462",
     "status": "completed"
    },
    "tags": []
   },
   "outputs": [
    {
     "name": "stderr",
     "output_type": "stream",
     "text": [
      "/opt/conda/lib/python3.7/site-packages/google/cloud/bigquery/client.py:440: UserWarning: Cannot create BigQuery Storage client, the dependency google-cloud-bigquery-storage is not installed.\n",
      "  \"Cannot create BigQuery Storage client, the dependency \"\n"
     ]
    },
    {
     "data": {
      "text/html": [
       "<div>\n",
       "<style scoped>\n",
       "    .dataframe tbody tr th:only-of-type {\n",
       "        vertical-align: middle;\n",
       "    }\n",
       "\n",
       "    .dataframe tbody tr th {\n",
       "        vertical-align: top;\n",
       "    }\n",
       "\n",
       "    .dataframe thead th {\n",
       "        text-align: right;\n",
       "    }\n",
       "</style>\n",
       "<table border=\"1\" class=\"dataframe\">\n",
       "  <thead>\n",
       "    <tr style=\"text-align: right;\">\n",
       "      <th></th>\n",
       "      <th>taxi_id</th>\n",
       "      <th>trip_start_timestamp</th>\n",
       "      <th>trip_end_timestamp</th>\n",
       "      <th>prev_break</th>\n",
       "    </tr>\n",
       "  </thead>\n",
       "  <tbody>\n",
       "    <tr>\n",
       "      <th>0</th>\n",
       "      <td>00e34f77f4495a6128d5b3312099c8f2f4ea25c2650e83...</td>\n",
       "      <td>2017-05-01 01:00:00+00:00</td>\n",
       "      <td>2017-05-01 01:30:00+00:00</td>\n",
       "      <td>NaN</td>\n",
       "    </tr>\n",
       "    <tr>\n",
       "      <th>1</th>\n",
       "      <td>00e34f77f4495a6128d5b3312099c8f2f4ea25c2650e83...</td>\n",
       "      <td>2017-05-01 02:15:00+00:00</td>\n",
       "      <td>2017-05-01 02:30:00+00:00</td>\n",
       "      <td>45.0</td>\n",
       "    </tr>\n",
       "    <tr>\n",
       "      <th>2</th>\n",
       "      <td>00e34f77f4495a6128d5b3312099c8f2f4ea25c2650e83...</td>\n",
       "      <td>2017-05-01 02:30:00+00:00</td>\n",
       "      <td>2017-05-01 02:45:00+00:00</td>\n",
       "      <td>0.0</td>\n",
       "    </tr>\n",
       "    <tr>\n",
       "      <th>3</th>\n",
       "      <td>1721f8d69b5f831e0c16c51510786ca43aaa367d23bec8...</td>\n",
       "      <td>2017-05-01 05:00:00+00:00</td>\n",
       "      <td>2017-05-01 05:15:00+00:00</td>\n",
       "      <td>NaN</td>\n",
       "    </tr>\n",
       "    <tr>\n",
       "      <th>4</th>\n",
       "      <td>1721f8d69b5f831e0c16c51510786ca43aaa367d23bec8...</td>\n",
       "      <td>2017-05-01 05:45:00+00:00</td>\n",
       "      <td>2017-05-01 06:15:00+00:00</td>\n",
       "      <td>30.0</td>\n",
       "    </tr>\n",
       "  </tbody>\n",
       "</table>\n",
       "</div>"
      ],
      "text/plain": [
       "                                             taxi_id  \\\n",
       "0  00e34f77f4495a6128d5b3312099c8f2f4ea25c2650e83...   \n",
       "1  00e34f77f4495a6128d5b3312099c8f2f4ea25c2650e83...   \n",
       "2  00e34f77f4495a6128d5b3312099c8f2f4ea25c2650e83...   \n",
       "3  1721f8d69b5f831e0c16c51510786ca43aaa367d23bec8...   \n",
       "4  1721f8d69b5f831e0c16c51510786ca43aaa367d23bec8...   \n",
       "\n",
       "       trip_start_timestamp        trip_end_timestamp  prev_break  \n",
       "0 2017-05-01 01:00:00+00:00 2017-05-01 01:30:00+00:00         NaN  \n",
       "1 2017-05-01 02:15:00+00:00 2017-05-01 02:30:00+00:00        45.0  \n",
       "2 2017-05-01 02:30:00+00:00 2017-05-01 02:45:00+00:00         0.0  \n",
       "3 2017-05-01 05:00:00+00:00 2017-05-01 05:15:00+00:00         NaN  \n",
       "4 2017-05-01 05:45:00+00:00 2017-05-01 06:15:00+00:00        30.0  "
      ]
     },
     "metadata": {},
     "output_type": "display_data"
    },
    {
     "data": {
      "application/javascript": [
       "parent.postMessage({\"jupyterEvent\": \"custom.exercise_interaction\", \"data\": {\"outcomeType\": 1, \"valueTowardsCompletion\": 0.3333333333333333, \"interactionType\": 1, \"questionType\": 2, \"questionId\": \"3_BreakTime\", \"learnToolsVersion\": \"0.3.4\", \"failureMessage\": \"\", \"exceptionClass\": \"\", \"trace\": \"\"}}, \"*\")"
      ],
      "text/plain": [
       "<IPython.core.display.Javascript object>"
      ]
     },
     "metadata": {},
     "output_type": "display_data"
    },
    {
     "data": {
      "text/markdown": [
       "<span style=\"color:#33cc33\">Correct</span>"
      ],
      "text/plain": [
       "Correct"
      ]
     },
     "metadata": {},
     "output_type": "display_data"
    }
   ],
   "source": [
    "# Fill in the blanks below\n",
    "break_time_query = \"\"\"\n",
    "                   SELECT taxi_id,\n",
    "                       trip_start_timestamp,\n",
    "                       trip_end_timestamp,\n",
    "                       TIMESTAMP_DIFF(\n",
    "                           trip_start_timestamp, \n",
    "                           LAG(trip_end_timestamp, 1)\n",
    "                               OVER (\n",
    "                                    PARTITION BY taxi_id \n",
    "                                    ORDER BY trip_start_timestamp), \n",
    "                           MINUTE) as prev_break\n",
    "                   FROM `bigquery-public-data.chicago_taxi_trips.taxi_trips`\n",
    "                   WHERE DATE(trip_start_timestamp) = '2017-05-01' \n",
    "                   \"\"\"\n",
    "\n",
    "# Check your answer\n",
    "q_3.check()"
   ]
  },
  {
   "cell_type": "code",
   "execution_count": 9,
   "id": "1c66aa33",
   "metadata": {
    "execution": {
     "iopub.execute_input": "2022-06-22T09:49:12.826033Z",
     "iopub.status.busy": "2022-06-22T09:49:12.825655Z",
     "iopub.status.idle": "2022-06-22T09:49:12.830799Z",
     "shell.execute_reply": "2022-06-22T09:49:12.829415Z"
    },
    "papermill": {
     "duration": 0.016352,
     "end_time": "2022-06-22T09:49:12.833270",
     "exception": false,
     "start_time": "2022-06-22T09:49:12.816918",
     "status": "completed"
    },
    "tags": []
   },
   "outputs": [],
   "source": [
    "# Lines below will give you a hint or solution code\n",
    "# q_3.hint()\n",
    "# q_3.solution()"
   ]
  },
  {
   "cell_type": "markdown",
   "id": "9b5c5326",
   "metadata": {
    "papermill": {
     "duration": 0.007442,
     "end_time": "2022-06-22T09:49:12.848246",
     "exception": false,
     "start_time": "2022-06-22T09:49:12.840804",
     "status": "completed"
    },
    "tags": []
   },
   "source": [
    "# Keep going\n",
    "\n",
    "Move on to learn how to query **[nested and repeated data](https://www.kaggle.com/alexisbcook/nested-and-repeated-data)**."
   ]
  },
  {
   "cell_type": "markdown",
   "id": "927813b2",
   "metadata": {
    "papermill": {
     "duration": 0.007218,
     "end_time": "2022-06-22T09:49:12.863362",
     "exception": false,
     "start_time": "2022-06-22T09:49:12.856144",
     "status": "completed"
    },
    "tags": []
   },
   "source": [
    "---\n",
    "\n",
    "\n",
    "\n",
    "\n",
    "*Have questions or comments? Visit the [course discussion forum](https://www.kaggle.com/learn/advanced-sql/discussion) to chat with other learners.*"
   ]
  }
 ],
 "metadata": {
  "kernelspec": {
   "display_name": "Python 3",
   "language": "python",
   "name": "python3"
  },
  "language_info": {
   "codemirror_mode": {
    "name": "ipython",
    "version": 3
   },
   "file_extension": ".py",
   "mimetype": "text/x-python",
   "name": "python",
   "nbconvert_exporter": "python",
   "pygments_lexer": "ipython3",
   "version": "3.7.12"
  },
  "papermill": {
   "default_parameters": {},
   "duration": 47.712171,
   "end_time": "2022-06-22T09:49:16.070007",
   "environment_variables": {},
   "exception": null,
   "input_path": "__notebook__.ipynb",
   "output_path": "__notebook__.ipynb",
   "parameters": {},
   "start_time": "2022-06-22T09:48:28.357836",
   "version": "2.3.4"
  }
 },
 "nbformat": 4,
 "nbformat_minor": 5
}
