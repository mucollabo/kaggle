{
 "cells": [
  {
   "cell_type": "markdown",
   "id": "2b4ee798",
   "metadata": {
    "papermill": {
     "duration": 0.032147,
     "end_time": "2022-04-23T15:30:56.015235",
     "exception": false,
     "start_time": "2022-04-23T15:30:55.983088",
     "status": "completed"
    },
    "tags": []
   },
   "source": [
    "**This notebook is an exercise in the [Pandas](https://www.kaggle.com/learn/pandas) course.  You can reference the tutorial at [this link](https://www.kaggle.com/residentmario/grouping-and-sorting).**\n",
    "\n",
    "---\n"
   ]
  },
  {
   "cell_type": "markdown",
   "id": "c0be34db",
   "metadata": {
    "papermill": {
     "duration": 0.030202,
     "end_time": "2022-04-23T15:30:56.075497",
     "exception": false,
     "start_time": "2022-04-23T15:30:56.045295",
     "status": "completed"
    },
    "tags": []
   },
   "source": [
    "# Introduction\n",
    "\n",
    "In these exercises we'll apply groupwise analysis to our dataset.\n",
    "\n",
    "Run the code cell below to load the data before running the exercises."
   ]
  },
  {
   "cell_type": "code",
   "execution_count": 1,
   "id": "837c0b3c",
   "metadata": {
    "execution": {
     "iopub.execute_input": "2022-04-23T15:30:56.137585Z",
     "iopub.status.busy": "2022-04-23T15:30:56.137094Z",
     "iopub.status.idle": "2022-04-23T15:30:58.980037Z",
     "shell.execute_reply": "2022-04-23T15:30:58.979118Z"
    },
    "papermill": {
     "duration": 2.877191,
     "end_time": "2022-04-23T15:30:58.982645",
     "exception": false,
     "start_time": "2022-04-23T15:30:56.105454",
     "status": "completed"
    },
    "tags": []
   },
   "outputs": [
    {
     "name": "stdout",
     "output_type": "stream",
     "text": [
      "Setup complete.\n"
     ]
    }
   ],
   "source": [
    "import pandas as pd\n",
    "\n",
    "reviews = pd.read_csv(\"../input/wine-reviews/winemag-data-130k-v2.csv\", index_col=0)\n",
    "#pd.set_option(\"display.max_rows\", 5)\n",
    "\n",
    "from learntools.core import binder; binder.bind(globals())\n",
    "from learntools.pandas.grouping_and_sorting import *\n",
    "print(\"Setup complete.\")"
   ]
  },
  {
   "cell_type": "markdown",
   "id": "012e7784",
   "metadata": {
    "papermill": {
     "duration": 0.030894,
     "end_time": "2022-04-23T15:30:59.046060",
     "exception": false,
     "start_time": "2022-04-23T15:30:59.015166",
     "status": "completed"
    },
    "tags": []
   },
   "source": [
    "# Exercises"
   ]
  },
  {
   "cell_type": "markdown",
   "id": "d1ea243e",
   "metadata": {
    "papermill": {
     "duration": 0.031053,
     "end_time": "2022-04-23T15:30:59.107345",
     "exception": false,
     "start_time": "2022-04-23T15:30:59.076292",
     "status": "completed"
    },
    "tags": []
   },
   "source": [
    "## 1.\n",
    "Who are the most common wine reviewers in the dataset? Create a `Series` whose index is the `taster_twitter_handle` category from the dataset, and whose values count how many reviews each person wrote."
   ]
  },
  {
   "cell_type": "code",
   "execution_count": 2,
   "id": "3842f8a0",
   "metadata": {
    "execution": {
     "iopub.execute_input": "2022-04-23T15:30:59.169310Z",
     "iopub.status.busy": "2022-04-23T15:30:59.169031Z",
     "iopub.status.idle": "2022-04-23T15:30:59.177448Z",
     "shell.execute_reply": "2022-04-23T15:30:59.176589Z"
    },
    "papermill": {
     "duration": 0.042515,
     "end_time": "2022-04-23T15:30:59.180378",
     "exception": false,
     "start_time": "2022-04-23T15:30:59.137863",
     "status": "completed"
    },
    "tags": []
   },
   "outputs": [
    {
     "data": {
      "text/plain": [
       "Index(['country', 'description', 'designation', 'points', 'price', 'province',\n",
       "       'region_1', 'region_2', 'taster_name', 'taster_twitter_handle', 'title',\n",
       "       'variety', 'winery'],\n",
       "      dtype='object')"
      ]
     },
     "execution_count": 2,
     "metadata": {},
     "output_type": "execute_result"
    }
   ],
   "source": [
    "reviews.columns"
   ]
  },
  {
   "cell_type": "code",
   "execution_count": 3,
   "id": "16bd3107",
   "metadata": {
    "execution": {
     "iopub.execute_input": "2022-04-23T15:30:59.245239Z",
     "iopub.status.busy": "2022-04-23T15:30:59.244794Z",
     "iopub.status.idle": "2022-04-23T15:30:59.251943Z",
     "shell.execute_reply": "2022-04-23T15:30:59.251185Z"
    },
    "papermill": {
     "duration": 0.040919,
     "end_time": "2022-04-23T15:30:59.253676",
     "exception": false,
     "start_time": "2022-04-23T15:30:59.212757",
     "status": "completed"
    },
    "tags": []
   },
   "outputs": [
    {
     "data": {
      "text/plain": [
       "0    @kerinokeefe\n",
       "1      @vossroger\n",
       "2     @paulgwine \n",
       "3             NaN\n",
       "4     @paulgwine \n",
       "Name: taster_twitter_handle, dtype: object"
      ]
     },
     "execution_count": 3,
     "metadata": {},
     "output_type": "execute_result"
    }
   ],
   "source": [
    "reviews.taster_twitter_handle.head()"
   ]
  },
  {
   "cell_type": "code",
   "execution_count": 4,
   "id": "6c23e63a",
   "metadata": {
    "execution": {
     "iopub.execute_input": "2022-04-23T15:30:59.317118Z",
     "iopub.status.busy": "2022-04-23T15:30:59.316198Z",
     "iopub.status.idle": "2022-04-23T15:30:59.536543Z",
     "shell.execute_reply": "2022-04-23T15:30:59.535692Z"
    },
    "papermill": {
     "duration": 0.254206,
     "end_time": "2022-04-23T15:30:59.538668",
     "exception": false,
     "start_time": "2022-04-23T15:30:59.284462",
     "status": "completed"
    },
    "tags": []
   },
   "outputs": [
    {
     "data": {
      "text/html": [
       "<div>\n",
       "<style scoped>\n",
       "    .dataframe tbody tr th:only-of-type {\n",
       "        vertical-align: middle;\n",
       "    }\n",
       "\n",
       "    .dataframe tbody tr th {\n",
       "        vertical-align: top;\n",
       "    }\n",
       "\n",
       "    .dataframe thead tr th {\n",
       "        text-align: left;\n",
       "    }\n",
       "\n",
       "    .dataframe thead tr:last-of-type th {\n",
       "        text-align: right;\n",
       "    }\n",
       "</style>\n",
       "<table border=\"1\" class=\"dataframe\">\n",
       "  <thead>\n",
       "    <tr>\n",
       "      <th></th>\n",
       "      <th colspan=\"8\" halign=\"left\">points</th>\n",
       "      <th colspan=\"8\" halign=\"left\">price</th>\n",
       "    </tr>\n",
       "    <tr>\n",
       "      <th></th>\n",
       "      <th>count</th>\n",
       "      <th>mean</th>\n",
       "      <th>std</th>\n",
       "      <th>min</th>\n",
       "      <th>25%</th>\n",
       "      <th>50%</th>\n",
       "      <th>75%</th>\n",
       "      <th>max</th>\n",
       "      <th>count</th>\n",
       "      <th>mean</th>\n",
       "      <th>std</th>\n",
       "      <th>min</th>\n",
       "      <th>25%</th>\n",
       "      <th>50%</th>\n",
       "      <th>75%</th>\n",
       "      <th>max</th>\n",
       "    </tr>\n",
       "    <tr>\n",
       "      <th>taster_twitter_handle</th>\n",
       "      <th></th>\n",
       "      <th></th>\n",
       "      <th></th>\n",
       "      <th></th>\n",
       "      <th></th>\n",
       "      <th></th>\n",
       "      <th></th>\n",
       "      <th></th>\n",
       "      <th></th>\n",
       "      <th></th>\n",
       "      <th></th>\n",
       "      <th></th>\n",
       "      <th></th>\n",
       "      <th></th>\n",
       "      <th></th>\n",
       "      <th></th>\n",
       "    </tr>\n",
       "  </thead>\n",
       "  <tbody>\n",
       "    <tr>\n",
       "      <th>@AnneInVino</th>\n",
       "      <td>3685.0</td>\n",
       "      <td>90.562551</td>\n",
       "      <td>2.373100</td>\n",
       "      <td>80.0</td>\n",
       "      <td>89.0</td>\n",
       "      <td>90.0</td>\n",
       "      <td>92.0</td>\n",
       "      <td>97.0</td>\n",
       "      <td>3398.0</td>\n",
       "      <td>31.230135</td>\n",
       "      <td>25.295871</td>\n",
       "      <td>10.0</td>\n",
       "      <td>19.0</td>\n",
       "      <td>25.0</td>\n",
       "      <td>38.00</td>\n",
       "      <td>1100.0</td>\n",
       "    </tr>\n",
       "    <tr>\n",
       "      <th>@JoeCz</th>\n",
       "      <td>5147.0</td>\n",
       "      <td>88.536235</td>\n",
       "      <td>2.858701</td>\n",
       "      <td>80.0</td>\n",
       "      <td>87.0</td>\n",
       "      <td>89.0</td>\n",
       "      <td>91.0</td>\n",
       "      <td>100.0</td>\n",
       "      <td>5012.0</td>\n",
       "      <td>35.175579</td>\n",
       "      <td>44.434444</td>\n",
       "      <td>5.0</td>\n",
       "      <td>16.0</td>\n",
       "      <td>22.0</td>\n",
       "      <td>40.00</td>\n",
       "      <td>850.0</td>\n",
       "    </tr>\n",
       "    <tr>\n",
       "      <th>@bkfiona</th>\n",
       "      <td>27.0</td>\n",
       "      <td>86.888889</td>\n",
       "      <td>1.739437</td>\n",
       "      <td>82.0</td>\n",
       "      <td>86.0</td>\n",
       "      <td>87.0</td>\n",
       "      <td>88.0</td>\n",
       "      <td>91.0</td>\n",
       "      <td>27.0</td>\n",
       "      <td>31.148148</td>\n",
       "      <td>16.154789</td>\n",
       "      <td>17.0</td>\n",
       "      <td>22.5</td>\n",
       "      <td>27.0</td>\n",
       "      <td>35.00</td>\n",
       "      <td>80.0</td>\n",
       "    </tr>\n",
       "    <tr>\n",
       "      <th>@gordone_cellars</th>\n",
       "      <td>4177.0</td>\n",
       "      <td>88.626287</td>\n",
       "      <td>2.698341</td>\n",
       "      <td>80.0</td>\n",
       "      <td>87.0</td>\n",
       "      <td>89.0</td>\n",
       "      <td>91.0</td>\n",
       "      <td>97.0</td>\n",
       "      <td>4171.0</td>\n",
       "      <td>26.935507</td>\n",
       "      <td>17.475901</td>\n",
       "      <td>4.0</td>\n",
       "      <td>15.0</td>\n",
       "      <td>23.0</td>\n",
       "      <td>32.00</td>\n",
       "      <td>220.0</td>\n",
       "    </tr>\n",
       "    <tr>\n",
       "      <th>@kerinokeefe</th>\n",
       "      <td>10776.0</td>\n",
       "      <td>88.867947</td>\n",
       "      <td>2.474240</td>\n",
       "      <td>80.0</td>\n",
       "      <td>87.0</td>\n",
       "      <td>89.0</td>\n",
       "      <td>90.0</td>\n",
       "      <td>100.0</td>\n",
       "      <td>9874.0</td>\n",
       "      <td>41.953413</td>\n",
       "      <td>38.727135</td>\n",
       "      <td>6.0</td>\n",
       "      <td>20.0</td>\n",
       "      <td>30.0</td>\n",
       "      <td>50.00</td>\n",
       "      <td>800.0</td>\n",
       "    </tr>\n",
       "    <tr>\n",
       "      <th>@laurbuzz</th>\n",
       "      <td>1835.0</td>\n",
       "      <td>87.739510</td>\n",
       "      <td>2.530672</td>\n",
       "      <td>81.0</td>\n",
       "      <td>86.0</td>\n",
       "      <td>88.0</td>\n",
       "      <td>90.0</td>\n",
       "      <td>95.0</td>\n",
       "      <td>1713.0</td>\n",
       "      <td>24.492703</td>\n",
       "      <td>21.967640</td>\n",
       "      <td>5.0</td>\n",
       "      <td>13.0</td>\n",
       "      <td>18.0</td>\n",
       "      <td>28.00</td>\n",
       "      <td>350.0</td>\n",
       "    </tr>\n",
       "    <tr>\n",
       "      <th>@mattkettmann</th>\n",
       "      <td>6332.0</td>\n",
       "      <td>90.008686</td>\n",
       "      <td>2.571257</td>\n",
       "      <td>81.0</td>\n",
       "      <td>88.0</td>\n",
       "      <td>90.0</td>\n",
       "      <td>92.0</td>\n",
       "      <td>97.0</td>\n",
       "      <td>6237.0</td>\n",
       "      <td>38.642136</td>\n",
       "      <td>31.994921</td>\n",
       "      <td>7.0</td>\n",
       "      <td>25.0</td>\n",
       "      <td>35.0</td>\n",
       "      <td>48.00</td>\n",
       "      <td>2013.0</td>\n",
       "    </tr>\n",
       "    <tr>\n",
       "      <th>@paulgwine</th>\n",
       "      <td>9532.0</td>\n",
       "      <td>89.082564</td>\n",
       "      <td>2.814445</td>\n",
       "      <td>80.0</td>\n",
       "      <td>87.0</td>\n",
       "      <td>89.0</td>\n",
       "      <td>91.0</td>\n",
       "      <td>100.0</td>\n",
       "      <td>9498.0</td>\n",
       "      <td>33.644873</td>\n",
       "      <td>18.936484</td>\n",
       "      <td>5.0</td>\n",
       "      <td>20.0</td>\n",
       "      <td>29.0</td>\n",
       "      <td>42.00</td>\n",
       "      <td>275.0</td>\n",
       "    </tr>\n",
       "    <tr>\n",
       "      <th>@suskostrzewa</th>\n",
       "      <td>1085.0</td>\n",
       "      <td>86.609217</td>\n",
       "      <td>2.376140</td>\n",
       "      <td>80.0</td>\n",
       "      <td>85.0</td>\n",
       "      <td>87.0</td>\n",
       "      <td>88.0</td>\n",
       "      <td>94.0</td>\n",
       "      <td>1073.0</td>\n",
       "      <td>22.908667</td>\n",
       "      <td>17.311163</td>\n",
       "      <td>7.0</td>\n",
       "      <td>14.0</td>\n",
       "      <td>19.0</td>\n",
       "      <td>26.00</td>\n",
       "      <td>320.0</td>\n",
       "    </tr>\n",
       "    <tr>\n",
       "      <th>@vboone</th>\n",
       "      <td>9537.0</td>\n",
       "      <td>89.213379</td>\n",
       "      <td>2.996796</td>\n",
       "      <td>80.0</td>\n",
       "      <td>87.0</td>\n",
       "      <td>90.0</td>\n",
       "      <td>91.0</td>\n",
       "      <td>99.0</td>\n",
       "      <td>9507.0</td>\n",
       "      <td>46.621963</td>\n",
       "      <td>32.655537</td>\n",
       "      <td>7.0</td>\n",
       "      <td>25.0</td>\n",
       "      <td>39.0</td>\n",
       "      <td>56.00</td>\n",
       "      <td>625.0</td>\n",
       "    </tr>\n",
       "    <tr>\n",
       "      <th>@vossroger</th>\n",
       "      <td>25514.0</td>\n",
       "      <td>88.708003</td>\n",
       "      <td>3.036373</td>\n",
       "      <td>80.0</td>\n",
       "      <td>86.0</td>\n",
       "      <td>88.0</td>\n",
       "      <td>91.0</td>\n",
       "      <td>100.0</td>\n",
       "      <td>20172.0</td>\n",
       "      <td>38.649960</td>\n",
       "      <td>71.540473</td>\n",
       "      <td>5.0</td>\n",
       "      <td>15.0</td>\n",
       "      <td>22.0</td>\n",
       "      <td>40.00</td>\n",
       "      <td>3300.0</td>\n",
       "    </tr>\n",
       "    <tr>\n",
       "      <th>@wawinereport</th>\n",
       "      <td>4966.0</td>\n",
       "      <td>88.755739</td>\n",
       "      <td>2.458547</td>\n",
       "      <td>80.0</td>\n",
       "      <td>87.0</td>\n",
       "      <td>89.0</td>\n",
       "      <td>91.0</td>\n",
       "      <td>97.0</td>\n",
       "      <td>4925.0</td>\n",
       "      <td>34.085888</td>\n",
       "      <td>20.029977</td>\n",
       "      <td>6.0</td>\n",
       "      <td>20.0</td>\n",
       "      <td>30.0</td>\n",
       "      <td>42.00</td>\n",
       "      <td>240.0</td>\n",
       "    </tr>\n",
       "    <tr>\n",
       "      <th>@wineschach</th>\n",
       "      <td>15134.0</td>\n",
       "      <td>86.907493</td>\n",
       "      <td>3.022859</td>\n",
       "      <td>80.0</td>\n",
       "      <td>85.0</td>\n",
       "      <td>87.0</td>\n",
       "      <td>89.0</td>\n",
       "      <td>98.0</td>\n",
       "      <td>14951.0</td>\n",
       "      <td>25.231155</td>\n",
       "      <td>28.723655</td>\n",
       "      <td>4.0</td>\n",
       "      <td>12.0</td>\n",
       "      <td>17.0</td>\n",
       "      <td>25.00</td>\n",
       "      <td>770.0</td>\n",
       "    </tr>\n",
       "    <tr>\n",
       "      <th>@winewchristina</th>\n",
       "      <td>6.0</td>\n",
       "      <td>87.833333</td>\n",
       "      <td>3.600926</td>\n",
       "      <td>82.0</td>\n",
       "      <td>87.0</td>\n",
       "      <td>88.0</td>\n",
       "      <td>89.0</td>\n",
       "      <td>93.0</td>\n",
       "      <td>6.0</td>\n",
       "      <td>29.333333</td>\n",
       "      <td>11.165423</td>\n",
       "      <td>19.0</td>\n",
       "      <td>22.0</td>\n",
       "      <td>28.5</td>\n",
       "      <td>29.75</td>\n",
       "      <td>50.0</td>\n",
       "    </tr>\n",
       "    <tr>\n",
       "      <th>@worldwineguys</th>\n",
       "      <td>1005.0</td>\n",
       "      <td>88.719403</td>\n",
       "      <td>2.044055</td>\n",
       "      <td>82.0</td>\n",
       "      <td>88.0</td>\n",
       "      <td>89.0</td>\n",
       "      <td>90.0</td>\n",
       "      <td>97.0</td>\n",
       "      <td>995.0</td>\n",
       "      <td>25.238191</td>\n",
       "      <td>19.984364</td>\n",
       "      <td>6.0</td>\n",
       "      <td>15.0</td>\n",
       "      <td>20.0</td>\n",
       "      <td>30.00</td>\n",
       "      <td>320.0</td>\n",
       "    </tr>\n",
       "  </tbody>\n",
       "</table>\n",
       "</div>"
      ],
      "text/plain": [
       "                        points                                               \\\n",
       "                         count       mean       std   min   25%   50%   75%   \n",
       "taster_twitter_handle                                                         \n",
       "@AnneInVino             3685.0  90.562551  2.373100  80.0  89.0  90.0  92.0   \n",
       "@JoeCz                  5147.0  88.536235  2.858701  80.0  87.0  89.0  91.0   \n",
       "@bkfiona                  27.0  86.888889  1.739437  82.0  86.0  87.0  88.0   \n",
       "@gordone_cellars        4177.0  88.626287  2.698341  80.0  87.0  89.0  91.0   \n",
       "@kerinokeefe           10776.0  88.867947  2.474240  80.0  87.0  89.0  90.0   \n",
       "@laurbuzz               1835.0  87.739510  2.530672  81.0  86.0  88.0  90.0   \n",
       "@mattkettmann           6332.0  90.008686  2.571257  81.0  88.0  90.0  92.0   \n",
       "@paulgwine              9532.0  89.082564  2.814445  80.0  87.0  89.0  91.0   \n",
       "@suskostrzewa           1085.0  86.609217  2.376140  80.0  85.0  87.0  88.0   \n",
       "@vboone                 9537.0  89.213379  2.996796  80.0  87.0  90.0  91.0   \n",
       "@vossroger             25514.0  88.708003  3.036373  80.0  86.0  88.0  91.0   \n",
       "@wawinereport           4966.0  88.755739  2.458547  80.0  87.0  89.0  91.0   \n",
       "@wineschach            15134.0  86.907493  3.022859  80.0  85.0  87.0  89.0   \n",
       "@winewchristina            6.0  87.833333  3.600926  82.0  87.0  88.0  89.0   \n",
       "@worldwineguys          1005.0  88.719403  2.044055  82.0  88.0  89.0  90.0   \n",
       "\n",
       "                                price                                          \\\n",
       "                         max    count       mean        std   min   25%   50%   \n",
       "taster_twitter_handle                                                           \n",
       "@AnneInVino             97.0   3398.0  31.230135  25.295871  10.0  19.0  25.0   \n",
       "@JoeCz                 100.0   5012.0  35.175579  44.434444   5.0  16.0  22.0   \n",
       "@bkfiona                91.0     27.0  31.148148  16.154789  17.0  22.5  27.0   \n",
       "@gordone_cellars        97.0   4171.0  26.935507  17.475901   4.0  15.0  23.0   \n",
       "@kerinokeefe           100.0   9874.0  41.953413  38.727135   6.0  20.0  30.0   \n",
       "@laurbuzz               95.0   1713.0  24.492703  21.967640   5.0  13.0  18.0   \n",
       "@mattkettmann           97.0   6237.0  38.642136  31.994921   7.0  25.0  35.0   \n",
       "@paulgwine             100.0   9498.0  33.644873  18.936484   5.0  20.0  29.0   \n",
       "@suskostrzewa           94.0   1073.0  22.908667  17.311163   7.0  14.0  19.0   \n",
       "@vboone                 99.0   9507.0  46.621963  32.655537   7.0  25.0  39.0   \n",
       "@vossroger             100.0  20172.0  38.649960  71.540473   5.0  15.0  22.0   \n",
       "@wawinereport           97.0   4925.0  34.085888  20.029977   6.0  20.0  30.0   \n",
       "@wineschach             98.0  14951.0  25.231155  28.723655   4.0  12.0  17.0   \n",
       "@winewchristina         93.0      6.0  29.333333  11.165423  19.0  22.0  28.5   \n",
       "@worldwineguys          97.0    995.0  25.238191  19.984364   6.0  15.0  20.0   \n",
       "\n",
       "                                      \n",
       "                         75%     max  \n",
       "taster_twitter_handle                 \n",
       "@AnneInVino            38.00  1100.0  \n",
       "@JoeCz                 40.00   850.0  \n",
       "@bkfiona               35.00    80.0  \n",
       "@gordone_cellars       32.00   220.0  \n",
       "@kerinokeefe           50.00   800.0  \n",
       "@laurbuzz              28.00   350.0  \n",
       "@mattkettmann          48.00  2013.0  \n",
       "@paulgwine             42.00   275.0  \n",
       "@suskostrzewa          26.00   320.0  \n",
       "@vboone                56.00   625.0  \n",
       "@vossroger             40.00  3300.0  \n",
       "@wawinereport          42.00   240.0  \n",
       "@wineschach            25.00   770.0  \n",
       "@winewchristina        29.75    50.0  \n",
       "@worldwineguys         30.00   320.0  "
      ]
     },
     "execution_count": 4,
     "metadata": {},
     "output_type": "execute_result"
    }
   ],
   "source": [
    "reviews.groupby('taster_twitter_handle').describe()"
   ]
  },
  {
   "cell_type": "code",
   "execution_count": 5,
   "id": "89210c8f",
   "metadata": {
    "execution": {
     "iopub.execute_input": "2022-04-23T15:30:59.604185Z",
     "iopub.status.busy": "2022-04-23T15:30:59.603898Z",
     "iopub.status.idle": "2022-04-23T15:30:59.641561Z",
     "shell.execute_reply": "2022-04-23T15:30:59.640776Z"
    },
    "papermill": {
     "duration": 0.072695,
     "end_time": "2022-04-23T15:30:59.643305",
     "exception": false,
     "start_time": "2022-04-23T15:30:59.570610",
     "status": "completed"
    },
    "tags": []
   },
   "outputs": [
    {
     "data": {
      "application/javascript": [
       "parent.postMessage({\"jupyterEvent\": \"custom.exercise_interaction\", \"data\": {\"outcomeType\": 1, \"valueTowardsCompletion\": 0.16666666666666666, \"interactionType\": 1, \"questionType\": 1, \"questionId\": \"1_ReviewsWritten\", \"learnToolsVersion\": \"0.3.4\", \"failureMessage\": \"\", \"exceptionClass\": \"\", \"trace\": \"\"}}, \"*\")"
      ],
      "text/plain": [
       "<IPython.core.display.Javascript object>"
      ]
     },
     "metadata": {},
     "output_type": "display_data"
    },
    {
     "data": {
      "text/markdown": [
       "<span style=\"color:#33cc33\">Correct:</span> \n",
       "\n",
       "\n",
       "```python\n",
       "reviews_written = reviews.groupby('taster_twitter_handle').size()\n",
       "```\n",
       "or\n",
       "```python\n",
       "reviews_written = reviews.groupby('taster_twitter_handle').taster_twitter_handle.count()\n",
       "```\n"
      ],
      "text/plain": [
       "Correct: \n",
       "\n",
       "\n",
       "```python\n",
       "reviews_written = reviews.groupby('taster_twitter_handle').size()\n",
       "```\n",
       "or\n",
       "```python\n",
       "reviews_written = reviews.groupby('taster_twitter_handle').taster_twitter_handle.count()\n",
       "```"
      ]
     },
     "metadata": {},
     "output_type": "display_data"
    }
   ],
   "source": [
    "# Your code here\n",
    "reviews_written = reviews.groupby('taster_twitter_handle').taster_twitter_handle.count()\n",
    "\n",
    "# Check your answer\n",
    "q1.check()"
   ]
  },
  {
   "cell_type": "code",
   "execution_count": 6,
   "id": "3ec169e9",
   "metadata": {
    "execution": {
     "iopub.execute_input": "2022-04-23T15:30:59.711814Z",
     "iopub.status.busy": "2022-04-23T15:30:59.711299Z",
     "iopub.status.idle": "2022-04-23T15:30:59.714393Z",
     "shell.execute_reply": "2022-04-23T15:30:59.713699Z"
    },
    "papermill": {
     "duration": 0.039825,
     "end_time": "2022-04-23T15:30:59.716210",
     "exception": false,
     "start_time": "2022-04-23T15:30:59.676385",
     "status": "completed"
    },
    "tags": []
   },
   "outputs": [],
   "source": [
    "#q1.hint()\n",
    "#q1.solution()"
   ]
  },
  {
   "cell_type": "markdown",
   "id": "0e346965",
   "metadata": {
    "papermill": {
     "duration": 0.033206,
     "end_time": "2022-04-23T15:30:59.782728",
     "exception": false,
     "start_time": "2022-04-23T15:30:59.749522",
     "status": "completed"
    },
    "tags": []
   },
   "source": [
    "## 2.\n",
    "What is the best wine I can buy for a given amount of money? Create a `Series` whose index is wine prices and whose values is the maximum number of points a wine costing that much was given in a review. Sort the values by price, ascending (so that `4.0` dollars is at the top and `3300.0` dollars is at the bottom)."
   ]
  },
  {
   "cell_type": "code",
   "execution_count": 7,
   "id": "6e8849d6",
   "metadata": {
    "execution": {
     "iopub.execute_input": "2022-04-23T15:30:59.853200Z",
     "iopub.status.busy": "2022-04-23T15:30:59.852702Z",
     "iopub.status.idle": "2022-04-23T15:30:59.863722Z",
     "shell.execute_reply": "2022-04-23T15:30:59.863166Z"
    },
    "papermill": {
     "duration": 0.048713,
     "end_time": "2022-04-23T15:30:59.865604",
     "exception": false,
     "start_time": "2022-04-23T15:30:59.816891",
     "status": "completed"
    },
    "tags": []
   },
   "outputs": [
    {
     "data": {
      "text/plain": [
       "price\n",
       "4.0       86\n",
       "5.0       87\n",
       "6.0       88\n",
       "7.0       91\n",
       "8.0       91\n",
       "          ..\n",
       "1900.0    98\n",
       "2000.0    97\n",
       "2013.0    91\n",
       "2500.0    96\n",
       "3300.0    88\n",
       "Name: points, Length: 390, dtype: int64"
      ]
     },
     "execution_count": 7,
     "metadata": {},
     "output_type": "execute_result"
    }
   ],
   "source": [
    "reviews.groupby('price').points.max()"
   ]
  },
  {
   "cell_type": "code",
   "execution_count": 8,
   "id": "b6876e5d",
   "metadata": {
    "execution": {
     "iopub.execute_input": "2022-04-23T15:30:59.937417Z",
     "iopub.status.busy": "2022-04-23T15:30:59.936793Z",
     "iopub.status.idle": "2022-04-23T15:30:59.947851Z",
     "shell.execute_reply": "2022-04-23T15:30:59.947283Z"
    },
    "papermill": {
     "duration": 0.050172,
     "end_time": "2022-04-23T15:30:59.949838",
     "exception": false,
     "start_time": "2022-04-23T15:30:59.899666",
     "status": "completed"
    },
    "tags": []
   },
   "outputs": [
    {
     "data": {
      "application/javascript": [
       "parent.postMessage({\"jupyterEvent\": \"custom.exercise_interaction\", \"data\": {\"outcomeType\": 1, \"valueTowardsCompletion\": 0.16666666666666666, \"interactionType\": 1, \"questionType\": 1, \"questionId\": \"2_BestRatingPerPrice\", \"learnToolsVersion\": \"0.3.4\", \"failureMessage\": \"\", \"exceptionClass\": \"\", \"trace\": \"\"}}, \"*\")"
      ],
      "text/plain": [
       "<IPython.core.display.Javascript object>"
      ]
     },
     "metadata": {},
     "output_type": "display_data"
    },
    {
     "data": {
      "text/markdown": [
       "<span style=\"color:#33cc33\">Correct</span>"
      ],
      "text/plain": [
       "Correct"
      ]
     },
     "metadata": {},
     "output_type": "display_data"
    }
   ],
   "source": [
    "best_rating_per_price = reviews.groupby('price').points.max()\n",
    "\n",
    "# Check your answer\n",
    "q2.check()"
   ]
  },
  {
   "cell_type": "code",
   "execution_count": 9,
   "id": "4587cb83",
   "metadata": {
    "execution": {
     "iopub.execute_input": "2022-04-23T15:31:00.024945Z",
     "iopub.status.busy": "2022-04-23T15:31:00.024454Z",
     "iopub.status.idle": "2022-04-23T15:31:00.027308Z",
     "shell.execute_reply": "2022-04-23T15:31:00.026791Z"
    },
    "papermill": {
     "duration": 0.042427,
     "end_time": "2022-04-23T15:31:00.029172",
     "exception": false,
     "start_time": "2022-04-23T15:30:59.986745",
     "status": "completed"
    },
    "tags": []
   },
   "outputs": [],
   "source": [
    "#q2.hint()\n",
    "#q2.solution()"
   ]
  },
  {
   "cell_type": "markdown",
   "id": "3ba0462e",
   "metadata": {
    "papermill": {
     "duration": 0.036549,
     "end_time": "2022-04-23T15:31:00.100987",
     "exception": false,
     "start_time": "2022-04-23T15:31:00.064438",
     "status": "completed"
    },
    "tags": []
   },
   "source": [
    "## 3.\n",
    "What are the minimum and maximum prices for each `variety` of wine? Create a `DataFrame` whose index is the `variety` category from the dataset and whose values are the `min` and `max` values thereof."
   ]
  },
  {
   "cell_type": "code",
   "execution_count": 10,
   "id": "23b22e94",
   "metadata": {
    "execution": {
     "iopub.execute_input": "2022-04-23T15:31:00.175129Z",
     "iopub.status.busy": "2022-04-23T15:31:00.174597Z",
     "iopub.status.idle": "2022-04-23T15:31:00.208073Z",
     "shell.execute_reply": "2022-04-23T15:31:00.207441Z"
    },
    "papermill": {
     "duration": 0.072891,
     "end_time": "2022-04-23T15:31:00.209843",
     "exception": false,
     "start_time": "2022-04-23T15:31:00.136952",
     "status": "completed"
    },
    "tags": []
   },
   "outputs": [
    {
     "data": {
      "text/html": [
       "<div>\n",
       "<style scoped>\n",
       "    .dataframe tbody tr th:only-of-type {\n",
       "        vertical-align: middle;\n",
       "    }\n",
       "\n",
       "    .dataframe tbody tr th {\n",
       "        vertical-align: top;\n",
       "    }\n",
       "\n",
       "    .dataframe thead th {\n",
       "        text-align: right;\n",
       "    }\n",
       "</style>\n",
       "<table border=\"1\" class=\"dataframe\">\n",
       "  <thead>\n",
       "    <tr style=\"text-align: right;\">\n",
       "      <th></th>\n",
       "      <th>min</th>\n",
       "      <th>max</th>\n",
       "    </tr>\n",
       "    <tr>\n",
       "      <th>variety</th>\n",
       "      <th></th>\n",
       "      <th></th>\n",
       "    </tr>\n",
       "  </thead>\n",
       "  <tbody>\n",
       "    <tr>\n",
       "      <th>Abouriou</th>\n",
       "      <td>15.0</td>\n",
       "      <td>75.0</td>\n",
       "    </tr>\n",
       "    <tr>\n",
       "      <th>Agiorgitiko</th>\n",
       "      <td>10.0</td>\n",
       "      <td>66.0</td>\n",
       "    </tr>\n",
       "    <tr>\n",
       "      <th>Aglianico</th>\n",
       "      <td>6.0</td>\n",
       "      <td>180.0</td>\n",
       "    </tr>\n",
       "    <tr>\n",
       "      <th>Aidani</th>\n",
       "      <td>27.0</td>\n",
       "      <td>27.0</td>\n",
       "    </tr>\n",
       "    <tr>\n",
       "      <th>Airen</th>\n",
       "      <td>8.0</td>\n",
       "      <td>10.0</td>\n",
       "    </tr>\n",
       "    <tr>\n",
       "      <th>...</th>\n",
       "      <td>...</td>\n",
       "      <td>...</td>\n",
       "    </tr>\n",
       "    <tr>\n",
       "      <th>Zinfandel</th>\n",
       "      <td>5.0</td>\n",
       "      <td>100.0</td>\n",
       "    </tr>\n",
       "    <tr>\n",
       "      <th>Zlahtina</th>\n",
       "      <td>13.0</td>\n",
       "      <td>16.0</td>\n",
       "    </tr>\n",
       "    <tr>\n",
       "      <th>Zweigelt</th>\n",
       "      <td>9.0</td>\n",
       "      <td>70.0</td>\n",
       "    </tr>\n",
       "    <tr>\n",
       "      <th>Çalkarası</th>\n",
       "      <td>19.0</td>\n",
       "      <td>19.0</td>\n",
       "    </tr>\n",
       "    <tr>\n",
       "      <th>Žilavka</th>\n",
       "      <td>15.0</td>\n",
       "      <td>15.0</td>\n",
       "    </tr>\n",
       "  </tbody>\n",
       "</table>\n",
       "<p>707 rows × 2 columns</p>\n",
       "</div>"
      ],
      "text/plain": [
       "              min    max\n",
       "variety                 \n",
       "Abouriou     15.0   75.0\n",
       "Agiorgitiko  10.0   66.0\n",
       "Aglianico     6.0  180.0\n",
       "Aidani       27.0   27.0\n",
       "Airen         8.0   10.0\n",
       "...           ...    ...\n",
       "Zinfandel     5.0  100.0\n",
       "Zlahtina     13.0   16.0\n",
       "Zweigelt      9.0   70.0\n",
       "Çalkarası    19.0   19.0\n",
       "Žilavka      15.0   15.0\n",
       "\n",
       "[707 rows x 2 columns]"
      ]
     },
     "execution_count": 10,
     "metadata": {},
     "output_type": "execute_result"
    }
   ],
   "source": [
    "reviews.groupby('variety').price.agg([min, max])"
   ]
  },
  {
   "cell_type": "code",
   "execution_count": 11,
   "id": "00c54d58",
   "metadata": {
    "execution": {
     "iopub.execute_input": "2022-04-23T15:31:00.285631Z",
     "iopub.status.busy": "2022-04-23T15:31:00.284832Z",
     "iopub.status.idle": "2022-04-23T15:31:00.312828Z",
     "shell.execute_reply": "2022-04-23T15:31:00.312188Z"
    },
    "papermill": {
     "duration": 0.069213,
     "end_time": "2022-04-23T15:31:00.314609",
     "exception": false,
     "start_time": "2022-04-23T15:31:00.245396",
     "status": "completed"
    },
    "tags": []
   },
   "outputs": [
    {
     "data": {
      "application/javascript": [
       "parent.postMessage({\"jupyterEvent\": \"custom.exercise_interaction\", \"data\": {\"outcomeType\": 1, \"valueTowardsCompletion\": 0.16666666666666666, \"interactionType\": 1, \"questionType\": 1, \"questionId\": \"3_PriceExtremes\", \"learnToolsVersion\": \"0.3.4\", \"failureMessage\": \"\", \"exceptionClass\": \"\", \"trace\": \"\"}}, \"*\")"
      ],
      "text/plain": [
       "<IPython.core.display.Javascript object>"
      ]
     },
     "metadata": {},
     "output_type": "display_data"
    },
    {
     "data": {
      "text/markdown": [
       "<span style=\"color:#33cc33\">Correct</span>"
      ],
      "text/plain": [
       "Correct"
      ]
     },
     "metadata": {},
     "output_type": "display_data"
    }
   ],
   "source": [
    "price_extremes = reviews.groupby('variety').price.agg([min, max])\n",
    "\n",
    "# Check your answer\n",
    "q3.check()"
   ]
  },
  {
   "cell_type": "code",
   "execution_count": 12,
   "id": "3f520b54",
   "metadata": {
    "execution": {
     "iopub.execute_input": "2022-04-23T15:31:00.390266Z",
     "iopub.status.busy": "2022-04-23T15:31:00.389721Z",
     "iopub.status.idle": "2022-04-23T15:31:00.392845Z",
     "shell.execute_reply": "2022-04-23T15:31:00.392202Z"
    },
    "papermill": {
     "duration": 0.04293,
     "end_time": "2022-04-23T15:31:00.394686",
     "exception": false,
     "start_time": "2022-04-23T15:31:00.351756",
     "status": "completed"
    },
    "tags": []
   },
   "outputs": [],
   "source": [
    "#q3.hint()\n",
    "#q3.solution()"
   ]
  },
  {
   "cell_type": "markdown",
   "id": "29a8c77c",
   "metadata": {
    "papermill": {
     "duration": 0.03641,
     "end_time": "2022-04-23T15:31:00.468099",
     "exception": false,
     "start_time": "2022-04-23T15:31:00.431689",
     "status": "completed"
    },
    "tags": []
   },
   "source": [
    "## 4.\n",
    "What are the most expensive wine varieties? Create a variable `sorted_varieties` containing a copy of the dataframe from the previous question where varieties are sorted in descending order based on minimum price, then on maximum price (to break ties)."
   ]
  },
  {
   "cell_type": "code",
   "execution_count": 13,
   "id": "c3e92e23",
   "metadata": {
    "execution": {
     "iopub.execute_input": "2022-04-23T15:31:00.543178Z",
     "iopub.status.busy": "2022-04-23T15:31:00.542840Z",
     "iopub.status.idle": "2022-04-23T15:31:00.552812Z",
     "shell.execute_reply": "2022-04-23T15:31:00.552229Z"
    },
    "papermill": {
     "duration": 0.049849,
     "end_time": "2022-04-23T15:31:00.554607",
     "exception": false,
     "start_time": "2022-04-23T15:31:00.504758",
     "status": "completed"
    },
    "tags": []
   },
   "outputs": [
    {
     "data": {
      "text/html": [
       "<div>\n",
       "<style scoped>\n",
       "    .dataframe tbody tr th:only-of-type {\n",
       "        vertical-align: middle;\n",
       "    }\n",
       "\n",
       "    .dataframe tbody tr th {\n",
       "        vertical-align: top;\n",
       "    }\n",
       "\n",
       "    .dataframe thead th {\n",
       "        text-align: right;\n",
       "    }\n",
       "</style>\n",
       "<table border=\"1\" class=\"dataframe\">\n",
       "  <thead>\n",
       "    <tr style=\"text-align: right;\">\n",
       "      <th></th>\n",
       "      <th>min</th>\n",
       "      <th>max</th>\n",
       "    </tr>\n",
       "    <tr>\n",
       "      <th>variety</th>\n",
       "      <th></th>\n",
       "      <th></th>\n",
       "    </tr>\n",
       "  </thead>\n",
       "  <tbody>\n",
       "    <tr>\n",
       "      <th>Abouriou</th>\n",
       "      <td>15.0</td>\n",
       "      <td>75.0</td>\n",
       "    </tr>\n",
       "    <tr>\n",
       "      <th>Agiorgitiko</th>\n",
       "      <td>10.0</td>\n",
       "      <td>66.0</td>\n",
       "    </tr>\n",
       "    <tr>\n",
       "      <th>Aglianico</th>\n",
       "      <td>6.0</td>\n",
       "      <td>180.0</td>\n",
       "    </tr>\n",
       "    <tr>\n",
       "      <th>Aidani</th>\n",
       "      <td>27.0</td>\n",
       "      <td>27.0</td>\n",
       "    </tr>\n",
       "    <tr>\n",
       "      <th>Airen</th>\n",
       "      <td>8.0</td>\n",
       "      <td>10.0</td>\n",
       "    </tr>\n",
       "  </tbody>\n",
       "</table>\n",
       "</div>"
      ],
      "text/plain": [
       "              min    max\n",
       "variety                 \n",
       "Abouriou     15.0   75.0\n",
       "Agiorgitiko  10.0   66.0\n",
       "Aglianico     6.0  180.0\n",
       "Aidani       27.0   27.0\n",
       "Airen         8.0   10.0"
      ]
     },
     "execution_count": 13,
     "metadata": {},
     "output_type": "execute_result"
    }
   ],
   "source": [
    "price_extremes.head()"
   ]
  },
  {
   "cell_type": "code",
   "execution_count": 14,
   "id": "ff674a44",
   "metadata": {
    "execution": {
     "iopub.execute_input": "2022-04-23T15:31:00.631010Z",
     "iopub.status.busy": "2022-04-23T15:31:00.630685Z",
     "iopub.status.idle": "2022-04-23T15:31:00.641825Z",
     "shell.execute_reply": "2022-04-23T15:31:00.641028Z"
    },
    "papermill": {
     "duration": 0.051973,
     "end_time": "2022-04-23T15:31:00.643950",
     "exception": false,
     "start_time": "2022-04-23T15:31:00.591977",
     "status": "completed"
    },
    "tags": []
   },
   "outputs": [
    {
     "data": {
      "application/javascript": [
       "parent.postMessage({\"jupyterEvent\": \"custom.exercise_interaction\", \"data\": {\"outcomeType\": 1, \"valueTowardsCompletion\": 0.16666666666666666, \"interactionType\": 1, \"questionType\": 1, \"questionId\": \"4_SortedVarieties\", \"learnToolsVersion\": \"0.3.4\", \"failureMessage\": \"\", \"exceptionClass\": \"\", \"trace\": \"\"}}, \"*\")"
      ],
      "text/plain": [
       "<IPython.core.display.Javascript object>"
      ]
     },
     "metadata": {},
     "output_type": "display_data"
    },
    {
     "data": {
      "text/markdown": [
       "<span style=\"color:#33cc33\">Correct</span>"
      ],
      "text/plain": [
       "Correct"
      ]
     },
     "metadata": {},
     "output_type": "display_data"
    }
   ],
   "source": [
    "sorted_varieties = price_extremes.sort_values(by=['min', 'max'],ascending=False)\n",
    "\n",
    "# Check your answer\n",
    "q4.check()"
   ]
  },
  {
   "cell_type": "code",
   "execution_count": 15,
   "id": "ea6df16e",
   "metadata": {
    "execution": {
     "iopub.execute_input": "2022-04-23T15:31:00.723550Z",
     "iopub.status.busy": "2022-04-23T15:31:00.723000Z",
     "iopub.status.idle": "2022-04-23T15:31:00.726551Z",
     "shell.execute_reply": "2022-04-23T15:31:00.725941Z"
    },
    "papermill": {
     "duration": 0.045904,
     "end_time": "2022-04-23T15:31:00.728408",
     "exception": false,
     "start_time": "2022-04-23T15:31:00.682504",
     "status": "completed"
    },
    "tags": []
   },
   "outputs": [],
   "source": [
    "# q4.hint()\n",
    "# q4.solution()"
   ]
  },
  {
   "cell_type": "markdown",
   "id": "0e3b8b41",
   "metadata": {
    "papermill": {
     "duration": 0.038429,
     "end_time": "2022-04-23T15:31:00.805426",
     "exception": false,
     "start_time": "2022-04-23T15:31:00.766997",
     "status": "completed"
    },
    "tags": []
   },
   "source": [
    "## 5.\n",
    "Create a `Series` whose index is reviewers and whose values is the average review score given out by that reviewer. Hint: you will need the `taster_name` and `points` columns."
   ]
  },
  {
   "cell_type": "code",
   "execution_count": 16,
   "id": "4af694b3",
   "metadata": {
    "execution": {
     "iopub.execute_input": "2022-04-23T15:31:00.886871Z",
     "iopub.status.busy": "2022-04-23T15:31:00.886578Z",
     "iopub.status.idle": "2022-04-23T15:31:00.912438Z",
     "shell.execute_reply": "2022-04-23T15:31:00.911420Z"
    },
    "papermill": {
     "duration": 0.070254,
     "end_time": "2022-04-23T15:31:00.914736",
     "exception": false,
     "start_time": "2022-04-23T15:31:00.844482",
     "status": "completed"
    },
    "tags": []
   },
   "outputs": [
    {
     "data": {
      "text/plain": [
       "taster_name\n",
       "Alexander Peartree    85.855422\n",
       "Carrie Dykes          86.395683\n",
       "Susan Kostrzewa       86.609217\n",
       "Fiona Adams           86.888889\n",
       "Michael Schachner     86.907493\n",
       "Lauren Buzzeo         87.739510\n",
       "Christina Pickard     87.833333\n",
       "Jeff Jenssen          88.319756\n",
       "Anna Lee C. Iijima    88.415629\n",
       "Joe Czerwinski        88.536235\n",
       "Jim Gordon            88.626287\n",
       "Roger Voss            88.708003\n",
       "Sean P. Sullivan      88.755739\n",
       "Kerin O’Keefe         88.867947\n",
       "Paul Gregutt          89.082564\n",
       "Mike DeSimone         89.101167\n",
       "Virginie Boone        89.213379\n",
       "Matt Kettmann         90.008686\n",
       "Anne Krebiehl MW      90.562551\n",
       "Name: points, dtype: float64"
      ]
     },
     "execution_count": 16,
     "metadata": {},
     "output_type": "execute_result"
    }
   ],
   "source": [
    "reviews.groupby('taster_name').points.mean().sort_values()\n"
   ]
  },
  {
   "cell_type": "code",
   "execution_count": 17,
   "id": "d268c074",
   "metadata": {
    "execution": {
     "iopub.execute_input": "2022-04-23T15:31:00.995048Z",
     "iopub.status.busy": "2022-04-23T15:31:00.994764Z",
     "iopub.status.idle": "2022-04-23T15:31:01.021132Z",
     "shell.execute_reply": "2022-04-23T15:31:01.020262Z"
    },
    "papermill": {
     "duration": 0.06913,
     "end_time": "2022-04-23T15:31:01.023092",
     "exception": false,
     "start_time": "2022-04-23T15:31:00.953962",
     "status": "completed"
    },
    "tags": []
   },
   "outputs": [
    {
     "data": {
      "application/javascript": [
       "parent.postMessage({\"jupyterEvent\": \"custom.exercise_interaction\", \"data\": {\"outcomeType\": 1, \"valueTowardsCompletion\": 0.16666666666666666, \"interactionType\": 1, \"questionType\": 1, \"questionId\": \"5_ReviewerMeanRatings\", \"learnToolsVersion\": \"0.3.4\", \"failureMessage\": \"\", \"exceptionClass\": \"\", \"trace\": \"\"}}, \"*\")"
      ],
      "text/plain": [
       "<IPython.core.display.Javascript object>"
      ]
     },
     "metadata": {},
     "output_type": "display_data"
    },
    {
     "data": {
      "text/markdown": [
       "<span style=\"color:#33cc33\">Correct</span>"
      ],
      "text/plain": [
       "Correct"
      ]
     },
     "metadata": {},
     "output_type": "display_data"
    }
   ],
   "source": [
    "reviewer_mean_ratings = reviews.groupby('taster_name').points.mean()\n",
    "\n",
    "# Check your answer\n",
    "q5.check()"
   ]
  },
  {
   "cell_type": "code",
   "execution_count": 18,
   "id": "a94cf7db",
   "metadata": {
    "execution": {
     "iopub.execute_input": "2022-04-23T15:31:01.106050Z",
     "iopub.status.busy": "2022-04-23T15:31:01.105524Z",
     "iopub.status.idle": "2022-04-23T15:31:01.108943Z",
     "shell.execute_reply": "2022-04-23T15:31:01.108393Z"
    },
    "papermill": {
     "duration": 0.046955,
     "end_time": "2022-04-23T15:31:01.110793",
     "exception": false,
     "start_time": "2022-04-23T15:31:01.063838",
     "status": "completed"
    },
    "tags": []
   },
   "outputs": [],
   "source": [
    "# q5.hint()\n",
    "#q5.solution()"
   ]
  },
  {
   "cell_type": "markdown",
   "id": "5fd2f245",
   "metadata": {
    "papermill": {
     "duration": 0.039623,
     "end_time": "2022-04-23T15:31:01.190435",
     "exception": false,
     "start_time": "2022-04-23T15:31:01.150812",
     "status": "completed"
    },
    "tags": []
   },
   "source": [
    "Are there significant differences in the average scores assigned by the various reviewers? Run the cell below to use the `describe()` method to see a summary of the range of values."
   ]
  },
  {
   "cell_type": "code",
   "execution_count": 19,
   "id": "578016d3",
   "metadata": {
    "execution": {
     "iopub.execute_input": "2022-04-23T15:31:01.272157Z",
     "iopub.status.busy": "2022-04-23T15:31:01.271598Z",
     "iopub.status.idle": "2022-04-23T15:31:01.280491Z",
     "shell.execute_reply": "2022-04-23T15:31:01.279845Z"
    },
    "papermill": {
     "duration": 0.052026,
     "end_time": "2022-04-23T15:31:01.282358",
     "exception": false,
     "start_time": "2022-04-23T15:31:01.230332",
     "status": "completed"
    },
    "tags": []
   },
   "outputs": [
    {
     "data": {
      "text/plain": [
       "count    19.000000\n",
       "mean     88.233026\n",
       "std       1.243610\n",
       "min      85.855422\n",
       "25%      87.323501\n",
       "50%      88.536235\n",
       "75%      88.975256\n",
       "max      90.562551\n",
       "Name: points, dtype: float64"
      ]
     },
     "execution_count": 19,
     "metadata": {},
     "output_type": "execute_result"
    }
   ],
   "source": [
    "reviewer_mean_ratings.describe()"
   ]
  },
  {
   "cell_type": "markdown",
   "id": "cb766025",
   "metadata": {
    "papermill": {
     "duration": 0.04002,
     "end_time": "2022-04-23T15:31:01.362581",
     "exception": false,
     "start_time": "2022-04-23T15:31:01.322561",
     "status": "completed"
    },
    "tags": []
   },
   "source": [
    "## 6.\n",
    "What combination of countries and varieties are most common? Create a `Series` whose index is a `MultiIndex`of `{country, variety}` pairs. For example, a pinot noir produced in the US should map to `{\"US\", \"Pinot Noir\"}`. Sort the values in the `Series` in descending order based on wine count."
   ]
  },
  {
   "cell_type": "code",
   "execution_count": 20,
   "id": "32012273",
   "metadata": {
    "execution": {
     "iopub.execute_input": "2022-04-23T15:31:01.445093Z",
     "iopub.status.busy": "2022-04-23T15:31:01.444808Z",
     "iopub.status.idle": "2022-04-23T15:31:10.354917Z",
     "shell.execute_reply": "2022-04-23T15:31:10.354091Z"
    },
    "papermill": {
     "duration": 8.953717,
     "end_time": "2022-04-23T15:31:10.357026",
     "exception": false,
     "start_time": "2022-04-23T15:31:01.403309",
     "status": "completed"
    },
    "tags": []
   },
   "outputs": [
    {
     "data": {
      "text/html": [
       "<div>\n",
       "<style scoped>\n",
       "    .dataframe tbody tr th:only-of-type {\n",
       "        vertical-align: middle;\n",
       "    }\n",
       "\n",
       "    .dataframe tbody tr th {\n",
       "        vertical-align: top;\n",
       "    }\n",
       "\n",
       "    .dataframe thead tr th {\n",
       "        text-align: left;\n",
       "    }\n",
       "\n",
       "    .dataframe thead tr:last-of-type th {\n",
       "        text-align: right;\n",
       "    }\n",
       "</style>\n",
       "<table border=\"1\" class=\"dataframe\">\n",
       "  <thead>\n",
       "    <tr>\n",
       "      <th></th>\n",
       "      <th></th>\n",
       "      <th colspan=\"8\" halign=\"left\">points</th>\n",
       "      <th colspan=\"8\" halign=\"left\">price</th>\n",
       "    </tr>\n",
       "    <tr>\n",
       "      <th></th>\n",
       "      <th></th>\n",
       "      <th>count</th>\n",
       "      <th>mean</th>\n",
       "      <th>std</th>\n",
       "      <th>min</th>\n",
       "      <th>25%</th>\n",
       "      <th>50%</th>\n",
       "      <th>75%</th>\n",
       "      <th>max</th>\n",
       "      <th>count</th>\n",
       "      <th>mean</th>\n",
       "      <th>std</th>\n",
       "      <th>min</th>\n",
       "      <th>25%</th>\n",
       "      <th>50%</th>\n",
       "      <th>75%</th>\n",
       "      <th>max</th>\n",
       "    </tr>\n",
       "    <tr>\n",
       "      <th>country</th>\n",
       "      <th>variety</th>\n",
       "      <th></th>\n",
       "      <th></th>\n",
       "      <th></th>\n",
       "      <th></th>\n",
       "      <th></th>\n",
       "      <th></th>\n",
       "      <th></th>\n",
       "      <th></th>\n",
       "      <th></th>\n",
       "      <th></th>\n",
       "      <th></th>\n",
       "      <th></th>\n",
       "      <th></th>\n",
       "      <th></th>\n",
       "      <th></th>\n",
       "      <th></th>\n",
       "    </tr>\n",
       "  </thead>\n",
       "  <tbody>\n",
       "    <tr>\n",
       "      <th rowspan=\"5\" valign=\"top\">Argentina</th>\n",
       "      <th>Barbera</th>\n",
       "      <td>1.0</td>\n",
       "      <td>85.000000</td>\n",
       "      <td>NaN</td>\n",
       "      <td>85.0</td>\n",
       "      <td>85.00</td>\n",
       "      <td>85.0</td>\n",
       "      <td>85.00</td>\n",
       "      <td>85.0</td>\n",
       "      <td>1.0</td>\n",
       "      <td>18.000000</td>\n",
       "      <td>NaN</td>\n",
       "      <td>18.0</td>\n",
       "      <td>18.00</td>\n",
       "      <td>18.0</td>\n",
       "      <td>18.00</td>\n",
       "      <td>18.0</td>\n",
       "    </tr>\n",
       "    <tr>\n",
       "      <th>Bonarda</th>\n",
       "      <td>105.0</td>\n",
       "      <td>86.504762</td>\n",
       "      <td>2.587410</td>\n",
       "      <td>80.0</td>\n",
       "      <td>85.00</td>\n",
       "      <td>87.0</td>\n",
       "      <td>89.00</td>\n",
       "      <td>92.0</td>\n",
       "      <td>105.0</td>\n",
       "      <td>16.628571</td>\n",
       "      <td>6.367370</td>\n",
       "      <td>9.0</td>\n",
       "      <td>13.00</td>\n",
       "      <td>15.0</td>\n",
       "      <td>18.00</td>\n",
       "      <td>40.0</td>\n",
       "    </tr>\n",
       "    <tr>\n",
       "      <th>Bordeaux-style Red Blend</th>\n",
       "      <td>89.0</td>\n",
       "      <td>89.820225</td>\n",
       "      <td>2.990750</td>\n",
       "      <td>81.0</td>\n",
       "      <td>88.00</td>\n",
       "      <td>91.0</td>\n",
       "      <td>92.00</td>\n",
       "      <td>96.0</td>\n",
       "      <td>86.0</td>\n",
       "      <td>41.546512</td>\n",
       "      <td>24.686580</td>\n",
       "      <td>10.0</td>\n",
       "      <td>25.00</td>\n",
       "      <td>35.5</td>\n",
       "      <td>50.00</td>\n",
       "      <td>120.0</td>\n",
       "    </tr>\n",
       "    <tr>\n",
       "      <th>Bordeaux-style White Blend</th>\n",
       "      <td>1.0</td>\n",
       "      <td>83.000000</td>\n",
       "      <td>NaN</td>\n",
       "      <td>83.0</td>\n",
       "      <td>83.00</td>\n",
       "      <td>83.0</td>\n",
       "      <td>83.00</td>\n",
       "      <td>83.0</td>\n",
       "      <td>1.0</td>\n",
       "      <td>14.000000</td>\n",
       "      <td>NaN</td>\n",
       "      <td>14.0</td>\n",
       "      <td>14.00</td>\n",
       "      <td>14.0</td>\n",
       "      <td>14.00</td>\n",
       "      <td>14.0</td>\n",
       "    </tr>\n",
       "    <tr>\n",
       "      <th>Cabernet Blend</th>\n",
       "      <td>8.0</td>\n",
       "      <td>88.250000</td>\n",
       "      <td>2.549510</td>\n",
       "      <td>85.0</td>\n",
       "      <td>86.75</td>\n",
       "      <td>88.0</td>\n",
       "      <td>89.25</td>\n",
       "      <td>93.0</td>\n",
       "      <td>8.0</td>\n",
       "      <td>36.250000</td>\n",
       "      <td>24.852422</td>\n",
       "      <td>17.0</td>\n",
       "      <td>24.75</td>\n",
       "      <td>30.0</td>\n",
       "      <td>35.75</td>\n",
       "      <td>95.0</td>\n",
       "    </tr>\n",
       "    <tr>\n",
       "      <th>...</th>\n",
       "      <th>...</th>\n",
       "      <td>...</td>\n",
       "      <td>...</td>\n",
       "      <td>...</td>\n",
       "      <td>...</td>\n",
       "      <td>...</td>\n",
       "      <td>...</td>\n",
       "      <td>...</td>\n",
       "      <td>...</td>\n",
       "      <td>...</td>\n",
       "      <td>...</td>\n",
       "      <td>...</td>\n",
       "      <td>...</td>\n",
       "      <td>...</td>\n",
       "      <td>...</td>\n",
       "      <td>...</td>\n",
       "      <td>...</td>\n",
       "    </tr>\n",
       "    <tr>\n",
       "      <th rowspan=\"5\" valign=\"top\">Uruguay</th>\n",
       "      <th>Tannat-Cabernet Franc</th>\n",
       "      <td>2.0</td>\n",
       "      <td>90.000000</td>\n",
       "      <td>1.414214</td>\n",
       "      <td>89.0</td>\n",
       "      <td>89.50</td>\n",
       "      <td>90.0</td>\n",
       "      <td>90.50</td>\n",
       "      <td>91.0</td>\n",
       "      <td>2.0</td>\n",
       "      <td>19.000000</td>\n",
       "      <td>4.242641</td>\n",
       "      <td>16.0</td>\n",
       "      <td>17.50</td>\n",
       "      <td>19.0</td>\n",
       "      <td>20.50</td>\n",
       "      <td>22.0</td>\n",
       "    </tr>\n",
       "    <tr>\n",
       "      <th>Tannat-Merlot</th>\n",
       "      <td>6.0</td>\n",
       "      <td>86.500000</td>\n",
       "      <td>1.048809</td>\n",
       "      <td>85.0</td>\n",
       "      <td>86.00</td>\n",
       "      <td>86.5</td>\n",
       "      <td>87.00</td>\n",
       "      <td>88.0</td>\n",
       "      <td>6.0</td>\n",
       "      <td>17.666667</td>\n",
       "      <td>6.860515</td>\n",
       "      <td>12.0</td>\n",
       "      <td>13.00</td>\n",
       "      <td>14.5</td>\n",
       "      <td>21.25</td>\n",
       "      <td>29.0</td>\n",
       "    </tr>\n",
       "    <tr>\n",
       "      <th>Tannat-Syrah</th>\n",
       "      <td>1.0</td>\n",
       "      <td>84.000000</td>\n",
       "      <td>NaN</td>\n",
       "      <td>84.0</td>\n",
       "      <td>84.00</td>\n",
       "      <td>84.0</td>\n",
       "      <td>84.00</td>\n",
       "      <td>84.0</td>\n",
       "      <td>1.0</td>\n",
       "      <td>16.000000</td>\n",
       "      <td>NaN</td>\n",
       "      <td>16.0</td>\n",
       "      <td>16.00</td>\n",
       "      <td>16.0</td>\n",
       "      <td>16.00</td>\n",
       "      <td>16.0</td>\n",
       "    </tr>\n",
       "    <tr>\n",
       "      <th>Albariño</th>\n",
       "      <td>6.0</td>\n",
       "      <td>87.333333</td>\n",
       "      <td>2.581989</td>\n",
       "      <td>85.0</td>\n",
       "      <td>85.25</td>\n",
       "      <td>86.5</td>\n",
       "      <td>89.25</td>\n",
       "      <td>91.0</td>\n",
       "      <td>6.0</td>\n",
       "      <td>22.333333</td>\n",
       "      <td>4.131182</td>\n",
       "      <td>17.0</td>\n",
       "      <td>19.00</td>\n",
       "      <td>25.0</td>\n",
       "      <td>25.00</td>\n",
       "      <td>25.0</td>\n",
       "    </tr>\n",
       "    <tr>\n",
       "      <th>Tempranillo-Tannat</th>\n",
       "      <td>1.0</td>\n",
       "      <td>88.000000</td>\n",
       "      <td>NaN</td>\n",
       "      <td>88.0</td>\n",
       "      <td>88.00</td>\n",
       "      <td>88.0</td>\n",
       "      <td>88.00</td>\n",
       "      <td>88.0</td>\n",
       "      <td>1.0</td>\n",
       "      <td>20.000000</td>\n",
       "      <td>NaN</td>\n",
       "      <td>20.0</td>\n",
       "      <td>20.00</td>\n",
       "      <td>20.0</td>\n",
       "      <td>20.00</td>\n",
       "      <td>20.0</td>\n",
       "    </tr>\n",
       "  </tbody>\n",
       "</table>\n",
       "<p>1612 rows × 16 columns</p>\n",
       "</div>"
      ],
      "text/plain": [
       "                                     points                                    \\\n",
       "                                      count       mean       std   min    25%   \n",
       "country   variety                                                               \n",
       "Argentina Barbera                       1.0  85.000000       NaN  85.0  85.00   \n",
       "          Bonarda                     105.0  86.504762  2.587410  80.0  85.00   \n",
       "          Bordeaux-style Red Blend     89.0  89.820225  2.990750  81.0  88.00   \n",
       "          Bordeaux-style White Blend    1.0  83.000000       NaN  83.0  83.00   \n",
       "          Cabernet Blend                8.0  88.250000  2.549510  85.0  86.75   \n",
       "...                                     ...        ...       ...   ...    ...   \n",
       "Uruguay   Tannat-Cabernet Franc         2.0  90.000000  1.414214  89.0  89.50   \n",
       "          Tannat-Merlot                 6.0  86.500000  1.048809  85.0  86.00   \n",
       "          Tannat-Syrah                  1.0  84.000000       NaN  84.0  84.00   \n",
       "          Albariño                      6.0  87.333333  2.581989  85.0  85.25   \n",
       "          Tempranillo-Tannat            1.0  88.000000       NaN  88.0  88.00   \n",
       "\n",
       "                                                         price             \\\n",
       "                                       50%    75%   max  count       mean   \n",
       "country   variety                                                           \n",
       "Argentina Barbera                     85.0  85.00  85.0    1.0  18.000000   \n",
       "          Bonarda                     87.0  89.00  92.0  105.0  16.628571   \n",
       "          Bordeaux-style Red Blend    91.0  92.00  96.0   86.0  41.546512   \n",
       "          Bordeaux-style White Blend  83.0  83.00  83.0    1.0  14.000000   \n",
       "          Cabernet Blend              88.0  89.25  93.0    8.0  36.250000   \n",
       "...                                    ...    ...   ...    ...        ...   \n",
       "Uruguay   Tannat-Cabernet Franc       90.0  90.50  91.0    2.0  19.000000   \n",
       "          Tannat-Merlot               86.5  87.00  88.0    6.0  17.666667   \n",
       "          Tannat-Syrah                84.0  84.00  84.0    1.0  16.000000   \n",
       "          Albariño                    86.5  89.25  91.0    6.0  22.333333   \n",
       "          Tempranillo-Tannat          88.0  88.00  88.0    1.0  20.000000   \n",
       "\n",
       "                                                                           \\\n",
       "                                            std   min    25%   50%    75%   \n",
       "country   variety                                                           \n",
       "Argentina Barbera                           NaN  18.0  18.00  18.0  18.00   \n",
       "          Bonarda                      6.367370   9.0  13.00  15.0  18.00   \n",
       "          Bordeaux-style Red Blend    24.686580  10.0  25.00  35.5  50.00   \n",
       "          Bordeaux-style White Blend        NaN  14.0  14.00  14.0  14.00   \n",
       "          Cabernet Blend              24.852422  17.0  24.75  30.0  35.75   \n",
       "...                                         ...   ...    ...   ...    ...   \n",
       "Uruguay   Tannat-Cabernet Franc        4.242641  16.0  17.50  19.0  20.50   \n",
       "          Tannat-Merlot                6.860515  12.0  13.00  14.5  21.25   \n",
       "          Tannat-Syrah                      NaN  16.0  16.00  16.0  16.00   \n",
       "          Albariño                     4.131182  17.0  19.00  25.0  25.00   \n",
       "          Tempranillo-Tannat                NaN  20.0  20.00  20.0  20.00   \n",
       "\n",
       "                                             \n",
       "                                        max  \n",
       "country   variety                            \n",
       "Argentina Barbera                      18.0  \n",
       "          Bonarda                      40.0  \n",
       "          Bordeaux-style Red Blend    120.0  \n",
       "          Bordeaux-style White Blend   14.0  \n",
       "          Cabernet Blend               95.0  \n",
       "...                                     ...  \n",
       "Uruguay   Tannat-Cabernet Franc        22.0  \n",
       "          Tannat-Merlot                29.0  \n",
       "          Tannat-Syrah                 16.0  \n",
       "          Albariño                     25.0  \n",
       "          Tempranillo-Tannat           20.0  \n",
       "\n",
       "[1612 rows x 16 columns]"
      ]
     },
     "execution_count": 20,
     "metadata": {},
     "output_type": "execute_result"
    }
   ],
   "source": [
    "reviews.groupby(['country', 'variety']).describe()"
   ]
  },
  {
   "cell_type": "code",
   "execution_count": 21,
   "id": "583835dd",
   "metadata": {
    "execution": {
     "iopub.execute_input": "2022-04-23T15:31:10.441019Z",
     "iopub.status.busy": "2022-04-23T15:31:10.440567Z",
     "iopub.status.idle": "2022-04-23T15:31:10.501146Z",
     "shell.execute_reply": "2022-04-23T15:31:10.500332Z"
    },
    "papermill": {
     "duration": 0.105209,
     "end_time": "2022-04-23T15:31:10.503180",
     "exception": false,
     "start_time": "2022-04-23T15:31:10.397971",
     "status": "completed"
    },
    "tags": []
   },
   "outputs": [
    {
     "data": {
      "text/plain": [
       "country  variety                 \n",
       "US       Pinot Noir                  9885\n",
       "         Cabernet Sauvignon          7315\n",
       "         Chardonnay                  6801\n",
       "France   Bordeaux-style Red Blend    4725\n",
       "Italy    Red Blend                   3624\n",
       "                                     ... \n",
       "Mexico   Cinsault                       1\n",
       "         Grenache                       1\n",
       "         Merlot                         1\n",
       "         Rosado                         1\n",
       "Uruguay  White Blend                    1\n",
       "Name: variety, Length: 1612, dtype: int64"
      ]
     },
     "execution_count": 21,
     "metadata": {},
     "output_type": "execute_result"
    }
   ],
   "source": [
    "reviews.groupby(['country', 'variety']).variety.count().sort_values(ascending=False)"
   ]
  },
  {
   "cell_type": "code",
   "execution_count": 22,
   "id": "b3c3b5fd",
   "metadata": {
    "execution": {
     "iopub.execute_input": "2022-04-23T15:31:10.588555Z",
     "iopub.status.busy": "2022-04-23T15:31:10.588140Z",
     "iopub.status.idle": "2022-04-23T15:31:10.648197Z",
     "shell.execute_reply": "2022-04-23T15:31:10.647391Z"
    },
    "papermill": {
     "duration": 0.104992,
     "end_time": "2022-04-23T15:31:10.650198",
     "exception": false,
     "start_time": "2022-04-23T15:31:10.545206",
     "status": "completed"
    },
    "tags": []
   },
   "outputs": [
    {
     "data": {
      "application/javascript": [
       "parent.postMessage({\"jupyterEvent\": \"custom.exercise_interaction\", \"data\": {\"outcomeType\": 1, \"valueTowardsCompletion\": 0.16666666666666666, \"interactionType\": 1, \"questionType\": 1, \"questionId\": \"6_GroupbyCountryVariety\", \"learnToolsVersion\": \"0.3.4\", \"failureMessage\": \"\", \"exceptionClass\": \"\", \"trace\": \"\"}}, \"*\")"
      ],
      "text/plain": [
       "<IPython.core.display.Javascript object>"
      ]
     },
     "metadata": {},
     "output_type": "display_data"
    },
    {
     "data": {
      "text/markdown": [
       "<span style=\"color:#33cc33\">Correct</span>"
      ],
      "text/plain": [
       "Correct"
      ]
     },
     "metadata": {},
     "output_type": "display_data"
    }
   ],
   "source": [
    "country_variety_counts = reviews.groupby(['country', 'variety']).variety.count().sort_values(ascending=False)\n",
    "\n",
    "# Check your answer\n",
    "q6.check()"
   ]
  },
  {
   "cell_type": "code",
   "execution_count": 23,
   "id": "ecb296f7",
   "metadata": {
    "execution": {
     "iopub.execute_input": "2022-04-23T15:31:10.737905Z",
     "iopub.status.busy": "2022-04-23T15:31:10.737504Z",
     "iopub.status.idle": "2022-04-23T15:31:10.740734Z",
     "shell.execute_reply": "2022-04-23T15:31:10.740168Z"
    },
    "papermill": {
     "duration": 0.049538,
     "end_time": "2022-04-23T15:31:10.742458",
     "exception": false,
     "start_time": "2022-04-23T15:31:10.692920",
     "status": "completed"
    },
    "tags": []
   },
   "outputs": [],
   "source": [
    "#q6.hint()\n",
    "#q6.solution()"
   ]
  },
  {
   "cell_type": "markdown",
   "id": "57ef8bae",
   "metadata": {
    "papermill": {
     "duration": 0.04325,
     "end_time": "2022-04-23T15:31:10.829294",
     "exception": false,
     "start_time": "2022-04-23T15:31:10.786044",
     "status": "completed"
    },
    "tags": []
   },
   "source": [
    "# Keep going\n",
    "\n",
    "Move on to the [**data types and missing data**](https://www.kaggle.com/residentmario/data-types-and-missing-values)."
   ]
  },
  {
   "cell_type": "markdown",
   "id": "2d199f11",
   "metadata": {
    "papermill": {
     "duration": 0.043107,
     "end_time": "2022-04-23T15:31:10.917017",
     "exception": false,
     "start_time": "2022-04-23T15:31:10.873910",
     "status": "completed"
    },
    "tags": []
   },
   "source": [
    "---\n",
    "\n",
    "\n",
    "\n",
    "\n",
    "*Have questions or comments? Visit the [course discussion forum](https://www.kaggle.com/learn/pandas/discussion) to chat with other learners.*"
   ]
  }
 ],
 "metadata": {
  "kernelspec": {
   "display_name": "Python 3",
   "language": "python",
   "name": "python3"
  },
  "language_info": {
   "codemirror_mode": {
    "name": "ipython",
    "version": 3
   },
   "file_extension": ".py",
   "mimetype": "text/x-python",
   "name": "python",
   "nbconvert_exporter": "python",
   "pygments_lexer": "ipython3",
   "version": "3.7.12"
  },
  "papermill": {
   "default_parameters": {},
   "duration": 25.590032,
   "end_time": "2022-04-23T15:31:11.682410",
   "environment_variables": {},
   "exception": null,
   "input_path": "__notebook__.ipynb",
   "output_path": "__notebook__.ipynb",
   "parameters": {},
   "start_time": "2022-04-23T15:30:46.092378",
   "version": "2.3.4"
  }
 },
 "nbformat": 4,
 "nbformat_minor": 5
}
