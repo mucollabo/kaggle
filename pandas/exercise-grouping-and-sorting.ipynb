{
 "cells": [
  {
   "cell_type": "markdown",
   "id": "32cbfbd0",
   "metadata": {
    "papermill": {
     "duration": 0.035058,
     "end_time": "2022-04-23T14:57:30.326027",
     "exception": false,
     "start_time": "2022-04-23T14:57:30.290969",
     "status": "completed"
    },
    "tags": []
   },
   "source": [
    "**This notebook is an exercise in the [Pandas](https://www.kaggle.com/learn/pandas) course.  You can reference the tutorial at [this link](https://www.kaggle.com/residentmario/grouping-and-sorting).**\n",
    "\n",
    "---\n"
   ]
  },
  {
   "cell_type": "markdown",
   "id": "b8bb269f",
   "metadata": {
    "papermill": {
     "duration": 0.027274,
     "end_time": "2022-04-23T14:57:30.382020",
     "exception": false,
     "start_time": "2022-04-23T14:57:30.354746",
     "status": "completed"
    },
    "tags": []
   },
   "source": [
    "# Introduction\n",
    "\n",
    "In these exercises we'll apply groupwise analysis to our dataset.\n",
    "\n",
    "Run the code cell below to load the data before running the exercises."
   ]
  },
  {
   "cell_type": "code",
   "execution_count": 1,
   "id": "a3abfc70",
   "metadata": {
    "execution": {
     "iopub.execute_input": "2022-04-23T14:57:30.444955Z",
     "iopub.status.busy": "2022-04-23T14:57:30.444509Z",
     "iopub.status.idle": "2022-04-23T14:57:33.308269Z",
     "shell.execute_reply": "2022-04-23T14:57:33.307392Z"
    },
    "papermill": {
     "duration": 2.89618,
     "end_time": "2022-04-23T14:57:33.311469",
     "exception": false,
     "start_time": "2022-04-23T14:57:30.415289",
     "status": "completed"
    },
    "tags": []
   },
   "outputs": [
    {
     "name": "stdout",
     "output_type": "stream",
     "text": [
      "Setup complete.\n"
     ]
    }
   ],
   "source": [
    "import pandas as pd\n",
    "\n",
    "reviews = pd.read_csv(\"../input/wine-reviews/winemag-data-130k-v2.csv\", index_col=0)\n",
    "#pd.set_option(\"display.max_rows\", 5)\n",
    "\n",
    "from learntools.core import binder; binder.bind(globals())\n",
    "from learntools.pandas.grouping_and_sorting import *\n",
    "print(\"Setup complete.\")"
   ]
  },
  {
   "cell_type": "markdown",
   "id": "730b9b04",
   "metadata": {
    "papermill": {
     "duration": 0.027794,
     "end_time": "2022-04-23T14:57:33.369280",
     "exception": false,
     "start_time": "2022-04-23T14:57:33.341486",
     "status": "completed"
    },
    "tags": []
   },
   "source": [
    "# Exercises"
   ]
  },
  {
   "cell_type": "markdown",
   "id": "e686ec7b",
   "metadata": {
    "papermill": {
     "duration": 0.028155,
     "end_time": "2022-04-23T14:57:33.425971",
     "exception": false,
     "start_time": "2022-04-23T14:57:33.397816",
     "status": "completed"
    },
    "tags": []
   },
   "source": [
    "## 1.\n",
    "Who are the most common wine reviewers in the dataset? Create a `Series` whose index is the `taster_twitter_handle` category from the dataset, and whose values count how many reviews each person wrote."
   ]
  },
  {
   "cell_type": "code",
   "execution_count": 2,
   "id": "55dc5420",
   "metadata": {
    "execution": {
     "iopub.execute_input": "2022-04-23T14:57:33.483708Z",
     "iopub.status.busy": "2022-04-23T14:57:33.483227Z",
     "iopub.status.idle": "2022-04-23T14:57:33.490564Z",
     "shell.execute_reply": "2022-04-23T14:57:33.490015Z"
    },
    "papermill": {
     "duration": 0.038384,
     "end_time": "2022-04-23T14:57:33.492268",
     "exception": false,
     "start_time": "2022-04-23T14:57:33.453884",
     "status": "completed"
    },
    "tags": []
   },
   "outputs": [
    {
     "data": {
      "text/plain": [
       "Index(['country', 'description', 'designation', 'points', 'price', 'province',\n",
       "       'region_1', 'region_2', 'taster_name', 'taster_twitter_handle', 'title',\n",
       "       'variety', 'winery'],\n",
       "      dtype='object')"
      ]
     },
     "execution_count": 2,
     "metadata": {},
     "output_type": "execute_result"
    }
   ],
   "source": [
    "reviews.columns"
   ]
  },
  {
   "cell_type": "code",
   "execution_count": 3,
   "id": "dbcae32d",
   "metadata": {
    "execution": {
     "iopub.execute_input": "2022-04-23T14:57:33.552548Z",
     "iopub.status.busy": "2022-04-23T14:57:33.552150Z",
     "iopub.status.idle": "2022-04-23T14:57:33.558654Z",
     "shell.execute_reply": "2022-04-23T14:57:33.557955Z"
    },
    "papermill": {
     "duration": 0.039871,
     "end_time": "2022-04-23T14:57:33.560465",
     "exception": false,
     "start_time": "2022-04-23T14:57:33.520594",
     "status": "completed"
    },
    "tags": []
   },
   "outputs": [
    {
     "data": {
      "text/plain": [
       "0    @kerinokeefe\n",
       "1      @vossroger\n",
       "2     @paulgwine \n",
       "3             NaN\n",
       "4     @paulgwine \n",
       "Name: taster_twitter_handle, dtype: object"
      ]
     },
     "execution_count": 3,
     "metadata": {},
     "output_type": "execute_result"
    }
   ],
   "source": [
    "reviews.taster_twitter_handle.head()"
   ]
  },
  {
   "cell_type": "code",
   "execution_count": 4,
   "id": "8ab33567",
   "metadata": {
    "execution": {
     "iopub.execute_input": "2022-04-23T14:57:33.619489Z",
     "iopub.status.busy": "2022-04-23T14:57:33.619082Z",
     "iopub.status.idle": "2022-04-23T14:57:33.839022Z",
     "shell.execute_reply": "2022-04-23T14:57:33.838210Z"
    },
    "papermill": {
     "duration": 0.252494,
     "end_time": "2022-04-23T14:57:33.841743",
     "exception": false,
     "start_time": "2022-04-23T14:57:33.589249",
     "status": "completed"
    },
    "tags": []
   },
   "outputs": [
    {
     "data": {
      "text/html": [
       "<div>\n",
       "<style scoped>\n",
       "    .dataframe tbody tr th:only-of-type {\n",
       "        vertical-align: middle;\n",
       "    }\n",
       "\n",
       "    .dataframe tbody tr th {\n",
       "        vertical-align: top;\n",
       "    }\n",
       "\n",
       "    .dataframe thead tr th {\n",
       "        text-align: left;\n",
       "    }\n",
       "\n",
       "    .dataframe thead tr:last-of-type th {\n",
       "        text-align: right;\n",
       "    }\n",
       "</style>\n",
       "<table border=\"1\" class=\"dataframe\">\n",
       "  <thead>\n",
       "    <tr>\n",
       "      <th></th>\n",
       "      <th colspan=\"8\" halign=\"left\">points</th>\n",
       "      <th colspan=\"8\" halign=\"left\">price</th>\n",
       "    </tr>\n",
       "    <tr>\n",
       "      <th></th>\n",
       "      <th>count</th>\n",
       "      <th>mean</th>\n",
       "      <th>std</th>\n",
       "      <th>min</th>\n",
       "      <th>25%</th>\n",
       "      <th>50%</th>\n",
       "      <th>75%</th>\n",
       "      <th>max</th>\n",
       "      <th>count</th>\n",
       "      <th>mean</th>\n",
       "      <th>std</th>\n",
       "      <th>min</th>\n",
       "      <th>25%</th>\n",
       "      <th>50%</th>\n",
       "      <th>75%</th>\n",
       "      <th>max</th>\n",
       "    </tr>\n",
       "    <tr>\n",
       "      <th>taster_twitter_handle</th>\n",
       "      <th></th>\n",
       "      <th></th>\n",
       "      <th></th>\n",
       "      <th></th>\n",
       "      <th></th>\n",
       "      <th></th>\n",
       "      <th></th>\n",
       "      <th></th>\n",
       "      <th></th>\n",
       "      <th></th>\n",
       "      <th></th>\n",
       "      <th></th>\n",
       "      <th></th>\n",
       "      <th></th>\n",
       "      <th></th>\n",
       "      <th></th>\n",
       "    </tr>\n",
       "  </thead>\n",
       "  <tbody>\n",
       "    <tr>\n",
       "      <th>@AnneInVino</th>\n",
       "      <td>3685.0</td>\n",
       "      <td>90.562551</td>\n",
       "      <td>2.373100</td>\n",
       "      <td>80.0</td>\n",
       "      <td>89.0</td>\n",
       "      <td>90.0</td>\n",
       "      <td>92.0</td>\n",
       "      <td>97.0</td>\n",
       "      <td>3398.0</td>\n",
       "      <td>31.230135</td>\n",
       "      <td>25.295871</td>\n",
       "      <td>10.0</td>\n",
       "      <td>19.0</td>\n",
       "      <td>25.0</td>\n",
       "      <td>38.00</td>\n",
       "      <td>1100.0</td>\n",
       "    </tr>\n",
       "    <tr>\n",
       "      <th>@JoeCz</th>\n",
       "      <td>5147.0</td>\n",
       "      <td>88.536235</td>\n",
       "      <td>2.858701</td>\n",
       "      <td>80.0</td>\n",
       "      <td>87.0</td>\n",
       "      <td>89.0</td>\n",
       "      <td>91.0</td>\n",
       "      <td>100.0</td>\n",
       "      <td>5012.0</td>\n",
       "      <td>35.175579</td>\n",
       "      <td>44.434444</td>\n",
       "      <td>5.0</td>\n",
       "      <td>16.0</td>\n",
       "      <td>22.0</td>\n",
       "      <td>40.00</td>\n",
       "      <td>850.0</td>\n",
       "    </tr>\n",
       "    <tr>\n",
       "      <th>@bkfiona</th>\n",
       "      <td>27.0</td>\n",
       "      <td>86.888889</td>\n",
       "      <td>1.739437</td>\n",
       "      <td>82.0</td>\n",
       "      <td>86.0</td>\n",
       "      <td>87.0</td>\n",
       "      <td>88.0</td>\n",
       "      <td>91.0</td>\n",
       "      <td>27.0</td>\n",
       "      <td>31.148148</td>\n",
       "      <td>16.154789</td>\n",
       "      <td>17.0</td>\n",
       "      <td>22.5</td>\n",
       "      <td>27.0</td>\n",
       "      <td>35.00</td>\n",
       "      <td>80.0</td>\n",
       "    </tr>\n",
       "    <tr>\n",
       "      <th>@gordone_cellars</th>\n",
       "      <td>4177.0</td>\n",
       "      <td>88.626287</td>\n",
       "      <td>2.698341</td>\n",
       "      <td>80.0</td>\n",
       "      <td>87.0</td>\n",
       "      <td>89.0</td>\n",
       "      <td>91.0</td>\n",
       "      <td>97.0</td>\n",
       "      <td>4171.0</td>\n",
       "      <td>26.935507</td>\n",
       "      <td>17.475901</td>\n",
       "      <td>4.0</td>\n",
       "      <td>15.0</td>\n",
       "      <td>23.0</td>\n",
       "      <td>32.00</td>\n",
       "      <td>220.0</td>\n",
       "    </tr>\n",
       "    <tr>\n",
       "      <th>@kerinokeefe</th>\n",
       "      <td>10776.0</td>\n",
       "      <td>88.867947</td>\n",
       "      <td>2.474240</td>\n",
       "      <td>80.0</td>\n",
       "      <td>87.0</td>\n",
       "      <td>89.0</td>\n",
       "      <td>90.0</td>\n",
       "      <td>100.0</td>\n",
       "      <td>9874.0</td>\n",
       "      <td>41.953413</td>\n",
       "      <td>38.727135</td>\n",
       "      <td>6.0</td>\n",
       "      <td>20.0</td>\n",
       "      <td>30.0</td>\n",
       "      <td>50.00</td>\n",
       "      <td>800.0</td>\n",
       "    </tr>\n",
       "    <tr>\n",
       "      <th>@laurbuzz</th>\n",
       "      <td>1835.0</td>\n",
       "      <td>87.739510</td>\n",
       "      <td>2.530672</td>\n",
       "      <td>81.0</td>\n",
       "      <td>86.0</td>\n",
       "      <td>88.0</td>\n",
       "      <td>90.0</td>\n",
       "      <td>95.0</td>\n",
       "      <td>1713.0</td>\n",
       "      <td>24.492703</td>\n",
       "      <td>21.967640</td>\n",
       "      <td>5.0</td>\n",
       "      <td>13.0</td>\n",
       "      <td>18.0</td>\n",
       "      <td>28.00</td>\n",
       "      <td>350.0</td>\n",
       "    </tr>\n",
       "    <tr>\n",
       "      <th>@mattkettmann</th>\n",
       "      <td>6332.0</td>\n",
       "      <td>90.008686</td>\n",
       "      <td>2.571257</td>\n",
       "      <td>81.0</td>\n",
       "      <td>88.0</td>\n",
       "      <td>90.0</td>\n",
       "      <td>92.0</td>\n",
       "      <td>97.0</td>\n",
       "      <td>6237.0</td>\n",
       "      <td>38.642136</td>\n",
       "      <td>31.994921</td>\n",
       "      <td>7.0</td>\n",
       "      <td>25.0</td>\n",
       "      <td>35.0</td>\n",
       "      <td>48.00</td>\n",
       "      <td>2013.0</td>\n",
       "    </tr>\n",
       "    <tr>\n",
       "      <th>@paulgwine</th>\n",
       "      <td>9532.0</td>\n",
       "      <td>89.082564</td>\n",
       "      <td>2.814445</td>\n",
       "      <td>80.0</td>\n",
       "      <td>87.0</td>\n",
       "      <td>89.0</td>\n",
       "      <td>91.0</td>\n",
       "      <td>100.0</td>\n",
       "      <td>9498.0</td>\n",
       "      <td>33.644873</td>\n",
       "      <td>18.936484</td>\n",
       "      <td>5.0</td>\n",
       "      <td>20.0</td>\n",
       "      <td>29.0</td>\n",
       "      <td>42.00</td>\n",
       "      <td>275.0</td>\n",
       "    </tr>\n",
       "    <tr>\n",
       "      <th>@suskostrzewa</th>\n",
       "      <td>1085.0</td>\n",
       "      <td>86.609217</td>\n",
       "      <td>2.376140</td>\n",
       "      <td>80.0</td>\n",
       "      <td>85.0</td>\n",
       "      <td>87.0</td>\n",
       "      <td>88.0</td>\n",
       "      <td>94.0</td>\n",
       "      <td>1073.0</td>\n",
       "      <td>22.908667</td>\n",
       "      <td>17.311163</td>\n",
       "      <td>7.0</td>\n",
       "      <td>14.0</td>\n",
       "      <td>19.0</td>\n",
       "      <td>26.00</td>\n",
       "      <td>320.0</td>\n",
       "    </tr>\n",
       "    <tr>\n",
       "      <th>@vboone</th>\n",
       "      <td>9537.0</td>\n",
       "      <td>89.213379</td>\n",
       "      <td>2.996796</td>\n",
       "      <td>80.0</td>\n",
       "      <td>87.0</td>\n",
       "      <td>90.0</td>\n",
       "      <td>91.0</td>\n",
       "      <td>99.0</td>\n",
       "      <td>9507.0</td>\n",
       "      <td>46.621963</td>\n",
       "      <td>32.655537</td>\n",
       "      <td>7.0</td>\n",
       "      <td>25.0</td>\n",
       "      <td>39.0</td>\n",
       "      <td>56.00</td>\n",
       "      <td>625.0</td>\n",
       "    </tr>\n",
       "    <tr>\n",
       "      <th>@vossroger</th>\n",
       "      <td>25514.0</td>\n",
       "      <td>88.708003</td>\n",
       "      <td>3.036373</td>\n",
       "      <td>80.0</td>\n",
       "      <td>86.0</td>\n",
       "      <td>88.0</td>\n",
       "      <td>91.0</td>\n",
       "      <td>100.0</td>\n",
       "      <td>20172.0</td>\n",
       "      <td>38.649960</td>\n",
       "      <td>71.540473</td>\n",
       "      <td>5.0</td>\n",
       "      <td>15.0</td>\n",
       "      <td>22.0</td>\n",
       "      <td>40.00</td>\n",
       "      <td>3300.0</td>\n",
       "    </tr>\n",
       "    <tr>\n",
       "      <th>@wawinereport</th>\n",
       "      <td>4966.0</td>\n",
       "      <td>88.755739</td>\n",
       "      <td>2.458547</td>\n",
       "      <td>80.0</td>\n",
       "      <td>87.0</td>\n",
       "      <td>89.0</td>\n",
       "      <td>91.0</td>\n",
       "      <td>97.0</td>\n",
       "      <td>4925.0</td>\n",
       "      <td>34.085888</td>\n",
       "      <td>20.029977</td>\n",
       "      <td>6.0</td>\n",
       "      <td>20.0</td>\n",
       "      <td>30.0</td>\n",
       "      <td>42.00</td>\n",
       "      <td>240.0</td>\n",
       "    </tr>\n",
       "    <tr>\n",
       "      <th>@wineschach</th>\n",
       "      <td>15134.0</td>\n",
       "      <td>86.907493</td>\n",
       "      <td>3.022859</td>\n",
       "      <td>80.0</td>\n",
       "      <td>85.0</td>\n",
       "      <td>87.0</td>\n",
       "      <td>89.0</td>\n",
       "      <td>98.0</td>\n",
       "      <td>14951.0</td>\n",
       "      <td>25.231155</td>\n",
       "      <td>28.723655</td>\n",
       "      <td>4.0</td>\n",
       "      <td>12.0</td>\n",
       "      <td>17.0</td>\n",
       "      <td>25.00</td>\n",
       "      <td>770.0</td>\n",
       "    </tr>\n",
       "    <tr>\n",
       "      <th>@winewchristina</th>\n",
       "      <td>6.0</td>\n",
       "      <td>87.833333</td>\n",
       "      <td>3.600926</td>\n",
       "      <td>82.0</td>\n",
       "      <td>87.0</td>\n",
       "      <td>88.0</td>\n",
       "      <td>89.0</td>\n",
       "      <td>93.0</td>\n",
       "      <td>6.0</td>\n",
       "      <td>29.333333</td>\n",
       "      <td>11.165423</td>\n",
       "      <td>19.0</td>\n",
       "      <td>22.0</td>\n",
       "      <td>28.5</td>\n",
       "      <td>29.75</td>\n",
       "      <td>50.0</td>\n",
       "    </tr>\n",
       "    <tr>\n",
       "      <th>@worldwineguys</th>\n",
       "      <td>1005.0</td>\n",
       "      <td>88.719403</td>\n",
       "      <td>2.044055</td>\n",
       "      <td>82.0</td>\n",
       "      <td>88.0</td>\n",
       "      <td>89.0</td>\n",
       "      <td>90.0</td>\n",
       "      <td>97.0</td>\n",
       "      <td>995.0</td>\n",
       "      <td>25.238191</td>\n",
       "      <td>19.984364</td>\n",
       "      <td>6.0</td>\n",
       "      <td>15.0</td>\n",
       "      <td>20.0</td>\n",
       "      <td>30.00</td>\n",
       "      <td>320.0</td>\n",
       "    </tr>\n",
       "  </tbody>\n",
       "</table>\n",
       "</div>"
      ],
      "text/plain": [
       "                        points                                               \\\n",
       "                         count       mean       std   min   25%   50%   75%   \n",
       "taster_twitter_handle                                                         \n",
       "@AnneInVino             3685.0  90.562551  2.373100  80.0  89.0  90.0  92.0   \n",
       "@JoeCz                  5147.0  88.536235  2.858701  80.0  87.0  89.0  91.0   \n",
       "@bkfiona                  27.0  86.888889  1.739437  82.0  86.0  87.0  88.0   \n",
       "@gordone_cellars        4177.0  88.626287  2.698341  80.0  87.0  89.0  91.0   \n",
       "@kerinokeefe           10776.0  88.867947  2.474240  80.0  87.0  89.0  90.0   \n",
       "@laurbuzz               1835.0  87.739510  2.530672  81.0  86.0  88.0  90.0   \n",
       "@mattkettmann           6332.0  90.008686  2.571257  81.0  88.0  90.0  92.0   \n",
       "@paulgwine              9532.0  89.082564  2.814445  80.0  87.0  89.0  91.0   \n",
       "@suskostrzewa           1085.0  86.609217  2.376140  80.0  85.0  87.0  88.0   \n",
       "@vboone                 9537.0  89.213379  2.996796  80.0  87.0  90.0  91.0   \n",
       "@vossroger             25514.0  88.708003  3.036373  80.0  86.0  88.0  91.0   \n",
       "@wawinereport           4966.0  88.755739  2.458547  80.0  87.0  89.0  91.0   \n",
       "@wineschach            15134.0  86.907493  3.022859  80.0  85.0  87.0  89.0   \n",
       "@winewchristina            6.0  87.833333  3.600926  82.0  87.0  88.0  89.0   \n",
       "@worldwineguys          1005.0  88.719403  2.044055  82.0  88.0  89.0  90.0   \n",
       "\n",
       "                                price                                          \\\n",
       "                         max    count       mean        std   min   25%   50%   \n",
       "taster_twitter_handle                                                           \n",
       "@AnneInVino             97.0   3398.0  31.230135  25.295871  10.0  19.0  25.0   \n",
       "@JoeCz                 100.0   5012.0  35.175579  44.434444   5.0  16.0  22.0   \n",
       "@bkfiona                91.0     27.0  31.148148  16.154789  17.0  22.5  27.0   \n",
       "@gordone_cellars        97.0   4171.0  26.935507  17.475901   4.0  15.0  23.0   \n",
       "@kerinokeefe           100.0   9874.0  41.953413  38.727135   6.0  20.0  30.0   \n",
       "@laurbuzz               95.0   1713.0  24.492703  21.967640   5.0  13.0  18.0   \n",
       "@mattkettmann           97.0   6237.0  38.642136  31.994921   7.0  25.0  35.0   \n",
       "@paulgwine             100.0   9498.0  33.644873  18.936484   5.0  20.0  29.0   \n",
       "@suskostrzewa           94.0   1073.0  22.908667  17.311163   7.0  14.0  19.0   \n",
       "@vboone                 99.0   9507.0  46.621963  32.655537   7.0  25.0  39.0   \n",
       "@vossroger             100.0  20172.0  38.649960  71.540473   5.0  15.0  22.0   \n",
       "@wawinereport           97.0   4925.0  34.085888  20.029977   6.0  20.0  30.0   \n",
       "@wineschach             98.0  14951.0  25.231155  28.723655   4.0  12.0  17.0   \n",
       "@winewchristina         93.0      6.0  29.333333  11.165423  19.0  22.0  28.5   \n",
       "@worldwineguys          97.0    995.0  25.238191  19.984364   6.0  15.0  20.0   \n",
       "\n",
       "                                      \n",
       "                         75%     max  \n",
       "taster_twitter_handle                 \n",
       "@AnneInVino            38.00  1100.0  \n",
       "@JoeCz                 40.00   850.0  \n",
       "@bkfiona               35.00    80.0  \n",
       "@gordone_cellars       32.00   220.0  \n",
       "@kerinokeefe           50.00   800.0  \n",
       "@laurbuzz              28.00   350.0  \n",
       "@mattkettmann          48.00  2013.0  \n",
       "@paulgwine             42.00   275.0  \n",
       "@suskostrzewa          26.00   320.0  \n",
       "@vboone                56.00   625.0  \n",
       "@vossroger             40.00  3300.0  \n",
       "@wawinereport          42.00   240.0  \n",
       "@wineschach            25.00   770.0  \n",
       "@winewchristina        29.75    50.0  \n",
       "@worldwineguys         30.00   320.0  "
      ]
     },
     "execution_count": 4,
     "metadata": {},
     "output_type": "execute_result"
    }
   ],
   "source": [
    "reviews.groupby('taster_twitter_handle').describe()"
   ]
  },
  {
   "cell_type": "code",
   "execution_count": 5,
   "id": "b1c6283c",
   "metadata": {
    "execution": {
     "iopub.execute_input": "2022-04-23T14:57:33.903315Z",
     "iopub.status.busy": "2022-04-23T14:57:33.902734Z",
     "iopub.status.idle": "2022-04-23T14:57:33.943319Z",
     "shell.execute_reply": "2022-04-23T14:57:33.942566Z"
    },
    "papermill": {
     "duration": 0.073559,
     "end_time": "2022-04-23T14:57:33.945350",
     "exception": false,
     "start_time": "2022-04-23T14:57:33.871791",
     "status": "completed"
    },
    "tags": []
   },
   "outputs": [
    {
     "data": {
      "application/javascript": [
       "parent.postMessage({\"jupyterEvent\": \"custom.exercise_interaction\", \"data\": {\"outcomeType\": 1, \"valueTowardsCompletion\": 0.16666666666666666, \"interactionType\": 1, \"questionType\": 1, \"questionId\": \"1_ReviewsWritten\", \"learnToolsVersion\": \"0.3.4\", \"failureMessage\": \"\", \"exceptionClass\": \"\", \"trace\": \"\"}}, \"*\")"
      ],
      "text/plain": [
       "<IPython.core.display.Javascript object>"
      ]
     },
     "metadata": {},
     "output_type": "display_data"
    },
    {
     "data": {
      "text/markdown": [
       "<span style=\"color:#33cc33\">Correct:</span> \n",
       "\n",
       "\n",
       "```python\n",
       "reviews_written = reviews.groupby('taster_twitter_handle').size()\n",
       "```\n",
       "or\n",
       "```python\n",
       "reviews_written = reviews.groupby('taster_twitter_handle').taster_twitter_handle.count()\n",
       "```\n"
      ],
      "text/plain": [
       "Correct: \n",
       "\n",
       "\n",
       "```python\n",
       "reviews_written = reviews.groupby('taster_twitter_handle').size()\n",
       "```\n",
       "or\n",
       "```python\n",
       "reviews_written = reviews.groupby('taster_twitter_handle').taster_twitter_handle.count()\n",
       "```"
      ]
     },
     "metadata": {},
     "output_type": "display_data"
    }
   ],
   "source": [
    "# Your code here\n",
    "reviews_written = reviews.groupby('taster_twitter_handle').taster_twitter_handle.count()\n",
    "\n",
    "# Check your answer\n",
    "q1.check()"
   ]
  },
  {
   "cell_type": "code",
   "execution_count": 6,
   "id": "be2abc07",
   "metadata": {
    "execution": {
     "iopub.execute_input": "2022-04-23T14:57:34.008765Z",
     "iopub.status.busy": "2022-04-23T14:57:34.008516Z",
     "iopub.status.idle": "2022-04-23T14:57:34.011318Z",
     "shell.execute_reply": "2022-04-23T14:57:34.010685Z"
    },
    "papermill": {
     "duration": 0.036725,
     "end_time": "2022-04-23T14:57:34.013026",
     "exception": false,
     "start_time": "2022-04-23T14:57:33.976301",
     "status": "completed"
    },
    "tags": []
   },
   "outputs": [],
   "source": [
    "#q1.hint()\n",
    "#q1.solution()"
   ]
  },
  {
   "cell_type": "markdown",
   "id": "b0ce0e34",
   "metadata": {
    "papermill": {
     "duration": 0.031698,
     "end_time": "2022-04-23T14:57:34.075794",
     "exception": false,
     "start_time": "2022-04-23T14:57:34.044096",
     "status": "completed"
    },
    "tags": []
   },
   "source": [
    "## 2.\n",
    "What is the best wine I can buy for a given amount of money? Create a `Series` whose index is wine prices and whose values is the maximum number of points a wine costing that much was given in a review. Sort the values by price, ascending (so that `4.0` dollars is at the top and `3300.0` dollars is at the bottom)."
   ]
  },
  {
   "cell_type": "code",
   "execution_count": 7,
   "id": "d6fe87ea",
   "metadata": {
    "execution": {
     "iopub.execute_input": "2022-04-23T14:57:34.140057Z",
     "iopub.status.busy": "2022-04-23T14:57:34.139561Z",
     "iopub.status.idle": "2022-04-23T14:57:34.150772Z",
     "shell.execute_reply": "2022-04-23T14:57:34.150208Z"
    },
    "papermill": {
     "duration": 0.04554,
     "end_time": "2022-04-23T14:57:34.152673",
     "exception": false,
     "start_time": "2022-04-23T14:57:34.107133",
     "status": "completed"
    },
    "tags": []
   },
   "outputs": [
    {
     "data": {
      "text/plain": [
       "price\n",
       "4.0       86\n",
       "5.0       87\n",
       "6.0       88\n",
       "7.0       91\n",
       "8.0       91\n",
       "          ..\n",
       "1900.0    98\n",
       "2000.0    97\n",
       "2013.0    91\n",
       "2500.0    96\n",
       "3300.0    88\n",
       "Name: points, Length: 390, dtype: int64"
      ]
     },
     "execution_count": 7,
     "metadata": {},
     "output_type": "execute_result"
    }
   ],
   "source": [
    "reviews.groupby('price').points.max()"
   ]
  },
  {
   "cell_type": "code",
   "execution_count": 8,
   "id": "82dc147b",
   "metadata": {
    "execution": {
     "iopub.execute_input": "2022-04-23T14:57:34.217411Z",
     "iopub.status.busy": "2022-04-23T14:57:34.216952Z",
     "iopub.status.idle": "2022-04-23T14:57:34.228311Z",
     "shell.execute_reply": "2022-04-23T14:57:34.227560Z"
    },
    "papermill": {
     "duration": 0.045977,
     "end_time": "2022-04-23T14:57:34.230182",
     "exception": false,
     "start_time": "2022-04-23T14:57:34.184205",
     "status": "completed"
    },
    "tags": []
   },
   "outputs": [
    {
     "data": {
      "application/javascript": [
       "parent.postMessage({\"jupyterEvent\": \"custom.exercise_interaction\", \"data\": {\"outcomeType\": 1, \"valueTowardsCompletion\": 0.16666666666666666, \"interactionType\": 1, \"questionType\": 1, \"questionId\": \"2_BestRatingPerPrice\", \"learnToolsVersion\": \"0.3.4\", \"failureMessage\": \"\", \"exceptionClass\": \"\", \"trace\": \"\"}}, \"*\")"
      ],
      "text/plain": [
       "<IPython.core.display.Javascript object>"
      ]
     },
     "metadata": {},
     "output_type": "display_data"
    },
    {
     "data": {
      "text/markdown": [
       "<span style=\"color:#33cc33\">Correct</span>"
      ],
      "text/plain": [
       "Correct"
      ]
     },
     "metadata": {},
     "output_type": "display_data"
    }
   ],
   "source": [
    "best_rating_per_price = reviews.groupby('price').points.max()\n",
    "\n",
    "# Check your answer\n",
    "q2.check()"
   ]
  },
  {
   "cell_type": "code",
   "execution_count": 9,
   "id": "54565a72",
   "metadata": {
    "execution": {
     "iopub.execute_input": "2022-04-23T14:57:34.296502Z",
     "iopub.status.busy": "2022-04-23T14:57:34.296214Z",
     "iopub.status.idle": "2022-04-23T14:57:34.299851Z",
     "shell.execute_reply": "2022-04-23T14:57:34.298867Z"
    },
    "papermill": {
     "duration": 0.039377,
     "end_time": "2022-04-23T14:57:34.301934",
     "exception": false,
     "start_time": "2022-04-23T14:57:34.262557",
     "status": "completed"
    },
    "tags": []
   },
   "outputs": [],
   "source": [
    "#q2.hint()\n",
    "#q2.solution()"
   ]
  },
  {
   "cell_type": "markdown",
   "id": "59558741",
   "metadata": {
    "papermill": {
     "duration": 0.032828,
     "end_time": "2022-04-23T14:57:34.368339",
     "exception": false,
     "start_time": "2022-04-23T14:57:34.335511",
     "status": "completed"
    },
    "tags": []
   },
   "source": [
    "## 3.\n",
    "What are the minimum and maximum prices for each `variety` of wine? Create a `DataFrame` whose index is the `variety` category from the dataset and whose values are the `min` and `max` values thereof."
   ]
  },
  {
   "cell_type": "code",
   "execution_count": 10,
   "id": "d2f770ca",
   "metadata": {
    "execution": {
     "iopub.execute_input": "2022-04-23T14:57:34.435653Z",
     "iopub.status.busy": "2022-04-23T14:57:34.435349Z",
     "iopub.status.idle": "2022-04-23T14:57:34.470841Z",
     "shell.execute_reply": "2022-04-23T14:57:34.470248Z"
    },
    "papermill": {
     "duration": 0.071472,
     "end_time": "2022-04-23T14:57:34.472637",
     "exception": false,
     "start_time": "2022-04-23T14:57:34.401165",
     "status": "completed"
    },
    "tags": []
   },
   "outputs": [
    {
     "data": {
      "text/html": [
       "<div>\n",
       "<style scoped>\n",
       "    .dataframe tbody tr th:only-of-type {\n",
       "        vertical-align: middle;\n",
       "    }\n",
       "\n",
       "    .dataframe tbody tr th {\n",
       "        vertical-align: top;\n",
       "    }\n",
       "\n",
       "    .dataframe thead th {\n",
       "        text-align: right;\n",
       "    }\n",
       "</style>\n",
       "<table border=\"1\" class=\"dataframe\">\n",
       "  <thead>\n",
       "    <tr style=\"text-align: right;\">\n",
       "      <th></th>\n",
       "      <th>min</th>\n",
       "      <th>max</th>\n",
       "    </tr>\n",
       "    <tr>\n",
       "      <th>variety</th>\n",
       "      <th></th>\n",
       "      <th></th>\n",
       "    </tr>\n",
       "  </thead>\n",
       "  <tbody>\n",
       "    <tr>\n",
       "      <th>Abouriou</th>\n",
       "      <td>15.0</td>\n",
       "      <td>75.0</td>\n",
       "    </tr>\n",
       "    <tr>\n",
       "      <th>Agiorgitiko</th>\n",
       "      <td>10.0</td>\n",
       "      <td>66.0</td>\n",
       "    </tr>\n",
       "    <tr>\n",
       "      <th>Aglianico</th>\n",
       "      <td>6.0</td>\n",
       "      <td>180.0</td>\n",
       "    </tr>\n",
       "    <tr>\n",
       "      <th>Aidani</th>\n",
       "      <td>27.0</td>\n",
       "      <td>27.0</td>\n",
       "    </tr>\n",
       "    <tr>\n",
       "      <th>Airen</th>\n",
       "      <td>8.0</td>\n",
       "      <td>10.0</td>\n",
       "    </tr>\n",
       "    <tr>\n",
       "      <th>...</th>\n",
       "      <td>...</td>\n",
       "      <td>...</td>\n",
       "    </tr>\n",
       "    <tr>\n",
       "      <th>Zinfandel</th>\n",
       "      <td>5.0</td>\n",
       "      <td>100.0</td>\n",
       "    </tr>\n",
       "    <tr>\n",
       "      <th>Zlahtina</th>\n",
       "      <td>13.0</td>\n",
       "      <td>16.0</td>\n",
       "    </tr>\n",
       "    <tr>\n",
       "      <th>Zweigelt</th>\n",
       "      <td>9.0</td>\n",
       "      <td>70.0</td>\n",
       "    </tr>\n",
       "    <tr>\n",
       "      <th>Çalkarası</th>\n",
       "      <td>19.0</td>\n",
       "      <td>19.0</td>\n",
       "    </tr>\n",
       "    <tr>\n",
       "      <th>Žilavka</th>\n",
       "      <td>15.0</td>\n",
       "      <td>15.0</td>\n",
       "    </tr>\n",
       "  </tbody>\n",
       "</table>\n",
       "<p>707 rows × 2 columns</p>\n",
       "</div>"
      ],
      "text/plain": [
       "              min    max\n",
       "variety                 \n",
       "Abouriou     15.0   75.0\n",
       "Agiorgitiko  10.0   66.0\n",
       "Aglianico     6.0  180.0\n",
       "Aidani       27.0   27.0\n",
       "Airen         8.0   10.0\n",
       "...           ...    ...\n",
       "Zinfandel     5.0  100.0\n",
       "Zlahtina     13.0   16.0\n",
       "Zweigelt      9.0   70.0\n",
       "Çalkarası    19.0   19.0\n",
       "Žilavka      15.0   15.0\n",
       "\n",
       "[707 rows x 2 columns]"
      ]
     },
     "execution_count": 10,
     "metadata": {},
     "output_type": "execute_result"
    }
   ],
   "source": [
    "reviews.groupby('variety').price.agg([min, max])"
   ]
  },
  {
   "cell_type": "code",
   "execution_count": 11,
   "id": "12139554",
   "metadata": {
    "execution": {
     "iopub.execute_input": "2022-04-23T14:57:34.541801Z",
     "iopub.status.busy": "2022-04-23T14:57:34.541247Z",
     "iopub.status.idle": "2022-04-23T14:57:34.572282Z",
     "shell.execute_reply": "2022-04-23T14:57:34.571462Z"
    },
    "papermill": {
     "duration": 0.067935,
     "end_time": "2022-04-23T14:57:34.574265",
     "exception": false,
     "start_time": "2022-04-23T14:57:34.506330",
     "status": "completed"
    },
    "tags": []
   },
   "outputs": [
    {
     "data": {
      "application/javascript": [
       "parent.postMessage({\"jupyterEvent\": \"custom.exercise_interaction\", \"data\": {\"outcomeType\": 1, \"valueTowardsCompletion\": 0.16666666666666666, \"interactionType\": 1, \"questionType\": 1, \"questionId\": \"3_PriceExtremes\", \"learnToolsVersion\": \"0.3.4\", \"failureMessage\": \"\", \"exceptionClass\": \"\", \"trace\": \"\"}}, \"*\")"
      ],
      "text/plain": [
       "<IPython.core.display.Javascript object>"
      ]
     },
     "metadata": {},
     "output_type": "display_data"
    },
    {
     "data": {
      "text/markdown": [
       "<span style=\"color:#33cc33\">Correct</span>"
      ],
      "text/plain": [
       "Correct"
      ]
     },
     "metadata": {},
     "output_type": "display_data"
    }
   ],
   "source": [
    "price_extremes = reviews.groupby('variety').price.agg([min, max])\n",
    "\n",
    "# Check your answer\n",
    "q3.check()"
   ]
  },
  {
   "cell_type": "code",
   "execution_count": 12,
   "id": "2cd37312",
   "metadata": {
    "execution": {
     "iopub.execute_input": "2022-04-23T14:57:34.645312Z",
     "iopub.status.busy": "2022-04-23T14:57:34.644530Z",
     "iopub.status.idle": "2022-04-23T14:57:34.648251Z",
     "shell.execute_reply": "2022-04-23T14:57:34.647643Z"
    },
    "papermill": {
     "duration": 0.041079,
     "end_time": "2022-04-23T14:57:34.650041",
     "exception": false,
     "start_time": "2022-04-23T14:57:34.608962",
     "status": "completed"
    },
    "tags": []
   },
   "outputs": [],
   "source": [
    "#q3.hint()\n",
    "#q3.solution()"
   ]
  },
  {
   "cell_type": "markdown",
   "id": "398c27a7",
   "metadata": {
    "papermill": {
     "duration": 0.034557,
     "end_time": "2022-04-23T14:57:34.719064",
     "exception": false,
     "start_time": "2022-04-23T14:57:34.684507",
     "status": "completed"
    },
    "tags": []
   },
   "source": [
    "## 4.\n",
    "What are the most expensive wine varieties? Create a variable `sorted_varieties` containing a copy of the dataframe from the previous question where varieties are sorted in descending order based on minimum price, then on maximum price (to break ties)."
   ]
  },
  {
   "cell_type": "code",
   "execution_count": 13,
   "id": "29ecb616",
   "metadata": {
    "execution": {
     "iopub.execute_input": "2022-04-23T14:57:34.790312Z",
     "iopub.status.busy": "2022-04-23T14:57:34.789870Z",
     "iopub.status.idle": "2022-04-23T14:57:34.799945Z",
     "shell.execute_reply": "2022-04-23T14:57:34.799144Z"
    },
    "papermill": {
     "duration": 0.04793,
     "end_time": "2022-04-23T14:57:34.801745",
     "exception": false,
     "start_time": "2022-04-23T14:57:34.753815",
     "status": "completed"
    },
    "tags": []
   },
   "outputs": [
    {
     "data": {
      "text/html": [
       "<div>\n",
       "<style scoped>\n",
       "    .dataframe tbody tr th:only-of-type {\n",
       "        vertical-align: middle;\n",
       "    }\n",
       "\n",
       "    .dataframe tbody tr th {\n",
       "        vertical-align: top;\n",
       "    }\n",
       "\n",
       "    .dataframe thead th {\n",
       "        text-align: right;\n",
       "    }\n",
       "</style>\n",
       "<table border=\"1\" class=\"dataframe\">\n",
       "  <thead>\n",
       "    <tr style=\"text-align: right;\">\n",
       "      <th></th>\n",
       "      <th>min</th>\n",
       "      <th>max</th>\n",
       "    </tr>\n",
       "    <tr>\n",
       "      <th>variety</th>\n",
       "      <th></th>\n",
       "      <th></th>\n",
       "    </tr>\n",
       "  </thead>\n",
       "  <tbody>\n",
       "    <tr>\n",
       "      <th>Abouriou</th>\n",
       "      <td>15.0</td>\n",
       "      <td>75.0</td>\n",
       "    </tr>\n",
       "    <tr>\n",
       "      <th>Agiorgitiko</th>\n",
       "      <td>10.0</td>\n",
       "      <td>66.0</td>\n",
       "    </tr>\n",
       "    <tr>\n",
       "      <th>Aglianico</th>\n",
       "      <td>6.0</td>\n",
       "      <td>180.0</td>\n",
       "    </tr>\n",
       "    <tr>\n",
       "      <th>Aidani</th>\n",
       "      <td>27.0</td>\n",
       "      <td>27.0</td>\n",
       "    </tr>\n",
       "    <tr>\n",
       "      <th>Airen</th>\n",
       "      <td>8.0</td>\n",
       "      <td>10.0</td>\n",
       "    </tr>\n",
       "  </tbody>\n",
       "</table>\n",
       "</div>"
      ],
      "text/plain": [
       "              min    max\n",
       "variety                 \n",
       "Abouriou     15.0   75.0\n",
       "Agiorgitiko  10.0   66.0\n",
       "Aglianico     6.0  180.0\n",
       "Aidani       27.0   27.0\n",
       "Airen         8.0   10.0"
      ]
     },
     "execution_count": 13,
     "metadata": {},
     "output_type": "execute_result"
    }
   ],
   "source": [
    "price_extremes.head()"
   ]
  },
  {
   "cell_type": "code",
   "execution_count": 14,
   "id": "3c14be60",
   "metadata": {
    "execution": {
     "iopub.execute_input": "2022-04-23T14:57:34.874301Z",
     "iopub.status.busy": "2022-04-23T14:57:34.873860Z",
     "iopub.status.idle": "2022-04-23T14:57:34.883082Z",
     "shell.execute_reply": "2022-04-23T14:57:34.882290Z"
    },
    "papermill": {
     "duration": 0.047188,
     "end_time": "2022-04-23T14:57:34.884877",
     "exception": false,
     "start_time": "2022-04-23T14:57:34.837689",
     "status": "completed"
    },
    "tags": []
   },
   "outputs": [
    {
     "data": {
      "application/javascript": [
       "parent.postMessage({\"jupyterEvent\": \"custom.exercise_interaction\", \"data\": {\"outcomeType\": 1, \"valueTowardsCompletion\": 0.16666666666666666, \"interactionType\": 1, \"questionType\": 1, \"questionId\": \"4_SortedVarieties\", \"learnToolsVersion\": \"0.3.4\", \"failureMessage\": \"\", \"exceptionClass\": \"\", \"trace\": \"\"}}, \"*\")"
      ],
      "text/plain": [
       "<IPython.core.display.Javascript object>"
      ]
     },
     "metadata": {},
     "output_type": "display_data"
    },
    {
     "data": {
      "text/markdown": [
       "<span style=\"color:#33cc33\">Correct</span>"
      ],
      "text/plain": [
       "Correct"
      ]
     },
     "metadata": {},
     "output_type": "display_data"
    }
   ],
   "source": [
    "sorted_varieties = price_extremes.sort_values(by=['min', 'max'],ascending=False)\n",
    "\n",
    "# Check your answer\n",
    "q4.check()"
   ]
  },
  {
   "cell_type": "code",
   "execution_count": 15,
   "id": "dcaefffe",
   "metadata": {
    "execution": {
     "iopub.execute_input": "2022-04-23T14:57:34.960291Z",
     "iopub.status.busy": "2022-04-23T14:57:34.959249Z",
     "iopub.status.idle": "2022-04-23T14:57:34.963322Z",
     "shell.execute_reply": "2022-04-23T14:57:34.962542Z"
    },
    "papermill": {
     "duration": 0.043736,
     "end_time": "2022-04-23T14:57:34.965433",
     "exception": false,
     "start_time": "2022-04-23T14:57:34.921697",
     "status": "completed"
    },
    "tags": []
   },
   "outputs": [],
   "source": [
    "# q4.hint()\n",
    "# q4.solution()"
   ]
  },
  {
   "cell_type": "markdown",
   "id": "72077aea",
   "metadata": {
    "papermill": {
     "duration": 0.036769,
     "end_time": "2022-04-23T14:57:35.039881",
     "exception": false,
     "start_time": "2022-04-23T14:57:35.003112",
     "status": "completed"
    },
    "tags": []
   },
   "source": [
    "## 5.\n",
    "Create a `Series` whose index is reviewers and whose values is the average review score given out by that reviewer. Hint: you will need the `taster_name` and `points` columns."
   ]
  },
  {
   "cell_type": "code",
   "execution_count": 16,
   "id": "0bbe7bfc",
   "metadata": {
    "execution": {
     "iopub.execute_input": "2022-04-23T14:57:35.115449Z",
     "iopub.status.busy": "2022-04-23T14:57:35.115153Z",
     "iopub.status.idle": "2022-04-23T14:57:35.123886Z",
     "shell.execute_reply": "2022-04-23T14:57:35.123344Z"
    },
    "papermill": {
     "duration": 0.049078,
     "end_time": "2022-04-23T14:57:35.126009",
     "exception": false,
     "start_time": "2022-04-23T14:57:35.076931",
     "status": "completed"
    },
    "tags": []
   },
   "outputs": [
    {
     "data": {
      "text/plain": [
       "<pandas.core.groupby.generic.SeriesGroupBy object at 0x7fc9496f54d0>"
      ]
     },
     "execution_count": 16,
     "metadata": {},
     "output_type": "execute_result"
    }
   ],
   "source": [
    "names_points_reviewers = reviews.groupby(['taster_name', 'points']).taster_name\n",
    "names_points_reviewers"
   ]
  },
  {
   "cell_type": "code",
   "execution_count": 17,
   "id": "b54b67a6",
   "metadata": {
    "execution": {
     "iopub.execute_input": "2022-04-23T14:57:35.201332Z",
     "iopub.status.busy": "2022-04-23T14:57:35.201047Z",
     "iopub.status.idle": "2022-04-23T14:57:35.207748Z",
     "shell.execute_reply": "2022-04-23T14:57:35.207161Z"
    },
    "papermill": {
     "duration": 0.046567,
     "end_time": "2022-04-23T14:57:35.209552",
     "exception": false,
     "start_time": "2022-04-23T14:57:35.162985",
     "status": "completed"
    },
    "tags": []
   },
   "outputs": [
    {
     "data": {
      "application/javascript": [
       "parent.postMessage({\"jupyterEvent\": \"custom.exercise_interaction\", \"data\": {\"outcomeType\": 2, \"failureMessage\": \"Expected `reviewer_mean_ratings` to have type `<class 'pandas.core.series.Series'>` but had type `<class 'pandas.core.groupby.generic.DataFrameGroupBy'>`\", \"interactionType\": 1, \"questionType\": 1, \"questionId\": \"5_ReviewerMeanRatings\", \"learnToolsVersion\": \"0.3.4\", \"valueTowardsCompletion\": 0.0, \"exceptionClass\": \"\", \"trace\": \"\"}}, \"*\")"
      ],
      "text/plain": [
       "<IPython.core.display.Javascript object>"
      ]
     },
     "metadata": {},
     "output_type": "display_data"
    },
    {
     "data": {
      "text/markdown": [
       "<span style=\"color:#cc3333\">Incorrect:</span> Expected `reviewer_mean_ratings` to have type `<class 'pandas.core.series.Series'>` but had type `<class 'pandas.core.groupby.generic.DataFrameGroupBy'>`"
      ],
      "text/plain": [
       "Incorrect: Expected `reviewer_mean_ratings` to have type `<class 'pandas.core.series.Series'>` but had type `<class 'pandas.core.groupby.generic.DataFrameGroupBy'>`"
      ]
     },
     "metadata": {},
     "output_type": "display_data"
    }
   ],
   "source": [
    "reviewer_mean_ratings = reviews.groupby(['taster_name', 'points'])\n",
    "\n",
    "# Check your answer\n",
    "q5.check()"
   ]
  },
  {
   "cell_type": "code",
   "execution_count": 18,
   "id": "5389b177",
   "metadata": {
    "execution": {
     "iopub.execute_input": "2022-04-23T14:57:35.288430Z",
     "iopub.status.busy": "2022-04-23T14:57:35.287604Z",
     "iopub.status.idle": "2022-04-23T14:57:35.294689Z",
     "shell.execute_reply": "2022-04-23T14:57:35.293983Z"
    },
    "papermill": {
     "duration": 0.048299,
     "end_time": "2022-04-23T14:57:35.296417",
     "exception": false,
     "start_time": "2022-04-23T14:57:35.248118",
     "status": "completed"
    },
    "tags": []
   },
   "outputs": [
    {
     "data": {
      "application/javascript": [
       "parent.postMessage({\"jupyterEvent\": \"custom.exercise_interaction\", \"data\": {\"interactionType\": 2, \"questionType\": 1, \"questionId\": \"5_ReviewerMeanRatings\", \"learnToolsVersion\": \"0.3.4\", \"valueTowardsCompletion\": 0.0, \"failureMessage\": \"\", \"exceptionClass\": \"\", \"trace\": \"\", \"outcomeType\": 4}}, \"*\")"
      ],
      "text/plain": [
       "<IPython.core.display.Javascript object>"
      ]
     },
     "metadata": {},
     "output_type": "display_data"
    },
    {
     "data": {
      "text/markdown": [
       "<span style=\"color:#3366cc\">Hint:</span> Use `mean()`."
      ],
      "text/plain": [
       "Hint: Use `mean()`."
      ]
     },
     "metadata": {},
     "output_type": "display_data"
    }
   ],
   "source": [
    "q5.hint()\n",
    "#q5.solution()"
   ]
  },
  {
   "cell_type": "markdown",
   "id": "5eb51fad",
   "metadata": {
    "papermill": {
     "duration": 0.039597,
     "end_time": "2022-04-23T14:57:35.375172",
     "exception": false,
     "start_time": "2022-04-23T14:57:35.335575",
     "status": "completed"
    },
    "tags": []
   },
   "source": [
    "Are there significant differences in the average scores assigned by the various reviewers? Run the cell below to use the `describe()` method to see a summary of the range of values."
   ]
  },
  {
   "cell_type": "code",
   "execution_count": 19,
   "id": "d07c6784",
   "metadata": {
    "execution": {
     "iopub.execute_input": "2022-04-23T14:57:35.455185Z",
     "iopub.status.busy": "2022-04-23T14:57:35.454853Z",
     "iopub.status.idle": "2022-04-23T14:57:36.692231Z",
     "shell.execute_reply": "2022-04-23T14:57:36.691435Z"
    },
    "papermill": {
     "duration": 1.279486,
     "end_time": "2022-04-23T14:57:36.694142",
     "exception": false,
     "start_time": "2022-04-23T14:57:35.414656",
     "status": "completed"
    },
    "tags": []
   },
   "outputs": [
    {
     "data": {
      "text/html": [
       "<div>\n",
       "<style scoped>\n",
       "    .dataframe tbody tr th:only-of-type {\n",
       "        vertical-align: middle;\n",
       "    }\n",
       "\n",
       "    .dataframe tbody tr th {\n",
       "        vertical-align: top;\n",
       "    }\n",
       "\n",
       "    .dataframe thead tr th {\n",
       "        text-align: left;\n",
       "    }\n",
       "\n",
       "    .dataframe thead tr:last-of-type th {\n",
       "        text-align: right;\n",
       "    }\n",
       "</style>\n",
       "<table border=\"1\" class=\"dataframe\">\n",
       "  <thead>\n",
       "    <tr>\n",
       "      <th></th>\n",
       "      <th></th>\n",
       "      <th colspan=\"8\" halign=\"left\">price</th>\n",
       "    </tr>\n",
       "    <tr>\n",
       "      <th></th>\n",
       "      <th></th>\n",
       "      <th>count</th>\n",
       "      <th>mean</th>\n",
       "      <th>std</th>\n",
       "      <th>min</th>\n",
       "      <th>25%</th>\n",
       "      <th>50%</th>\n",
       "      <th>75%</th>\n",
       "      <th>max</th>\n",
       "    </tr>\n",
       "    <tr>\n",
       "      <th>taster_name</th>\n",
       "      <th>points</th>\n",
       "      <th></th>\n",
       "      <th></th>\n",
       "      <th></th>\n",
       "      <th></th>\n",
       "      <th></th>\n",
       "      <th></th>\n",
       "      <th></th>\n",
       "      <th></th>\n",
       "    </tr>\n",
       "  </thead>\n",
       "  <tbody>\n",
       "    <tr>\n",
       "      <th rowspan=\"5\" valign=\"top\">Alexander Peartree</th>\n",
       "      <th>80</th>\n",
       "      <td>3.0</td>\n",
       "      <td>19.000000</td>\n",
       "      <td>2.645751</td>\n",
       "      <td>16.0</td>\n",
       "      <td>18.00</td>\n",
       "      <td>20.0</td>\n",
       "      <td>20.50</td>\n",
       "      <td>21.0</td>\n",
       "    </tr>\n",
       "    <tr>\n",
       "      <th>81</th>\n",
       "      <td>4.0</td>\n",
       "      <td>24.000000</td>\n",
       "      <td>3.651484</td>\n",
       "      <td>20.0</td>\n",
       "      <td>21.50</td>\n",
       "      <td>24.0</td>\n",
       "      <td>26.50</td>\n",
       "      <td>28.0</td>\n",
       "    </tr>\n",
       "    <tr>\n",
       "      <th>82</th>\n",
       "      <td>11.0</td>\n",
       "      <td>28.818182</td>\n",
       "      <td>13.984407</td>\n",
       "      <td>13.0</td>\n",
       "      <td>17.50</td>\n",
       "      <td>25.0</td>\n",
       "      <td>42.50</td>\n",
       "      <td>49.0</td>\n",
       "    </tr>\n",
       "    <tr>\n",
       "      <th>83</th>\n",
       "      <td>26.0</td>\n",
       "      <td>26.384615</td>\n",
       "      <td>9.055725</td>\n",
       "      <td>14.0</td>\n",
       "      <td>20.00</td>\n",
       "      <td>24.0</td>\n",
       "      <td>32.00</td>\n",
       "      <td>50.0</td>\n",
       "    </tr>\n",
       "    <tr>\n",
       "      <th>84</th>\n",
       "      <td>53.0</td>\n",
       "      <td>28.207547</td>\n",
       "      <td>11.332999</td>\n",
       "      <td>11.0</td>\n",
       "      <td>21.00</td>\n",
       "      <td>26.0</td>\n",
       "      <td>32.00</td>\n",
       "      <td>85.0</td>\n",
       "    </tr>\n",
       "    <tr>\n",
       "      <th>...</th>\n",
       "      <th>...</th>\n",
       "      <td>...</td>\n",
       "      <td>...</td>\n",
       "      <td>...</td>\n",
       "      <td>...</td>\n",
       "      <td>...</td>\n",
       "      <td>...</td>\n",
       "      <td>...</td>\n",
       "      <td>...</td>\n",
       "    </tr>\n",
       "    <tr>\n",
       "      <th rowspan=\"5\" valign=\"top\">Virginie Boone</th>\n",
       "      <th>95</th>\n",
       "      <td>142.0</td>\n",
       "      <td>86.795775</td>\n",
       "      <td>54.242761</td>\n",
       "      <td>24.0</td>\n",
       "      <td>52.00</td>\n",
       "      <td>70.0</td>\n",
       "      <td>95.00</td>\n",
       "      <td>325.0</td>\n",
       "    </tr>\n",
       "    <tr>\n",
       "      <th>96</th>\n",
       "      <td>34.0</td>\n",
       "      <td>91.323529</td>\n",
       "      <td>59.179604</td>\n",
       "      <td>27.0</td>\n",
       "      <td>60.50</td>\n",
       "      <td>68.0</td>\n",
       "      <td>93.75</td>\n",
       "      <td>325.0</td>\n",
       "    </tr>\n",
       "    <tr>\n",
       "      <th>97</th>\n",
       "      <td>15.0</td>\n",
       "      <td>113.200000</td>\n",
       "      <td>66.899925</td>\n",
       "      <td>35.0</td>\n",
       "      <td>67.50</td>\n",
       "      <td>90.0</td>\n",
       "      <td>137.50</td>\n",
       "      <td>250.0</td>\n",
       "    </tr>\n",
       "    <tr>\n",
       "      <th>98</th>\n",
       "      <td>12.0</td>\n",
       "      <td>179.500000</td>\n",
       "      <td>83.526262</td>\n",
       "      <td>69.0</td>\n",
       "      <td>78.75</td>\n",
       "      <td>217.5</td>\n",
       "      <td>250.00</td>\n",
       "      <td>265.0</td>\n",
       "    </tr>\n",
       "    <tr>\n",
       "      <th>99</th>\n",
       "      <td>2.0</td>\n",
       "      <td>275.000000</td>\n",
       "      <td>35.355339</td>\n",
       "      <td>250.0</td>\n",
       "      <td>262.50</td>\n",
       "      <td>275.0</td>\n",
       "      <td>287.50</td>\n",
       "      <td>300.0</td>\n",
       "    </tr>\n",
       "  </tbody>\n",
       "</table>\n",
       "<p>305 rows × 8 columns</p>\n",
       "</div>"
      ],
      "text/plain": [
       "                           price                                               \\\n",
       "                           count        mean        std    min     25%    50%   \n",
       "taster_name        points                                                       \n",
       "Alexander Peartree 80        3.0   19.000000   2.645751   16.0   18.00   20.0   \n",
       "                   81        4.0   24.000000   3.651484   20.0   21.50   24.0   \n",
       "                   82       11.0   28.818182  13.984407   13.0   17.50   25.0   \n",
       "                   83       26.0   26.384615   9.055725   14.0   20.00   24.0   \n",
       "                   84       53.0   28.207547  11.332999   11.0   21.00   26.0   \n",
       "...                          ...         ...        ...    ...     ...    ...   \n",
       "Virginie Boone     95      142.0   86.795775  54.242761   24.0   52.00   70.0   \n",
       "                   96       34.0   91.323529  59.179604   27.0   60.50   68.0   \n",
       "                   97       15.0  113.200000  66.899925   35.0   67.50   90.0   \n",
       "                   98       12.0  179.500000  83.526262   69.0   78.75  217.5   \n",
       "                   99        2.0  275.000000  35.355339  250.0  262.50  275.0   \n",
       "\n",
       "                                          \n",
       "                              75%    max  \n",
       "taster_name        points                 \n",
       "Alexander Peartree 80       20.50   21.0  \n",
       "                   81       26.50   28.0  \n",
       "                   82       42.50   49.0  \n",
       "                   83       32.00   50.0  \n",
       "                   84       32.00   85.0  \n",
       "...                           ...    ...  \n",
       "Virginie Boone     95       95.00  325.0  \n",
       "                   96       93.75  325.0  \n",
       "                   97      137.50  250.0  \n",
       "                   98      250.00  265.0  \n",
       "                   99      287.50  300.0  \n",
       "\n",
       "[305 rows x 8 columns]"
      ]
     },
     "execution_count": 19,
     "metadata": {},
     "output_type": "execute_result"
    }
   ],
   "source": [
    "reviewer_mean_ratings.describe()"
   ]
  },
  {
   "cell_type": "markdown",
   "id": "e3a9007c",
   "metadata": {
    "papermill": {
     "duration": 0.039718,
     "end_time": "2022-04-23T14:57:36.774478",
     "exception": false,
     "start_time": "2022-04-23T14:57:36.734760",
     "status": "completed"
    },
    "tags": []
   },
   "source": [
    "## 6.\n",
    "What combination of countries and varieties are most common? Create a `Series` whose index is a `MultiIndex`of `{country, variety}` pairs. For example, a pinot noir produced in the US should map to `{\"US\", \"Pinot Noir\"}`. Sort the values in the `Series` in descending order based on wine count."
   ]
  },
  {
   "cell_type": "code",
   "execution_count": 20,
   "id": "ed5c32ea",
   "metadata": {
    "execution": {
     "iopub.execute_input": "2022-04-23T14:57:36.856118Z",
     "iopub.status.busy": "2022-04-23T14:57:36.855822Z",
     "iopub.status.idle": "2022-04-23T14:57:36.862145Z",
     "shell.execute_reply": "2022-04-23T14:57:36.861529Z"
    },
    "papermill": {
     "duration": 0.049765,
     "end_time": "2022-04-23T14:57:36.864054",
     "exception": false,
     "start_time": "2022-04-23T14:57:36.814289",
     "status": "completed"
    },
    "tags": []
   },
   "outputs": [
    {
     "data": {
      "application/javascript": [
       "parent.postMessage({\"jupyterEvent\": \"custom.exercise_interaction\", \"data\": {\"outcomeType\": 4, \"interactionType\": 1, \"questionType\": 1, \"questionId\": \"6_GroupbyCountryVariety\", \"learnToolsVersion\": \"0.3.4\", \"valueTowardsCompletion\": 0.0, \"failureMessage\": \"\", \"exceptionClass\": \"\", \"trace\": \"\"}}, \"*\")"
      ],
      "text/plain": [
       "<IPython.core.display.Javascript object>"
      ]
     },
     "metadata": {},
     "output_type": "display_data"
    },
    {
     "data": {
      "text/markdown": [
       "<span style=\"color:#ccaa33\">Check:</span> When you've updated the starter code, `check()` will tell you whether your code is correct. You need to update the code that creates variable `country_variety_counts`"
      ],
      "text/plain": [
       "Check: When you've updated the starter code, `check()` will tell you whether your code is correct. You need to update the code that creates variable `country_variety_counts`"
      ]
     },
     "metadata": {},
     "output_type": "display_data"
    }
   ],
   "source": [
    "country_variety_counts = ____\n",
    "\n",
    "# Check your answer\n",
    "q6.check()"
   ]
  },
  {
   "cell_type": "code",
   "execution_count": 21,
   "id": "3c22d115",
   "metadata": {
    "execution": {
     "iopub.execute_input": "2022-04-23T14:57:36.948548Z",
     "iopub.status.busy": "2022-04-23T14:57:36.948058Z",
     "iopub.status.idle": "2022-04-23T14:57:36.950890Z",
     "shell.execute_reply": "2022-04-23T14:57:36.950362Z"
    },
    "papermill": {
     "duration": 0.047125,
     "end_time": "2022-04-23T14:57:36.952683",
     "exception": false,
     "start_time": "2022-04-23T14:57:36.905558",
     "status": "completed"
    },
    "tags": []
   },
   "outputs": [],
   "source": [
    "#q6.hint()\n",
    "#q6.solution()"
   ]
  },
  {
   "cell_type": "markdown",
   "id": "4b495351",
   "metadata": {
    "papermill": {
     "duration": 0.041352,
     "end_time": "2022-04-23T14:57:37.035823",
     "exception": false,
     "start_time": "2022-04-23T14:57:36.994471",
     "status": "completed"
    },
    "tags": []
   },
   "source": [
    "# Keep going\n",
    "\n",
    "Move on to the [**data types and missing data**](https://www.kaggle.com/residentmario/data-types-and-missing-values)."
   ]
  },
  {
   "cell_type": "markdown",
   "id": "126d950b",
   "metadata": {
    "papermill": {
     "duration": 0.041646,
     "end_time": "2022-04-23T14:57:37.119300",
     "exception": false,
     "start_time": "2022-04-23T14:57:37.077654",
     "status": "completed"
    },
    "tags": []
   },
   "source": [
    "---\n",
    "\n",
    "\n",
    "\n",
    "\n",
    "*Have questions or comments? Visit the [course discussion forum](https://www.kaggle.com/learn/pandas/discussion) to chat with other learners.*"
   ]
  }
 ],
 "metadata": {
  "kernelspec": {
   "display_name": "Python 3",
   "language": "python",
   "name": "python3"
  },
  "language_info": {
   "codemirror_mode": {
    "name": "ipython",
    "version": 3
   },
   "file_extension": ".py",
   "mimetype": "text/x-python",
   "name": "python",
   "nbconvert_exporter": "python",
   "pygments_lexer": "ipython3",
   "version": "3.7.12"
  },
  "papermill": {
   "default_parameters": {},
   "duration": 17.168606,
   "end_time": "2022-04-23T14:57:37.780987",
   "environment_variables": {},
   "exception": null,
   "input_path": "__notebook__.ipynb",
   "output_path": "__notebook__.ipynb",
   "parameters": {},
   "start_time": "2022-04-23T14:57:20.612381",
   "version": "2.3.4"
  }
 },
 "nbformat": 4,
 "nbformat_minor": 5
}
