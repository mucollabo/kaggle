{
 "cells": [
  {
   "cell_type": "markdown",
   "id": "d5eb011c",
   "metadata": {
    "papermill": {
     "duration": 0.033119,
     "end_time": "2022-04-22T09:31:17.506472",
     "exception": false,
     "start_time": "2022-04-22T09:31:17.473353",
     "status": "completed"
    },
    "tags": []
   },
   "source": [
    "**This notebook is an exercise in the [Pandas](https://www.kaggle.com/learn/pandas) course.  You can reference the tutorial at [this link](https://www.kaggle.com/residentmario/summary-functions-and-maps).**\n",
    "\n",
    "---\n"
   ]
  },
  {
   "cell_type": "markdown",
   "id": "50dba65d",
   "metadata": {
    "papermill": {
     "duration": 0.029532,
     "end_time": "2022-04-22T09:31:17.566788",
     "exception": false,
     "start_time": "2022-04-22T09:31:17.537256",
     "status": "completed"
    },
    "tags": []
   },
   "source": [
    "# Introduction\n",
    "\n",
    "Now you are ready to get a deeper understanding of your data.\n",
    "\n",
    "Run the following cell to load your data and some utility functions (including code to check your answers)."
   ]
  },
  {
   "cell_type": "code",
   "execution_count": 1,
   "id": "c16aae4b",
   "metadata": {
    "execution": {
     "iopub.execute_input": "2022-04-22T09:31:17.630855Z",
     "iopub.status.busy": "2022-04-22T09:31:17.630464Z",
     "iopub.status.idle": "2022-04-22T09:31:25.314702Z",
     "shell.execute_reply": "2022-04-22T09:31:25.313777Z"
    },
    "papermill": {
     "duration": 7.720978,
     "end_time": "2022-04-22T09:31:25.318089",
     "exception": false,
     "start_time": "2022-04-22T09:31:17.597111",
     "status": "completed"
    },
    "tags": []
   },
   "outputs": [
    {
     "name": "stdout",
     "output_type": "stream",
     "text": [
      "Setup complete.\n"
     ]
    },
    {
     "data": {
      "text/html": [
       "<div>\n",
       "<style scoped>\n",
       "    .dataframe tbody tr th:only-of-type {\n",
       "        vertical-align: middle;\n",
       "    }\n",
       "\n",
       "    .dataframe tbody tr th {\n",
       "        vertical-align: top;\n",
       "    }\n",
       "\n",
       "    .dataframe thead th {\n",
       "        text-align: right;\n",
       "    }\n",
       "</style>\n",
       "<table border=\"1\" class=\"dataframe\">\n",
       "  <thead>\n",
       "    <tr style=\"text-align: right;\">\n",
       "      <th></th>\n",
       "      <th>country</th>\n",
       "      <th>description</th>\n",
       "      <th>designation</th>\n",
       "      <th>points</th>\n",
       "      <th>price</th>\n",
       "      <th>province</th>\n",
       "      <th>region_1</th>\n",
       "      <th>region_2</th>\n",
       "      <th>taster_name</th>\n",
       "      <th>taster_twitter_handle</th>\n",
       "      <th>title</th>\n",
       "      <th>variety</th>\n",
       "      <th>winery</th>\n",
       "    </tr>\n",
       "  </thead>\n",
       "  <tbody>\n",
       "    <tr>\n",
       "      <th>0</th>\n",
       "      <td>Italy</td>\n",
       "      <td>Aromas include tropical fruit, broom, brimston...</td>\n",
       "      <td>Vulkà Bianco</td>\n",
       "      <td>87</td>\n",
       "      <td>NaN</td>\n",
       "      <td>Sicily &amp; Sardinia</td>\n",
       "      <td>Etna</td>\n",
       "      <td>NaN</td>\n",
       "      <td>Kerin O’Keefe</td>\n",
       "      <td>@kerinokeefe</td>\n",
       "      <td>Nicosia 2013 Vulkà Bianco  (Etna)</td>\n",
       "      <td>White Blend</td>\n",
       "      <td>Nicosia</td>\n",
       "    </tr>\n",
       "    <tr>\n",
       "      <th>1</th>\n",
       "      <td>Portugal</td>\n",
       "      <td>This is ripe and fruity, a wine that is smooth...</td>\n",
       "      <td>Avidagos</td>\n",
       "      <td>87</td>\n",
       "      <td>15.0</td>\n",
       "      <td>Douro</td>\n",
       "      <td>NaN</td>\n",
       "      <td>NaN</td>\n",
       "      <td>Roger Voss</td>\n",
       "      <td>@vossroger</td>\n",
       "      <td>Quinta dos Avidagos 2011 Avidagos Red (Douro)</td>\n",
       "      <td>Portuguese Red</td>\n",
       "      <td>Quinta dos Avidagos</td>\n",
       "    </tr>\n",
       "    <tr>\n",
       "      <th>2</th>\n",
       "      <td>US</td>\n",
       "      <td>Tart and snappy, the flavors of lime flesh and...</td>\n",
       "      <td>NaN</td>\n",
       "      <td>87</td>\n",
       "      <td>14.0</td>\n",
       "      <td>Oregon</td>\n",
       "      <td>Willamette Valley</td>\n",
       "      <td>Willamette Valley</td>\n",
       "      <td>Paul Gregutt</td>\n",
       "      <td>@paulgwine</td>\n",
       "      <td>Rainstorm 2013 Pinot Gris (Willamette Valley)</td>\n",
       "      <td>Pinot Gris</td>\n",
       "      <td>Rainstorm</td>\n",
       "    </tr>\n",
       "    <tr>\n",
       "      <th>3</th>\n",
       "      <td>US</td>\n",
       "      <td>Pineapple rind, lemon pith and orange blossom ...</td>\n",
       "      <td>Reserve Late Harvest</td>\n",
       "      <td>87</td>\n",
       "      <td>13.0</td>\n",
       "      <td>Michigan</td>\n",
       "      <td>Lake Michigan Shore</td>\n",
       "      <td>NaN</td>\n",
       "      <td>Alexander Peartree</td>\n",
       "      <td>NaN</td>\n",
       "      <td>St. Julian 2013 Reserve Late Harvest Riesling ...</td>\n",
       "      <td>Riesling</td>\n",
       "      <td>St. Julian</td>\n",
       "    </tr>\n",
       "    <tr>\n",
       "      <th>4</th>\n",
       "      <td>US</td>\n",
       "      <td>Much like the regular bottling from 2012, this...</td>\n",
       "      <td>Vintner's Reserve Wild Child Block</td>\n",
       "      <td>87</td>\n",
       "      <td>65.0</td>\n",
       "      <td>Oregon</td>\n",
       "      <td>Willamette Valley</td>\n",
       "      <td>Willamette Valley</td>\n",
       "      <td>Paul Gregutt</td>\n",
       "      <td>@paulgwine</td>\n",
       "      <td>Sweet Cheeks 2012 Vintner's Reserve Wild Child...</td>\n",
       "      <td>Pinot Noir</td>\n",
       "      <td>Sweet Cheeks</td>\n",
       "    </tr>\n",
       "  </tbody>\n",
       "</table>\n",
       "</div>"
      ],
      "text/plain": [
       "    country                                        description  \\\n",
       "0     Italy  Aromas include tropical fruit, broom, brimston...   \n",
       "1  Portugal  This is ripe and fruity, a wine that is smooth...   \n",
       "2        US  Tart and snappy, the flavors of lime flesh and...   \n",
       "3        US  Pineapple rind, lemon pith and orange blossom ...   \n",
       "4        US  Much like the regular bottling from 2012, this...   \n",
       "\n",
       "                          designation  points  price           province  \\\n",
       "0                        Vulkà Bianco      87    NaN  Sicily & Sardinia   \n",
       "1                            Avidagos      87   15.0              Douro   \n",
       "2                                 NaN      87   14.0             Oregon   \n",
       "3                Reserve Late Harvest      87   13.0           Michigan   \n",
       "4  Vintner's Reserve Wild Child Block      87   65.0             Oregon   \n",
       "\n",
       "              region_1           region_2         taster_name  \\\n",
       "0                 Etna                NaN       Kerin O’Keefe   \n",
       "1                  NaN                NaN          Roger Voss   \n",
       "2    Willamette Valley  Willamette Valley        Paul Gregutt   \n",
       "3  Lake Michigan Shore                NaN  Alexander Peartree   \n",
       "4    Willamette Valley  Willamette Valley        Paul Gregutt   \n",
       "\n",
       "  taster_twitter_handle                                              title  \\\n",
       "0          @kerinokeefe                  Nicosia 2013 Vulkà Bianco  (Etna)   \n",
       "1            @vossroger      Quinta dos Avidagos 2011 Avidagos Red (Douro)   \n",
       "2           @paulgwine       Rainstorm 2013 Pinot Gris (Willamette Valley)   \n",
       "3                   NaN  St. Julian 2013 Reserve Late Harvest Riesling ...   \n",
       "4           @paulgwine   Sweet Cheeks 2012 Vintner's Reserve Wild Child...   \n",
       "\n",
       "          variety               winery  \n",
       "0     White Blend              Nicosia  \n",
       "1  Portuguese Red  Quinta dos Avidagos  \n",
       "2      Pinot Gris            Rainstorm  \n",
       "3        Riesling           St. Julian  \n",
       "4      Pinot Noir         Sweet Cheeks  "
      ]
     },
     "execution_count": 1,
     "metadata": {},
     "output_type": "execute_result"
    }
   ],
   "source": [
    "import pandas as pd\n",
    "pd.set_option(\"display.max_rows\", 5)\n",
    "reviews = pd.read_csv(\"../input/wine-reviews/winemag-data-130k-v2.csv\", index_col=0)\n",
    "\n",
    "from learntools.core import binder; binder.bind(globals())\n",
    "from learntools.pandas.summary_functions_and_maps import *\n",
    "print(\"Setup complete.\")\n",
    "\n",
    "reviews.head()"
   ]
  },
  {
   "cell_type": "markdown",
   "id": "308e7ea7",
   "metadata": {
    "papermill": {
     "duration": 0.030245,
     "end_time": "2022-04-22T09:31:25.379784",
     "exception": false,
     "start_time": "2022-04-22T09:31:25.349539",
     "status": "completed"
    },
    "tags": []
   },
   "source": [
    "# Exercises"
   ]
  },
  {
   "cell_type": "markdown",
   "id": "cf377275",
   "metadata": {
    "papermill": {
     "duration": 0.030437,
     "end_time": "2022-04-22T09:31:25.440713",
     "exception": false,
     "start_time": "2022-04-22T09:31:25.410276",
     "status": "completed"
    },
    "tags": []
   },
   "source": [
    "## 1.\n",
    "\n",
    "What is the median of the `points` column in the `reviews` DataFrame?"
   ]
  },
  {
   "cell_type": "code",
   "execution_count": 2,
   "id": "bcd69da6",
   "metadata": {
    "execution": {
     "iopub.execute_input": "2022-04-22T09:31:25.503612Z",
     "iopub.status.busy": "2022-04-22T09:31:25.503154Z",
     "iopub.status.idle": "2022-04-22T09:31:25.513109Z",
     "shell.execute_reply": "2022-04-22T09:31:25.512272Z"
    },
    "papermill": {
     "duration": 0.043979,
     "end_time": "2022-04-22T09:31:25.515217",
     "exception": false,
     "start_time": "2022-04-22T09:31:25.471238",
     "status": "completed"
    },
    "tags": []
   },
   "outputs": [
    {
     "data": {
      "application/javascript": [
       "parent.postMessage({\"jupyterEvent\": \"custom.exercise_interaction\", \"data\": {\"outcomeType\": 1, \"valueTowardsCompletion\": 0.14285714285714285, \"interactionType\": 1, \"questionType\": 1, \"questionId\": \"1_MedianPoints\", \"learnToolsVersion\": \"0.3.4\", \"failureMessage\": \"\", \"exceptionClass\": \"\", \"trace\": \"\"}}, \"*\")"
      ],
      "text/plain": [
       "<IPython.core.display.Javascript object>"
      ]
     },
     "metadata": {},
     "output_type": "display_data"
    },
    {
     "data": {
      "text/markdown": [
       "<span style=\"color:#33cc33\">Correct</span>"
      ],
      "text/plain": [
       "Correct"
      ]
     },
     "metadata": {},
     "output_type": "display_data"
    }
   ],
   "source": [
    "median_points = reviews.points.median()\n",
    "\n",
    "# Check your answer\n",
    "q1.check()"
   ]
  },
  {
   "cell_type": "code",
   "execution_count": 3,
   "id": "81d8ea49",
   "metadata": {
    "execution": {
     "iopub.execute_input": "2022-04-22T09:31:25.583540Z",
     "iopub.status.busy": "2022-04-22T09:31:25.583295Z",
     "iopub.status.idle": "2022-04-22T09:31:25.586698Z",
     "shell.execute_reply": "2022-04-22T09:31:25.585868Z"
    },
    "papermill": {
     "duration": 0.039643,
     "end_time": "2022-04-22T09:31:25.588792",
     "exception": false,
     "start_time": "2022-04-22T09:31:25.549149",
     "status": "completed"
    },
    "tags": []
   },
   "outputs": [],
   "source": [
    "#q1.hint()\n",
    "#q1.solution()"
   ]
  },
  {
   "cell_type": "markdown",
   "id": "7bbaa539",
   "metadata": {
    "papermill": {
     "duration": 0.031837,
     "end_time": "2022-04-22T09:31:25.652754",
     "exception": false,
     "start_time": "2022-04-22T09:31:25.620917",
     "status": "completed"
    },
    "tags": []
   },
   "source": [
    "## 2. \n",
    "What countries are represented in the dataset? (Your answer should not include any duplicates.)"
   ]
  },
  {
   "cell_type": "code",
   "execution_count": 4,
   "id": "97c3f353",
   "metadata": {
    "execution": {
     "iopub.execute_input": "2022-04-22T09:31:25.719045Z",
     "iopub.status.busy": "2022-04-22T09:31:25.718487Z",
     "iopub.status.idle": "2022-04-22T09:31:25.737116Z",
     "shell.execute_reply": "2022-04-22T09:31:25.736235Z"
    },
    "papermill": {
     "duration": 0.053987,
     "end_time": "2022-04-22T09:31:25.739019",
     "exception": false,
     "start_time": "2022-04-22T09:31:25.685032",
     "status": "completed"
    },
    "tags": []
   },
   "outputs": [
    {
     "data": {
      "text/plain": [
       "array(['Italy', 'Portugal', 'US', 'Spain', 'France', 'Germany',\n",
       "       'Argentina', 'Chile', 'Australia', 'Austria', 'South Africa',\n",
       "       'New Zealand', 'Israel', 'Hungary', 'Greece', 'Romania', 'Mexico',\n",
       "       'Canada', nan, 'Turkey', 'Czech Republic', 'Slovenia',\n",
       "       'Luxembourg', 'Croatia', 'Georgia', 'Uruguay', 'England',\n",
       "       'Lebanon', 'Serbia', 'Brazil', 'Moldova', 'Morocco', 'Peru',\n",
       "       'India', 'Bulgaria', 'Cyprus', 'Armenia', 'Switzerland',\n",
       "       'Bosnia and Herzegovina', 'Ukraine', 'Slovakia', 'Macedonia',\n",
       "       'China', 'Egypt'], dtype=object)"
      ]
     },
     "execution_count": 4,
     "metadata": {},
     "output_type": "execute_result"
    }
   ],
   "source": [
    "reviews.country.unique()"
   ]
  },
  {
   "cell_type": "code",
   "execution_count": 5,
   "id": "6c7032ce",
   "metadata": {
    "execution": {
     "iopub.execute_input": "2022-04-22T09:31:25.806419Z",
     "iopub.status.busy": "2022-04-22T09:31:25.806028Z",
     "iopub.status.idle": "2022-04-22T09:31:25.825406Z",
     "shell.execute_reply": "2022-04-22T09:31:25.824657Z"
    },
    "papermill": {
     "duration": 0.055305,
     "end_time": "2022-04-22T09:31:25.827278",
     "exception": false,
     "start_time": "2022-04-22T09:31:25.771973",
     "status": "completed"
    },
    "tags": []
   },
   "outputs": [
    {
     "data": {
      "application/javascript": [
       "parent.postMessage({\"jupyterEvent\": \"custom.exercise_interaction\", \"data\": {\"outcomeType\": 1, \"valueTowardsCompletion\": 0.14285714285714285, \"interactionType\": 1, \"questionType\": 2, \"questionId\": \"2_UniqueCountries\", \"learnToolsVersion\": \"0.3.4\", \"failureMessage\": \"\", \"exceptionClass\": \"\", \"trace\": \"\"}}, \"*\")"
      ],
      "text/plain": [
       "<IPython.core.display.Javascript object>"
      ]
     },
     "metadata": {},
     "output_type": "display_data"
    },
    {
     "data": {
      "text/markdown": [
       "<span style=\"color:#33cc33\">Correct</span>"
      ],
      "text/plain": [
       "Correct"
      ]
     },
     "metadata": {},
     "output_type": "display_data"
    }
   ],
   "source": [
    "countries = reviews.country.unique()\n",
    "\n",
    "# Check your answer\n",
    "q2.check()"
   ]
  },
  {
   "cell_type": "code",
   "execution_count": 6,
   "id": "4554629d",
   "metadata": {
    "execution": {
     "iopub.execute_input": "2022-04-22T09:31:25.896382Z",
     "iopub.status.busy": "2022-04-22T09:31:25.895862Z",
     "iopub.status.idle": "2022-04-22T09:31:25.899258Z",
     "shell.execute_reply": "2022-04-22T09:31:25.898728Z"
    },
    "papermill": {
     "duration": 0.040351,
     "end_time": "2022-04-22T09:31:25.901084",
     "exception": false,
     "start_time": "2022-04-22T09:31:25.860733",
     "status": "completed"
    },
    "tags": []
   },
   "outputs": [],
   "source": [
    "#q2.hint()\n",
    "#q2.solution()"
   ]
  },
  {
   "cell_type": "markdown",
   "id": "2021bb58",
   "metadata": {
    "papermill": {
     "duration": 0.033847,
     "end_time": "2022-04-22T09:31:25.968933",
     "exception": false,
     "start_time": "2022-04-22T09:31:25.935086",
     "status": "completed"
    },
    "tags": []
   },
   "source": [
    "## 3.\n",
    "How often does each country appear in the dataset? Create a Series `reviews_per_country` mapping countries to the count of reviews of wines from that country."
   ]
  },
  {
   "cell_type": "code",
   "execution_count": 7,
   "id": "78f476cb",
   "metadata": {
    "execution": {
     "iopub.execute_input": "2022-04-22T09:31:26.043220Z",
     "iopub.status.busy": "2022-04-22T09:31:26.042671Z",
     "iopub.status.idle": "2022-04-22T09:31:26.069543Z",
     "shell.execute_reply": "2022-04-22T09:31:26.068723Z"
    },
    "papermill": {
     "duration": 0.065225,
     "end_time": "2022-04-22T09:31:26.071480",
     "exception": false,
     "start_time": "2022-04-22T09:31:26.006255",
     "status": "completed"
    },
    "tags": []
   },
   "outputs": [
    {
     "data": {
      "application/javascript": [
       "parent.postMessage({\"jupyterEvent\": \"custom.exercise_interaction\", \"data\": {\"outcomeType\": 1, \"valueTowardsCompletion\": 0.14285714285714285, \"interactionType\": 1, \"questionType\": 1, \"questionId\": \"3_ReviewsPerCountry\", \"learnToolsVersion\": \"0.3.4\", \"failureMessage\": \"\", \"exceptionClass\": \"\", \"trace\": \"\"}}, \"*\")"
      ],
      "text/plain": [
       "<IPython.core.display.Javascript object>"
      ]
     },
     "metadata": {},
     "output_type": "display_data"
    },
    {
     "data": {
      "text/markdown": [
       "<span style=\"color:#33cc33\">Correct</span>"
      ],
      "text/plain": [
       "Correct"
      ]
     },
     "metadata": {},
     "output_type": "display_data"
    }
   ],
   "source": [
    "reviews_per_country = reviews.country.value_counts()\n",
    "\n",
    "# Check your answer\n",
    "q3.check()"
   ]
  },
  {
   "cell_type": "code",
   "execution_count": 8,
   "id": "032b1af0",
   "metadata": {
    "execution": {
     "iopub.execute_input": "2022-04-22T09:31:26.143627Z",
     "iopub.status.busy": "2022-04-22T09:31:26.143015Z",
     "iopub.status.idle": "2022-04-22T09:31:26.146531Z",
     "shell.execute_reply": "2022-04-22T09:31:26.145967Z"
    },
    "papermill": {
     "duration": 0.041858,
     "end_time": "2022-04-22T09:31:26.148481",
     "exception": false,
     "start_time": "2022-04-22T09:31:26.106623",
     "status": "completed"
    },
    "tags": []
   },
   "outputs": [],
   "source": [
    "#q3.hint()\n",
    "#q3.solution()"
   ]
  },
  {
   "cell_type": "markdown",
   "id": "d3530ecb",
   "metadata": {
    "papermill": {
     "duration": 0.036213,
     "end_time": "2022-04-22T09:31:26.220756",
     "exception": false,
     "start_time": "2022-04-22T09:31:26.184543",
     "status": "completed"
    },
    "tags": []
   },
   "source": [
    "## 4.\n",
    "Create variable `centered_price` containing a version of the `price` column with the mean price subtracted.\n",
    "\n",
    "(Note: this 'centering' transformation is a common preprocessing step before applying various machine learning algorithms.) "
   ]
  },
  {
   "cell_type": "code",
   "execution_count": 9,
   "id": "55f7d481",
   "metadata": {
    "execution": {
     "iopub.execute_input": "2022-04-22T09:31:26.293000Z",
     "iopub.status.busy": "2022-04-22T09:31:26.292448Z",
     "iopub.status.idle": "2022-04-22T09:31:26.302220Z",
     "shell.execute_reply": "2022-04-22T09:31:26.301618Z"
    },
    "papermill": {
     "duration": 0.048017,
     "end_time": "2022-04-22T09:31:26.304067",
     "exception": false,
     "start_time": "2022-04-22T09:31:26.256050",
     "status": "completed"
    },
    "tags": []
   },
   "outputs": [
    {
     "data": {
      "application/javascript": [
       "parent.postMessage({\"jupyterEvent\": \"custom.exercise_interaction\", \"data\": {\"outcomeType\": 1, \"valueTowardsCompletion\": 0.14285714285714285, \"interactionType\": 1, \"questionType\": 1, \"questionId\": \"4_CenteredPrice\", \"learnToolsVersion\": \"0.3.4\", \"failureMessage\": \"\", \"exceptionClass\": \"\", \"trace\": \"\"}}, \"*\")"
      ],
      "text/plain": [
       "<IPython.core.display.Javascript object>"
      ]
     },
     "metadata": {},
     "output_type": "display_data"
    },
    {
     "data": {
      "text/markdown": [
       "<span style=\"color:#33cc33\">Correct</span>"
      ],
      "text/plain": [
       "Correct"
      ]
     },
     "metadata": {},
     "output_type": "display_data"
    }
   ],
   "source": [
    "centered_price = reviews.price - reviews.price.mean()\n",
    "\n",
    "# Check your answer\n",
    "q4.check()"
   ]
  },
  {
   "cell_type": "code",
   "execution_count": 10,
   "id": "3dbb152e",
   "metadata": {
    "execution": {
     "iopub.execute_input": "2022-04-22T09:31:26.378593Z",
     "iopub.status.busy": "2022-04-22T09:31:26.378063Z",
     "iopub.status.idle": "2022-04-22T09:31:26.381456Z",
     "shell.execute_reply": "2022-04-22T09:31:26.380898Z"
    },
    "papermill": {
     "duration": 0.042969,
     "end_time": "2022-04-22T09:31:26.383306",
     "exception": false,
     "start_time": "2022-04-22T09:31:26.340337",
     "status": "completed"
    },
    "tags": []
   },
   "outputs": [],
   "source": [
    "#q4.hint()\n",
    "#q4.solution()"
   ]
  },
  {
   "cell_type": "markdown",
   "id": "13c14594",
   "metadata": {
    "papermill": {
     "duration": 0.035959,
     "end_time": "2022-04-22T09:31:26.455446",
     "exception": false,
     "start_time": "2022-04-22T09:31:26.419487",
     "status": "completed"
    },
    "tags": []
   },
   "source": [
    "## 5.\n",
    "I'm an economical wine buyer. Which wine is the \"best bargain\"? Create a variable `bargain_wine` with the title of the wine with the highest points-to-price ratio in the dataset."
   ]
  },
  {
   "cell_type": "code",
   "execution_count": 11,
   "id": "655d6487",
   "metadata": {
    "execution": {
     "iopub.execute_input": "2022-04-22T09:31:26.529963Z",
     "iopub.status.busy": "2022-04-22T09:31:26.529407Z",
     "iopub.status.idle": "2022-04-22T09:31:26.542078Z",
     "shell.execute_reply": "2022-04-22T09:31:26.541423Z"
    },
    "papermill": {
     "duration": 0.052267,
     "end_time": "2022-04-22T09:31:26.543968",
     "exception": false,
     "start_time": "2022-04-22T09:31:26.491701",
     "status": "completed"
    },
    "tags": []
   },
   "outputs": [
    {
     "data": {
      "application/javascript": [
       "parent.postMessage({\"jupyterEvent\": \"custom.exercise_interaction\", \"data\": {\"outcomeType\": 1, \"valueTowardsCompletion\": 0.14285714285714285, \"interactionType\": 1, \"questionType\": 2, \"questionId\": \"5_BargainWine\", \"learnToolsVersion\": \"0.3.4\", \"failureMessage\": \"\", \"exceptionClass\": \"\", \"trace\": \"\"}}, \"*\")"
      ],
      "text/plain": [
       "<IPython.core.display.Javascript object>"
      ]
     },
     "metadata": {},
     "output_type": "display_data"
    },
    {
     "data": {
      "text/markdown": [
       "<span style=\"color:#33cc33\">Correct</span>"
      ],
      "text/plain": [
       "Correct"
      ]
     },
     "metadata": {},
     "output_type": "display_data"
    }
   ],
   "source": [
    "bargain_idx = (reviews.points / reviews.price).idxmax()\n",
    "bargain_wine = reviews.loc[bargain_idx, 'title']\n",
    "\n",
    "# Check your answer\n",
    "q5.check()"
   ]
  },
  {
   "cell_type": "code",
   "execution_count": 12,
   "id": "07c94e03",
   "metadata": {
    "execution": {
     "iopub.execute_input": "2022-04-22T09:31:26.621295Z",
     "iopub.status.busy": "2022-04-22T09:31:26.620503Z",
     "iopub.status.idle": "2022-04-22T09:31:26.626213Z",
     "shell.execute_reply": "2022-04-22T09:31:26.625628Z"
    },
    "papermill": {
     "duration": 0.04619,
     "end_time": "2022-04-22T09:31:26.628070",
     "exception": false,
     "start_time": "2022-04-22T09:31:26.581880",
     "status": "completed"
    },
    "tags": []
   },
   "outputs": [
    {
     "data": {
      "text/plain": [
       "'Bandit NV Merlot (California)'"
      ]
     },
     "execution_count": 12,
     "metadata": {},
     "output_type": "execute_result"
    }
   ],
   "source": [
    "bargain_wine"
   ]
  },
  {
   "cell_type": "code",
   "execution_count": 13,
   "id": "68139dff",
   "metadata": {
    "execution": {
     "iopub.execute_input": "2022-04-22T09:31:26.705496Z",
     "iopub.status.busy": "2022-04-22T09:31:26.704982Z",
     "iopub.status.idle": "2022-04-22T09:31:26.711034Z",
     "shell.execute_reply": "2022-04-22T09:31:26.710518Z"
    },
    "papermill": {
     "duration": 0.046752,
     "end_time": "2022-04-22T09:31:26.712913",
     "exception": false,
     "start_time": "2022-04-22T09:31:26.666161",
     "status": "completed"
    },
    "tags": []
   },
   "outputs": [],
   "source": [
    "badwine_idx = (reviews.points / reviews.price).idxmin()\n",
    "bad_wine = reviews.loc[badwine_idx, 'title']"
   ]
  },
  {
   "cell_type": "code",
   "execution_count": 14,
   "id": "b8cdd301",
   "metadata": {
    "execution": {
     "iopub.execute_input": "2022-04-22T09:31:26.792380Z",
     "iopub.status.busy": "2022-04-22T09:31:26.791789Z",
     "iopub.status.idle": "2022-04-22T09:31:26.797705Z",
     "shell.execute_reply": "2022-04-22T09:31:26.796926Z"
    },
    "papermill": {
     "duration": 0.047968,
     "end_time": "2022-04-22T09:31:26.799481",
     "exception": false,
     "start_time": "2022-04-22T09:31:26.751513",
     "status": "completed"
    },
    "tags": []
   },
   "outputs": [
    {
     "data": {
      "text/plain": [
       "'Château les Ormes Sorbet 2013  Médoc'"
      ]
     },
     "execution_count": 14,
     "metadata": {},
     "output_type": "execute_result"
    }
   ],
   "source": [
    "bad_wine"
   ]
  },
  {
   "cell_type": "code",
   "execution_count": 15,
   "id": "c807d9f9",
   "metadata": {
    "execution": {
     "iopub.execute_input": "2022-04-22T09:31:26.878084Z",
     "iopub.status.busy": "2022-04-22T09:31:26.877831Z",
     "iopub.status.idle": "2022-04-22T09:31:26.888478Z",
     "shell.execute_reply": "2022-04-22T09:31:26.887752Z"
    },
    "papermill": {
     "duration": 0.052238,
     "end_time": "2022-04-22T09:31:26.890395",
     "exception": false,
     "start_time": "2022-04-22T09:31:26.838157",
     "status": "completed"
    },
    "tags": []
   },
   "outputs": [
    {
     "data": {
      "application/javascript": [
       "parent.postMessage({\"jupyterEvent\": \"custom.exercise_interaction\", \"data\": {\"interactionType\": 2, \"questionType\": 2, \"questionId\": \"5_BargainWine\", \"learnToolsVersion\": \"0.3.4\", \"valueTowardsCompletion\": 0.0, \"failureMessage\": \"\", \"exceptionClass\": \"\", \"trace\": \"\", \"outcomeType\": 4}}, \"*\")"
      ],
      "text/plain": [
       "<IPython.core.display.Javascript object>"
      ]
     },
     "metadata": {},
     "output_type": "display_data"
    },
    {
     "data": {
      "text/markdown": [
       "<span style=\"color:#3366cc\">Hint:</span> The `idxmax` method may be useful here."
      ],
      "text/plain": [
       "Hint: The `idxmax` method may be useful here."
      ]
     },
     "metadata": {},
     "output_type": "display_data"
    },
    {
     "data": {
      "application/javascript": [
       "parent.postMessage({\"jupyterEvent\": \"custom.exercise_interaction\", \"data\": {\"interactionType\": 3, \"questionType\": 2, \"questionId\": \"5_BargainWine\", \"learnToolsVersion\": \"0.3.4\", \"valueTowardsCompletion\": 0.0, \"failureMessage\": \"\", \"exceptionClass\": \"\", \"trace\": \"\", \"outcomeType\": 4}}, \"*\")"
      ],
      "text/plain": [
       "<IPython.core.display.Javascript object>"
      ]
     },
     "metadata": {},
     "output_type": "display_data"
    },
    {
     "data": {
      "text/markdown": [
       "<span style=\"color:#33cc99\">Solution:</span> \n",
       "```python\n",
       "bargain_idx = (reviews.points / reviews.price).idxmax()\n",
       "bargain_wine = reviews.loc[bargain_idx, 'title']\n",
       "```"
      ],
      "text/plain": [
       "Solution: \n",
       "```python\n",
       "bargain_idx = (reviews.points / reviews.price).idxmax()\n",
       "bargain_wine = reviews.loc[bargain_idx, 'title']\n",
       "```"
      ]
     },
     "metadata": {},
     "output_type": "display_data"
    }
   ],
   "source": [
    "q5.hint()\n",
    "q5.solution()"
   ]
  },
  {
   "cell_type": "markdown",
   "id": "57cbc33c",
   "metadata": {
    "papermill": {
     "duration": 0.040517,
     "end_time": "2022-04-22T09:31:26.971681",
     "exception": false,
     "start_time": "2022-04-22T09:31:26.931164",
     "status": "completed"
    },
    "tags": []
   },
   "source": [
    "## 6.\n",
    "There are only so many words you can use when describing a bottle of wine. Is a wine more likely to be \"tropical\" or \"fruity\"? Create a Series `descriptor_counts` counting how many times each of these two words appears in the `description` column in the dataset. (For simplicity, let's ignore the capitalized versions of these words.)"
   ]
  },
  {
   "cell_type": "code",
   "execution_count": 16,
   "id": "c12fc8d9",
   "metadata": {
    "execution": {
     "iopub.execute_input": "2022-04-22T09:31:27.056508Z",
     "iopub.status.busy": "2022-04-22T09:31:27.055930Z",
     "iopub.status.idle": "2022-04-22T09:31:27.061880Z",
     "shell.execute_reply": "2022-04-22T09:31:27.061215Z"
    },
    "papermill": {
     "duration": 0.050505,
     "end_time": "2022-04-22T09:31:27.063733",
     "exception": false,
     "start_time": "2022-04-22T09:31:27.013228",
     "status": "completed"
    },
    "tags": []
   },
   "outputs": [
    {
     "data": {
      "text/plain": [
       "Index(['country', 'description', 'designation', 'points', 'price', 'province',\n",
       "       'region_1', 'region_2', 'taster_name', 'taster_twitter_handle', 'title',\n",
       "       'variety', 'winery'],\n",
       "      dtype='object')"
      ]
     },
     "execution_count": 16,
     "metadata": {},
     "output_type": "execute_result"
    }
   ],
   "source": [
    "reviews.columns"
   ]
  },
  {
   "cell_type": "code",
   "execution_count": 17,
   "id": "a041dfd7",
   "metadata": {
    "execution": {
     "iopub.execute_input": "2022-04-22T09:31:27.147949Z",
     "iopub.status.busy": "2022-04-22T09:31:27.147411Z",
     "iopub.status.idle": "2022-04-22T09:31:27.171618Z",
     "shell.execute_reply": "2022-04-22T09:31:27.170803Z"
    },
    "papermill": {
     "duration": 0.06854,
     "end_time": "2022-04-22T09:31:27.173558",
     "exception": false,
     "start_time": "2022-04-22T09:31:27.105018",
     "status": "completed"
    },
    "tags": []
   },
   "outputs": [
    {
     "data": {
      "text/plain": [
       "129971"
      ]
     },
     "execution_count": 17,
     "metadata": {},
     "output_type": "execute_result"
    }
   ],
   "source": [
    "reviews.description.count()"
   ]
  },
  {
   "cell_type": "code",
   "execution_count": 18,
   "id": "eb7aa1a8",
   "metadata": {
    "execution": {
     "iopub.execute_input": "2022-04-22T09:31:27.258939Z",
     "iopub.status.busy": "2022-04-22T09:31:27.258412Z",
     "iopub.status.idle": "2022-04-22T09:31:27.408943Z",
     "shell.execute_reply": "2022-04-22T09:31:27.408093Z"
    },
    "papermill": {
     "duration": 0.195391,
     "end_time": "2022-04-22T09:31:27.410912",
     "exception": false,
     "start_time": "2022-04-22T09:31:27.215521",
     "status": "completed"
    },
    "tags": []
   },
   "outputs": [
    {
     "data": {
      "application/javascript": [
       "parent.postMessage({\"jupyterEvent\": \"custom.exercise_interaction\", \"data\": {\"outcomeType\": 1, \"valueTowardsCompletion\": 0.14285714285714285, \"interactionType\": 1, \"questionType\": 1, \"questionId\": \"6_DescriptorCounts\", \"learnToolsVersion\": \"0.3.4\", \"failureMessage\": \"\", \"exceptionClass\": \"\", \"trace\": \"\"}}, \"*\")"
      ],
      "text/plain": [
       "<IPython.core.display.Javascript object>"
      ]
     },
     "metadata": {},
     "output_type": "display_data"
    },
    {
     "data": {
      "text/markdown": [
       "<span style=\"color:#33cc33\">Correct</span>"
      ],
      "text/plain": [
       "Correct"
      ]
     },
     "metadata": {},
     "output_type": "display_data"
    }
   ],
   "source": [
    "n_trop = reviews.description.map(lambda desc: 'tropical' in desc).sum()\n",
    "n_fruity = reviews.description.map(lambda desc: 'fruity' in desc).sum()\n",
    "descriptor_counts = pd.Series([n_trop, n_fruity], index=['tropical', 'fruity'])\n",
    "\n",
    "# Check your answer\n",
    "q6.check()"
   ]
  },
  {
   "cell_type": "code",
   "execution_count": 19,
   "id": "a1d9cc06",
   "metadata": {
    "execution": {
     "iopub.execute_input": "2022-04-22T09:31:27.497926Z",
     "iopub.status.busy": "2022-04-22T09:31:27.497387Z",
     "iopub.status.idle": "2022-04-22T09:31:27.508555Z",
     "shell.execute_reply": "2022-04-22T09:31:27.507780Z"
    },
    "papermill": {
     "duration": 0.05707,
     "end_time": "2022-04-22T09:31:27.510643",
     "exception": false,
     "start_time": "2022-04-22T09:31:27.453573",
     "status": "completed"
    },
    "tags": []
   },
   "outputs": [
    {
     "data": {
      "application/javascript": [
       "parent.postMessage({\"jupyterEvent\": \"custom.exercise_interaction\", \"data\": {\"interactionType\": 2, \"questionType\": 1, \"questionId\": \"6_DescriptorCounts\", \"learnToolsVersion\": \"0.3.4\", \"valueTowardsCompletion\": 0.0, \"failureMessage\": \"\", \"exceptionClass\": \"\", \"trace\": \"\", \"outcomeType\": 4}}, \"*\")"
      ],
      "text/plain": [
       "<IPython.core.display.Javascript object>"
      ]
     },
     "metadata": {},
     "output_type": "display_data"
    },
    {
     "data": {
      "text/markdown": [
       "<span style=\"color:#3366cc\">Hint:</span> Use a map to check each description for the string `tropical`, then count up the number of times this is `True`. Repeat this for `fruity`. Finally, create a `Series` combining the two values."
      ],
      "text/plain": [
       "Hint: Use a map to check each description for the string `tropical`, then count up the number of times this is `True`. Repeat this for `fruity`. Finally, create a `Series` combining the two values."
      ]
     },
     "metadata": {},
     "output_type": "display_data"
    },
    {
     "data": {
      "application/javascript": [
       "parent.postMessage({\"jupyterEvent\": \"custom.exercise_interaction\", \"data\": {\"interactionType\": 3, \"questionType\": 1, \"questionId\": \"6_DescriptorCounts\", \"learnToolsVersion\": \"0.3.4\", \"valueTowardsCompletion\": 0.0, \"failureMessage\": \"\", \"exceptionClass\": \"\", \"trace\": \"\", \"outcomeType\": 4}}, \"*\")"
      ],
      "text/plain": [
       "<IPython.core.display.Javascript object>"
      ]
     },
     "metadata": {},
     "output_type": "display_data"
    },
    {
     "data": {
      "text/markdown": [
       "<span style=\"color:#33cc99\">Solution:</span> \n",
       "```python\n",
       "n_trop = reviews.description.map(lambda desc: \"tropical\" in desc).sum()\n",
       "n_fruity = reviews.description.map(lambda desc: \"fruity\" in desc).sum()\n",
       "descriptor_counts = pd.Series([n_trop, n_fruity], index=['tropical', 'fruity'])\n",
       "```"
      ],
      "text/plain": [
       "Solution: \n",
       "```python\n",
       "n_trop = reviews.description.map(lambda desc: \"tropical\" in desc).sum()\n",
       "n_fruity = reviews.description.map(lambda desc: \"fruity\" in desc).sum()\n",
       "descriptor_counts = pd.Series([n_trop, n_fruity], index=['tropical', 'fruity'])\n",
       "```"
      ]
     },
     "metadata": {},
     "output_type": "display_data"
    }
   ],
   "source": [
    "q6.hint()\n",
    "q6.solution()"
   ]
  },
  {
   "cell_type": "markdown",
   "id": "054d1359",
   "metadata": {
    "papermill": {
     "duration": 0.045048,
     "end_time": "2022-04-22T09:31:27.601010",
     "exception": false,
     "start_time": "2022-04-22T09:31:27.555962",
     "status": "completed"
    },
    "tags": []
   },
   "source": [
    "## 7.\n",
    "We'd like to host these wine reviews on our website, but a rating system ranging from 80 to 100 points is too hard to understand - we'd like to translate them into simple star ratings. A score of 95 or higher counts as 3 stars, a score of at least 85 but less than 95 is 2 stars. Any other score is 1 star.\n",
    "\n",
    "Also, the Canadian Vintners Association bought a lot of ads on the site, so any wines from Canada should automatically get 3 stars, regardless of points.\n",
    "\n",
    "Create a series `star_ratings` with the number of stars corresponding to each review in the dataset."
   ]
  },
  {
   "cell_type": "code",
   "execution_count": 20,
   "id": "f6b1a5d7",
   "metadata": {
    "execution": {
     "iopub.execute_input": "2022-04-22T09:31:27.693313Z",
     "iopub.status.busy": "2022-04-22T09:31:27.692793Z",
     "iopub.status.idle": "2022-04-22T09:31:27.698195Z",
     "shell.execute_reply": "2022-04-22T09:31:27.697611Z"
    },
    "papermill": {
     "duration": 0.053734,
     "end_time": "2022-04-22T09:31:27.700045",
     "exception": false,
     "start_time": "2022-04-22T09:31:27.646311",
     "status": "completed"
    },
    "tags": []
   },
   "outputs": [
    {
     "data": {
      "text/plain": [
       "pandas.core.frame.DataFrame"
      ]
     },
     "execution_count": 20,
     "metadata": {},
     "output_type": "execute_result"
    }
   ],
   "source": [
    "type(reviews)"
   ]
  },
  {
   "cell_type": "code",
   "execution_count": 21,
   "id": "57e0a43a",
   "metadata": {
    "execution": {
     "iopub.execute_input": "2022-04-22T09:31:27.793124Z",
     "iopub.status.busy": "2022-04-22T09:31:27.792617Z",
     "iopub.status.idle": "2022-04-22T09:31:33.642540Z",
     "shell.execute_reply": "2022-04-22T09:31:33.641721Z"
    },
    "papermill": {
     "duration": 5.899119,
     "end_time": "2022-04-22T09:31:33.644615",
     "exception": false,
     "start_time": "2022-04-22T09:31:27.745496",
     "status": "completed"
    },
    "tags": []
   },
   "outputs": [
    {
     "data": {
      "application/javascript": [
       "parent.postMessage({\"jupyterEvent\": \"custom.exercise_interaction\", \"data\": {\"outcomeType\": 1, \"valueTowardsCompletion\": 0.14285714285714285, \"interactionType\": 1, \"questionType\": 1, \"questionId\": \"7_StarRatings\", \"learnToolsVersion\": \"0.3.4\", \"failureMessage\": \"\", \"exceptionClass\": \"\", \"trace\": \"\"}}, \"*\")"
      ],
      "text/plain": [
       "<IPython.core.display.Javascript object>"
      ]
     },
     "metadata": {},
     "output_type": "display_data"
    },
    {
     "data": {
      "text/markdown": [
       "<span style=\"color:#33cc33\">Correct</span>"
      ],
      "text/plain": [
       "Correct"
      ]
     },
     "metadata": {},
     "output_type": "display_data"
    }
   ],
   "source": [
    "def make_star(row):\n",
    "    if row.country == 'Canada':\n",
    "        return 3\n",
    "    elif row.points >= 95:\n",
    "        return 3\n",
    "    elif row.points >= 85 and row.points <95:\n",
    "        return 2\n",
    "    else:\n",
    "        return 1\n",
    "        \n",
    "\n",
    "star_ratings = reviews.apply(make_star, axis='columns')\n",
    "\n",
    "# Check your answer\n",
    "q7.check()"
   ]
  },
  {
   "cell_type": "code",
   "execution_count": 22,
   "id": "cb5284e1",
   "metadata": {
    "execution": {
     "iopub.execute_input": "2022-04-22T09:31:33.738208Z",
     "iopub.status.busy": "2022-04-22T09:31:33.737317Z",
     "iopub.status.idle": "2022-04-22T09:31:33.750908Z",
     "shell.execute_reply": "2022-04-22T09:31:33.750116Z"
    },
    "papermill": {
     "duration": 0.062656,
     "end_time": "2022-04-22T09:31:33.752815",
     "exception": false,
     "start_time": "2022-04-22T09:31:33.690159",
     "status": "completed"
    },
    "tags": []
   },
   "outputs": [
    {
     "data": {
      "text/plain": [
       "count    129971.000000\n",
       "mean          1.924999\n",
       "             ...      \n",
       "75%           2.000000\n",
       "max           3.000000\n",
       "Length: 8, dtype: float64"
      ]
     },
     "execution_count": 22,
     "metadata": {},
     "output_type": "execute_result"
    }
   ],
   "source": [
    "star_ratings.describe()"
   ]
  },
  {
   "cell_type": "code",
   "execution_count": 23,
   "id": "513ed642",
   "metadata": {
    "execution": {
     "iopub.execute_input": "2022-04-22T09:31:33.847401Z",
     "iopub.status.busy": "2022-04-22T09:31:33.846822Z",
     "iopub.status.idle": "2022-04-22T09:31:33.855495Z",
     "shell.execute_reply": "2022-04-22T09:31:33.854978Z"
    },
    "papermill": {
     "duration": 0.05775,
     "end_time": "2022-04-22T09:31:33.857196",
     "exception": false,
     "start_time": "2022-04-22T09:31:33.799446",
     "status": "completed"
    },
    "tags": []
   },
   "outputs": [
    {
     "data": {
      "application/javascript": [
       "parent.postMessage({\"jupyterEvent\": \"custom.exercise_interaction\", \"data\": {\"interactionType\": 2, \"questionType\": 1, \"questionId\": \"7_StarRatings\", \"learnToolsVersion\": \"0.3.4\", \"valueTowardsCompletion\": 0.0, \"failureMessage\": \"\", \"exceptionClass\": \"\", \"trace\": \"\", \"outcomeType\": 4}}, \"*\")"
      ],
      "text/plain": [
       "<IPython.core.display.Javascript object>"
      ]
     },
     "metadata": {},
     "output_type": "display_data"
    },
    {
     "data": {
      "text/markdown": [
       "<span style=\"color:#3366cc\">Hint:</span> Begin by writing a custom function that accepts a row from the DataFrame as input and returns the star rating corresponding to the row.  Then, use `DataFrame.apply` to apply the custom function to every row in the dataset."
      ],
      "text/plain": [
       "Hint: Begin by writing a custom function that accepts a row from the DataFrame as input and returns the star rating corresponding to the row.  Then, use `DataFrame.apply` to apply the custom function to every row in the dataset."
      ]
     },
     "metadata": {},
     "output_type": "display_data"
    },
    {
     "data": {
      "application/javascript": [
       "parent.postMessage({\"jupyterEvent\": \"custom.exercise_interaction\", \"data\": {\"interactionType\": 3, \"questionType\": 1, \"questionId\": \"7_StarRatings\", \"learnToolsVersion\": \"0.3.4\", \"valueTowardsCompletion\": 0.0, \"failureMessage\": \"\", \"exceptionClass\": \"\", \"trace\": \"\", \"outcomeType\": 4}}, \"*\")"
      ],
      "text/plain": [
       "<IPython.core.display.Javascript object>"
      ]
     },
     "metadata": {},
     "output_type": "display_data"
    },
    {
     "data": {
      "text/markdown": [
       "<span style=\"color:#33cc99\">Solution:</span> \n",
       "```python\n",
       "def stars(row):\n",
       "    if row.country == 'Canada':\n",
       "        return 3\n",
       "    elif row.points >= 95:\n",
       "        return 3\n",
       "    elif row.points >= 85:\n",
       "        return 2\n",
       "    else:\n",
       "        return 1\n",
       "    \n",
       "star_ratings = reviews.apply(stars, axis='columns')\n",
       "```"
      ],
      "text/plain": [
       "Solution: \n",
       "```python\n",
       "def stars(row):\n",
       "    if row.country == 'Canada':\n",
       "        return 3\n",
       "    elif row.points >= 95:\n",
       "        return 3\n",
       "    elif row.points >= 85:\n",
       "        return 2\n",
       "    else:\n",
       "        return 1\n",
       "    \n",
       "star_ratings = reviews.apply(stars, axis='columns')\n",
       "```"
      ]
     },
     "metadata": {},
     "output_type": "display_data"
    }
   ],
   "source": [
    "q7.hint()\n",
    "q7.solution()"
   ]
  },
  {
   "cell_type": "markdown",
   "id": "1f541583",
   "metadata": {
    "papermill": {
     "duration": 0.049241,
     "end_time": "2022-04-22T09:31:33.956869",
     "exception": false,
     "start_time": "2022-04-22T09:31:33.907628",
     "status": "completed"
    },
    "tags": []
   },
   "source": [
    "# Keep going\n",
    "Continue to **[grouping and sorting](https://www.kaggle.com/residentmario/grouping-and-sorting)**."
   ]
  },
  {
   "cell_type": "markdown",
   "id": "25860c02",
   "metadata": {
    "papermill": {
     "duration": 0.050595,
     "end_time": "2022-04-22T09:31:34.056816",
     "exception": false,
     "start_time": "2022-04-22T09:31:34.006221",
     "status": "completed"
    },
    "tags": []
   },
   "source": [
    "---\n",
    "\n",
    "\n",
    "\n",
    "\n",
    "*Have questions or comments? Visit the [course discussion forum](https://www.kaggle.com/learn/pandas/discussion) to chat with other learners.*"
   ]
  }
 ],
 "metadata": {
  "kernelspec": {
   "display_name": "Python 3",
   "language": "python",
   "name": "python3"
  },
  "language_info": {
   "codemirror_mode": {
    "name": "ipython",
    "version": 3
   },
   "file_extension": ".py",
   "mimetype": "text/x-python",
   "name": "python",
   "nbconvert_exporter": "python",
   "pygments_lexer": "ipython3",
   "version": "3.7.12"
  },
  "papermill": {
   "default_parameters": {},
   "duration": 26.396279,
   "end_time": "2022-04-22T09:31:34.725379",
   "environment_variables": {},
   "exception": null,
   "input_path": "__notebook__.ipynb",
   "output_path": "__notebook__.ipynb",
   "parameters": {},
   "start_time": "2022-04-22T09:31:08.329100",
   "version": "2.3.4"
  }
 },
 "nbformat": 4,
 "nbformat_minor": 5
}
