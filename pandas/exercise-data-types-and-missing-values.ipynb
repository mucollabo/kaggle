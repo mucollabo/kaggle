{
 "cells": [
  {
   "cell_type": "markdown",
   "id": "3250a9f1",
   "metadata": {
    "papermill": {
     "duration": 0.019718,
     "end_time": "2022-04-25T06:53:02.586610",
     "exception": false,
     "start_time": "2022-04-25T06:53:02.566892",
     "status": "completed"
    },
    "tags": []
   },
   "source": [
    "**This notebook is an exercise in the [Pandas](https://www.kaggle.com/learn/pandas) course.  You can reference the tutorial at [this link](https://www.kaggle.com/residentmario/data-types-and-missing-values).**\n",
    "\n",
    "---\n"
   ]
  },
  {
   "cell_type": "markdown",
   "id": "00216b05",
   "metadata": {
    "papermill": {
     "duration": 0.018442,
     "end_time": "2022-04-25T06:53:02.623973",
     "exception": false,
     "start_time": "2022-04-25T06:53:02.605531",
     "status": "completed"
    },
    "tags": []
   },
   "source": [
    "# Introduction\n",
    "\n",
    "Run the following cell to load your data and some utility functions."
   ]
  },
  {
   "cell_type": "code",
   "execution_count": 1,
   "id": "cf6e6aa5",
   "metadata": {
    "execution": {
     "iopub.execute_input": "2022-04-25T06:53:02.663978Z",
     "iopub.status.busy": "2022-04-25T06:53:02.663083Z",
     "iopub.status.idle": "2022-04-25T06:53:05.571489Z",
     "shell.execute_reply": "2022-04-25T06:53:05.570582Z"
    },
    "papermill": {
     "duration": 2.931065,
     "end_time": "2022-04-25T06:53:05.573773",
     "exception": false,
     "start_time": "2022-04-25T06:53:02.642708",
     "status": "completed"
    },
    "tags": []
   },
   "outputs": [
    {
     "name": "stdout",
     "output_type": "stream",
     "text": [
      "Setup complete.\n"
     ]
    }
   ],
   "source": [
    "import pandas as pd\n",
    "\n",
    "reviews = pd.read_csv(\"../input/wine-reviews/winemag-data-130k-v2.csv\", index_col=0)\n",
    "\n",
    "from learntools.core import binder; binder.bind(globals())\n",
    "from learntools.pandas.data_types_and_missing_data import *\n",
    "print(\"Setup complete.\")"
   ]
  },
  {
   "cell_type": "markdown",
   "id": "6c6f3659",
   "metadata": {
    "papermill": {
     "duration": 0.019221,
     "end_time": "2022-04-25T06:53:05.612900",
     "exception": false,
     "start_time": "2022-04-25T06:53:05.593679",
     "status": "completed"
    },
    "tags": []
   },
   "source": [
    "# Exercises"
   ]
  },
  {
   "cell_type": "markdown",
   "id": "27d0c0d2",
   "metadata": {
    "papermill": {
     "duration": 0.018953,
     "end_time": "2022-04-25T06:53:05.651045",
     "exception": false,
     "start_time": "2022-04-25T06:53:05.632092",
     "status": "completed"
    },
    "tags": []
   },
   "source": [
    "## 1. \n",
    "What is the data type of the `points` column in the dataset?"
   ]
  },
  {
   "cell_type": "code",
   "execution_count": 2,
   "id": "dc6d5368",
   "metadata": {
    "execution": {
     "iopub.execute_input": "2022-04-25T06:53:05.692977Z",
     "iopub.status.busy": "2022-04-25T06:53:05.692588Z",
     "iopub.status.idle": "2022-04-25T06:53:05.704263Z",
     "shell.execute_reply": "2022-04-25T06:53:05.703234Z"
    },
    "papermill": {
     "duration": 0.035753,
     "end_time": "2022-04-25T06:53:05.706931",
     "exception": false,
     "start_time": "2022-04-25T06:53:05.671178",
     "status": "completed"
    },
    "tags": []
   },
   "outputs": [
    {
     "data": {
      "application/javascript": [
       "parent.postMessage({\"jupyterEvent\": \"custom.exercise_interaction\", \"data\": {\"outcomeType\": 1, \"valueTowardsCompletion\": 0.25, \"interactionType\": 1, \"questionType\": 1, \"questionId\": \"1_PointsDtype\", \"learnToolsVersion\": \"0.3.4\", \"failureMessage\": \"\", \"exceptionClass\": \"\", \"trace\": \"\"}}, \"*\")"
      ],
      "text/plain": [
       "<IPython.core.display.Javascript object>"
      ]
     },
     "metadata": {},
     "output_type": "display_data"
    },
    {
     "data": {
      "text/markdown": [
       "<span style=\"color:#33cc33\">Correct</span>"
      ],
      "text/plain": [
       "Correct"
      ]
     },
     "metadata": {},
     "output_type": "display_data"
    }
   ],
   "source": [
    "# Your code here\n",
    "dtype = reviews.points.dtype\n",
    "\n",
    "# Check your answer\n",
    "q1.check()"
   ]
  },
  {
   "cell_type": "code",
   "execution_count": 3,
   "id": "b90b3bbd",
   "metadata": {
    "execution": {
     "iopub.execute_input": "2022-04-25T06:53:05.749166Z",
     "iopub.status.busy": "2022-04-25T06:53:05.748894Z",
     "iopub.status.idle": "2022-04-25T06:53:05.752577Z",
     "shell.execute_reply": "2022-04-25T06:53:05.751555Z"
    },
    "papermill": {
     "duration": 0.027495,
     "end_time": "2022-04-25T06:53:05.754670",
     "exception": false,
     "start_time": "2022-04-25T06:53:05.727175",
     "status": "completed"
    },
    "tags": []
   },
   "outputs": [],
   "source": [
    "#q1.hint()\n",
    "#q1.solution()"
   ]
  },
  {
   "cell_type": "markdown",
   "id": "32734784",
   "metadata": {
    "papermill": {
     "duration": 0.020117,
     "end_time": "2022-04-25T06:53:05.795286",
     "exception": false,
     "start_time": "2022-04-25T06:53:05.775169",
     "status": "completed"
    },
    "tags": []
   },
   "source": [
    "## 2. \n",
    "Create a Series from entries in the `points` column, but convert the entries to strings. Hint: strings are `str` in native Python."
   ]
  },
  {
   "cell_type": "code",
   "execution_count": 4,
   "id": "db92a9d6",
   "metadata": {
    "execution": {
     "iopub.execute_input": "2022-04-25T06:53:05.838803Z",
     "iopub.status.busy": "2022-04-25T06:53:05.838059Z",
     "iopub.status.idle": "2022-04-25T06:53:05.970688Z",
     "shell.execute_reply": "2022-04-25T06:53:05.970150Z"
    },
    "papermill": {
     "duration": 0.156348,
     "end_time": "2022-04-25T06:53:05.972532",
     "exception": false,
     "start_time": "2022-04-25T06:53:05.816184",
     "status": "completed"
    },
    "tags": []
   },
   "outputs": [
    {
     "data": {
      "application/javascript": [
       "parent.postMessage({\"jupyterEvent\": \"custom.exercise_interaction\", \"data\": {\"outcomeType\": 1, \"valueTowardsCompletion\": 0.25, \"interactionType\": 1, \"questionType\": 1, \"questionId\": \"2_StrPoints\", \"learnToolsVersion\": \"0.3.4\", \"failureMessage\": \"\", \"exceptionClass\": \"\", \"trace\": \"\"}}, \"*\")"
      ],
      "text/plain": [
       "<IPython.core.display.Javascript object>"
      ]
     },
     "metadata": {},
     "output_type": "display_data"
    },
    {
     "data": {
      "text/markdown": [
       "<span style=\"color:#33cc33\">Correct</span>"
      ],
      "text/plain": [
       "Correct"
      ]
     },
     "metadata": {},
     "output_type": "display_data"
    }
   ],
   "source": [
    "point_strings = reviews.points.astype('str')\n",
    "\n",
    "# Check your answer\n",
    "q2.check()"
   ]
  },
  {
   "cell_type": "code",
   "execution_count": 5,
   "id": "f71fc540",
   "metadata": {
    "execution": {
     "iopub.execute_input": "2022-04-25T06:53:06.017755Z",
     "iopub.status.busy": "2022-04-25T06:53:06.017439Z",
     "iopub.status.idle": "2022-04-25T06:53:06.021082Z",
     "shell.execute_reply": "2022-04-25T06:53:06.020288Z"
    },
    "papermill": {
     "duration": 0.028756,
     "end_time": "2022-04-25T06:53:06.023034",
     "exception": false,
     "start_time": "2022-04-25T06:53:05.994278",
     "status": "completed"
    },
    "tags": []
   },
   "outputs": [],
   "source": [
    "#q2.hint()\n",
    "#q2.solution()"
   ]
  },
  {
   "cell_type": "markdown",
   "id": "be6d9faa",
   "metadata": {
    "papermill": {
     "duration": 0.023685,
     "end_time": "2022-04-25T06:53:06.068462",
     "exception": false,
     "start_time": "2022-04-25T06:53:06.044777",
     "status": "completed"
    },
    "tags": []
   },
   "source": [
    "## 3.\n",
    "Sometimes the price column is null. How many reviews in the dataset are missing a price?"
   ]
  },
  {
   "cell_type": "code",
   "execution_count": 6,
   "id": "8ff6b090",
   "metadata": {
    "execution": {
     "iopub.execute_input": "2022-04-25T06:53:06.113728Z",
     "iopub.status.busy": "2022-04-25T06:53:06.113424Z",
     "iopub.status.idle": "2022-04-25T06:53:06.148104Z",
     "shell.execute_reply": "2022-04-25T06:53:06.146864Z"
    },
    "papermill": {
     "duration": 0.060229,
     "end_time": "2022-04-25T06:53:06.150483",
     "exception": false,
     "start_time": "2022-04-25T06:53:06.090254",
     "status": "completed"
    },
    "tags": []
   },
   "outputs": [
    {
     "data": {
      "text/html": [
       "<div>\n",
       "<style scoped>\n",
       "    .dataframe tbody tr th:only-of-type {\n",
       "        vertical-align: middle;\n",
       "    }\n",
       "\n",
       "    .dataframe tbody tr th {\n",
       "        vertical-align: top;\n",
       "    }\n",
       "\n",
       "    .dataframe thead th {\n",
       "        text-align: right;\n",
       "    }\n",
       "</style>\n",
       "<table border=\"1\" class=\"dataframe\">\n",
       "  <thead>\n",
       "    <tr style=\"text-align: right;\">\n",
       "      <th></th>\n",
       "      <th>country</th>\n",
       "      <th>description</th>\n",
       "      <th>designation</th>\n",
       "      <th>points</th>\n",
       "      <th>price</th>\n",
       "      <th>province</th>\n",
       "      <th>region_1</th>\n",
       "      <th>region_2</th>\n",
       "      <th>taster_name</th>\n",
       "      <th>taster_twitter_handle</th>\n",
       "      <th>title</th>\n",
       "      <th>variety</th>\n",
       "      <th>winery</th>\n",
       "    </tr>\n",
       "  </thead>\n",
       "  <tbody>\n",
       "    <tr>\n",
       "      <th>0</th>\n",
       "      <td>Italy</td>\n",
       "      <td>Aromas include tropical fruit, broom, brimston...</td>\n",
       "      <td>Vulkà Bianco</td>\n",
       "      <td>87</td>\n",
       "      <td>NaN</td>\n",
       "      <td>Sicily &amp; Sardinia</td>\n",
       "      <td>Etna</td>\n",
       "      <td>NaN</td>\n",
       "      <td>Kerin O’Keefe</td>\n",
       "      <td>@kerinokeefe</td>\n",
       "      <td>Nicosia 2013 Vulkà Bianco  (Etna)</td>\n",
       "      <td>White Blend</td>\n",
       "      <td>Nicosia</td>\n",
       "    </tr>\n",
       "    <tr>\n",
       "      <th>13</th>\n",
       "      <td>Italy</td>\n",
       "      <td>This is dominated by oak and oak-driven aromas...</td>\n",
       "      <td>Rosso</td>\n",
       "      <td>87</td>\n",
       "      <td>NaN</td>\n",
       "      <td>Sicily &amp; Sardinia</td>\n",
       "      <td>Etna</td>\n",
       "      <td>NaN</td>\n",
       "      <td>Kerin O’Keefe</td>\n",
       "      <td>@kerinokeefe</td>\n",
       "      <td>Masseria Setteporte 2012 Rosso  (Etna)</td>\n",
       "      <td>Nerello Mascalese</td>\n",
       "      <td>Masseria Setteporte</td>\n",
       "    </tr>\n",
       "    <tr>\n",
       "      <th>30</th>\n",
       "      <td>France</td>\n",
       "      <td>Red cherry fruit comes laced with light tannin...</td>\n",
       "      <td>Nouveau</td>\n",
       "      <td>86</td>\n",
       "      <td>NaN</td>\n",
       "      <td>Beaujolais</td>\n",
       "      <td>Beaujolais-Villages</td>\n",
       "      <td>NaN</td>\n",
       "      <td>Roger Voss</td>\n",
       "      <td>@vossroger</td>\n",
       "      <td>Domaine de la Madone 2012 Nouveau  (Beaujolais...</td>\n",
       "      <td>Gamay</td>\n",
       "      <td>Domaine de la Madone</td>\n",
       "    </tr>\n",
       "    <tr>\n",
       "      <th>31</th>\n",
       "      <td>Italy</td>\n",
       "      <td>Merlot and Nero d'Avola form the base for this...</td>\n",
       "      <td>Calanìca Nero d'Avola-Merlot</td>\n",
       "      <td>86</td>\n",
       "      <td>NaN</td>\n",
       "      <td>Sicily &amp; Sardinia</td>\n",
       "      <td>Sicilia</td>\n",
       "      <td>NaN</td>\n",
       "      <td>NaN</td>\n",
       "      <td>NaN</td>\n",
       "      <td>Duca di Salaparuta 2010 Calanìca Nero d'Avola-...</td>\n",
       "      <td>Red Blend</td>\n",
       "      <td>Duca di Salaparuta</td>\n",
       "    </tr>\n",
       "    <tr>\n",
       "      <th>32</th>\n",
       "      <td>Italy</td>\n",
       "      <td>Part of the extended Calanìca series, this Gri...</td>\n",
       "      <td>Calanìca Grillo-Viognier</td>\n",
       "      <td>86</td>\n",
       "      <td>NaN</td>\n",
       "      <td>Sicily &amp; Sardinia</td>\n",
       "      <td>Sicilia</td>\n",
       "      <td>NaN</td>\n",
       "      <td>NaN</td>\n",
       "      <td>NaN</td>\n",
       "      <td>Duca di Salaparuta 2011 Calanìca Grillo-Viogni...</td>\n",
       "      <td>White Blend</td>\n",
       "      <td>Duca di Salaparuta</td>\n",
       "    </tr>\n",
       "    <tr>\n",
       "      <th>...</th>\n",
       "      <td>...</td>\n",
       "      <td>...</td>\n",
       "      <td>...</td>\n",
       "      <td>...</td>\n",
       "      <td>...</td>\n",
       "      <td>...</td>\n",
       "      <td>...</td>\n",
       "      <td>...</td>\n",
       "      <td>...</td>\n",
       "      <td>...</td>\n",
       "      <td>...</td>\n",
       "      <td>...</td>\n",
       "      <td>...</td>\n",
       "    </tr>\n",
       "    <tr>\n",
       "      <th>129844</th>\n",
       "      <td>Italy</td>\n",
       "      <td>Doga delle Clavule is a neutral, mineral-drive...</td>\n",
       "      <td>Doga delle Clavule</td>\n",
       "      <td>86</td>\n",
       "      <td>NaN</td>\n",
       "      <td>Tuscany</td>\n",
       "      <td>Morellino di Scansano</td>\n",
       "      <td>NaN</td>\n",
       "      <td>NaN</td>\n",
       "      <td>NaN</td>\n",
       "      <td>Caparzo 2006 Doga delle Clavule  (Morellino di...</td>\n",
       "      <td>Sangiovese</td>\n",
       "      <td>Caparzo</td>\n",
       "    </tr>\n",
       "    <tr>\n",
       "      <th>129860</th>\n",
       "      <td>Portugal</td>\n",
       "      <td>This rich wine has a firm structure as well as...</td>\n",
       "      <td>Pacheca Superior</td>\n",
       "      <td>90</td>\n",
       "      <td>NaN</td>\n",
       "      <td>Douro</td>\n",
       "      <td>NaN</td>\n",
       "      <td>NaN</td>\n",
       "      <td>Roger Voss</td>\n",
       "      <td>@vossroger</td>\n",
       "      <td>Quinta da Pacheca 2013 Pacheca Superior Red (D...</td>\n",
       "      <td>Portuguese Red</td>\n",
       "      <td>Quinta da Pacheca</td>\n",
       "    </tr>\n",
       "    <tr>\n",
       "      <th>129863</th>\n",
       "      <td>Portugal</td>\n",
       "      <td>This mature wine that has 50% Touriga Nacional...</td>\n",
       "      <td>Reserva</td>\n",
       "      <td>90</td>\n",
       "      <td>NaN</td>\n",
       "      <td>Dão</td>\n",
       "      <td>NaN</td>\n",
       "      <td>NaN</td>\n",
       "      <td>Roger Voss</td>\n",
       "      <td>@vossroger</td>\n",
       "      <td>Seacampo 2011 Reserva Red (Dão)</td>\n",
       "      <td>Portuguese Red</td>\n",
       "      <td>Seacampo</td>\n",
       "    </tr>\n",
       "    <tr>\n",
       "      <th>129893</th>\n",
       "      <td>Italy</td>\n",
       "      <td>Aromas of passion fruit, hay and a vegetal not...</td>\n",
       "      <td>Corte Menini</td>\n",
       "      <td>91</td>\n",
       "      <td>NaN</td>\n",
       "      <td>Veneto</td>\n",
       "      <td>Soave Classico</td>\n",
       "      <td>NaN</td>\n",
       "      <td>Kerin O’Keefe</td>\n",
       "      <td>@kerinokeefe</td>\n",
       "      <td>Le Mandolare 2015 Corte Menini  (Soave Classico)</td>\n",
       "      <td>Garganega</td>\n",
       "      <td>Le Mandolare</td>\n",
       "    </tr>\n",
       "    <tr>\n",
       "      <th>129964</th>\n",
       "      <td>France</td>\n",
       "      <td>Initially quite muted, this wine slowly develo...</td>\n",
       "      <td>Domaine Saint-Rémy Herrenweg</td>\n",
       "      <td>90</td>\n",
       "      <td>NaN</td>\n",
       "      <td>Alsace</td>\n",
       "      <td>Alsace</td>\n",
       "      <td>NaN</td>\n",
       "      <td>Roger Voss</td>\n",
       "      <td>@vossroger</td>\n",
       "      <td>Domaine Ehrhart 2013 Domaine Saint-Rémy Herren...</td>\n",
       "      <td>Gewürztraminer</td>\n",
       "      <td>Domaine Ehrhart</td>\n",
       "    </tr>\n",
       "  </tbody>\n",
       "</table>\n",
       "<p>8996 rows × 13 columns</p>\n",
       "</div>"
      ],
      "text/plain": [
       "         country                                        description  \\\n",
       "0          Italy  Aromas include tropical fruit, broom, brimston...   \n",
       "13         Italy  This is dominated by oak and oak-driven aromas...   \n",
       "30        France  Red cherry fruit comes laced with light tannin...   \n",
       "31         Italy  Merlot and Nero d'Avola form the base for this...   \n",
       "32         Italy  Part of the extended Calanìca series, this Gri...   \n",
       "...          ...                                                ...   \n",
       "129844     Italy  Doga delle Clavule is a neutral, mineral-drive...   \n",
       "129860  Portugal  This rich wine has a firm structure as well as...   \n",
       "129863  Portugal  This mature wine that has 50% Touriga Nacional...   \n",
       "129893     Italy  Aromas of passion fruit, hay and a vegetal not...   \n",
       "129964    France  Initially quite muted, this wine slowly develo...   \n",
       "\n",
       "                         designation  points  price           province  \\\n",
       "0                       Vulkà Bianco      87    NaN  Sicily & Sardinia   \n",
       "13                             Rosso      87    NaN  Sicily & Sardinia   \n",
       "30                           Nouveau      86    NaN         Beaujolais   \n",
       "31      Calanìca Nero d'Avola-Merlot      86    NaN  Sicily & Sardinia   \n",
       "32          Calanìca Grillo-Viognier      86    NaN  Sicily & Sardinia   \n",
       "...                              ...     ...    ...                ...   \n",
       "129844            Doga delle Clavule      86    NaN            Tuscany   \n",
       "129860              Pacheca Superior      90    NaN              Douro   \n",
       "129863                       Reserva      90    NaN                Dão   \n",
       "129893                  Corte Menini      91    NaN             Veneto   \n",
       "129964  Domaine Saint-Rémy Herrenweg      90    NaN             Alsace   \n",
       "\n",
       "                     region_1 region_2    taster_name taster_twitter_handle  \\\n",
       "0                        Etna      NaN  Kerin O’Keefe          @kerinokeefe   \n",
       "13                       Etna      NaN  Kerin O’Keefe          @kerinokeefe   \n",
       "30        Beaujolais-Villages      NaN     Roger Voss            @vossroger   \n",
       "31                    Sicilia      NaN            NaN                   NaN   \n",
       "32                    Sicilia      NaN            NaN                   NaN   \n",
       "...                       ...      ...            ...                   ...   \n",
       "129844  Morellino di Scansano      NaN            NaN                   NaN   \n",
       "129860                    NaN      NaN     Roger Voss            @vossroger   \n",
       "129863                    NaN      NaN     Roger Voss            @vossroger   \n",
       "129893         Soave Classico      NaN  Kerin O’Keefe          @kerinokeefe   \n",
       "129964                 Alsace      NaN     Roger Voss            @vossroger   \n",
       "\n",
       "                                                    title            variety  \\\n",
       "0                       Nicosia 2013 Vulkà Bianco  (Etna)        White Blend   \n",
       "13                 Masseria Setteporte 2012 Rosso  (Etna)  Nerello Mascalese   \n",
       "30      Domaine de la Madone 2012 Nouveau  (Beaujolais...              Gamay   \n",
       "31      Duca di Salaparuta 2010 Calanìca Nero d'Avola-...          Red Blend   \n",
       "32      Duca di Salaparuta 2011 Calanìca Grillo-Viogni...        White Blend   \n",
       "...                                                   ...                ...   \n",
       "129844  Caparzo 2006 Doga delle Clavule  (Morellino di...         Sangiovese   \n",
       "129860  Quinta da Pacheca 2013 Pacheca Superior Red (D...     Portuguese Red   \n",
       "129863                    Seacampo 2011 Reserva Red (Dão)     Portuguese Red   \n",
       "129893   Le Mandolare 2015 Corte Menini  (Soave Classico)          Garganega   \n",
       "129964  Domaine Ehrhart 2013 Domaine Saint-Rémy Herren...     Gewürztraminer   \n",
       "\n",
       "                      winery  \n",
       "0                    Nicosia  \n",
       "13       Masseria Setteporte  \n",
       "30      Domaine de la Madone  \n",
       "31        Duca di Salaparuta  \n",
       "32        Duca di Salaparuta  \n",
       "...                      ...  \n",
       "129844               Caparzo  \n",
       "129860     Quinta da Pacheca  \n",
       "129863              Seacampo  \n",
       "129893          Le Mandolare  \n",
       "129964       Domaine Ehrhart  \n",
       "\n",
       "[8996 rows x 13 columns]"
      ]
     },
     "execution_count": 6,
     "metadata": {},
     "output_type": "execute_result"
    }
   ],
   "source": [
    "reviews[pd.isnull(reviews.price)]"
   ]
  },
  {
   "cell_type": "code",
   "execution_count": 7,
   "id": "adeaf15d",
   "metadata": {
    "execution": {
     "iopub.execute_input": "2022-04-25T06:53:06.198513Z",
     "iopub.status.busy": "2022-04-25T06:53:06.198198Z",
     "iopub.status.idle": "2022-04-25T06:53:06.210267Z",
     "shell.execute_reply": "2022-04-25T06:53:06.209334Z"
    },
    "papermill": {
     "duration": 0.039176,
     "end_time": "2022-04-25T06:53:06.212663",
     "exception": false,
     "start_time": "2022-04-25T06:53:06.173487",
     "status": "completed"
    },
    "tags": []
   },
   "outputs": [
    {
     "data": {
      "text/plain": [
       "pandas.core.frame.DataFrame"
      ]
     },
     "execution_count": 7,
     "metadata": {},
     "output_type": "execute_result"
    }
   ],
   "source": [
    "type(reviews[pd.isnull(reviews.price)])"
   ]
  },
  {
   "cell_type": "code",
   "execution_count": 8,
   "id": "6a83fe3c",
   "metadata": {
    "execution": {
     "iopub.execute_input": "2022-04-25T06:53:06.261673Z",
     "iopub.status.busy": "2022-04-25T06:53:06.261339Z",
     "iopub.status.idle": "2022-04-25T06:53:06.274964Z",
     "shell.execute_reply": "2022-04-25T06:53:06.274229Z"
    },
    "papermill": {
     "duration": 0.040208,
     "end_time": "2022-04-25T06:53:06.276998",
     "exception": false,
     "start_time": "2022-04-25T06:53:06.236790",
     "status": "completed"
    },
    "tags": []
   },
   "outputs": [
    {
     "data": {
      "application/javascript": [
       "parent.postMessage({\"jupyterEvent\": \"custom.exercise_interaction\", \"data\": {\"outcomeType\": 1, \"valueTowardsCompletion\": 0.25, \"interactionType\": 1, \"questionType\": 1, \"questionId\": \"3_CountMissingPrices\", \"learnToolsVersion\": \"0.3.4\", \"failureMessage\": \"\", \"exceptionClass\": \"\", \"trace\": \"\"}}, \"*\")"
      ],
      "text/plain": [
       "<IPython.core.display.Javascript object>"
      ]
     },
     "metadata": {},
     "output_type": "display_data"
    },
    {
     "data": {
      "text/markdown": [
       "<span style=\"color:#33cc33\">Correct</span>"
      ],
      "text/plain": [
       "Correct"
      ]
     },
     "metadata": {},
     "output_type": "display_data"
    }
   ],
   "source": [
    "n_missing_prices = len(reviews[pd.isnull(reviews.price)])\n",
    "\n",
    "# Check your answer\n",
    "q3.check()"
   ]
  },
  {
   "cell_type": "code",
   "execution_count": 9,
   "id": "2bd6860a",
   "metadata": {
    "execution": {
     "iopub.execute_input": "2022-04-25T06:53:06.327707Z",
     "iopub.status.busy": "2022-04-25T06:53:06.327392Z",
     "iopub.status.idle": "2022-04-25T06:53:06.333117Z",
     "shell.execute_reply": "2022-04-25T06:53:06.332361Z"
    },
    "papermill": {
     "duration": 0.033794,
     "end_time": "2022-04-25T06:53:06.335235",
     "exception": false,
     "start_time": "2022-04-25T06:53:06.301441",
     "status": "completed"
    },
    "tags": []
   },
   "outputs": [
    {
     "data": {
      "text/plain": [
       "8996"
      ]
     },
     "execution_count": 9,
     "metadata": {},
     "output_type": "execute_result"
    }
   ],
   "source": [
    "n_missing_prices"
   ]
  },
  {
   "cell_type": "code",
   "execution_count": 10,
   "id": "4720c70c",
   "metadata": {
    "execution": {
     "iopub.execute_input": "2022-04-25T06:53:06.386843Z",
     "iopub.status.busy": "2022-04-25T06:53:06.386585Z",
     "iopub.status.idle": "2022-04-25T06:53:06.393045Z",
     "shell.execute_reply": "2022-04-25T06:53:06.392405Z"
    },
    "papermill": {
     "duration": 0.034612,
     "end_time": "2022-04-25T06:53:06.395002",
     "exception": false,
     "start_time": "2022-04-25T06:53:06.360390",
     "status": "completed"
    },
    "tags": []
   },
   "outputs": [
    {
     "data": {
      "application/javascript": [
       "parent.postMessage({\"jupyterEvent\": \"custom.exercise_interaction\", \"data\": {\"interactionType\": 2, \"questionType\": 1, \"questionId\": \"3_CountMissingPrices\", \"learnToolsVersion\": \"0.3.4\", \"valueTowardsCompletion\": 0.0, \"failureMessage\": \"\", \"exceptionClass\": \"\", \"trace\": \"\", \"outcomeType\": 4}}, \"*\")"
      ],
      "text/plain": [
       "<IPython.core.display.Javascript object>"
      ]
     },
     "metadata": {},
     "output_type": "display_data"
    },
    {
     "data": {
      "text/markdown": [
       "<span style=\"color:#3366cc\">Hint:</span> Use `pd.isnull()`."
      ],
      "text/plain": [
       "Hint: Use `pd.isnull()`."
      ]
     },
     "metadata": {},
     "output_type": "display_data"
    }
   ],
   "source": [
    "q3.hint()\n",
    "#q3.solution()"
   ]
  },
  {
   "cell_type": "markdown",
   "id": "6a5a5d9b",
   "metadata": {
    "papermill": {
     "duration": 0.028026,
     "end_time": "2022-04-25T06:53:06.450054",
     "exception": false,
     "start_time": "2022-04-25T06:53:06.422028",
     "status": "completed"
    },
    "tags": []
   },
   "source": [
    "## 4.\n",
    "What are the most common wine-producing regions? Create a Series counting the number of times each value occurs in the `region_1` field. This field is often missing data, so replace missing values with `Unknown`. Sort in descending order.  Your output should look something like this:\n",
    "\n",
    "```\n",
    "Unknown                    21247\n",
    "Napa Valley                 4480\n",
    "                           ...  \n",
    "Bardolino Superiore            1\n",
    "Primitivo del Tarantino        1\n",
    "Name: region_1, Length: 1230, dtype: int64\n",
    "```"
   ]
  },
  {
   "cell_type": "code",
   "execution_count": 11,
   "id": "fde37c55",
   "metadata": {
    "execution": {
     "iopub.execute_input": "2022-04-25T06:53:06.503624Z",
     "iopub.status.busy": "2022-04-25T06:53:06.503314Z",
     "iopub.status.idle": "2022-04-25T06:53:06.544595Z",
     "shell.execute_reply": "2022-04-25T06:53:06.543656Z"
    },
    "papermill": {
     "duration": 0.070998,
     "end_time": "2022-04-25T06:53:06.546985",
     "exception": false,
     "start_time": "2022-04-25T06:53:06.475987",
     "status": "completed"
    },
    "tags": []
   },
   "outputs": [
    {
     "data": {
      "text/plain": [
       "Unknown                    21247\n",
       "Napa Valley                 4480\n",
       "Columbia Valley (WA)        4124\n",
       "Russian River Valley        3091\n",
       "California                  2629\n",
       "                           ...  \n",
       "Lamezia                        1\n",
       "Trentino Superiore             1\n",
       "Grave del Friuli               1\n",
       "Vin Santo di Carmignano        1\n",
       "Paestum                        1\n",
       "Name: region_1, Length: 1230, dtype: int64"
      ]
     },
     "execution_count": 11,
     "metadata": {},
     "output_type": "execute_result"
    }
   ],
   "source": [
    "reviews.region_1.fillna('Unknown').value_counts()"
   ]
  },
  {
   "cell_type": "code",
   "execution_count": 12,
   "id": "c9cf9c08",
   "metadata": {
    "execution": {
     "iopub.execute_input": "2022-04-25T06:53:06.601277Z",
     "iopub.status.busy": "2022-04-25T06:53:06.600976Z",
     "iopub.status.idle": "2022-04-25T06:53:06.676030Z",
     "shell.execute_reply": "2022-04-25T06:53:06.675189Z"
    },
    "papermill": {
     "duration": 0.105214,
     "end_time": "2022-04-25T06:53:06.678418",
     "exception": false,
     "start_time": "2022-04-25T06:53:06.573204",
     "status": "completed"
    },
    "tags": []
   },
   "outputs": [
    {
     "data": {
      "application/javascript": [
       "parent.postMessage({\"jupyterEvent\": \"custom.exercise_interaction\", \"data\": {\"outcomeType\": 1, \"valueTowardsCompletion\": 0.25, \"interactionType\": 1, \"questionType\": 2, \"questionId\": \"4_ReviewsPerRegion\", \"learnToolsVersion\": \"0.3.4\", \"failureMessage\": \"\", \"exceptionClass\": \"\", \"trace\": \"\"}}, \"*\")"
      ],
      "text/plain": [
       "<IPython.core.display.Javascript object>"
      ]
     },
     "metadata": {},
     "output_type": "display_data"
    },
    {
     "data": {
      "text/markdown": [
       "<span style=\"color:#33cc33\">Correct</span>"
      ],
      "text/plain": [
       "Correct"
      ]
     },
     "metadata": {},
     "output_type": "display_data"
    }
   ],
   "source": [
    "reviews_per_region = reviews.region_1.fillna('Unknown').value_counts()\n",
    "\n",
    "# Check your answer\n",
    "q4.check()"
   ]
  },
  {
   "cell_type": "code",
   "execution_count": 13,
   "id": "d37bc57f",
   "metadata": {
    "execution": {
     "iopub.execute_input": "2022-04-25T06:53:06.735516Z",
     "iopub.status.busy": "2022-04-25T06:53:06.734934Z",
     "iopub.status.idle": "2022-04-25T06:53:06.738045Z",
     "shell.execute_reply": "2022-04-25T06:53:06.737446Z"
    },
    "papermill": {
     "duration": 0.034332,
     "end_time": "2022-04-25T06:53:06.739929",
     "exception": false,
     "start_time": "2022-04-25T06:53:06.705597",
     "status": "completed"
    },
    "tags": []
   },
   "outputs": [],
   "source": [
    "#q4.hint()\n",
    "#q4.solution()"
   ]
  },
  {
   "cell_type": "markdown",
   "id": "e704501c",
   "metadata": {
    "papermill": {
     "duration": 0.028246,
     "end_time": "2022-04-25T06:53:06.796078",
     "exception": false,
     "start_time": "2022-04-25T06:53:06.767832",
     "status": "completed"
    },
    "tags": []
   },
   "source": [
    "# Keep going\n",
    "\n",
    "Move on to **[renaming and combining](https://www.kaggle.com/residentmario/renaming-and-combining)**."
   ]
  },
  {
   "cell_type": "markdown",
   "id": "eff21f3f",
   "metadata": {
    "papermill": {
     "duration": 0.02816,
     "end_time": "2022-04-25T06:53:06.852244",
     "exception": false,
     "start_time": "2022-04-25T06:53:06.824084",
     "status": "completed"
    },
    "tags": []
   },
   "source": [
    "---\n",
    "\n",
    "\n",
    "\n",
    "\n",
    "*Have questions or comments? Visit the [course discussion forum](https://www.kaggle.com/learn/pandas/discussion) to chat with other learners.*"
   ]
  }
 ],
 "metadata": {
  "kernelspec": {
   "display_name": "Python 3",
   "language": "python",
   "name": "python3"
  },
  "language_info": {
   "codemirror_mode": {
    "name": "ipython",
    "version": 3
   },
   "file_extension": ".py",
   "mimetype": "text/x-python",
   "name": "python",
   "nbconvert_exporter": "python",
   "pygments_lexer": "ipython3",
   "version": "3.7.12"
  },
  "papermill": {
   "default_parameters": {},
   "duration": 15.390233,
   "end_time": "2022-04-25T06:53:07.601780",
   "environment_variables": {},
   "exception": null,
   "input_path": "__notebook__.ipynb",
   "output_path": "__notebook__.ipynb",
   "parameters": {},
   "start_time": "2022-04-25T06:52:52.211547",
   "version": "2.3.4"
  }
 },
 "nbformat": 4,
 "nbformat_minor": 5
}
