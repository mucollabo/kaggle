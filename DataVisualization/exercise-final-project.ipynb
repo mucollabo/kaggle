{
 "cells": [
  {
   "cell_type": "markdown",
   "id": "b4f7911f",
   "metadata": {
    "papermill": {
     "duration": 0.022931,
     "end_time": "2022-05-17T09:27:31.516320",
     "exception": false,
     "start_time": "2022-05-17T09:27:31.493389",
     "status": "completed"
    },
    "tags": []
   },
   "source": [
    "**This notebook is an exercise in the [Data Visualization](https://www.kaggle.com/learn/data-visualization) course.  You can reference the tutorial at [this link](https://www.kaggle.com/alexisbcook/final-project).**\n",
    "\n",
    "---\n"
   ]
  },
  {
   "cell_type": "markdown",
   "id": "8a109ebf",
   "metadata": {
    "papermill": {
     "duration": 0.021085,
     "end_time": "2022-05-17T09:27:31.559805",
     "exception": false,
     "start_time": "2022-05-17T09:27:31.538720",
     "status": "completed"
    },
    "tags": []
   },
   "source": [
    "Now it's time for you to demonstrate your new skills with a project of your own!\n",
    "\n",
    "In this exercise, you will work with a dataset of your choosing.  Once you've selected a dataset, you'll design and create your own plot to tell interesting stories behind the data!\n",
    "\n",
    "## Setup\n",
    "\n",
    "Run the next cell to import and configure the Python libraries that you need to complete the exercise."
   ]
  },
  {
   "cell_type": "code",
   "execution_count": 1,
   "id": "dd75a231",
   "metadata": {
    "execution": {
     "iopub.execute_input": "2022-05-17T09:27:31.609666Z",
     "iopub.status.busy": "2022-05-17T09:27:31.609027Z",
     "iopub.status.idle": "2022-05-17T09:27:33.069275Z",
     "shell.execute_reply": "2022-05-17T09:27:33.067824Z"
    },
    "papermill": {
     "duration": 1.487135,
     "end_time": "2022-05-17T09:27:33.072083",
     "exception": false,
     "start_time": "2022-05-17T09:27:31.584948",
     "status": "completed"
    },
    "tags": []
   },
   "outputs": [
    {
     "name": "stdout",
     "output_type": "stream",
     "text": [
      "Setup Complete\n"
     ]
    }
   ],
   "source": [
    "import pandas as pd\n",
    "pd.plotting.register_matplotlib_converters()\n",
    "import matplotlib.pyplot as plt\n",
    "%matplotlib inline\n",
    "import seaborn as sns\n",
    "print(\"Setup Complete\")"
   ]
  },
  {
   "cell_type": "markdown",
   "id": "b815d79f",
   "metadata": {
    "papermill": {
     "duration": 0.020936,
     "end_time": "2022-05-17T09:27:33.115863",
     "exception": false,
     "start_time": "2022-05-17T09:27:33.094927",
     "status": "completed"
    },
    "tags": []
   },
   "source": [
    "The questions below will give you feedback on your work. Run the following cell to set up the feedback system."
   ]
  },
  {
   "cell_type": "code",
   "execution_count": 2,
   "id": "966591e5",
   "metadata": {
    "execution": {
     "iopub.execute_input": "2022-05-17T09:27:33.163975Z",
     "iopub.status.busy": "2022-05-17T09:27:33.163358Z",
     "iopub.status.idle": "2022-05-17T09:27:33.221490Z",
     "shell.execute_reply": "2022-05-17T09:27:33.220449Z"
    },
    "papermill": {
     "duration": 0.085941,
     "end_time": "2022-05-17T09:27:33.223894",
     "exception": false,
     "start_time": "2022-05-17T09:27:33.137953",
     "status": "completed"
    },
    "tags": []
   },
   "outputs": [
    {
     "name": "stdout",
     "output_type": "stream",
     "text": [
      "Setup Complete\n"
     ]
    }
   ],
   "source": [
    "# Set up code checking\n",
    "from learntools.core import binder\n",
    "binder.bind(globals())\n",
    "from learntools.data_viz_to_coder.ex7 import *\n",
    "print(\"Setup Complete\")"
   ]
  },
  {
   "cell_type": "markdown",
   "id": "ec896046",
   "metadata": {
    "papermill": {
     "duration": 0.022998,
     "end_time": "2022-05-17T09:27:33.268802",
     "exception": false,
     "start_time": "2022-05-17T09:27:33.245804",
     "status": "completed"
    },
    "tags": []
   },
   "source": [
    "## Step 1: Attach a dataset to the notebook\n",
    "\n",
    "Begin by selecting a CSV dataset from [Kaggle Datasets](https://www.kaggle.com/datasets).  If you're unsure how to do this, please revisit the instructions in the previous tutorial.\n",
    "\n",
    "Once you have selected a dataset, click on the **[+ Add data]** option in the top right corner.  This will generate a pop-up window that you can use to search for your chosen dataset.  \n",
    "\n",
    "![ex6_search_dataset](https://i.imgur.com/cIIWPUS.png)\n",
    "\n",
    "Once you have found the dataset, click on the **[Add]** button to attach it to the notebook.  You can check that it was successful by looking at the **Data** dropdown menu to the right of the notebook -- look for an **input** folder containing a subfolder that matches the name of the dataset.\n",
    "\n",
    "<center>\n",
    "<img src=\"https://i.imgur.com/nMYc1Nu.png\" width=30%><br/>\n",
    "</center>\n",
    "\n",
    "You can click on the carat to the left of the name of the dataset to double-check that it contains a CSV file.  For instance, the image below shows that the example dataset contains two CSV files: (1) **dc-wikia-data.csv**, and (2) **marvel-wikia-data.csv**.\n",
    "\n",
    "<center>\n",
    "<img src=\"https://i.imgur.com/B4sJkVA.png\" width=30%><br/>\n",
    "</center>\n",
    "\n",
    "Once you've uploaded a dataset with a CSV file, run the code cell below **without changes** to receive credit for your work!"
   ]
  },
  {
   "cell_type": "code",
   "execution_count": 3,
   "id": "f616b906",
   "metadata": {
    "execution": {
     "iopub.execute_input": "2022-05-17T09:27:33.314391Z",
     "iopub.status.busy": "2022-05-17T09:27:33.314069Z",
     "iopub.status.idle": "2022-05-17T09:27:33.331452Z",
     "shell.execute_reply": "2022-05-17T09:27:33.330467Z"
    },
    "papermill": {
     "duration": 0.04233,
     "end_time": "2022-05-17T09:27:33.333543",
     "exception": false,
     "start_time": "2022-05-17T09:27:33.291213",
     "status": "completed"
    },
    "tags": []
   },
   "outputs": [
    {
     "data": {
      "application/javascript": [
       "parent.postMessage({\"jupyterEvent\": \"custom.exercise_interaction\", \"data\": {\"outcomeType\": 1, \"valueTowardsCompletion\": 0.25, \"interactionType\": 1, \"questionType\": 2, \"questionId\": \"1_AttachData\", \"learnToolsVersion\": \"0.3.4\", \"failureMessage\": \"\", \"exceptionClass\": \"\", \"trace\": \"\"}}, \"*\")"
      ],
      "text/plain": [
       "<IPython.core.display.Javascript object>"
      ]
     },
     "metadata": {},
     "output_type": "display_data"
    },
    {
     "data": {
      "text/markdown": [
       "<span style=\"color:#33cc33\">Correct:</span> \n",
       "\n"
      ],
      "text/plain": [
       "Correct: \n"
      ]
     },
     "metadata": {},
     "output_type": "display_data"
    }
   ],
   "source": [
    "# Check for a dataset with a CSV file\n",
    "step_1.check()"
   ]
  },
  {
   "cell_type": "markdown",
   "id": "df988531",
   "metadata": {
    "papermill": {
     "duration": 0.025069,
     "end_time": "2022-05-17T09:27:33.383928",
     "exception": false,
     "start_time": "2022-05-17T09:27:33.358859",
     "status": "completed"
    },
    "tags": []
   },
   "source": [
    "## Step 2: Specify the filepath\n",
    "\n",
    "Now that the dataset is attached to the notebook, you can find its filepath.  To do this, begin by clicking on the CSV file you'd like to use.  This will open the CSV file in a tab below the notebook.  You can find the filepath towards the top of this new tab.  \n",
    "\n",
    "![ex6_filepath](https://i.imgur.com/fgXQV47.png)\n",
    "\n",
    "After you find the filepath corresponding to your dataset, fill it in as the value for `my_filepath` in the code cell below, and run the code cell to check that you've provided a valid filepath.  For instance, in the case of this example dataset, we would set\n",
    "```\n",
    "my_filepath = \"../input/fivethirtyeight-comic-characters-dataset/dc-wikia-data.csv\"\n",
    "```  \n",
    "Note that **you must enclose the filepath in quotation marks**; otherwise, the code will return an error.\n",
    "\n",
    "Once you've entered the filepath, you can close the tab below the notebook by clicking on the **[X]** at the top of the tab."
   ]
  },
  {
   "cell_type": "code",
   "execution_count": 4,
   "id": "1d349da0",
   "metadata": {
    "execution": {
     "iopub.execute_input": "2022-05-17T09:27:33.436823Z",
     "iopub.status.busy": "2022-05-17T09:27:33.436537Z",
     "iopub.status.idle": "2022-05-17T09:27:33.442983Z",
     "shell.execute_reply": "2022-05-17T09:27:33.442204Z"
    },
    "papermill": {
     "duration": 0.036388,
     "end_time": "2022-05-17T09:27:33.445353",
     "exception": false,
     "start_time": "2022-05-17T09:27:33.408965",
     "status": "completed"
    },
    "tags": []
   },
   "outputs": [
    {
     "data": {
      "application/javascript": [
       "parent.postMessage({\"jupyterEvent\": \"custom.exercise_interaction\", \"data\": {\"outcomeType\": 1, \"valueTowardsCompletion\": 0.25, \"interactionType\": 1, \"questionType\": 2, \"questionId\": \"2_Filepath\", \"learnToolsVersion\": \"0.3.4\", \"failureMessage\": \"\", \"exceptionClass\": \"\", \"trace\": \"\"}}, \"*\")"
      ],
      "text/plain": [
       "<IPython.core.display.Javascript object>"
      ]
     },
     "metadata": {},
     "output_type": "display_data"
    },
    {
     "data": {
      "text/markdown": [
       "<span style=\"color:#33cc33\">Correct:</span> \n",
       "\n"
      ],
      "text/plain": [
       "Correct: \n"
      ]
     },
     "metadata": {},
     "output_type": "display_data"
    }
   ],
   "source": [
    "# Fill in the line below: Specify the path of the CSV file to read\n",
    "my_filepath = \"../input/covid19-coronavirus-pandemic/COVID-19 Coronavirus.csv\"\n",
    "\n",
    "# Check for a valid filepath to a CSV file in a dataset\n",
    "step_2.check()"
   ]
  },
  {
   "cell_type": "markdown",
   "id": "620ee56a",
   "metadata": {
    "papermill": {
     "duration": 0.025287,
     "end_time": "2022-05-17T09:27:33.496904",
     "exception": false,
     "start_time": "2022-05-17T09:27:33.471617",
     "status": "completed"
    },
    "tags": []
   },
   "source": [
    "## Step 3: Load the data\n",
    "\n",
    "Use the next code cell to load your data file into `my_data`.  Use the filepath that you specified in the previous step."
   ]
  },
  {
   "cell_type": "code",
   "execution_count": 5,
   "id": "6ced659a",
   "metadata": {
    "execution": {
     "iopub.execute_input": "2022-05-17T09:27:33.551191Z",
     "iopub.status.busy": "2022-05-17T09:27:33.550587Z",
     "iopub.status.idle": "2022-05-17T09:27:33.574642Z",
     "shell.execute_reply": "2022-05-17T09:27:33.573461Z"
    },
    "papermill": {
     "duration": 0.05463,
     "end_time": "2022-05-17T09:27:33.577411",
     "exception": false,
     "start_time": "2022-05-17T09:27:33.522781",
     "status": "completed"
    },
    "tags": []
   },
   "outputs": [
    {
     "data": {
      "application/javascript": [
       "parent.postMessage({\"jupyterEvent\": \"custom.exercise_interaction\", \"data\": {\"outcomeType\": 1, \"valueTowardsCompletion\": 0.25, \"interactionType\": 1, \"questionType\": 2, \"questionId\": \"3_LoadData\", \"learnToolsVersion\": \"0.3.4\", \"failureMessage\": \"\", \"exceptionClass\": \"\", \"trace\": \"\"}}, \"*\")"
      ],
      "text/plain": [
       "<IPython.core.display.Javascript object>"
      ]
     },
     "metadata": {},
     "output_type": "display_data"
    },
    {
     "data": {
      "text/markdown": [
       "<span style=\"color:#33cc33\">Correct:</span> \n",
       "\n"
      ],
      "text/plain": [
       "Correct: \n"
      ]
     },
     "metadata": {},
     "output_type": "display_data"
    }
   ],
   "source": [
    "# Fill in the line below: Read the file into a variable my_data\n",
    "my_data = pd.read_csv(my_filepath)\n",
    "\n",
    "# Check that a dataset has been uploaded into my_data\n",
    "step_3.check()"
   ]
  },
  {
   "cell_type": "markdown",
   "id": "334f5805",
   "metadata": {
    "papermill": {
     "duration": 0.027883,
     "end_time": "2022-05-17T09:27:33.633513",
     "exception": false,
     "start_time": "2022-05-17T09:27:33.605630",
     "status": "completed"
    },
    "tags": []
   },
   "source": [
    "**_After the code cell above is marked correct_**, run the code cell below without changes to view the first five rows of the data."
   ]
  },
  {
   "cell_type": "code",
   "execution_count": 6,
   "id": "ae675980",
   "metadata": {
    "execution": {
     "iopub.execute_input": "2022-05-17T09:27:33.687616Z",
     "iopub.status.busy": "2022-05-17T09:27:33.687302Z",
     "iopub.status.idle": "2022-05-17T09:27:33.709161Z",
     "shell.execute_reply": "2022-05-17T09:27:33.708316Z"
    },
    "papermill": {
     "duration": 0.052265,
     "end_time": "2022-05-17T09:27:33.711253",
     "exception": false,
     "start_time": "2022-05-17T09:27:33.658988",
     "status": "completed"
    },
    "tags": []
   },
   "outputs": [
    {
     "data": {
      "text/html": [
       "<div>\n",
       "<style scoped>\n",
       "    .dataframe tbody tr th:only-of-type {\n",
       "        vertical-align: middle;\n",
       "    }\n",
       "\n",
       "    .dataframe tbody tr th {\n",
       "        vertical-align: top;\n",
       "    }\n",
       "\n",
       "    .dataframe thead th {\n",
       "        text-align: right;\n",
       "    }\n",
       "</style>\n",
       "<table border=\"1\" class=\"dataframe\">\n",
       "  <thead>\n",
       "    <tr style=\"text-align: right;\">\n",
       "      <th></th>\n",
       "      <th>Country</th>\n",
       "      <th>Other names</th>\n",
       "      <th>ISO 3166-1 alpha-3 CODE</th>\n",
       "      <th>Population</th>\n",
       "      <th>Continent</th>\n",
       "      <th>Total Cases</th>\n",
       "      <th>Total Deaths</th>\n",
       "      <th>Tot Cases//1M pop</th>\n",
       "      <th>Tot Deaths/1M pop</th>\n",
       "      <th>Death percentage</th>\n",
       "    </tr>\n",
       "  </thead>\n",
       "  <tbody>\n",
       "    <tr>\n",
       "      <th>0</th>\n",
       "      <td>Afghanistan</td>\n",
       "      <td>Afghanistan</td>\n",
       "      <td>AFG</td>\n",
       "      <td>40462186</td>\n",
       "      <td>Asia</td>\n",
       "      <td>177827</td>\n",
       "      <td>7671</td>\n",
       "      <td>4395</td>\n",
       "      <td>190</td>\n",
       "      <td>4.313743</td>\n",
       "    </tr>\n",
       "    <tr>\n",
       "      <th>1</th>\n",
       "      <td>Albania</td>\n",
       "      <td>Albania</td>\n",
       "      <td>ALB</td>\n",
       "      <td>2872296</td>\n",
       "      <td>Europe</td>\n",
       "      <td>273870</td>\n",
       "      <td>3492</td>\n",
       "      <td>95349</td>\n",
       "      <td>1216</td>\n",
       "      <td>1.275058</td>\n",
       "    </tr>\n",
       "    <tr>\n",
       "      <th>2</th>\n",
       "      <td>Algeria</td>\n",
       "      <td>Algeria</td>\n",
       "      <td>DZA</td>\n",
       "      <td>45236699</td>\n",
       "      <td>Africa</td>\n",
       "      <td>265691</td>\n",
       "      <td>6874</td>\n",
       "      <td>5873</td>\n",
       "      <td>152</td>\n",
       "      <td>2.587216</td>\n",
       "    </tr>\n",
       "    <tr>\n",
       "      <th>3</th>\n",
       "      <td>Andorra</td>\n",
       "      <td>Andorra</td>\n",
       "      <td>AND</td>\n",
       "      <td>77481</td>\n",
       "      <td>Europe</td>\n",
       "      <td>40024</td>\n",
       "      <td>153</td>\n",
       "      <td>516565</td>\n",
       "      <td>1975</td>\n",
       "      <td>0.382271</td>\n",
       "    </tr>\n",
       "    <tr>\n",
       "      <th>4</th>\n",
       "      <td>Angola</td>\n",
       "      <td>Angola</td>\n",
       "      <td>AGO</td>\n",
       "      <td>34654212</td>\n",
       "      <td>Africa</td>\n",
       "      <td>99194</td>\n",
       "      <td>1900</td>\n",
       "      <td>2862</td>\n",
       "      <td>55</td>\n",
       "      <td>1.915438</td>\n",
       "    </tr>\n",
       "  </tbody>\n",
       "</table>\n",
       "</div>"
      ],
      "text/plain": [
       "       Country  Other names ISO 3166-1 alpha-3 CODE  Population Continent  \\\n",
       "0  Afghanistan  Afghanistan                     AFG    40462186      Asia   \n",
       "1      Albania      Albania                     ALB     2872296    Europe   \n",
       "2      Algeria      Algeria                     DZA    45236699    Africa   \n",
       "3      Andorra      Andorra                     AND       77481    Europe   \n",
       "4       Angola       Angola                     AGO    34654212    Africa   \n",
       "\n",
       "   Total Cases  Total Deaths  Tot Cases//1M pop  Tot Deaths/1M pop  \\\n",
       "0       177827          7671               4395                190   \n",
       "1       273870          3492              95349               1216   \n",
       "2       265691          6874               5873                152   \n",
       "3        40024           153             516565               1975   \n",
       "4        99194          1900               2862                 55   \n",
       "\n",
       "   Death percentage  \n",
       "0          4.313743  \n",
       "1          1.275058  \n",
       "2          2.587216  \n",
       "3          0.382271  \n",
       "4          1.915438  "
      ]
     },
     "execution_count": 6,
     "metadata": {},
     "output_type": "execute_result"
    }
   ],
   "source": [
    "# Print the first five rows of the data\n",
    "my_data.head()"
   ]
  },
  {
   "cell_type": "code",
   "execution_count": 7,
   "id": "1e9e6e80",
   "metadata": {
    "execution": {
     "iopub.execute_input": "2022-05-17T09:27:33.765195Z",
     "iopub.status.busy": "2022-05-17T09:27:33.764266Z",
     "iopub.status.idle": "2022-05-17T09:27:33.792413Z",
     "shell.execute_reply": "2022-05-17T09:27:33.791082Z"
    },
    "papermill": {
     "duration": 0.058066,
     "end_time": "2022-05-17T09:27:33.795030",
     "exception": false,
     "start_time": "2022-05-17T09:27:33.736964",
     "status": "completed"
    },
    "tags": []
   },
   "outputs": [
    {
     "name": "stdout",
     "output_type": "stream",
     "text": [
      "<class 'pandas.core.frame.DataFrame'>\n",
      "RangeIndex: 225 entries, 0 to 224\n",
      "Data columns (total 10 columns):\n",
      " #   Column                   Non-Null Count  Dtype  \n",
      "---  ------                   --------------  -----  \n",
      " 0   Country                  225 non-null    object \n",
      " 1   Other names              224 non-null    object \n",
      " 2   ISO 3166-1 alpha-3 CODE  225 non-null    object \n",
      " 3   Population               225 non-null    int64  \n",
      " 4   Continent                225 non-null    object \n",
      " 5   Total Cases              225 non-null    int64  \n",
      " 6   Total Deaths             225 non-null    int64  \n",
      " 7   Tot Cases//1M pop        225 non-null    int64  \n",
      " 8   Tot Deaths/1M pop        225 non-null    int64  \n",
      " 9   Death percentage         225 non-null    float64\n",
      "dtypes: float64(1), int64(5), object(4)\n",
      "memory usage: 17.7+ KB\n"
     ]
    }
   ],
   "source": [
    "my_data.info()"
   ]
  },
  {
   "cell_type": "code",
   "execution_count": 8,
   "id": "53e5478d",
   "metadata": {
    "execution": {
     "iopub.execute_input": "2022-05-17T09:27:33.850998Z",
     "iopub.status.busy": "2022-05-17T09:27:33.850105Z",
     "iopub.status.idle": "2022-05-17T09:27:33.856283Z",
     "shell.execute_reply": "2022-05-17T09:27:33.855500Z"
    },
    "papermill": {
     "duration": 0.035969,
     "end_time": "2022-05-17T09:27:33.858384",
     "exception": false,
     "start_time": "2022-05-17T09:27:33.822415",
     "status": "completed"
    },
    "tags": []
   },
   "outputs": [
    {
     "data": {
      "text/plain": [
       "array(['Asia', 'Europe', 'Africa', 'Latin America and the Caribbean',\n",
       "       'Oceania', 'Northern America'], dtype=object)"
      ]
     },
     "execution_count": 8,
     "metadata": {},
     "output_type": "execute_result"
    }
   ],
   "source": [
    "my_data['Continent'].unique()"
   ]
  },
  {
   "cell_type": "code",
   "execution_count": 9,
   "id": "faab3451",
   "metadata": {
    "execution": {
     "iopub.execute_input": "2022-05-17T09:27:33.916724Z",
     "iopub.status.busy": "2022-05-17T09:27:33.916165Z",
     "iopub.status.idle": "2022-05-17T09:27:33.927605Z",
     "shell.execute_reply": "2022-05-17T09:27:33.926814Z"
    },
    "papermill": {
     "duration": 0.043102,
     "end_time": "2022-05-17T09:27:33.929653",
     "exception": false,
     "start_time": "2022-05-17T09:27:33.886551",
     "status": "completed"
    },
    "tags": []
   },
   "outputs": [
    {
     "data": {
      "text/plain": [
       "pandas.core.frame.DataFrame"
      ]
     },
     "execution_count": 9,
     "metadata": {},
     "output_type": "execute_result"
    }
   ],
   "source": [
    "type(my_data.groupby(['Continent']).sum())"
   ]
  },
  {
   "cell_type": "code",
   "execution_count": 10,
   "id": "c3bff06b",
   "metadata": {
    "execution": {
     "iopub.execute_input": "2022-05-17T09:27:33.988976Z",
     "iopub.status.busy": "2022-05-17T09:27:33.988416Z",
     "iopub.status.idle": "2022-05-17T09:27:33.996423Z",
     "shell.execute_reply": "2022-05-17T09:27:33.995611Z"
    },
    "papermill": {
     "duration": 0.041029,
     "end_time": "2022-05-17T09:27:33.998852",
     "exception": false,
     "start_time": "2022-05-17T09:27:33.957823",
     "status": "completed"
    },
    "tags": []
   },
   "outputs": [],
   "source": [
    "# groupby by ['Continent'], and then sum\n",
    "group_continent = my_data.groupby(['Continent']).sum()[['Population', 'Total Cases', 'Total Deaths']]"
   ]
  },
  {
   "cell_type": "code",
   "execution_count": 11,
   "id": "b9583bba",
   "metadata": {
    "execution": {
     "iopub.execute_input": "2022-05-17T09:27:34.060114Z",
     "iopub.status.busy": "2022-05-17T09:27:34.059537Z",
     "iopub.status.idle": "2022-05-17T09:27:34.068648Z",
     "shell.execute_reply": "2022-05-17T09:27:34.067928Z"
    },
    "papermill": {
     "duration": 0.042721,
     "end_time": "2022-05-17T09:27:34.070741",
     "exception": false,
     "start_time": "2022-05-17T09:27:34.028020",
     "status": "completed"
    },
    "tags": []
   },
   "outputs": [
    {
     "data": {
      "text/html": [
       "<div>\n",
       "<style scoped>\n",
       "    .dataframe tbody tr th:only-of-type {\n",
       "        vertical-align: middle;\n",
       "    }\n",
       "\n",
       "    .dataframe tbody tr th {\n",
       "        vertical-align: top;\n",
       "    }\n",
       "\n",
       "    .dataframe thead th {\n",
       "        text-align: right;\n",
       "    }\n",
       "</style>\n",
       "<table border=\"1\" class=\"dataframe\">\n",
       "  <thead>\n",
       "    <tr style=\"text-align: right;\">\n",
       "      <th></th>\n",
       "      <th>Population</th>\n",
       "      <th>Total Cases</th>\n",
       "      <th>Total Deaths</th>\n",
       "    </tr>\n",
       "    <tr>\n",
       "      <th>Continent</th>\n",
       "      <th></th>\n",
       "      <th></th>\n",
       "      <th></th>\n",
       "    </tr>\n",
       "  </thead>\n",
       "  <tbody>\n",
       "    <tr>\n",
       "      <th>Africa</th>\n",
       "      <td>1396751613</td>\n",
       "      <td>11764207</td>\n",
       "      <td>252873</td>\n",
       "    </tr>\n",
       "    <tr>\n",
       "      <th>Asia</th>\n",
       "      <td>4668689344</td>\n",
       "      <td>140957179</td>\n",
       "      <td>1405003</td>\n",
       "    </tr>\n",
       "    <tr>\n",
       "      <th>Europe</th>\n",
       "      <td>748420351</td>\n",
       "      <td>180332483</td>\n",
       "      <td>1775727</td>\n",
       "    </tr>\n",
       "    <tr>\n",
       "      <th>Latin America and the Caribbean</th>\n",
       "      <td>661325824</td>\n",
       "      <td>67509231</td>\n",
       "      <td>1686828</td>\n",
       "    </tr>\n",
       "    <tr>\n",
       "      <th>Northern America</th>\n",
       "      <td>372846593</td>\n",
       "      <td>85364770</td>\n",
       "      <td>1046062</td>\n",
       "    </tr>\n",
       "    <tr>\n",
       "      <th>Oceania</th>\n",
       "      <td>43437948</td>\n",
       "      <td>5647957</td>\n",
       "      <td>9336</td>\n",
       "    </tr>\n",
       "  </tbody>\n",
       "</table>\n",
       "</div>"
      ],
      "text/plain": [
       "                                 Population  Total Cases  Total Deaths\n",
       "Continent                                                             \n",
       "Africa                           1396751613     11764207        252873\n",
       "Asia                             4668689344    140957179       1405003\n",
       "Europe                            748420351    180332483       1775727\n",
       "Latin America and the Caribbean   661325824     67509231       1686828\n",
       "Northern America                  372846593     85364770       1046062\n",
       "Oceania                            43437948      5647957          9336"
      ]
     },
     "execution_count": 11,
     "metadata": {},
     "output_type": "execute_result"
    }
   ],
   "source": [
    "group_continent"
   ]
  },
  {
   "cell_type": "code",
   "execution_count": 12,
   "id": "7b3eb4fc",
   "metadata": {
    "execution": {
     "iopub.execute_input": "2022-05-17T09:27:34.129439Z",
     "iopub.status.busy": "2022-05-17T09:27:34.128724Z",
     "iopub.status.idle": "2022-05-17T09:27:34.137699Z",
     "shell.execute_reply": "2022-05-17T09:27:34.137026Z"
    },
    "papermill": {
     "duration": 0.040507,
     "end_time": "2022-05-17T09:27:34.140054",
     "exception": false,
     "start_time": "2022-05-17T09:27:34.099547",
     "status": "completed"
    },
    "tags": []
   },
   "outputs": [],
   "source": [
    "# add column 'Case percentage', 'Death percentage'\n",
    "group_continent['Case percentage'] = pd.Series([(group_continent.iloc[x, 1]/group_continent.iloc[x, 0]) for x in range(len(group_continent.index))], index=group_continent.index)\n",
    "group_continent['Death percentage'] = pd.Series([(group_continent.iloc[x, 2]/group_continent.iloc[x, 0]) for x in range(len(group_continent.index))], index=group_continent.index)"
   ]
  },
  {
   "cell_type": "code",
   "execution_count": 13,
   "id": "8b085881",
   "metadata": {
    "execution": {
     "iopub.execute_input": "2022-05-17T09:27:34.202212Z",
     "iopub.status.busy": "2022-05-17T09:27:34.201679Z",
     "iopub.status.idle": "2022-05-17T09:27:34.212126Z",
     "shell.execute_reply": "2022-05-17T09:27:34.211504Z"
    },
    "papermill": {
     "duration": 0.043272,
     "end_time": "2022-05-17T09:27:34.214170",
     "exception": false,
     "start_time": "2022-05-17T09:27:34.170898",
     "status": "completed"
    },
    "tags": []
   },
   "outputs": [
    {
     "data": {
      "text/html": [
       "<div>\n",
       "<style scoped>\n",
       "    .dataframe tbody tr th:only-of-type {\n",
       "        vertical-align: middle;\n",
       "    }\n",
       "\n",
       "    .dataframe tbody tr th {\n",
       "        vertical-align: top;\n",
       "    }\n",
       "\n",
       "    .dataframe thead th {\n",
       "        text-align: right;\n",
       "    }\n",
       "</style>\n",
       "<table border=\"1\" class=\"dataframe\">\n",
       "  <thead>\n",
       "    <tr style=\"text-align: right;\">\n",
       "      <th></th>\n",
       "      <th>Population</th>\n",
       "      <th>Total Cases</th>\n",
       "      <th>Total Deaths</th>\n",
       "      <th>Case percentage</th>\n",
       "      <th>Death percentage</th>\n",
       "    </tr>\n",
       "    <tr>\n",
       "      <th>Continent</th>\n",
       "      <th></th>\n",
       "      <th></th>\n",
       "      <th></th>\n",
       "      <th></th>\n",
       "      <th></th>\n",
       "    </tr>\n",
       "  </thead>\n",
       "  <tbody>\n",
       "    <tr>\n",
       "      <th>Africa</th>\n",
       "      <td>1396751613</td>\n",
       "      <td>11764207</td>\n",
       "      <td>252873</td>\n",
       "      <td>0.008423</td>\n",
       "      <td>0.000181</td>\n",
       "    </tr>\n",
       "    <tr>\n",
       "      <th>Asia</th>\n",
       "      <td>4668689344</td>\n",
       "      <td>140957179</td>\n",
       "      <td>1405003</td>\n",
       "      <td>0.030192</td>\n",
       "      <td>0.000301</td>\n",
       "    </tr>\n",
       "    <tr>\n",
       "      <th>Europe</th>\n",
       "      <td>748420351</td>\n",
       "      <td>180332483</td>\n",
       "      <td>1775727</td>\n",
       "      <td>0.240951</td>\n",
       "      <td>0.002373</td>\n",
       "    </tr>\n",
       "    <tr>\n",
       "      <th>Latin America and the Caribbean</th>\n",
       "      <td>661325824</td>\n",
       "      <td>67509231</td>\n",
       "      <td>1686828</td>\n",
       "      <td>0.102082</td>\n",
       "      <td>0.002551</td>\n",
       "    </tr>\n",
       "    <tr>\n",
       "      <th>Northern America</th>\n",
       "      <td>372846593</td>\n",
       "      <td>85364770</td>\n",
       "      <td>1046062</td>\n",
       "      <td>0.228954</td>\n",
       "      <td>0.002806</td>\n",
       "    </tr>\n",
       "    <tr>\n",
       "      <th>Oceania</th>\n",
       "      <td>43437948</td>\n",
       "      <td>5647957</td>\n",
       "      <td>9336</td>\n",
       "      <td>0.130024</td>\n",
       "      <td>0.000215</td>\n",
       "    </tr>\n",
       "  </tbody>\n",
       "</table>\n",
       "</div>"
      ],
      "text/plain": [
       "                                 Population  Total Cases  Total Deaths  \\\n",
       "Continent                                                                \n",
       "Africa                           1396751613     11764207        252873   \n",
       "Asia                             4668689344    140957179       1405003   \n",
       "Europe                            748420351    180332483       1775727   \n",
       "Latin America and the Caribbean   661325824     67509231       1686828   \n",
       "Northern America                  372846593     85364770       1046062   \n",
       "Oceania                            43437948      5647957          9336   \n",
       "\n",
       "                                 Case percentage  Death percentage  \n",
       "Continent                                                           \n",
       "Africa                                  0.008423          0.000181  \n",
       "Asia                                    0.030192          0.000301  \n",
       "Europe                                  0.240951          0.002373  \n",
       "Latin America and the Caribbean         0.102082          0.002551  \n",
       "Northern America                        0.228954          0.002806  \n",
       "Oceania                                 0.130024          0.000215  "
      ]
     },
     "execution_count": 13,
     "metadata": {},
     "output_type": "execute_result"
    }
   ],
   "source": [
    "group_continent"
   ]
  },
  {
   "cell_type": "markdown",
   "id": "71c6a248",
   "metadata": {
    "papermill": {
     "duration": 0.028714,
     "end_time": "2022-05-17T09:27:34.272736",
     "exception": false,
     "start_time": "2022-05-17T09:27:34.244022",
     "status": "completed"
    },
    "tags": []
   },
   "source": [
    "## Step 4: Visualize the data\n",
    "\n",
    "Use the next code cell to create a figure that tells a story behind your dataset.  You can use any chart type (_line chart, bar chart, heatmap, etc_) of your choosing!"
   ]
  },
  {
   "cell_type": "code",
   "execution_count": 14,
   "id": "5c532cd8",
   "metadata": {
    "execution": {
     "iopub.execute_input": "2022-05-17T09:27:34.332196Z",
     "iopub.status.busy": "2022-05-17T09:27:34.331670Z",
     "iopub.status.idle": "2022-05-17T09:27:35.194052Z",
     "shell.execute_reply": "2022-05-17T09:27:35.192894Z"
    },
    "papermill": {
     "duration": 0.896224,
     "end_time": "2022-05-17T09:27:35.197116",
     "exception": false,
     "start_time": "2022-05-17T09:27:34.300892",
     "status": "completed"
    },
    "tags": []
   },
   "outputs": [
    {
     "data": {
      "application/javascript": [
       "parent.postMessage({\"jupyterEvent\": \"custom.exercise_interaction\", \"data\": {\"outcomeType\": 1, \"valueTowardsCompletion\": 0.25, \"interactionType\": 1, \"questionType\": 2, \"questionId\": \"4_CreatePlot\", \"learnToolsVersion\": \"0.3.4\", \"failureMessage\": \"\", \"exceptionClass\": \"\", \"trace\": \"\"}}, \"*\")"
      ],
      "text/plain": [
       "<IPython.core.display.Javascript object>"
      ]
     },
     "metadata": {},
     "output_type": "display_data"
    },
    {
     "data": {
      "text/markdown": [
       "<span style=\"color:#33cc33\">Correct:</span> \n",
       "\n"
      ],
      "text/plain": [
       "Correct: \n"
      ]
     },
     "metadata": {},
     "output_type": "display_data"
    },
    {
     "data": {
      "image/png": "[encoded data removed]",
      "text/plain": [
       "<Figure size 1152x864 with 4 Axes>"
      ]
     },
     "metadata": {
      "needs_background": "light"
     },
     "output_type": "display_data"
    }
   ],
   "source": [
    "# Create a plot\n",
    "plt.figure(figsize=(16,12))\n",
    "\n",
    "plt.subplot(221)\n",
    "plt.title(\"Total Cases by Continent\")\n",
    "sns.set_theme(style=\"whitegrid\")\n",
    "cont_TC = sns.barplot(x=group_continent.index, y=\"Total Cases\", data=group_continent)\n",
    "cont_TC.set_xticklabels(cont_TC.get_xticklabels(),rotation = 25)\n",
    "\n",
    "plt.subplot(222)\n",
    "plt.title(\"Total Deaths by Continent\")\n",
    "sns.set_theme(style=\"whitegrid\")\n",
    "cont_TC = sns.barplot(x=group_continent.index, y=\"Total Deaths\", data=group_continent)\n",
    "cont_TC.set_xticklabels(cont_TC.get_xticklabels(),rotation = 25)\n",
    "\n",
    "plt.subplot(223)\n",
    "plt.title(\"Case percentage by Continent\")\n",
    "sns.set_theme(style=\"whitegrid\")\n",
    "cont_TC = sns.barplot(x=group_continent.index, y=\"Case percentage\", data=group_continent)\n",
    "cont_TC.set_xticklabels(cont_TC.get_xticklabels(),rotation = 25)\n",
    "\n",
    "plt.subplot(224)\n",
    "plt.title(\"Death percentage by Continent\")\n",
    "sns.set_theme(style=\"whitegrid\")\n",
    "cont_TC = sns.barplot(x=group_continent.index, y=\"Death percentage\", data=group_continent)\n",
    "cont_TC.set_xticklabels(cont_TC.get_xticklabels(),rotation = 25)\n",
    "# Check that a figure appears below\n",
    "step_4.check()\n",
    "plt.show()"
   ]
  },
  {
   "cell_type": "markdown",
   "id": "1beeb57f",
   "metadata": {
    "papermill": {
     "duration": 0.032559,
     "end_time": "2022-05-17T09:27:35.261614",
     "exception": false,
     "start_time": "2022-05-17T09:27:35.229055",
     "status": "completed"
    },
    "tags": []
   },
   "source": [
    "## Keep going\n",
    "\n",
    "Learn how to use your skills after completing the micro-course to create data visualizations in a **[final tutorial](https://www.kaggle.com/alexisbcook/creating-your-own-notebooks)**."
   ]
  },
  {
   "cell_type": "markdown",
   "id": "181bd28a",
   "metadata": {
    "papermill": {
     "duration": 0.032561,
     "end_time": "2022-05-17T09:27:35.327357",
     "exception": false,
     "start_time": "2022-05-17T09:27:35.294796",
     "status": "completed"
    },
    "tags": []
   },
   "source": [
    "---\n",
    "\n",
    "\n",
    "\n",
    "\n",
    "*Have questions or comments? Visit the [course discussion forum](https://www.kaggle.com/learn/data-visualization/discussion) to chat with other learners.*"
   ]
  }
 ],
 "metadata": {
  "kernelspec": {
   "display_name": "Python 3",
   "language": "python",
   "name": "python3"
  },
  "language_info": {
   "codemirror_mode": {
    "name": "ipython",
    "version": 3
   },
   "file_extension": ".py",
   "mimetype": "text/x-python",
   "name": "python",
   "nbconvert_exporter": "python",
   "pygments_lexer": "ipython3",
   "version": "3.7.12"
  },
  "papermill": {
   "default_parameters": {},
   "duration": 16.280193,
   "end_time": "2022-05-17T09:27:36.186890",
   "environment_variables": {},
   "exception": null,
   "input_path": "__notebook__.ipynb",
   "output_path": "__notebook__.ipynb",
   "parameters": {},
   "start_time": "2022-05-17T09:27:19.906697",
   "version": "2.3.4"
  }
 },
 "nbformat": 4,
 "nbformat_minor": 5
}
