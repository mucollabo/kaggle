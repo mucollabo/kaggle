{
 "cells": [
  {
   "cell_type": "markdown",
   "id": "36fc993c",
   "metadata": {
    "papermill": {
     "duration": 0.016436,
     "end_time": "2022-05-11T13:31:30.455075",
     "exception": false,
     "start_time": "2022-05-11T13:31:30.438639",
     "status": "completed"
    },
    "tags": []
   },
   "source": [
    "**This notebook is an exercise in the [Data Visualization](https://www.kaggle.com/learn/data-visualization) course.  You can reference the tutorial at [this link](https://www.kaggle.com/alexisbcook/line-charts).**\n",
    "\n",
    "---\n"
   ]
  },
  {
   "cell_type": "markdown",
   "id": "3e1f9b5e",
   "metadata": {
    "papermill": {
     "duration": 0.014533,
     "end_time": "2022-05-11T13:31:30.484600",
     "exception": false,
     "start_time": "2022-05-11T13:31:30.470067",
     "status": "completed"
    },
    "tags": []
   },
   "source": [
    "In this exercise, you will use your new knowledge to propose a solution to a real-world scenario. To succeed, you will need to import data into Python, answer questions using the data, and generate **line charts** to understand patterns in the data.\n",
    "\n",
    "## Scenario\n",
    "\n",
    "You have recently been hired to manage the museums in the City of Los Angeles. Your first project focuses on the four museums pictured in the images below.\n",
    "\n",
    "![ex1_museums](https://i.imgur.com/pFYL8J1.png)\n",
    "\n",
    "You will leverage data from the Los Angeles [Data Portal](https://data.lacity.org/) that tracks monthly visitors to each museum.  \n",
    "\n",
    "![ex1_xlsx](https://i.imgur.com/mGWYlym.png)\n",
    "\n",
    "## Setup\n",
    "\n",
    "Run the next cell to import and configure the Python libraries that you need to complete the exercise."
   ]
  },
  {
   "cell_type": "code",
   "execution_count": 1,
   "id": "0890903c",
   "metadata": {
    "execution": {
     "iopub.execute_input": "2022-05-11T13:31:30.516426Z",
     "iopub.status.busy": "2022-05-11T13:31:30.515374Z",
     "iopub.status.idle": "2022-05-11T13:31:31.635048Z",
     "shell.execute_reply": "2022-05-11T13:31:31.634102Z"
    },
    "papermill": {
     "duration": 1.138651,
     "end_time": "2022-05-11T13:31:31.638083",
     "exception": false,
     "start_time": "2022-05-11T13:31:30.499432",
     "status": "completed"
    },
    "tags": []
   },
   "outputs": [
    {
     "name": "stdout",
     "output_type": "stream",
     "text": [
      "Setup Complete\n"
     ]
    }
   ],
   "source": [
    "import pandas as pd\n",
    "pd.plotting.register_matplotlib_converters()\n",
    "import matplotlib.pyplot as plt\n",
    "%matplotlib inline\n",
    "import seaborn as sns\n",
    "print(\"Setup Complete\")"
   ]
  },
  {
   "cell_type": "markdown",
   "id": "6e5c916a",
   "metadata": {
    "papermill": {
     "duration": 0.014747,
     "end_time": "2022-05-11T13:31:31.670632",
     "exception": false,
     "start_time": "2022-05-11T13:31:31.655885",
     "status": "completed"
    },
    "tags": []
   },
   "source": [
    "The questions below will give you feedback on your work. Run the following cell to set up the feedback system."
   ]
  },
  {
   "cell_type": "code",
   "execution_count": 2,
   "id": "85b30507",
   "metadata": {
    "execution": {
     "iopub.execute_input": "2022-05-11T13:31:31.702287Z",
     "iopub.status.busy": "2022-05-11T13:31:31.702034Z",
     "iopub.status.idle": "2022-05-11T13:31:31.766850Z",
     "shell.execute_reply": "2022-05-11T13:31:31.765668Z"
    },
    "papermill": {
     "duration": 0.083087,
     "end_time": "2022-05-11T13:31:31.768756",
     "exception": false,
     "start_time": "2022-05-11T13:31:31.685669",
     "status": "completed"
    },
    "tags": []
   },
   "outputs": [
    {
     "name": "stdout",
     "output_type": "stream",
     "text": [
      "Setup Complete\n"
     ]
    }
   ],
   "source": [
    "# Set up code checking\n",
    "import os\n",
    "if not os.path.exists(\"../input/museum_visitors.csv\"):\n",
    "    os.symlink(\"../input/data-for-datavis/museum_visitors.csv\", \"../input/museum_visitors.csv\") \n",
    "from learntools.core import binder\n",
    "binder.bind(globals())\n",
    "from learntools.data_viz_to_coder.ex2 import *\n",
    "print(\"Setup Complete\")"
   ]
  },
  {
   "cell_type": "markdown",
   "id": "e56015b6",
   "metadata": {
    "papermill": {
     "duration": 0.015287,
     "end_time": "2022-05-11T13:31:31.800168",
     "exception": false,
     "start_time": "2022-05-11T13:31:31.784881",
     "status": "completed"
    },
    "tags": []
   },
   "source": [
    "## Step 1: Load the data\n",
    "\n",
    "Your first assignment is to read the LA Museum Visitors data file into `museum_data`.  Note that:\n",
    "- The filepath to the dataset is stored as `museum_filepath`.  Please **do not** change the provided value of the filepath.\n",
    "- The name of the column to use as row labels is `\"Date\"`.  (This can be seen in cell A1 when the file is opened in Excel.)\n",
    "\n",
    "To help with this, you may find it useful to revisit some relevant code from the tutorial, which we have pasted below:\n",
    "\n",
    "```python\n",
    "# Path of the file to read\n",
    "spotify_filepath = \"../input/spotify.csv\"\n",
    "\n",
    "# Read the file into a variable spotify_data\n",
    "spotify_data = pd.read_csv(spotify_filepath, index_col=\"Date\", parse_dates=True)\n",
    "```\n",
    "\n",
    "The code you need to write now looks very similar!"
   ]
  },
  {
   "cell_type": "code",
   "execution_count": 3,
   "id": "75f68eed",
   "metadata": {
    "execution": {
     "iopub.execute_input": "2022-05-11T13:31:31.832714Z",
     "iopub.status.busy": "2022-05-11T13:31:31.832388Z",
     "iopub.status.idle": "2022-05-11T13:31:31.846097Z",
     "shell.execute_reply": "2022-05-11T13:31:31.845531Z"
    },
    "papermill": {
     "duration": 0.032428,
     "end_time": "2022-05-11T13:31:31.847900",
     "exception": false,
     "start_time": "2022-05-11T13:31:31.815472",
     "status": "completed"
    },
    "tags": []
   },
   "outputs": [
    {
     "data": {
      "application/javascript": [
       "parent.postMessage({\"jupyterEvent\": \"custom.exercise_interaction\", \"data\": {\"outcomeType\": 1, \"valueTowardsCompletion\": 0.3333333333333333, \"interactionType\": 1, \"questionType\": 1, \"questionId\": \"1_LoadMuseumData\", \"learnToolsVersion\": \"0.3.4\", \"failureMessage\": \"\", \"exceptionClass\": \"\", \"trace\": \"\"}}, \"*\")"
      ],
      "text/plain": [
       "<IPython.core.display.Javascript object>"
      ]
     },
     "metadata": {},
     "output_type": "display_data"
    },
    {
     "data": {
      "text/markdown": [
       "<span style=\"color:#33cc33\">Correct</span>"
      ],
      "text/plain": [
       "Correct"
      ]
     },
     "metadata": {},
     "output_type": "display_data"
    }
   ],
   "source": [
    "# Path of the file to read\n",
    "museum_filepath = \"../input/museum_visitors.csv\"\n",
    "\n",
    "# Fill in the line below to read the file into a variable museum_data\n",
    "museum_data = pd.read_csv(museum_filepath, index_col=\"Date\", parse_dates=True)\n",
    "\n",
    "# Run the line below with no changes to check that you've loaded the data correctly\n",
    "step_1.check()"
   ]
  },
  {
   "cell_type": "code",
   "execution_count": 4,
   "id": "194d80bc",
   "metadata": {
    "execution": {
     "iopub.execute_input": "2022-05-11T13:31:31.883091Z",
     "iopub.status.busy": "2022-05-11T13:31:31.882369Z",
     "iopub.status.idle": "2022-05-11T13:31:31.885540Z",
     "shell.execute_reply": "2022-05-11T13:31:31.884974Z"
    },
    "papermill": {
     "duration": 0.022648,
     "end_time": "2022-05-11T13:31:31.887367",
     "exception": false,
     "start_time": "2022-05-11T13:31:31.864719",
     "status": "completed"
    },
    "tags": []
   },
   "outputs": [],
   "source": [
    "# Uncomment the line below to receive a hint\n",
    "#step_1.hint()\n",
    "# Uncomment the line below to see the solution\n",
    "#step_1.solution()"
   ]
  },
  {
   "cell_type": "markdown",
   "id": "a5f05d35",
   "metadata": {
    "papermill": {
     "duration": 0.018012,
     "end_time": "2022-05-11T13:31:31.923611",
     "exception": false,
     "start_time": "2022-05-11T13:31:31.905599",
     "status": "completed"
    },
    "tags": []
   },
   "source": [
    "## Step 2: Review the data\n",
    "\n",
    "Use a Python command to print the last 5 rows of the data."
   ]
  },
  {
   "cell_type": "code",
   "execution_count": 5,
   "id": "83fbcad9",
   "metadata": {
    "execution": {
     "iopub.execute_input": "2022-05-11T13:31:31.972314Z",
     "iopub.status.busy": "2022-05-11T13:31:31.971641Z",
     "iopub.status.idle": "2022-05-11T13:31:31.986889Z",
     "shell.execute_reply": "2022-05-11T13:31:31.986276Z"
    },
    "papermill": {
     "duration": 0.044113,
     "end_time": "2022-05-11T13:31:31.989667",
     "exception": false,
     "start_time": "2022-05-11T13:31:31.945554",
     "status": "completed"
    },
    "tags": []
   },
   "outputs": [
    {
     "data": {
      "text/html": [
       "<div>\n",
       "<style scoped>\n",
       "    .dataframe tbody tr th:only-of-type {\n",
       "        vertical-align: middle;\n",
       "    }\n",
       "\n",
       "    .dataframe tbody tr th {\n",
       "        vertical-align: top;\n",
       "    }\n",
       "\n",
       "    .dataframe thead th {\n",
       "        text-align: right;\n",
       "    }\n",
       "</style>\n",
       "<table border=\"1\" class=\"dataframe\">\n",
       "  <thead>\n",
       "    <tr style=\"text-align: right;\">\n",
       "      <th></th>\n",
       "      <th>Avila Adobe</th>\n",
       "      <th>Firehouse Museum</th>\n",
       "      <th>Chinese American Museum</th>\n",
       "      <th>America Tropical Interpretive Center</th>\n",
       "    </tr>\n",
       "    <tr>\n",
       "      <th>Date</th>\n",
       "      <th></th>\n",
       "      <th></th>\n",
       "      <th></th>\n",
       "      <th></th>\n",
       "    </tr>\n",
       "  </thead>\n",
       "  <tbody>\n",
       "    <tr>\n",
       "      <th>2018-07-01</th>\n",
       "      <td>23136</td>\n",
       "      <td>4191</td>\n",
       "      <td>2620</td>\n",
       "      <td>4718</td>\n",
       "    </tr>\n",
       "    <tr>\n",
       "      <th>2018-08-01</th>\n",
       "      <td>20815</td>\n",
       "      <td>4866</td>\n",
       "      <td>2409</td>\n",
       "      <td>3891</td>\n",
       "    </tr>\n",
       "    <tr>\n",
       "      <th>2018-09-01</th>\n",
       "      <td>21020</td>\n",
       "      <td>4956</td>\n",
       "      <td>2146</td>\n",
       "      <td>3180</td>\n",
       "    </tr>\n",
       "    <tr>\n",
       "      <th>2018-10-01</th>\n",
       "      <td>19280</td>\n",
       "      <td>4622</td>\n",
       "      <td>2364</td>\n",
       "      <td>3775</td>\n",
       "    </tr>\n",
       "    <tr>\n",
       "      <th>2018-11-01</th>\n",
       "      <td>17163</td>\n",
       "      <td>4082</td>\n",
       "      <td>2385</td>\n",
       "      <td>4562</td>\n",
       "    </tr>\n",
       "  </tbody>\n",
       "</table>\n",
       "</div>"
      ],
      "text/plain": [
       "            Avila Adobe  Firehouse Museum  Chinese American Museum  \\\n",
       "Date                                                                 \n",
       "2018-07-01        23136              4191                     2620   \n",
       "2018-08-01        20815              4866                     2409   \n",
       "2018-09-01        21020              4956                     2146   \n",
       "2018-10-01        19280              4622                     2364   \n",
       "2018-11-01        17163              4082                     2385   \n",
       "\n",
       "            America Tropical Interpretive Center  \n",
       "Date                                              \n",
       "2018-07-01                                  4718  \n",
       "2018-08-01                                  3891  \n",
       "2018-09-01                                  3180  \n",
       "2018-10-01                                  3775  \n",
       "2018-11-01                                  4562  "
      ]
     },
     "execution_count": 5,
     "metadata": {},
     "output_type": "execute_result"
    }
   ],
   "source": [
    "# Print the last five rows of the data \n",
    "museum_data.tail()"
   ]
  },
  {
   "cell_type": "markdown",
   "id": "c47b8646",
   "metadata": {
    "papermill": {
     "duration": 0.022419,
     "end_time": "2022-05-11T13:31:32.038247",
     "exception": false,
     "start_time": "2022-05-11T13:31:32.015828",
     "status": "completed"
    },
    "tags": []
   },
   "source": [
    "The last row (for `2018-11-01`) tracks the number of visitors to each museum in November 2018, the next-to-last row (for `2018-10-01`) tracks the number of visitors to each museum in October 2018, _and so on_.\n",
    "\n",
    "Use the last 5 rows of the data to answer the questions below."
   ]
  },
  {
   "cell_type": "code",
   "execution_count": 6,
   "id": "85d43e85",
   "metadata": {
    "execution": {
     "iopub.execute_input": "2022-05-11T13:31:32.076879Z",
     "iopub.status.busy": "2022-05-11T13:31:32.076029Z",
     "iopub.status.idle": "2022-05-11T13:31:32.083991Z",
     "shell.execute_reply": "2022-05-11T13:31:32.083026Z"
    },
    "papermill": {
     "duration": 0.029,
     "end_time": "2022-05-11T13:31:32.085859",
     "exception": false,
     "start_time": "2022-05-11T13:31:32.056859",
     "status": "completed"
    },
    "tags": []
   },
   "outputs": [
    {
     "data": {
      "application/javascript": [
       "parent.postMessage({\"jupyterEvent\": \"custom.exercise_interaction\", \"data\": {\"outcomeType\": 1, \"valueTowardsCompletion\": 0.3333333333333333, \"interactionType\": 1, \"questionType\": 1, \"questionId\": \"2_ReviewData\", \"learnToolsVersion\": \"0.3.4\", \"failureMessage\": \"\", \"exceptionClass\": \"\", \"trace\": \"\"}}, \"*\")"
      ],
      "text/plain": [
       "<IPython.core.display.Javascript object>"
      ]
     },
     "metadata": {},
     "output_type": "display_data"
    },
    {
     "data": {
      "text/markdown": [
       "<span style=\"color:#33cc33\">Correct</span>"
      ],
      "text/plain": [
       "Correct"
      ]
     },
     "metadata": {},
     "output_type": "display_data"
    }
   ],
   "source": [
    "# Fill in the line below: How many visitors did the Chinese American Museum \n",
    "# receive in July 2018?\n",
    "ca_museum_jul18 = 2620 \n",
    "\n",
    "# Fill in the line below: In October 2018, how many more visitors did Avila \n",
    "# Adobe receive than the Firehouse Museum?\n",
    "avila_oct18 = 19280 - 4622\n",
    "\n",
    "# Check your answers\n",
    "step_2.check()"
   ]
  },
  {
   "cell_type": "code",
   "execution_count": 7,
   "id": "8b8d50e1",
   "metadata": {
    "execution": {
     "iopub.execute_input": "2022-05-11T13:31:32.123900Z",
     "iopub.status.busy": "2022-05-11T13:31:32.123633Z",
     "iopub.status.idle": "2022-05-11T13:31:32.127063Z",
     "shell.execute_reply": "2022-05-11T13:31:32.126044Z"
    },
    "papermill": {
     "duration": 0.024826,
     "end_time": "2022-05-11T13:31:32.129176",
     "exception": false,
     "start_time": "2022-05-11T13:31:32.104350",
     "status": "completed"
    },
    "tags": []
   },
   "outputs": [],
   "source": [
    "# Lines below will give you a hint or solution code\n",
    "#step_2.hint()\n",
    "#step_2.solution()"
   ]
  },
  {
   "cell_type": "markdown",
   "id": "f2d09711",
   "metadata": {
    "papermill": {
     "duration": 0.0177,
     "end_time": "2022-05-11T13:31:32.164978",
     "exception": false,
     "start_time": "2022-05-11T13:31:32.147278",
     "status": "completed"
    },
    "tags": []
   },
   "source": [
    "## Step 3: Convince the museum board \n",
    "\n",
    "The Firehouse Museum claims they ran an event in 2014 that brought an incredible number of visitors, and that they should get extra budget to run a similar event again.  The other museums think these types of events aren't that important, and budgets should be split purely based on recent visitors on an average day.  \n",
    "\n",
    "To show the museum board how the event compared to regular traffic at each museum, create a line chart that shows how the number of visitors to each museum evolved over time.  Your figure should have four lines (one for each museum).\n",
    "\n",
    "> **(Optional) Note**: If you have some prior experience with plotting figures in Python, you might be familiar with the `plt.show()` command.  If you decide to use this command, please place it **after** the line of code that checks your answer (in this case, place it after `step_3.check()` below) -- otherwise, the checking code will return an error!"
   ]
  },
  {
   "cell_type": "code",
   "execution_count": 8,
   "id": "ed40fc40",
   "metadata": {
    "execution": {
     "iopub.execute_input": "2022-05-11T13:31:32.202212Z",
     "iopub.status.busy": "2022-05-11T13:31:32.201919Z",
     "iopub.status.idle": "2022-05-11T13:31:32.594026Z",
     "shell.execute_reply": "2022-05-11T13:31:32.593060Z"
    },
    "papermill": {
     "duration": 0.413511,
     "end_time": "2022-05-11T13:31:32.596415",
     "exception": false,
     "start_time": "2022-05-11T13:31:32.182904",
     "status": "completed"
    },
    "tags": []
   },
   "outputs": [
    {
     "data": {
      "application/javascript": [
       "parent.postMessage({\"jupyterEvent\": \"custom.exercise_interaction\", \"data\": {\"outcomeType\": 1, \"valueTowardsCompletion\": 0.3333333333333333, \"interactionType\": 1, \"questionType\": 2, \"questionId\": \"3_PlotAll\", \"learnToolsVersion\": \"0.3.4\", \"failureMessage\": \"\", \"exceptionClass\": \"\", \"trace\": \"\"}}, \"*\")"
      ],
      "text/plain": [
       "<IPython.core.display.Javascript object>"
      ]
     },
     "metadata": {},
     "output_type": "display_data"
    },
    {
     "data": {
      "text/markdown": [
       "<span style=\"color:#33cc33\">Correct</span>"
      ],
      "text/plain": [
       "Correct"
      ]
     },
     "metadata": {},
     "output_type": "display_data"
    },
    {
     "data": {
      "image/png": "[encoded data removed]",
      "text/plain": [
       "<Figure size 1152x432 with 1 Axes>"
      ]
     },
     "metadata": {
      "needs_background": "light"
     },
     "output_type": "display_data"
    }
   ],
   "source": [
    "# Line chart showing the number of visitors to each museum over time\n",
    "# Set the width and height of the figure\n",
    "plt.figure(figsize=(16, 6))\n",
    "\n",
    "# Add title\n",
    "plt.title(\"The number of visitors to each museum evolved over time\")\n",
    "\n",
    "# Line chart showing the number of visitors\n",
    "sns.lineplot(data=museum_data)\n",
    "\n",
    "# Check your answer\n",
    "step_3.check()\n",
    "\n",
    "# plotting\n",
    "plt.show()"
   ]
  },
  {
   "cell_type": "code",
   "execution_count": 9,
   "id": "3abe5014",
   "metadata": {
    "execution": {
     "iopub.execute_input": "2022-05-11T13:31:32.645132Z",
     "iopub.status.busy": "2022-05-11T13:31:32.644571Z",
     "iopub.status.idle": "2022-05-11T13:31:32.648916Z",
     "shell.execute_reply": "2022-05-11T13:31:32.648140Z"
    },
    "papermill": {
     "duration": 0.029909,
     "end_time": "2022-05-11T13:31:32.650734",
     "exception": false,
     "start_time": "2022-05-11T13:31:32.620825",
     "status": "completed"
    },
    "tags": []
   },
   "outputs": [],
   "source": [
    "# Lines below will give you a hint or solution code\n",
    "#step_3.hint()\n",
    "#step_3.solution_plot()"
   ]
  },
  {
   "cell_type": "markdown",
   "id": "8000a18a",
   "metadata": {
    "papermill": {
     "duration": 0.021141,
     "end_time": "2022-05-11T13:31:32.693331",
     "exception": false,
     "start_time": "2022-05-11T13:31:32.672190",
     "status": "completed"
    },
    "tags": []
   },
   "source": [
    "## Step 4: Assess seasonality\n",
    "\n",
    "When meeting with the employees at Avila Adobe, you hear that one major pain point is that the number of museum visitors varies greatly with the seasons, with low seasons (when the employees are perfectly staffed and happy) and also high seasons (when the employees are understaffed and stressed).  You realize that if you can predict these high and low seasons, you can plan ahead to hire some additional seasonal employees to help out with the extra work.\n",
    "\n",
    "#### Part A\n",
    "Create a line chart that shows how the number of visitors to Avila Adobe has evolved over time.  (_If your code returns an error, the first thing that you should check is that you've spelled the name of the column correctly!  You must write the name of the column exactly as it appears in the dataset._)"
   ]
  },
  {
   "cell_type": "code",
   "execution_count": 10,
   "id": "f8fb6248",
   "metadata": {
    "execution": {
     "iopub.execute_input": "2022-05-11T13:31:32.737909Z",
     "iopub.status.busy": "2022-05-11T13:31:32.737380Z",
     "iopub.status.idle": "2022-05-11T13:31:32.995220Z",
     "shell.execute_reply": "2022-05-11T13:31:32.994253Z"
    },
    "papermill": {
     "duration": 0.2827,
     "end_time": "2022-05-11T13:31:32.997445",
     "exception": false,
     "start_time": "2022-05-11T13:31:32.714745",
     "status": "completed"
    },
    "tags": []
   },
   "outputs": [
    {
     "name": "stdout",
     "output_type": "stream",
     "text": [
      "Thank you for creating a line chart!  To see how your code compares to the official solution, please use the code cell below.\n"
     ]
    },
    {
     "data": {
      "application/javascript": [
       "parent.postMessage({\"jupyterEvent\": \"custom.exercise_interaction\", \"data\": {\"outcomeType\": 1, \"valueTowardsCompletion\": 0.3333333333333333, \"interactionType\": 1, \"questionType\": 2, \"questionId\": \"4.1_PlotAvila\", \"learnToolsVersion\": \"0.3.4\", \"failureMessage\": \"\", \"exceptionClass\": \"\", \"trace\": \"\"}}, \"*\")"
      ],
      "text/plain": [
       "<IPython.core.display.Javascript object>"
      ]
     },
     "metadata": {},
     "output_type": "display_data"
    },
    {
     "data": {
      "text/markdown": [
       "<span style=\"color:#33cc33\">Correct</span>"
      ],
      "text/plain": [
       "Correct"
      ]
     },
     "metadata": {},
     "output_type": "display_data"
    },
    {
     "data": {
      "image/png": "[encoded data removed]",
      "text/plain": [
       "<Figure size 1152x432 with 1 Axes>"
      ]
     },
     "metadata": {
      "needs_background": "light"
     },
     "output_type": "display_data"
    }
   ],
   "source": [
    "# Line plot showing the number of visitors to Avila Adobe over time\n",
    "# Set the width and height of the figure\n",
    "plt.figure(figsize=(16, 6))\n",
    "\n",
    "# Add title\n",
    "plt.title(\"the number of visitors to Avila Adobe has evolved over time\")\n",
    "\n",
    "# Line chart showing the number of visitors to Avila Adobe\n",
    "sns.lineplot(data=museum_data['Avila Adobe'], label=\"Avila Adobe\")\n",
    "\n",
    "# Add label for horizontal axis\n",
    "plt.xlabel(\"Date\")\n",
    "plt.ylabel(\"visitors\")\n",
    "\n",
    "# Check your answer\n",
    "step_4.a.check()\n",
    "\n",
    "# plotting\n",
    "plt.show()"
   ]
  },
  {
   "cell_type": "code",
   "execution_count": 11,
   "id": "3bf8f010",
   "metadata": {
    "execution": {
     "iopub.execute_input": "2022-05-11T13:31:33.049317Z",
     "iopub.status.busy": "2022-05-11T13:31:33.049046Z",
     "iopub.status.idle": "2022-05-11T13:31:33.052152Z",
     "shell.execute_reply": "2022-05-11T13:31:33.051463Z"
    },
    "papermill": {
     "duration": 0.030581,
     "end_time": "2022-05-11T13:31:33.053843",
     "exception": false,
     "start_time": "2022-05-11T13:31:33.023262",
     "status": "completed"
    },
    "tags": []
   },
   "outputs": [],
   "source": [
    "# Lines below will give you a hint or solution code\n",
    "#step_4.a.hint()\n",
    "# step_4.a.solution_plot()"
   ]
  },
  {
   "cell_type": "markdown",
   "id": "6f8a0f00",
   "metadata": {
    "papermill": {
     "duration": 0.024242,
     "end_time": "2022-05-11T13:31:33.102620",
     "exception": false,
     "start_time": "2022-05-11T13:31:33.078378",
     "status": "completed"
    },
    "tags": []
   },
   "source": [
    "#### Part B\n",
    "\n",
    "Does Avila Adobe get more visitors:\n",
    "- in September-February (in LA, the fall and winter months), or \n",
    "- in March-August (in LA, the spring and summer)?  \n",
    "\n",
    "Using this information, when should the museum staff additional seasonal employees?"
   ]
  },
  {
   "cell_type": "code",
   "execution_count": 12,
   "id": "c520672f",
   "metadata": {
    "execution": {
     "iopub.execute_input": "2022-05-11T13:31:33.153780Z",
     "iopub.status.busy": "2022-05-11T13:31:33.153176Z",
     "iopub.status.idle": "2022-05-11T13:31:33.159654Z",
     "shell.execute_reply": "2022-05-11T13:31:33.159035Z"
    },
    "papermill": {
     "duration": 0.034133,
     "end_time": "2022-05-11T13:31:33.161271",
     "exception": false,
     "start_time": "2022-05-11T13:31:33.127138",
     "status": "completed"
    },
    "tags": []
   },
   "outputs": [
    {
     "data": {
      "application/javascript": [
       "parent.postMessage({\"jupyterEvent\": \"custom.exercise_interaction\", \"data\": {\"interactionType\": 2, \"questionType\": 4, \"questionId\": \"4.2_ThinkAvila\", \"learnToolsVersion\": \"0.3.4\", \"valueTowardsCompletion\": 0.0, \"failureMessage\": \"\", \"exceptionClass\": \"\", \"trace\": \"\", \"outcomeType\": 4}}, \"*\")"
      ],
      "text/plain": [
       "<IPython.core.display.Javascript object>"
      ]
     },
     "metadata": {},
     "output_type": "display_data"
    },
    {
     "data": {
      "text/markdown": [
       "<span style=\"color:#3366cc\">Hint:</span> Look at the early part of each year (around January).  Does the line chart dip to low values or reach relatively high values?"
      ],
      "text/plain": [
       "Hint: Look at the early part of each year (around January).  Does the line chart dip to low values or reach relatively high values?"
      ]
     },
     "metadata": {},
     "output_type": "display_data"
    }
   ],
   "source": [
    "step_4.b.hint()"
   ]
  },
  {
   "cell_type": "code",
   "execution_count": 13,
   "id": "fec3f791",
   "metadata": {
    "execution": {
     "iopub.execute_input": "2022-05-11T13:31:33.215417Z",
     "iopub.status.busy": "2022-05-11T13:31:33.214917Z",
     "iopub.status.idle": "2022-05-11T13:31:33.221117Z",
     "shell.execute_reply": "2022-05-11T13:31:33.220556Z"
    },
    "papermill": {
     "duration": 0.035618,
     "end_time": "2022-05-11T13:31:33.222756",
     "exception": false,
     "start_time": "2022-05-11T13:31:33.187138",
     "status": "completed"
    },
    "tags": []
   },
   "outputs": [
    {
     "data": {
      "application/javascript": [
       "parent.postMessage({\"jupyterEvent\": \"custom.exercise_interaction\", \"data\": {\"interactionType\": 3, \"questionType\": 4, \"questionId\": \"4.2_ThinkAvila\", \"learnToolsVersion\": \"0.3.4\", \"valueTowardsCompletion\": 0.0, \"failureMessage\": \"\", \"exceptionClass\": \"\", \"trace\": \"\", \"outcomeType\": 4}}, \"*\")"
      ],
      "text/plain": [
       "<IPython.core.display.Javascript object>"
      ]
     },
     "metadata": {},
     "output_type": "display_data"
    },
    {
     "data": {
      "text/markdown": [
       "<span style=\"color:#33cc99\">Solution:</span> The line chart generally dips to relatively low values around the early part of each year (in December and January), and reaches its highest values in the middle of the year (especially around May and June).  Thus, Avila Adobe usually gets more visitors in March-August (or the spring and summer months).  With this in mind, Avila Adobe could definitely benefit from hiring more seasonal employees to help with the extra work in March-August (the spring and summer)!"
      ],
      "text/plain": [
       "Solution: The line chart generally dips to relatively low values around the early part of each year (in December and January), and reaches its highest values in the middle of the year (especially around May and June).  Thus, Avila Adobe usually gets more visitors in March-August (or the spring and summer months).  With this in mind, Avila Adobe could definitely benefit from hiring more seasonal employees to help with the extra work in March-August (the spring and summer)!"
      ]
     },
     "metadata": {},
     "output_type": "display_data"
    }
   ],
   "source": [
    "# Check your answer (Run this code cell to receive credit!)\n",
    "step_4.b.solution()"
   ]
  },
  {
   "cell_type": "markdown",
   "id": "7c753371",
   "metadata": {
    "papermill": {
     "duration": 0.025833,
     "end_time": "2022-05-11T13:31:33.274777",
     "exception": false,
     "start_time": "2022-05-11T13:31:33.248944",
     "status": "completed"
    },
    "tags": []
   },
   "source": [
    "# Keep going\n",
    "\n",
    "Move on to learn about **[bar charts and heatmaps](https://www.kaggle.com/alexisbcook/bar-charts-and-heatmaps)** with a new dataset!"
   ]
  },
  {
   "cell_type": "markdown",
   "id": "2a3dc415",
   "metadata": {
    "papermill": {
     "duration": 0.025949,
     "end_time": "2022-05-11T13:31:33.326807",
     "exception": false,
     "start_time": "2022-05-11T13:31:33.300858",
     "status": "completed"
    },
    "tags": []
   },
   "source": [
    "---\n",
    "\n",
    "\n",
    "\n",
    "\n",
    "*Have questions or comments? Visit the [course discussion forum](https://www.kaggle.com/learn/data-visualization/discussion) to chat with other learners.*"
   ]
  }
 ],
 "metadata": {
  "kernelspec": {
   "display_name": "Python 3",
   "language": "python",
   "name": "python3"
  },
  "language_info": {
   "codemirror_mode": {
    "name": "ipython",
    "version": 3
   },
   "file_extension": ".py",
   "mimetype": "text/x-python",
   "name": "python",
   "nbconvert_exporter": "python",
   "pygments_lexer": "ipython3",
   "version": "3.7.12"
  },
  "papermill": {
   "default_parameters": {},
   "duration": 12.350588,
   "end_time": "2022-05-11T13:31:34.075977",
   "environment_variables": {},
   "exception": null,
   "input_path": "__notebook__.ipynb",
   "output_path": "__notebook__.ipynb",
   "parameters": {},
   "start_time": "2022-05-11T13:31:21.725389",
   "version": "2.3.4"
  }
 },
 "nbformat": 4,
 "nbformat_minor": 5
}
