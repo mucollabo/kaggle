{
 "cells": [
  {
   "cell_type": "markdown",
   "id": "1799c2bf",
   "metadata": {
    "papermill": {
     "duration": 0.030041,
     "end_time": "2022-05-12T13:55:00.760786",
     "exception": false,
     "start_time": "2022-05-12T13:55:00.730745",
     "status": "completed"
    },
    "tags": []
   },
   "source": [
    "**This notebook is an exercise in the [Data Visualization](https://www.kaggle.com/learn/data-visualization) course.  You can reference the tutorial at [this link](https://www.kaggle.com/alexisbcook/scatter-plots).**\n",
    "\n",
    "---\n"
   ]
  },
  {
   "cell_type": "markdown",
   "id": "b421921e",
   "metadata": {
    "papermill": {
     "duration": 0.029421,
     "end_time": "2022-05-12T13:55:00.819916",
     "exception": false,
     "start_time": "2022-05-12T13:55:00.790495",
     "status": "completed"
    },
    "tags": []
   },
   "source": [
    "In this exercise, you will use your new knowledge to propose a solution to a real-world scenario.  To succeed, you will need to import data into Python, answer questions using the data, and generate **scatter plots** to understand patterns in the data.\n",
    "\n",
    "## Scenario\n",
    "\n",
    "You work for a major candy producer, and your goal is to write a report that your company can use to guide the design of its next product.  Soon after starting your research, you stumble across this [very interesting dataset](https://fivethirtyeight.com/features/the-ultimate-halloween-candy-power-ranking/) containing results from a fun survey to crowdsource favorite candies.\n",
    "\n",
    "## Setup\n",
    "\n",
    "Run the next cell to import and configure the Python libraries that you need to complete the exercise."
   ]
  },
  {
   "cell_type": "code",
   "execution_count": 1,
   "id": "c1d5f684",
   "metadata": {
    "execution": {
     "iopub.execute_input": "2022-05-12T13:55:00.879949Z",
     "iopub.status.busy": "2022-05-12T13:55:00.879569Z",
     "iopub.status.idle": "2022-05-12T13:55:02.072821Z",
     "shell.execute_reply": "2022-05-12T13:55:02.070941Z"
    },
    "papermill": {
     "duration": 1.227107,
     "end_time": "2022-05-12T13:55:02.075857",
     "exception": false,
     "start_time": "2022-05-12T13:55:00.848750",
     "status": "completed"
    },
    "tags": []
   },
   "outputs": [
    {
     "name": "stdout",
     "output_type": "stream",
     "text": [
      "Setup Complete\n"
     ]
    }
   ],
   "source": [
    "import pandas as pd\n",
    "pd.plotting.register_matplotlib_converters()\n",
    "import matplotlib.pyplot as plt\n",
    "%matplotlib inline\n",
    "import seaborn as sns\n",
    "print(\"Setup Complete\")"
   ]
  },
  {
   "cell_type": "markdown",
   "id": "0d18fb2e",
   "metadata": {
    "papermill": {
     "duration": 0.045876,
     "end_time": "2022-05-12T13:55:02.168534",
     "exception": false,
     "start_time": "2022-05-12T13:55:02.122658",
     "status": "completed"
    },
    "tags": []
   },
   "source": [
    "The questions below will give you feedback on your work. Run the following cell to set up our feedback system."
   ]
  },
  {
   "cell_type": "code",
   "execution_count": 2,
   "id": "e76cdf16",
   "metadata": {
    "execution": {
     "iopub.execute_input": "2022-05-12T13:55:02.265529Z",
     "iopub.status.busy": "2022-05-12T13:55:02.265259Z",
     "iopub.status.idle": "2022-05-12T13:55:02.343309Z",
     "shell.execute_reply": "2022-05-12T13:55:02.342181Z"
    },
    "papermill": {
     "duration": 0.132181,
     "end_time": "2022-05-12T13:55:02.346823",
     "exception": false,
     "start_time": "2022-05-12T13:55:02.214642",
     "status": "completed"
    },
    "tags": []
   },
   "outputs": [
    {
     "name": "stdout",
     "output_type": "stream",
     "text": [
      "Setup Complete\n"
     ]
    }
   ],
   "source": [
    "# Set up code checking\n",
    "import os\n",
    "if not os.path.exists(\"../input/candy.csv\"):\n",
    "    os.symlink(\"../input/data-for-datavis/candy.csv\", \"../input/candy.csv\") \n",
    "from learntools.core import binder\n",
    "binder.bind(globals())\n",
    "from learntools.data_viz_to_coder.ex4 import *\n",
    "print(\"Setup Complete\")"
   ]
  },
  {
   "cell_type": "markdown",
   "id": "b5fbd318",
   "metadata": {
    "papermill": {
     "duration": 0.029258,
     "end_time": "2022-05-12T13:55:02.406922",
     "exception": false,
     "start_time": "2022-05-12T13:55:02.377664",
     "status": "completed"
    },
    "tags": []
   },
   "source": [
    "## Step 1: Load the Data\n",
    "\n",
    "Read the candy data file into `candy_data`.  Use the `\"id\"` column to label the rows."
   ]
  },
  {
   "cell_type": "code",
   "execution_count": 3,
   "id": "6b72bf3b",
   "metadata": {
    "execution": {
     "iopub.execute_input": "2022-05-12T13:55:02.470639Z",
     "iopub.status.busy": "2022-05-12T13:55:02.469911Z",
     "iopub.status.idle": "2022-05-12T13:55:02.492738Z",
     "shell.execute_reply": "2022-05-12T13:55:02.491351Z"
    },
    "papermill": {
     "duration": 0.056567,
     "end_time": "2022-05-12T13:55:02.494758",
     "exception": false,
     "start_time": "2022-05-12T13:55:02.438191",
     "status": "completed"
    },
    "tags": []
   },
   "outputs": [
    {
     "data": {
      "application/javascript": [
       "parent.postMessage({\"jupyterEvent\": \"custom.exercise_interaction\", \"data\": {\"outcomeType\": 1, \"valueTowardsCompletion\": 0.3333333333333333, \"interactionType\": 1, \"questionType\": 1, \"questionId\": \"1_LoadData\", \"learnToolsVersion\": \"0.3.4\", \"failureMessage\": \"\", \"exceptionClass\": \"\", \"trace\": \"\"}}, \"*\")"
      ],
      "text/plain": [
       "<IPython.core.display.Javascript object>"
      ]
     },
     "metadata": {},
     "output_type": "display_data"
    },
    {
     "data": {
      "text/markdown": [
       "<span style=\"color:#33cc33\">Correct</span>"
      ],
      "text/plain": [
       "Correct"
      ]
     },
     "metadata": {},
     "output_type": "display_data"
    }
   ],
   "source": [
    "# Path of the file to read\n",
    "candy_filepath = \"../input/candy.csv\"\n",
    "\n",
    "# Fill in the line below to read the file into a variable candy_data\n",
    "candy_data = pd.read_csv(candy_filepath, index_col=\"id\")\n",
    "\n",
    "# Run the line below with no changes to check that you've loaded the data correctly\n",
    "step_1.check()"
   ]
  },
  {
   "cell_type": "code",
   "execution_count": 4,
   "id": "3bd3b4fc",
   "metadata": {
    "execution": {
     "iopub.execute_input": "2022-05-12T13:55:02.560365Z",
     "iopub.status.busy": "2022-05-12T13:55:02.559321Z",
     "iopub.status.idle": "2022-05-12T13:55:02.564128Z",
     "shell.execute_reply": "2022-05-12T13:55:02.563391Z"
    },
    "papermill": {
     "duration": 0.040647,
     "end_time": "2022-05-12T13:55:02.566641",
     "exception": false,
     "start_time": "2022-05-12T13:55:02.525994",
     "status": "completed"
    },
    "tags": []
   },
   "outputs": [],
   "source": [
    "# Lines below will give you a hint or solution code\n",
    "#step_1.hint()\n",
    "#step_1.solution()"
   ]
  },
  {
   "cell_type": "markdown",
   "id": "b03abcfd",
   "metadata": {
    "papermill": {
     "duration": 0.030605,
     "end_time": "2022-05-12T13:55:02.628619",
     "exception": false,
     "start_time": "2022-05-12T13:55:02.598014",
     "status": "completed"
    },
    "tags": []
   },
   "source": [
    "## Step 2: Review the data\n",
    "\n",
    "Use a Python command to print the first five rows of the data."
   ]
  },
  {
   "cell_type": "code",
   "execution_count": 5,
   "id": "3b884728",
   "metadata": {
    "execution": {
     "iopub.execute_input": "2022-05-12T13:55:02.694176Z",
     "iopub.status.busy": "2022-05-12T13:55:02.693013Z",
     "iopub.status.idle": "2022-05-12T13:55:02.715389Z",
     "shell.execute_reply": "2022-05-12T13:55:02.713612Z"
    },
    "papermill": {
     "duration": 0.058075,
     "end_time": "2022-05-12T13:55:02.718531",
     "exception": false,
     "start_time": "2022-05-12T13:55:02.660456",
     "status": "completed"
    },
    "tags": []
   },
   "outputs": [
    {
     "data": {
      "text/html": [
       "<div>\n",
       "<style scoped>\n",
       "    .dataframe tbody tr th:only-of-type {\n",
       "        vertical-align: middle;\n",
       "    }\n",
       "\n",
       "    .dataframe tbody tr th {\n",
       "        vertical-align: top;\n",
       "    }\n",
       "\n",
       "    .dataframe thead th {\n",
       "        text-align: right;\n",
       "    }\n",
       "</style>\n",
       "<table border=\"1\" class=\"dataframe\">\n",
       "  <thead>\n",
       "    <tr style=\"text-align: right;\">\n",
       "      <th></th>\n",
       "      <th>competitorname</th>\n",
       "      <th>chocolate</th>\n",
       "      <th>fruity</th>\n",
       "      <th>caramel</th>\n",
       "      <th>peanutyalmondy</th>\n",
       "      <th>nougat</th>\n",
       "      <th>crispedricewafer</th>\n",
       "      <th>hard</th>\n",
       "      <th>bar</th>\n",
       "      <th>pluribus</th>\n",
       "      <th>sugarpercent</th>\n",
       "      <th>pricepercent</th>\n",
       "      <th>winpercent</th>\n",
       "    </tr>\n",
       "    <tr>\n",
       "      <th>id</th>\n",
       "      <th></th>\n",
       "      <th></th>\n",
       "      <th></th>\n",
       "      <th></th>\n",
       "      <th></th>\n",
       "      <th></th>\n",
       "      <th></th>\n",
       "      <th></th>\n",
       "      <th></th>\n",
       "      <th></th>\n",
       "      <th></th>\n",
       "      <th></th>\n",
       "      <th></th>\n",
       "    </tr>\n",
       "  </thead>\n",
       "  <tbody>\n",
       "    <tr>\n",
       "      <th>0</th>\n",
       "      <td>100 Grand</td>\n",
       "      <td>Yes</td>\n",
       "      <td>No</td>\n",
       "      <td>Yes</td>\n",
       "      <td>No</td>\n",
       "      <td>No</td>\n",
       "      <td>Yes</td>\n",
       "      <td>No</td>\n",
       "      <td>Yes</td>\n",
       "      <td>No</td>\n",
       "      <td>0.732</td>\n",
       "      <td>0.860</td>\n",
       "      <td>66.971725</td>\n",
       "    </tr>\n",
       "    <tr>\n",
       "      <th>1</th>\n",
       "      <td>3 Musketeers</td>\n",
       "      <td>Yes</td>\n",
       "      <td>No</td>\n",
       "      <td>No</td>\n",
       "      <td>No</td>\n",
       "      <td>Yes</td>\n",
       "      <td>No</td>\n",
       "      <td>No</td>\n",
       "      <td>Yes</td>\n",
       "      <td>No</td>\n",
       "      <td>0.604</td>\n",
       "      <td>0.511</td>\n",
       "      <td>67.602936</td>\n",
       "    </tr>\n",
       "    <tr>\n",
       "      <th>2</th>\n",
       "      <td>Air Heads</td>\n",
       "      <td>No</td>\n",
       "      <td>Yes</td>\n",
       "      <td>No</td>\n",
       "      <td>No</td>\n",
       "      <td>No</td>\n",
       "      <td>No</td>\n",
       "      <td>No</td>\n",
       "      <td>No</td>\n",
       "      <td>No</td>\n",
       "      <td>0.906</td>\n",
       "      <td>0.511</td>\n",
       "      <td>52.341465</td>\n",
       "    </tr>\n",
       "    <tr>\n",
       "      <th>3</th>\n",
       "      <td>Almond Joy</td>\n",
       "      <td>Yes</td>\n",
       "      <td>No</td>\n",
       "      <td>No</td>\n",
       "      <td>Yes</td>\n",
       "      <td>No</td>\n",
       "      <td>No</td>\n",
       "      <td>No</td>\n",
       "      <td>Yes</td>\n",
       "      <td>No</td>\n",
       "      <td>0.465</td>\n",
       "      <td>0.767</td>\n",
       "      <td>50.347546</td>\n",
       "    </tr>\n",
       "    <tr>\n",
       "      <th>4</th>\n",
       "      <td>Baby Ruth</td>\n",
       "      <td>Yes</td>\n",
       "      <td>No</td>\n",
       "      <td>Yes</td>\n",
       "      <td>Yes</td>\n",
       "      <td>Yes</td>\n",
       "      <td>No</td>\n",
       "      <td>No</td>\n",
       "      <td>Yes</td>\n",
       "      <td>No</td>\n",
       "      <td>0.604</td>\n",
       "      <td>0.767</td>\n",
       "      <td>56.914547</td>\n",
       "    </tr>\n",
       "  </tbody>\n",
       "</table>\n",
       "</div>"
      ],
      "text/plain": [
       "   competitorname chocolate fruity caramel peanutyalmondy nougat  \\\n",
       "id                                                                 \n",
       "0       100 Grand       Yes     No     Yes             No     No   \n",
       "1    3 Musketeers       Yes     No      No             No    Yes   \n",
       "2       Air Heads        No    Yes      No             No     No   \n",
       "3      Almond Joy       Yes     No      No            Yes     No   \n",
       "4       Baby Ruth       Yes     No     Yes            Yes    Yes   \n",
       "\n",
       "   crispedricewafer hard  bar pluribus  sugarpercent  pricepercent  winpercent  \n",
       "id                                                                              \n",
       "0               Yes   No  Yes       No         0.732         0.860   66.971725  \n",
       "1                No   No  Yes       No         0.604         0.511   67.602936  \n",
       "2                No   No   No       No         0.906         0.511   52.341465  \n",
       "3                No   No  Yes       No         0.465         0.767   50.347546  \n",
       "4                No   No  Yes       No         0.604         0.767   56.914547  "
      ]
     },
     "execution_count": 5,
     "metadata": {},
     "output_type": "execute_result"
    }
   ],
   "source": [
    "# Print the first five rows of the data\n",
    "candy_data.head()"
   ]
  },
  {
   "cell_type": "code",
   "execution_count": 6,
   "id": "3c93259d",
   "metadata": {
    "execution": {
     "iopub.execute_input": "2022-05-12T13:55:02.785159Z",
     "iopub.status.busy": "2022-05-12T13:55:02.784361Z",
     "iopub.status.idle": "2022-05-12T13:55:02.804715Z",
     "shell.execute_reply": "2022-05-12T13:55:02.804061Z"
    },
    "papermill": {
     "duration": 0.055944,
     "end_time": "2022-05-12T13:55:02.807396",
     "exception": false,
     "start_time": "2022-05-12T13:55:02.751452",
     "status": "completed"
    },
    "tags": []
   },
   "outputs": [
    {
     "name": "stdout",
     "output_type": "stream",
     "text": [
      "<class 'pandas.core.frame.DataFrame'>\n",
      "Int64Index: 83 entries, 0 to 82\n",
      "Data columns (total 13 columns):\n",
      " #   Column            Non-Null Count  Dtype  \n",
      "---  ------            --------------  -----  \n",
      " 0   competitorname    83 non-null     object \n",
      " 1   chocolate         83 non-null     object \n",
      " 2   fruity            83 non-null     object \n",
      " 3   caramel           83 non-null     object \n",
      " 4   peanutyalmondy    83 non-null     object \n",
      " 5   nougat            83 non-null     object \n",
      " 6   crispedricewafer  83 non-null     object \n",
      " 7   hard              83 non-null     object \n",
      " 8   bar               83 non-null     object \n",
      " 9   pluribus          83 non-null     object \n",
      " 10  sugarpercent      83 non-null     float64\n",
      " 11  pricepercent      83 non-null     float64\n",
      " 12  winpercent        83 non-null     float64\n",
      "dtypes: float64(3), object(10)\n",
      "memory usage: 9.1+ KB\n"
     ]
    }
   ],
   "source": [
    "candy_data.info()"
   ]
  },
  {
   "cell_type": "markdown",
   "id": "5b4badd5",
   "metadata": {
    "papermill": {
     "duration": 0.049107,
     "end_time": "2022-05-12T13:55:02.906038",
     "exception": false,
     "start_time": "2022-05-12T13:55:02.856931",
     "status": "completed"
    },
    "tags": []
   },
   "source": [
    "The dataset contains 83 rows, where each corresponds to a different candy bar.  There are 13 columns:\n",
    "- `'competitorname'` contains the name of the candy bar. \n",
    "- the next **9** columns (from `'chocolate'` to `'pluribus'`) describe the candy.  For instance, rows with chocolate candies have `\"Yes\"` in the `'chocolate'` column (and candies without chocolate have `\"No\"` in the same column).\n",
    "- `'sugarpercent'` provides some indication of the amount of sugar, where higher values signify higher sugar content.\n",
    "- `'pricepercent'` shows the price per unit, relative to the other candies in the dataset.\n",
    "- `'winpercent'` is calculated from the survey results; higher values indicate that the candy was more popular with survey respondents.\n",
    "\n",
    "Use the first five rows of the data to answer the questions below."
   ]
  },
  {
   "cell_type": "code",
   "execution_count": 7,
   "id": "252134b0",
   "metadata": {
    "execution": {
     "iopub.execute_input": "2022-05-12T13:55:03.008912Z",
     "iopub.status.busy": "2022-05-12T13:55:03.008351Z",
     "iopub.status.idle": "2022-05-12T13:55:03.016631Z",
     "shell.execute_reply": "2022-05-12T13:55:03.015621Z"
    },
    "papermill": {
     "duration": 0.0633,
     "end_time": "2022-05-12T13:55:03.018827",
     "exception": false,
     "start_time": "2022-05-12T13:55:02.955527",
     "status": "completed"
    },
    "tags": []
   },
   "outputs": [
    {
     "data": {
      "application/javascript": [
       "parent.postMessage({\"jupyterEvent\": \"custom.exercise_interaction\", \"data\": {\"outcomeType\": 1, \"valueTowardsCompletion\": 0.3333333333333333, \"interactionType\": 1, \"questionType\": 1, \"questionId\": \"2_ReviewData\", \"learnToolsVersion\": \"0.3.4\", \"failureMessage\": \"\", \"exceptionClass\": \"\", \"trace\": \"\"}}, \"*\")"
      ],
      "text/plain": [
       "<IPython.core.display.Javascript object>"
      ]
     },
     "metadata": {},
     "output_type": "display_data"
    },
    {
     "data": {
      "text/markdown": [
       "<span style=\"color:#33cc33\">Correct</span>"
      ],
      "text/plain": [
       "Correct"
      ]
     },
     "metadata": {},
     "output_type": "display_data"
    }
   ],
   "source": [
    "# Fill in the line below: Which candy was more popular with survey respondents:\n",
    "# '3 Musketeers' or 'Almond Joy'?  (Please enclose your answer in single quotes.)\n",
    "more_popular = '3 Musketeers'\n",
    "\n",
    "# Fill in the line below: Which candy has higher sugar content: 'Air Heads'\n",
    "# or 'Baby Ruth'? (Please enclose your answer in single quotes.)\n",
    "more_sugar = 'Air Heads'\n",
    "\n",
    "# Check your answers\n",
    "step_2.check()"
   ]
  },
  {
   "cell_type": "code",
   "execution_count": 8,
   "id": "1a200196",
   "metadata": {
    "execution": {
     "iopub.execute_input": "2022-05-12T13:55:03.123919Z",
     "iopub.status.busy": "2022-05-12T13:55:03.123366Z",
     "iopub.status.idle": "2022-05-12T13:55:03.127211Z",
     "shell.execute_reply": "2022-05-12T13:55:03.126308Z"
    },
    "papermill": {
     "duration": 0.060002,
     "end_time": "2022-05-12T13:55:03.130044",
     "exception": false,
     "start_time": "2022-05-12T13:55:03.070042",
     "status": "completed"
    },
    "tags": []
   },
   "outputs": [],
   "source": [
    "# Lines below will give you a hint or solution code\n",
    "#step_2.hint()\n",
    "#step_2.solution()"
   ]
  },
  {
   "cell_type": "markdown",
   "id": "cb15301e",
   "metadata": {
    "papermill": {
     "duration": 0.05212,
     "end_time": "2022-05-12T13:55:03.233973",
     "exception": false,
     "start_time": "2022-05-12T13:55:03.181853",
     "status": "completed"
    },
    "tags": []
   },
   "source": [
    "## Step 3: The role of sugar\n",
    "\n",
    "Do people tend to prefer candies with higher sugar content?  \n",
    "\n",
    "#### Part A\n",
    "\n",
    "Create a scatter plot that shows the relationship between `'sugarpercent'` (on the horizontal x-axis) and `'winpercent'` (on the vertical y-axis).  _Don't add a regression line just yet -- you'll do that in the next step!_"
   ]
  },
  {
   "cell_type": "code",
   "execution_count": 9,
   "id": "d0c2f161",
   "metadata": {
    "execution": {
     "iopub.execute_input": "2022-05-12T13:55:03.339594Z",
     "iopub.status.busy": "2022-05-12T13:55:03.339204Z",
     "iopub.status.idle": "2022-05-12T13:55:03.595180Z",
     "shell.execute_reply": "2022-05-12T13:55:03.594167Z"
    },
    "papermill": {
     "duration": 0.311636,
     "end_time": "2022-05-12T13:55:03.598132",
     "exception": false,
     "start_time": "2022-05-12T13:55:03.286496",
     "status": "completed"
    },
    "tags": []
   },
   "outputs": [
    {
     "data": {
      "application/javascript": [
       "parent.postMessage({\"jupyterEvent\": \"custom.exercise_interaction\", \"data\": {\"outcomeType\": 1, \"valueTowardsCompletion\": 0.3333333333333333, \"interactionType\": 1, \"questionType\": 2, \"questionId\": \"3.1_PlotBlueScatter\", \"learnToolsVersion\": \"0.3.4\", \"failureMessage\": \"\", \"exceptionClass\": \"\", \"trace\": \"\"}}, \"*\")"
      ],
      "text/plain": [
       "<IPython.core.display.Javascript object>"
      ]
     },
     "metadata": {},
     "output_type": "display_data"
    },
    {
     "data": {
      "text/markdown": [
       "<span style=\"color:#33cc33\">Correct</span>"
      ],
      "text/plain": [
       "Correct"
      ]
     },
     "metadata": {},
     "output_type": "display_data"
    },
    {
     "data": {
      "image/png": "[encoded data removed]",
      "text/plain": [
       "<Figure size 432x288 with 1 Axes>"
      ]
     },
     "metadata": {
      "needs_background": "light"
     },
     "output_type": "display_data"
    }
   ],
   "source": [
    "# Scatter plot showing the relationship between 'sugarpercent' and 'winpercent'\n",
    "sns.scatterplot(x=candy_data['sugarpercent'], y=candy_data['winpercent'])\n",
    "\n",
    "# Check your answer\n",
    "step_3.a.check()"
   ]
  },
  {
   "cell_type": "code",
   "execution_count": 10,
   "id": "17c391f6",
   "metadata": {
    "execution": {
     "iopub.execute_input": "2022-05-12T13:55:03.708468Z",
     "iopub.status.busy": "2022-05-12T13:55:03.708165Z",
     "iopub.status.idle": "2022-05-12T13:55:03.711955Z",
     "shell.execute_reply": "2022-05-12T13:55:03.711136Z"
    },
    "papermill": {
     "duration": 0.061869,
     "end_time": "2022-05-12T13:55:03.714887",
     "exception": false,
     "start_time": "2022-05-12T13:55:03.653018",
     "status": "completed"
    },
    "tags": []
   },
   "outputs": [],
   "source": [
    "# Lines below will give you a hint or solution code\n",
    "#step_3.a.hint()\n",
    "#step_3.a.solution_plot()"
   ]
  },
  {
   "cell_type": "markdown",
   "id": "b4c29b88",
   "metadata": {
    "papermill": {
     "duration": 0.054001,
     "end_time": "2022-05-12T13:55:03.822812",
     "exception": false,
     "start_time": "2022-05-12T13:55:03.768811",
     "status": "completed"
    },
    "tags": []
   },
   "source": [
    "#### Part B\n",
    "\n",
    "Does the scatter plot show a **strong** correlation between the two variables?  If so, are candies with more sugar relatively more or less popular with the survey respondents?"
   ]
  },
  {
   "cell_type": "code",
   "execution_count": 11,
   "id": "99486750",
   "metadata": {
    "execution": {
     "iopub.execute_input": "2022-05-12T13:55:03.935166Z",
     "iopub.status.busy": "2022-05-12T13:55:03.934820Z",
     "iopub.status.idle": "2022-05-12T13:55:03.939489Z",
     "shell.execute_reply": "2022-05-12T13:55:03.938585Z"
    },
    "papermill": {
     "duration": 0.063844,
     "end_time": "2022-05-12T13:55:03.941695",
     "exception": false,
     "start_time": "2022-05-12T13:55:03.877851",
     "status": "completed"
    },
    "tags": []
   },
   "outputs": [],
   "source": [
    "#step_3.b.hint()"
   ]
  },
  {
   "cell_type": "code",
   "execution_count": 12,
   "id": "74444f66",
   "metadata": {
    "execution": {
     "iopub.execute_input": "2022-05-12T13:55:04.052298Z",
     "iopub.status.busy": "2022-05-12T13:55:04.051915Z",
     "iopub.status.idle": "2022-05-12T13:55:04.060306Z",
     "shell.execute_reply": "2022-05-12T13:55:04.059586Z"
    },
    "papermill": {
     "duration": 0.066984,
     "end_time": "2022-05-12T13:55:04.062764",
     "exception": false,
     "start_time": "2022-05-12T13:55:03.995780",
     "status": "completed"
    },
    "tags": []
   },
   "outputs": [
    {
     "data": {
      "application/javascript": [
       "parent.postMessage({\"jupyterEvent\": \"custom.exercise_interaction\", \"data\": {\"interactionType\": 3, \"questionType\": 4, \"questionId\": \"3.2_ThinkBlueScatter\", \"learnToolsVersion\": \"0.3.4\", \"valueTowardsCompletion\": 0.0, \"failureMessage\": \"\", \"exceptionClass\": \"\", \"trace\": \"\", \"outcomeType\": 4}}, \"*\")"
      ],
      "text/plain": [
       "<IPython.core.display.Javascript object>"
      ]
     },
     "metadata": {},
     "output_type": "display_data"
    },
    {
     "data": {
      "text/markdown": [
       "<span style=\"color:#33cc99\">Solution:</span> The scatter plot does not show a strong correlation between the two variables. Since there is no clear relationship between the two variables, this tells us that sugar content does not play a strong role in candy popularity."
      ],
      "text/plain": [
       "Solution: The scatter plot does not show a strong correlation between the two variables. Since there is no clear relationship between the two variables, this tells us that sugar content does not play a strong role in candy popularity."
      ]
     },
     "metadata": {},
     "output_type": "display_data"
    }
   ],
   "source": [
    "# Check your answer (Run this code cell to receive credit!)\n",
    "step_3.b.solution()"
   ]
  },
  {
   "cell_type": "markdown",
   "id": "f7ebc90e",
   "metadata": {
    "papermill": {
     "duration": 0.055583,
     "end_time": "2022-05-12T13:55:04.175337",
     "exception": false,
     "start_time": "2022-05-12T13:55:04.119754",
     "status": "completed"
    },
    "tags": []
   },
   "source": [
    "## Step 4: Take a closer look\n",
    "\n",
    "#### Part A\n",
    "\n",
    "Create the same scatter plot you created in **Step 3**, but now with a regression line!"
   ]
  },
  {
   "cell_type": "code",
   "execution_count": 13,
   "id": "bf0471c2",
   "metadata": {
    "execution": {
     "iopub.execute_input": "2022-05-12T13:55:04.289666Z",
     "iopub.status.busy": "2022-05-12T13:55:04.288914Z",
     "iopub.status.idle": "2022-05-12T13:55:04.580629Z",
     "shell.execute_reply": "2022-05-12T13:55:04.579536Z"
    },
    "papermill": {
     "duration": 0.351493,
     "end_time": "2022-05-12T13:55:04.583013",
     "exception": false,
     "start_time": "2022-05-12T13:55:04.231520",
     "status": "completed"
    },
    "tags": []
   },
   "outputs": [
    {
     "data": {
      "application/javascript": [
       "parent.postMessage({\"jupyterEvent\": \"custom.exercise_interaction\", \"data\": {\"outcomeType\": 1, \"valueTowardsCompletion\": 0.3333333333333333, \"interactionType\": 1, \"questionType\": 2, \"questionId\": \"4.1_PlotBlueReg\", \"learnToolsVersion\": \"0.3.4\", \"failureMessage\": \"\", \"exceptionClass\": \"\", \"trace\": \"\"}}, \"*\")"
      ],
      "text/plain": [
       "<IPython.core.display.Javascript object>"
      ]
     },
     "metadata": {},
     "output_type": "display_data"
    },
    {
     "data": {
      "text/markdown": [
       "<span style=\"color:#33cc33\">Correct</span>"
      ],
      "text/plain": [
       "Correct"
      ]
     },
     "metadata": {},
     "output_type": "display_data"
    },
    {
     "data": {
      "image/png": "[encoded data removed]",
      "text/plain": [
       "<Figure size 432x288 with 1 Axes>"
      ]
     },
     "metadata": {
      "needs_background": "light"
     },
     "output_type": "display_data"
    }
   ],
   "source": [
    "# Scatter plot w/ regression line showing the relationship between 'sugarpercent' and 'winpercent'\n",
    "sns.regplot(x=candy_data['sugarpercent'], y=candy_data['winpercent'])\n",
    "\n",
    "# Check your answer\n",
    "step_4.a.check()"
   ]
  },
  {
   "cell_type": "code",
   "execution_count": 14,
   "id": "bd790a17",
   "metadata": {
    "execution": {
     "iopub.execute_input": "2022-05-12T13:55:04.705900Z",
     "iopub.status.busy": "2022-05-12T13:55:04.705597Z",
     "iopub.status.idle": "2022-05-12T13:55:04.710152Z",
     "shell.execute_reply": "2022-05-12T13:55:04.708880Z"
    },
    "papermill": {
     "duration": 0.068573,
     "end_time": "2022-05-12T13:55:04.712437",
     "exception": false,
     "start_time": "2022-05-12T13:55:04.643864",
     "status": "completed"
    },
    "tags": []
   },
   "outputs": [],
   "source": [
    "# Lines below will give you a hint or solution code\n",
    "#step_4.a.hint()\n",
    "#step_4.a.solution_plot()"
   ]
  },
  {
   "cell_type": "markdown",
   "id": "3abc4f74",
   "metadata": {
    "papermill": {
     "duration": 0.060824,
     "end_time": "2022-05-12T13:55:04.834144",
     "exception": false,
     "start_time": "2022-05-12T13:55:04.773320",
     "status": "completed"
    },
    "tags": []
   },
   "source": [
    "#### Part B\n",
    "\n",
    "According to the plot above, is there a **slight** correlation between `'winpercent'` and `'sugarpercent'`?  What does this tell you about the candy that people tend to prefer?"
   ]
  },
  {
   "cell_type": "code",
   "execution_count": 15,
   "id": "a37e6172",
   "metadata": {
    "execution": {
     "iopub.execute_input": "2022-05-12T13:55:04.955853Z",
     "iopub.status.busy": "2022-05-12T13:55:04.955566Z",
     "iopub.status.idle": "2022-05-12T13:55:04.958718Z",
     "shell.execute_reply": "2022-05-12T13:55:04.958150Z"
    },
    "papermill": {
     "duration": 0.066054,
     "end_time": "2022-05-12T13:55:04.960714",
     "exception": false,
     "start_time": "2022-05-12T13:55:04.894660",
     "status": "completed"
    },
    "tags": []
   },
   "outputs": [],
   "source": [
    "#step_4.b.hint()"
   ]
  },
  {
   "cell_type": "code",
   "execution_count": 16,
   "id": "b1ed78c8",
   "metadata": {
    "execution": {
     "iopub.execute_input": "2022-05-12T13:55:05.082143Z",
     "iopub.status.busy": "2022-05-12T13:55:05.081825Z",
     "iopub.status.idle": "2022-05-12T13:55:05.088784Z",
     "shell.execute_reply": "2022-05-12T13:55:05.087655Z"
    },
    "papermill": {
     "duration": 0.071209,
     "end_time": "2022-05-12T13:55:05.091736",
     "exception": false,
     "start_time": "2022-05-12T13:55:05.020527",
     "status": "completed"
    },
    "tags": []
   },
   "outputs": [
    {
     "data": {
      "application/javascript": [
       "parent.postMessage({\"jupyterEvent\": \"custom.exercise_interaction\", \"data\": {\"interactionType\": 3, \"questionType\": 4, \"questionId\": \"4.2_ThinkBlueReg\", \"learnToolsVersion\": \"0.3.4\", \"valueTowardsCompletion\": 0.0, \"failureMessage\": \"\", \"exceptionClass\": \"\", \"trace\": \"\", \"outcomeType\": 4}}, \"*\")"
      ],
      "text/plain": [
       "<IPython.core.display.Javascript object>"
      ]
     },
     "metadata": {},
     "output_type": "display_data"
    },
    {
     "data": {
      "text/markdown": [
       "<span style=\"color:#33cc99\">Solution:</span> Since the regression line has a slightly positive slope, this tells us that there is a slightly positive correlation between `'winpercent'` and `'sugarpercent'`. Thus, people have a slight preference for candies containing relatively more sugar."
      ],
      "text/plain": [
       "Solution: Since the regression line has a slightly positive slope, this tells us that there is a slightly positive correlation between `'winpercent'` and `'sugarpercent'`. Thus, people have a slight preference for candies containing relatively more sugar."
      ]
     },
     "metadata": {},
     "output_type": "display_data"
    }
   ],
   "source": [
    "# Check your answer (Run this code cell to receive credit!)\n",
    "step_4.b.solution()"
   ]
  },
  {
   "cell_type": "markdown",
   "id": "1521e4bd",
   "metadata": {
    "papermill": {
     "duration": 0.060421,
     "end_time": "2022-05-12T13:55:05.213210",
     "exception": false,
     "start_time": "2022-05-12T13:55:05.152789",
     "status": "completed"
    },
    "tags": []
   },
   "source": [
    "## Step 5: Chocolate!\n",
    "\n",
    "In the code cell below, create a scatter plot to show the relationship between `'pricepercent'` (on the horizontal x-axis) and `'winpercent'` (on the vertical y-axis). Use the `'chocolate'` column to color-code the points.  _Don't add any regression lines just yet -- you'll do that in the next step!_"
   ]
  },
  {
   "cell_type": "code",
   "execution_count": 17,
   "id": "f2c244a9",
   "metadata": {
    "execution": {
     "iopub.execute_input": "2022-05-12T13:55:05.337477Z",
     "iopub.status.busy": "2022-05-12T13:55:05.337065Z",
     "iopub.status.idle": "2022-05-12T13:55:05.625116Z",
     "shell.execute_reply": "2022-05-12T13:55:05.623758Z"
    },
    "papermill": {
     "duration": 0.353545,
     "end_time": "2022-05-12T13:55:05.628069",
     "exception": false,
     "start_time": "2022-05-12T13:55:05.274524",
     "status": "completed"
    },
    "tags": []
   },
   "outputs": [
    {
     "data": {
      "application/javascript": [
       "parent.postMessage({\"jupyterEvent\": \"custom.exercise_interaction\", \"data\": {\"outcomeType\": 1, \"valueTowardsCompletion\": 0.3333333333333333, \"interactionType\": 1, \"questionType\": 2, \"questionId\": \"5_ColorScatter\", \"learnToolsVersion\": \"0.3.4\", \"failureMessage\": \"\", \"exceptionClass\": \"\", \"trace\": \"\"}}, \"*\")"
      ],
      "text/plain": [
       "<IPython.core.display.Javascript object>"
      ]
     },
     "metadata": {},
     "output_type": "display_data"
    },
    {
     "data": {
      "text/markdown": [
       "<span style=\"color:#33cc33\">Correct</span>"
      ],
      "text/plain": [
       "Correct"
      ]
     },
     "metadata": {},
     "output_type": "display_data"
    },
    {
     "data": {
      "image/png": "[encoded data removed]",
      "text/plain": [
       "<Figure size 432x288 with 1 Axes>"
      ]
     },
     "metadata": {
      "needs_background": "light"
     },
     "output_type": "display_data"
    }
   ],
   "source": [
    "# Scatter plot showing the relationship between 'pricepercent', 'winpercent', and 'chocolate'\n",
    "sns.scatterplot(x=candy_data['pricepercent'], y=candy_data['winpercent'], hue=candy_data['chocolate'])\n",
    "\n",
    "# Check your answer\n",
    "step_5.check()"
   ]
  },
  {
   "cell_type": "code",
   "execution_count": 18,
   "id": "8119a67b",
   "metadata": {
    "execution": {
     "iopub.execute_input": "2022-05-12T13:55:05.758430Z",
     "iopub.status.busy": "2022-05-12T13:55:05.757915Z",
     "iopub.status.idle": "2022-05-12T13:55:05.762334Z",
     "shell.execute_reply": "2022-05-12T13:55:05.761679Z"
    },
    "papermill": {
     "duration": 0.071826,
     "end_time": "2022-05-12T13:55:05.764522",
     "exception": false,
     "start_time": "2022-05-12T13:55:05.692696",
     "status": "completed"
    },
    "tags": []
   },
   "outputs": [],
   "source": [
    "# Lines below will give you a hint or solution code\n",
    "#step_5.hint()\n",
    "#step_5.solution_plot()"
   ]
  },
  {
   "cell_type": "markdown",
   "id": "25ced8ca",
   "metadata": {
    "papermill": {
     "duration": 0.06371,
     "end_time": "2022-05-12T13:55:05.895711",
     "exception": false,
     "start_time": "2022-05-12T13:55:05.832001",
     "status": "completed"
    },
    "tags": []
   },
   "source": [
    "Can you see any interesting patterns in the scatter plot?  We'll investigate this plot further  by adding regression lines in the next step!\n",
    "\n",
    "## Step 6: Investigate chocolate\n",
    "\n",
    "#### Part A\n",
    "\n",
    "Create the same scatter plot you created in **Step 5**, but now with two regression lines, corresponding to (1) chocolate candies and (2) candies without chocolate."
   ]
  },
  {
   "cell_type": "code",
   "execution_count": 19,
   "id": "fce36bf4",
   "metadata": {
    "execution": {
     "iopub.execute_input": "2022-05-12T13:55:06.026398Z",
     "iopub.status.busy": "2022-05-12T13:55:06.025584Z",
     "iopub.status.idle": "2022-05-12T13:55:06.692141Z",
     "shell.execute_reply": "2022-05-12T13:55:06.690546Z"
    },
    "papermill": {
     "duration": 0.734263,
     "end_time": "2022-05-12T13:55:06.694561",
     "exception": false,
     "start_time": "2022-05-12T13:55:05.960298",
     "status": "completed"
    },
    "tags": []
   },
   "outputs": [
    {
     "data": {
      "application/javascript": [
       "parent.postMessage({\"jupyterEvent\": \"custom.exercise_interaction\", \"data\": {\"outcomeType\": 1, \"valueTowardsCompletion\": 0.3333333333333333, \"interactionType\": 1, \"questionType\": 2, \"questionId\": \"6.1_PlotColorReg\", \"learnToolsVersion\": \"0.3.4\", \"failureMessage\": \"\", \"exceptionClass\": \"\", \"trace\": \"\"}}, \"*\")"
      ],
      "text/plain": [
       "<IPython.core.display.Javascript object>"
      ]
     },
     "metadata": {},
     "output_type": "display_data"
    },
    {
     "data": {
      "text/markdown": [
       "<span style=\"color:#33cc33\">Correct</span>"
      ],
      "text/plain": [
       "Correct"
      ]
     },
     "metadata": {},
     "output_type": "display_data"
    },
    {
     "data": {
      "image/png": "[encoded data removed]",
      "text/plain": [
       "<Figure size 416.375x360 with 1 Axes>"
      ]
     },
     "metadata": {
      "needs_background": "light"
     },
     "output_type": "display_data"
    }
   ],
   "source": [
    "# Color-coded scatter plot w/ regression lines\n",
    "sns.lmplot(x='pricepercent', y='winpercent', hue='chocolate', data=candy_data)\n",
    "\n",
    "# Check your answer\n",
    "step_6.a.check()"
   ]
  },
  {
   "cell_type": "code",
   "execution_count": 20,
   "id": "a7cf5059",
   "metadata": {
    "execution": {
     "iopub.execute_input": "2022-05-12T13:55:06.833734Z",
     "iopub.status.busy": "2022-05-12T13:55:06.833405Z",
     "iopub.status.idle": "2022-05-12T13:55:06.838029Z",
     "shell.execute_reply": "2022-05-12T13:55:06.836992Z"
    },
    "papermill": {
     "duration": 0.077509,
     "end_time": "2022-05-12T13:55:06.840164",
     "exception": false,
     "start_time": "2022-05-12T13:55:06.762655",
     "status": "completed"
    },
    "tags": []
   },
   "outputs": [],
   "source": [
    "# Lines below will give you a hint or solution code\n",
    "#step_6.a.hint()\n",
    "#step_6.a.solution_plot()"
   ]
  },
  {
   "cell_type": "markdown",
   "id": "39bcbf56",
   "metadata": {
    "papermill": {
     "duration": 0.068012,
     "end_time": "2022-05-12T13:55:06.975340",
     "exception": false,
     "start_time": "2022-05-12T13:55:06.907328",
     "status": "completed"
    },
    "tags": []
   },
   "source": [
    "#### Part B\n",
    "\n",
    "Using the regression lines, what conclusions can you draw about the effects of chocolate and price on candy popularity?"
   ]
  },
  {
   "cell_type": "code",
   "execution_count": 21,
   "id": "3b8e004b",
   "metadata": {
    "execution": {
     "iopub.execute_input": "2022-05-12T13:55:07.113604Z",
     "iopub.status.busy": "2022-05-12T13:55:07.113285Z",
     "iopub.status.idle": "2022-05-12T13:55:07.118107Z",
     "shell.execute_reply": "2022-05-12T13:55:07.116647Z"
    },
    "papermill": {
     "duration": 0.07818,
     "end_time": "2022-05-12T13:55:07.120917",
     "exception": false,
     "start_time": "2022-05-12T13:55:07.042737",
     "status": "completed"
    },
    "tags": []
   },
   "outputs": [],
   "source": [
    "#step_6.b.hint()"
   ]
  },
  {
   "cell_type": "code",
   "execution_count": 22,
   "id": "8e79e61a",
   "metadata": {
    "execution": {
     "iopub.execute_input": "2022-05-12T13:55:07.256165Z",
     "iopub.status.busy": "2022-05-12T13:55:07.255828Z",
     "iopub.status.idle": "2022-05-12T13:55:07.267038Z",
     "shell.execute_reply": "2022-05-12T13:55:07.265387Z"
    },
    "papermill": {
     "duration": 0.082537,
     "end_time": "2022-05-12T13:55:07.270394",
     "exception": false,
     "start_time": "2022-05-12T13:55:07.187857",
     "status": "completed"
    },
    "tags": []
   },
   "outputs": [
    {
     "data": {
      "application/javascript": [
       "parent.postMessage({\"jupyterEvent\": \"custom.exercise_interaction\", \"data\": {\"interactionType\": 3, \"questionType\": 4, \"questionId\": \"6.2_ThinkColorReg\", \"learnToolsVersion\": \"0.3.4\", \"valueTowardsCompletion\": 0.0, \"failureMessage\": \"\", \"exceptionClass\": \"\", \"trace\": \"\", \"outcomeType\": 4}}, \"*\")"
      ],
      "text/plain": [
       "<IPython.core.display.Javascript object>"
      ]
     },
     "metadata": {},
     "output_type": "display_data"
    },
    {
     "data": {
      "text/markdown": [
       "<span style=\"color:#33cc99\">Solution:</span> We'll begin with the regression line for chocolate candies. Since this line has a slightly positive slope, we can say that more expensive chocolate candies tend to be more popular (than relatively cheaper chocolate candies).  Likewise, since the regression line for candies without chocolate has a negative slope, we can say that if candies don't contain chocolate, they tend to be more popular when they are cheaper.  One important note, however, is that the dataset is quite small -- so we shouldn't invest too much trust in these patterns!  To inspire more confidence in the results, we should add more candies to the dataset."
      ],
      "text/plain": [
       "Solution: We'll begin with the regression line for chocolate candies. Since this line has a slightly positive slope, we can say that more expensive chocolate candies tend to be more popular (than relatively cheaper chocolate candies).  Likewise, since the regression line for candies without chocolate has a negative slope, we can say that if candies don't contain chocolate, they tend to be more popular when they are cheaper.  One important note, however, is that the dataset is quite small -- so we shouldn't invest too much trust in these patterns!  To inspire more confidence in the results, we should add more candies to the dataset."
      ]
     },
     "metadata": {},
     "output_type": "display_data"
    }
   ],
   "source": [
    "# Check your answer (Run this code cell to receive credit!)\n",
    "step_6.b.solution()"
   ]
  },
  {
   "cell_type": "markdown",
   "id": "8bf3cacd",
   "metadata": {
    "papermill": {
     "duration": 0.073185,
     "end_time": "2022-05-12T13:55:07.413337",
     "exception": false,
     "start_time": "2022-05-12T13:55:07.340152",
     "status": "completed"
    },
    "tags": []
   },
   "source": [
    "## Step 7: Everybody loves chocolate.\n",
    "\n",
    "#### Part A\n",
    "\n",
    "Create a categorical scatter plot to highlight the relationship between `'chocolate'` and `'winpercent'`.  Put `'chocolate'` on the (horizontal) x-axis, and `'winpercent'` on the (vertical) y-axis."
   ]
  },
  {
   "cell_type": "code",
   "execution_count": 23,
   "id": "266a5a4c",
   "metadata": {
    "execution": {
     "iopub.execute_input": "2022-05-12T13:55:07.561773Z",
     "iopub.status.busy": "2022-05-12T13:55:07.561446Z",
     "iopub.status.idle": "2022-05-12T13:55:07.736300Z",
     "shell.execute_reply": "2022-05-12T13:55:07.735551Z"
    },
    "papermill": {
     "duration": 0.254966,
     "end_time": "2022-05-12T13:55:07.738686",
     "exception": false,
     "start_time": "2022-05-12T13:55:07.483720",
     "status": "completed"
    },
    "tags": []
   },
   "outputs": [
    {
     "data": {
      "application/javascript": [
       "parent.postMessage({\"jupyterEvent\": \"custom.exercise_interaction\", \"data\": {\"outcomeType\": 1, \"valueTowardsCompletion\": 0.3333333333333333, \"interactionType\": 1, \"questionType\": 2, \"questionId\": \"7.1_PlotSwarm\", \"learnToolsVersion\": \"0.3.4\", \"failureMessage\": \"\", \"exceptionClass\": \"\", \"trace\": \"\"}}, \"*\")"
      ],
      "text/plain": [
       "<IPython.core.display.Javascript object>"
      ]
     },
     "metadata": {},
     "output_type": "display_data"
    },
    {
     "data": {
      "text/markdown": [
       "<span style=\"color:#33cc33\">Correct</span>"
      ],
      "text/plain": [
       "Correct"
      ]
     },
     "metadata": {},
     "output_type": "display_data"
    },
    {
     "data": {
      "image/png": "[encoded data removed]",
      "text/plain": [
       "<Figure size 432x288 with 1 Axes>"
      ]
     },
     "metadata": {
      "needs_background": "light"
     },
     "output_type": "display_data"
    }
   ],
   "source": [
    "# Scatter plot showing the relationship between 'chocolate' and 'winpercent'\n",
    "sns.swarmplot(x=candy_data['chocolate'], y=candy_data['winpercent'])\n",
    "\n",
    "# Check your answer\n",
    "step_7.a.check()"
   ]
  },
  {
   "cell_type": "code",
   "execution_count": 24,
   "id": "596a0221",
   "metadata": {
    "execution": {
     "iopub.execute_input": "2022-05-12T13:55:07.885849Z",
     "iopub.status.busy": "2022-05-12T13:55:07.885347Z",
     "iopub.status.idle": "2022-05-12T13:55:07.889128Z",
     "shell.execute_reply": "2022-05-12T13:55:07.888077Z"
    },
    "papermill": {
     "duration": 0.07982,
     "end_time": "2022-05-12T13:55:07.891378",
     "exception": false,
     "start_time": "2022-05-12T13:55:07.811558",
     "status": "completed"
    },
    "tags": []
   },
   "outputs": [],
   "source": [
    "# Lines below will give you a hint or solution code\n",
    "#step_7.a.hint()\n",
    "#step_7.a.solution_plot()"
   ]
  },
  {
   "cell_type": "markdown",
   "id": "670dfeea",
   "metadata": {
    "papermill": {
     "duration": 0.071233,
     "end_time": "2022-05-12T13:55:08.034204",
     "exception": false,
     "start_time": "2022-05-12T13:55:07.962971",
     "status": "completed"
    },
    "tags": []
   },
   "source": [
    "#### Part B\n",
    "\n",
    "You decide to dedicate a section of your report to the fact that chocolate candies tend to be more popular than candies without chocolate.  Which plot is more appropriate to tell this story: the plot from **Step 6**, or the plot from **Step 7**?"
   ]
  },
  {
   "cell_type": "code",
   "execution_count": 25,
   "id": "a6e06997",
   "metadata": {
    "execution": {
     "iopub.execute_input": "2022-05-12T13:55:08.179991Z",
     "iopub.status.busy": "2022-05-12T13:55:08.179704Z",
     "iopub.status.idle": "2022-05-12T13:55:08.182532Z",
     "shell.execute_reply": "2022-05-12T13:55:08.182031Z"
    },
    "papermill": {
     "duration": 0.078866,
     "end_time": "2022-05-12T13:55:08.184926",
     "exception": false,
     "start_time": "2022-05-12T13:55:08.106060",
     "status": "completed"
    },
    "tags": []
   },
   "outputs": [],
   "source": [
    "#step_7.b.hint()"
   ]
  },
  {
   "cell_type": "code",
   "execution_count": 26,
   "id": "954b56d7",
   "metadata": {
    "execution": {
     "iopub.execute_input": "2022-05-12T13:55:08.330140Z",
     "iopub.status.busy": "2022-05-12T13:55:08.329426Z",
     "iopub.status.idle": "2022-05-12T13:55:08.336772Z",
     "shell.execute_reply": "2022-05-12T13:55:08.336151Z"
    },
    "papermill": {
     "duration": 0.08262,
     "end_time": "2022-05-12T13:55:08.339452",
     "exception": false,
     "start_time": "2022-05-12T13:55:08.256832",
     "status": "completed"
    },
    "tags": []
   },
   "outputs": [
    {
     "data": {
      "application/javascript": [
       "parent.postMessage({\"jupyterEvent\": \"custom.exercise_interaction\", \"data\": {\"interactionType\": 3, \"questionType\": 4, \"questionId\": \"7.2_ThinkSwarm\", \"learnToolsVersion\": \"0.3.4\", \"valueTowardsCompletion\": 0.0, \"failureMessage\": \"\", \"exceptionClass\": \"\", \"trace\": \"\", \"outcomeType\": 4}}, \"*\")"
      ],
      "text/plain": [
       "<IPython.core.display.Javascript object>"
      ]
     },
     "metadata": {},
     "output_type": "display_data"
    },
    {
     "data": {
      "text/markdown": [
       "<span style=\"color:#33cc99\">Solution:</span> In this case, the categorical scatter plot from **Step 7** is the more appropriate plot. While both plots tell the desired story, the plot from **Step 6** conveys far more information that could distract from the main point."
      ],
      "text/plain": [
       "Solution: In this case, the categorical scatter plot from **Step 7** is the more appropriate plot. While both plots tell the desired story, the plot from **Step 6** conveys far more information that could distract from the main point."
      ]
     },
     "metadata": {},
     "output_type": "display_data"
    }
   ],
   "source": [
    "# Check your answer (Run this code cell to receive credit!)\n",
    "step_7.b.solution()"
   ]
  },
  {
   "cell_type": "markdown",
   "id": "b8c4ca6a",
   "metadata": {
    "papermill": {
     "duration": 0.074737,
     "end_time": "2022-05-12T13:55:08.488648",
     "exception": false,
     "start_time": "2022-05-12T13:55:08.413911",
     "status": "completed"
    },
    "tags": []
   },
   "source": [
    "## Keep going\n",
    "\n",
    "Explore **[histograms and density plots](https://www.kaggle.com/alexisbcook/distributions)**."
   ]
  },
  {
   "cell_type": "markdown",
   "id": "cc4cb59d",
   "metadata": {
    "papermill": {
     "duration": 0.072742,
     "end_time": "2022-05-12T13:55:08.635258",
     "exception": false,
     "start_time": "2022-05-12T13:55:08.562516",
     "status": "completed"
    },
    "tags": []
   },
   "source": [
    "---\n",
    "\n",
    "\n",
    "\n",
    "\n",
    "*Have questions or comments? Visit the [course discussion forum](https://www.kaggle.com/learn/data-visualization/discussion) to chat with other learners.*"
   ]
  }
 ],
 "metadata": {
  "kernelspec": {
   "display_name": "Python 3",
   "language": "python",
   "name": "python3"
  },
  "language_info": {
   "codemirror_mode": {
    "name": "ipython",
    "version": 3
   },
   "file_extension": ".py",
   "mimetype": "text/x-python",
   "name": "python",
   "nbconvert_exporter": "python",
   "pygments_lexer": "ipython3",
   "version": "3.7.12"
  },
  "papermill": {
   "default_parameters": {},
   "duration": 18.845249,
   "end_time": "2022-05-12T13:55:09.833509",
   "environment_variables": {},
   "exception": null,
   "input_path": "__notebook__.ipynb",
   "output_path": "__notebook__.ipynb",
   "parameters": {},
   "start_time": "2022-05-12T13:54:50.988260",
   "version": "2.3.4"
  }
 },
 "nbformat": 4,
 "nbformat_minor": 5
}
