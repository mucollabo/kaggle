{
 "cells": [
  {
   "cell_type": "markdown",
   "id": "d1d1e361",
   "metadata": {
    "papermill": {
     "duration": 0.037088,
     "end_time": "2022-05-12T14:07:41.210397",
     "exception": false,
     "start_time": "2022-05-12T14:07:41.173309",
     "status": "completed"
    },
    "tags": []
   },
   "source": [
    "**This notebook is an exercise in the [Data Visualization](https://www.kaggle.com/learn/data-visualization) course.  You can reference the tutorial at [this link](https://www.kaggle.com/alexisbcook/scatter-plots).**\n",
    "\n",
    "---\n"
   ]
  },
  {
   "cell_type": "markdown",
   "id": "9fe18e47",
   "metadata": {
    "papermill": {
     "duration": 0.03563,
     "end_time": "2022-05-12T14:07:41.281828",
     "exception": false,
     "start_time": "2022-05-12T14:07:41.246198",
     "status": "completed"
    },
    "tags": []
   },
   "source": [
    "In this exercise, you will use your new knowledge to propose a solution to a real-world scenario.  To succeed, you will need to import data into Python, answer questions using the data, and generate **scatter plots** to understand patterns in the data.\n",
    "\n",
    "## Scenario\n",
    "\n",
    "You work for a major candy producer, and your goal is to write a report that your company can use to guide the design of its next product.  Soon after starting your research, you stumble across this [very interesting dataset](https://fivethirtyeight.com/features/the-ultimate-halloween-candy-power-ranking/) containing results from a fun survey to crowdsource favorite candies.\n",
    "\n",
    "## Setup\n",
    "\n",
    "Run the next cell to import and configure the Python libraries that you need to complete the exercise."
   ]
  },
  {
   "cell_type": "code",
   "execution_count": 1,
   "id": "adaf27c4",
   "metadata": {
    "execution": {
     "iopub.execute_input": "2022-05-12T14:07:41.356278Z",
     "iopub.status.busy": "2022-05-12T14:07:41.355464Z",
     "iopub.status.idle": "2022-05-12T14:07:42.499275Z",
     "shell.execute_reply": "2022-05-12T14:07:42.498176Z"
    },
    "papermill": {
     "duration": 1.184611,
     "end_time": "2022-05-12T14:07:42.502217",
     "exception": false,
     "start_time": "2022-05-12T14:07:41.317606",
     "status": "completed"
    },
    "tags": []
   },
   "outputs": [
    {
     "name": "stdout",
     "output_type": "stream",
     "text": [
      "Setup Complete\n"
     ]
    }
   ],
   "source": [
    "import pandas as pd\n",
    "pd.plotting.register_matplotlib_converters()\n",
    "import matplotlib.pyplot as plt\n",
    "%matplotlib inline\n",
    "import seaborn as sns\n",
    "print(\"Setup Complete\")"
   ]
  },
  {
   "cell_type": "markdown",
   "id": "257a8f63",
   "metadata": {
    "papermill": {
     "duration": 0.036111,
     "end_time": "2022-05-12T14:07:42.576293",
     "exception": false,
     "start_time": "2022-05-12T14:07:42.540182",
     "status": "completed"
    },
    "tags": []
   },
   "source": [
    "The questions below will give you feedback on your work. Run the following cell to set up our feedback system."
   ]
  },
  {
   "cell_type": "code",
   "execution_count": 2,
   "id": "9b7ac68c",
   "metadata": {
    "execution": {
     "iopub.execute_input": "2022-05-12T14:07:42.653543Z",
     "iopub.status.busy": "2022-05-12T14:07:42.652548Z",
     "iopub.status.idle": "2022-05-12T14:07:42.727439Z",
     "shell.execute_reply": "2022-05-12T14:07:42.725604Z"
    },
    "papermill": {
     "duration": 0.117502,
     "end_time": "2022-05-12T14:07:42.730249",
     "exception": false,
     "start_time": "2022-05-12T14:07:42.612747",
     "status": "completed"
    },
    "tags": []
   },
   "outputs": [
    {
     "name": "stdout",
     "output_type": "stream",
     "text": [
      "Setup Complete\n"
     ]
    }
   ],
   "source": [
    "# Set up code checking\n",
    "import os\n",
    "if not os.path.exists(\"../input/candy.csv\"):\n",
    "    os.symlink(\"../input/data-for-datavis/candy.csv\", \"../input/candy.csv\") \n",
    "from learntools.core import binder\n",
    "binder.bind(globals())\n",
    "from learntools.data_viz_to_coder.ex4 import *\n",
    "print(\"Setup Complete\")"
   ]
  },
  {
   "cell_type": "markdown",
   "id": "52c83c30",
   "metadata": {
    "papermill": {
     "duration": 0.039033,
     "end_time": "2022-05-12T14:07:42.808835",
     "exception": false,
     "start_time": "2022-05-12T14:07:42.769802",
     "status": "completed"
    },
    "tags": []
   },
   "source": [
    "## Step 1: Load the Data\n",
    "\n",
    "Read the candy data file into `candy_data`.  Use the `\"id\"` column to label the rows."
   ]
  },
  {
   "cell_type": "code",
   "execution_count": 3,
   "id": "6b6394ee",
   "metadata": {
    "execution": {
     "iopub.execute_input": "2022-05-12T14:07:42.888981Z",
     "iopub.status.busy": "2022-05-12T14:07:42.888151Z",
     "iopub.status.idle": "2022-05-12T14:07:42.907210Z",
     "shell.execute_reply": "2022-05-12T14:07:42.906523Z"
    },
    "papermill": {
     "duration": 0.062672,
     "end_time": "2022-05-12T14:07:42.909664",
     "exception": false,
     "start_time": "2022-05-12T14:07:42.846992",
     "status": "completed"
    },
    "tags": []
   },
   "outputs": [
    {
     "data": {
      "application/javascript": [
       "parent.postMessage({\"jupyterEvent\": \"custom.exercise_interaction\", \"data\": {\"outcomeType\": 1, \"valueTowardsCompletion\": 0.3333333333333333, \"interactionType\": 1, \"questionType\": 1, \"questionId\": \"1_LoadData\", \"learnToolsVersion\": \"0.3.4\", \"failureMessage\": \"\", \"exceptionClass\": \"\", \"trace\": \"\"}}, \"*\")"
      ],
      "text/plain": [
       "<IPython.core.display.Javascript object>"
      ]
     },
     "metadata": {},
     "output_type": "display_data"
    },
    {
     "data": {
      "text/markdown": [
       "<span style=\"color:#33cc33\">Correct</span>"
      ],
      "text/plain": [
       "Correct"
      ]
     },
     "metadata": {},
     "output_type": "display_data"
    }
   ],
   "source": [
    "# Path of the file to read\n",
    "candy_filepath = \"../input/candy.csv\"\n",
    "\n",
    "# Fill in the line below to read the file into a variable candy_data\n",
    "candy_data = pd.read_csv(candy_filepath, index_col=\"id\")\n",
    "\n",
    "# Run the line below with no changes to check that you've loaded the data correctly\n",
    "step_1.check()"
   ]
  },
  {
   "cell_type": "code",
   "execution_count": 4,
   "id": "d27854ec",
   "metadata": {
    "execution": {
     "iopub.execute_input": "2022-05-12T14:07:42.993380Z",
     "iopub.status.busy": "2022-05-12T14:07:42.992872Z",
     "iopub.status.idle": "2022-05-12T14:07:42.996317Z",
     "shell.execute_reply": "2022-05-12T14:07:42.995287Z"
    },
    "papermill": {
     "duration": 0.049347,
     "end_time": "2022-05-12T14:07:42.998604",
     "exception": false,
     "start_time": "2022-05-12T14:07:42.949257",
     "status": "completed"
    },
    "tags": []
   },
   "outputs": [],
   "source": [
    "# Lines below will give you a hint or solution code\n",
    "#step_1.hint()\n",
    "#step_1.solution()"
   ]
  },
  {
   "cell_type": "markdown",
   "id": "430cd584",
   "metadata": {
    "papermill": {
     "duration": 0.038039,
     "end_time": "2022-05-12T14:07:43.076362",
     "exception": false,
     "start_time": "2022-05-12T14:07:43.038323",
     "status": "completed"
    },
    "tags": []
   },
   "source": [
    "## Step 2: Review the data\n",
    "\n",
    "Use a Python command to print the first five rows of the data."
   ]
  },
  {
   "cell_type": "code",
   "execution_count": 5,
   "id": "cc8aaca9",
   "metadata": {
    "execution": {
     "iopub.execute_input": "2022-05-12T14:07:43.162146Z",
     "iopub.status.busy": "2022-05-12T14:07:43.161821Z",
     "iopub.status.idle": "2022-05-12T14:07:43.182580Z",
     "shell.execute_reply": "2022-05-12T14:07:43.181971Z"
    },
    "papermill": {
     "duration": 0.068073,
     "end_time": "2022-05-12T14:07:43.185192",
     "exception": false,
     "start_time": "2022-05-12T14:07:43.117119",
     "status": "completed"
    },
    "tags": []
   },
   "outputs": [
    {
     "data": {
      "text/html": [
       "<div>\n",
       "<style scoped>\n",
       "    .dataframe tbody tr th:only-of-type {\n",
       "        vertical-align: middle;\n",
       "    }\n",
       "\n",
       "    .dataframe tbody tr th {\n",
       "        vertical-align: top;\n",
       "    }\n",
       "\n",
       "    .dataframe thead th {\n",
       "        text-align: right;\n",
       "    }\n",
       "</style>\n",
       "<table border=\"1\" class=\"dataframe\">\n",
       "  <thead>\n",
       "    <tr style=\"text-align: right;\">\n",
       "      <th></th>\n",
       "      <th>competitorname</th>\n",
       "      <th>chocolate</th>\n",
       "      <th>fruity</th>\n",
       "      <th>caramel</th>\n",
       "      <th>peanutyalmondy</th>\n",
       "      <th>nougat</th>\n",
       "      <th>crispedricewafer</th>\n",
       "      <th>hard</th>\n",
       "      <th>bar</th>\n",
       "      <th>pluribus</th>\n",
       "      <th>sugarpercent</th>\n",
       "      <th>pricepercent</th>\n",
       "      <th>winpercent</th>\n",
       "    </tr>\n",
       "    <tr>\n",
       "      <th>id</th>\n",
       "      <th></th>\n",
       "      <th></th>\n",
       "      <th></th>\n",
       "      <th></th>\n",
       "      <th></th>\n",
       "      <th></th>\n",
       "      <th></th>\n",
       "      <th></th>\n",
       "      <th></th>\n",
       "      <th></th>\n",
       "      <th></th>\n",
       "      <th></th>\n",
       "      <th></th>\n",
       "    </tr>\n",
       "  </thead>\n",
       "  <tbody>\n",
       "    <tr>\n",
       "      <th>0</th>\n",
       "      <td>100 Grand</td>\n",
       "      <td>Yes</td>\n",
       "      <td>No</td>\n",
       "      <td>Yes</td>\n",
       "      <td>No</td>\n",
       "      <td>No</td>\n",
       "      <td>Yes</td>\n",
       "      <td>No</td>\n",
       "      <td>Yes</td>\n",
       "      <td>No</td>\n",
       "      <td>0.732</td>\n",
       "      <td>0.860</td>\n",
       "      <td>66.971725</td>\n",
       "    </tr>\n",
       "    <tr>\n",
       "      <th>1</th>\n",
       "      <td>3 Musketeers</td>\n",
       "      <td>Yes</td>\n",
       "      <td>No</td>\n",
       "      <td>No</td>\n",
       "      <td>No</td>\n",
       "      <td>Yes</td>\n",
       "      <td>No</td>\n",
       "      <td>No</td>\n",
       "      <td>Yes</td>\n",
       "      <td>No</td>\n",
       "      <td>0.604</td>\n",
       "      <td>0.511</td>\n",
       "      <td>67.602936</td>\n",
       "    </tr>\n",
       "    <tr>\n",
       "      <th>2</th>\n",
       "      <td>Air Heads</td>\n",
       "      <td>No</td>\n",
       "      <td>Yes</td>\n",
       "      <td>No</td>\n",
       "      <td>No</td>\n",
       "      <td>No</td>\n",
       "      <td>No</td>\n",
       "      <td>No</td>\n",
       "      <td>No</td>\n",
       "      <td>No</td>\n",
       "      <td>0.906</td>\n",
       "      <td>0.511</td>\n",
       "      <td>52.341465</td>\n",
       "    </tr>\n",
       "    <tr>\n",
       "      <th>3</th>\n",
       "      <td>Almond Joy</td>\n",
       "      <td>Yes</td>\n",
       "      <td>No</td>\n",
       "      <td>No</td>\n",
       "      <td>Yes</td>\n",
       "      <td>No</td>\n",
       "      <td>No</td>\n",
       "      <td>No</td>\n",
       "      <td>Yes</td>\n",
       "      <td>No</td>\n",
       "      <td>0.465</td>\n",
       "      <td>0.767</td>\n",
       "      <td>50.347546</td>\n",
       "    </tr>\n",
       "    <tr>\n",
       "      <th>4</th>\n",
       "      <td>Baby Ruth</td>\n",
       "      <td>Yes</td>\n",
       "      <td>No</td>\n",
       "      <td>Yes</td>\n",
       "      <td>Yes</td>\n",
       "      <td>Yes</td>\n",
       "      <td>No</td>\n",
       "      <td>No</td>\n",
       "      <td>Yes</td>\n",
       "      <td>No</td>\n",
       "      <td>0.604</td>\n",
       "      <td>0.767</td>\n",
       "      <td>56.914547</td>\n",
       "    </tr>\n",
       "  </tbody>\n",
       "</table>\n",
       "</div>"
      ],
      "text/plain": [
       "   competitorname chocolate fruity caramel peanutyalmondy nougat  \\\n",
       "id                                                                 \n",
       "0       100 Grand       Yes     No     Yes             No     No   \n",
       "1    3 Musketeers       Yes     No      No             No    Yes   \n",
       "2       Air Heads        No    Yes      No             No     No   \n",
       "3      Almond Joy       Yes     No      No            Yes     No   \n",
       "4       Baby Ruth       Yes     No     Yes            Yes    Yes   \n",
       "\n",
       "   crispedricewafer hard  bar pluribus  sugarpercent  pricepercent  winpercent  \n",
       "id                                                                              \n",
       "0               Yes   No  Yes       No         0.732         0.860   66.971725  \n",
       "1                No   No  Yes       No         0.604         0.511   67.602936  \n",
       "2                No   No   No       No         0.906         0.511   52.341465  \n",
       "3                No   No  Yes       No         0.465         0.767   50.347546  \n",
       "4                No   No  Yes       No         0.604         0.767   56.914547  "
      ]
     },
     "execution_count": 5,
     "metadata": {},
     "output_type": "execute_result"
    }
   ],
   "source": [
    "# Print the first five rows of the data\n",
    "candy_data.head()"
   ]
  },
  {
   "cell_type": "code",
   "execution_count": 6,
   "id": "6e6a5f0e",
   "metadata": {
    "execution": {
     "iopub.execute_input": "2022-05-12T14:07:43.269143Z",
     "iopub.status.busy": "2022-05-12T14:07:43.268223Z",
     "iopub.status.idle": "2022-05-12T14:07:43.289799Z",
     "shell.execute_reply": "2022-05-12T14:07:43.287934Z"
    },
    "papermill": {
     "duration": 0.065419,
     "end_time": "2022-05-12T14:07:43.292339",
     "exception": false,
     "start_time": "2022-05-12T14:07:43.226920",
     "status": "completed"
    },
    "tags": []
   },
   "outputs": [
    {
     "name": "stdout",
     "output_type": "stream",
     "text": [
      "<class 'pandas.core.frame.DataFrame'>\n",
      "Int64Index: 83 entries, 0 to 82\n",
      "Data columns (total 13 columns):\n",
      " #   Column            Non-Null Count  Dtype  \n",
      "---  ------            --------------  -----  \n",
      " 0   competitorname    83 non-null     object \n",
      " 1   chocolate         83 non-null     object \n",
      " 2   fruity            83 non-null     object \n",
      " 3   caramel           83 non-null     object \n",
      " 4   peanutyalmondy    83 non-null     object \n",
      " 5   nougat            83 non-null     object \n",
      " 6   crispedricewafer  83 non-null     object \n",
      " 7   hard              83 non-null     object \n",
      " 8   bar               83 non-null     object \n",
      " 9   pluribus          83 non-null     object \n",
      " 10  sugarpercent      83 non-null     float64\n",
      " 11  pricepercent      83 non-null     float64\n",
      " 12  winpercent        83 non-null     float64\n",
      "dtypes: float64(3), object(10)\n",
      "memory usage: 9.1+ KB\n"
     ]
    }
   ],
   "source": [
    "candy_data.info()"
   ]
  },
  {
   "cell_type": "markdown",
   "id": "746d0cde",
   "metadata": {
    "papermill": {
     "duration": 0.038246,
     "end_time": "2022-05-12T14:07:43.369620",
     "exception": false,
     "start_time": "2022-05-12T14:07:43.331374",
     "status": "completed"
    },
    "tags": []
   },
   "source": [
    "The dataset contains 83 rows, where each corresponds to a different candy bar.  There are 13 columns:\n",
    "- `'competitorname'` contains the name of the candy bar. \n",
    "- the next **9** columns (from `'chocolate'` to `'pluribus'`) describe the candy.  For instance, rows with chocolate candies have `\"Yes\"` in the `'chocolate'` column (and candies without chocolate have `\"No\"` in the same column).\n",
    "- `'sugarpercent'` provides some indication of the amount of sugar, where higher values signify higher sugar content.\n",
    "- `'pricepercent'` shows the price per unit, relative to the other candies in the dataset.\n",
    "- `'winpercent'` is calculated from the survey results; higher values indicate that the candy was more popular with survey respondents.\n",
    "\n",
    "Use the first five rows of the data to answer the questions below."
   ]
  },
  {
   "cell_type": "code",
   "execution_count": 7,
   "id": "74807f0a",
   "metadata": {
    "execution": {
     "iopub.execute_input": "2022-05-12T14:07:43.449169Z",
     "iopub.status.busy": "2022-05-12T14:07:43.448588Z",
     "iopub.status.idle": "2022-05-12T14:07:43.457065Z",
     "shell.execute_reply": "2022-05-12T14:07:43.456239Z"
    },
    "papermill": {
     "duration": 0.050346,
     "end_time": "2022-05-12T14:07:43.458966",
     "exception": false,
     "start_time": "2022-05-12T14:07:43.408620",
     "status": "completed"
    },
    "tags": []
   },
   "outputs": [
    {
     "data": {
      "application/javascript": [
       "parent.postMessage({\"jupyterEvent\": \"custom.exercise_interaction\", \"data\": {\"outcomeType\": 1, \"valueTowardsCompletion\": 0.3333333333333333, \"interactionType\": 1, \"questionType\": 1, \"questionId\": \"2_ReviewData\", \"learnToolsVersion\": \"0.3.4\", \"failureMessage\": \"\", \"exceptionClass\": \"\", \"trace\": \"\"}}, \"*\")"
      ],
      "text/plain": [
       "<IPython.core.display.Javascript object>"
      ]
     },
     "metadata": {},
     "output_type": "display_data"
    },
    {
     "data": {
      "text/markdown": [
       "<span style=\"color:#33cc33\">Correct</span>"
      ],
      "text/plain": [
       "Correct"
      ]
     },
     "metadata": {},
     "output_type": "display_data"
    }
   ],
   "source": [
    "# Fill in the line below: Which candy was more popular with survey respondents:\n",
    "# '3 Musketeers' or 'Almond Joy'?  (Please enclose your answer in single quotes.)\n",
    "more_popular = '3 Musketeers'\n",
    "\n",
    "# Fill in the line below: Which candy has higher sugar content: 'Air Heads'\n",
    "# or 'Baby Ruth'? (Please enclose your answer in single quotes.)\n",
    "more_sugar = 'Air Heads'\n",
    "\n",
    "# Check your answers\n",
    "step_2.check()"
   ]
  },
  {
   "cell_type": "code",
   "execution_count": 8,
   "id": "073004fa",
   "metadata": {
    "execution": {
     "iopub.execute_input": "2022-05-12T14:07:43.540723Z",
     "iopub.status.busy": "2022-05-12T14:07:43.540328Z",
     "iopub.status.idle": "2022-05-12T14:07:43.543679Z",
     "shell.execute_reply": "2022-05-12T14:07:43.543097Z"
    },
    "papermill": {
     "duration": 0.04662,
     "end_time": "2022-05-12T14:07:43.545606",
     "exception": false,
     "start_time": "2022-05-12T14:07:43.498986",
     "status": "completed"
    },
    "tags": []
   },
   "outputs": [],
   "source": [
    "# Lines below will give you a hint or solution code\n",
    "#step_2.hint()\n",
    "#step_2.solution()"
   ]
  },
  {
   "cell_type": "markdown",
   "id": "22c92cde",
   "metadata": {
    "papermill": {
     "duration": 0.040436,
     "end_time": "2022-05-12T14:07:43.625847",
     "exception": false,
     "start_time": "2022-05-12T14:07:43.585411",
     "status": "completed"
    },
    "tags": []
   },
   "source": [
    "## Step 3: The role of sugar\n",
    "\n",
    "Do people tend to prefer candies with higher sugar content?  \n",
    "\n",
    "#### Part A\n",
    "\n",
    "Create a scatter plot that shows the relationship between `'sugarpercent'` (on the horizontal x-axis) and `'winpercent'` (on the vertical y-axis).  _Don't add a regression line just yet -- you'll do that in the next step!_"
   ]
  },
  {
   "cell_type": "code",
   "execution_count": 9,
   "id": "7b5f2783",
   "metadata": {
    "execution": {
     "iopub.execute_input": "2022-05-12T14:07:43.707755Z",
     "iopub.status.busy": "2022-05-12T14:07:43.707427Z",
     "iopub.status.idle": "2022-05-12T14:07:43.974321Z",
     "shell.execute_reply": "2022-05-12T14:07:43.973462Z"
    },
    "papermill": {
     "duration": 0.31065,
     "end_time": "2022-05-12T14:07:43.976408",
     "exception": false,
     "start_time": "2022-05-12T14:07:43.665758",
     "status": "completed"
    },
    "tags": []
   },
   "outputs": [
    {
     "data": {
      "application/javascript": [
       "parent.postMessage({\"jupyterEvent\": \"custom.exercise_interaction\", \"data\": {\"outcomeType\": 1, \"valueTowardsCompletion\": 0.3333333333333333, \"interactionType\": 1, \"questionType\": 2, \"questionId\": \"3.1_PlotBlueScatter\", \"learnToolsVersion\": \"0.3.4\", \"failureMessage\": \"\", \"exceptionClass\": \"\", \"trace\": \"\"}}, \"*\")"
      ],
      "text/plain": [
       "<IPython.core.display.Javascript object>"
      ]
     },
     "metadata": {},
     "output_type": "display_data"
    },
    {
     "data": {
      "text/markdown": [
       "<span style=\"color:#33cc33\">Correct</span>"
      ],
      "text/plain": [
       "Correct"
      ]
     },
     "metadata": {},
     "output_type": "display_data"
    },
    {
     "data": {
      "image/png": "[encoded data removed]",
      "text/plain": [
       "<Figure size 432x288 with 1 Axes>"
      ]
     },
     "metadata": {
      "needs_background": "light"
     },
     "output_type": "display_data"
    }
   ],
   "source": [
    "# Scatter plot showing the relationship between 'sugarpercent' and 'winpercent'\n",
    "sns.scatterplot(x=candy_data['sugarpercent'], y=candy_data['winpercent'])\n",
    "\n",
    "# Check your answer\n",
    "step_3.a.check()"
   ]
  },
  {
   "cell_type": "code",
   "execution_count": 10,
   "id": "93de2d9f",
   "metadata": {
    "execution": {
     "iopub.execute_input": "2022-05-12T14:07:44.064958Z",
     "iopub.status.busy": "2022-05-12T14:07:44.064150Z",
     "iopub.status.idle": "2022-05-12T14:07:44.068330Z",
     "shell.execute_reply": "2022-05-12T14:07:44.067739Z"
    },
    "papermill": {
     "duration": 0.051483,
     "end_time": "2022-05-12T14:07:44.070185",
     "exception": false,
     "start_time": "2022-05-12T14:07:44.018702",
     "status": "completed"
    },
    "tags": []
   },
   "outputs": [],
   "source": [
    "# Lines below will give you a hint or solution code\n",
    "#step_3.a.hint()\n",
    "#step_3.a.solution_plot()"
   ]
  },
  {
   "cell_type": "markdown",
   "id": "aa553a4f",
   "metadata": {
    "papermill": {
     "duration": 0.041692,
     "end_time": "2022-05-12T14:07:44.154173",
     "exception": false,
     "start_time": "2022-05-12T14:07:44.112481",
     "status": "completed"
    },
    "tags": []
   },
   "source": [
    "#### Part B\n",
    "\n",
    "Does the scatter plot show a **strong** correlation between the two variables?  If so, are candies with more sugar relatively more or less popular with the survey respondents?"
   ]
  },
  {
   "cell_type": "code",
   "execution_count": 11,
   "id": "8ac626de",
   "metadata": {
    "execution": {
     "iopub.execute_input": "2022-05-12T14:07:44.241637Z",
     "iopub.status.busy": "2022-05-12T14:07:44.240664Z",
     "iopub.status.idle": "2022-05-12T14:07:44.248485Z",
     "shell.execute_reply": "2022-05-12T14:07:44.247749Z"
    },
    "papermill": {
     "duration": 0.053367,
     "end_time": "2022-05-12T14:07:44.250474",
     "exception": false,
     "start_time": "2022-05-12T14:07:44.197107",
     "status": "completed"
    },
    "tags": []
   },
   "outputs": [
    {
     "data": {
      "application/javascript": [
       "parent.postMessage({\"jupyterEvent\": \"custom.exercise_interaction\", \"data\": {\"interactionType\": 2, \"questionType\": 4, \"questionId\": \"3.2_ThinkBlueScatter\", \"learnToolsVersion\": \"0.3.4\", \"valueTowardsCompletion\": 0.0, \"failureMessage\": \"\", \"exceptionClass\": \"\", \"trace\": \"\", \"outcomeType\": 4}}, \"*\")"
      ],
      "text/plain": [
       "<IPython.core.display.Javascript object>"
      ]
     },
     "metadata": {},
     "output_type": "display_data"
    },
    {
     "data": {
      "text/markdown": [
       "<span style=\"color:#3366cc\">Hint:</span> Compare candies with higher sugar content (on the right side of the chart) to candies with lower sugar content (on the left side of the chart). Is one group clearly more popular than the other?"
      ],
      "text/plain": [
       "Hint: Compare candies with higher sugar content (on the right side of the chart) to candies with lower sugar content (on the left side of the chart). Is one group clearly more popular than the other?"
      ]
     },
     "metadata": {},
     "output_type": "display_data"
    }
   ],
   "source": [
    "step_3.b.hint()"
   ]
  },
  {
   "cell_type": "code",
   "execution_count": 12,
   "id": "d1d41798",
   "metadata": {
    "execution": {
     "iopub.execute_input": "2022-05-12T14:07:44.343400Z",
     "iopub.status.busy": "2022-05-12T14:07:44.342439Z",
     "iopub.status.idle": "2022-05-12T14:07:44.350402Z",
     "shell.execute_reply": "2022-05-12T14:07:44.349696Z"
    },
    "papermill": {
     "duration": 0.057103,
     "end_time": "2022-05-12T14:07:44.352797",
     "exception": false,
     "start_time": "2022-05-12T14:07:44.295694",
     "status": "completed"
    },
    "tags": []
   },
   "outputs": [
    {
     "data": {
      "application/javascript": [
       "parent.postMessage({\"jupyterEvent\": \"custom.exercise_interaction\", \"data\": {\"interactionType\": 3, \"questionType\": 4, \"questionId\": \"3.2_ThinkBlueScatter\", \"learnToolsVersion\": \"0.3.4\", \"valueTowardsCompletion\": 0.0, \"failureMessage\": \"\", \"exceptionClass\": \"\", \"trace\": \"\", \"outcomeType\": 4}}, \"*\")"
      ],
      "text/plain": [
       "<IPython.core.display.Javascript object>"
      ]
     },
     "metadata": {},
     "output_type": "display_data"
    },
    {
     "data": {
      "text/markdown": [
       "<span style=\"color:#33cc99\">Solution:</span> The scatter plot does not show a strong correlation between the two variables. Since there is no clear relationship between the two variables, this tells us that sugar content does not play a strong role in candy popularity."
      ],
      "text/plain": [
       "Solution: The scatter plot does not show a strong correlation between the two variables. Since there is no clear relationship between the two variables, this tells us that sugar content does not play a strong role in candy popularity."
      ]
     },
     "metadata": {},
     "output_type": "display_data"
    }
   ],
   "source": [
    "# Check your answer (Run this code cell to receive credit!)\n",
    "step_3.b.solution()"
   ]
  },
  {
   "cell_type": "markdown",
   "id": "d418f937",
   "metadata": {
    "papermill": {
     "duration": 0.052584,
     "end_time": "2022-05-12T14:07:44.452163",
     "exception": false,
     "start_time": "2022-05-12T14:07:44.399579",
     "status": "completed"
    },
    "tags": []
   },
   "source": [
    "## Step 4: Take a closer look\n",
    "\n",
    "#### Part A\n",
    "\n",
    "Create the same scatter plot you created in **Step 3**, but now with a regression line!"
   ]
  },
  {
   "cell_type": "code",
   "execution_count": 13,
   "id": "97a56d8e",
   "metadata": {
    "execution": {
     "iopub.execute_input": "2022-05-12T14:07:44.547272Z",
     "iopub.status.busy": "2022-05-12T14:07:44.546932Z",
     "iopub.status.idle": "2022-05-12T14:07:44.900297Z",
     "shell.execute_reply": "2022-05-12T14:07:44.898829Z"
    },
    "papermill": {
     "duration": 0.403258,
     "end_time": "2022-05-12T14:07:44.902940",
     "exception": false,
     "start_time": "2022-05-12T14:07:44.499682",
     "status": "completed"
    },
    "tags": []
   },
   "outputs": [
    {
     "data": {
      "application/javascript": [
       "parent.postMessage({\"jupyterEvent\": \"custom.exercise_interaction\", \"data\": {\"outcomeType\": 1, \"valueTowardsCompletion\": 0.3333333333333333, \"interactionType\": 1, \"questionType\": 2, \"questionId\": \"4.1_PlotBlueReg\", \"learnToolsVersion\": \"0.3.4\", \"failureMessage\": \"\", \"exceptionClass\": \"\", \"trace\": \"\"}}, \"*\")"
      ],
      "text/plain": [
       "<IPython.core.display.Javascript object>"
      ]
     },
     "metadata": {},
     "output_type": "display_data"
    },
    {
     "data": {
      "text/markdown": [
       "<span style=\"color:#33cc33\">Correct</span>"
      ],
      "text/plain": [
       "Correct"
      ]
     },
     "metadata": {},
     "output_type": "display_data"
    },
    {
     "data": {
      "image/png": "[encoded data removed]",
      "text/plain": [
       "<Figure size 432x288 with 1 Axes>"
      ]
     },
     "metadata": {
      "needs_background": "light"
     },
     "output_type": "display_data"
    }
   ],
   "source": [
    "# Scatter plot w/ regression line showing the relationship between 'sugarpercent' and 'winpercent'\n",
    "sns.regplot(x=candy_data['sugarpercent'], y=candy_data['winpercent'])\n",
    "\n",
    "# Check your answer\n",
    "step_4.a.check()"
   ]
  },
  {
   "cell_type": "code",
   "execution_count": 14,
   "id": "4aa42e3b",
   "metadata": {
    "execution": {
     "iopub.execute_input": "2022-05-12T14:07:44.999187Z",
     "iopub.status.busy": "2022-05-12T14:07:44.998140Z",
     "iopub.status.idle": "2022-05-12T14:07:45.003009Z",
     "shell.execute_reply": "2022-05-12T14:07:45.001843Z"
    },
    "papermill": {
     "duration": 0.055273,
     "end_time": "2022-05-12T14:07:45.005007",
     "exception": false,
     "start_time": "2022-05-12T14:07:44.949734",
     "status": "completed"
    },
    "tags": []
   },
   "outputs": [],
   "source": [
    "# Lines below will give you a hint or solution code\n",
    "#step_4.a.hint()\n",
    "#step_4.a.solution_plot()"
   ]
  },
  {
   "cell_type": "markdown",
   "id": "2dc9fc53",
   "metadata": {
    "papermill": {
     "duration": 0.046335,
     "end_time": "2022-05-12T14:07:45.097824",
     "exception": false,
     "start_time": "2022-05-12T14:07:45.051489",
     "status": "completed"
    },
    "tags": []
   },
   "source": [
    "#### Part B\n",
    "\n",
    "According to the plot above, is there a **slight** correlation between `'winpercent'` and `'sugarpercent'`?  What does this tell you about the candy that people tend to prefer?"
   ]
  },
  {
   "cell_type": "code",
   "execution_count": 15,
   "id": "ba996c85",
   "metadata": {
    "execution": {
     "iopub.execute_input": "2022-05-12T14:07:45.192628Z",
     "iopub.status.busy": "2022-05-12T14:07:45.192362Z",
     "iopub.status.idle": "2022-05-12T14:07:45.201786Z",
     "shell.execute_reply": "2022-05-12T14:07:45.200843Z"
    },
    "papermill": {
     "duration": 0.05941,
     "end_time": "2022-05-12T14:07:45.203852",
     "exception": false,
     "start_time": "2022-05-12T14:07:45.144442",
     "status": "completed"
    },
    "tags": []
   },
   "outputs": [
    {
     "data": {
      "application/javascript": [
       "parent.postMessage({\"jupyterEvent\": \"custom.exercise_interaction\", \"data\": {\"interactionType\": 2, \"questionType\": 4, \"questionId\": \"4.2_ThinkBlueReg\", \"learnToolsVersion\": \"0.3.4\", \"valueTowardsCompletion\": 0.0, \"failureMessage\": \"\", \"exceptionClass\": \"\", \"trace\": \"\", \"outcomeType\": 4}}, \"*\")"
      ],
      "text/plain": [
       "<IPython.core.display.Javascript object>"
      ]
     },
     "metadata": {},
     "output_type": "display_data"
    },
    {
     "data": {
      "text/markdown": [
       "<span style=\"color:#3366cc\">Hint:</span> Does the regression line have a positive or negative slope?"
      ],
      "text/plain": [
       "Hint: Does the regression line have a positive or negative slope?"
      ]
     },
     "metadata": {},
     "output_type": "display_data"
    }
   ],
   "source": [
    "step_4.b.hint()"
   ]
  },
  {
   "cell_type": "code",
   "execution_count": 16,
   "id": "1bbc991c",
   "metadata": {
    "execution": {
     "iopub.execute_input": "2022-05-12T14:07:45.300996Z",
     "iopub.status.busy": "2022-05-12T14:07:45.300414Z",
     "iopub.status.idle": "2022-05-12T14:07:45.307075Z",
     "shell.execute_reply": "2022-05-12T14:07:45.306343Z"
    },
    "papermill": {
     "duration": 0.057919,
     "end_time": "2022-05-12T14:07:45.309089",
     "exception": false,
     "start_time": "2022-05-12T14:07:45.251170",
     "status": "completed"
    },
    "tags": []
   },
   "outputs": [
    {
     "data": {
      "application/javascript": [
       "parent.postMessage({\"jupyterEvent\": \"custom.exercise_interaction\", \"data\": {\"interactionType\": 3, \"questionType\": 4, \"questionId\": \"4.2_ThinkBlueReg\", \"learnToolsVersion\": \"0.3.4\", \"valueTowardsCompletion\": 0.0, \"failureMessage\": \"\", \"exceptionClass\": \"\", \"trace\": \"\", \"outcomeType\": 4}}, \"*\")"
      ],
      "text/plain": [
       "<IPython.core.display.Javascript object>"
      ]
     },
     "metadata": {},
     "output_type": "display_data"
    },
    {
     "data": {
      "text/markdown": [
       "<span style=\"color:#33cc99\">Solution:</span> Since the regression line has a slightly positive slope, this tells us that there is a slightly positive correlation between `'winpercent'` and `'sugarpercent'`. Thus, people have a slight preference for candies containing relatively more sugar."
      ],
      "text/plain": [
       "Solution: Since the regression line has a slightly positive slope, this tells us that there is a slightly positive correlation between `'winpercent'` and `'sugarpercent'`. Thus, people have a slight preference for candies containing relatively more sugar."
      ]
     },
     "metadata": {},
     "output_type": "display_data"
    }
   ],
   "source": [
    "# Check your answer (Run this code cell to receive credit!)\n",
    "step_4.b.solution()"
   ]
  },
  {
   "cell_type": "markdown",
   "id": "923e99a8",
   "metadata": {
    "papermill": {
     "duration": 0.050114,
     "end_time": "2022-05-12T14:07:45.408518",
     "exception": false,
     "start_time": "2022-05-12T14:07:45.358404",
     "status": "completed"
    },
    "tags": []
   },
   "source": [
    "## Step 5: Chocolate!\n",
    "\n",
    "In the code cell below, create a scatter plot to show the relationship between `'pricepercent'` (on the horizontal x-axis) and `'winpercent'` (on the vertical y-axis). Use the `'chocolate'` column to color-code the points.  _Don't add any regression lines just yet -- you'll do that in the next step!_"
   ]
  },
  {
   "cell_type": "code",
   "execution_count": 17,
   "id": "481ee67b",
   "metadata": {
    "execution": {
     "iopub.execute_input": "2022-05-12T14:07:45.510632Z",
     "iopub.status.busy": "2022-05-12T14:07:45.509992Z",
     "iopub.status.idle": "2022-05-12T14:07:45.828063Z",
     "shell.execute_reply": "2022-05-12T14:07:45.826820Z"
    },
    "papermill": {
     "duration": 0.372801,
     "end_time": "2022-05-12T14:07:45.830489",
     "exception": false,
     "start_time": "2022-05-12T14:07:45.457688",
     "status": "completed"
    },
    "tags": []
   },
   "outputs": [
    {
     "data": {
      "application/javascript": [
       "parent.postMessage({\"jupyterEvent\": \"custom.exercise_interaction\", \"data\": {\"outcomeType\": 1, \"valueTowardsCompletion\": 0.3333333333333333, \"interactionType\": 1, \"questionType\": 2, \"questionId\": \"5_ColorScatter\", \"learnToolsVersion\": \"0.3.4\", \"failureMessage\": \"\", \"exceptionClass\": \"\", \"trace\": \"\"}}, \"*\")"
      ],
      "text/plain": [
       "<IPython.core.display.Javascript object>"
      ]
     },
     "metadata": {},
     "output_type": "display_data"
    },
    {
     "data": {
      "text/markdown": [
       "<span style=\"color:#33cc33\">Correct</span>"
      ],
      "text/plain": [
       "Correct"
      ]
     },
     "metadata": {},
     "output_type": "display_data"
    },
    {
     "data": {
      "image/png": "[encoded data removed]",
      "text/plain": [
       "<Figure size 432x288 with 1 Axes>"
      ]
     },
     "metadata": {
      "needs_background": "light"
     },
     "output_type": "display_data"
    }
   ],
   "source": [
    "# Scatter plot showing the relationship between 'pricepercent', 'winpercent', and 'chocolate'\n",
    "sns.scatterplot(x=candy_data['pricepercent'], y=candy_data['winpercent'], hue=candy_data['chocolate'])\n",
    "\n",
    "# Check your answer\n",
    "step_5.check()"
   ]
  },
  {
   "cell_type": "code",
   "execution_count": 18,
   "id": "39e86d58",
   "metadata": {
    "execution": {
     "iopub.execute_input": "2022-05-12T14:07:45.937364Z",
     "iopub.status.busy": "2022-05-12T14:07:45.937086Z",
     "iopub.status.idle": "2022-05-12T14:07:45.941347Z",
     "shell.execute_reply": "2022-05-12T14:07:45.940118Z"
    },
    "papermill": {
     "duration": 0.059438,
     "end_time": "2022-05-12T14:07:45.943668",
     "exception": false,
     "start_time": "2022-05-12T14:07:45.884230",
     "status": "completed"
    },
    "tags": []
   },
   "outputs": [],
   "source": [
    "# Lines below will give you a hint or solution code\n",
    "#step_5.hint()\n",
    "#step_5.solution_plot()"
   ]
  },
  {
   "cell_type": "markdown",
   "id": "3a7da0c1",
   "metadata": {
    "papermill": {
     "duration": 0.052913,
     "end_time": "2022-05-12T14:07:46.048491",
     "exception": false,
     "start_time": "2022-05-12T14:07:45.995578",
     "status": "completed"
    },
    "tags": []
   },
   "source": [
    "Can you see any interesting patterns in the scatter plot?  We'll investigate this plot further  by adding regression lines in the next step!\n",
    "\n",
    "## Step 6: Investigate chocolate\n",
    "\n",
    "#### Part A\n",
    "\n",
    "Create the same scatter plot you created in **Step 5**, but now with two regression lines, corresponding to (1) chocolate candies and (2) candies without chocolate."
   ]
  },
  {
   "cell_type": "code",
   "execution_count": 19,
   "id": "57a83479",
   "metadata": {
    "execution": {
     "iopub.execute_input": "2022-05-12T14:07:46.156931Z",
     "iopub.status.busy": "2022-05-12T14:07:46.155824Z",
     "iopub.status.idle": "2022-05-12T14:07:46.862519Z",
     "shell.execute_reply": "2022-05-12T14:07:46.861573Z"
    },
    "papermill": {
     "duration": 0.761979,
     "end_time": "2022-05-12T14:07:46.864839",
     "exception": false,
     "start_time": "2022-05-12T14:07:46.102860",
     "status": "completed"
    },
    "tags": []
   },
   "outputs": [
    {
     "data": {
      "application/javascript": [
       "parent.postMessage({\"jupyterEvent\": \"custom.exercise_interaction\", \"data\": {\"outcomeType\": 1, \"valueTowardsCompletion\": 0.3333333333333333, \"interactionType\": 1, \"questionType\": 2, \"questionId\": \"6.1_PlotColorReg\", \"learnToolsVersion\": \"0.3.4\", \"failureMessage\": \"\", \"exceptionClass\": \"\", \"trace\": \"\"}}, \"*\")"
      ],
      "text/plain": [
       "<IPython.core.display.Javascript object>"
      ]
     },
     "metadata": {},
     "output_type": "display_data"
    },
    {
     "data": {
      "text/markdown": [
       "<span style=\"color:#33cc33\">Correct</span>"
      ],
      "text/plain": [
       "Correct"
      ]
     },
     "metadata": {},
     "output_type": "display_data"
    },
    {
     "data": {
      "image/png": "[encoded data removed]",
      "text/plain": [
       "<Figure size 416.375x360 with 1 Axes>"
      ]
     },
     "metadata": {
      "needs_background": "light"
     },
     "output_type": "display_data"
    }
   ],
   "source": [
    "# Color-coded scatter plot w/ regression lines\n",
    "sns.lmplot(x='pricepercent', y='winpercent', hue='chocolate', data=candy_data)\n",
    "\n",
    "# Check your answer\n",
    "step_6.a.check()"
   ]
  },
  {
   "cell_type": "code",
   "execution_count": 20,
   "id": "69c6fdf4",
   "metadata": {
    "execution": {
     "iopub.execute_input": "2022-05-12T14:07:46.977547Z",
     "iopub.status.busy": "2022-05-12T14:07:46.977228Z",
     "iopub.status.idle": "2022-05-12T14:07:46.981841Z",
     "shell.execute_reply": "2022-05-12T14:07:46.980698Z"
    },
    "papermill": {
     "duration": 0.062628,
     "end_time": "2022-05-12T14:07:46.984063",
     "exception": false,
     "start_time": "2022-05-12T14:07:46.921435",
     "status": "completed"
    },
    "tags": []
   },
   "outputs": [],
   "source": [
    "# Lines below will give you a hint or solution code\n",
    "#step_6.a.hint()\n",
    "#step_6.a.solution_plot()"
   ]
  },
  {
   "cell_type": "markdown",
   "id": "e94730c0",
   "metadata": {
    "papermill": {
     "duration": 0.067062,
     "end_time": "2022-05-12T14:07:47.116314",
     "exception": false,
     "start_time": "2022-05-12T14:07:47.049252",
     "status": "completed"
    },
    "tags": []
   },
   "source": [
    "#### Part B\n",
    "\n",
    "Using the regression lines, what conclusions can you draw about the effects of chocolate and price on candy popularity?"
   ]
  },
  {
   "cell_type": "code",
   "execution_count": 21,
   "id": "223e0de0",
   "metadata": {
    "execution": {
     "iopub.execute_input": "2022-05-12T14:07:47.229951Z",
     "iopub.status.busy": "2022-05-12T14:07:47.228621Z",
     "iopub.status.idle": "2022-05-12T14:07:47.236384Z",
     "shell.execute_reply": "2022-05-12T14:07:47.235253Z"
    },
    "papermill": {
     "duration": 0.067374,
     "end_time": "2022-05-12T14:07:47.238477",
     "exception": false,
     "start_time": "2022-05-12T14:07:47.171103",
     "status": "completed"
    },
    "tags": []
   },
   "outputs": [
    {
     "data": {
      "application/javascript": [
       "parent.postMessage({\"jupyterEvent\": \"custom.exercise_interaction\", \"data\": {\"interactionType\": 2, \"questionType\": 4, \"questionId\": \"6.2_ThinkColorReg\", \"learnToolsVersion\": \"0.3.4\", \"valueTowardsCompletion\": 0.0, \"failureMessage\": \"\", \"exceptionClass\": \"\", \"trace\": \"\", \"outcomeType\": 4}}, \"*\")"
      ],
      "text/plain": [
       "<IPython.core.display.Javascript object>"
      ]
     },
     "metadata": {},
     "output_type": "display_data"
    },
    {
     "data": {
      "text/markdown": [
       "<span style=\"color:#3366cc\">Hint:</span> Look at each regression line - do you notice a positive or negative slope?"
      ],
      "text/plain": [
       "Hint: Look at each regression line - do you notice a positive or negative slope?"
      ]
     },
     "metadata": {},
     "output_type": "display_data"
    }
   ],
   "source": [
    "step_6.b.hint()"
   ]
  },
  {
   "cell_type": "code",
   "execution_count": 22,
   "id": "55fa2097",
   "metadata": {
    "execution": {
     "iopub.execute_input": "2022-05-12T14:07:47.372533Z",
     "iopub.status.busy": "2022-05-12T14:07:47.372090Z",
     "iopub.status.idle": "2022-05-12T14:07:47.379025Z",
     "shell.execute_reply": "2022-05-12T14:07:47.378277Z"
    },
    "papermill": {
     "duration": 0.08052,
     "end_time": "2022-05-12T14:07:47.382104",
     "exception": false,
     "start_time": "2022-05-12T14:07:47.301584",
     "status": "completed"
    },
    "tags": []
   },
   "outputs": [
    {
     "data": {
      "application/javascript": [
       "parent.postMessage({\"jupyterEvent\": \"custom.exercise_interaction\", \"data\": {\"interactionType\": 3, \"questionType\": 4, \"questionId\": \"6.2_ThinkColorReg\", \"learnToolsVersion\": \"0.3.4\", \"valueTowardsCompletion\": 0.0, \"failureMessage\": \"\", \"exceptionClass\": \"\", \"trace\": \"\", \"outcomeType\": 4}}, \"*\")"
      ],
      "text/plain": [
       "<IPython.core.display.Javascript object>"
      ]
     },
     "metadata": {},
     "output_type": "display_data"
    },
    {
     "data": {
      "text/markdown": [
       "<span style=\"color:#33cc99\">Solution:</span> We'll begin with the regression line for chocolate candies. Since this line has a slightly positive slope, we can say that more expensive chocolate candies tend to be more popular (than relatively cheaper chocolate candies).  Likewise, since the regression line for candies without chocolate has a negative slope, we can say that if candies don't contain chocolate, they tend to be more popular when they are cheaper.  One important note, however, is that the dataset is quite small -- so we shouldn't invest too much trust in these patterns!  To inspire more confidence in the results, we should add more candies to the dataset."
      ],
      "text/plain": [
       "Solution: We'll begin with the regression line for chocolate candies. Since this line has a slightly positive slope, we can say that more expensive chocolate candies tend to be more popular (than relatively cheaper chocolate candies).  Likewise, since the regression line for candies without chocolate has a negative slope, we can say that if candies don't contain chocolate, they tend to be more popular when they are cheaper.  One important note, however, is that the dataset is quite small -- so we shouldn't invest too much trust in these patterns!  To inspire more confidence in the results, we should add more candies to the dataset."
      ]
     },
     "metadata": {},
     "output_type": "display_data"
    }
   ],
   "source": [
    "# Check your answer (Run this code cell to receive credit!)\n",
    "step_6.b.solution()"
   ]
  },
  {
   "cell_type": "markdown",
   "id": "a2d1572e",
   "metadata": {
    "papermill": {
     "duration": 0.060357,
     "end_time": "2022-05-12T14:07:47.501114",
     "exception": false,
     "start_time": "2022-05-12T14:07:47.440757",
     "status": "completed"
    },
    "tags": []
   },
   "source": [
    "## Step 7: Everybody loves chocolate.\n",
    "\n",
    "#### Part A\n",
    "\n",
    "Create a categorical scatter plot to highlight the relationship between `'chocolate'` and `'winpercent'`.  Put `'chocolate'` on the (horizontal) x-axis, and `'winpercent'` on the (vertical) y-axis."
   ]
  },
  {
   "cell_type": "code",
   "execution_count": 23,
   "id": "37e0ed54",
   "metadata": {
    "execution": {
     "iopub.execute_input": "2022-05-12T14:07:47.624054Z",
     "iopub.status.busy": "2022-05-12T14:07:47.623322Z",
     "iopub.status.idle": "2022-05-12T14:07:47.793946Z",
     "shell.execute_reply": "2022-05-12T14:07:47.792973Z"
    },
    "papermill": {
     "duration": 0.237096,
     "end_time": "2022-05-12T14:07:47.797363",
     "exception": false,
     "start_time": "2022-05-12T14:07:47.560267",
     "status": "completed"
    },
    "tags": []
   },
   "outputs": [
    {
     "data": {
      "application/javascript": [
       "parent.postMessage({\"jupyterEvent\": \"custom.exercise_interaction\", \"data\": {\"outcomeType\": 1, \"valueTowardsCompletion\": 0.3333333333333333, \"interactionType\": 1, \"questionType\": 2, \"questionId\": \"7.1_PlotSwarm\", \"learnToolsVersion\": \"0.3.4\", \"failureMessage\": \"\", \"exceptionClass\": \"\", \"trace\": \"\"}}, \"*\")"
      ],
      "text/plain": [
       "<IPython.core.display.Javascript object>"
      ]
     },
     "metadata": {},
     "output_type": "display_data"
    },
    {
     "data": {
      "text/markdown": [
       "<span style=\"color:#33cc33\">Correct</span>"
      ],
      "text/plain": [
       "Correct"
      ]
     },
     "metadata": {},
     "output_type": "display_data"
    },
    {
     "data": {
      "image/png": "[encoded data removed]",
      "text/plain": [
       "<Figure size 432x288 with 1 Axes>"
      ]
     },
     "metadata": {
      "needs_background": "light"
     },
     "output_type": "display_data"
    }
   ],
   "source": [
    "# Scatter plot showing the relationship between 'chocolate' and 'winpercent'\n",
    "sns.swarmplot(x=candy_data['chocolate'], y=candy_data['winpercent'])\n",
    "\n",
    "# Check your answer\n",
    "step_7.a.check()"
   ]
  },
  {
   "cell_type": "code",
   "execution_count": 24,
   "id": "dba2881b",
   "metadata": {
    "execution": {
     "iopub.execute_input": "2022-05-12T14:07:47.918185Z",
     "iopub.status.busy": "2022-05-12T14:07:47.917624Z",
     "iopub.status.idle": "2022-05-12T14:07:47.921401Z",
     "shell.execute_reply": "2022-05-12T14:07:47.920829Z"
    },
    "papermill": {
     "duration": 0.065479,
     "end_time": "2022-05-12T14:07:47.923342",
     "exception": false,
     "start_time": "2022-05-12T14:07:47.857863",
     "status": "completed"
    },
    "tags": []
   },
   "outputs": [],
   "source": [
    "# Lines below will give you a hint or solution code\n",
    "#step_7.a.hint()\n",
    "#step_7.a.solution_plot()"
   ]
  },
  {
   "cell_type": "markdown",
   "id": "3e32d7b7",
   "metadata": {
    "papermill": {
     "duration": 0.058775,
     "end_time": "2022-05-12T14:07:48.042438",
     "exception": false,
     "start_time": "2022-05-12T14:07:47.983663",
     "status": "completed"
    },
    "tags": []
   },
   "source": [
    "#### Part B\n",
    "\n",
    "You decide to dedicate a section of your report to the fact that chocolate candies tend to be more popular than candies without chocolate.  Which plot is more appropriate to tell this story: the plot from **Step 6**, or the plot from **Step 7**?"
   ]
  },
  {
   "cell_type": "code",
   "execution_count": 25,
   "id": "ccc167e7",
   "metadata": {
    "execution": {
     "iopub.execute_input": "2022-05-12T14:07:48.162422Z",
     "iopub.status.busy": "2022-05-12T14:07:48.161859Z",
     "iopub.status.idle": "2022-05-12T14:07:48.168872Z",
     "shell.execute_reply": "2022-05-12T14:07:48.168276Z"
    },
    "papermill": {
     "duration": 0.069241,
     "end_time": "2022-05-12T14:07:48.170997",
     "exception": false,
     "start_time": "2022-05-12T14:07:48.101756",
     "status": "completed"
    },
    "tags": []
   },
   "outputs": [
    {
     "data": {
      "application/javascript": [
       "parent.postMessage({\"jupyterEvent\": \"custom.exercise_interaction\", \"data\": {\"interactionType\": 2, \"questionType\": 4, \"questionId\": \"7.2_ThinkSwarm\", \"learnToolsVersion\": \"0.3.4\", \"valueTowardsCompletion\": 0.0, \"failureMessage\": \"\", \"exceptionClass\": \"\", \"trace\": \"\", \"outcomeType\": 4}}, \"*\")"
      ],
      "text/plain": [
       "<IPython.core.display.Javascript object>"
      ]
     },
     "metadata": {},
     "output_type": "display_data"
    },
    {
     "data": {
      "text/markdown": [
       "<span style=\"color:#3366cc\">Hint:</span> Which plot communicates more information?  In general, it's good practice to use the simplest plot that tells the entire story of interest."
      ],
      "text/plain": [
       "Hint: Which plot communicates more information?  In general, it's good practice to use the simplest plot that tells the entire story of interest."
      ]
     },
     "metadata": {},
     "output_type": "display_data"
    }
   ],
   "source": [
    "step_7.b.hint()"
   ]
  },
  {
   "cell_type": "code",
   "execution_count": 26,
   "id": "17ce51f1",
   "metadata": {
    "execution": {
     "iopub.execute_input": "2022-05-12T14:07:48.302296Z",
     "iopub.status.busy": "2022-05-12T14:07:48.301562Z",
     "iopub.status.idle": "2022-05-12T14:07:48.308715Z",
     "shell.execute_reply": "2022-05-12T14:07:48.307943Z"
    },
    "papermill": {
     "duration": 0.076787,
     "end_time": "2022-05-12T14:07:48.311402",
     "exception": false,
     "start_time": "2022-05-12T14:07:48.234615",
     "status": "completed"
    },
    "tags": []
   },
   "outputs": [
    {
     "data": {
      "application/javascript": [
       "parent.postMessage({\"jupyterEvent\": \"custom.exercise_interaction\", \"data\": {\"interactionType\": 3, \"questionType\": 4, \"questionId\": \"7.2_ThinkSwarm\", \"learnToolsVersion\": \"0.3.4\", \"valueTowardsCompletion\": 0.0, \"failureMessage\": \"\", \"exceptionClass\": \"\", \"trace\": \"\", \"outcomeType\": 4}}, \"*\")"
      ],
      "text/plain": [
       "<IPython.core.display.Javascript object>"
      ]
     },
     "metadata": {},
     "output_type": "display_data"
    },
    {
     "data": {
      "text/markdown": [
       "<span style=\"color:#33cc99\">Solution:</span> In this case, the categorical scatter plot from **Step 7** is the more appropriate plot. While both plots tell the desired story, the plot from **Step 6** conveys far more information that could distract from the main point."
      ],
      "text/plain": [
       "Solution: In this case, the categorical scatter plot from **Step 7** is the more appropriate plot. While both plots tell the desired story, the plot from **Step 6** conveys far more information that could distract from the main point."
      ]
     },
     "metadata": {},
     "output_type": "display_data"
    }
   ],
   "source": [
    "# Check your answer (Run this code cell to receive credit!)\n",
    "step_7.b.solution()"
   ]
  },
  {
   "cell_type": "markdown",
   "id": "058cdc7c",
   "metadata": {
    "papermill": {
     "duration": 0.064321,
     "end_time": "2022-05-12T14:07:48.437279",
     "exception": false,
     "start_time": "2022-05-12T14:07:48.372958",
     "status": "completed"
    },
    "tags": []
   },
   "source": [
    "## Keep going\n",
    "\n",
    "Explore **[histograms and density plots](https://www.kaggle.com/alexisbcook/distributions)**."
   ]
  },
  {
   "cell_type": "markdown",
   "id": "c537b581",
   "metadata": {
    "papermill": {
     "duration": 0.061789,
     "end_time": "2022-05-12T14:07:48.561180",
     "exception": false,
     "start_time": "2022-05-12T14:07:48.499391",
     "status": "completed"
    },
    "tags": []
   },
   "source": [
    "---\n",
    "\n",
    "\n",
    "\n",
    "\n",
    "*Have questions or comments? Visit the [course discussion forum](https://www.kaggle.com/learn/data-visualization/discussion) to chat with other learners.*"
   ]
  }
 ],
 "metadata": {
  "kernelspec": {
   "display_name": "Python 3",
   "language": "python",
   "name": "python3"
  },
  "language_info": {
   "codemirror_mode": {
    "name": "ipython",
    "version": 3
   },
   "file_extension": ".py",
   "mimetype": "text/x-python",
   "name": "python",
   "nbconvert_exporter": "python",
   "pygments_lexer": "ipython3",
   "version": "3.7.12"
  },
  "papermill": {
   "default_parameters": {},
   "duration": 19.359608,
   "end_time": "2022-05-12T14:07:49.445407",
   "environment_variables": {},
   "exception": null,
   "input_path": "__notebook__.ipynb",
   "output_path": "__notebook__.ipynb",
   "parameters": {},
   "start_time": "2022-05-12T14:07:30.085799",
   "version": "2.3.4"
  }
 },
 "nbformat": 4,
 "nbformat_minor": 5
}
