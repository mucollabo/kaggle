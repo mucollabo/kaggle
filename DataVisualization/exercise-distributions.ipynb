{
 "cells": [
  {
   "cell_type": "markdown",
   "id": "3fe30c5f",
   "metadata": {
    "papermill": {
     "duration": 0.027299,
     "end_time": "2022-05-13T05:28:47.484545",
     "exception": false,
     "start_time": "2022-05-13T05:28:47.457246",
     "status": "completed"
    },
    "tags": []
   },
   "source": [
    "**This notebook is an exercise in the [Data Visualization](https://www.kaggle.com/learn/data-visualization) course.  You can reference the tutorial at [this link](https://www.kaggle.com/alexisbcook/distributions).**\n",
    "\n",
    "---\n"
   ]
  },
  {
   "cell_type": "markdown",
   "id": "74afb387",
   "metadata": {
    "papermill": {
     "duration": 0.025566,
     "end_time": "2022-05-13T05:28:47.536257",
     "exception": false,
     "start_time": "2022-05-13T05:28:47.510691",
     "status": "completed"
    },
    "tags": []
   },
   "source": [
    "In this exercise, you will use your new knowledge to propose a solution to a real-world scenario.  To succeed, you will need to import data into Python, answer questions using the data, and generate **histograms** and **density plots** to understand patterns in the data.\n",
    "\n",
    "## Scenario\n",
    "\n",
    "You'll work with a real-world dataset containing information collected from microscopic images of breast cancer tumors, similar to the image below.\n",
    "\n",
    "![ex4_cancer_image](https://i.imgur.com/qUESsJe.png)\n",
    "\n",
    "Each tumor has been labeled as either [**benign**](https://en.wikipedia.org/wiki/Benign_tumor) (_noncancerous_) or **malignant** (_cancerous_).\n",
    "\n",
    "To learn more about how this kind of data is used to create intelligent algorithms to classify tumors in medical settings, **watch the short video [at this link](https://www.youtube.com/watch?v=9Mz84cwVmS0)**!"
   ]
  },
  {
   "cell_type": "markdown",
   "id": "ca10f69c",
   "metadata": {
    "papermill": {
     "duration": 0.0258,
     "end_time": "2022-05-13T05:28:47.588098",
     "exception": false,
     "start_time": "2022-05-13T05:28:47.562298",
     "status": "completed"
    },
    "tags": []
   },
   "source": [
    "\n",
    "\n",
    "## Setup\n",
    "\n",
    "Run the next cell to import and configure the Python libraries that you need to complete the exercise."
   ]
  },
  {
   "cell_type": "code",
   "execution_count": 1,
   "id": "5bee08ae",
   "metadata": {
    "execution": {
     "iopub.execute_input": "2022-05-13T05:28:47.642276Z",
     "iopub.status.busy": "2022-05-13T05:28:47.641537Z",
     "iopub.status.idle": "2022-05-13T05:28:48.746809Z",
     "shell.execute_reply": "2022-05-13T05:28:48.745962Z"
    },
    "papermill": {
     "duration": 1.135591,
     "end_time": "2022-05-13T05:28:48.749653",
     "exception": false,
     "start_time": "2022-05-13T05:28:47.614062",
     "status": "completed"
    },
    "tags": []
   },
   "outputs": [
    {
     "name": "stdout",
     "output_type": "stream",
     "text": [
      "Setup Complete\n"
     ]
    }
   ],
   "source": [
    "import pandas as pd\n",
    "pd.plotting.register_matplotlib_converters()\n",
    "import matplotlib.pyplot as plt\n",
    "%matplotlib inline\n",
    "import seaborn as sns\n",
    "print(\"Setup Complete\")"
   ]
  },
  {
   "cell_type": "markdown",
   "id": "98c819f0",
   "metadata": {
    "papermill": {
     "duration": 0.027155,
     "end_time": "2022-05-13T05:28:48.806059",
     "exception": false,
     "start_time": "2022-05-13T05:28:48.778904",
     "status": "completed"
    },
    "tags": []
   },
   "source": [
    "The questions below will give you feedback on your work. Run the following cell to set up our feedback system."
   ]
  },
  {
   "cell_type": "code",
   "execution_count": 2,
   "id": "2c499f21",
   "metadata": {
    "execution": {
     "iopub.execute_input": "2022-05-13T05:28:48.861694Z",
     "iopub.status.busy": "2022-05-13T05:28:48.861438Z",
     "iopub.status.idle": "2022-05-13T05:28:48.942251Z",
     "shell.execute_reply": "2022-05-13T05:28:48.940070Z"
    },
    "papermill": {
     "duration": 0.111358,
     "end_time": "2022-05-13T05:28:48.944515",
     "exception": false,
     "start_time": "2022-05-13T05:28:48.833157",
     "status": "completed"
    },
    "tags": []
   },
   "outputs": [
    {
     "name": "stdout",
     "output_type": "stream",
     "text": [
      "Setup Complete\n"
     ]
    }
   ],
   "source": [
    "# Set up code checking\n",
    "import os\n",
    "if not os.path.exists(\"../input/cancer_b.csv\"):\n",
    "    os.symlink(\"../input/data-for-datavis/cancer_b.csv\", \"../input/cancer_b.csv\")\n",
    "    os.symlink(\"../input/data-for-datavis/cancer_m.csv\", \"../input/cancer_m.csv\")\n",
    "from learntools.core import binder\n",
    "binder.bind(globals())\n",
    "from learntools.data_viz_to_coder.ex5 import *\n",
    "print(\"Setup Complete\")"
   ]
  },
  {
   "cell_type": "markdown",
   "id": "30c17130",
   "metadata": {
    "papermill": {
     "duration": 0.036033,
     "end_time": "2022-05-13T05:28:49.011185",
     "exception": false,
     "start_time": "2022-05-13T05:28:48.975152",
     "status": "completed"
    },
    "tags": []
   },
   "source": [
    "## Step 1: Load the data\n",
    "\n",
    "In this step, you will load two data files.\n",
    "- Load the data file corresponding to **benign** tumors into a DataFrame called `cancer_b_data`.  The corresponding filepath is `cancer_b_filepath`.  Use the `\"Id\"` column to label the rows.\n",
    "- Load the data file corresponding to **malignant** tumors into a DataFrame called `cancer_m_data`.  The corresponding filepath is `cancer_m_filepath`.  Use the `\"Id\"` column to label the rows."
   ]
  },
  {
   "cell_type": "code",
   "execution_count": 3,
   "id": "8afa3021",
   "metadata": {
    "execution": {
     "iopub.execute_input": "2022-05-13T05:28:49.081247Z",
     "iopub.status.busy": "2022-05-13T05:28:49.080660Z",
     "iopub.status.idle": "2022-05-13T05:28:49.103741Z",
     "shell.execute_reply": "2022-05-13T05:28:49.103189Z"
    },
    "papermill": {
     "duration": 0.059993,
     "end_time": "2022-05-13T05:28:49.105389",
     "exception": false,
     "start_time": "2022-05-13T05:28:49.045396",
     "status": "completed"
    },
    "tags": []
   },
   "outputs": [
    {
     "data": {
      "application/javascript": [
       "parent.postMessage({\"jupyterEvent\": \"custom.exercise_interaction\", \"data\": {\"outcomeType\": 1, \"valueTowardsCompletion\": 0.5, \"interactionType\": 1, \"questionType\": 1, \"questionId\": \"1_LoadCancerData\", \"learnToolsVersion\": \"0.3.4\", \"failureMessage\": \"\", \"exceptionClass\": \"\", \"trace\": \"\"}}, \"*\")"
      ],
      "text/plain": [
       "<IPython.core.display.Javascript object>"
      ]
     },
     "metadata": {},
     "output_type": "display_data"
    },
    {
     "data": {
      "text/markdown": [
       "<span style=\"color:#33cc33\">Correct</span>"
      ],
      "text/plain": [
       "Correct"
      ]
     },
     "metadata": {},
     "output_type": "display_data"
    }
   ],
   "source": [
    "# Paths of the files to read\n",
    "cancer_b_filepath = \"../input/cancer_b.csv\"\n",
    "cancer_m_filepath = \"../input/cancer_m.csv\"\n",
    "\n",
    "# Fill in the line below to read the (benign) file into a variable cancer_b_data\n",
    "cancer_b_data = pd.read_csv(cancer_b_filepath, index_col=\"Id\")\n",
    "\n",
    "# Fill in the line below to read the (malignant) file into a variable cancer_m_data\n",
    "cancer_m_data = pd.read_csv(cancer_m_filepath, index_col=\"Id\")\n",
    "\n",
    "# Run the line below with no changes to check that you've loaded the data correctly\n",
    "step_1.check()"
   ]
  },
  {
   "cell_type": "code",
   "execution_count": 4,
   "id": "2e10b0cf",
   "metadata": {
    "execution": {
     "iopub.execute_input": "2022-05-13T05:28:49.163794Z",
     "iopub.status.busy": "2022-05-13T05:28:49.163243Z",
     "iopub.status.idle": "2022-05-13T05:28:49.166165Z",
     "shell.execute_reply": "2022-05-13T05:28:49.165654Z"
    },
    "papermill": {
     "duration": 0.034135,
     "end_time": "2022-05-13T05:28:49.167890",
     "exception": false,
     "start_time": "2022-05-13T05:28:49.133755",
     "status": "completed"
    },
    "tags": []
   },
   "outputs": [],
   "source": [
    "# Lines below will give you a hint or solution code\n",
    "#step_1.hint()\n",
    "#step_1.solution()"
   ]
  },
  {
   "cell_type": "markdown",
   "id": "e3fb1dab",
   "metadata": {
    "papermill": {
     "duration": 0.027834,
     "end_time": "2022-05-13T05:28:49.224088",
     "exception": false,
     "start_time": "2022-05-13T05:28:49.196254",
     "status": "completed"
    },
    "tags": []
   },
   "source": [
    "## Step 2: Review the data\n",
    "\n",
    "Use a Python command to print the first 5 rows of the data for benign tumors."
   ]
  },
  {
   "cell_type": "code",
   "execution_count": 5,
   "id": "08cb307e",
   "metadata": {
    "execution": {
     "iopub.execute_input": "2022-05-13T05:28:49.282743Z",
     "iopub.status.busy": "2022-05-13T05:28:49.282232Z",
     "iopub.status.idle": "2022-05-13T05:28:49.314118Z",
     "shell.execute_reply": "2022-05-13T05:28:49.313323Z"
    },
    "papermill": {
     "duration": 0.063208,
     "end_time": "2022-05-13T05:28:49.316092",
     "exception": false,
     "start_time": "2022-05-13T05:28:49.252884",
     "status": "completed"
    },
    "tags": []
   },
   "outputs": [
    {
     "data": {
      "text/html": [
       "<div>\n",
       "<style scoped>\n",
       "    .dataframe tbody tr th:only-of-type {\n",
       "        vertical-align: middle;\n",
       "    }\n",
       "\n",
       "    .dataframe tbody tr th {\n",
       "        vertical-align: top;\n",
       "    }\n",
       "\n",
       "    .dataframe thead th {\n",
       "        text-align: right;\n",
       "    }\n",
       "</style>\n",
       "<table border=\"1\" class=\"dataframe\">\n",
       "  <thead>\n",
       "    <tr style=\"text-align: right;\">\n",
       "      <th></th>\n",
       "      <th>Diagnosis</th>\n",
       "      <th>Radius (mean)</th>\n",
       "      <th>Texture (mean)</th>\n",
       "      <th>Perimeter (mean)</th>\n",
       "      <th>Area (mean)</th>\n",
       "      <th>Smoothness (mean)</th>\n",
       "      <th>Compactness (mean)</th>\n",
       "      <th>Concavity (mean)</th>\n",
       "      <th>Concave points (mean)</th>\n",
       "      <th>Symmetry (mean)</th>\n",
       "      <th>...</th>\n",
       "      <th>Radius (worst)</th>\n",
       "      <th>Texture (worst)</th>\n",
       "      <th>Perimeter (worst)</th>\n",
       "      <th>Area (worst)</th>\n",
       "      <th>Smoothness (worst)</th>\n",
       "      <th>Compactness (worst)</th>\n",
       "      <th>Concavity (worst)</th>\n",
       "      <th>Concave points (worst)</th>\n",
       "      <th>Symmetry (worst)</th>\n",
       "      <th>Fractal dimension (worst)</th>\n",
       "    </tr>\n",
       "    <tr>\n",
       "      <th>Id</th>\n",
       "      <th></th>\n",
       "      <th></th>\n",
       "      <th></th>\n",
       "      <th></th>\n",
       "      <th></th>\n",
       "      <th></th>\n",
       "      <th></th>\n",
       "      <th></th>\n",
       "      <th></th>\n",
       "      <th></th>\n",
       "      <th></th>\n",
       "      <th></th>\n",
       "      <th></th>\n",
       "      <th></th>\n",
       "      <th></th>\n",
       "      <th></th>\n",
       "      <th></th>\n",
       "      <th></th>\n",
       "      <th></th>\n",
       "      <th></th>\n",
       "      <th></th>\n",
       "    </tr>\n",
       "  </thead>\n",
       "  <tbody>\n",
       "    <tr>\n",
       "      <th>8510426</th>\n",
       "      <td>B</td>\n",
       "      <td>13.540</td>\n",
       "      <td>14.36</td>\n",
       "      <td>87.46</td>\n",
       "      <td>566.3</td>\n",
       "      <td>0.09779</td>\n",
       "      <td>0.08129</td>\n",
       "      <td>0.06664</td>\n",
       "      <td>0.047810</td>\n",
       "      <td>0.1885</td>\n",
       "      <td>...</td>\n",
       "      <td>15.110</td>\n",
       "      <td>19.26</td>\n",
       "      <td>99.70</td>\n",
       "      <td>711.2</td>\n",
       "      <td>0.14400</td>\n",
       "      <td>0.17730</td>\n",
       "      <td>0.23900</td>\n",
       "      <td>0.12880</td>\n",
       "      <td>0.2977</td>\n",
       "      <td>0.07259</td>\n",
       "    </tr>\n",
       "    <tr>\n",
       "      <th>8510653</th>\n",
       "      <td>B</td>\n",
       "      <td>13.080</td>\n",
       "      <td>15.71</td>\n",
       "      <td>85.63</td>\n",
       "      <td>520.0</td>\n",
       "      <td>0.10750</td>\n",
       "      <td>0.12700</td>\n",
       "      <td>0.04568</td>\n",
       "      <td>0.031100</td>\n",
       "      <td>0.1967</td>\n",
       "      <td>...</td>\n",
       "      <td>14.500</td>\n",
       "      <td>20.49</td>\n",
       "      <td>96.09</td>\n",
       "      <td>630.5</td>\n",
       "      <td>0.13120</td>\n",
       "      <td>0.27760</td>\n",
       "      <td>0.18900</td>\n",
       "      <td>0.07283</td>\n",
       "      <td>0.3184</td>\n",
       "      <td>0.08183</td>\n",
       "    </tr>\n",
       "    <tr>\n",
       "      <th>8510824</th>\n",
       "      <td>B</td>\n",
       "      <td>9.504</td>\n",
       "      <td>12.44</td>\n",
       "      <td>60.34</td>\n",
       "      <td>273.9</td>\n",
       "      <td>0.10240</td>\n",
       "      <td>0.06492</td>\n",
       "      <td>0.02956</td>\n",
       "      <td>0.020760</td>\n",
       "      <td>0.1815</td>\n",
       "      <td>...</td>\n",
       "      <td>10.230</td>\n",
       "      <td>15.66</td>\n",
       "      <td>65.13</td>\n",
       "      <td>314.9</td>\n",
       "      <td>0.13240</td>\n",
       "      <td>0.11480</td>\n",
       "      <td>0.08867</td>\n",
       "      <td>0.06227</td>\n",
       "      <td>0.2450</td>\n",
       "      <td>0.07773</td>\n",
       "    </tr>\n",
       "    <tr>\n",
       "      <th>854941</th>\n",
       "      <td>B</td>\n",
       "      <td>13.030</td>\n",
       "      <td>18.42</td>\n",
       "      <td>82.61</td>\n",
       "      <td>523.8</td>\n",
       "      <td>0.08983</td>\n",
       "      <td>0.03766</td>\n",
       "      <td>0.02562</td>\n",
       "      <td>0.029230</td>\n",
       "      <td>0.1467</td>\n",
       "      <td>...</td>\n",
       "      <td>13.300</td>\n",
       "      <td>22.81</td>\n",
       "      <td>84.46</td>\n",
       "      <td>545.9</td>\n",
       "      <td>0.09701</td>\n",
       "      <td>0.04619</td>\n",
       "      <td>0.04833</td>\n",
       "      <td>0.05013</td>\n",
       "      <td>0.1987</td>\n",
       "      <td>0.06169</td>\n",
       "    </tr>\n",
       "    <tr>\n",
       "      <th>85713702</th>\n",
       "      <td>B</td>\n",
       "      <td>8.196</td>\n",
       "      <td>16.84</td>\n",
       "      <td>51.71</td>\n",
       "      <td>201.9</td>\n",
       "      <td>0.08600</td>\n",
       "      <td>0.05943</td>\n",
       "      <td>0.01588</td>\n",
       "      <td>0.005917</td>\n",
       "      <td>0.1769</td>\n",
       "      <td>...</td>\n",
       "      <td>8.964</td>\n",
       "      <td>21.96</td>\n",
       "      <td>57.26</td>\n",
       "      <td>242.2</td>\n",
       "      <td>0.12970</td>\n",
       "      <td>0.13570</td>\n",
       "      <td>0.06880</td>\n",
       "      <td>0.02564</td>\n",
       "      <td>0.3105</td>\n",
       "      <td>0.07409</td>\n",
       "    </tr>\n",
       "  </tbody>\n",
       "</table>\n",
       "<p>5 rows × 31 columns</p>\n",
       "</div>"
      ],
      "text/plain": [
       "         Diagnosis  Radius (mean)  Texture (mean)  Perimeter (mean)  \\\n",
       "Id                                                                    \n",
       "8510426          B         13.540           14.36             87.46   \n",
       "8510653          B         13.080           15.71             85.63   \n",
       "8510824          B          9.504           12.44             60.34   \n",
       "854941           B         13.030           18.42             82.61   \n",
       "85713702         B          8.196           16.84             51.71   \n",
       "\n",
       "          Area (mean)  Smoothness (mean)  Compactness (mean)  \\\n",
       "Id                                                             \n",
       "8510426         566.3            0.09779             0.08129   \n",
       "8510653         520.0            0.10750             0.12700   \n",
       "8510824         273.9            0.10240             0.06492   \n",
       "854941          523.8            0.08983             0.03766   \n",
       "85713702        201.9            0.08600             0.05943   \n",
       "\n",
       "          Concavity (mean)  Concave points (mean)  Symmetry (mean)  ...  \\\n",
       "Id                                                                  ...   \n",
       "8510426            0.06664               0.047810           0.1885  ...   \n",
       "8510653            0.04568               0.031100           0.1967  ...   \n",
       "8510824            0.02956               0.020760           0.1815  ...   \n",
       "854941             0.02562               0.029230           0.1467  ...   \n",
       "85713702           0.01588               0.005917           0.1769  ...   \n",
       "\n",
       "          Radius (worst)  Texture (worst)  Perimeter (worst)  Area (worst)  \\\n",
       "Id                                                                           \n",
       "8510426           15.110            19.26              99.70         711.2   \n",
       "8510653           14.500            20.49              96.09         630.5   \n",
       "8510824           10.230            15.66              65.13         314.9   \n",
       "854941            13.300            22.81              84.46         545.9   \n",
       "85713702           8.964            21.96              57.26         242.2   \n",
       "\n",
       "          Smoothness (worst)  Compactness (worst)  Concavity (worst)  \\\n",
       "Id                                                                     \n",
       "8510426              0.14400              0.17730            0.23900   \n",
       "8510653              0.13120              0.27760            0.18900   \n",
       "8510824              0.13240              0.11480            0.08867   \n",
       "854941               0.09701              0.04619            0.04833   \n",
       "85713702             0.12970              0.13570            0.06880   \n",
       "\n",
       "          Concave points (worst)  Symmetry (worst)  Fractal dimension (worst)  \n",
       "Id                                                                             \n",
       "8510426                  0.12880            0.2977                    0.07259  \n",
       "8510653                  0.07283            0.3184                    0.08183  \n",
       "8510824                  0.06227            0.2450                    0.07773  \n",
       "854941                   0.05013            0.1987                    0.06169  \n",
       "85713702                 0.02564            0.3105                    0.07409  \n",
       "\n",
       "[5 rows x 31 columns]"
      ]
     },
     "execution_count": 5,
     "metadata": {},
     "output_type": "execute_result"
    }
   ],
   "source": [
    "# Print the first five rows of the (benign) data\n",
    "cancer_b_data.head()"
   ]
  },
  {
   "cell_type": "code",
   "execution_count": 6,
   "id": "c4fd35f0",
   "metadata": {
    "execution": {
     "iopub.execute_input": "2022-05-13T05:28:49.375877Z",
     "iopub.status.busy": "2022-05-13T05:28:49.375367Z",
     "iopub.status.idle": "2022-05-13T05:28:49.393860Z",
     "shell.execute_reply": "2022-05-13T05:28:49.392962Z"
    },
    "papermill": {
     "duration": 0.052121,
     "end_time": "2022-05-13T05:28:49.397362",
     "exception": false,
     "start_time": "2022-05-13T05:28:49.345241",
     "status": "completed"
    },
    "tags": []
   },
   "outputs": [
    {
     "name": "stdout",
     "output_type": "stream",
     "text": [
      "<class 'pandas.core.frame.DataFrame'>\n",
      "Int64Index: 357 entries, 8510426 to 92751\n",
      "Data columns (total 31 columns):\n",
      " #   Column                     Non-Null Count  Dtype  \n",
      "---  ------                     --------------  -----  \n",
      " 0   Diagnosis                  357 non-null    object \n",
      " 1   Radius (mean)              357 non-null    float64\n",
      " 2   Texture (mean)             357 non-null    float64\n",
      " 3   Perimeter (mean)           357 non-null    float64\n",
      " 4   Area (mean)                357 non-null    float64\n",
      " 5   Smoothness (mean)          357 non-null    float64\n",
      " 6   Compactness (mean)         357 non-null    float64\n",
      " 7   Concavity (mean)           357 non-null    float64\n",
      " 8   Concave points (mean)      357 non-null    float64\n",
      " 9   Symmetry (mean)            357 non-null    float64\n",
      " 10  Fractal dimension (mean)   357 non-null    float64\n",
      " 11  Radius (se)                357 non-null    float64\n",
      " 12  Texture (se)               357 non-null    float64\n",
      " 13  Perimeter (se)             357 non-null    float64\n",
      " 14  Area (se)                  357 non-null    float64\n",
      " 15  Smoothness (se)            357 non-null    float64\n",
      " 16  Compactness (se)           357 non-null    float64\n",
      " 17  Concavity (se)             357 non-null    float64\n",
      " 18  Concave points (se)        357 non-null    float64\n",
      " 19  Symmetry (se)              357 non-null    float64\n",
      " 20  Fractal dimension (se)     357 non-null    float64\n",
      " 21  Radius (worst)             357 non-null    float64\n",
      " 22  Texture (worst)            357 non-null    float64\n",
      " 23  Perimeter (worst)          357 non-null    float64\n",
      " 24  Area (worst)               357 non-null    float64\n",
      " 25  Smoothness (worst)         357 non-null    float64\n",
      " 26  Compactness (worst)        357 non-null    float64\n",
      " 27  Concavity (worst)          357 non-null    float64\n",
      " 28  Concave points (worst)     357 non-null    float64\n",
      " 29  Symmetry (worst)           357 non-null    float64\n",
      " 30  Fractal dimension (worst)  357 non-null    float64\n",
      "dtypes: float64(30), object(1)\n",
      "memory usage: 89.2+ KB\n"
     ]
    }
   ],
   "source": [
    "cancer_b_data.info()"
   ]
  },
  {
   "cell_type": "markdown",
   "id": "faeff6d7",
   "metadata": {
    "papermill": {
     "duration": 0.029263,
     "end_time": "2022-05-13T05:28:49.456426",
     "exception": false,
     "start_time": "2022-05-13T05:28:49.427163",
     "status": "completed"
    },
    "tags": []
   },
   "source": [
    "Use a Python command to print the first 5 rows of the data for malignant tumors."
   ]
  },
  {
   "cell_type": "code",
   "execution_count": 7,
   "id": "67786c44",
   "metadata": {
    "execution": {
     "iopub.execute_input": "2022-05-13T05:28:49.517305Z",
     "iopub.status.busy": "2022-05-13T05:28:49.516690Z",
     "iopub.status.idle": "2022-05-13T05:28:49.543788Z",
     "shell.execute_reply": "2022-05-13T05:28:49.542953Z"
    },
    "papermill": {
     "duration": 0.05987,
     "end_time": "2022-05-13T05:28:49.545896",
     "exception": false,
     "start_time": "2022-05-13T05:28:49.486026",
     "status": "completed"
    },
    "tags": []
   },
   "outputs": [
    {
     "data": {
      "text/html": [
       "<div>\n",
       "<style scoped>\n",
       "    .dataframe tbody tr th:only-of-type {\n",
       "        vertical-align: middle;\n",
       "    }\n",
       "\n",
       "    .dataframe tbody tr th {\n",
       "        vertical-align: top;\n",
       "    }\n",
       "\n",
       "    .dataframe thead th {\n",
       "        text-align: right;\n",
       "    }\n",
       "</style>\n",
       "<table border=\"1\" class=\"dataframe\">\n",
       "  <thead>\n",
       "    <tr style=\"text-align: right;\">\n",
       "      <th></th>\n",
       "      <th>Diagnosis</th>\n",
       "      <th>Radius (mean)</th>\n",
       "      <th>Texture (mean)</th>\n",
       "      <th>Perimeter (mean)</th>\n",
       "      <th>Area (mean)</th>\n",
       "      <th>Smoothness (mean)</th>\n",
       "      <th>Compactness (mean)</th>\n",
       "      <th>Concavity (mean)</th>\n",
       "      <th>Concave points (mean)</th>\n",
       "      <th>Symmetry (mean)</th>\n",
       "      <th>...</th>\n",
       "      <th>Radius (worst)</th>\n",
       "      <th>Texture (worst)</th>\n",
       "      <th>Perimeter (worst)</th>\n",
       "      <th>Area (worst)</th>\n",
       "      <th>Smoothness (worst)</th>\n",
       "      <th>Compactness (worst)</th>\n",
       "      <th>Concavity (worst)</th>\n",
       "      <th>Concave points (worst)</th>\n",
       "      <th>Symmetry (worst)</th>\n",
       "      <th>Fractal dimension (worst)</th>\n",
       "    </tr>\n",
       "    <tr>\n",
       "      <th>Id</th>\n",
       "      <th></th>\n",
       "      <th></th>\n",
       "      <th></th>\n",
       "      <th></th>\n",
       "      <th></th>\n",
       "      <th></th>\n",
       "      <th></th>\n",
       "      <th></th>\n",
       "      <th></th>\n",
       "      <th></th>\n",
       "      <th></th>\n",
       "      <th></th>\n",
       "      <th></th>\n",
       "      <th></th>\n",
       "      <th></th>\n",
       "      <th></th>\n",
       "      <th></th>\n",
       "      <th></th>\n",
       "      <th></th>\n",
       "      <th></th>\n",
       "      <th></th>\n",
       "    </tr>\n",
       "  </thead>\n",
       "  <tbody>\n",
       "    <tr>\n",
       "      <th>842302</th>\n",
       "      <td>M</td>\n",
       "      <td>17.99</td>\n",
       "      <td>10.38</td>\n",
       "      <td>122.80</td>\n",
       "      <td>1001.0</td>\n",
       "      <td>0.11840</td>\n",
       "      <td>0.27760</td>\n",
       "      <td>0.3001</td>\n",
       "      <td>0.14710</td>\n",
       "      <td>0.2419</td>\n",
       "      <td>...</td>\n",
       "      <td>25.38</td>\n",
       "      <td>17.33</td>\n",
       "      <td>184.60</td>\n",
       "      <td>2019.0</td>\n",
       "      <td>0.1622</td>\n",
       "      <td>0.6656</td>\n",
       "      <td>0.7119</td>\n",
       "      <td>0.2654</td>\n",
       "      <td>0.4601</td>\n",
       "      <td>0.11890</td>\n",
       "    </tr>\n",
       "    <tr>\n",
       "      <th>842517</th>\n",
       "      <td>M</td>\n",
       "      <td>20.57</td>\n",
       "      <td>17.77</td>\n",
       "      <td>132.90</td>\n",
       "      <td>1326.0</td>\n",
       "      <td>0.08474</td>\n",
       "      <td>0.07864</td>\n",
       "      <td>0.0869</td>\n",
       "      <td>0.07017</td>\n",
       "      <td>0.1812</td>\n",
       "      <td>...</td>\n",
       "      <td>24.99</td>\n",
       "      <td>23.41</td>\n",
       "      <td>158.80</td>\n",
       "      <td>1956.0</td>\n",
       "      <td>0.1238</td>\n",
       "      <td>0.1866</td>\n",
       "      <td>0.2416</td>\n",
       "      <td>0.1860</td>\n",
       "      <td>0.2750</td>\n",
       "      <td>0.08902</td>\n",
       "    </tr>\n",
       "    <tr>\n",
       "      <th>84300903</th>\n",
       "      <td>M</td>\n",
       "      <td>19.69</td>\n",
       "      <td>21.25</td>\n",
       "      <td>130.00</td>\n",
       "      <td>1203.0</td>\n",
       "      <td>0.10960</td>\n",
       "      <td>0.15990</td>\n",
       "      <td>0.1974</td>\n",
       "      <td>0.12790</td>\n",
       "      <td>0.2069</td>\n",
       "      <td>...</td>\n",
       "      <td>23.57</td>\n",
       "      <td>25.53</td>\n",
       "      <td>152.50</td>\n",
       "      <td>1709.0</td>\n",
       "      <td>0.1444</td>\n",
       "      <td>0.4245</td>\n",
       "      <td>0.4504</td>\n",
       "      <td>0.2430</td>\n",
       "      <td>0.3613</td>\n",
       "      <td>0.08758</td>\n",
       "    </tr>\n",
       "    <tr>\n",
       "      <th>84348301</th>\n",
       "      <td>M</td>\n",
       "      <td>11.42</td>\n",
       "      <td>20.38</td>\n",
       "      <td>77.58</td>\n",
       "      <td>386.1</td>\n",
       "      <td>0.14250</td>\n",
       "      <td>0.28390</td>\n",
       "      <td>0.2414</td>\n",
       "      <td>0.10520</td>\n",
       "      <td>0.2597</td>\n",
       "      <td>...</td>\n",
       "      <td>14.91</td>\n",
       "      <td>26.50</td>\n",
       "      <td>98.87</td>\n",
       "      <td>567.7</td>\n",
       "      <td>0.2098</td>\n",
       "      <td>0.8663</td>\n",
       "      <td>0.6869</td>\n",
       "      <td>0.2575</td>\n",
       "      <td>0.6638</td>\n",
       "      <td>0.17300</td>\n",
       "    </tr>\n",
       "    <tr>\n",
       "      <th>84358402</th>\n",
       "      <td>M</td>\n",
       "      <td>20.29</td>\n",
       "      <td>14.34</td>\n",
       "      <td>135.10</td>\n",
       "      <td>1297.0</td>\n",
       "      <td>0.10030</td>\n",
       "      <td>0.13280</td>\n",
       "      <td>0.1980</td>\n",
       "      <td>0.10430</td>\n",
       "      <td>0.1809</td>\n",
       "      <td>...</td>\n",
       "      <td>22.54</td>\n",
       "      <td>16.67</td>\n",
       "      <td>152.20</td>\n",
       "      <td>1575.0</td>\n",
       "      <td>0.1374</td>\n",
       "      <td>0.2050</td>\n",
       "      <td>0.4000</td>\n",
       "      <td>0.1625</td>\n",
       "      <td>0.2364</td>\n",
       "      <td>0.07678</td>\n",
       "    </tr>\n",
       "  </tbody>\n",
       "</table>\n",
       "<p>5 rows × 31 columns</p>\n",
       "</div>"
      ],
      "text/plain": [
       "         Diagnosis  Radius (mean)  Texture (mean)  Perimeter (mean)  \\\n",
       "Id                                                                    \n",
       "842302           M          17.99           10.38            122.80   \n",
       "842517           M          20.57           17.77            132.90   \n",
       "84300903         M          19.69           21.25            130.00   \n",
       "84348301         M          11.42           20.38             77.58   \n",
       "84358402         M          20.29           14.34            135.10   \n",
       "\n",
       "          Area (mean)  Smoothness (mean)  Compactness (mean)  \\\n",
       "Id                                                             \n",
       "842302         1001.0            0.11840             0.27760   \n",
       "842517         1326.0            0.08474             0.07864   \n",
       "84300903       1203.0            0.10960             0.15990   \n",
       "84348301        386.1            0.14250             0.28390   \n",
       "84358402       1297.0            0.10030             0.13280   \n",
       "\n",
       "          Concavity (mean)  Concave points (mean)  Symmetry (mean)  ...  \\\n",
       "Id                                                                  ...   \n",
       "842302              0.3001                0.14710           0.2419  ...   \n",
       "842517              0.0869                0.07017           0.1812  ...   \n",
       "84300903            0.1974                0.12790           0.2069  ...   \n",
       "84348301            0.2414                0.10520           0.2597  ...   \n",
       "84358402            0.1980                0.10430           0.1809  ...   \n",
       "\n",
       "          Radius (worst)  Texture (worst)  Perimeter (worst)  Area (worst)  \\\n",
       "Id                                                                           \n",
       "842302             25.38            17.33             184.60        2019.0   \n",
       "842517             24.99            23.41             158.80        1956.0   \n",
       "84300903           23.57            25.53             152.50        1709.0   \n",
       "84348301           14.91            26.50              98.87         567.7   \n",
       "84358402           22.54            16.67             152.20        1575.0   \n",
       "\n",
       "          Smoothness (worst)  Compactness (worst)  Concavity (worst)  \\\n",
       "Id                                                                     \n",
       "842302                0.1622               0.6656             0.7119   \n",
       "842517                0.1238               0.1866             0.2416   \n",
       "84300903              0.1444               0.4245             0.4504   \n",
       "84348301              0.2098               0.8663             0.6869   \n",
       "84358402              0.1374               0.2050             0.4000   \n",
       "\n",
       "          Concave points (worst)  Symmetry (worst)  Fractal dimension (worst)  \n",
       "Id                                                                             \n",
       "842302                    0.2654            0.4601                    0.11890  \n",
       "842517                    0.1860            0.2750                    0.08902  \n",
       "84300903                  0.2430            0.3613                    0.08758  \n",
       "84348301                  0.2575            0.6638                    0.17300  \n",
       "84358402                  0.1625            0.2364                    0.07678  \n",
       "\n",
       "[5 rows x 31 columns]"
      ]
     },
     "execution_count": 7,
     "metadata": {},
     "output_type": "execute_result"
    }
   ],
   "source": [
    "# Print the first five rows of the (malignant) data\n",
    "cancer_m_data.head()"
   ]
  },
  {
   "cell_type": "code",
   "execution_count": 8,
   "id": "9630aaed",
   "metadata": {
    "execution": {
     "iopub.execute_input": "2022-05-13T05:28:49.608947Z",
     "iopub.status.busy": "2022-05-13T05:28:49.608182Z",
     "iopub.status.idle": "2022-05-13T05:28:49.620931Z",
     "shell.execute_reply": "2022-05-13T05:28:49.620331Z"
    },
    "papermill": {
     "duration": 0.046781,
     "end_time": "2022-05-13T05:28:49.623222",
     "exception": false,
     "start_time": "2022-05-13T05:28:49.576441",
     "status": "completed"
    },
    "tags": []
   },
   "outputs": [
    {
     "name": "stdout",
     "output_type": "stream",
     "text": [
      "<class 'pandas.core.frame.DataFrame'>\n",
      "Int64Index: 212 entries, 842302 to 927241\n",
      "Data columns (total 31 columns):\n",
      " #   Column                     Non-Null Count  Dtype  \n",
      "---  ------                     --------------  -----  \n",
      " 0   Diagnosis                  212 non-null    object \n",
      " 1   Radius (mean)              212 non-null    float64\n",
      " 2   Texture (mean)             212 non-null    float64\n",
      " 3   Perimeter (mean)           212 non-null    float64\n",
      " 4   Area (mean)                212 non-null    float64\n",
      " 5   Smoothness (mean)          212 non-null    float64\n",
      " 6   Compactness (mean)         212 non-null    float64\n",
      " 7   Concavity (mean)           212 non-null    float64\n",
      " 8   Concave points (mean)      212 non-null    float64\n",
      " 9   Symmetry (mean)            212 non-null    float64\n",
      " 10  Fractal dimension (mean)   212 non-null    float64\n",
      " 11  Radius (se)                212 non-null    float64\n",
      " 12  Texture (se)               212 non-null    float64\n",
      " 13  Perimeter (se)             212 non-null    float64\n",
      " 14  Area (se)                  212 non-null    float64\n",
      " 15  Smoothness (se)            212 non-null    float64\n",
      " 16  Compactness (se)           212 non-null    float64\n",
      " 17  Concavity (se)             212 non-null    float64\n",
      " 18  Concave points (se)        212 non-null    float64\n",
      " 19  Symmetry (se)              212 non-null    float64\n",
      " 20  Fractal dimension (se)     212 non-null    float64\n",
      " 21  Radius (worst)             212 non-null    float64\n",
      " 22  Texture (worst)            212 non-null    float64\n",
      " 23  Perimeter (worst)          212 non-null    float64\n",
      " 24  Area (worst)               212 non-null    float64\n",
      " 25  Smoothness (worst)         212 non-null    float64\n",
      " 26  Compactness (worst)        212 non-null    float64\n",
      " 27  Concavity (worst)          212 non-null    float64\n",
      " 28  Concave points (worst)     212 non-null    float64\n",
      " 29  Symmetry (worst)           212 non-null    float64\n",
      " 30  Fractal dimension (worst)  212 non-null    float64\n",
      "dtypes: float64(30), object(1)\n",
      "memory usage: 53.0+ KB\n"
     ]
    }
   ],
   "source": [
    "cancer_m_data.info()"
   ]
  },
  {
   "cell_type": "markdown",
   "id": "19cdcf1a",
   "metadata": {
    "papermill": {
     "duration": 0.031573,
     "end_time": "2022-05-13T05:28:49.687467",
     "exception": false,
     "start_time": "2022-05-13T05:28:49.655894",
     "status": "completed"
    },
    "tags": []
   },
   "source": [
    "In the datasets, each row corresponds to a different image.  Each dataset has 31 different columns, corresponding to:\n",
    "- 1 column (`'Diagnosis'`) that classifies tumors as either benign (which appears in the dataset as **`B`**) or malignant (__`M`__), and\n",
    "- 30 columns containing different measurements collected from the images.\n",
    "\n",
    "Use the first 5 rows of the data (for benign and malignant tumors) to answer the questions below."
   ]
  },
  {
   "cell_type": "code",
   "execution_count": 9,
   "id": "e3ef2adb",
   "metadata": {
    "execution": {
     "iopub.execute_input": "2022-05-13T05:28:49.751839Z",
     "iopub.status.busy": "2022-05-13T05:28:49.750871Z",
     "iopub.status.idle": "2022-05-13T05:28:49.759392Z",
     "shell.execute_reply": "2022-05-13T05:28:49.758697Z"
    },
    "papermill": {
     "duration": 0.042178,
     "end_time": "2022-05-13T05:28:49.761224",
     "exception": false,
     "start_time": "2022-05-13T05:28:49.719046",
     "status": "completed"
    },
    "tags": []
   },
   "outputs": [
    {
     "data": {
      "application/javascript": [
       "parent.postMessage({\"jupyterEvent\": \"custom.exercise_interaction\", \"data\": {\"outcomeType\": 1, \"valueTowardsCompletion\": 0.5, \"interactionType\": 1, \"questionType\": 1, \"questionId\": \"2_ReviewData\", \"learnToolsVersion\": \"0.3.4\", \"failureMessage\": \"\", \"exceptionClass\": \"\", \"trace\": \"\"}}, \"*\")"
      ],
      "text/plain": [
       "<IPython.core.display.Javascript object>"
      ]
     },
     "metadata": {},
     "output_type": "display_data"
    },
    {
     "data": {
      "text/markdown": [
       "<span style=\"color:#33cc33\">Correct</span>"
      ],
      "text/plain": [
       "Correct"
      ]
     },
     "metadata": {},
     "output_type": "display_data"
    }
   ],
   "source": [
    "# Fill in the line below: In the first five rows of the data for benign tumors, what is the\n",
    "# largest value for 'Perimeter (mean)'?\n",
    "max_perim = 87.46\n",
    "\n",
    "# Fill in the line below: What is the value for 'Radius (mean)' for the tumor with Id 842517?\n",
    "mean_radius = 20.57\n",
    "\n",
    "# Check your answers\n",
    "step_2.check()"
   ]
  },
  {
   "cell_type": "code",
   "execution_count": 10,
   "id": "6fa6bfaf",
   "metadata": {
    "execution": {
     "iopub.execute_input": "2022-05-13T05:28:49.830314Z",
     "iopub.status.busy": "2022-05-13T05:28:49.829510Z",
     "iopub.status.idle": "2022-05-13T05:28:49.833493Z",
     "shell.execute_reply": "2022-05-13T05:28:49.832828Z"
    },
    "papermill": {
     "duration": 0.041342,
     "end_time": "2022-05-13T05:28:49.835475",
     "exception": false,
     "start_time": "2022-05-13T05:28:49.794133",
     "status": "completed"
    },
    "tags": []
   },
   "outputs": [],
   "source": [
    "# Lines below will give you a hint or solution code\n",
    "#step_2.hint()\n",
    "#step_2.solution()"
   ]
  },
  {
   "cell_type": "markdown",
   "id": "f2306e4a",
   "metadata": {
    "papermill": {
     "duration": 0.031932,
     "end_time": "2022-05-13T05:28:49.899556",
     "exception": false,
     "start_time": "2022-05-13T05:28:49.867624",
     "status": "completed"
    },
    "tags": []
   },
   "source": [
    "## Step 3: Investigating differences"
   ]
  },
  {
   "cell_type": "markdown",
   "id": "90dd98d2",
   "metadata": {
    "papermill": {
     "duration": 0.038496,
     "end_time": "2022-05-13T05:28:49.974840",
     "exception": false,
     "start_time": "2022-05-13T05:28:49.936344",
     "status": "completed"
    },
    "tags": []
   },
   "source": [
    "#### Part A\n",
    "\n",
    "Use the code cell below to create two histograms that show the distribution in values for `'Area (mean)'` for both benign and malignant tumors.  (_To permit easy comparison, create a single figure containing both histograms in the code cell below._)"
   ]
  },
  {
   "cell_type": "code",
   "execution_count": 11,
   "id": "0293571d",
   "metadata": {
    "execution": {
     "iopub.execute_input": "2022-05-13T05:28:50.041394Z",
     "iopub.status.busy": "2022-05-13T05:28:50.041127Z",
     "iopub.status.idle": "2022-05-13T05:28:50.308915Z",
     "shell.execute_reply": "2022-05-13T05:28:50.308249Z"
    },
    "papermill": {
     "duration": 0.303614,
     "end_time": "2022-05-13T05:28:50.311040",
     "exception": false,
     "start_time": "2022-05-13T05:28:50.007426",
     "status": "completed"
    },
    "tags": []
   },
   "outputs": [
    {
     "data": {
      "application/javascript": [
       "parent.postMessage({\"jupyterEvent\": \"custom.exercise_interaction\", \"data\": {\"outcomeType\": 1, \"valueTowardsCompletion\": 0.5, \"interactionType\": 1, \"questionType\": 2, \"questionId\": \"3.1_PlotHist\", \"learnToolsVersion\": \"0.3.4\", \"failureMessage\": \"\", \"exceptionClass\": \"\", \"trace\": \"\"}}, \"*\")"
      ],
      "text/plain": [
       "<IPython.core.display.Javascript object>"
      ]
     },
     "metadata": {},
     "output_type": "display_data"
    },
    {
     "data": {
      "text/markdown": [
       "<span style=\"color:#33cc33\">Correct</span>"
      ],
      "text/plain": [
       "Correct"
      ]
     },
     "metadata": {},
     "output_type": "display_data"
    },
    {
     "data": {
      "image/png": "[encoded data removed]",
      "text/plain": [
       "<Figure size 1008x432 with 1 Axes>"
      ]
     },
     "metadata": {
      "needs_background": "light"
     },
     "output_type": "display_data"
    }
   ],
   "source": [
    "# Histograms for benign and maligant tumors\n",
    "plt.figure(figsize=(14,6))\n",
    "sns.distplot(a=cancer_b_data['Area (mean)'], kde=False, color=\"red\") # Your code here (benign tumors)\n",
    "sns.distplot(a=cancer_m_data['Area (mean)'], kde=False, color=\"darkblue\") # Your code here (malignant tumors)\n",
    "\n",
    "\n",
    "# Check your answer\n",
    "step_3.a.check()"
   ]
  },
  {
   "cell_type": "code",
   "execution_count": 12,
   "id": "e3a3761d",
   "metadata": {
    "execution": {
     "iopub.execute_input": "2022-05-13T05:28:50.381816Z",
     "iopub.status.busy": "2022-05-13T05:28:50.381262Z",
     "iopub.status.idle": "2022-05-13T05:28:50.384244Z",
     "shell.execute_reply": "2022-05-13T05:28:50.383723Z"
    },
    "papermill": {
     "duration": 0.040505,
     "end_time": "2022-05-13T05:28:50.385956",
     "exception": false,
     "start_time": "2022-05-13T05:28:50.345451",
     "status": "completed"
    },
    "tags": []
   },
   "outputs": [],
   "source": [
    "# Lines below will give you a hint or solution code\n",
    "#step_3.a.hint()\n",
    "#step_3.a.solution_plot()"
   ]
  },
  {
   "cell_type": "markdown",
   "id": "c0a72f13",
   "metadata": {
    "papermill": {
     "duration": 0.033856,
     "end_time": "2022-05-13T05:28:50.454067",
     "exception": false,
     "start_time": "2022-05-13T05:28:50.420211",
     "status": "completed"
    },
    "tags": []
   },
   "source": [
    "#### Part B\n",
    "\n",
    "A researcher approaches you for help with identifying how the `'Area (mean)'` column can be used to understand the difference between benign and malignant tumors.  Based on the histograms above, \n",
    "- Do malignant tumors have higher or lower values for `'Area (mean)'` (relative to benign tumors), on average?\n",
    "- Which tumor type seems to have a larger range of potential values?"
   ]
  },
  {
   "cell_type": "code",
   "execution_count": 13,
   "id": "9bba37dd",
   "metadata": {
    "execution": {
     "iopub.execute_input": "2022-05-13T05:28:50.524083Z",
     "iopub.status.busy": "2022-05-13T05:28:50.523716Z",
     "iopub.status.idle": "2022-05-13T05:28:50.527415Z",
     "shell.execute_reply": "2022-05-13T05:28:50.526601Z"
    },
    "papermill": {
     "duration": 0.040971,
     "end_time": "2022-05-13T05:28:50.529197",
     "exception": false,
     "start_time": "2022-05-13T05:28:50.488226",
     "status": "completed"
    },
    "tags": []
   },
   "outputs": [],
   "source": [
    "#step_3.b.hint()"
   ]
  },
  {
   "cell_type": "code",
   "execution_count": 14,
   "id": "4c23230d",
   "metadata": {
    "execution": {
     "iopub.execute_input": "2022-05-13T05:28:50.600131Z",
     "iopub.status.busy": "2022-05-13T05:28:50.599818Z",
     "iopub.status.idle": "2022-05-13T05:28:50.607333Z",
     "shell.execute_reply": "2022-05-13T05:28:50.606605Z"
    },
    "papermill": {
     "duration": 0.045088,
     "end_time": "2022-05-13T05:28:50.609059",
     "exception": false,
     "start_time": "2022-05-13T05:28:50.563971",
     "status": "completed"
    },
    "tags": []
   },
   "outputs": [
    {
     "data": {
      "application/javascript": [
       "parent.postMessage({\"jupyterEvent\": \"custom.exercise_interaction\", \"data\": {\"interactionType\": 3, \"questionType\": 4, \"questionId\": \"3.2_ThinkHist\", \"learnToolsVersion\": \"0.3.4\", \"valueTowardsCompletion\": 0.0, \"failureMessage\": \"\", \"exceptionClass\": \"\", \"trace\": \"\", \"outcomeType\": 4}}, \"*\")"
      ],
      "text/plain": [
       "<IPython.core.display.Javascript object>"
      ]
     },
     "metadata": {},
     "output_type": "display_data"
    },
    {
     "data": {
      "text/markdown": [
       "<span style=\"color:#33cc99\">Solution:</span> Malignant tumors have higher values for `'Area (mean)'`, on average. Malignant tumors have a larger range of potential values."
      ],
      "text/plain": [
       "Solution: Malignant tumors have higher values for `'Area (mean)'`, on average. Malignant tumors have a larger range of potential values."
      ]
     },
     "metadata": {},
     "output_type": "display_data"
    }
   ],
   "source": [
    "# Check your answer (Run this code cell to receive credit!)\n",
    "step_3.b.solution()"
   ]
  },
  {
   "cell_type": "markdown",
   "id": "659f8029",
   "metadata": {
    "papermill": {
     "duration": 0.035341,
     "end_time": "2022-05-13T05:28:50.679871",
     "exception": false,
     "start_time": "2022-05-13T05:28:50.644530",
     "status": "completed"
    },
    "tags": []
   },
   "source": [
    "## Step 4: A very useful column\n",
    "\n",
    "#### Part A\n",
    "\n",
    "Use the code cell below to create two KDE plots that show the distribution in values for `'Radius (worst)'` for both benign and malignant tumors.  (_To permit easy comparison, create a single figure containing both KDE plots in the code cell below._)"
   ]
  },
  {
   "cell_type": "code",
   "execution_count": 15,
   "id": "cb479698",
   "metadata": {
    "execution": {
     "iopub.execute_input": "2022-05-13T05:28:50.755523Z",
     "iopub.status.busy": "2022-05-13T05:28:50.754623Z",
     "iopub.status.idle": "2022-05-13T05:28:51.022615Z",
     "shell.execute_reply": "2022-05-13T05:28:51.021780Z"
    },
    "papermill": {
     "duration": 0.308992,
     "end_time": "2022-05-13T05:28:51.024665",
     "exception": false,
     "start_time": "2022-05-13T05:28:50.715673",
     "status": "completed"
    },
    "tags": []
   },
   "outputs": [
    {
     "data": {
      "application/javascript": [
       "parent.postMessage({\"jupyterEvent\": \"custom.exercise_interaction\", \"data\": {\"outcomeType\": 1, \"valueTowardsCompletion\": 0.5, \"interactionType\": 1, \"questionType\": 2, \"questionId\": \"4.1_PlotThreshold\", \"learnToolsVersion\": \"0.3.4\", \"failureMessage\": \"\", \"exceptionClass\": \"\", \"trace\": \"\"}}, \"*\")"
      ],
      "text/plain": [
       "<IPython.core.display.Javascript object>"
      ]
     },
     "metadata": {},
     "output_type": "display_data"
    },
    {
     "data": {
      "text/markdown": [
       "<span style=\"color:#33cc33\">Correct</span>"
      ],
      "text/plain": [
       "Correct"
      ]
     },
     "metadata": {},
     "output_type": "display_data"
    },
    {
     "data": {
      "text/plain": [
       "<matplotlib.legend.Legend at 0x7f352cb28e90>"
      ]
     },
     "execution_count": 15,
     "metadata": {},
     "output_type": "execute_result"
    },
    {
     "data": {
      "image/png": "[encoded data removed]",
      "text/plain": [
       "<Figure size 864x432 with 1 Axes>"
      ]
     },
     "metadata": {
      "needs_background": "light"
     },
     "output_type": "display_data"
    }
   ],
   "source": [
    "# KDE plots for benign and malignant tumors\n",
    "plt.figure(figsize=(12, 6))\n",
    "sns.kdeplot(data=cancer_b_data['Radius (worst)'], shade=True, color=\"darkblue\") # Your code here (benign tumors)\n",
    "sns.kdeplot(data=cancer_m_data['Radius (worst)'], shade=True, color=\"orange\") # Your code here (malignant tumors)\n",
    "\n",
    "# Check your answer\n",
    "step_4.a.check()\n",
    "\n",
    "plt.legend()"
   ]
  },
  {
   "cell_type": "code",
   "execution_count": 16,
   "id": "e3b2b01e",
   "metadata": {
    "execution": {
     "iopub.execute_input": "2022-05-13T05:28:51.113054Z",
     "iopub.status.busy": "2022-05-13T05:28:51.112573Z",
     "iopub.status.idle": "2022-05-13T05:28:51.116176Z",
     "shell.execute_reply": "2022-05-13T05:28:51.115427Z"
    },
    "papermill": {
     "duration": 0.054859,
     "end_time": "2022-05-13T05:28:51.118237",
     "exception": false,
     "start_time": "2022-05-13T05:28:51.063378",
     "status": "completed"
    },
    "tags": []
   },
   "outputs": [],
   "source": [
    "# Lines below will give you a hint or solution code\n",
    "#step_4.a.hint()\n",
    "#step_4.a.solution_plot()"
   ]
  },
  {
   "cell_type": "markdown",
   "id": "4dd784e1",
   "metadata": {
    "papermill": {
     "duration": 0.047927,
     "end_time": "2022-05-13T05:28:51.214897",
     "exception": false,
     "start_time": "2022-05-13T05:28:51.166970",
     "status": "completed"
    },
    "tags": []
   },
   "source": [
    "#### Part B\n",
    "\n",
    "A hospital has recently started using an algorithm that can diagnose tumors with high accuracy.  Given a tumor with a value for `'Radius (worst)'` of 25, do you think the algorithm is more likely to classify the tumor as benign or malignant?"
   ]
  },
  {
   "cell_type": "code",
   "execution_count": 17,
   "id": "b8b0e27d",
   "metadata": {
    "execution": {
     "iopub.execute_input": "2022-05-13T05:28:51.314060Z",
     "iopub.status.busy": "2022-05-13T05:28:51.313285Z",
     "iopub.status.idle": "2022-05-13T05:28:51.316607Z",
     "shell.execute_reply": "2022-05-13T05:28:51.316035Z"
    },
    "papermill": {
     "duration": 0.054892,
     "end_time": "2022-05-13T05:28:51.318582",
     "exception": false,
     "start_time": "2022-05-13T05:28:51.263690",
     "status": "completed"
    },
    "tags": []
   },
   "outputs": [],
   "source": [
    "#step_4.b.hint()"
   ]
  },
  {
   "cell_type": "code",
   "execution_count": 18,
   "id": "b17c05cb",
   "metadata": {
    "execution": {
     "iopub.execute_input": "2022-05-13T05:28:51.417185Z",
     "iopub.status.busy": "2022-05-13T05:28:51.416668Z",
     "iopub.status.idle": "2022-05-13T05:28:51.422382Z",
     "shell.execute_reply": "2022-05-13T05:28:51.421828Z"
    },
    "papermill": {
     "duration": 0.056998,
     "end_time": "2022-05-13T05:28:51.424037",
     "exception": false,
     "start_time": "2022-05-13T05:28:51.367039",
     "status": "completed"
    },
    "tags": []
   },
   "outputs": [
    {
     "data": {
      "application/javascript": [
       "parent.postMessage({\"jupyterEvent\": \"custom.exercise_interaction\", \"data\": {\"interactionType\": 3, \"questionType\": 4, \"questionId\": \"4.2_ThinkThreshold\", \"learnToolsVersion\": \"0.3.4\", \"valueTowardsCompletion\": 0.0, \"failureMessage\": \"\", \"exceptionClass\": \"\", \"trace\": \"\", \"outcomeType\": 4}}, \"*\")"
      ],
      "text/plain": [
       "<IPython.core.display.Javascript object>"
      ]
     },
     "metadata": {},
     "output_type": "display_data"
    },
    {
     "data": {
      "text/markdown": [
       "<span style=\"color:#33cc99\">Solution:</span> The algorithm is more likely to classify the tumor as malignant. This is because the curve for malignant tumors is much higher than the curve for benign tumors around a value of 25 -- and an algorithm that gets high accuracy is likely to make decisions based on this pattern in the data."
      ],
      "text/plain": [
       "Solution: The algorithm is more likely to classify the tumor as malignant. This is because the curve for malignant tumors is much higher than the curve for benign tumors around a value of 25 -- and an algorithm that gets high accuracy is likely to make decisions based on this pattern in the data."
      ]
     },
     "metadata": {},
     "output_type": "display_data"
    }
   ],
   "source": [
    "# Check your answer (Run this code cell to receive credit!)\n",
    "step_4.b.solution()"
   ]
  },
  {
   "cell_type": "markdown",
   "id": "b4ff7830",
   "metadata": {
    "papermill": {
     "duration": 0.039896,
     "end_time": "2022-05-13T05:28:51.503714",
     "exception": false,
     "start_time": "2022-05-13T05:28:51.463818",
     "status": "completed"
    },
    "tags": []
   },
   "source": [
    "## Keep going\n",
    "\n",
    "Review all that you've learned and explore how to further customize your plots in the **[next tutorial](https://www.kaggle.com/alexisbcook/choosing-plot-types-and-custom-styles)**!"
   ]
  },
  {
   "cell_type": "markdown",
   "id": "77745b57",
   "metadata": {
    "papermill": {
     "duration": 0.039679,
     "end_time": "2022-05-13T05:28:51.583473",
     "exception": false,
     "start_time": "2022-05-13T05:28:51.543794",
     "status": "completed"
    },
    "tags": []
   },
   "source": [
    "---\n",
    "\n",
    "\n",
    "\n",
    "\n",
    "*Have questions or comments? Visit the [course discussion forum](https://www.kaggle.com/learn/data-visualization/discussion) to chat with other learners.*"
   ]
  }
 ],
 "metadata": {
  "kernelspec": {
   "display_name": "Python 3",
   "language": "python",
   "name": "python3"
  },
  "language_info": {
   "codemirror_mode": {
    "name": "ipython",
    "version": 3
   },
   "file_extension": ".py",
   "mimetype": "text/x-python",
   "name": "python",
   "nbconvert_exporter": "python",
   "pygments_lexer": "ipython3",
   "version": "3.7.12"
  },
  "papermill": {
   "default_parameters": {},
   "duration": 14.102998,
   "end_time": "2022-05-13T05:28:52.343605",
   "environment_variables": {},
   "exception": null,
   "input_path": "__notebook__.ipynb",
   "output_path": "__notebook__.ipynb",
   "parameters": {},
   "start_time": "2022-05-13T05:28:38.240607",
   "version": "2.3.4"
  }
 },
 "nbformat": 4,
 "nbformat_minor": 5
}
