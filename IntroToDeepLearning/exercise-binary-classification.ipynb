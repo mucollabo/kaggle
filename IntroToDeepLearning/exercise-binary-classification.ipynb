{
 "cells": [
  {
   "cell_type": "markdown",
   "id": "4990cd83",
   "metadata": {
    "papermill": {
     "duration": 0.004847,
     "end_time": "2024-08-09T09:40:43.945838",
     "exception": false,
     "start_time": "2024-08-09T09:40:43.940991",
     "status": "completed"
    },
    "tags": []
   },
   "source": [
    "**This notebook is an exercise in the [Intro to Deep Learning](https://www.kaggle.com/learn/intro-to-deep-learning) course.  You can reference the tutorial at [this link](https://www.kaggle.com/ryanholbrook/binary-classification).**\n",
    "\n",
    "---\n"
   ]
  },
  {
   "cell_type": "markdown",
   "id": "b1f6e0c8",
   "metadata": {
    "papermill": {
     "duration": 0.004066,
     "end_time": "2024-08-09T09:40:43.954427",
     "exception": false,
     "start_time": "2024-08-09T09:40:43.950361",
     "status": "completed"
    },
    "tags": []
   },
   "source": [
    "# Introduction #\n",
    "\n",
    "In this exercise, you'll build a model to predict hotel cancellations with a binary classifier."
   ]
  },
  {
   "cell_type": "code",
   "execution_count": 1,
   "id": "630845fe",
   "metadata": {
    "execution": {
     "iopub.execute_input": "2024-08-09T09:40:43.964833Z",
     "iopub.status.busy": "2024-08-09T09:40:43.964179Z",
     "iopub.status.idle": "2024-08-09T09:40:44.748228Z",
     "shell.execute_reply": "2024-08-09T09:40:44.747436Z"
    },
    "lines_to_next_cell": 0,
    "papermill": {
     "duration": 0.791887,
     "end_time": "2024-08-09T09:40:44.750493",
     "exception": false,
     "start_time": "2024-08-09T09:40:43.958606",
     "status": "completed"
    },
    "tags": []
   },
   "outputs": [
    {
     "name": "stderr",
     "output_type": "stream",
     "text": [
      "/tmp/ipykernel_26/3338970720.py:3: MatplotlibDeprecationWarning: The seaborn styles shipped by Matplotlib are deprecated since 3.6, as they no longer correspond to the styles shipped by seaborn. However, they will remain available as 'seaborn-v0_8-<style>'. Alternatively, directly use the seaborn API instead.\n",
      "  plt.style.use('seaborn-whitegrid')\n"
     ]
    }
   ],
   "source": [
    "# Setup plotting\n",
    "import matplotlib.pyplot as plt\n",
    "plt.style.use('seaborn-whitegrid')\n",
    "# Set Matplotlib defaults\n",
    "plt.rc('figure', autolayout=True)\n",
    "plt.rc('axes', labelweight='bold', labelsize='large',\n",
    "       titleweight='bold', titlesize=18, titlepad=10)\n",
    "plt.rc('animation', html='html5')\n",
    "\n",
    "# Setup feedback system\n",
    "from learntools.core import binder\n",
    "binder.bind(globals())\n",
    "from learntools.deep_learning_intro.ex6 import *"
   ]
  },
  {
   "cell_type": "markdown",
   "id": "4af0022d",
   "metadata": {
    "papermill": {
     "duration": 0.004259,
     "end_time": "2024-08-09T09:40:44.759516",
     "exception": false,
     "start_time": "2024-08-09T09:40:44.755257",
     "status": "completed"
    },
    "tags": []
   },
   "source": [
    "First, load the *Hotel Cancellations* dataset."
   ]
  },
  {
   "cell_type": "code",
   "execution_count": 2,
   "id": "faa522fd",
   "metadata": {
    "execution": {
     "iopub.execute_input": "2024-08-09T09:40:44.770209Z",
     "iopub.status.busy": "2024-08-09T09:40:44.769359Z",
     "iopub.status.idle": "2024-08-09T09:40:47.378975Z",
     "shell.execute_reply": "2024-08-09T09:40:47.377970Z"
    },
    "lines_to_next_cell": 2,
    "papermill": {
     "duration": 2.617464,
     "end_time": "2024-08-09T09:40:47.381352",
     "exception": false,
     "start_time": "2024-08-09T09:40:44.763888",
     "status": "completed"
    },
    "tags": []
   },
   "outputs": [],
   "source": [
    "import pandas as pd\n",
    "\n",
    "from sklearn.model_selection import train_test_split\n",
    "from sklearn.preprocessing import StandardScaler, OneHotEncoder\n",
    "from sklearn.impute import SimpleImputer\n",
    "from sklearn.pipeline import make_pipeline\n",
    "from sklearn.compose import make_column_transformer\n",
    "\n",
    "hotel = pd.read_csv('../input/dl-course-data/hotel.csv')\n",
    "\n",
    "X = hotel.copy()\n",
    "y = X.pop('is_canceled')\n",
    "\n",
    "X['arrival_date_month'] = \\\n",
    "    X['arrival_date_month'].map(\n",
    "        {'January':1, 'February': 2, 'March':3,\n",
    "         'April':4, 'May':5, 'June':6, 'July':7,\n",
    "         'August':8, 'September':9, 'October':10,\n",
    "         'November':11, 'December':12}\n",
    "    )\n",
    "\n",
    "features_num = [\n",
    "    \"lead_time\", \"arrival_date_week_number\",\n",
    "    \"arrival_date_day_of_month\", \"stays_in_weekend_nights\",\n",
    "    \"stays_in_week_nights\", \"adults\", \"children\", \"babies\",\n",
    "    \"is_repeated_guest\", \"previous_cancellations\",\n",
    "    \"previous_bookings_not_canceled\", \"required_car_parking_spaces\",\n",
    "    \"total_of_special_requests\", \"adr\",\n",
    "]\n",
    "features_cat = [\n",
    "    \"hotel\", \"arrival_date_month\", \"meal\",\n",
    "    \"market_segment\", \"distribution_channel\",\n",
    "    \"reserved_room_type\", \"deposit_type\", \"customer_type\",\n",
    "]\n",
    "\n",
    "transformer_num = make_pipeline(\n",
    "    SimpleImputer(strategy=\"constant\"), # there are a few missing values\n",
    "    StandardScaler(),\n",
    ")\n",
    "transformer_cat = make_pipeline(\n",
    "    SimpleImputer(strategy=\"constant\", fill_value=\"NA\"),\n",
    "    OneHotEncoder(handle_unknown='ignore'),\n",
    ")\n",
    "\n",
    "preprocessor = make_column_transformer(\n",
    "    (transformer_num, features_num),\n",
    "    (transformer_cat, features_cat),\n",
    ")\n",
    "\n",
    "# stratify - make sure classes are evenlly represented across splits\n",
    "X_train, X_valid, y_train, y_valid = \\\n",
    "    train_test_split(X, y, stratify=y, train_size=0.75)\n",
    "\n",
    "X_train = preprocessor.fit_transform(X_train)\n",
    "X_valid = preprocessor.transform(X_valid)\n",
    "\n",
    "input_shape = [X_train.shape[1]]"
   ]
  },
  {
   "cell_type": "markdown",
   "id": "16f89bfa",
   "metadata": {
    "papermill": {
     "duration": 0.004423,
     "end_time": "2024-08-09T09:40:47.390790",
     "exception": false,
     "start_time": "2024-08-09T09:40:47.386367",
     "status": "completed"
    },
    "tags": []
   },
   "source": [
    "# 1) Define Model #\n",
    "\n",
    "The model we'll use this time will have both batch normalization and dropout layers. To ease reading we've broken the diagram into blocks, but you can define it layer by layer as usual.\n",
    "\n",
    "Define a model with an architecture given by this diagram:\n",
    "\n",
    "<figure style=\"padding: 1em;\">\n",
    "<img src=\"https://storage.googleapis.com/kaggle-media/learn/images/V04o59Z.png\" width=\"400\" alt=\"Diagram of network architecture: BatchNorm, Dense, BatchNorm, Dropout, Dense, BatchNorm, Dropout, Dense.\">\n",
    "<figcaption style=\"textalign: center; font-style: italic\"><center>Diagram of a binary classifier.</center></figcaption>\n",
    "</figure>\n"
   ]
  },
  {
   "cell_type": "code",
   "execution_count": 3,
   "id": "5c32e89b",
   "metadata": {
    "execution": {
     "iopub.execute_input": "2024-08-09T09:40:47.401117Z",
     "iopub.status.busy": "2024-08-09T09:40:47.400526Z",
     "iopub.status.idle": "2024-08-09T09:41:00.694451Z",
     "shell.execute_reply": "2024-08-09T09:41:00.693527Z"
    },
    "lines_to_next_cell": 2,
    "papermill": {
     "duration": 13.318099,
     "end_time": "2024-08-09T09:41:00.713266",
     "exception": false,
     "start_time": "2024-08-09T09:40:47.395167",
     "status": "completed"
    },
    "tags": []
   },
   "outputs": [
    {
     "name": "stderr",
     "output_type": "stream",
     "text": [
      "2024-08-09 09:40:49.150407: E external/local_xla/xla/stream_executor/cuda/cuda_dnn.cc:9261] Unable to register cuDNN factory: Attempting to register factory for plugin cuDNN when one has already been registered\n",
      "2024-08-09 09:40:49.150517: E external/local_xla/xla/stream_executor/cuda/cuda_fft.cc:607] Unable to register cuFFT factory: Attempting to register factory for plugin cuFFT when one has already been registered\n",
      "2024-08-09 09:40:49.280084: E external/local_xla/xla/stream_executor/cuda/cuda_blas.cc:1515] Unable to register cuBLAS factory: Attempting to register factory for plugin cuBLAS when one has already been registered\n"
     ]
    },
    {
     "data": {
      "application/javascript": [
       "parent.postMessage({\"jupyterEvent\": \"custom.exercise_interaction\", \"data\": {\"outcomeType\": 1, \"valueTowardsCompletion\": 0.3333333333333333, \"interactionType\": 1, \"questionType\": 2, \"questionId\": \"1_Q1\", \"learnToolsVersion\": \"0.3.4\", \"failureMessage\": \"\", \"exceptionClass\": \"\", \"trace\": \"\"}}, \"*\")"
      ],
      "text/plain": [
       "<IPython.core.display.Javascript object>"
      ]
     },
     "metadata": {},
     "output_type": "display_data"
    },
    {
     "data": {
      "text/markdown": [
       "<span style=\"color:#33cc33\">Correct</span>"
      ],
      "text/plain": [
       "Correct"
      ]
     },
     "metadata": {},
     "output_type": "display_data"
    }
   ],
   "source": [
    "from tensorflow import keras\n",
    "from tensorflow.keras import layers\n",
    "\n",
    "# YOUR CODE HERE: define the model given in the diagram\n",
    "model = keras.Sequential([\n",
    "    layers.BatchNormalization(input_shape=input_shape),\n",
    "    layers.Dense(256, activation='relu'),\n",
    "    layers.BatchNormalization(),\n",
    "    layers.Dropout(0.3),\n",
    "    layers.Dense(256, activation='relu'),\n",
    "    layers.BatchNormalization(),\n",
    "    layers.Dropout(0.3),\n",
    "    layers.Dense(1, activation='sigmoid'),\n",
    "])\n",
    "\n",
    "# Check your answer\n",
    "q_1.check()"
   ]
  },
  {
   "cell_type": "markdown",
   "id": "f65d4b7f",
   "metadata": {
    "papermill": {
     "duration": 0.005178,
     "end_time": "2024-08-09T09:41:00.725950",
     "exception": false,
     "start_time": "2024-08-09T09:41:00.720772",
     "status": "completed"
    },
    "tags": []
   },
   "source": [
    "# 2) Add Optimizer, Loss, and Metric #\n",
    "\n",
    "Now compile the model with the Adam optimizer and binary versions of the cross-entropy loss and accuracy metric."
   ]
  },
  {
   "cell_type": "code",
   "execution_count": 4,
   "id": "7e6b2022",
   "metadata": {
    "execution": {
     "iopub.execute_input": "2024-08-09T09:41:00.737592Z",
     "iopub.status.busy": "2024-08-09T09:41:00.736742Z",
     "iopub.status.idle": "2024-08-09T09:41:00.760785Z",
     "shell.execute_reply": "2024-08-09T09:41:00.759876Z"
    },
    "lines_to_next_cell": 0,
    "papermill": {
     "duration": 0.032094,
     "end_time": "2024-08-09T09:41:00.762794",
     "exception": false,
     "start_time": "2024-08-09T09:41:00.730700",
     "status": "completed"
    },
    "tags": []
   },
   "outputs": [
    {
     "data": {
      "application/javascript": [
       "parent.postMessage({\"jupyterEvent\": \"custom.exercise_interaction\", \"data\": {\"outcomeType\": 1, \"valueTowardsCompletion\": 0.3333333333333333, \"interactionType\": 1, \"questionType\": 2, \"questionId\": \"2_Q2\", \"learnToolsVersion\": \"0.3.4\", \"failureMessage\": \"\", \"exceptionClass\": \"\", \"trace\": \"\"}}, \"*\")"
      ],
      "text/plain": [
       "<IPython.core.display.Javascript object>"
      ]
     },
     "metadata": {},
     "output_type": "display_data"
    },
    {
     "data": {
      "text/markdown": [
       "<span style=\"color:#33cc33\">Correct</span>"
      ],
      "text/plain": [
       "Correct"
      ]
     },
     "metadata": {},
     "output_type": "display_data"
    }
   ],
   "source": [
    "# YOUR CODE HERE\n",
    "model.compile(\n",
    "    optimizer='adam',\n",
    "    loss='binary_crossentropy',\n",
    "    metrics=['binary_accuracy'],\n",
    ")\n",
    "\n",
    "# Check your answer\n",
    "q_2.check()"
   ]
  },
  {
   "cell_type": "code",
   "execution_count": 5,
   "id": "a6a05295",
   "metadata": {
    "execution": {
     "iopub.execute_input": "2024-08-09T09:41:00.774886Z",
     "iopub.status.busy": "2024-08-09T09:41:00.774282Z",
     "iopub.status.idle": "2024-08-09T09:41:00.778028Z",
     "shell.execute_reply": "2024-08-09T09:41:00.777250Z"
    },
    "lines_to_next_cell": 0,
    "papermill": {
     "duration": 0.01166,
     "end_time": "2024-08-09T09:41:00.779865",
     "exception": false,
     "start_time": "2024-08-09T09:41:00.768205",
     "status": "completed"
    },
    "tags": []
   },
   "outputs": [],
   "source": [
    "# Lines below will give you a hint or solution code\n",
    "#q_2.hint()\n",
    "#q_2.solution()"
   ]
  },
  {
   "cell_type": "markdown",
   "id": "111b4e00",
   "metadata": {
    "papermill": {
     "duration": 0.005352,
     "end_time": "2024-08-09T09:41:00.791145",
     "exception": false,
     "start_time": "2024-08-09T09:41:00.785793",
     "status": "completed"
    },
    "tags": []
   },
   "source": [
    "Finally, run this cell to train the model and view the learning curves. It may run for around 60 to 70 epochs, which could take a minute or two."
   ]
  },
  {
   "cell_type": "code",
   "execution_count": 6,
   "id": "7ccb170a",
   "metadata": {
    "execution": {
     "iopub.execute_input": "2024-08-09T09:41:00.802972Z",
     "iopub.status.busy": "2024-08-09T09:41:00.802658Z",
     "iopub.status.idle": "2024-08-09T09:41:38.199553Z",
     "shell.execute_reply": "2024-08-09T09:41:38.198605Z"
    },
    "papermill": {
     "duration": 37.405314,
     "end_time": "2024-08-09T09:41:38.201542",
     "exception": false,
     "start_time": "2024-08-09T09:41:00.796228",
     "status": "completed"
    },
    "tags": []
   },
   "outputs": [
    {
     "name": "stdout",
     "output_type": "stream",
     "text": [
      "Epoch 1/200\n"
     ]
    },
    {
     "name": "stderr",
     "output_type": "stream",
     "text": [
      "WARNING: All log messages before absl::InitializeLog() is called are written to STDERR\n",
      "I0000 00:00:1723196465.212289      67 device_compiler.h:186] Compiled cluster using XLA!  This line is logged at most once for the lifetime of the process.\n"
     ]
    },
    {
     "name": "stdout",
     "output_type": "stream",
     "text": [
      "175/175 [==============================] - 6s 7ms/step - loss: 0.4824 - binary_accuracy: 0.7729 - val_loss: 0.4353 - val_binary_accuracy: 0.8033\n",
      "Epoch 2/200\n",
      "175/175 [==============================] - 1s 6ms/step - loss: 0.4230 - binary_accuracy: 0.8012 - val_loss: 0.4034 - val_binary_accuracy: 0.8151\n",
      "Epoch 3/200\n",
      "175/175 [==============================] - 1s 5ms/step - loss: 0.4096 - binary_accuracy: 0.8086 - val_loss: 0.3958 - val_binary_accuracy: 0.8174\n",
      "Epoch 4/200\n",
      "175/175 [==============================] - 1s 6ms/step - loss: 0.3994 - binary_accuracy: 0.8140 - val_loss: 0.3915 - val_binary_accuracy: 0.8194\n",
      "Epoch 5/200\n",
      "175/175 [==============================] - 1s 5ms/step - loss: 0.3954 - binary_accuracy: 0.8162 - val_loss: 0.3947 - val_binary_accuracy: 0.8199\n",
      "Epoch 6/200\n",
      "175/175 [==============================] - 1s 6ms/step - loss: 0.3924 - binary_accuracy: 0.8175 - val_loss: 0.3871 - val_binary_accuracy: 0.8220\n",
      "Epoch 7/200\n",
      "175/175 [==============================] - 1s 5ms/step - loss: 0.3879 - binary_accuracy: 0.8200 - val_loss: 0.3825 - val_binary_accuracy: 0.8256\n",
      "Epoch 8/200\n",
      "175/175 [==============================] - 1s 5ms/step - loss: 0.3834 - binary_accuracy: 0.8221 - val_loss: 0.3798 - val_binary_accuracy: 0.8243\n",
      "Epoch 9/200\n",
      "175/175 [==============================] - 1s 5ms/step - loss: 0.3822 - binary_accuracy: 0.8232 - val_loss: 0.3770 - val_binary_accuracy: 0.8253\n",
      "Epoch 10/200\n",
      "175/175 [==============================] - 1s 5ms/step - loss: 0.3778 - binary_accuracy: 0.8250 - val_loss: 0.3761 - val_binary_accuracy: 0.8289\n",
      "Epoch 11/200\n",
      "175/175 [==============================] - 1s 5ms/step - loss: 0.3746 - binary_accuracy: 0.8268 - val_loss: 0.3749 - val_binary_accuracy: 0.8288\n",
      "Epoch 12/200\n",
      "175/175 [==============================] - 1s 5ms/step - loss: 0.3736 - binary_accuracy: 0.8271 - val_loss: 0.3739 - val_binary_accuracy: 0.8288\n",
      "Epoch 13/200\n",
      "175/175 [==============================] - 1s 5ms/step - loss: 0.3711 - binary_accuracy: 0.8289 - val_loss: 0.3746 - val_binary_accuracy: 0.8288\n",
      "Epoch 14/200\n",
      "175/175 [==============================] - 1s 5ms/step - loss: 0.3684 - binary_accuracy: 0.8305 - val_loss: 0.3673 - val_binary_accuracy: 0.8320\n",
      "Epoch 15/200\n",
      "175/175 [==============================] - 1s 6ms/step - loss: 0.3672 - binary_accuracy: 0.8310 - val_loss: 0.3686 - val_binary_accuracy: 0.8299\n",
      "Epoch 16/200\n",
      "175/175 [==============================] - 1s 5ms/step - loss: 0.3649 - binary_accuracy: 0.8327 - val_loss: 0.3667 - val_binary_accuracy: 0.8333\n",
      "Epoch 17/200\n",
      "175/175 [==============================] - 1s 5ms/step - loss: 0.3640 - binary_accuracy: 0.8321 - val_loss: 0.3663 - val_binary_accuracy: 0.8316\n",
      "Epoch 18/200\n",
      "175/175 [==============================] - 1s 5ms/step - loss: 0.3630 - binary_accuracy: 0.8320 - val_loss: 0.3659 - val_binary_accuracy: 0.8342\n",
      "Epoch 19/200\n",
      "175/175 [==============================] - 1s 5ms/step - loss: 0.3606 - binary_accuracy: 0.8335 - val_loss: 0.3652 - val_binary_accuracy: 0.8313\n",
      "Epoch 20/200\n",
      "175/175 [==============================] - 1s 5ms/step - loss: 0.3582 - binary_accuracy: 0.8341 - val_loss: 0.3616 - val_binary_accuracy: 0.8328\n",
      "Epoch 21/200\n",
      "175/175 [==============================] - 1s 5ms/step - loss: 0.3569 - binary_accuracy: 0.8348 - val_loss: 0.3618 - val_binary_accuracy: 0.8336\n",
      "Epoch 22/200\n",
      "175/175 [==============================] - 1s 5ms/step - loss: 0.3569 - binary_accuracy: 0.8357 - val_loss: 0.3597 - val_binary_accuracy: 0.8342\n",
      "Epoch 23/200\n",
      "175/175 [==============================] - 1s 6ms/step - loss: 0.3552 - binary_accuracy: 0.8357 - val_loss: 0.3602 - val_binary_accuracy: 0.8373\n",
      "Epoch 24/200\n",
      "175/175 [==============================] - 1s 5ms/step - loss: 0.3543 - binary_accuracy: 0.8363 - val_loss: 0.3619 - val_binary_accuracy: 0.8341\n",
      "Epoch 25/200\n",
      "175/175 [==============================] - 1s 6ms/step - loss: 0.3529 - binary_accuracy: 0.8368 - val_loss: 0.3593 - val_binary_accuracy: 0.8341\n",
      "Epoch 26/200\n",
      "175/175 [==============================] - 1s 5ms/step - loss: 0.3513 - binary_accuracy: 0.8366 - val_loss: 0.3584 - val_binary_accuracy: 0.8350\n",
      "Epoch 27/200\n",
      "175/175 [==============================] - 1s 5ms/step - loss: 0.3501 - binary_accuracy: 0.8382 - val_loss: 0.3568 - val_binary_accuracy: 0.8354\n",
      "Epoch 28/200\n",
      "175/175 [==============================] - 1s 5ms/step - loss: 0.3493 - binary_accuracy: 0.8383 - val_loss: 0.3600 - val_binary_accuracy: 0.8345\n",
      "Epoch 29/200\n",
      "175/175 [==============================] - 1s 6ms/step - loss: 0.3481 - binary_accuracy: 0.8400 - val_loss: 0.3585 - val_binary_accuracy: 0.8355\n",
      "Epoch 30/200\n",
      "175/175 [==============================] - 1s 6ms/step - loss: 0.3475 - binary_accuracy: 0.8405 - val_loss: 0.3559 - val_binary_accuracy: 0.8360\n",
      "Epoch 31/200\n",
      "175/175 [==============================] - 1s 5ms/step - loss: 0.3473 - binary_accuracy: 0.8391 - val_loss: 0.3562 - val_binary_accuracy: 0.8347\n",
      "Epoch 32/200\n",
      "175/175 [==============================] - 1s 5ms/step - loss: 0.3457 - binary_accuracy: 0.8394 - val_loss: 0.3583 - val_binary_accuracy: 0.8336\n"
     ]
    },
    {
     "data": {
      "text/plain": [
       "<Axes: title={'center': 'Accuracy'}>"
      ]
     },
     "execution_count": 6,
     "metadata": {},
     "output_type": "execute_result"
    },
    {
     "data": {
      "image/png": "[encoded data removed]",
      "text/plain": [
       "<Figure size 640x480 with 1 Axes>"
      ]
     },
     "metadata": {},
     "output_type": "display_data"
    },
    {
     "data": {
      "image/png": "[encoded data removed]",
      "text/plain": [
       "<Figure size 640x480 with 1 Axes>"
      ]
     },
     "metadata": {},
     "output_type": "display_data"
    }
   ],
   "source": [
    "early_stopping = keras.callbacks.EarlyStopping(\n",
    "    patience=5,\n",
    "    min_delta=0.001,\n",
    "    restore_best_weights=True,\n",
    ")\n",
    "history = model.fit(\n",
    "    X_train, y_train,\n",
    "    validation_data=(X_valid, y_valid),\n",
    "    batch_size=512,\n",
    "    epochs=200,\n",
    "    callbacks=[early_stopping],\n",
    ")\n",
    "\n",
    "history_df = pd.DataFrame(history.history)\n",
    "history_df.loc[:, ['loss', 'val_loss']].plot(title=\"Cross-entropy\")\n",
    "history_df.loc[:, ['binary_accuracy', 'val_binary_accuracy']].plot(title=\"Accuracy\")"
   ]
  },
  {
   "cell_type": "markdown",
   "id": "9acf5a3a",
   "metadata": {
    "papermill": {
     "duration": 0.052066,
     "end_time": "2024-08-09T09:41:38.307226",
     "exception": false,
     "start_time": "2024-08-09T09:41:38.255160",
     "status": "completed"
    },
    "tags": []
   },
   "source": [
    "# 3) Train and Evaluate #\n",
    "\n",
    "\n",
    "What do you think about the learning curves? Does it look like the model underfit or overfit? Was the cross-entropy loss a good stand-in for accuracy?"
   ]
  },
  {
   "cell_type": "code",
   "execution_count": 7,
   "id": "58a579dc",
   "metadata": {
    "execution": {
     "iopub.execute_input": "2024-08-09T09:41:38.413446Z",
     "iopub.status.busy": "2024-08-09T09:41:38.412759Z",
     "iopub.status.idle": "2024-08-09T09:41:38.420475Z",
     "shell.execute_reply": "2024-08-09T09:41:38.419586Z"
    },
    "papermill": {
     "duration": 0.062977,
     "end_time": "2024-08-09T09:41:38.422270",
     "exception": false,
     "start_time": "2024-08-09T09:41:38.359293",
     "status": "completed"
    },
    "tags": []
   },
   "outputs": [
    {
     "data": {
      "application/javascript": [
       "parent.postMessage({\"jupyterEvent\": \"custom.exercise_interaction\", \"data\": {\"outcomeType\": 1, \"valueTowardsCompletion\": 0.3333333333333333, \"interactionType\": 1, \"questionType\": 4, \"questionId\": \"3_Q3\", \"learnToolsVersion\": \"0.3.4\", \"failureMessage\": \"\", \"exceptionClass\": \"\", \"trace\": \"\"}}, \"*\")"
      ],
      "text/plain": [
       "<IPython.core.display.Javascript object>"
      ]
     },
     "metadata": {},
     "output_type": "display_data"
    },
    {
     "data": {
      "text/markdown": [
       "<span style=\"color:#33cc33\">Correct:</span> \n",
       "\n",
       "Though we can see the training loss continuing to fall, the early stopping callback prevented any overfitting. Moreover, the accuracy rose at the same rate as the cross-entropy fell, so it appears that minimizing cross-entropy was a good stand-in. All in all, it looks like this training was a success!"
      ],
      "text/plain": [
       "Correct: \n",
       "\n",
       "Though we can see the training loss continuing to fall, the early stopping callback prevented any overfitting. Moreover, the accuracy rose at the same rate as the cross-entropy fell, so it appears that minimizing cross-entropy was a good stand-in. All in all, it looks like this training was a success!"
      ]
     },
     "metadata": {},
     "output_type": "display_data"
    }
   ],
   "source": [
    "# View the solution (Run this cell to receive credit!)\n",
    "q_3.check()"
   ]
  },
  {
   "cell_type": "markdown",
   "id": "1991fc9b",
   "metadata": {
    "papermill": {
     "duration": 0.051629,
     "end_time": "2024-08-09T09:41:38.525914",
     "exception": false,
     "start_time": "2024-08-09T09:41:38.474285",
     "status": "completed"
    },
    "tags": []
   },
   "source": [
    "# Conclusion #\n",
    "\n",
    "Congratulations! You've completed Kaggle's *Introduction to Deep Learning* course!\n",
    "\n",
    "With your new skills you're ready to take on more advanced applications like computer vision and sentiment classification. What would you like to do next?\n",
    "\n",
    "Why not try one of our *Getting Started* competitions?\n",
    "\n",
    "- Classify images with TPUs in [**Petals to the Metal**](https://www.kaggle.com/c/tpu-getting-started)\n",
    "- Create art with GANs in [**I'm Something of a Painter Myself**](https://www.kaggle.com/c/gan-getting-started)\n",
    "- Classify Tweets in [**Real or Not? NLP with Disaster Tweets**](https://www.kaggle.com/c/nlp-getting-started)\n",
    "- Detect contradiction and entailment in [**Contradictory, My Dear Watson**](https://www.kaggle.com/c/contradictory-my-dear-watson)\n",
    "\n",
    "Until next time, Kagglers!"
   ]
  },
  {
   "cell_type": "markdown",
   "id": "afdf6484",
   "metadata": {
    "papermill": {
     "duration": 0.051545,
     "end_time": "2024-08-09T09:41:38.629690",
     "exception": false,
     "start_time": "2024-08-09T09:41:38.578145",
     "status": "completed"
    },
    "tags": []
   },
   "source": [
    "---\n",
    "\n",
    "\n",
    "\n",
    "\n",
    "*Have questions or comments? Visit the [course discussion forum](https://www.kaggle.com/learn/intro-to-deep-learning/discussion) to chat with other learners.*"
   ]
  }
 ],
 "metadata": {
  "jupytext": {
   "cell_metadata_filter": "-all",
   "formats": "ipynb"
  },
  "kaggle": {
   "accelerator": "gpu",
   "dataSources": [
    {
     "datasetId": 829369,
     "sourceId": 1480608,
     "sourceType": "datasetVersion"
    }
   ],
   "dockerImageVersionId": 30648,
   "isGpuEnabled": true,
   "isInternetEnabled": false,
   "language": "python",
   "sourceType": "notebook"
  },
  "kernelspec": {
   "display_name": "Python 3",
   "language": "python",
   "name": "python3"
  },
  "language_info": {
   "codemirror_mode": {
    "name": "ipython",
    "version": 3
   },
   "file_extension": ".py",
   "mimetype": "text/x-python",
   "name": "python",
   "nbconvert_exporter": "python",
   "pygments_lexer": "ipython3",
   "version": "3.10.13"
  },
  "papermill": {
   "default_parameters": {},
   "duration": 60.222593,
   "end_time": "2024-08-09T09:41:41.413881",
   "environment_variables": {},
   "exception": null,
   "input_path": "__notebook__.ipynb",
   "output_path": "__notebook__.ipynb",
   "parameters": {},
   "start_time": "2024-08-09T09:40:41.191288",
   "version": "2.5.0"
  }
 },
 "nbformat": 4,
 "nbformat_minor": 5
}
