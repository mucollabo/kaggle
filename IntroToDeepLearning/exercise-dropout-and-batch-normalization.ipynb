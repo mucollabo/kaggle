{
 "cells": [
  {
   "cell_type": "markdown",
   "id": "b17cdb8f",
   "metadata": {
    "papermill": {
     "duration": 0.006602,
     "end_time": "2024-06-10T10:59:39.775001",
     "exception": false,
     "start_time": "2024-06-10T10:59:39.768399",
     "status": "completed"
    },
    "tags": []
   },
   "source": [
    "**This notebook is an exercise in the [Intro to Deep Learning](https://www.kaggle.com/learn/intro-to-deep-learning) course.  You can reference the tutorial at [this link](https://www.kaggle.com/ryanholbrook/dropout-and-batch-normalization).**\n",
    "\n",
    "---\n"
   ]
  },
  {
   "cell_type": "markdown",
   "id": "c93149c2",
   "metadata": {
    "papermill": {
     "duration": 0.005695,
     "end_time": "2024-06-10T10:59:39.786802",
     "exception": false,
     "start_time": "2024-06-10T10:59:39.781107",
     "status": "completed"
    },
    "tags": []
   },
   "source": [
    "# Introduction #\n",
    "\n",
    "In this exercise, you'll add dropout to the *Spotify* model from Exercise 4 and see how batch normalization can let you successfully train models on difficult datasets.\n",
    "\n",
    "Run the next cell to get started!"
   ]
  },
  {
   "cell_type": "code",
   "execution_count": 1,
   "id": "590e4e7f",
   "metadata": {
    "execution": {
     "iopub.execute_input": "2024-06-10T10:59:39.800585Z",
     "iopub.status.busy": "2024-06-10T10:59:39.799819Z",
     "iopub.status.idle": "2024-06-10T10:59:40.563575Z",
     "shell.execute_reply": "2024-06-10T10:59:40.562821Z"
    },
    "papermill": {
     "duration": 0.773127,
     "end_time": "2024-06-10T10:59:40.565890",
     "exception": false,
     "start_time": "2024-06-10T10:59:39.792763",
     "status": "completed"
    },
    "tags": []
   },
   "outputs": [
    {
     "name": "stderr",
     "output_type": "stream",
     "text": [
      "/tmp/ipykernel_26/195640296.py:3: MatplotlibDeprecationWarning: The seaborn styles shipped by Matplotlib are deprecated since 3.6, as they no longer correspond to the styles shipped by seaborn. However, they will remain available as 'seaborn-v0_8-<style>'. Alternatively, directly use the seaborn API instead.\n",
      "  plt.style.use('seaborn-whitegrid')\n"
     ]
    }
   ],
   "source": [
    "# Setup plotting\n",
    "import matplotlib.pyplot as plt\n",
    "plt.style.use('seaborn-whitegrid')\n",
    "# Set Matplotlib defaults\n",
    "plt.rc('figure', autolayout=True)\n",
    "plt.rc('axes', labelweight='bold', labelsize='large',\n",
    "       titleweight='bold', titlesize=18, titlepad=10)\n",
    "plt.rc('animation', html='html5')\n",
    "\n",
    "# Setup feedback system\n",
    "from learntools.core import binder\n",
    "binder.bind(globals())\n",
    "from learntools.deep_learning_intro.ex5 import *"
   ]
  },
  {
   "cell_type": "markdown",
   "id": "48e195c1",
   "metadata": {
    "papermill": {
     "duration": 0.005936,
     "end_time": "2024-06-10T10:59:40.578231",
     "exception": false,
     "start_time": "2024-06-10T10:59:40.572295",
     "status": "completed"
    },
    "tags": []
   },
   "source": [
    "First load the *Spotify* dataset."
   ]
  },
  {
   "cell_type": "code",
   "execution_count": 2,
   "id": "132c8c48",
   "metadata": {
    "execution": {
     "iopub.execute_input": "2024-06-10T10:59:40.591810Z",
     "iopub.status.busy": "2024-06-10T10:59:40.591033Z",
     "iopub.status.idle": "2024-06-10T10:59:54.209982Z",
     "shell.execute_reply": "2024-06-10T10:59:54.208874Z"
    },
    "papermill": {
     "duration": 13.628567,
     "end_time": "2024-06-10T10:59:54.212747",
     "exception": false,
     "start_time": "2024-06-10T10:59:40.584180",
     "status": "completed"
    },
    "tags": []
   },
   "outputs": [
    {
     "name": "stderr",
     "output_type": "stream",
     "text": [
      "2024-06-10 10:59:43.341488: E external/local_xla/xla/stream_executor/cuda/cuda_dnn.cc:9261] Unable to register cuDNN factory: Attempting to register factory for plugin cuDNN when one has already been registered\n",
      "2024-06-10 10:59:43.341579: E external/local_xla/xla/stream_executor/cuda/cuda_fft.cc:607] Unable to register cuFFT factory: Attempting to register factory for plugin cuFFT when one has already been registered\n",
      "2024-06-10 10:59:43.464016: E external/local_xla/xla/stream_executor/cuda/cuda_blas.cc:1515] Unable to register cuBLAS factory: Attempting to register factory for plugin cuBLAS when one has already been registered\n"
     ]
    },
    {
     "name": "stdout",
     "output_type": "stream",
     "text": [
      "Input shape: [18]\n"
     ]
    }
   ],
   "source": [
    "import pandas as pd\n",
    "from sklearn.preprocessing import StandardScaler, OneHotEncoder\n",
    "from sklearn.compose import make_column_transformer\n",
    "from sklearn.model_selection import GroupShuffleSplit\n",
    "\n",
    "from tensorflow import keras\n",
    "from tensorflow.keras import layers\n",
    "from tensorflow.keras import callbacks\n",
    "\n",
    "spotify = pd.read_csv('../input/dl-course-data/spotify.csv')\n",
    "\n",
    "X = spotify.copy().dropna()\n",
    "y = X.pop('track_popularity')\n",
    "artists = X['track_artist']\n",
    "\n",
    "features_num = ['danceability', 'energy', 'key', 'loudness', 'mode',\n",
    "                'speechiness', 'acousticness', 'instrumentalness',\n",
    "                'liveness', 'valence', 'tempo', 'duration_ms']\n",
    "features_cat = ['playlist_genre']\n",
    "\n",
    "preprocessor = make_column_transformer(\n",
    "    (StandardScaler(), features_num),\n",
    "    (OneHotEncoder(), features_cat),\n",
    ")\n",
    "\n",
    "def group_split(X, y, group, train_size=0.75):\n",
    "    splitter = GroupShuffleSplit(train_size=train_size)\n",
    "    train, test = next(splitter.split(X, y, groups=group))\n",
    "    return (X.iloc[train], X.iloc[test], y.iloc[train], y.iloc[test])\n",
    "\n",
    "X_train, X_valid, y_train, y_valid = group_split(X, y, artists)\n",
    "\n",
    "X_train = preprocessor.fit_transform(X_train)\n",
    "X_valid = preprocessor.transform(X_valid)\n",
    "y_train = y_train / 100\n",
    "y_valid = y_valid / 100\n",
    "\n",
    "input_shape = [X_train.shape[1]]\n",
    "print(\"Input shape: {}\".format(input_shape))"
   ]
  },
  {
   "cell_type": "markdown",
   "id": "6080c57a",
   "metadata": {
    "papermill": {
     "duration": 0.006134,
     "end_time": "2024-06-10T10:59:54.238569",
     "exception": false,
     "start_time": "2024-06-10T10:59:54.232435",
     "status": "completed"
    },
    "tags": []
   },
   "source": [
    "# 1) Add Dropout to Spotify Model\n",
    "\n",
    "Here is the last model from Exercise 4. Add two dropout layers, one after the `Dense` layer with 128 units, and one after the `Dense` layer with 64 units. Set the dropout rate on both to `0.3`."
   ]
  },
  {
   "cell_type": "code",
   "execution_count": 3,
   "id": "a8a4e4d8",
   "metadata": {
    "execution": {
     "iopub.execute_input": "2024-06-10T10:59:54.253431Z",
     "iopub.status.busy": "2024-06-10T10:59:54.252549Z",
     "iopub.status.idle": "2024-06-10T10:59:54.992796Z",
     "shell.execute_reply": "2024-06-10T10:59:54.991967Z"
    },
    "lines_to_next_cell": 2,
    "papermill": {
     "duration": 0.749827,
     "end_time": "2024-06-10T10:59:54.995076",
     "exception": false,
     "start_time": "2024-06-10T10:59:54.245249",
     "status": "completed"
    },
    "tags": []
   },
   "outputs": [
    {
     "data": {
      "application/javascript": [
       "parent.postMessage({\"jupyterEvent\": \"custom.exercise_interaction\", \"data\": {\"outcomeType\": 1, \"valueTowardsCompletion\": 0.25, \"interactionType\": 1, \"questionType\": 2, \"questionId\": \"1_Q1\", \"learnToolsVersion\": \"0.3.4\", \"failureMessage\": \"\", \"exceptionClass\": \"\", \"trace\": \"\"}}, \"*\")"
      ],
      "text/plain": [
       "<IPython.core.display.Javascript object>"
      ]
     },
     "metadata": {},
     "output_type": "display_data"
    },
    {
     "data": {
      "text/markdown": [
       "<span style=\"color:#33cc33\">Correct</span>"
      ],
      "text/plain": [
       "Correct"
      ]
     },
     "metadata": {},
     "output_type": "display_data"
    }
   ],
   "source": [
    "# YOUR CODE HERE: Add two 30% dropout layers, one after 128 and one after 64\n",
    "model = keras.Sequential([\n",
    "    layers.Dense(128, activation='relu', input_shape=input_shape),\n",
    "    layers.Dropout(rate=0.3),\n",
    "    layers.Dense(64, activation='relu'),\n",
    "    layers.Dropout(rate=0.3),\n",
    "    layers.Dense(1)\n",
    "])\n",
    "\n",
    "# Check your answer\n",
    "q_1.check()"
   ]
  },
  {
   "cell_type": "code",
   "execution_count": 4,
   "id": "38757806",
   "metadata": {
    "execution": {
     "iopub.execute_input": "2024-06-10T10:59:55.009997Z",
     "iopub.status.busy": "2024-06-10T10:59:55.009423Z",
     "iopub.status.idle": "2024-06-10T10:59:55.013124Z",
     "shell.execute_reply": "2024-06-10T10:59:55.012219Z"
    },
    "papermill": {
     "duration": 0.013163,
     "end_time": "2024-06-10T10:59:55.015103",
     "exception": false,
     "start_time": "2024-06-10T10:59:55.001940",
     "status": "completed"
    },
    "tags": []
   },
   "outputs": [],
   "source": [
    "# Lines below will give you a hint or solution code\n",
    "#q_1.hint()\n",
    "#q_1.solution()"
   ]
  },
  {
   "cell_type": "markdown",
   "id": "57416357",
   "metadata": {
    "papermill": {
     "duration": 0.006272,
     "end_time": "2024-06-10T10:59:55.027970",
     "exception": false,
     "start_time": "2024-06-10T10:59:55.021698",
     "status": "completed"
    },
    "tags": []
   },
   "source": [
    "Now run this next cell to train the model see the effect of adding dropout."
   ]
  },
  {
   "cell_type": "code",
   "execution_count": 5,
   "id": "42f3ae2d",
   "metadata": {
    "execution": {
     "iopub.execute_input": "2024-06-10T10:59:55.042994Z",
     "iopub.status.busy": "2024-06-10T10:59:55.042686Z",
     "iopub.status.idle": "2024-06-10T11:00:06.505609Z",
     "shell.execute_reply": "2024-06-10T11:00:06.504749Z"
    },
    "papermill": {
     "duration": 11.473225,
     "end_time": "2024-06-10T11:00:06.507612",
     "exception": false,
     "start_time": "2024-06-10T10:59:55.034387",
     "status": "completed"
    },
    "tags": []
   },
   "outputs": [
    {
     "name": "stderr",
     "output_type": "stream",
     "text": [
      "WARNING: All log messages before absl::InitializeLog() is called are written to STDERR\n",
      "I0000 00:00:1718017197.459585      69 device_compiler.h:186] Compiled cluster using XLA!  This line is logged at most once for the lifetime of the process.\n"
     ]
    },
    {
     "name": "stdout",
     "output_type": "stream",
     "text": [
      "Minimum Validation Loss: 0.1906\n"
     ]
    },
    {
     "data": {
      "image/png": "[encoded data removed]",
      "text/plain": [
       "<Figure size 640x480 with 1 Axes>"
      ]
     },
     "metadata": {},
     "output_type": "display_data"
    }
   ],
   "source": [
    "model.compile(\n",
    "    optimizer='adam',\n",
    "    loss='mae',\n",
    ")\n",
    "history = model.fit(\n",
    "    X_train, y_train,\n",
    "    validation_data=(X_valid, y_valid),\n",
    "    batch_size=512,\n",
    "    epochs=50,\n",
    "    verbose=0,\n",
    ")\n",
    "history_df = pd.DataFrame(history.history)\n",
    "history_df.loc[:, ['loss', 'val_loss']].plot()\n",
    "print(\"Minimum Validation Loss: {:0.4f}\".format(history_df['val_loss'].min()))"
   ]
  },
  {
   "cell_type": "markdown",
   "id": "e782a928",
   "metadata": {
    "papermill": {
     "duration": 0.006961,
     "end_time": "2024-06-10T11:00:06.521888",
     "exception": false,
     "start_time": "2024-06-10T11:00:06.514927",
     "status": "completed"
    },
    "tags": []
   },
   "source": [
    "# 2) Evaluate Dropout\n",
    "\n",
    "Recall from Exercise 4 that this model tended to overfit the data around epoch 5. Did adding dropout seem to help prevent overfitting this time?"
   ]
  },
  {
   "cell_type": "code",
   "execution_count": 6,
   "id": "163a39f5",
   "metadata": {
    "execution": {
     "iopub.execute_input": "2024-06-10T11:00:06.537341Z",
     "iopub.status.busy": "2024-06-10T11:00:06.537065Z",
     "iopub.status.idle": "2024-06-10T11:00:06.544234Z",
     "shell.execute_reply": "2024-06-10T11:00:06.543404Z"
    },
    "papermill": {
     "duration": 0.016933,
     "end_time": "2024-06-10T11:00:06.546017",
     "exception": false,
     "start_time": "2024-06-10T11:00:06.529084",
     "status": "completed"
    },
    "tags": []
   },
   "outputs": [
    {
     "data": {
      "application/javascript": [
       "parent.postMessage({\"jupyterEvent\": \"custom.exercise_interaction\", \"data\": {\"outcomeType\": 1, \"valueTowardsCompletion\": 0.25, \"interactionType\": 1, \"questionType\": 4, \"questionId\": \"2_Q2\", \"learnToolsVersion\": \"0.3.4\", \"failureMessage\": \"\", \"exceptionClass\": \"\", \"trace\": \"\"}}, \"*\")"
      ],
      "text/plain": [
       "<IPython.core.display.Javascript object>"
      ]
     },
     "metadata": {},
     "output_type": "display_data"
    },
    {
     "data": {
      "text/markdown": [
       "<span style=\"color:#33cc33\">Correct:</span> \n",
       "\n",
       "\n",
       "From the learning curves, you can see that the validation loss remains near a constant minimum even though the training loss continues to decrease. So we can see that adding dropout did prevent overfitting this time. Moreover, by making it harder for the network to fit spurious patterns, dropout may have encouraged the network to seek out more of the true patterns, possibly improving the validation loss some as well).\n"
      ],
      "text/plain": [
       "Correct: \n",
       "\n",
       "\n",
       "From the learning curves, you can see that the validation loss remains near a constant minimum even though the training loss continues to decrease. So we can see that adding dropout did prevent overfitting this time. Moreover, by making it harder for the network to fit spurious patterns, dropout may have encouraged the network to seek out more of the true patterns, possibly improving the validation loss some as well)."
      ]
     },
     "metadata": {},
     "output_type": "display_data"
    }
   ],
   "source": [
    "# View the solution (Run this cell to receive credit!)\n",
    "q_2.check()"
   ]
  },
  {
   "cell_type": "markdown",
   "id": "16fd636f",
   "metadata": {
    "papermill": {
     "duration": 0.007178,
     "end_time": "2024-06-10T11:00:06.560793",
     "exception": false,
     "start_time": "2024-06-10T11:00:06.553615",
     "status": "completed"
    },
    "tags": []
   },
   "source": [
    "Now, we'll switch topics to explore how batch normalization can fix problems in training.\n",
    "\n",
    "Load the *Concrete* dataset. We won't do any standardization this time. This will make the effect of batch normalization much more apparent."
   ]
  },
  {
   "cell_type": "code",
   "execution_count": 7,
   "id": "a5a68b04",
   "metadata": {
    "execution": {
     "iopub.execute_input": "2024-06-10T11:00:06.576657Z",
     "iopub.status.busy": "2024-06-10T11:00:06.576413Z",
     "iopub.status.idle": "2024-06-10T11:00:06.594589Z",
     "shell.execute_reply": "2024-06-10T11:00:06.593943Z"
    },
    "papermill": {
     "duration": 0.028011,
     "end_time": "2024-06-10T11:00:06.596297",
     "exception": false,
     "start_time": "2024-06-10T11:00:06.568286",
     "status": "completed"
    },
    "tags": []
   },
   "outputs": [],
   "source": [
    "import pandas as pd\n",
    "\n",
    "concrete = pd.read_csv('../input/dl-course-data/concrete.csv')\n",
    "df = concrete.copy()\n",
    "\n",
    "df_train = df.sample(frac=0.7, random_state=0)\n",
    "df_valid = df.drop(df_train.index)\n",
    "\n",
    "X_train = df_train.drop('CompressiveStrength', axis=1)\n",
    "X_valid = df_valid.drop('CompressiveStrength', axis=1)\n",
    "y_train = df_train['CompressiveStrength']\n",
    "y_valid = df_valid['CompressiveStrength']\n",
    "\n",
    "input_shape = [X_train.shape[1]]"
   ]
  },
  {
   "cell_type": "markdown",
   "id": "a427d672",
   "metadata": {
    "papermill": {
     "duration": 0.007261,
     "end_time": "2024-06-10T11:00:06.610967",
     "exception": false,
     "start_time": "2024-06-10T11:00:06.603706",
     "status": "completed"
    },
    "tags": []
   },
   "source": [
    "Run the following cell to train the network on the unstandardized *Concrete* data."
   ]
  },
  {
   "cell_type": "code",
   "execution_count": 8,
   "id": "cf6bdd2c",
   "metadata": {
    "execution": {
     "iopub.execute_input": "2024-06-10T11:00:06.627442Z",
     "iopub.status.busy": "2024-06-10T11:00:06.627191Z",
     "iopub.status.idle": "2024-06-10T11:00:13.899680Z",
     "shell.execute_reply": "2024-06-10T11:00:13.898836Z"
    },
    "papermill": {
     "duration": 7.282724,
     "end_time": "2024-06-10T11:00:13.901677",
     "exception": false,
     "start_time": "2024-06-10T11:00:06.618953",
     "status": "completed"
    },
    "tags": []
   },
   "outputs": [
    {
     "name": "stdout",
     "output_type": "stream",
     "text": [
      "Minimum Validation Loss: nan\n"
     ]
    },
    {
     "data": {
      "image/png": "[encoded data removed]",
      "text/plain": [
       "<Figure size 640x480 with 1 Axes>"
      ]
     },
     "metadata": {},
     "output_type": "display_data"
    }
   ],
   "source": [
    "model = keras.Sequential([\n",
    "    layers.Dense(512, activation='relu', input_shape=input_shape),\n",
    "    layers.Dense(512, activation='relu'),    \n",
    "    layers.Dense(512, activation='relu'),\n",
    "    layers.Dense(1),\n",
    "])\n",
    "model.compile(\n",
    "    optimizer='sgd', # SGD is more sensitive to differences of scale\n",
    "    loss='mae',\n",
    "    metrics=['mae'],\n",
    ")\n",
    "history = model.fit(\n",
    "    X_train, y_train,\n",
    "    validation_data=(X_valid, y_valid),\n",
    "    batch_size=64,\n",
    "    epochs=100,\n",
    "    verbose=0,\n",
    ")\n",
    "\n",
    "history_df = pd.DataFrame(history.history)\n",
    "history_df.loc[0:, ['loss', 'val_loss']].plot()\n",
    "print((\"Minimum Validation Loss: {:0.4f}\").format(history_df['val_loss'].min()))"
   ]
  },
  {
   "cell_type": "markdown",
   "id": "1e873ffa",
   "metadata": {
    "papermill": {
     "duration": 0.007581,
     "end_time": "2024-06-10T11:00:13.917260",
     "exception": false,
     "start_time": "2024-06-10T11:00:13.909679",
     "status": "completed"
    },
    "tags": []
   },
   "source": [
    "Did you end up with a blank graph? Trying to train this network on this dataset will usually fail. Even when it does converge (due to a lucky weight initialization), it tends to converge to a very large number.\n",
    "\n",
    "# 3) Add Batch Normalization Layers\n",
    "\n",
    "Batch normalization can help correct problems like this.\n",
    "\n",
    "Add four `BatchNormalization` layers, one before each of the dense layers. (Remember to move the `input_shape` argument to the new first layer.)"
   ]
  },
  {
   "cell_type": "code",
   "execution_count": 9,
   "id": "116da1e4",
   "metadata": {
    "execution": {
     "iopub.execute_input": "2024-06-10T11:00:13.934154Z",
     "iopub.status.busy": "2024-06-10T11:00:13.933864Z",
     "iopub.status.idle": "2024-06-10T11:00:14.059931Z",
     "shell.execute_reply": "2024-06-10T11:00:14.059062Z"
    },
    "lines_to_next_cell": 0,
    "papermill": {
     "duration": 0.136783,
     "end_time": "2024-06-10T11:00:14.061916",
     "exception": false,
     "start_time": "2024-06-10T11:00:13.925133",
     "status": "completed"
    },
    "tags": []
   },
   "outputs": [
    {
     "data": {
      "application/javascript": [
       "parent.postMessage({\"jupyterEvent\": \"custom.exercise_interaction\", \"data\": {\"outcomeType\": 1, \"valueTowardsCompletion\": 0.25, \"interactionType\": 1, \"questionType\": 2, \"questionId\": \"3_Q3\", \"learnToolsVersion\": \"0.3.4\", \"failureMessage\": \"\", \"exceptionClass\": \"\", \"trace\": \"\"}}, \"*\")"
      ],
      "text/plain": [
       "<IPython.core.display.Javascript object>"
      ]
     },
     "metadata": {},
     "output_type": "display_data"
    },
    {
     "data": {
      "text/markdown": [
       "<span style=\"color:#33cc33\">Correct</span>"
      ],
      "text/plain": [
       "Correct"
      ]
     },
     "metadata": {},
     "output_type": "display_data"
    }
   ],
   "source": [
    "# YOUR CODE HERE: Add a BatchNormalization layer before each Dense layer\n",
    "model = keras.Sequential([\n",
    "    layers.BatchNormalization(input_shape=input_shape),\n",
    "    layers.Dense(512, activation='relu'),\n",
    "    layers.BatchNormalization(),\n",
    "    layers.Dense(512, activation='relu'),\n",
    "    layers.BatchNormalization(),\n",
    "    layers.Dense(512, activation='relu'),\n",
    "    layers.BatchNormalization(),\n",
    "    layers.Dense(1),\n",
    "])\n",
    "\n",
    "# Check your answer\n",
    "q_3.check()"
   ]
  },
  {
   "cell_type": "code",
   "execution_count": 10,
   "id": "30e19ed6",
   "metadata": {
    "execution": {
     "iopub.execute_input": "2024-06-10T11:00:14.079493Z",
     "iopub.status.busy": "2024-06-10T11:00:14.078982Z",
     "iopub.status.idle": "2024-06-10T11:00:14.083498Z",
     "shell.execute_reply": "2024-06-10T11:00:14.082846Z"
    },
    "papermill": {
     "duration": 0.015394,
     "end_time": "2024-06-10T11:00:14.085395",
     "exception": false,
     "start_time": "2024-06-10T11:00:14.070001",
     "status": "completed"
    },
    "tags": []
   },
   "outputs": [],
   "source": [
    "# Lines below will give you a hint or solution code\n",
    "#q_3.hint()\n",
    "#q_3.solution()"
   ]
  },
  {
   "cell_type": "markdown",
   "id": "32b85738",
   "metadata": {
    "papermill": {
     "duration": 0.007902,
     "end_time": "2024-06-10T11:00:14.101372",
     "exception": false,
     "start_time": "2024-06-10T11:00:14.093470",
     "status": "completed"
    },
    "tags": []
   },
   "source": [
    "Run the next cell to see if batch normalization will let us train the model."
   ]
  },
  {
   "cell_type": "code",
   "execution_count": 11,
   "id": "85a0e3a9",
   "metadata": {
    "execution": {
     "iopub.execute_input": "2024-06-10T11:00:14.118766Z",
     "iopub.status.busy": "2024-06-10T11:00:14.118455Z",
     "iopub.status.idle": "2024-06-10T11:00:25.324085Z",
     "shell.execute_reply": "2024-06-10T11:00:25.323205Z"
    },
    "papermill": {
     "duration": 11.216561,
     "end_time": "2024-06-10T11:00:25.326194",
     "exception": false,
     "start_time": "2024-06-10T11:00:14.109633",
     "status": "completed"
    },
    "tags": []
   },
   "outputs": [
    {
     "name": "stdout",
     "output_type": "stream",
     "text": [
      "Minimum Validation Loss: 4.0306\n"
     ]
    },
    {
     "data": {
      "image/png": "[encoded data removed]",
      "text/plain": [
       "<Figure size 640x480 with 1 Axes>"
      ]
     },
     "metadata": {},
     "output_type": "display_data"
    }
   ],
   "source": [
    "model.compile(\n",
    "    optimizer='sgd',\n",
    "    loss='mae',\n",
    "    metrics=['mae'],\n",
    ")\n",
    "EPOCHS = 100\n",
    "history = model.fit(\n",
    "    X_train, y_train,\n",
    "    validation_data=(X_valid, y_valid),\n",
    "    batch_size=64,\n",
    "    epochs=EPOCHS,\n",
    "    verbose=0,\n",
    ")\n",
    "\n",
    "history_df = pd.DataFrame(history.history)\n",
    "history_df.loc[0:, ['loss', 'val_loss']].plot()\n",
    "print((\"Minimum Validation Loss: {:0.4f}\").format(history_df['val_loss'].min()))"
   ]
  },
  {
   "cell_type": "markdown",
   "id": "acce785b",
   "metadata": {
    "papermill": {
     "duration": 0.00867,
     "end_time": "2024-06-10T11:00:25.343925",
     "exception": false,
     "start_time": "2024-06-10T11:00:25.335255",
     "status": "completed"
    },
    "tags": []
   },
   "source": [
    "# 4) Evaluate Batch Normalization\n",
    "\n",
    "Did adding batch normalization help?"
   ]
  },
  {
   "cell_type": "code",
   "execution_count": 12,
   "id": "158faa7a",
   "metadata": {
    "execution": {
     "iopub.execute_input": "2024-06-10T11:00:25.362442Z",
     "iopub.status.busy": "2024-06-10T11:00:25.362144Z",
     "iopub.status.idle": "2024-06-10T11:00:25.369143Z",
     "shell.execute_reply": "2024-06-10T11:00:25.368326Z"
    },
    "lines_to_next_cell": 0,
    "papermill": {
     "duration": 0.018646,
     "end_time": "2024-06-10T11:00:25.371187",
     "exception": false,
     "start_time": "2024-06-10T11:00:25.352541",
     "status": "completed"
    },
    "tags": []
   },
   "outputs": [
    {
     "data": {
      "application/javascript": [
       "parent.postMessage({\"jupyterEvent\": \"custom.exercise_interaction\", \"data\": {\"outcomeType\": 1, \"valueTowardsCompletion\": 0.25, \"interactionType\": 1, \"questionType\": 4, \"questionId\": \"4_Q4\", \"learnToolsVersion\": \"0.3.4\", \"failureMessage\": \"\", \"exceptionClass\": \"\", \"trace\": \"\"}}, \"*\")"
      ],
      "text/plain": [
       "<IPython.core.display.Javascript object>"
      ]
     },
     "metadata": {},
     "output_type": "display_data"
    },
    {
     "data": {
      "text/markdown": [
       "<span style=\"color:#33cc33\">Correct:</span> \n",
       "\n",
       "\n",
       "You can see that adding batch normalization was a big improvement on the first attempt! By adaptively scaling the data as it passes through the network, batch normalization can let you train models on difficult datasets.\n"
      ],
      "text/plain": [
       "Correct: \n",
       "\n",
       "\n",
       "You can see that adding batch normalization was a big improvement on the first attempt! By adaptively scaling the data as it passes through the network, batch normalization can let you train models on difficult datasets."
      ]
     },
     "metadata": {},
     "output_type": "display_data"
    }
   ],
   "source": [
    "# View the solution (Run this cell to receive credit!)\n",
    "q_4.check()"
   ]
  },
  {
   "cell_type": "markdown",
   "id": "e5d686b5",
   "metadata": {
    "papermill": {
     "duration": 0.008899,
     "end_time": "2024-06-10T11:00:25.389151",
     "exception": false,
     "start_time": "2024-06-10T11:00:25.380252",
     "status": "completed"
    },
    "tags": []
   },
   "source": [
    "# Keep Going #\n",
    "\n",
    "[**Create neural networks**](https://www.kaggle.com/ryanholbrook/binary-classification) for binary classification."
   ]
  },
  {
   "cell_type": "markdown",
   "id": "c8aa5824",
   "metadata": {
    "papermill": {
     "duration": 0.008922,
     "end_time": "2024-06-10T11:00:25.407061",
     "exception": false,
     "start_time": "2024-06-10T11:00:25.398139",
     "status": "completed"
    },
    "tags": []
   },
   "source": [
    "---\n",
    "\n",
    "\n",
    "\n",
    "\n",
    "*Have questions or comments? Visit the [course discussion forum](https://www.kaggle.com/learn/intro-to-deep-learning/discussion) to chat with other learners.*"
   ]
  }
 ],
 "metadata": {
  "jupytext": {
   "cell_metadata_filter": "-all",
   "formats": "ipynb"
  },
  "kaggle": {
   "accelerator": "gpu",
   "dataSources": [
    {
     "datasetId": 829369,
     "sourceId": 1480608,
     "sourceType": "datasetVersion"
    }
   ],
   "dockerImageVersionId": 30648,
   "isGpuEnabled": true,
   "isInternetEnabled": false,
   "language": "python",
   "sourceType": "notebook"
  },
  "kernelspec": {
   "display_name": "Python 3",
   "language": "python",
   "name": "python3"
  },
  "language_info": {
   "codemirror_mode": {
    "name": "ipython",
    "version": 3
   },
   "file_extension": ".py",
   "mimetype": "text/x-python",
   "name": "python",
   "nbconvert_exporter": "python",
   "pygments_lexer": "ipython3",
   "version": "3.10.13"
  },
  "papermill": {
   "default_parameters": {},
   "duration": 51.172697,
   "end_time": "2024-06-10T11:00:28.246635",
   "environment_variables": {},
   "exception": null,
   "input_path": "__notebook__.ipynb",
   "output_path": "__notebook__.ipynb",
   "parameters": {},
   "start_time": "2024-06-10T10:59:37.073938",
   "version": "2.5.0"
  }
 },
 "nbformat": 4,
 "nbformat_minor": 5
}
