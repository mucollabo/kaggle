{
 "cells": [
  {
   "cell_type": "markdown",
   "id": "7eba14e5",
   "metadata": {
    "papermill": {
     "duration": 0.008071,
     "end_time": "2022-06-17T13:21:54.229561",
     "exception": false,
     "start_time": "2022-06-17T13:21:54.221490",
     "status": "completed"
    },
    "tags": []
   },
   "source": [
    "**This notebook is an exercise in the [Data Cleaning](https://www.kaggle.com/learn/data-cleaning) course.  You can reference the tutorial at [this link](https://www.kaggle.com/alexisbcook/character-encodings).**\n",
    "\n",
    "---\n"
   ]
  },
  {
   "cell_type": "markdown",
   "id": "1d40c632",
   "metadata": {
    "papermill": {
     "duration": 0.003865,
     "end_time": "2022-06-17T13:21:54.237836",
     "exception": false,
     "start_time": "2022-06-17T13:21:54.233971",
     "status": "completed"
    },
    "tags": []
   },
   "source": [
    "In this exercise, you'll apply what you learned in the **Character encodings** tutorial.\n",
    "\n",
    "# Setup\n",
    "\n",
    "The questions below will give you feedback on your work. Run the following cell to set up the feedback system."
   ]
  },
  {
   "cell_type": "code",
   "execution_count": 1,
   "id": "e9b3698b",
   "metadata": {
    "execution": {
     "iopub.execute_input": "2022-06-17T13:21:54.248598Z",
     "iopub.status.busy": "2022-06-17T13:21:54.247426Z",
     "iopub.status.idle": "2022-06-17T13:21:54.337071Z",
     "shell.execute_reply": "2022-06-17T13:21:54.336307Z"
    },
    "papermill": {
     "duration": 0.09738,
     "end_time": "2022-06-17T13:21:54.339342",
     "exception": false,
     "start_time": "2022-06-17T13:21:54.241962",
     "status": "completed"
    },
    "tags": []
   },
   "outputs": [
    {
     "name": "stdout",
     "output_type": "stream",
     "text": [
      "Setup Complete\n"
     ]
    }
   ],
   "source": [
    "from learntools.core import binder\n",
    "binder.bind(globals())\n",
    "from learntools.data_cleaning.ex4 import *\n",
    "print(\"Setup Complete\")"
   ]
  },
  {
   "cell_type": "markdown",
   "id": "a7c2c059",
   "metadata": {
    "papermill": {
     "duration": 0.003924,
     "end_time": "2022-06-17T13:21:54.347755",
     "exception": false,
     "start_time": "2022-06-17T13:21:54.343831",
     "status": "completed"
    },
    "tags": []
   },
   "source": [
    "# Get our environment set up\n",
    "\n",
    "The first thing we'll need to do is load in the libraries we'll be using."
   ]
  },
  {
   "cell_type": "code",
   "execution_count": 2,
   "id": "ed410f62",
   "metadata": {
    "execution": {
     "iopub.execute_input": "2022-06-17T13:21:54.357898Z",
     "iopub.status.busy": "2022-06-17T13:21:54.357306Z",
     "iopub.status.idle": "2022-06-17T13:21:54.361714Z",
     "shell.execute_reply": "2022-06-17T13:21:54.360823Z"
    },
    "papermill": {
     "duration": 0.011593,
     "end_time": "2022-06-17T13:21:54.363553",
     "exception": false,
     "start_time": "2022-06-17T13:21:54.351960",
     "status": "completed"
    },
    "tags": []
   },
   "outputs": [],
   "source": [
    "# modules we'll use\n",
    "import pandas as pd\n",
    "import numpy as np\n",
    "\n",
    "# helpful character encoding module\n",
    "import chardet\n",
    "\n",
    "# set seed for reproducibility\n",
    "np.random.seed(0)"
   ]
  },
  {
   "cell_type": "markdown",
   "id": "98b3794b",
   "metadata": {
    "papermill": {
     "duration": 0.003912,
     "end_time": "2022-06-17T13:21:54.371686",
     "exception": false,
     "start_time": "2022-06-17T13:21:54.367774",
     "status": "completed"
    },
    "tags": []
   },
   "source": [
    "# 1) What are encodings?\n",
    "\n",
    "You're working with a dataset composed of bytes.  Run the code cell below to print a sample entry."
   ]
  },
  {
   "cell_type": "code",
   "execution_count": 3,
   "id": "4dda5896",
   "metadata": {
    "execution": {
     "iopub.execute_input": "2022-06-17T13:21:54.381632Z",
     "iopub.status.busy": "2022-06-17T13:21:54.380998Z",
     "iopub.status.idle": "2022-06-17T13:21:54.385747Z",
     "shell.execute_reply": "2022-06-17T13:21:54.384679Z"
    },
    "papermill": {
     "duration": 0.011862,
     "end_time": "2022-06-17T13:21:54.387586",
     "exception": false,
     "start_time": "2022-06-17T13:21:54.375724",
     "status": "completed"
    },
    "tags": []
   },
   "outputs": [
    {
     "name": "stdout",
     "output_type": "stream",
     "text": [
      "b'\\xa7A\\xa6n'\n",
      "data type: <class 'bytes'>\n"
     ]
    }
   ],
   "source": [
    "sample_entry = b'\\xa7A\\xa6n'\n",
    "print(sample_entry)\n",
    "print('data type:', type(sample_entry))"
   ]
  },
  {
   "cell_type": "markdown",
   "id": "382a9528",
   "metadata": {
    "papermill": {
     "duration": 0.003908,
     "end_time": "2022-06-17T13:21:54.395695",
     "exception": false,
     "start_time": "2022-06-17T13:21:54.391787",
     "status": "completed"
    },
    "tags": []
   },
   "source": [
    "You notice that it doesn't use the standard UTF-8 encoding. \n",
    "\n",
    "Use the next code cell to create a variable `new_entry` that changes the encoding from `\"big5-tw\"` to `\"utf-8\"`.  `new_entry` should have the bytes datatype."
   ]
  },
  {
   "cell_type": "code",
   "execution_count": 4,
   "id": "661044ff",
   "metadata": {
    "execution": {
     "iopub.execute_input": "2022-06-17T13:21:54.405824Z",
     "iopub.status.busy": "2022-06-17T13:21:54.405132Z",
     "iopub.status.idle": "2022-06-17T13:21:54.413598Z",
     "shell.execute_reply": "2022-06-17T13:21:54.412917Z"
    },
    "papermill": {
     "duration": 0.015593,
     "end_time": "2022-06-17T13:21:54.415321",
     "exception": false,
     "start_time": "2022-06-17T13:21:54.399728",
     "status": "completed"
    },
    "tags": []
   },
   "outputs": [
    {
     "data": {
      "application/javascript": [
       "parent.postMessage({\"jupyterEvent\": \"custom.exercise_interaction\", \"data\": {\"outcomeType\": 1, \"valueTowardsCompletion\": 0.3333333333333333, \"interactionType\": 1, \"questionType\": 1, \"questionId\": \"1_EncodingsIntro\", \"learnToolsVersion\": \"0.3.4\", \"failureMessage\": \"\", \"exceptionClass\": \"\", \"trace\": \"\"}}, \"*\")"
      ],
      "text/plain": [
       "<IPython.core.display.Javascript object>"
      ]
     },
     "metadata": {},
     "output_type": "display_data"
    },
    {
     "data": {
      "text/markdown": [
       "<span style=\"color:#33cc33\">Correct</span>"
      ],
      "text/plain": [
       "Correct"
      ]
     },
     "metadata": {},
     "output_type": "display_data"
    }
   ],
   "source": [
    "new_entry = sample_entry.decode(\"big5-tw\").encode(\"utf-8\")\n",
    "\n",
    "# Check your answer\n",
    "q1.check()"
   ]
  },
  {
   "cell_type": "code",
   "execution_count": 5,
   "id": "af23307a",
   "metadata": {
    "execution": {
     "iopub.execute_input": "2022-06-17T13:21:54.425985Z",
     "iopub.status.busy": "2022-06-17T13:21:54.425202Z",
     "iopub.status.idle": "2022-06-17T13:21:54.430410Z",
     "shell.execute_reply": "2022-06-17T13:21:54.429707Z"
    },
    "papermill": {
     "duration": 0.012274,
     "end_time": "2022-06-17T13:21:54.432102",
     "exception": false,
     "start_time": "2022-06-17T13:21:54.419828",
     "status": "completed"
    },
    "tags": []
   },
   "outputs": [
    {
     "data": {
      "text/plain": [
       "'你好'"
      ]
     },
     "execution_count": 5,
     "metadata": {},
     "output_type": "execute_result"
    }
   ],
   "source": [
    "sample_entry.decode(\"big5-tw\")"
   ]
  },
  {
   "cell_type": "code",
   "execution_count": 6,
   "id": "3606eb40",
   "metadata": {
    "execution": {
     "iopub.execute_input": "2022-06-17T13:21:54.443140Z",
     "iopub.status.busy": "2022-06-17T13:21:54.442517Z",
     "iopub.status.idle": "2022-06-17T13:21:54.445869Z",
     "shell.execute_reply": "2022-06-17T13:21:54.445158Z"
    },
    "papermill": {
     "duration": 0.011003,
     "end_time": "2022-06-17T13:21:54.447698",
     "exception": false,
     "start_time": "2022-06-17T13:21:54.436695",
     "status": "completed"
    },
    "tags": []
   },
   "outputs": [],
   "source": [
    "# Lines below will give you a hint or solution code\n",
    "#q1.hint()\n",
    "#q1.solution()"
   ]
  },
  {
   "cell_type": "markdown",
   "id": "30281e83",
   "metadata": {
    "papermill": {
     "duration": 0.004462,
     "end_time": "2022-06-17T13:21:54.456826",
     "exception": false,
     "start_time": "2022-06-17T13:21:54.452364",
     "status": "completed"
    },
    "tags": []
   },
   "source": [
    "# 2) Reading in files with encoding problems\n",
    "\n",
    "Use the code cell below to read in this file at path `\"../input/fatal-police-shootings-in-the-us/PoliceKillingsUS.csv\"`.  \n",
    "\n",
    "Figure out what the correct encoding should be and read in the file to a DataFrame `police_killings`."
   ]
  },
  {
   "cell_type": "code",
   "execution_count": 7,
   "id": "5305b34a",
   "metadata": {
    "execution": {
     "iopub.execute_input": "2022-06-17T13:21:54.468429Z",
     "iopub.status.busy": "2022-06-17T13:21:54.467783Z",
     "iopub.status.idle": "2022-06-17T13:21:55.456499Z",
     "shell.execute_reply": "2022-06-17T13:21:55.455269Z"
    },
    "papermill": {
     "duration": 0.996891,
     "end_time": "2022-06-17T13:21:55.458449",
     "exception": false,
     "start_time": "2022-06-17T13:21:54.461558",
     "status": "completed"
    },
    "tags": []
   },
   "outputs": [
    {
     "name": "stdout",
     "output_type": "stream",
     "text": [
      "{'encoding': 'Windows-1252', 'confidence': 0.73, 'language': ''}\n"
     ]
    }
   ],
   "source": [
    "with open(\"../input/fatal-police-shootings-in-the-us/PoliceKillingsUS.csv\", 'rb') as rawdata:\n",
    "    result = chardet.detect(rawdata.read(100000))\n",
    "    \n",
    "print(result)"
   ]
  },
  {
   "cell_type": "code",
   "execution_count": 8,
   "id": "2af3d019",
   "metadata": {
    "execution": {
     "iopub.execute_input": "2022-06-17T13:21:55.471075Z",
     "iopub.status.busy": "2022-06-17T13:21:55.470680Z",
     "iopub.status.idle": "2022-06-17T13:21:55.491474Z",
     "shell.execute_reply": "2022-06-17T13:21:55.490499Z"
    },
    "papermill": {
     "duration": 0.028713,
     "end_time": "2022-06-17T13:21:55.493447",
     "exception": false,
     "start_time": "2022-06-17T13:21:55.464734",
     "status": "completed"
    },
    "tags": []
   },
   "outputs": [
    {
     "data": {
      "application/javascript": [
       "parent.postMessage({\"jupyterEvent\": \"custom.exercise_interaction\", \"data\": {\"outcomeType\": 1, \"valueTowardsCompletion\": 0.3333333333333333, \"interactionType\": 1, \"questionType\": 1, \"questionId\": \"2_ReadIn\", \"learnToolsVersion\": \"0.3.4\", \"failureMessage\": \"\", \"exceptionClass\": \"\", \"trace\": \"\"}}, \"*\")"
      ],
      "text/plain": [
       "<IPython.core.display.Javascript object>"
      ]
     },
     "metadata": {},
     "output_type": "display_data"
    },
    {
     "data": {
      "text/markdown": [
       "<span style=\"color:#33cc33\">Correct</span>"
      ],
      "text/plain": [
       "Correct"
      ]
     },
     "metadata": {},
     "output_type": "display_data"
    }
   ],
   "source": [
    "# TODO: Load in the DataFrame correctly.\n",
    "police_killings = pd.read_csv(\"../input/fatal-police-shootings-in-the-us/PoliceKillingsUS.csv\", encoding='Windows-1252')\n",
    "\n",
    "# Check your answer\n",
    "q2.check()"
   ]
  },
  {
   "cell_type": "markdown",
   "id": "8b60516a",
   "metadata": {
    "papermill": {
     "duration": 0.004477,
     "end_time": "2022-06-17T13:21:55.502837",
     "exception": false,
     "start_time": "2022-06-17T13:21:55.498360",
     "status": "completed"
    },
    "tags": []
   },
   "source": [
    "Feel free to use any additional code cells for supplemental work.  To get credit for finishing this question, you'll need to run `q2.check()` and get a result of **Correct**."
   ]
  },
  {
   "cell_type": "code",
   "execution_count": 9,
   "id": "c0cf0368",
   "metadata": {
    "execution": {
     "iopub.execute_input": "2022-06-17T13:21:55.513788Z",
     "iopub.status.busy": "2022-06-17T13:21:55.513411Z",
     "iopub.status.idle": "2022-06-17T13:21:55.517575Z",
     "shell.execute_reply": "2022-06-17T13:21:55.516623Z"
    },
    "papermill": {
     "duration": 0.011893,
     "end_time": "2022-06-17T13:21:55.519457",
     "exception": false,
     "start_time": "2022-06-17T13:21:55.507564",
     "status": "completed"
    },
    "tags": []
   },
   "outputs": [],
   "source": [
    "# (Optional) Use this code cell for any additional work."
   ]
  },
  {
   "cell_type": "code",
   "execution_count": 10,
   "id": "71faae33",
   "metadata": {
    "execution": {
     "iopub.execute_input": "2022-06-17T13:21:55.530862Z",
     "iopub.status.busy": "2022-06-17T13:21:55.530468Z",
     "iopub.status.idle": "2022-06-17T13:21:55.533667Z",
     "shell.execute_reply": "2022-06-17T13:21:55.532906Z"
    },
    "papermill": {
     "duration": 0.011019,
     "end_time": "2022-06-17T13:21:55.535395",
     "exception": false,
     "start_time": "2022-06-17T13:21:55.524376",
     "status": "completed"
    },
    "tags": []
   },
   "outputs": [],
   "source": [
    "# Lines below will give you a hint or solution code\n",
    "#q2.hint()\n",
    "#q2.solution()"
   ]
  },
  {
   "cell_type": "markdown",
   "id": "41735e18",
   "metadata": {
    "papermill": {
     "duration": 0.004668,
     "end_time": "2022-06-17T13:21:55.544958",
     "exception": false,
     "start_time": "2022-06-17T13:21:55.540290",
     "status": "completed"
    },
    "tags": []
   },
   "source": [
    "# 3) Saving your files with UTF-8 encoding\n",
    "\n",
    "Save a version of the police killings dataset to CSV with UTF-8 encoding.  Your answer will be marked correct after saving this file.  \n",
    "\n",
    "Note: When using the `to_csv()` method, supply only the name of the file (e.g., `\"my_file.csv\"`).  This saves the file at the filepath `\"/kaggle/working/my_file.csv\"`."
   ]
  },
  {
   "cell_type": "code",
   "execution_count": 11,
   "id": "4e50032c",
   "metadata": {
    "execution": {
     "iopub.execute_input": "2022-06-17T13:21:55.556362Z",
     "iopub.status.busy": "2022-06-17T13:21:55.555818Z",
     "iopub.status.idle": "2022-06-17T13:21:55.585072Z",
     "shell.execute_reply": "2022-06-17T13:21:55.584298Z"
    },
    "papermill": {
     "duration": 0.037328,
     "end_time": "2022-06-17T13:21:55.587097",
     "exception": false,
     "start_time": "2022-06-17T13:21:55.549769",
     "status": "completed"
    },
    "tags": []
   },
   "outputs": [
    {
     "data": {
      "application/javascript": [
       "parent.postMessage({\"jupyterEvent\": \"custom.exercise_interaction\", \"data\": {\"outcomeType\": 1, \"valueTowardsCompletion\": 0.3333333333333333, \"interactionType\": 1, \"questionType\": 2, \"questionId\": \"3_SaveCSV\", \"learnToolsVersion\": \"0.3.4\", \"failureMessage\": \"\", \"exceptionClass\": \"\", \"trace\": \"\"}}, \"*\")"
      ],
      "text/plain": [
       "<IPython.core.display.Javascript object>"
      ]
     },
     "metadata": {},
     "output_type": "display_data"
    },
    {
     "data": {
      "text/markdown": [
       "<span style=\"color:#33cc33\">Correct</span>"
      ],
      "text/plain": [
       "Correct"
      ]
     },
     "metadata": {},
     "output_type": "display_data"
    }
   ],
   "source": [
    "# TODO: Save the police killings dataset to CSV\n",
    "police_killings.to_csv(\"/kaggle/working/my_file.csv\")\n",
    "\n",
    "# Check your answer\n",
    "q3.check()"
   ]
  },
  {
   "cell_type": "code",
   "execution_count": 12,
   "id": "35c9eb78",
   "metadata": {
    "execution": {
     "iopub.execute_input": "2022-06-17T13:21:55.599744Z",
     "iopub.status.busy": "2022-06-17T13:21:55.598657Z",
     "iopub.status.idle": "2022-06-17T13:21:55.603117Z",
     "shell.execute_reply": "2022-06-17T13:21:55.602122Z"
    },
    "papermill": {
     "duration": 0.01263,
     "end_time": "2022-06-17T13:21:55.604943",
     "exception": false,
     "start_time": "2022-06-17T13:21:55.592313",
     "status": "completed"
    },
    "tags": []
   },
   "outputs": [],
   "source": [
    "# Lines below will give you a hint or solution code\n",
    "#q3.hint()\n",
    "#q3.solution()"
   ]
  },
  {
   "cell_type": "markdown",
   "id": "6192a619",
   "metadata": {
    "papermill": {
     "duration": 0.004788,
     "end_time": "2022-06-17T13:21:55.614931",
     "exception": false,
     "start_time": "2022-06-17T13:21:55.610143",
     "status": "completed"
    },
    "tags": []
   },
   "source": [
    "# (Optional) More practice\n",
    "\n",
    "Check out [this dataset of files in different character encodings](https://www.kaggle.com/rtatman/character-encoding-examples). Can you read in all the files with their original encodings and them save them out as UTF-8 files?\n",
    "\n",
    "If you have a file that's in UTF-8 but has just a couple of weird-looking characters in it, you can try out the [ftfy module](https://ftfy.readthedocs.io/en/latest/#) and see if it helps. \n",
    "\n",
    "# Keep going\n",
    "\n",
    "In the final lesson, learn how to [**clean up inconsistent text entries**](https://www.kaggle.com/alexisbcook/inconsistent-data-entry) in your dataset."
   ]
  },
  {
   "cell_type": "markdown",
   "id": "7569c63b",
   "metadata": {
    "papermill": {
     "duration": 0.004965,
     "end_time": "2022-06-17T13:21:55.625263",
     "exception": false,
     "start_time": "2022-06-17T13:21:55.620298",
     "status": "completed"
    },
    "tags": []
   },
   "source": [
    "---\n",
    "\n",
    "\n",
    "\n",
    "\n",
    "*Have questions or comments? Visit the [course discussion forum](https://www.kaggle.com/learn/data-cleaning/discussion) to chat with other learners.*"
   ]
  }
 ],
 "metadata": {
  "kernelspec": {
   "display_name": "Python 3",
   "language": "python",
   "name": "python3"
  },
  "language_info": {
   "codemirror_mode": {
    "name": "ipython",
    "version": 3
   },
   "file_extension": ".py",
   "mimetype": "text/x-python",
   "name": "python",
   "nbconvert_exporter": "python",
   "pygments_lexer": "ipython3",
   "version": "3.7.12"
  },
  "papermill": {
   "default_parameters": {},
   "duration": 11.066956,
   "end_time": "2022-06-17T13:21:56.250784",
   "environment_variables": {},
   "exception": null,
   "input_path": "__notebook__.ipynb",
   "output_path": "__notebook__.ipynb",
   "parameters": {},
   "start_time": "2022-06-17T13:21:45.183828",
   "version": "2.3.4"
  }
 },
 "nbformat": 4,
 "nbformat_minor": 5
}
