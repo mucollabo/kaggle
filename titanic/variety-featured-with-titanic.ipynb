{
 "cells": [
  {
   "cell_type": "code",
   "execution_count": 1,
   "id": "searching-growth",
   "metadata": {
    "_cell_guid": "b1076dfc-b9ad-4769-8c92-a6c4dae69d19",
    "_uuid": "8f2839f25d086af736a60e9eeb907d3b93b6e0e5",
    "execution": {
     "iopub.execute_input": "2022-03-31T13:05:23.359783Z",
     "iopub.status.busy": "2022-03-31T13:05:23.357934Z",
     "iopub.status.idle": "2022-03-31T13:05:23.374083Z",
     "shell.execute_reply": "2022-03-31T13:05:23.372991Z",
     "shell.execute_reply.started": "2022-03-31T11:41:52.273657Z"
    },
    "papermill": {
     "duration": 0.03429,
     "end_time": "2022-03-31T13:05:23.374382",
     "exception": false,
     "start_time": "2022-03-31T13:05:23.340092",
     "status": "completed"
    },
    "tags": []
   },
   "outputs": [
    {
     "name": "stdout",
     "output_type": "stream",
     "text": [
      "/kaggle/input/titanic/train.csv\n",
      "/kaggle/input/titanic/test.csv\n",
      "/kaggle/input/titanic/gender_submission.csv\n"
     ]
    }
   ],
   "source": [
    "# This Python 3 environment comes with many helpful analytics libraries installed\n",
    "# It is defined by the kaggle/python Docker image: https://github.com/kaggle/docker-python\n",
    "# For example, here's several helpful packages to load\n",
    "\n",
    "import numpy as np # linear algebra\n",
    "import pandas as pd # data processing, CSV file I/O (e.g. pd.read_csv)\n",
    "\n",
    "# Input data files are available in the read-only \"../input/\" directory\n",
    "# For example, running this (by clicking run or pressing Shift+Enter) will list all files under the input directory\n",
    "\n",
    "import os\n",
    "for dirname, _, filenames in os.walk('/kaggle/input'):\n",
    "    for filename in filenames:\n",
    "        print(os.path.join(dirname, filename))\n",
    "\n",
    "# You can write up to 20GB to the current directory (/kaggle/working/) that gets preserved as output when you create a version using \"Save & Run All\" \n",
    "# You can also write temporary files to /kaggle/temp/, but they won't be saved outside of the current session"
   ]
  },
  {
   "cell_type": "code",
   "execution_count": 2,
   "id": "harmful-identifier",
   "metadata": {
    "execution": {
     "iopub.execute_input": "2022-03-31T13:05:23.405842Z",
     "iopub.status.busy": "2022-03-31T13:05:23.405022Z",
     "iopub.status.idle": "2022-03-31T13:05:23.451776Z",
     "shell.execute_reply": "2022-03-31T13:05:23.452277Z",
     "shell.execute_reply.started": "2022-03-31T11:41:54.798428Z"
    },
    "papermill": {
     "duration": 0.06461,
     "end_time": "2022-03-31T13:05:23.452529",
     "exception": false,
     "start_time": "2022-03-31T13:05:23.387919",
     "status": "completed"
    },
    "tags": []
   },
   "outputs": [
    {
     "data": {
      "text/html": [
       "<div>\n",
       "<style scoped>\n",
       "    .dataframe tbody tr th:only-of-type {\n",
       "        vertical-align: middle;\n",
       "    }\n",
       "\n",
       "    .dataframe tbody tr th {\n",
       "        vertical-align: top;\n",
       "    }\n",
       "\n",
       "    .dataframe thead th {\n",
       "        text-align: right;\n",
       "    }\n",
       "</style>\n",
       "<table border=\"1\" class=\"dataframe\">\n",
       "  <thead>\n",
       "    <tr style=\"text-align: right;\">\n",
       "      <th></th>\n",
       "      <th>PassengerId</th>\n",
       "      <th>Survived</th>\n",
       "      <th>Pclass</th>\n",
       "      <th>Name</th>\n",
       "      <th>Sex</th>\n",
       "      <th>Age</th>\n",
       "      <th>SibSp</th>\n",
       "      <th>Parch</th>\n",
       "      <th>Ticket</th>\n",
       "      <th>Fare</th>\n",
       "      <th>Cabin</th>\n",
       "      <th>Embarked</th>\n",
       "    </tr>\n",
       "  </thead>\n",
       "  <tbody>\n",
       "    <tr>\n",
       "      <th>0</th>\n",
       "      <td>1</td>\n",
       "      <td>0</td>\n",
       "      <td>3</td>\n",
       "      <td>Braund, Mr. Owen Harris</td>\n",
       "      <td>male</td>\n",
       "      <td>22.0</td>\n",
       "      <td>1</td>\n",
       "      <td>0</td>\n",
       "      <td>A/5 21171</td>\n",
       "      <td>7.2500</td>\n",
       "      <td>NaN</td>\n",
       "      <td>S</td>\n",
       "    </tr>\n",
       "    <tr>\n",
       "      <th>1</th>\n",
       "      <td>2</td>\n",
       "      <td>1</td>\n",
       "      <td>1</td>\n",
       "      <td>Cumings, Mrs. John Bradley (Florence Briggs Th...</td>\n",
       "      <td>female</td>\n",
       "      <td>38.0</td>\n",
       "      <td>1</td>\n",
       "      <td>0</td>\n",
       "      <td>PC 17599</td>\n",
       "      <td>71.2833</td>\n",
       "      <td>C85</td>\n",
       "      <td>C</td>\n",
       "    </tr>\n",
       "    <tr>\n",
       "      <th>2</th>\n",
       "      <td>3</td>\n",
       "      <td>1</td>\n",
       "      <td>3</td>\n",
       "      <td>Heikkinen, Miss. Laina</td>\n",
       "      <td>female</td>\n",
       "      <td>26.0</td>\n",
       "      <td>0</td>\n",
       "      <td>0</td>\n",
       "      <td>STON/O2. 3101282</td>\n",
       "      <td>7.9250</td>\n",
       "      <td>NaN</td>\n",
       "      <td>S</td>\n",
       "    </tr>\n",
       "    <tr>\n",
       "      <th>3</th>\n",
       "      <td>4</td>\n",
       "      <td>1</td>\n",
       "      <td>1</td>\n",
       "      <td>Futrelle, Mrs. Jacques Heath (Lily May Peel)</td>\n",
       "      <td>female</td>\n",
       "      <td>35.0</td>\n",
       "      <td>1</td>\n",
       "      <td>0</td>\n",
       "      <td>113803</td>\n",
       "      <td>53.1000</td>\n",
       "      <td>C123</td>\n",
       "      <td>S</td>\n",
       "    </tr>\n",
       "    <tr>\n",
       "      <th>4</th>\n",
       "      <td>5</td>\n",
       "      <td>0</td>\n",
       "      <td>3</td>\n",
       "      <td>Allen, Mr. William Henry</td>\n",
       "      <td>male</td>\n",
       "      <td>35.0</td>\n",
       "      <td>0</td>\n",
       "      <td>0</td>\n",
       "      <td>373450</td>\n",
       "      <td>8.0500</td>\n",
       "      <td>NaN</td>\n",
       "      <td>S</td>\n",
       "    </tr>\n",
       "  </tbody>\n",
       "</table>\n",
       "</div>"
      ],
      "text/plain": [
       "   PassengerId  Survived  Pclass  \\\n",
       "0            1         0       3   \n",
       "1            2         1       1   \n",
       "2            3         1       3   \n",
       "3            4         1       1   \n",
       "4            5         0       3   \n",
       "\n",
       "                                                Name     Sex   Age  SibSp  \\\n",
       "0                            Braund, Mr. Owen Harris    male  22.0      1   \n",
       "1  Cumings, Mrs. John Bradley (Florence Briggs Th...  female  38.0      1   \n",
       "2                             Heikkinen, Miss. Laina  female  26.0      0   \n",
       "3       Futrelle, Mrs. Jacques Heath (Lily May Peel)  female  35.0      1   \n",
       "4                           Allen, Mr. William Henry    male  35.0      0   \n",
       "\n",
       "   Parch            Ticket     Fare Cabin Embarked  \n",
       "0      0         A/5 21171   7.2500   NaN        S  \n",
       "1      0          PC 17599  71.2833   C85        C  \n",
       "2      0  STON/O2. 3101282   7.9250   NaN        S  \n",
       "3      0            113803  53.1000  C123        S  \n",
       "4      0            373450   8.0500   NaN        S  "
      ]
     },
     "execution_count": 2,
     "metadata": {},
     "output_type": "execute_result"
    }
   ],
   "source": [
    "train_data = pd.read_csv(\"/kaggle/input/titanic/train.csv\")\n",
    "train_data.head()"
   ]
  },
  {
   "cell_type": "code",
   "execution_count": 3,
   "id": "expressed-daily",
   "metadata": {
    "execution": {
     "iopub.execute_input": "2022-03-31T13:05:23.487718Z",
     "iopub.status.busy": "2022-03-31T13:05:23.486976Z",
     "iopub.status.idle": "2022-03-31T13:05:23.502496Z",
     "shell.execute_reply": "2022-03-31T13:05:23.501905Z",
     "shell.execute_reply.started": "2022-03-31T11:41:58.669727Z"
    },
    "papermill": {
     "duration": 0.037125,
     "end_time": "2022-03-31T13:05:23.502663",
     "exception": false,
     "start_time": "2022-03-31T13:05:23.465538",
     "status": "completed"
    },
    "tags": []
   },
   "outputs": [
    {
     "data": {
      "text/html": [
       "<div>\n",
       "<style scoped>\n",
       "    .dataframe tbody tr th:only-of-type {\n",
       "        vertical-align: middle;\n",
       "    }\n",
       "\n",
       "    .dataframe tbody tr th {\n",
       "        vertical-align: top;\n",
       "    }\n",
       "\n",
       "    .dataframe thead th {\n",
       "        text-align: right;\n",
       "    }\n",
       "</style>\n",
       "<table border=\"1\" class=\"dataframe\">\n",
       "  <thead>\n",
       "    <tr style=\"text-align: right;\">\n",
       "      <th></th>\n",
       "      <th>Survived</th>\n",
       "      <th>Pclass</th>\n",
       "      <th>Age</th>\n",
       "      <th>SibSp</th>\n",
       "      <th>Parch</th>\n",
       "      <th>Fare</th>\n",
       "    </tr>\n",
       "  </thead>\n",
       "  <tbody>\n",
       "    <tr>\n",
       "      <th>Survived</th>\n",
       "      <td>1.000000</td>\n",
       "      <td>-0.338481</td>\n",
       "      <td>-0.077221</td>\n",
       "      <td>-0.035322</td>\n",
       "      <td>0.081629</td>\n",
       "      <td>0.257307</td>\n",
       "    </tr>\n",
       "    <tr>\n",
       "      <th>Pclass</th>\n",
       "      <td>-0.338481</td>\n",
       "      <td>1.000000</td>\n",
       "      <td>-0.369226</td>\n",
       "      <td>0.083081</td>\n",
       "      <td>0.018443</td>\n",
       "      <td>-0.549500</td>\n",
       "    </tr>\n",
       "    <tr>\n",
       "      <th>Age</th>\n",
       "      <td>-0.077221</td>\n",
       "      <td>-0.369226</td>\n",
       "      <td>1.000000</td>\n",
       "      <td>-0.308247</td>\n",
       "      <td>-0.189119</td>\n",
       "      <td>0.096067</td>\n",
       "    </tr>\n",
       "    <tr>\n",
       "      <th>SibSp</th>\n",
       "      <td>-0.035322</td>\n",
       "      <td>0.083081</td>\n",
       "      <td>-0.308247</td>\n",
       "      <td>1.000000</td>\n",
       "      <td>0.414838</td>\n",
       "      <td>0.159651</td>\n",
       "    </tr>\n",
       "    <tr>\n",
       "      <th>Parch</th>\n",
       "      <td>0.081629</td>\n",
       "      <td>0.018443</td>\n",
       "      <td>-0.189119</td>\n",
       "      <td>0.414838</td>\n",
       "      <td>1.000000</td>\n",
       "      <td>0.216225</td>\n",
       "    </tr>\n",
       "    <tr>\n",
       "      <th>Fare</th>\n",
       "      <td>0.257307</td>\n",
       "      <td>-0.549500</td>\n",
       "      <td>0.096067</td>\n",
       "      <td>0.159651</td>\n",
       "      <td>0.216225</td>\n",
       "      <td>1.000000</td>\n",
       "    </tr>\n",
       "  </tbody>\n",
       "</table>\n",
       "</div>"
      ],
      "text/plain": [
       "          Survived    Pclass       Age     SibSp     Parch      Fare\n",
       "Survived  1.000000 -0.338481 -0.077221 -0.035322  0.081629  0.257307\n",
       "Pclass   -0.338481  1.000000 -0.369226  0.083081  0.018443 -0.549500\n",
       "Age      -0.077221 -0.369226  1.000000 -0.308247 -0.189119  0.096067\n",
       "SibSp    -0.035322  0.083081 -0.308247  1.000000  0.414838  0.159651\n",
       "Parch     0.081629  0.018443 -0.189119  0.414838  1.000000  0.216225\n",
       "Fare      0.257307 -0.549500  0.096067  0.159651  0.216225  1.000000"
      ]
     },
     "execution_count": 3,
     "metadata": {},
     "output_type": "execute_result"
    }
   ],
   "source": [
    "train_data.loc[:,[\"Survived\", \"Pclass\", \"Age\", \"SibSp\", \"Parch\", \"Fare\"]].corr()"
   ]
  },
  {
   "cell_type": "code",
   "execution_count": 4,
   "id": "aboriginal-sense",
   "metadata": {
    "execution": {
     "iopub.execute_input": "2022-03-31T13:05:23.535614Z",
     "iopub.status.busy": "2022-03-31T13:05:23.534685Z",
     "iopub.status.idle": "2022-03-31T13:05:24.857475Z",
     "shell.execute_reply": "2022-03-31T13:05:24.856784Z",
     "shell.execute_reply.started": "2022-03-31T11:42:02.276842Z"
    },
    "papermill": {
     "duration": 1.341647,
     "end_time": "2022-03-31T13:05:24.857621",
     "exception": false,
     "start_time": "2022-03-31T13:05:23.515974",
     "status": "completed"
    },
    "tags": []
   },
   "outputs": [
    {
     "data": {
      "image/png": "[encoded data removed]",
      "text/plain": [
       "<Figure size 432x288 with 2 Axes>"
      ]
     },
     "metadata": {
      "needs_background": "light"
     },
     "output_type": "display_data"
    }
   ],
   "source": [
    "import seaborn as sns\n",
    "import matplotlib.pyplot as plt\n",
    "\n",
    "df = train_data.loc[:,[\"Survived\", \"Pclass\", \"Age\", \"SibSp\", \"Parch\", \"Fare\"]].corr()\n",
    "sns.heatmap(df, annot=True)\n",
    "plt.show()"
   ]
  },
  {
   "cell_type": "code",
   "execution_count": 5,
   "id": "collaborative-acoustic",
   "metadata": {
    "execution": {
     "iopub.execute_input": "2022-03-31T13:05:24.893385Z",
     "iopub.status.busy": "2022-03-31T13:05:24.892709Z",
     "iopub.status.idle": "2022-03-31T13:05:24.915257Z",
     "shell.execute_reply": "2022-03-31T13:05:24.916518Z",
     "shell.execute_reply.started": "2022-03-31T12:23:46.807283Z"
    },
    "papermill": {
     "duration": 0.044609,
     "end_time": "2022-03-31T13:05:24.916790",
     "exception": false,
     "start_time": "2022-03-31T13:05:24.872181",
     "status": "completed"
    },
    "tags": []
   },
   "outputs": [
    {
     "name": "stdout",
     "output_type": "stream",
     "text": [
      "% of people who survived: 0.38\n",
      "342\n"
     ]
    }
   ],
   "source": [
    "survived_people = train_data.loc[train_data.Survived == 1]['Survived']\n",
    "rate_survived_people = sum(survived_people) / len(train_data[:])\n",
    "\n",
    "print(f\"% of people who survived: {rate_survived_people:.2}\")\n",
    "print(sum(survived_people))"
   ]
  },
  {
   "cell_type": "code",
   "execution_count": 6,
   "id": "transparent-milwaukee",
   "metadata": {
    "execution": {
     "iopub.execute_input": "2022-03-31T13:05:24.951609Z",
     "iopub.status.busy": "2022-03-31T13:05:24.950603Z",
     "iopub.status.idle": "2022-03-31T13:05:24.963733Z",
     "shell.execute_reply": "2022-03-31T13:05:24.964322Z",
     "shell.execute_reply.started": "2022-03-31T12:36:16.212813Z"
    },
    "papermill": {
     "duration": 0.031773,
     "end_time": "2022-03-31T13:05:24.964499",
     "exception": false,
     "start_time": "2022-03-31T13:05:24.932726",
     "status": "completed"
    },
    "tags": []
   },
   "outputs": [
    {
     "data": {
      "text/plain": [
       "Survived    372\n",
       "Sex         372\n",
       "Pclass      372\n",
       "Age         270\n",
       "Fare        372\n",
       "dtype: int64"
      ]
     },
     "execution_count": 6,
     "metadata": {},
     "output_type": "execute_result"
    }
   ],
   "source": [
    "train_data.loc[(train_data.Survived == 0) & (train_data.Pclass == 3)][[\"Survived\", \"Sex\", \"Pclass\", \"Age\", \"Fare\"]].count()"
   ]
  },
  {
   "cell_type": "code",
   "execution_count": 7,
   "id": "dental-perception",
   "metadata": {
    "execution": {
     "iopub.execute_input": "2022-03-31T13:05:24.999208Z",
     "iopub.status.busy": "2022-03-31T13:05:24.998212Z",
     "iopub.status.idle": "2022-03-31T13:05:25.007182Z",
     "shell.execute_reply": "2022-03-31T13:05:25.006506Z",
     "shell.execute_reply.started": "2022-03-31T12:47:34.828286Z"
    },
    "papermill": {
     "duration": 0.027694,
     "end_time": "2022-03-31T13:05:25.007343",
     "exception": false,
     "start_time": "2022-03-31T13:05:24.979649",
     "status": "completed"
    },
    "tags": []
   },
   "outputs": [
    {
     "name": "stdout",
     "output_type": "stream",
     "text": [
      "% of firstClass who survived: 0.63\n"
     ]
    }
   ],
   "source": [
    "firstClass = train_data.loc[train_data.Pclass == 1]['Survived']\n",
    "rate_firstClass = sum(firstClass)/len(firstClass)\n",
    "\n",
    "print(f\"% of firstClass who survived: {rate_firstClass:.2}\")"
   ]
  },
  {
   "cell_type": "code",
   "execution_count": 8,
   "id": "affecting-positive",
   "metadata": {
    "execution": {
     "iopub.execute_input": "2022-03-31T13:05:25.046374Z",
     "iopub.status.busy": "2022-03-31T13:05:25.045696Z",
     "iopub.status.idle": "2022-03-31T13:05:25.049223Z",
     "shell.execute_reply": "2022-03-31T13:05:25.048662Z",
     "shell.execute_reply.started": "2022-03-31T12:47:36.926566Z"
    },
    "papermill": {
     "duration": 0.025903,
     "end_time": "2022-03-31T13:05:25.049382",
     "exception": false,
     "start_time": "2022-03-31T13:05:25.023479",
     "status": "completed"
    },
    "tags": []
   },
   "outputs": [
    {
     "name": "stdout",
     "output_type": "stream",
     "text": [
      "% of secondClass who survived: 0.47\n"
     ]
    }
   ],
   "source": [
    "secondClass = train_data.loc[train_data.Pclass == 2]['Survived']\n",
    "rate_secondClass = sum(secondClass)/len(secondClass)\n",
    "\n",
    "print(f\"% of secondClass who survived: {rate_secondClass:.2}\")"
   ]
  },
  {
   "cell_type": "code",
   "execution_count": 9,
   "id": "suburban-settle",
   "metadata": {
    "execution": {
     "iopub.execute_input": "2022-03-31T13:05:25.088390Z",
     "iopub.status.busy": "2022-03-31T13:05:25.087530Z",
     "iopub.status.idle": "2022-03-31T13:05:25.092034Z",
     "shell.execute_reply": "2022-03-31T13:05:25.091503Z",
     "shell.execute_reply.started": "2022-03-31T12:47:39.884932Z"
    },
    "papermill": {
     "duration": 0.027032,
     "end_time": "2022-03-31T13:05:25.092196",
     "exception": false,
     "start_time": "2022-03-31T13:05:25.065164",
     "status": "completed"
    },
    "tags": []
   },
   "outputs": [
    {
     "name": "stdout",
     "output_type": "stream",
     "text": [
      "% of thirdClass who survived: 0.24\n"
     ]
    }
   ],
   "source": [
    "thirdClass = train_data.loc[train_data.Pclass == 3]['Survived']\n",
    "rate_thirdClass = sum(thirdClass)/len(thirdClass)\n",
    "\n",
    "print(f\"% of thirdClass who survived: {rate_thirdClass:.2}\")"
   ]
  },
  {
   "cell_type": "code",
   "execution_count": 10,
   "id": "deluxe-think",
   "metadata": {
    "execution": {
     "iopub.execute_input": "2022-03-31T13:05:25.128482Z",
     "iopub.status.busy": "2022-03-31T13:05:25.127481Z",
     "iopub.status.idle": "2022-03-31T13:05:25.152835Z",
     "shell.execute_reply": "2022-03-31T13:05:25.153445Z"
    },
    "papermill": {
     "duration": 0.045253,
     "end_time": "2022-03-31T13:05:25.153632",
     "exception": false,
     "start_time": "2022-03-31T13:05:25.108379",
     "status": "completed"
    },
    "tags": []
   },
   "outputs": [
    {
     "data": {
      "text/html": [
       "<div>\n",
       "<style scoped>\n",
       "    .dataframe tbody tr th:only-of-type {\n",
       "        vertical-align: middle;\n",
       "    }\n",
       "\n",
       "    .dataframe tbody tr th {\n",
       "        vertical-align: top;\n",
       "    }\n",
       "\n",
       "    .dataframe thead th {\n",
       "        text-align: right;\n",
       "    }\n",
       "</style>\n",
       "<table border=\"1\" class=\"dataframe\">\n",
       "  <thead>\n",
       "    <tr style=\"text-align: right;\">\n",
       "      <th></th>\n",
       "      <th>PassengerId</th>\n",
       "      <th>Pclass</th>\n",
       "      <th>Name</th>\n",
       "      <th>Sex</th>\n",
       "      <th>Age</th>\n",
       "      <th>SibSp</th>\n",
       "      <th>Parch</th>\n",
       "      <th>Ticket</th>\n",
       "      <th>Fare</th>\n",
       "      <th>Cabin</th>\n",
       "      <th>Embarked</th>\n",
       "    </tr>\n",
       "  </thead>\n",
       "  <tbody>\n",
       "    <tr>\n",
       "      <th>0</th>\n",
       "      <td>892</td>\n",
       "      <td>3</td>\n",
       "      <td>Kelly, Mr. James</td>\n",
       "      <td>male</td>\n",
       "      <td>34.5</td>\n",
       "      <td>0</td>\n",
       "      <td>0</td>\n",
       "      <td>330911</td>\n",
       "      <td>7.8292</td>\n",
       "      <td>NaN</td>\n",
       "      <td>Q</td>\n",
       "    </tr>\n",
       "    <tr>\n",
       "      <th>1</th>\n",
       "      <td>893</td>\n",
       "      <td>3</td>\n",
       "      <td>Wilkes, Mrs. James (Ellen Needs)</td>\n",
       "      <td>female</td>\n",
       "      <td>47.0</td>\n",
       "      <td>1</td>\n",
       "      <td>0</td>\n",
       "      <td>363272</td>\n",
       "      <td>7.0000</td>\n",
       "      <td>NaN</td>\n",
       "      <td>S</td>\n",
       "    </tr>\n",
       "    <tr>\n",
       "      <th>2</th>\n",
       "      <td>894</td>\n",
       "      <td>2</td>\n",
       "      <td>Myles, Mr. Thomas Francis</td>\n",
       "      <td>male</td>\n",
       "      <td>62.0</td>\n",
       "      <td>0</td>\n",
       "      <td>0</td>\n",
       "      <td>240276</td>\n",
       "      <td>9.6875</td>\n",
       "      <td>NaN</td>\n",
       "      <td>Q</td>\n",
       "    </tr>\n",
       "    <tr>\n",
       "      <th>3</th>\n",
       "      <td>895</td>\n",
       "      <td>3</td>\n",
       "      <td>Wirz, Mr. Albert</td>\n",
       "      <td>male</td>\n",
       "      <td>27.0</td>\n",
       "      <td>0</td>\n",
       "      <td>0</td>\n",
       "      <td>315154</td>\n",
       "      <td>8.6625</td>\n",
       "      <td>NaN</td>\n",
       "      <td>S</td>\n",
       "    </tr>\n",
       "    <tr>\n",
       "      <th>4</th>\n",
       "      <td>896</td>\n",
       "      <td>3</td>\n",
       "      <td>Hirvonen, Mrs. Alexander (Helga E Lindqvist)</td>\n",
       "      <td>female</td>\n",
       "      <td>22.0</td>\n",
       "      <td>1</td>\n",
       "      <td>1</td>\n",
       "      <td>3101298</td>\n",
       "      <td>12.2875</td>\n",
       "      <td>NaN</td>\n",
       "      <td>S</td>\n",
       "    </tr>\n",
       "  </tbody>\n",
       "</table>\n",
       "</div>"
      ],
      "text/plain": [
       "   PassengerId  Pclass                                          Name     Sex  \\\n",
       "0          892       3                              Kelly, Mr. James    male   \n",
       "1          893       3              Wilkes, Mrs. James (Ellen Needs)  female   \n",
       "2          894       2                     Myles, Mr. Thomas Francis    male   \n",
       "3          895       3                              Wirz, Mr. Albert    male   \n",
       "4          896       3  Hirvonen, Mrs. Alexander (Helga E Lindqvist)  female   \n",
       "\n",
       "    Age  SibSp  Parch   Ticket     Fare Cabin Embarked  \n",
       "0  34.5      0      0   330911   7.8292   NaN        Q  \n",
       "1  47.0      1      0   363272   7.0000   NaN        S  \n",
       "2  62.0      0      0   240276   9.6875   NaN        Q  \n",
       "3  27.0      0      0   315154   8.6625   NaN        S  \n",
       "4  22.0      1      1  3101298  12.2875   NaN        S  "
      ]
     },
     "execution_count": 10,
     "metadata": {},
     "output_type": "execute_result"
    }
   ],
   "source": [
    "test_data = pd.read_csv(\"/kaggle/input/titanic/test.csv\")\n",
    "test_data.head()"
   ]
  },
  {
   "cell_type": "code",
   "execution_count": 11,
   "id": "spare-crowd",
   "metadata": {
    "execution": {
     "iopub.execute_input": "2022-03-31T13:05:25.191189Z",
     "iopub.status.busy": "2022-03-31T13:05:25.190196Z",
     "iopub.status.idle": "2022-03-31T13:05:25.199027Z",
     "shell.execute_reply": "2022-03-31T13:05:25.199960Z"
    },
    "papermill": {
     "duration": 0.029522,
     "end_time": "2022-03-31T13:05:25.200195",
     "exception": false,
     "start_time": "2022-03-31T13:05:25.170673",
     "status": "completed"
    },
    "tags": []
   },
   "outputs": [
    {
     "name": "stdout",
     "output_type": "stream",
     "text": [
      "% of women who survived: 0.7420382165605095\n"
     ]
    }
   ],
   "source": [
    "women = train_data.loc[train_data.Sex == 'female'][\"Survived\"]\n",
    "rate_women = sum(women)/len(women)\n",
    "\n",
    "print(\"% of women who survived:\", rate_women)"
   ]
  },
  {
   "cell_type": "code",
   "execution_count": 12,
   "id": "authorized-anchor",
   "metadata": {
    "execution": {
     "iopub.execute_input": "2022-03-31T13:05:25.241135Z",
     "iopub.status.busy": "2022-03-31T13:05:25.238014Z",
     "iopub.status.idle": "2022-03-31T13:05:25.247806Z",
     "shell.execute_reply": "2022-03-31T13:05:25.246809Z"
    },
    "papermill": {
     "duration": 0.029968,
     "end_time": "2022-03-31T13:05:25.248018",
     "exception": false,
     "start_time": "2022-03-31T13:05:25.218050",
     "status": "completed"
    },
    "tags": []
   },
   "outputs": [
    {
     "name": "stdout",
     "output_type": "stream",
     "text": [
      "% of men who survived: 0.18890814558058924\n"
     ]
    }
   ],
   "source": [
    "men = train_data.loc[train_data.Sex == 'male'][\"Survived\"]\n",
    "rate_men = sum(men)/len(men)\n",
    "\n",
    "print(\"% of men who survived:\", rate_men)"
   ]
  },
  {
   "cell_type": "code",
   "execution_count": 13,
   "id": "egyptian-hypothetical",
   "metadata": {
    "execution": {
     "iopub.execute_input": "2022-03-31T13:05:25.288469Z",
     "iopub.status.busy": "2022-03-31T13:05:25.287769Z",
     "iopub.status.idle": "2022-03-31T13:05:25.982706Z",
     "shell.execute_reply": "2022-03-31T13:05:25.981773Z"
    },
    "papermill": {
     "duration": 0.715478,
     "end_time": "2022-03-31T13:05:25.982902",
     "exception": false,
     "start_time": "2022-03-31T13:05:25.267424",
     "status": "completed"
    },
    "tags": []
   },
   "outputs": [
    {
     "name": "stdout",
     "output_type": "stream",
     "text": [
      "Your submission was successfully saved!\n"
     ]
    }
   ],
   "source": [
    "from sklearn.ensemble import RandomForestClassifier\n",
    "\n",
    "y = train_data[\"Survived\"]\n",
    "\n",
    "features = [\"Pclass\", \"Sex\", \"SibSp\", \"Parch\"]\n",
    "X = pd.get_dummies(train_data[features])\n",
    "X_test = pd.get_dummies(test_data[features])\n",
    "\n",
    "model = RandomForestClassifier(n_estimators=100, max_depth=5, random_state=1)\n",
    "model.fit(X, y)\n",
    "predictions = model.predict(X_test)\n",
    "\n",
    "output = pd.DataFrame({'PassengerId': test_data.PassengerId, 'Survived': predictions})\n",
    "output.to_csv('my_submission.csv', index=False)\n",
    "print(\"Your submission was successfully saved!\")\n"
   ]
  },
  {
   "cell_type": "code",
   "execution_count": null,
   "id": "intense-provincial",
   "metadata": {
    "papermill": {
     "duration": 0.017976,
     "end_time": "2022-03-31T13:05:26.019806",
     "exception": false,
     "start_time": "2022-03-31T13:05:26.001830",
     "status": "completed"
    },
    "tags": []
   },
   "outputs": [],
   "source": []
  }
 ],
 "metadata": {
  "kernelspec": {
   "display_name": "Python 3",
   "language": "python",
   "name": "python3"
  },
  "language_info": {
   "codemirror_mode": {
    "name": "ipython",
    "version": 3
   },
   "file_extension": ".py",
   "mimetype": "text/x-python",
   "name": "python",
   "nbconvert_exporter": "python",
   "pygments_lexer": "ipython3",
   "version": "3.7.10"
  },
  "papermill": {
   "default_parameters": {},
   "duration": 12.96432,
   "end_time": "2022-03-31T13:05:27.467440",
   "environment_variables": {},
   "exception": null,
   "input_path": "__notebook__.ipynb",
   "output_path": "__notebook__.ipynb",
   "parameters": {},
   "start_time": "2022-03-31T13:05:14.503120",
   "version": "2.3.3"
  }
 },
 "nbformat": 4,
 "nbformat_minor": 5
}
