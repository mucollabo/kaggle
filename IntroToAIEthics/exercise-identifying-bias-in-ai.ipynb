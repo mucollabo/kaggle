{
 "cells": [
  {
   "cell_type": "markdown",
   "id": "74971450",
   "metadata": {
    "papermill": {
     "duration": 0.009458,
     "end_time": "2022-07-19T16:17:58.388660",
     "exception": false,
     "start_time": "2022-07-19T16:17:58.379202",
     "status": "completed"
    },
    "tags": []
   },
   "source": [
    "**This notebook is an exercise in the [AI Ethics](https://www.kaggle.com/learn/ai-ethics) course.  You can reference the tutorial at [this link](https://www.kaggle.com/alexisbcook/identifying-bias-in-ai).**\n",
    "\n",
    "---\n"
   ]
  },
  {
   "cell_type": "markdown",
   "id": "0f811202",
   "metadata": {
    "papermill": {
     "duration": 0.007904,
     "end_time": "2022-07-19T16:17:58.404897",
     "exception": false,
     "start_time": "2022-07-19T16:17:58.396993",
     "status": "completed"
    },
    "tags": []
   },
   "source": [
    "In the tutorial, you learned about six different types of bias.  In this exercise, you'll train a model with **real data** and get practice with identifying bias.  Don't worry if you're new to coding: you'll still be able to complete the exercise!\n",
    "\n",
    "# Introduction\n",
    "\n",
    "At the end of 2017, the [Civil Comments](https://medium.com/@aja_15265/saying-goodbye-to-civil-comments-41859d3a2b1d) platform shut down and released their ~2 million public comments in a lasting open archive. Jigsaw sponsored this effort and helped to comprehensively annotate the data.  In 2019, Kaggle held the [Jigsaw Unintended Bias in Toxicity Classification](https://www.kaggle.com/c/jigsaw-unintended-bias-in-toxicity-classification/overview) competition so that data scientists worldwide could work together to investigate ways to mitigate bias.\n",
    "\n",
    "The code cell below loads some of the data from the competition.  We'll work with thousands of comments, where each comment is labeled as either \"toxic\" or \"not toxic\".\n",
    "\n",
    "Begin by running the next code cell.  \n",
    "- Clicking inside the code cell.\n",
    "- Click on the triangle (in the shape of a \"Play button\") that appears to the left of the code cell.\n",
    "\n",
    "The code will run for approximately 30 seconds.  When it finishes, you should see as output a message saying that the data was successfully loaded, along with two examples of comments: one is toxic, and the other is not."
   ]
  },
  {
   "cell_type": "code",
   "execution_count": 1,
   "id": "a708361a",
   "metadata": {
    "execution": {
     "iopub.execute_input": "2022-07-19T16:17:58.423551Z",
     "iopub.status.busy": "2022-07-19T16:17:58.422999Z",
     "iopub.status.idle": "2022-07-19T16:18:09.415845Z",
     "shell.execute_reply": "2022-07-19T16:18:09.414678Z"
    },
    "papermill": {
     "duration": 11.005872,
     "end_time": "2022-07-19T16:18:09.419009",
     "exception": false,
     "start_time": "2022-07-19T16:17:58.413137",
     "status": "completed"
    },
    "tags": []
   },
   "outputs": [
    {
     "name": "stdout",
     "output_type": "stream",
     "text": [
      "Data successfully loaded!\n",
      "\n",
      "Sample toxic comment: Too dumb to even answer.\n",
      "Sample not-toxic comment: No they aren't.\n"
     ]
    }
   ],
   "source": [
    "# Set up feedback system\n",
    "from learntools.core import binder\n",
    "binder.bind(globals())\n",
    "from learntools.ethics.ex3 import *\n",
    "\n",
    "import numpy as np\n",
    "import pandas as pd\n",
    "from sklearn.model_selection import train_test_split\n",
    "from sklearn.feature_extraction.text import CountVectorizer\n",
    "\n",
    "# Get the same results each time\n",
    "np.random.seed(0)\n",
    "\n",
    "# Load the training data\n",
    "data = pd.read_csv(\"../input/jigsaw-snapshot/data.csv\")\n",
    "comments = data[\"comment_text\"]\n",
    "target = (data[\"target\"]>0.7).astype(int)\n",
    "\n",
    "# Break into training and test sets\n",
    "comments_train, comments_test, y_train, y_test = train_test_split(comments, target, test_size=0.30, stratify=target)\n",
    "\n",
    "# Get vocabulary from training data\n",
    "vectorizer = CountVectorizer()\n",
    "vectorizer.fit(comments_train)\n",
    "\n",
    "# Get word counts for training and test sets\n",
    "X_train = vectorizer.transform(comments_train)\n",
    "X_test = vectorizer.transform(comments_test)\n",
    "\n",
    "# Preview the dataset\n",
    "print(\"Data successfully loaded!\\n\")\n",
    "print(\"Sample toxic comment:\", comments_train.iloc[22])\n",
    "print(\"Sample not-toxic comment:\", comments_train.iloc[17])"
   ]
  },
  {
   "cell_type": "markdown",
   "id": "b8b3fb4b",
   "metadata": {
    "papermill": {
     "duration": 0.008317,
     "end_time": "2022-07-19T16:18:09.436781",
     "exception": false,
     "start_time": "2022-07-19T16:18:09.428464",
     "status": "completed"
    },
    "tags": []
   },
   "source": [
    "Run the next code cell without changes to use the data to train a simple model.  The output shows the accuracy of the model on some test data."
   ]
  },
  {
   "cell_type": "code",
   "execution_count": 2,
   "id": "d327ec42",
   "metadata": {
    "execution": {
     "iopub.execute_input": "2022-07-19T16:18:09.455896Z",
     "iopub.status.busy": "2022-07-19T16:18:09.455530Z",
     "iopub.status.idle": "2022-07-19T16:18:33.465947Z",
     "shell.execute_reply": "2022-07-19T16:18:33.464623Z"
    },
    "papermill": {
     "duration": 24.024123,
     "end_time": "2022-07-19T16:18:33.469813",
     "exception": false,
     "start_time": "2022-07-19T16:18:09.445690",
     "status": "completed"
    },
    "tags": []
   },
   "outputs": [
    {
     "name": "stdout",
     "output_type": "stream",
     "text": [
      "Accuracy: 0.9304755967877966\n"
     ]
    }
   ],
   "source": [
    "from sklearn.linear_model import LogisticRegression\n",
    "\n",
    "# Train a model and evaluate performance on test dataset\n",
    "classifier = LogisticRegression(max_iter=2000)\n",
    "classifier.fit(X_train, y_train)\n",
    "score = classifier.score(X_test, y_test)\n",
    "print(\"Accuracy:\", score)\n",
    "\n",
    "# Function to classify any string\n",
    "def classify_string(string, investigate=False):\n",
    "    prediction = classifier.predict(vectorizer.transform([string]))[0]\n",
    "    if prediction == 0:\n",
    "        print(\"NOT TOXIC:\", string)\n",
    "    else:\n",
    "        print(\"TOXIC:\", string)"
   ]
  },
  {
   "cell_type": "markdown",
   "id": "6acb6c63",
   "metadata": {
    "papermill": {
     "duration": 0.030202,
     "end_time": "2022-07-19T16:18:33.525212",
     "exception": false,
     "start_time": "2022-07-19T16:18:33.495010",
     "status": "completed"
    },
    "tags": []
   },
   "source": [
    "Roughly 93% of the comments in the test data are classified correctly!\n",
    "\n",
    "# 1) Try out the model\n",
    "\n",
    "You'll use the next code cell to write your own comments and supply them to the model: does the model classify them as toxic?  \n",
    "\n",
    "1. Begin by running the code cell as-is to classify the comment `\"I love apples\"`.  You should see that was classified as \"NOT TOXIC\".\n",
    "\n",
    "2. Then, try out another comment: `\"Apples are stupid\"`.  To do this, change only `\"I love apples\"` and leaving the rest of the code as-is.  Make sure that your comment is enclosed in quotes, as below.\n",
    "```python\n",
    "my_comment = \"Apples are stupid\"\n",
    "```\n",
    "3. Try out several comments (not necessarily about apples!), to see how the model performs: does it perform as suspected?"
   ]
  },
  {
   "cell_type": "code",
   "execution_count": 3,
   "id": "289e4d36",
   "metadata": {
    "execution": {
     "iopub.execute_input": "2022-07-19T16:18:33.572483Z",
     "iopub.status.busy": "2022-07-19T16:18:33.572054Z",
     "iopub.status.idle": "2022-07-19T16:18:33.585501Z",
     "shell.execute_reply": "2022-07-19T16:18:33.584430Z"
    },
    "papermill": {
     "duration": 0.030669,
     "end_time": "2022-07-19T16:18:33.587557",
     "exception": false,
     "start_time": "2022-07-19T16:18:33.556888",
     "status": "completed"
    },
    "tags": []
   },
   "outputs": [
    {
     "name": "stdout",
     "output_type": "stream",
     "text": [
      "NOT TOXIC: I love apples\n"
     ]
    },
    {
     "data": {
      "application/javascript": [
       "parent.postMessage({\"jupyterEvent\": \"custom.exercise_interaction\", \"data\": {\"outcomeType\": 1, \"valueTowardsCompletion\": 0.14285714285714285, \"interactionType\": 1, \"questionType\": 4, \"questionId\": \"1_TryOut\", \"learnToolsVersion\": \"0.3.4\", \"failureMessage\": \"\", \"exceptionClass\": \"\", \"trace\": \"\"}}, \"*\")"
      ],
      "text/plain": [
       "<IPython.core.display.Javascript object>"
      ]
     },
     "metadata": {},
     "output_type": "display_data"
    },
    {
     "data": {
      "text/markdown": [
       "<span style=\"color:#33cc33\"></span>"
      ],
      "text/plain": []
     },
     "metadata": {},
     "output_type": "display_data"
    }
   ],
   "source": [
    "# Comment to pass through the model\n",
    "my_comment = \"I love apples\"\n",
    "\n",
    "# Do not change the code below\n",
    "classify_string(my_comment)\n",
    "q_1.check()"
   ]
  },
  {
   "cell_type": "code",
   "execution_count": 4,
   "id": "9ec0a866",
   "metadata": {
    "execution": {
     "iopub.execute_input": "2022-07-19T16:18:33.607396Z",
     "iopub.status.busy": "2022-07-19T16:18:33.606974Z",
     "iopub.status.idle": "2022-07-19T16:18:33.613169Z",
     "shell.execute_reply": "2022-07-19T16:18:33.612014Z"
    },
    "papermill": {
     "duration": 0.019236,
     "end_time": "2022-07-19T16:18:33.615820",
     "exception": false,
     "start_time": "2022-07-19T16:18:33.596584",
     "status": "completed"
    },
    "tags": []
   },
   "outputs": [
    {
     "name": "stdout",
     "output_type": "stream",
     "text": [
      "TOXIC: Apples are stupid\n"
     ]
    }
   ],
   "source": [
    "# Comment to pass through the model\n",
    "my_comment = \"Apples are stupid\"\n",
    "\n",
    "# Do not change the code below\n",
    "classify_string(my_comment)"
   ]
  },
  {
   "cell_type": "code",
   "execution_count": 5,
   "id": "6577faf3",
   "metadata": {
    "execution": {
     "iopub.execute_input": "2022-07-19T16:18:33.635451Z",
     "iopub.status.busy": "2022-07-19T16:18:33.635052Z",
     "iopub.status.idle": "2022-07-19T16:18:33.641514Z",
     "shell.execute_reply": "2022-07-19T16:18:33.640362Z"
    },
    "papermill": {
     "duration": 0.019002,
     "end_time": "2022-07-19T16:18:33.643917",
     "exception": false,
     "start_time": "2022-07-19T16:18:33.624915",
     "status": "completed"
    },
    "tags": []
   },
   "outputs": [
    {
     "name": "stdout",
     "output_type": "stream",
     "text": [
      "NOT TOXIC: I love dogs\n"
     ]
    }
   ],
   "source": [
    "# Comment to pass through the model\n",
    "my_comment = \"I love dogs\"\n",
    "\n",
    "# Do not change the code below\n",
    "classify_string(my_comment)"
   ]
  },
  {
   "cell_type": "code",
   "execution_count": 6,
   "id": "1a229c43",
   "metadata": {
    "execution": {
     "iopub.execute_input": "2022-07-19T16:18:33.664939Z",
     "iopub.status.busy": "2022-07-19T16:18:33.663896Z",
     "iopub.status.idle": "2022-07-19T16:18:33.670955Z",
     "shell.execute_reply": "2022-07-19T16:18:33.669496Z"
    },
    "papermill": {
     "duration": 0.020191,
     "end_time": "2022-07-19T16:18:33.673172",
     "exception": false,
     "start_time": "2022-07-19T16:18:33.652981",
     "status": "completed"
    },
    "tags": []
   },
   "outputs": [
    {
     "name": "stdout",
     "output_type": "stream",
     "text": [
      "NOT TOXIC: The dogs are cute\n"
     ]
    }
   ],
   "source": [
    "# Comment to pass through the model\n",
    "my_comment = \"The dogs are cute\"\n",
    "\n",
    "# Do not change the code below\n",
    "classify_string(my_comment)"
   ]
  },
  {
   "cell_type": "code",
   "execution_count": 7,
   "id": "05be000d",
   "metadata": {
    "execution": {
     "iopub.execute_input": "2022-07-19T16:18:33.693166Z",
     "iopub.status.busy": "2022-07-19T16:18:33.692792Z",
     "iopub.status.idle": "2022-07-19T16:18:33.699278Z",
     "shell.execute_reply": "2022-07-19T16:18:33.698114Z"
    },
    "papermill": {
     "duration": 0.01964,
     "end_time": "2022-07-19T16:18:33.701942",
     "exception": false,
     "start_time": "2022-07-19T16:18:33.682302",
     "status": "completed"
    },
    "tags": []
   },
   "outputs": [
    {
     "name": "stdout",
     "output_type": "stream",
     "text": [
      "TOXIC: The birds are ugly\n"
     ]
    }
   ],
   "source": [
    "# Comment to pass through the model\n",
    "my_comment = \"The birds are ugly\"\n",
    "\n",
    "# Do not change the code below\n",
    "classify_string(my_comment)"
   ]
  },
  {
   "cell_type": "markdown",
   "id": "b3389f32",
   "metadata": {
    "papermill": {
     "duration": 0.008971,
     "end_time": "2022-07-19T16:18:33.720050",
     "exception": false,
     "start_time": "2022-07-19T16:18:33.711079",
     "status": "completed"
    },
    "tags": []
   },
   "source": [
    "Once you're done with testing comments, we'll move on to understand how the model makes decisions.  Run the next code cell without changes.\n",
    "\n",
    "The model assigns each of roughly 58,000 words a coefficient, where higher coefficients denote words that the model thinks are more toxic.  The code cell outputs the ten words that are considered most toxic, along with their coefficients.  "
   ]
  },
  {
   "cell_type": "code",
   "execution_count": 8,
   "id": "1588a593",
   "metadata": {
    "execution": {
     "iopub.execute_input": "2022-07-19T16:18:33.740036Z",
     "iopub.status.busy": "2022-07-19T16:18:33.739665Z",
     "iopub.status.idle": "2022-07-19T16:18:33.817684Z",
     "shell.execute_reply": "2022-07-19T16:18:33.816321Z"
    },
    "papermill": {
     "duration": 0.091159,
     "end_time": "2022-07-19T16:18:33.820310",
     "exception": false,
     "start_time": "2022-07-19T16:18:33.729151",
     "status": "completed"
    },
    "tags": []
   },
   "outputs": [
    {
     "data": {
      "text/html": [
       "<div>\n",
       "<style scoped>\n",
       "    .dataframe tbody tr th:only-of-type {\n",
       "        vertical-align: middle;\n",
       "    }\n",
       "\n",
       "    .dataframe tbody tr th {\n",
       "        vertical-align: top;\n",
       "    }\n",
       "\n",
       "    .dataframe thead th {\n",
       "        text-align: right;\n",
       "    }\n",
       "</style>\n",
       "<table border=\"1\" class=\"dataframe\">\n",
       "  <thead>\n",
       "    <tr style=\"text-align: right;\">\n",
       "      <th></th>\n",
       "      <th>word</th>\n",
       "      <th>coeff</th>\n",
       "    </tr>\n",
       "  </thead>\n",
       "  <tbody>\n",
       "    <tr>\n",
       "      <th>20745</th>\n",
       "      <td>fools</td>\n",
       "      <td>6.278428</td>\n",
       "    </tr>\n",
       "    <tr>\n",
       "      <th>34211</th>\n",
       "      <td>moron</td>\n",
       "      <td>6.332332</td>\n",
       "    </tr>\n",
       "    <tr>\n",
       "      <th>16844</th>\n",
       "      <td>dumb</td>\n",
       "      <td>6.359258</td>\n",
       "    </tr>\n",
       "    <tr>\n",
       "      <th>12907</th>\n",
       "      <td>crap</td>\n",
       "      <td>6.489638</td>\n",
       "    </tr>\n",
       "    <tr>\n",
       "      <th>38317</th>\n",
       "      <td>pathetic</td>\n",
       "      <td>6.554183</td>\n",
       "    </tr>\n",
       "    <tr>\n",
       "      <th>25850</th>\n",
       "      <td>idiotic</td>\n",
       "      <td>7.004782</td>\n",
       "    </tr>\n",
       "    <tr>\n",
       "      <th>49802</th>\n",
       "      <td>stupidity</td>\n",
       "      <td>7.552952</td>\n",
       "    </tr>\n",
       "    <tr>\n",
       "      <th>25858</th>\n",
       "      <td>idiots</td>\n",
       "      <td>8.601077</td>\n",
       "    </tr>\n",
       "    <tr>\n",
       "      <th>25847</th>\n",
       "      <td>idiot</td>\n",
       "      <td>8.604506</td>\n",
       "    </tr>\n",
       "    <tr>\n",
       "      <th>49789</th>\n",
       "      <td>stupid</td>\n",
       "      <td>9.277706</td>\n",
       "    </tr>\n",
       "  </tbody>\n",
       "</table>\n",
       "</div>"
      ],
      "text/plain": [
       "            word     coeff\n",
       "20745      fools  6.278428\n",
       "34211      moron  6.332332\n",
       "16844       dumb  6.359258\n",
       "12907       crap  6.489638\n",
       "38317   pathetic  6.554183\n",
       "25850    idiotic  7.004782\n",
       "49802  stupidity  7.552952\n",
       "25858     idiots  8.601077\n",
       "25847      idiot  8.604506\n",
       "49789     stupid  9.277706"
      ]
     },
     "execution_count": 8,
     "metadata": {},
     "output_type": "execute_result"
    }
   ],
   "source": [
    "coefficients = pd.DataFrame({\"word\": sorted(list(vectorizer.vocabulary_.keys())), \"coeff\": classifier.coef_[0]})\n",
    "coefficients.sort_values(by=['coeff']).tail(10)"
   ]
  },
  {
   "cell_type": "markdown",
   "id": "37054fdb",
   "metadata": {
    "papermill": {
     "duration": 0.009885,
     "end_time": "2022-07-19T16:18:33.839851",
     "exception": false,
     "start_time": "2022-07-19T16:18:33.829966",
     "status": "completed"
    },
    "tags": []
   },
   "source": [
    "# 2) Most toxic words\n",
    "\n",
    "Take a look at the most toxic words from the code cell above.  Are you surprised to see any of them?  Are there any words that seem like they should not be in the list?"
   ]
  },
  {
   "cell_type": "code",
   "execution_count": 9,
   "id": "e3b28bc1",
   "metadata": {
    "execution": {
     "iopub.execute_input": "2022-07-19T16:18:33.861884Z",
     "iopub.status.busy": "2022-07-19T16:18:33.860715Z",
     "iopub.status.idle": "2022-07-19T16:18:33.870292Z",
     "shell.execute_reply": "2022-07-19T16:18:33.869161Z"
    },
    "papermill": {
     "duration": 0.022867,
     "end_time": "2022-07-19T16:18:33.872538",
     "exception": false,
     "start_time": "2022-07-19T16:18:33.849671",
     "status": "completed"
    },
    "tags": []
   },
   "outputs": [
    {
     "data": {
      "application/javascript": [
       "parent.postMessage({\"jupyterEvent\": \"custom.exercise_interaction\", \"data\": {\"outcomeType\": 1, \"valueTowardsCompletion\": 0.14285714285714285, \"interactionType\": 1, \"questionType\": 4, \"questionId\": \"2_MostToxic\", \"learnToolsVersion\": \"0.3.4\", \"failureMessage\": \"\", \"exceptionClass\": \"\", \"trace\": \"\"}}, \"*\")"
      ],
      "text/plain": [
       "<IPython.core.display.Javascript object>"
      ]
     },
     "metadata": {},
     "output_type": "display_data"
    },
    {
     "data": {
      "text/markdown": [
       "<span style=\"color:#33cc33\">Solution:</span> None of the words are surprising.  They are all clearly toxic."
      ],
      "text/plain": [
       "Solution: None of the words are surprising.  They are all clearly toxic."
      ]
     },
     "metadata": {},
     "output_type": "display_data"
    }
   ],
   "source": [
    "# Check your answer (Run this code cell to get credit!)\n",
    "q_2.check()"
   ]
  },
  {
   "cell_type": "markdown",
   "id": "2a5f97c0",
   "metadata": {
    "papermill": {
     "duration": 0.009818,
     "end_time": "2022-07-19T16:18:33.892181",
     "exception": false,
     "start_time": "2022-07-19T16:18:33.882363",
     "status": "completed"
    },
    "tags": []
   },
   "source": [
    "# 3) A closer investigation\n",
    "\n",
    "We'll take a closer look at how the model classifies comments.\n",
    "1. Begin by running the code cell as-is to classify the comment `\"I have a christian friend\"`.  You should see that was classified as \"NOT TOXIC\".  In addition, you can see what scores were assigned to some of the individual words.  Note that all words in the comment likely won't appear.\n",
    "2. Next, try out another comment: `\"I have a muslim friend\"`.  To do this, change only `\"I have a christian friend\"` and leave the rest of the code as-is. Make sure that your comment is enclosed in quotes, as below.\n",
    "```python\n",
    "new_comment = \"I have a muslim friend\"\n",
    "```\n",
    "3. Try out two more comments: `\"I have a white friend\"` and `\"I have a black friend\"` (in each case, do not add punctuation to the comment).\n",
    "4. Feel free to try out more comments, to see how the model classifies them."
   ]
  },
  {
   "cell_type": "code",
   "execution_count": 10,
   "id": "be08043a",
   "metadata": {
    "execution": {
     "iopub.execute_input": "2022-07-19T16:18:33.913691Z",
     "iopub.status.busy": "2022-07-19T16:18:33.913033Z",
     "iopub.status.idle": "2022-07-19T16:18:33.934734Z",
     "shell.execute_reply": "2022-07-19T16:18:33.933663Z"
    },
    "papermill": {
     "duration": 0.035208,
     "end_time": "2022-07-19T16:18:33.937235",
     "exception": false,
     "start_time": "2022-07-19T16:18:33.902027",
     "status": "completed"
    },
    "tags": []
   },
   "outputs": [
    {
     "name": "stdout",
     "output_type": "stream",
     "text": [
      "NOT TOXIC: I have a christian friend\n"
     ]
    },
    {
     "data": {
      "application/javascript": [
       "parent.postMessage({\"jupyterEvent\": \"custom.exercise_interaction\", \"data\": {\"outcomeType\": 1, \"valueTowardsCompletion\": 0.14285714285714285, \"interactionType\": 1, \"questionType\": 4, \"questionId\": \"3_CloserInvestigation\", \"learnToolsVersion\": \"0.3.4\", \"failureMessage\": \"\", \"exceptionClass\": \"\", \"trace\": \"\"}}, \"*\")"
      ],
      "text/plain": [
       "<IPython.core.display.Javascript object>"
      ]
     },
     "metadata": {},
     "output_type": "display_data"
    },
    {
     "data": {
      "text/markdown": [
       "<span style=\"color:#33cc33\"></span>"
      ],
      "text/plain": []
     },
     "metadata": {},
     "output_type": "display_data"
    }
   ],
   "source": [
    "# Set the value of new_comment\n",
    "new_comment = \"I have a christian friend\"\n",
    "\n",
    "# Do not change the code below\n",
    "classify_string(new_comment)\n",
    "coefficients[coefficients.word.isin(new_comment.split())]\n",
    "q_3.check()"
   ]
  },
  {
   "cell_type": "code",
   "execution_count": 11,
   "id": "e8c0c75c",
   "metadata": {
    "execution": {
     "iopub.execute_input": "2022-07-19T16:18:33.961400Z",
     "iopub.status.busy": "2022-07-19T16:18:33.960138Z",
     "iopub.status.idle": "2022-07-19T16:18:33.982806Z",
     "shell.execute_reply": "2022-07-19T16:18:33.981425Z"
    },
    "papermill": {
     "duration": 0.037347,
     "end_time": "2022-07-19T16:18:33.985476",
     "exception": false,
     "start_time": "2022-07-19T16:18:33.948129",
     "status": "completed"
    },
    "tags": []
   },
   "outputs": [
    {
     "name": "stdout",
     "output_type": "stream",
     "text": [
      "TOXIC: I have a muslim friend\n"
     ]
    },
    {
     "data": {
      "text/html": [
       "<div>\n",
       "<style scoped>\n",
       "    .dataframe tbody tr th:only-of-type {\n",
       "        vertical-align: middle;\n",
       "    }\n",
       "\n",
       "    .dataframe tbody tr th {\n",
       "        vertical-align: top;\n",
       "    }\n",
       "\n",
       "    .dataframe thead th {\n",
       "        text-align: right;\n",
       "    }\n",
       "</style>\n",
       "<table border=\"1\" class=\"dataframe\">\n",
       "  <thead>\n",
       "    <tr style=\"text-align: right;\">\n",
       "      <th></th>\n",
       "      <th>word</th>\n",
       "      <th>coeff</th>\n",
       "    </tr>\n",
       "  </thead>\n",
       "  <tbody>\n",
       "    <tr>\n",
       "      <th>21256</th>\n",
       "      <td>friend</td>\n",
       "      <td>-0.131061</td>\n",
       "    </tr>\n",
       "    <tr>\n",
       "      <th>24049</th>\n",
       "      <td>have</td>\n",
       "      <td>-0.072392</td>\n",
       "    </tr>\n",
       "    <tr>\n",
       "      <th>34692</th>\n",
       "      <td>muslim</td>\n",
       "      <td>1.768650</td>\n",
       "    </tr>\n",
       "  </tbody>\n",
       "</table>\n",
       "</div>"
      ],
      "text/plain": [
       "         word     coeff\n",
       "21256  friend -0.131061\n",
       "24049    have -0.072392\n",
       "34692  muslim  1.768650"
      ]
     },
     "execution_count": 11,
     "metadata": {},
     "output_type": "execute_result"
    }
   ],
   "source": [
    "# Set the value of new_comment\n",
    "new_comment = \"I have a muslim friend\"\n",
    "\n",
    "# Do not change the code below\n",
    "classify_string(new_comment)\n",
    "coefficients[coefficients.word.isin(new_comment.split())]"
   ]
  },
  {
   "cell_type": "code",
   "execution_count": 12,
   "id": "c869c817",
   "metadata": {
    "execution": {
     "iopub.execute_input": "2022-07-19T16:18:34.008912Z",
     "iopub.status.busy": "2022-07-19T16:18:34.007991Z",
     "iopub.status.idle": "2022-07-19T16:18:34.030919Z",
     "shell.execute_reply": "2022-07-19T16:18:34.028825Z"
    },
    "papermill": {
     "duration": 0.037541,
     "end_time": "2022-07-19T16:18:34.033895",
     "exception": false,
     "start_time": "2022-07-19T16:18:33.996354",
     "status": "completed"
    },
    "tags": []
   },
   "outputs": [
    {
     "name": "stdout",
     "output_type": "stream",
     "text": [
      "NOT TOXIC: I have a white friend\n"
     ]
    },
    {
     "data": {
      "text/html": [
       "<div>\n",
       "<style scoped>\n",
       "    .dataframe tbody tr th:only-of-type {\n",
       "        vertical-align: middle;\n",
       "    }\n",
       "\n",
       "    .dataframe tbody tr th {\n",
       "        vertical-align: top;\n",
       "    }\n",
       "\n",
       "    .dataframe thead th {\n",
       "        text-align: right;\n",
       "    }\n",
       "</style>\n",
       "<table border=\"1\" class=\"dataframe\">\n",
       "  <thead>\n",
       "    <tr style=\"text-align: right;\">\n",
       "      <th></th>\n",
       "      <th>word</th>\n",
       "      <th>coeff</th>\n",
       "    </tr>\n",
       "  </thead>\n",
       "  <tbody>\n",
       "    <tr>\n",
       "      <th>21256</th>\n",
       "      <td>friend</td>\n",
       "      <td>-0.131061</td>\n",
       "    </tr>\n",
       "    <tr>\n",
       "      <th>24049</th>\n",
       "      <td>have</td>\n",
       "      <td>-0.072392</td>\n",
       "    </tr>\n",
       "    <tr>\n",
       "      <th>56554</th>\n",
       "      <td>white</td>\n",
       "      <td>1.169117</td>\n",
       "    </tr>\n",
       "  </tbody>\n",
       "</table>\n",
       "</div>"
      ],
      "text/plain": [
       "         word     coeff\n",
       "21256  friend -0.131061\n",
       "24049    have -0.072392\n",
       "56554   white  1.169117"
      ]
     },
     "execution_count": 12,
     "metadata": {},
     "output_type": "execute_result"
    }
   ],
   "source": [
    "# Set the value of new_comment\n",
    "new_comment = \"I have a white friend\"\n",
    "\n",
    "# Do not change the code below\n",
    "classify_string(new_comment)\n",
    "coefficients[coefficients.word.isin(new_comment.split())]"
   ]
  },
  {
   "cell_type": "code",
   "execution_count": 13,
   "id": "85b21344",
   "metadata": {
    "execution": {
     "iopub.execute_input": "2022-07-19T16:18:34.056960Z",
     "iopub.status.busy": "2022-07-19T16:18:34.055875Z",
     "iopub.status.idle": "2022-07-19T16:18:34.077410Z",
     "shell.execute_reply": "2022-07-19T16:18:34.076199Z"
    },
    "papermill": {
     "duration": 0.035582,
     "end_time": "2022-07-19T16:18:34.079902",
     "exception": false,
     "start_time": "2022-07-19T16:18:34.044320",
     "status": "completed"
    },
    "tags": []
   },
   "outputs": [
    {
     "name": "stdout",
     "output_type": "stream",
     "text": [
      "TOXIC: I have a black friend\n"
     ]
    },
    {
     "data": {
      "text/html": [
       "<div>\n",
       "<style scoped>\n",
       "    .dataframe tbody tr th:only-of-type {\n",
       "        vertical-align: middle;\n",
       "    }\n",
       "\n",
       "    .dataframe tbody tr th {\n",
       "        vertical-align: top;\n",
       "    }\n",
       "\n",
       "    .dataframe thead th {\n",
       "        text-align: right;\n",
       "    }\n",
       "</style>\n",
       "<table border=\"1\" class=\"dataframe\">\n",
       "  <thead>\n",
       "    <tr style=\"text-align: right;\">\n",
       "      <th></th>\n",
       "      <th>word</th>\n",
       "      <th>coeff</th>\n",
       "    </tr>\n",
       "  </thead>\n",
       "  <tbody>\n",
       "    <tr>\n",
       "      <th>6893</th>\n",
       "      <td>black</td>\n",
       "      <td>2.104589</td>\n",
       "    </tr>\n",
       "    <tr>\n",
       "      <th>21256</th>\n",
       "      <td>friend</td>\n",
       "      <td>-0.131061</td>\n",
       "    </tr>\n",
       "    <tr>\n",
       "      <th>24049</th>\n",
       "      <td>have</td>\n",
       "      <td>-0.072392</td>\n",
       "    </tr>\n",
       "  </tbody>\n",
       "</table>\n",
       "</div>"
      ],
      "text/plain": [
       "         word     coeff\n",
       "6893    black  2.104589\n",
       "21256  friend -0.131061\n",
       "24049    have -0.072392"
      ]
     },
     "execution_count": 13,
     "metadata": {},
     "output_type": "execute_result"
    }
   ],
   "source": [
    "# Set the value of new_comment\n",
    "new_comment = \"I have a black friend\"\n",
    "\n",
    "# Do not change the code below\n",
    "classify_string(new_comment)\n",
    "coefficients[coefficients.word.isin(new_comment.split())]"
   ]
  },
  {
   "cell_type": "code",
   "execution_count": 14,
   "id": "82ae145b",
   "metadata": {
    "execution": {
     "iopub.execute_input": "2022-07-19T16:18:34.104313Z",
     "iopub.status.busy": "2022-07-19T16:18:34.103370Z",
     "iopub.status.idle": "2022-07-19T16:18:34.125601Z",
     "shell.execute_reply": "2022-07-19T16:18:34.123798Z"
    },
    "papermill": {
     "duration": 0.037464,
     "end_time": "2022-07-19T16:18:34.128016",
     "exception": false,
     "start_time": "2022-07-19T16:18:34.090552",
     "status": "completed"
    },
    "tags": []
   },
   "outputs": [
    {
     "name": "stdout",
     "output_type": "stream",
     "text": [
      "NOT TOXIC: I have a musician\n"
     ]
    },
    {
     "data": {
      "text/html": [
       "<div>\n",
       "<style scoped>\n",
       "    .dataframe tbody tr th:only-of-type {\n",
       "        vertical-align: middle;\n",
       "    }\n",
       "\n",
       "    .dataframe tbody tr th {\n",
       "        vertical-align: top;\n",
       "    }\n",
       "\n",
       "    .dataframe thead th {\n",
       "        text-align: right;\n",
       "    }\n",
       "</style>\n",
       "<table border=\"1\" class=\"dataframe\">\n",
       "  <thead>\n",
       "    <tr style=\"text-align: right;\">\n",
       "      <th></th>\n",
       "      <th>word</th>\n",
       "      <th>coeff</th>\n",
       "    </tr>\n",
       "  </thead>\n",
       "  <tbody>\n",
       "    <tr>\n",
       "      <th>24049</th>\n",
       "      <td>have</td>\n",
       "      <td>-0.072392</td>\n",
       "    </tr>\n",
       "    <tr>\n",
       "      <th>34683</th>\n",
       "      <td>musician</td>\n",
       "      <td>0.137478</td>\n",
       "    </tr>\n",
       "  </tbody>\n",
       "</table>\n",
       "</div>"
      ],
      "text/plain": [
       "           word     coeff\n",
       "24049      have -0.072392\n",
       "34683  musician  0.137478"
      ]
     },
     "execution_count": 14,
     "metadata": {},
     "output_type": "execute_result"
    }
   ],
   "source": [
    "# Set the value of new_comment\n",
    "new_comment = \"I have a musician\"\n",
    "\n",
    "# Do not change the code below\n",
    "classify_string(new_comment)\n",
    "coefficients[coefficients.word.isin(new_comment.split())]"
   ]
  },
  {
   "cell_type": "code",
   "execution_count": 15,
   "id": "7269967c",
   "metadata": {
    "execution": {
     "iopub.execute_input": "2022-07-19T16:18:34.152568Z",
     "iopub.status.busy": "2022-07-19T16:18:34.152163Z",
     "iopub.status.idle": "2022-07-19T16:18:34.172023Z",
     "shell.execute_reply": "2022-07-19T16:18:34.170660Z"
    },
    "papermill": {
     "duration": 0.035345,
     "end_time": "2022-07-19T16:18:34.174801",
     "exception": false,
     "start_time": "2022-07-19T16:18:34.139456",
     "status": "completed"
    },
    "tags": []
   },
   "outputs": [
    {
     "name": "stdout",
     "output_type": "stream",
     "text": [
      "NOT TOXIC: I have a girlfriend\n"
     ]
    },
    {
     "data": {
      "text/html": [
       "<div>\n",
       "<style scoped>\n",
       "    .dataframe tbody tr th:only-of-type {\n",
       "        vertical-align: middle;\n",
       "    }\n",
       "\n",
       "    .dataframe tbody tr th {\n",
       "        vertical-align: top;\n",
       "    }\n",
       "\n",
       "    .dataframe thead th {\n",
       "        text-align: right;\n",
       "    }\n",
       "</style>\n",
       "<table border=\"1\" class=\"dataframe\">\n",
       "  <thead>\n",
       "    <tr style=\"text-align: right;\">\n",
       "      <th></th>\n",
       "      <th>word</th>\n",
       "      <th>coeff</th>\n",
       "    </tr>\n",
       "  </thead>\n",
       "  <tbody>\n",
       "    <tr>\n",
       "      <th>22262</th>\n",
       "      <td>girlfriend</td>\n",
       "      <td>0.175777</td>\n",
       "    </tr>\n",
       "    <tr>\n",
       "      <th>24049</th>\n",
       "      <td>have</td>\n",
       "      <td>-0.072392</td>\n",
       "    </tr>\n",
       "  </tbody>\n",
       "</table>\n",
       "</div>"
      ],
      "text/plain": [
       "             word     coeff\n",
       "22262  girlfriend  0.175777\n",
       "24049        have -0.072392"
      ]
     },
     "execution_count": 15,
     "metadata": {},
     "output_type": "execute_result"
    }
   ],
   "source": [
    "# Set the value of new_comment\n",
    "new_comment = \"I have a girlfriend\"\n",
    "\n",
    "# Do not change the code below\n",
    "classify_string(new_comment)\n",
    "coefficients[coefficients.word.isin(new_comment.split())]"
   ]
  },
  {
   "cell_type": "code",
   "execution_count": 16,
   "id": "817b00f3",
   "metadata": {
    "execution": {
     "iopub.execute_input": "2022-07-19T16:18:34.200910Z",
     "iopub.status.busy": "2022-07-19T16:18:34.200314Z",
     "iopub.status.idle": "2022-07-19T16:18:34.219896Z",
     "shell.execute_reply": "2022-07-19T16:18:34.218544Z"
    },
    "papermill": {
     "duration": 0.035626,
     "end_time": "2022-07-19T16:18:34.222168",
     "exception": false,
     "start_time": "2022-07-19T16:18:34.186542",
     "status": "completed"
    },
    "tags": []
   },
   "outputs": [
    {
     "name": "stdout",
     "output_type": "stream",
     "text": [
      "NOT TOXIC: I have a boyfriend\n"
     ]
    },
    {
     "data": {
      "text/html": [
       "<div>\n",
       "<style scoped>\n",
       "    .dataframe tbody tr th:only-of-type {\n",
       "        vertical-align: middle;\n",
       "    }\n",
       "\n",
       "    .dataframe tbody tr th {\n",
       "        vertical-align: top;\n",
       "    }\n",
       "\n",
       "    .dataframe thead th {\n",
       "        text-align: right;\n",
       "    }\n",
       "</style>\n",
       "<table border=\"1\" class=\"dataframe\">\n",
       "  <thead>\n",
       "    <tr style=\"text-align: right;\">\n",
       "      <th></th>\n",
       "      <th>word</th>\n",
       "      <th>coeff</th>\n",
       "    </tr>\n",
       "  </thead>\n",
       "  <tbody>\n",
       "    <tr>\n",
       "      <th>7702</th>\n",
       "      <td>boyfriend</td>\n",
       "      <td>-0.481917</td>\n",
       "    </tr>\n",
       "    <tr>\n",
       "      <th>24049</th>\n",
       "      <td>have</td>\n",
       "      <td>-0.072392</td>\n",
       "    </tr>\n",
       "  </tbody>\n",
       "</table>\n",
       "</div>"
      ],
      "text/plain": [
       "            word     coeff\n",
       "7702   boyfriend -0.481917\n",
       "24049       have -0.072392"
      ]
     },
     "execution_count": 16,
     "metadata": {},
     "output_type": "execute_result"
    }
   ],
   "source": [
    "# Set the value of new_comment\n",
    "new_comment = \"I have a boyfriend\"\n",
    "\n",
    "# Do not change the code below\n",
    "classify_string(new_comment)\n",
    "coefficients[coefficients.word.isin(new_comment.split())]"
   ]
  },
  {
   "cell_type": "code",
   "execution_count": 17,
   "id": "ee9b5189",
   "metadata": {
    "execution": {
     "iopub.execute_input": "2022-07-19T16:18:34.247783Z",
     "iopub.status.busy": "2022-07-19T16:18:34.246970Z",
     "iopub.status.idle": "2022-07-19T16:18:34.269019Z",
     "shell.execute_reply": "2022-07-19T16:18:34.267556Z"
    },
    "papermill": {
     "duration": 0.038293,
     "end_time": "2022-07-19T16:18:34.271808",
     "exception": false,
     "start_time": "2022-07-19T16:18:34.233515",
     "status": "completed"
    },
    "tags": []
   },
   "outputs": [
    {
     "name": "stdout",
     "output_type": "stream",
     "text": [
      "NOT TOXIC: I know a assassin\n"
     ]
    },
    {
     "data": {
      "text/html": [
       "<div>\n",
       "<style scoped>\n",
       "    .dataframe tbody tr th:only-of-type {\n",
       "        vertical-align: middle;\n",
       "    }\n",
       "\n",
       "    .dataframe tbody tr th {\n",
       "        vertical-align: top;\n",
       "    }\n",
       "\n",
       "    .dataframe thead th {\n",
       "        text-align: right;\n",
       "    }\n",
       "</style>\n",
       "<table border=\"1\" class=\"dataframe\">\n",
       "  <thead>\n",
       "    <tr style=\"text-align: right;\">\n",
       "      <th></th>\n",
       "      <th>word</th>\n",
       "      <th>coeff</th>\n",
       "    </tr>\n",
       "  </thead>\n",
       "  <tbody>\n",
       "    <tr>\n",
       "      <th>4755</th>\n",
       "      <td>assassin</td>\n",
       "      <td>0.659328</td>\n",
       "    </tr>\n",
       "    <tr>\n",
       "      <th>29328</th>\n",
       "      <td>know</td>\n",
       "      <td>-0.111008</td>\n",
       "    </tr>\n",
       "  </tbody>\n",
       "</table>\n",
       "</div>"
      ],
      "text/plain": [
       "           word     coeff\n",
       "4755   assassin  0.659328\n",
       "29328      know -0.111008"
      ]
     },
     "execution_count": 17,
     "metadata": {},
     "output_type": "execute_result"
    }
   ],
   "source": [
    "# Set the value of new_comment\n",
    "new_comment = \"I know a assassin\"\n",
    "\n",
    "# Do not change the code below\n",
    "classify_string(new_comment)\n",
    "coefficients[coefficients.word.isin(new_comment.split())]"
   ]
  },
  {
   "cell_type": "markdown",
   "id": "ba3852bf",
   "metadata": {
    "papermill": {
     "duration": 0.011472,
     "end_time": "2022-07-19T16:18:34.295289",
     "exception": false,
     "start_time": "2022-07-19T16:18:34.283817",
     "status": "completed"
    },
    "tags": []
   },
   "source": [
    "# 4) Identify bias\n",
    "\n",
    "Do you see any signs of potential bias in the model?  In the code cell above,\n",
    "- How did the model classify `\"I have a christian friend\"` and `\"I have a muslim friend\"`?  \n",
    "- How did it classify `\"I have a white friend\"` and `\"I have a black friend\"`?    \n",
    "\n",
    "Once you have an answer, run the next code cell."
   ]
  },
  {
   "cell_type": "code",
   "execution_count": 18,
   "id": "00dbeb99",
   "metadata": {
    "execution": {
     "iopub.execute_input": "2022-07-19T16:18:34.321434Z",
     "iopub.status.busy": "2022-07-19T16:18:34.320167Z",
     "iopub.status.idle": "2022-07-19T16:18:34.329743Z",
     "shell.execute_reply": "2022-07-19T16:18:34.328688Z"
    },
    "papermill": {
     "duration": 0.024949,
     "end_time": "2022-07-19T16:18:34.331930",
     "exception": false,
     "start_time": "2022-07-19T16:18:34.306981",
     "status": "completed"
    },
    "tags": []
   },
   "outputs": [
    {
     "data": {
      "application/javascript": [
       "parent.postMessage({\"jupyterEvent\": \"custom.exercise_interaction\", \"data\": {\"outcomeType\": 1, \"valueTowardsCompletion\": 0.14285714285714285, \"interactionType\": 1, \"questionType\": 4, \"questionId\": \"4_IdentifyBias\", \"learnToolsVersion\": \"0.3.4\", \"failureMessage\": \"\", \"exceptionClass\": \"\", \"trace\": \"\"}}, \"*\")"
      ],
      "text/plain": [
       "<IPython.core.display.Javascript object>"
      ]
     },
     "metadata": {},
     "output_type": "display_data"
    },
    {
     "data": {
      "text/markdown": [
       "<span style=\"color:#33cc33\">Solution:</span> The comment `I have a muslim friend` was marked as toxic, whereas `I have a christian friend` was not.  Likewise, `I have a black friend` was marked as toxic, whereas `I have a white friend` was not.  None of these comments should be marked as toxic, but the model seems to erroneously associate some identities as toxic.  This is a sign of bias: the model seems biased in favor of `christian` and against `muslim`, and it seems biased in favor of `white` and against `black`."
      ],
      "text/plain": [
       "Solution: The comment `I have a muslim friend` was marked as toxic, whereas `I have a christian friend` was not.  Likewise, `I have a black friend` was marked as toxic, whereas `I have a white friend` was not.  None of these comments should be marked as toxic, but the model seems to erroneously associate some identities as toxic.  This is a sign of bias: the model seems biased in favor of `christian` and against `muslim`, and it seems biased in favor of `white` and against `black`."
      ]
     },
     "metadata": {},
     "output_type": "display_data"
    }
   ],
   "source": [
    "# Check your answer (Run this code cell to get credit!)\n",
    "q_4.check()"
   ]
  },
  {
   "cell_type": "markdown",
   "id": "8915bb74",
   "metadata": {
    "papermill": {
     "duration": 0.011477,
     "end_time": "2022-07-19T16:18:34.355836",
     "exception": false,
     "start_time": "2022-07-19T16:18:34.344359",
     "status": "completed"
    },
    "tags": []
   },
   "source": [
    "# 5) Test your understanding\n",
    "\n",
    "We'll step away from the Jigsaw competition data and consider a similar (but hypothetical!) scenario where you're working with a dataset of online comments to train a model to classify comments as toxic.\n",
    "\n",
    "You notice that comments that refer to Islam are more likely to be toxic than comments that refer to other religions, because the online community is islamophobic.  What type of bias can this introduce to your model?\n",
    "\n",
    "Once you have answered the question, run the next code cell to see the official answer."
   ]
  },
  {
   "cell_type": "code",
   "execution_count": 19,
   "id": "6ae589fe",
   "metadata": {
    "execution": {
     "iopub.execute_input": "2022-07-19T16:18:34.381364Z",
     "iopub.status.busy": "2022-07-19T16:18:34.380944Z",
     "iopub.status.idle": "2022-07-19T16:18:34.389483Z",
     "shell.execute_reply": "2022-07-19T16:18:34.388343Z"
    },
    "papermill": {
     "duration": 0.024026,
     "end_time": "2022-07-19T16:18:34.391730",
     "exception": false,
     "start_time": "2022-07-19T16:18:34.367704",
     "status": "completed"
    },
    "tags": []
   },
   "outputs": [
    {
     "data": {
      "application/javascript": [
       "parent.postMessage({\"jupyterEvent\": \"custom.exercise_interaction\", \"data\": {\"outcomeType\": 1, \"valueTowardsCompletion\": 0.14285714285714285, \"interactionType\": 1, \"questionType\": 4, \"questionId\": \"5_TestUnderstanding\", \"learnToolsVersion\": \"0.3.4\", \"failureMessage\": \"\", \"exceptionClass\": \"\", \"trace\": \"\"}}, \"*\")"
      ],
      "text/plain": [
       "<IPython.core.display.Javascript object>"
      ]
     },
     "metadata": {},
     "output_type": "display_data"
    },
    {
     "data": {
      "text/markdown": [
       "<span style=\"color:#33cc33\">Solution:</span> Comments that refer to Islam are more likely to be classified as toxic, because of a flawed state of the online community where the data was collected.  This can introduce **historical bias**."
      ],
      "text/plain": [
       "Solution: Comments that refer to Islam are more likely to be classified as toxic, because of a flawed state of the online community where the data was collected.  This can introduce **historical bias**."
      ]
     },
     "metadata": {},
     "output_type": "display_data"
    }
   ],
   "source": [
    "# Check your answer (Run this code cell to get credit!)\n",
    "q_5.check()"
   ]
  },
  {
   "cell_type": "markdown",
   "id": "8ff73276",
   "metadata": {
    "papermill": {
     "duration": 0.011786,
     "end_time": "2022-07-19T16:18:34.415584",
     "exception": false,
     "start_time": "2022-07-19T16:18:34.403798",
     "status": "completed"
    },
    "tags": []
   },
   "source": [
    "# 6) Test your understanding, part 2\n",
    "\n",
    "We'll continue with the same hypothetical scenario, where you're trying to train a model to classify online comments as toxic.\n",
    "\n",
    "You take any comments that are not already in English and translate them to English with a separate tool.  Then, you treat all posts as if they were originally expressed in English.  What type of bias will your model suffer from?\n",
    "\n",
    "Once you have answered the question, run the next code cell to see the official answer."
   ]
  },
  {
   "cell_type": "code",
   "execution_count": 20,
   "id": "52b93554",
   "metadata": {
    "execution": {
     "iopub.execute_input": "2022-07-19T16:18:34.442177Z",
     "iopub.status.busy": "2022-07-19T16:18:34.441570Z",
     "iopub.status.idle": "2022-07-19T16:18:34.450249Z",
     "shell.execute_reply": "2022-07-19T16:18:34.449349Z"
    },
    "papermill": {
     "duration": 0.024828,
     "end_time": "2022-07-19T16:18:34.452438",
     "exception": false,
     "start_time": "2022-07-19T16:18:34.427610",
     "status": "completed"
    },
    "tags": []
   },
   "outputs": [
    {
     "data": {
      "application/javascript": [
       "parent.postMessage({\"jupyterEvent\": \"custom.exercise_interaction\", \"data\": {\"outcomeType\": 1, \"valueTowardsCompletion\": 0.14285714285714285, \"interactionType\": 1, \"questionType\": 4, \"questionId\": \"6_TestUnderstandingTwo\", \"learnToolsVersion\": \"0.3.4\", \"failureMessage\": \"\", \"exceptionClass\": \"\", \"trace\": \"\"}}, \"*\")"
      ],
      "text/plain": [
       "<IPython.core.display.Javascript object>"
      ]
     },
     "metadata": {},
     "output_type": "display_data"
    },
    {
     "data": {
      "text/markdown": [
       "<span style=\"color:#33cc33\">Solution:</span> By translating comments to English, we introduce additional error when classifying non-English comments.  This can introduce **measurement bias**, since non-English comments will often not be translated perfectly.  It could also introduce **aggregation bias**: the model would likely perform better for comments expressed in all languages, if the comments from different languages were treated differently."
      ],
      "text/plain": [
       "Solution: By translating comments to English, we introduce additional error when classifying non-English comments.  This can introduce **measurement bias**, since non-English comments will often not be translated perfectly.  It could also introduce **aggregation bias**: the model would likely perform better for comments expressed in all languages, if the comments from different languages were treated differently."
      ]
     },
     "metadata": {},
     "output_type": "display_data"
    }
   ],
   "source": [
    "# Check your answer (Run this code cell to get credit!)\n",
    "q_6.check()"
   ]
  },
  {
   "cell_type": "markdown",
   "id": "5d4d6586",
   "metadata": {
    "papermill": {
     "duration": 0.012084,
     "end_time": "2022-07-19T16:18:34.476861",
     "exception": false,
     "start_time": "2022-07-19T16:18:34.464777",
     "status": "completed"
    },
    "tags": []
   },
   "source": [
    "# 7) Test your understanding, part 3\n",
    "\n",
    "We'll continue with the same hypothetical scenario, where you're trying to train a model to classify online comments as toxic.\n",
    "\n",
    "The dataset you're using to train the model contains comments primarily from users based in the United Kingdom.  \n",
    "\n",
    "After training a model, you evaluate its performance with another dataset of comments, also primarily from users based in the United Kingdom -- and it gets great performance!  You deploy it for a company based in Australia, and it does not perform well, because of differences between British and Australian English.  What types of bias does the model suffer from?\n",
    "\n",
    "Once you have answered the question, run the next code cell to see the official answer."
   ]
  },
  {
   "cell_type": "code",
   "execution_count": 21,
   "id": "e139cf4c",
   "metadata": {
    "execution": {
     "iopub.execute_input": "2022-07-19T16:18:34.503287Z",
     "iopub.status.busy": "2022-07-19T16:18:34.502888Z",
     "iopub.status.idle": "2022-07-19T16:18:34.512087Z",
     "shell.execute_reply": "2022-07-19T16:18:34.511018Z"
    },
    "papermill": {
     "duration": 0.02508,
     "end_time": "2022-07-19T16:18:34.514249",
     "exception": false,
     "start_time": "2022-07-19T16:18:34.489169",
     "status": "completed"
    },
    "tags": []
   },
   "outputs": [
    {
     "data": {
      "application/javascript": [
       "parent.postMessage({\"jupyterEvent\": \"custom.exercise_interaction\", \"data\": {\"outcomeType\": 1, \"valueTowardsCompletion\": 0.14285714285714285, \"interactionType\": 1, \"questionType\": 4, \"questionId\": \"7_TestUnderstandingThree\", \"learnToolsVersion\": \"0.3.4\", \"failureMessage\": \"\", \"exceptionClass\": \"\", \"trace\": \"\"}}, \"*\")"
      ],
      "text/plain": [
       "<IPython.core.display.Javascript object>"
      ]
     },
     "metadata": {},
     "output_type": "display_data"
    },
    {
     "data": {
      "text/markdown": [
       "<span style=\"color:#33cc33\">Solution:</span> If the model is evaluated based on comments from users in the United Kingdom and deployed to users in Australia, this will lead to **evaluation bias** and **deployment bias**.  The model will also have **representation bias**, because it was built to serve users in Australia, but was trained with data from users based in the United Kingdom."
      ],
      "text/plain": [
       "Solution: If the model is evaluated based on comments from users in the United Kingdom and deployed to users in Australia, this will lead to **evaluation bias** and **deployment bias**.  The model will also have **representation bias**, because it was built to serve users in Australia, but was trained with data from users based in the United Kingdom."
      ]
     },
     "metadata": {},
     "output_type": "display_data"
    }
   ],
   "source": [
    "# Check your answer (Run this code cell to get credit!)\n",
    "q_7.check()"
   ]
  },
  {
   "cell_type": "markdown",
   "id": "0a550912",
   "metadata": {
    "papermill": {
     "duration": 0.012225,
     "end_time": "2022-07-19T16:18:34.539186",
     "exception": false,
     "start_time": "2022-07-19T16:18:34.526961",
     "status": "completed"
    },
    "tags": []
   },
   "source": [
    "# Learn more\n",
    "\n",
    "To continue learning about bias, check out the [Jigsaw Unintended Bias in Toxicity Classification](https://www.kaggle.com/c/jigsaw-unintended-bias-in-toxicity-classification/overview) competition that was introduced in this exercise.  \n",
    "- Kaggler [Dieter](https://www.kaggle.com/christofhenkel) has written a helpful two-part series that teaches you how to preprocess the data and train a neural network to make a competition submission.  [Get started here](https://www.kaggle.com/christofhenkel/how-to-preprocessing-for-glove-part1-eda).\n",
    "- Many Kagglers have written helpful notebooks that you can use to get started.  [Check them out](https://www.kaggle.com/c/jigsaw-unintended-bias-in-toxicity-classification/notebooks?sortBy=voteCount&group=everyone&pageSize=20&competitionId=12500) on the competition page.\n",
    "\n",
    "Another Kaggle competition that you can use to learn about bias is the [Inclusive Images Challenge](https://www.kaggle.com/c/inclusive-images-challenge), which you can read more about in [this blog post](https://ai.googleblog.com/2018/09/introducing-inclusive-images-competition.html).  The competition focuses on **evaluation bias** in computer vision.\n",
    "\n",
    "# Keep going\n",
    "\n",
    "How can you quantify bias in machine learning applications?  Continue to **[learn how to measure fairness](https://www.kaggle.com/alexisbcook/ai-fairness)**."
   ]
  }
 ],
 "metadata": {
  "kernelspec": {
   "display_name": "Python 3",
   "language": "python",
   "name": "python3"
  },
  "language_info": {
   "codemirror_mode": {
    "name": "ipython",
    "version": 3
   },
   "file_extension": ".py",
   "mimetype": "text/x-python",
   "name": "python",
   "nbconvert_exporter": "python",
   "pygments_lexer": "ipython3",
   "version": "3.7.12"
  },
  "papermill": {
   "default_parameters": {},
   "duration": 46.975189,
   "end_time": "2022-07-19T16:18:35.475413",
   "environment_variables": {},
   "exception": null,
   "input_path": "__notebook__.ipynb",
   "output_path": "__notebook__.ipynb",
   "parameters": {},
   "start_time": "2022-07-19T16:17:48.500224",
   "version": "2.3.4"
  }
 },
 "nbformat": 4,
 "nbformat_minor": 5
}
