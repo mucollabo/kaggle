{
 "cells": [
  {
   "cell_type": "markdown",
   "id": "5b085e1a",
   "metadata": {
    "papermill": {
     "duration": 0.011028,
     "end_time": "2022-06-02T14:51:16.931034",
     "exception": false,
     "start_time": "2022-06-02T14:51:16.920006",
     "status": "completed"
    },
    "tags": []
   },
   "source": [
    "**This notebook is an exercise in the [SQL](https://www.kaggle.com/learn/intro-to-sql) course.  You can reference the tutorial at [this link](https://www.kaggle.com/dansbecker/getting-started-with-sql-and-bigquery).**\n",
    "\n",
    "---\n"
   ]
  },
  {
   "cell_type": "markdown",
   "id": "d9206bc4",
   "metadata": {
    "papermill": {
     "duration": 0.007607,
     "end_time": "2022-06-02T14:51:16.946672",
     "exception": false,
     "start_time": "2022-06-02T14:51:16.939065",
     "status": "completed"
    },
    "tags": []
   },
   "source": [
    "# Introduction\n",
    "\n",
    "The first test of your new data exploration skills uses data describing crime in the city of Chicago.\n",
    "\n",
    "Before you get started, run the following cell. It sets up the automated feedback system to review your answers."
   ]
  },
  {
   "cell_type": "code",
   "execution_count": 1,
   "id": "d7b1278d",
   "metadata": {
    "execution": {
     "iopub.execute_input": "2022-06-02T14:51:16.964349Z",
     "iopub.status.busy": "2022-06-02T14:51:16.963669Z",
     "iopub.status.idle": "2022-06-02T14:51:17.797040Z",
     "shell.execute_reply": "2022-06-02T14:51:17.795600Z"
    },
    "papermill": {
     "duration": 0.844932,
     "end_time": "2022-06-02T14:51:17.799304",
     "exception": false,
     "start_time": "2022-06-02T14:51:16.954372",
     "status": "completed"
    },
    "tags": []
   },
   "outputs": [
    {
     "name": "stdout",
     "output_type": "stream",
     "text": [
      "Using Kaggle's public dataset BigQuery integration.\n",
      "Setup Complete\n"
     ]
    }
   ],
   "source": [
    "# Set up feedack system\n",
    "from learntools.core import binder\n",
    "binder.bind(globals())\n",
    "from learntools.sql.ex1 import *\n",
    "print(\"Setup Complete\")"
   ]
  },
  {
   "cell_type": "markdown",
   "id": "c8f36c23",
   "metadata": {
    "papermill": {
     "duration": 0.007622,
     "end_time": "2022-06-02T14:51:17.814859",
     "exception": false,
     "start_time": "2022-06-02T14:51:17.807237",
     "status": "completed"
    },
    "tags": []
   },
   "source": [
    "Use the next code cell to fetch the dataset."
   ]
  },
  {
   "cell_type": "code",
   "execution_count": 2,
   "id": "f9a06851",
   "metadata": {
    "execution": {
     "iopub.execute_input": "2022-06-02T14:51:17.832930Z",
     "iopub.status.busy": "2022-06-02T14:51:17.832223Z",
     "iopub.status.idle": "2022-06-02T14:51:18.192234Z",
     "shell.execute_reply": "2022-06-02T14:51:18.191197Z"
    },
    "papermill": {
     "duration": 0.372105,
     "end_time": "2022-06-02T14:51:18.194786",
     "exception": false,
     "start_time": "2022-06-02T14:51:17.822681",
     "status": "completed"
    },
    "tags": []
   },
   "outputs": [
    {
     "name": "stdout",
     "output_type": "stream",
     "text": [
      "Using Kaggle's public dataset BigQuery integration.\n"
     ]
    }
   ],
   "source": [
    "from google.cloud import bigquery\n",
    "\n",
    "# Create a \"Client\" object\n",
    "client = bigquery.Client()\n",
    "\n",
    "# Construct a reference to the \"chicago_crime\" dataset\n",
    "dataset_ref = client.dataset(\"chicago_crime\", project=\"bigquery-public-data\")\n",
    "\n",
    "# API request - fetch the dataset\n",
    "dataset = client.get_dataset(dataset_ref)"
   ]
  },
  {
   "cell_type": "markdown",
   "id": "aa300882",
   "metadata": {
    "papermill": {
     "duration": 0.007733,
     "end_time": "2022-06-02T14:51:18.210474",
     "exception": false,
     "start_time": "2022-06-02T14:51:18.202741",
     "status": "completed"
    },
    "tags": []
   },
   "source": [
    "# Exercises\n",
    "\n",
    "### 1) Count tables in the dataset\n",
    "\n",
    "How many tables are in the Chicago Crime dataset?"
   ]
  },
  {
   "cell_type": "code",
   "execution_count": 3,
   "id": "41b934fd",
   "metadata": {
    "execution": {
     "iopub.execute_input": "2022-06-02T14:51:18.228417Z",
     "iopub.status.busy": "2022-06-02T14:51:18.227743Z",
     "iopub.status.idle": "2022-06-02T14:51:18.475520Z",
     "shell.execute_reply": "2022-06-02T14:51:18.474588Z"
    },
    "papermill": {
     "duration": 0.259678,
     "end_time": "2022-06-02T14:51:18.477886",
     "exception": false,
     "start_time": "2022-06-02T14:51:18.218208",
     "status": "completed"
    },
    "tags": []
   },
   "outputs": [],
   "source": [
    "# Write the code you need here to figure out the answer\n",
    "tables = list(client.list_tables(dataset))"
   ]
  },
  {
   "cell_type": "code",
   "execution_count": 4,
   "id": "85083251",
   "metadata": {
    "execution": {
     "iopub.execute_input": "2022-06-02T14:51:18.495648Z",
     "iopub.status.busy": "2022-06-02T14:51:18.495239Z",
     "iopub.status.idle": "2022-06-02T14:51:18.500211Z",
     "shell.execute_reply": "2022-06-02T14:51:18.498757Z"
    },
    "papermill": {
     "duration": 0.017416,
     "end_time": "2022-06-02T14:51:18.503293",
     "exception": false,
     "start_time": "2022-06-02T14:51:18.485877",
     "status": "completed"
    },
    "tags": []
   },
   "outputs": [
    {
     "name": "stdout",
     "output_type": "stream",
     "text": [
      "crime\n"
     ]
    }
   ],
   "source": [
    "for table in tables:\n",
    "    print(table.table_id)"
   ]
  },
  {
   "cell_type": "code",
   "execution_count": 5,
   "id": "16054266",
   "metadata": {
    "execution": {
     "iopub.execute_input": "2022-06-02T14:51:18.521662Z",
     "iopub.status.busy": "2022-06-02T14:51:18.521100Z",
     "iopub.status.idle": "2022-06-02T14:51:18.530210Z",
     "shell.execute_reply": "2022-06-02T14:51:18.529456Z"
    },
    "papermill": {
     "duration": 0.020257,
     "end_time": "2022-06-02T14:51:18.532042",
     "exception": false,
     "start_time": "2022-06-02T14:51:18.511785",
     "status": "completed"
    },
    "tags": []
   },
   "outputs": [
    {
     "data": {
      "application/javascript": [
       "parent.postMessage({\"jupyterEvent\": \"custom.exercise_interaction\", \"data\": {\"outcomeType\": 1, \"valueTowardsCompletion\": 0.3333333333333333, \"interactionType\": 1, \"questionType\": 1, \"questionId\": \"1_CountTables\", \"learnToolsVersion\": \"0.3.4\", \"failureMessage\": \"\", \"exceptionClass\": \"\", \"trace\": \"\"}}, \"*\")"
      ],
      "text/plain": [
       "<IPython.core.display.Javascript object>"
      ]
     },
     "metadata": {},
     "output_type": "display_data"
    },
    {
     "data": {
      "text/markdown": [
       "<span style=\"color:#33cc33\">Correct</span>"
      ],
      "text/plain": [
       "Correct"
      ]
     },
     "metadata": {},
     "output_type": "display_data"
    }
   ],
   "source": [
    "num_tables = len(tables)  # Store the answer as num_tables and then run this cell\n",
    "\n",
    "# Check your answer\n",
    "q_1.check()"
   ]
  },
  {
   "cell_type": "markdown",
   "id": "99ad0a88",
   "metadata": {
    "papermill": {
     "duration": 0.00793,
     "end_time": "2022-06-02T14:51:18.548244",
     "exception": false,
     "start_time": "2022-06-02T14:51:18.540314",
     "status": "completed"
    },
    "tags": []
   },
   "source": [
    "For a hint or the solution, uncomment the appropriate line below."
   ]
  },
  {
   "cell_type": "code",
   "execution_count": 6,
   "id": "bd122d90",
   "metadata": {
    "execution": {
     "iopub.execute_input": "2022-06-02T14:51:18.565826Z",
     "iopub.status.busy": "2022-06-02T14:51:18.565448Z",
     "iopub.status.idle": "2022-06-02T14:51:18.568853Z",
     "shell.execute_reply": "2022-06-02T14:51:18.568206Z"
    },
    "papermill": {
     "duration": 0.014328,
     "end_time": "2022-06-02T14:51:18.570653",
     "exception": false,
     "start_time": "2022-06-02T14:51:18.556325",
     "status": "completed"
    },
    "tags": []
   },
   "outputs": [],
   "source": [
    "#q_1.hint()\n",
    "#q_1.solution()"
   ]
  },
  {
   "cell_type": "markdown",
   "id": "903aeb1f",
   "metadata": {
    "papermill": {
     "duration": 0.007837,
     "end_time": "2022-06-02T14:51:18.586752",
     "exception": false,
     "start_time": "2022-06-02T14:51:18.578915",
     "status": "completed"
    },
    "tags": []
   },
   "source": [
    "### 2) Explore the table schema\n",
    "\n",
    "How many columns in the `crime` table have `TIMESTAMP` data?"
   ]
  },
  {
   "cell_type": "code",
   "execution_count": 7,
   "id": "7a475097",
   "metadata": {
    "execution": {
     "iopub.execute_input": "2022-06-02T14:51:18.604794Z",
     "iopub.status.busy": "2022-06-02T14:51:18.604236Z",
     "iopub.status.idle": "2022-06-02T14:51:18.608058Z",
     "shell.execute_reply": "2022-06-02T14:51:18.607406Z"
    },
    "papermill": {
     "duration": 0.015092,
     "end_time": "2022-06-02T14:51:18.610006",
     "exception": false,
     "start_time": "2022-06-02T14:51:18.594914",
     "status": "completed"
    },
    "tags": []
   },
   "outputs": [],
   "source": [
    "# Write the code to figure out the answer\n",
    "\n",
    "# Construct a reference to the \"full\" table\n",
    "table_ref = dataset_ref.table(\"crime\")"
   ]
  },
  {
   "cell_type": "code",
   "execution_count": 8,
   "id": "bb3577c2",
   "metadata": {
    "execution": {
     "iopub.execute_input": "2022-06-02T14:51:18.628342Z",
     "iopub.status.busy": "2022-06-02T14:51:18.627802Z",
     "iopub.status.idle": "2022-06-02T14:51:18.983533Z",
     "shell.execute_reply": "2022-06-02T14:51:18.982689Z"
    },
    "papermill": {
     "duration": 0.367745,
     "end_time": "2022-06-02T14:51:18.986058",
     "exception": false,
     "start_time": "2022-06-02T14:51:18.618313",
     "status": "completed"
    },
    "tags": []
   },
   "outputs": [],
   "source": [
    "table = client.get_table(table_ref)"
   ]
  },
  {
   "cell_type": "code",
   "execution_count": 9,
   "id": "c575b59e",
   "metadata": {
    "execution": {
     "iopub.execute_input": "2022-06-02T14:51:19.004404Z",
     "iopub.status.busy": "2022-06-02T14:51:19.003769Z",
     "iopub.status.idle": "2022-06-02T14:51:19.009397Z",
     "shell.execute_reply": "2022-06-02T14:51:19.008773Z"
    },
    "papermill": {
     "duration": 0.016897,
     "end_time": "2022-06-02T14:51:19.011253",
     "exception": false,
     "start_time": "2022-06-02T14:51:18.994356",
     "status": "completed"
    },
    "tags": []
   },
   "outputs": [
    {
     "data": {
      "text/plain": [
       "[SchemaField('unique_key', 'INTEGER', 'REQUIRED', None, (), None),\n",
       " SchemaField('case_number', 'STRING', 'NULLABLE', None, (), None),\n",
       " SchemaField('date', 'TIMESTAMP', 'NULLABLE', None, (), None),\n",
       " SchemaField('block', 'STRING', 'NULLABLE', None, (), None),\n",
       " SchemaField('iucr', 'STRING', 'NULLABLE', None, (), None),\n",
       " SchemaField('primary_type', 'STRING', 'NULLABLE', None, (), None),\n",
       " SchemaField('description', 'STRING', 'NULLABLE', None, (), None),\n",
       " SchemaField('location_description', 'STRING', 'NULLABLE', None, (), None),\n",
       " SchemaField('arrest', 'BOOLEAN', 'NULLABLE', None, (), None),\n",
       " SchemaField('domestic', 'BOOLEAN', 'NULLABLE', None, (), None),\n",
       " SchemaField('beat', 'INTEGER', 'NULLABLE', None, (), None),\n",
       " SchemaField('district', 'INTEGER', 'NULLABLE', None, (), None),\n",
       " SchemaField('ward', 'INTEGER', 'NULLABLE', None, (), None),\n",
       " SchemaField('community_area', 'INTEGER', 'NULLABLE', None, (), None),\n",
       " SchemaField('fbi_code', 'STRING', 'NULLABLE', None, (), None),\n",
       " SchemaField('x_coordinate', 'FLOAT', 'NULLABLE', None, (), None),\n",
       " SchemaField('y_coordinate', 'FLOAT', 'NULLABLE', None, (), None),\n",
       " SchemaField('year', 'INTEGER', 'NULLABLE', None, (), None),\n",
       " SchemaField('updated_on', 'TIMESTAMP', 'NULLABLE', None, (), None),\n",
       " SchemaField('latitude', 'FLOAT', 'NULLABLE', None, (), None),\n",
       " SchemaField('longitude', 'FLOAT', 'NULLABLE', None, (), None),\n",
       " SchemaField('location', 'STRING', 'NULLABLE', None, (), None)]"
      ]
     },
     "execution_count": 9,
     "metadata": {},
     "output_type": "execute_result"
    }
   ],
   "source": [
    "table.schema"
   ]
  },
  {
   "cell_type": "code",
   "execution_count": 10,
   "id": "eb5465b7",
   "metadata": {
    "execution": {
     "iopub.execute_input": "2022-06-02T14:51:19.029977Z",
     "iopub.status.busy": "2022-06-02T14:51:19.029326Z",
     "iopub.status.idle": "2022-06-02T14:51:19.806165Z",
     "shell.execute_reply": "2022-06-02T14:51:19.805398Z"
    },
    "papermill": {
     "duration": 0.788572,
     "end_time": "2022-06-02T14:51:19.808301",
     "exception": false,
     "start_time": "2022-06-02T14:51:19.019729",
     "status": "completed"
    },
    "tags": []
   },
   "outputs": [
    {
     "name": "stderr",
     "output_type": "stream",
     "text": [
      "/opt/conda/lib/python3.7/site-packages/ipykernel_launcher.py:1: UserWarning: Cannot use bqstorage_client if max_results is set, reverting to fetching data with the tabledata.list endpoint.\n",
      "  \"\"\"Entry point for launching an IPython kernel.\n"
     ]
    },
    {
     "data": {
      "text/html": [
       "<div>\n",
       "<style scoped>\n",
       "    .dataframe tbody tr th:only-of-type {\n",
       "        vertical-align: middle;\n",
       "    }\n",
       "\n",
       "    .dataframe tbody tr th {\n",
       "        vertical-align: top;\n",
       "    }\n",
       "\n",
       "    .dataframe thead th {\n",
       "        text-align: right;\n",
       "    }\n",
       "</style>\n",
       "<table border=\"1\" class=\"dataframe\">\n",
       "  <thead>\n",
       "    <tr style=\"text-align: right;\">\n",
       "      <th></th>\n",
       "      <th>unique_key</th>\n",
       "      <th>case_number</th>\n",
       "      <th>date</th>\n",
       "      <th>block</th>\n",
       "      <th>iucr</th>\n",
       "      <th>primary_type</th>\n",
       "      <th>description</th>\n",
       "      <th>location_description</th>\n",
       "      <th>arrest</th>\n",
       "      <th>domestic</th>\n",
       "      <th>...</th>\n",
       "      <th>ward</th>\n",
       "      <th>community_area</th>\n",
       "      <th>fbi_code</th>\n",
       "      <th>x_coordinate</th>\n",
       "      <th>y_coordinate</th>\n",
       "      <th>year</th>\n",
       "      <th>updated_on</th>\n",
       "      <th>latitude</th>\n",
       "      <th>longitude</th>\n",
       "      <th>location</th>\n",
       "    </tr>\n",
       "  </thead>\n",
       "  <tbody>\n",
       "    <tr>\n",
       "      <th>0</th>\n",
       "      <td>5976903</td>\n",
       "      <td>HN772276</td>\n",
       "      <td>2007-12-22 05:20:00+00:00</td>\n",
       "      <td>017XX E 87TH ST</td>\n",
       "      <td>0461</td>\n",
       "      <td>BATTERY</td>\n",
       "      <td>AGG PO HANDS ETC SERIOUS INJ</td>\n",
       "      <td>POLICE FACILITY/VEH PARKING LOT</td>\n",
       "      <td>True</td>\n",
       "      <td>False</td>\n",
       "      <td>...</td>\n",
       "      <td>8</td>\n",
       "      <td>45</td>\n",
       "      <td>04B</td>\n",
       "      <td>1189255.0</td>\n",
       "      <td>1847635.0</td>\n",
       "      <td>2007</td>\n",
       "      <td>2018-02-28 03:56:25+00:00</td>\n",
       "      <td>41.736963</td>\n",
       "      <td>-87.582207</td>\n",
       "      <td>(41.736962773, -87.58220715)</td>\n",
       "    </tr>\n",
       "    <tr>\n",
       "      <th>1</th>\n",
       "      <td>6258222</td>\n",
       "      <td>HP338374</td>\n",
       "      <td>2008-05-16 08:30:00+00:00</td>\n",
       "      <td>002XX W 47TH ST</td>\n",
       "      <td>1210</td>\n",
       "      <td>DECEPTIVE PRACTICE</td>\n",
       "      <td>THEFT OF LABOR/SERVICES</td>\n",
       "      <td>CTA TRAIN</td>\n",
       "      <td>True</td>\n",
       "      <td>False</td>\n",
       "      <td>...</td>\n",
       "      <td>3</td>\n",
       "      <td>37</td>\n",
       "      <td>11</td>\n",
       "      <td>1175476.0</td>\n",
       "      <td>1873816.0</td>\n",
       "      <td>2008</td>\n",
       "      <td>2018-02-28 03:56:25+00:00</td>\n",
       "      <td>41.809125</td>\n",
       "      <td>-87.631907</td>\n",
       "      <td>(41.809125265, -87.631906508)</td>\n",
       "    </tr>\n",
       "    <tr>\n",
       "      <th>2</th>\n",
       "      <td>6284462</td>\n",
       "      <td>HP373595</td>\n",
       "      <td>2008-06-03 04:00:00+00:00</td>\n",
       "      <td>032XX S ASHLAND AVE</td>\n",
       "      <td>1110</td>\n",
       "      <td>DECEPTIVE PRACTICE</td>\n",
       "      <td>BOGUS CHECK</td>\n",
       "      <td>GROCERY FOOD STORE</td>\n",
       "      <td>True</td>\n",
       "      <td>False</td>\n",
       "      <td>...</td>\n",
       "      <td>11</td>\n",
       "      <td>59</td>\n",
       "      <td>11</td>\n",
       "      <td>1166202.0</td>\n",
       "      <td>1882988.0</td>\n",
       "      <td>2008</td>\n",
       "      <td>2018-02-28 03:56:25+00:00</td>\n",
       "      <td>41.834497</td>\n",
       "      <td>-87.665660</td>\n",
       "      <td>(41.834496885, -87.665660315)</td>\n",
       "    </tr>\n",
       "    <tr>\n",
       "      <th>3</th>\n",
       "      <td>6184397</td>\n",
       "      <td>HP270340</td>\n",
       "      <td>2008-04-09 03:20:00+00:00</td>\n",
       "      <td>050XX N KIMBALL AVE</td>\n",
       "      <td>1350</td>\n",
       "      <td>CRIMINAL TRESPASS</td>\n",
       "      <td>TO STATE SUP LAND</td>\n",
       "      <td>SCHOOL, PUBLIC, BUILDING</td>\n",
       "      <td>True</td>\n",
       "      <td>False</td>\n",
       "      <td>...</td>\n",
       "      <td>39</td>\n",
       "      <td>13</td>\n",
       "      <td>26</td>\n",
       "      <td>1152801.0</td>\n",
       "      <td>1933422.0</td>\n",
       "      <td>2008</td>\n",
       "      <td>2018-02-28 03:56:25+00:00</td>\n",
       "      <td>41.973168</td>\n",
       "      <td>-87.713495</td>\n",
       "      <td>(41.973167821, -87.713495268)</td>\n",
       "    </tr>\n",
       "    <tr>\n",
       "      <th>4</th>\n",
       "      <td>10105262</td>\n",
       "      <td>HY293770</td>\n",
       "      <td>2015-06-09 02:30:00+00:00</td>\n",
       "      <td>036XX E 112TH ST</td>\n",
       "      <td>0497</td>\n",
       "      <td>BATTERY</td>\n",
       "      <td>AGGRAVATED DOMESTIC BATTERY: OTHER DANG WEAPON</td>\n",
       "      <td>RESIDENCE</td>\n",
       "      <td>False</td>\n",
       "      <td>True</td>\n",
       "      <td>...</td>\n",
       "      <td>10</td>\n",
       "      <td>52</td>\n",
       "      <td>04B</td>\n",
       "      <td>1202085.0</td>\n",
       "      <td>1831309.0</td>\n",
       "      <td>2015</td>\n",
       "      <td>2018-02-10 03:50:01+00:00</td>\n",
       "      <td>41.691846</td>\n",
       "      <td>-87.535757</td>\n",
       "      <td>(41.691846056, -87.535757114)</td>\n",
       "    </tr>\n",
       "  </tbody>\n",
       "</table>\n",
       "<p>5 rows × 22 columns</p>\n",
       "</div>"
      ],
      "text/plain": [
       "   unique_key case_number                      date                block  \\\n",
       "0     5976903    HN772276 2007-12-22 05:20:00+00:00      017XX E 87TH ST   \n",
       "1     6258222    HP338374 2008-05-16 08:30:00+00:00      002XX W 47TH ST   \n",
       "2     6284462    HP373595 2008-06-03 04:00:00+00:00  032XX S ASHLAND AVE   \n",
       "3     6184397    HP270340 2008-04-09 03:20:00+00:00  050XX N KIMBALL AVE   \n",
       "4    10105262    HY293770 2015-06-09 02:30:00+00:00     036XX E 112TH ST   \n",
       "\n",
       "   iucr        primary_type                                     description  \\\n",
       "0  0461             BATTERY                    AGG PO HANDS ETC SERIOUS INJ   \n",
       "1  1210  DECEPTIVE PRACTICE                         THEFT OF LABOR/SERVICES   \n",
       "2  1110  DECEPTIVE PRACTICE                                     BOGUS CHECK   \n",
       "3  1350   CRIMINAL TRESPASS                               TO STATE SUP LAND   \n",
       "4  0497             BATTERY  AGGRAVATED DOMESTIC BATTERY: OTHER DANG WEAPON   \n",
       "\n",
       "              location_description  arrest  domestic  ...  ward  \\\n",
       "0  POLICE FACILITY/VEH PARKING LOT    True     False  ...     8   \n",
       "1                        CTA TRAIN    True     False  ...     3   \n",
       "2               GROCERY FOOD STORE    True     False  ...    11   \n",
       "3         SCHOOL, PUBLIC, BUILDING    True     False  ...    39   \n",
       "4                        RESIDENCE   False      True  ...    10   \n",
       "\n",
       "   community_area  fbi_code  x_coordinate y_coordinate  year  \\\n",
       "0              45       04B     1189255.0    1847635.0  2007   \n",
       "1              37        11     1175476.0    1873816.0  2008   \n",
       "2              59        11     1166202.0    1882988.0  2008   \n",
       "3              13        26     1152801.0    1933422.0  2008   \n",
       "4              52       04B     1202085.0    1831309.0  2015   \n",
       "\n",
       "                 updated_on   latitude  longitude  \\\n",
       "0 2018-02-28 03:56:25+00:00  41.736963 -87.582207   \n",
       "1 2018-02-28 03:56:25+00:00  41.809125 -87.631907   \n",
       "2 2018-02-28 03:56:25+00:00  41.834497 -87.665660   \n",
       "3 2018-02-28 03:56:25+00:00  41.973168 -87.713495   \n",
       "4 2018-02-10 03:50:01+00:00  41.691846 -87.535757   \n",
       "\n",
       "                        location  \n",
       "0   (41.736962773, -87.58220715)  \n",
       "1  (41.809125265, -87.631906508)  \n",
       "2  (41.834496885, -87.665660315)  \n",
       "3  (41.973167821, -87.713495268)  \n",
       "4  (41.691846056, -87.535757114)  \n",
       "\n",
       "[5 rows x 22 columns]"
      ]
     },
     "execution_count": 10,
     "metadata": {},
     "output_type": "execute_result"
    }
   ],
   "source": [
    "client.list_rows(table, max_results=5).to_dataframe()"
   ]
  },
  {
   "cell_type": "code",
   "execution_count": 11,
   "id": "840d00f7",
   "metadata": {
    "execution": {
     "iopub.execute_input": "2022-06-02T14:51:19.828460Z",
     "iopub.status.busy": "2022-06-02T14:51:19.827561Z",
     "iopub.status.idle": "2022-06-02T14:51:20.224210Z",
     "shell.execute_reply": "2022-06-02T14:51:20.223238Z"
    },
    "papermill": {
     "duration": 0.409813,
     "end_time": "2022-06-02T14:51:20.227054",
     "exception": false,
     "start_time": "2022-06-02T14:51:19.817241",
     "status": "completed"
    },
    "tags": []
   },
   "outputs": [
    {
     "name": "stderr",
     "output_type": "stream",
     "text": [
      "/opt/conda/lib/python3.7/site-packages/ipykernel_launcher.py:1: UserWarning: Cannot use bqstorage_client if max_results is set, reverting to fetching data with the tabledata.list endpoint.\n",
      "  \"\"\"Entry point for launching an IPython kernel.\n"
     ]
    },
    {
     "name": "stdout",
     "output_type": "stream",
     "text": [
      "<class 'pandas.core.frame.DataFrame'>\n",
      "RangeIndex: 5 entries, 0 to 4\n",
      "Data columns (total 22 columns):\n",
      " #   Column                Non-Null Count  Dtype              \n",
      "---  ------                --------------  -----              \n",
      " 0   unique_key            5 non-null      int64              \n",
      " 1   case_number           5 non-null      object             \n",
      " 2   date                  5 non-null      datetime64[ns, UTC]\n",
      " 3   block                 5 non-null      object             \n",
      " 4   iucr                  5 non-null      object             \n",
      " 5   primary_type          5 non-null      object             \n",
      " 6   description           5 non-null      object             \n",
      " 7   location_description  5 non-null      object             \n",
      " 8   arrest                5 non-null      bool               \n",
      " 9   domestic              5 non-null      bool               \n",
      " 10  beat                  5 non-null      int64              \n",
      " 11  district              5 non-null      int64              \n",
      " 12  ward                  5 non-null      int64              \n",
      " 13  community_area        5 non-null      int64              \n",
      " 14  fbi_code              5 non-null      object             \n",
      " 15  x_coordinate          5 non-null      float64            \n",
      " 16  y_coordinate          5 non-null      float64            \n",
      " 17  year                  5 non-null      int64              \n",
      " 18  updated_on            5 non-null      datetime64[ns, UTC]\n",
      " 19  latitude              5 non-null      float64            \n",
      " 20  longitude             5 non-null      float64            \n",
      " 21  location              5 non-null      object             \n",
      "dtypes: bool(2), datetime64[ns, UTC](2), float64(4), int64(6), object(8)\n",
      "memory usage: 938.0+ bytes\n"
     ]
    }
   ],
   "source": [
    "client.list_rows(table, max_results=5).to_dataframe().info()"
   ]
  },
  {
   "cell_type": "code",
   "execution_count": 12,
   "id": "e7cc8525",
   "metadata": {
    "execution": {
     "iopub.execute_input": "2022-06-02T14:51:20.247973Z",
     "iopub.status.busy": "2022-06-02T14:51:20.247588Z",
     "iopub.status.idle": "2022-06-02T14:51:20.254046Z",
     "shell.execute_reply": "2022-06-02T14:51:20.253148Z"
    },
    "papermill": {
     "duration": 0.018936,
     "end_time": "2022-06-02T14:51:20.256014",
     "exception": false,
     "start_time": "2022-06-02T14:51:20.237078",
     "status": "completed"
    },
    "tags": []
   },
   "outputs": [
    {
     "data": {
      "text/plain": [
       "list"
      ]
     },
     "execution_count": 12,
     "metadata": {},
     "output_type": "execute_result"
    }
   ],
   "source": [
    "type(table.schema)"
   ]
  },
  {
   "cell_type": "code",
   "execution_count": 13,
   "id": "19f21c48",
   "metadata": {
    "execution": {
     "iopub.execute_input": "2022-06-02T14:51:20.276312Z",
     "iopub.status.busy": "2022-06-02T14:51:20.275908Z",
     "iopub.status.idle": "2022-06-02T14:51:20.702122Z",
     "shell.execute_reply": "2022-06-02T14:51:20.701201Z"
    },
    "papermill": {
     "duration": 0.438798,
     "end_time": "2022-06-02T14:51:20.704147",
     "exception": false,
     "start_time": "2022-06-02T14:51:20.265349",
     "status": "completed"
    },
    "tags": []
   },
   "outputs": [
    {
     "name": "stderr",
     "output_type": "stream",
     "text": [
      "/opt/conda/lib/python3.7/site-packages/ipykernel_launcher.py:1: UserWarning: Cannot use bqstorage_client if max_results is set, reverting to fetching data with the tabledata.list endpoint.\n",
      "  \"\"\"Entry point for launching an IPython kernel.\n"
     ]
    },
    {
     "data": {
      "text/html": [
       "<div>\n",
       "<style scoped>\n",
       "    .dataframe tbody tr th:only-of-type {\n",
       "        vertical-align: middle;\n",
       "    }\n",
       "\n",
       "    .dataframe tbody tr th {\n",
       "        vertical-align: top;\n",
       "    }\n",
       "\n",
       "    .dataframe thead th {\n",
       "        text-align: right;\n",
       "    }\n",
       "</style>\n",
       "<table border=\"1\" class=\"dataframe\">\n",
       "  <thead>\n",
       "    <tr style=\"text-align: right;\">\n",
       "      <th></th>\n",
       "      <th>date</th>\n",
       "    </tr>\n",
       "  </thead>\n",
       "  <tbody>\n",
       "    <tr>\n",
       "      <th>0</th>\n",
       "      <td>2007-12-22 05:20:00+00:00</td>\n",
       "    </tr>\n",
       "    <tr>\n",
       "      <th>1</th>\n",
       "      <td>2008-05-16 08:30:00+00:00</td>\n",
       "    </tr>\n",
       "    <tr>\n",
       "      <th>2</th>\n",
       "      <td>2008-06-03 04:00:00+00:00</td>\n",
       "    </tr>\n",
       "    <tr>\n",
       "      <th>3</th>\n",
       "      <td>2008-04-09 03:20:00+00:00</td>\n",
       "    </tr>\n",
       "    <tr>\n",
       "      <th>4</th>\n",
       "      <td>2015-06-09 02:30:00+00:00</td>\n",
       "    </tr>\n",
       "  </tbody>\n",
       "</table>\n",
       "</div>"
      ],
      "text/plain": [
       "                       date\n",
       "0 2007-12-22 05:20:00+00:00\n",
       "1 2008-05-16 08:30:00+00:00\n",
       "2 2008-06-03 04:00:00+00:00\n",
       "3 2008-04-09 03:20:00+00:00\n",
       "4 2015-06-09 02:30:00+00:00"
      ]
     },
     "execution_count": 13,
     "metadata": {},
     "output_type": "execute_result"
    }
   ],
   "source": [
    "client.list_rows(table, selected_fields=table.schema[2:3], max_results=5).to_dataframe()"
   ]
  },
  {
   "cell_type": "code",
   "execution_count": 14,
   "id": "724843ed",
   "metadata": {
    "execution": {
     "iopub.execute_input": "2022-06-02T14:51:20.725303Z",
     "iopub.status.busy": "2022-06-02T14:51:20.724534Z",
     "iopub.status.idle": "2022-06-02T14:51:21.127845Z",
     "shell.execute_reply": "2022-06-02T14:51:21.126892Z"
    },
    "papermill": {
     "duration": 0.416387,
     "end_time": "2022-06-02T14:51:21.130054",
     "exception": false,
     "start_time": "2022-06-02T14:51:20.713667",
     "status": "completed"
    },
    "tags": []
   },
   "outputs": [
    {
     "name": "stderr",
     "output_type": "stream",
     "text": [
      "/opt/conda/lib/python3.7/site-packages/ipykernel_launcher.py:1: UserWarning: Cannot use bqstorage_client if max_results is set, reverting to fetching data with the tabledata.list endpoint.\n",
      "  \"\"\"Entry point for launching an IPython kernel.\n"
     ]
    },
    {
     "data": {
      "text/html": [
       "<div>\n",
       "<style scoped>\n",
       "    .dataframe tbody tr th:only-of-type {\n",
       "        vertical-align: middle;\n",
       "    }\n",
       "\n",
       "    .dataframe tbody tr th {\n",
       "        vertical-align: top;\n",
       "    }\n",
       "\n",
       "    .dataframe thead th {\n",
       "        text-align: right;\n",
       "    }\n",
       "</style>\n",
       "<table border=\"1\" class=\"dataframe\">\n",
       "  <thead>\n",
       "    <tr style=\"text-align: right;\">\n",
       "      <th></th>\n",
       "      <th>updated_on</th>\n",
       "    </tr>\n",
       "  </thead>\n",
       "  <tbody>\n",
       "    <tr>\n",
       "      <th>0</th>\n",
       "      <td>2018-02-28 03:56:25+00:00</td>\n",
       "    </tr>\n",
       "    <tr>\n",
       "      <th>1</th>\n",
       "      <td>2018-02-28 03:56:25+00:00</td>\n",
       "    </tr>\n",
       "    <tr>\n",
       "      <th>2</th>\n",
       "      <td>2018-02-28 03:56:25+00:00</td>\n",
       "    </tr>\n",
       "    <tr>\n",
       "      <th>3</th>\n",
       "      <td>2018-02-28 03:56:25+00:00</td>\n",
       "    </tr>\n",
       "    <tr>\n",
       "      <th>4</th>\n",
       "      <td>2018-02-10 03:50:01+00:00</td>\n",
       "    </tr>\n",
       "  </tbody>\n",
       "</table>\n",
       "</div>"
      ],
      "text/plain": [
       "                 updated_on\n",
       "0 2018-02-28 03:56:25+00:00\n",
       "1 2018-02-28 03:56:25+00:00\n",
       "2 2018-02-28 03:56:25+00:00\n",
       "3 2018-02-28 03:56:25+00:00\n",
       "4 2018-02-10 03:50:01+00:00"
      ]
     },
     "execution_count": 14,
     "metadata": {},
     "output_type": "execute_result"
    }
   ],
   "source": [
    "client.list_rows(table, selected_fields=table.schema[-4:-3], max_results=5).to_dataframe()"
   ]
  },
  {
   "cell_type": "code",
   "execution_count": 15,
   "id": "46cb26a1",
   "metadata": {
    "execution": {
     "iopub.execute_input": "2022-06-02T14:51:21.151924Z",
     "iopub.status.busy": "2022-06-02T14:51:21.151211Z",
     "iopub.status.idle": "2022-06-02T14:51:21.159297Z",
     "shell.execute_reply": "2022-06-02T14:51:21.158352Z"
    },
    "papermill": {
     "duration": 0.021172,
     "end_time": "2022-06-02T14:51:21.161342",
     "exception": false,
     "start_time": "2022-06-02T14:51:21.140170",
     "status": "completed"
    },
    "tags": []
   },
   "outputs": [
    {
     "data": {
      "application/javascript": [
       "parent.postMessage({\"jupyterEvent\": \"custom.exercise_interaction\", \"data\": {\"outcomeType\": 1, \"valueTowardsCompletion\": 0.3333333333333333, \"interactionType\": 1, \"questionType\": 1, \"questionId\": \"2_CountTimestampFields\", \"learnToolsVersion\": \"0.3.4\", \"failureMessage\": \"\", \"exceptionClass\": \"\", \"trace\": \"\"}}, \"*\")"
      ],
      "text/plain": [
       "<IPython.core.display.Javascript object>"
      ]
     },
     "metadata": {},
     "output_type": "display_data"
    },
    {
     "data": {
      "text/markdown": [
       "<span style=\"color:#33cc33\">Correct</span>"
      ],
      "text/plain": [
       "Correct"
      ]
     },
     "metadata": {},
     "output_type": "display_data"
    }
   ],
   "source": [
    "num_timestamp_fields = 2 # Put your answer here\n",
    "\n",
    "# Check your answer\n",
    "q_2.check()"
   ]
  },
  {
   "cell_type": "markdown",
   "id": "7d9010d1",
   "metadata": {
    "papermill": {
     "duration": 0.00967,
     "end_time": "2022-06-02T14:51:21.181135",
     "exception": false,
     "start_time": "2022-06-02T14:51:21.171465",
     "status": "completed"
    },
    "tags": []
   },
   "source": [
    "For a hint or the solution, uncomment the appropriate line below."
   ]
  },
  {
   "cell_type": "code",
   "execution_count": 16,
   "id": "e52a7fb2",
   "metadata": {
    "execution": {
     "iopub.execute_input": "2022-06-02T14:51:21.202933Z",
     "iopub.status.busy": "2022-06-02T14:51:21.202333Z",
     "iopub.status.idle": "2022-06-02T14:51:21.205634Z",
     "shell.execute_reply": "2022-06-02T14:51:21.204981Z"
    },
    "papermill": {
     "duration": 0.016296,
     "end_time": "2022-06-02T14:51:21.207475",
     "exception": false,
     "start_time": "2022-06-02T14:51:21.191179",
     "status": "completed"
    },
    "tags": []
   },
   "outputs": [],
   "source": [
    "#q_2.hint()\n",
    "#q_2.solution()"
   ]
  },
  {
   "cell_type": "markdown",
   "id": "7a6dedf1",
   "metadata": {
    "papermill": {
     "duration": 0.009687,
     "end_time": "2022-06-02T14:51:21.227348",
     "exception": false,
     "start_time": "2022-06-02T14:51:21.217661",
     "status": "completed"
    },
    "tags": []
   },
   "source": [
    "### 3) Create a crime map\n",
    "\n",
    "If you wanted to create a map with a dot at the location of each crime, what are the names of the two fields you likely need to pull out of the `crime` table to plot the crimes on a map?"
   ]
  },
  {
   "cell_type": "code",
   "execution_count": 17,
   "id": "98595025",
   "metadata": {
    "execution": {
     "iopub.execute_input": "2022-06-02T14:51:21.249302Z",
     "iopub.status.busy": "2022-06-02T14:51:21.248639Z",
     "iopub.status.idle": "2022-06-02T14:51:21.252185Z",
     "shell.execute_reply": "2022-06-02T14:51:21.251547Z"
    },
    "papermill": {
     "duration": 0.016706,
     "end_time": "2022-06-02T14:51:21.254030",
     "exception": false,
     "start_time": "2022-06-02T14:51:21.237324",
     "status": "completed"
    },
    "tags": []
   },
   "outputs": [],
   "source": [
    "# Write the code here to explore the data so you can find the answer"
   ]
  },
  {
   "cell_type": "code",
   "execution_count": 18,
   "id": "3c2df617",
   "metadata": {
    "execution": {
     "iopub.execute_input": "2022-06-02T14:51:21.275774Z",
     "iopub.status.busy": "2022-06-02T14:51:21.275369Z",
     "iopub.status.idle": "2022-06-02T14:51:21.283200Z",
     "shell.execute_reply": "2022-06-02T14:51:21.282309Z"
    },
    "papermill": {
     "duration": 0.020898,
     "end_time": "2022-06-02T14:51:21.285130",
     "exception": false,
     "start_time": "2022-06-02T14:51:21.264232",
     "status": "completed"
    },
    "tags": []
   },
   "outputs": [
    {
     "data": {
      "application/javascript": [
       "parent.postMessage({\"jupyterEvent\": \"custom.exercise_interaction\", \"data\": {\"outcomeType\": 1, \"valueTowardsCompletion\": 0.3333333333333333, \"interactionType\": 1, \"questionType\": 2, \"questionId\": \"3_IdentifyFieldsForPlotting\", \"learnToolsVersion\": \"0.3.4\", \"failureMessage\": \"\", \"exceptionClass\": \"\", \"trace\": \"\"}}, \"*\")"
      ],
      "text/plain": [
       "<IPython.core.display.Javascript object>"
      ]
     },
     "metadata": {},
     "output_type": "display_data"
    },
    {
     "data": {
      "text/markdown": [
       "<span style=\"color:#33cc33\">Correct</span>"
      ],
      "text/plain": [
       "Correct"
      ]
     },
     "metadata": {},
     "output_type": "display_data"
    }
   ],
   "source": [
    "fields_for_plotting = [\"latitude\", \"longitude\"] # Put your answers here\n",
    "\n",
    "# Check your answer\n",
    "q_3.check()"
   ]
  },
  {
   "cell_type": "markdown",
   "id": "5e6eca5e",
   "metadata": {
    "papermill": {
     "duration": 0.010002,
     "end_time": "2022-06-02T14:51:21.305401",
     "exception": false,
     "start_time": "2022-06-02T14:51:21.295399",
     "status": "completed"
    },
    "tags": []
   },
   "source": [
    "For a hint or the solution, uncomment the appropriate line below."
   ]
  },
  {
   "cell_type": "code",
   "execution_count": 19,
   "id": "a8747e7f",
   "metadata": {
    "execution": {
     "iopub.execute_input": "2022-06-02T14:51:21.327448Z",
     "iopub.status.busy": "2022-06-02T14:51:21.327039Z",
     "iopub.status.idle": "2022-06-02T14:51:21.331183Z",
     "shell.execute_reply": "2022-06-02T14:51:21.330168Z"
    },
    "papermill": {
     "duration": 0.017433,
     "end_time": "2022-06-02T14:51:21.333307",
     "exception": false,
     "start_time": "2022-06-02T14:51:21.315874",
     "status": "completed"
    },
    "tags": []
   },
   "outputs": [],
   "source": [
    "#q_3.hint()\n",
    "#q_3.solution()"
   ]
  },
  {
   "cell_type": "markdown",
   "id": "58953f16",
   "metadata": {
    "papermill": {
     "duration": 0.010188,
     "end_time": "2022-06-02T14:51:21.354048",
     "exception": false,
     "start_time": "2022-06-02T14:51:21.343860",
     "status": "completed"
    },
    "tags": []
   },
   "source": [
    "Thinking about the question above, there are a few columns that appear to have geographic data. Look at a few values (with the `list_rows()` command) to see if you can determine their relationship.  Two columns will still be hard to interpret. But it should be obvious how the `location` column relates to `latitude` and `longitude`."
   ]
  },
  {
   "cell_type": "code",
   "execution_count": 20,
   "id": "eee4d8aa",
   "metadata": {
    "execution": {
     "iopub.execute_input": "2022-06-02T14:51:21.376413Z",
     "iopub.status.busy": "2022-06-02T14:51:21.375702Z",
     "iopub.status.idle": "2022-06-02T14:51:21.380507Z",
     "shell.execute_reply": "2022-06-02T14:51:21.379417Z"
    },
    "papermill": {
     "duration": 0.018145,
     "end_time": "2022-06-02T14:51:21.382458",
     "exception": false,
     "start_time": "2022-06-02T14:51:21.364313",
     "status": "completed"
    },
    "tags": []
   },
   "outputs": [],
   "source": [
    "# Scratch space for your code"
   ]
  },
  {
   "cell_type": "markdown",
   "id": "aadb063e",
   "metadata": {
    "papermill": {
     "duration": 0.009868,
     "end_time": "2022-06-02T14:51:21.402702",
     "exception": false,
     "start_time": "2022-06-02T14:51:21.392834",
     "status": "completed"
    },
    "tags": []
   },
   "source": [
    "# Keep going\n",
    "\n",
    "You've looked at the schema, but you haven't yet done anything exciting with the data itself. Things get more interesting when you get to the data, so keep going to **[write your first SQL query](https://www.kaggle.com/dansbecker/select-from-where).**"
   ]
  },
  {
   "cell_type": "markdown",
   "id": "64f3211d",
   "metadata": {
    "papermill": {
     "duration": 0.01008,
     "end_time": "2022-06-02T14:51:21.423059",
     "exception": false,
     "start_time": "2022-06-02T14:51:21.412979",
     "status": "completed"
    },
    "tags": []
   },
   "source": [
    "---\n",
    "\n",
    "\n",
    "\n",
    "\n",
    "*Have questions or comments? Visit the [course discussion forum](https://www.kaggle.com/learn/intro-to-sql/discussion) to chat with other learners.*"
   ]
  }
 ],
 "metadata": {
  "kernelspec": {
   "display_name": "Python 3",
   "language": "python",
   "name": "python3"
  },
  "language_info": {
   "codemirror_mode": {
    "name": "ipython",
    "version": 3
   },
   "file_extension": ".py",
   "mimetype": "text/x-python",
   "name": "python",
   "nbconvert_exporter": "python",
   "pygments_lexer": "ipython3",
   "version": "3.7.12"
  },
  "papermill": {
   "default_parameters": {},
   "duration": 15.07214,
   "end_time": "2022-06-02T14:51:22.054322",
   "environment_variables": {},
   "exception": null,
   "input_path": "__notebook__.ipynb",
   "output_path": "__notebook__.ipynb",
   "parameters": {},
   "start_time": "2022-06-02T14:51:06.982182",
   "version": "2.3.4"
  }
 },
 "nbformat": 4,
 "nbformat_minor": 5
}
