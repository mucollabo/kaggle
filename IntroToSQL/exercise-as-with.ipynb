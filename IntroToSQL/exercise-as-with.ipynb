{
 "cells": [
  {
   "cell_type": "markdown",
   "id": "5d571ee0",
   "metadata": {
    "papermill": {
     "duration": 0.009604,
     "end_time": "2022-06-10T07:37:07.050017",
     "exception": false,
     "start_time": "2022-06-10T07:37:07.040413",
     "status": "completed"
    },
    "tags": []
   },
   "source": [
    "**This notebook is an exercise in the [SQL](https://www.kaggle.com/learn/intro-to-sql) course.  You can reference the tutorial at [this link](https://www.kaggle.com/dansbecker/as-with).**\n",
    "\n",
    "---\n"
   ]
  },
  {
   "cell_type": "markdown",
   "id": "ab8c1fd8",
   "metadata": {
    "papermill": {
     "duration": 0.009093,
     "end_time": "2022-06-10T07:37:07.065601",
     "exception": false,
     "start_time": "2022-06-10T07:37:07.056508",
     "status": "completed"
    },
    "tags": []
   },
   "source": [
    "# Introduction\n",
    "\n",
    "You are getting to the point where you can own an analysis from beginning to end. So you'll do more data exploration in this exercise than you've done before.  Before you get started, run the following set-up code as usual. "
   ]
  },
  {
   "cell_type": "code",
   "execution_count": 1,
   "id": "e9e44101",
   "metadata": {
    "execution": {
     "iopub.execute_input": "2022-06-10T07:37:07.097019Z",
     "iopub.status.busy": "2022-06-10T07:37:07.096168Z",
     "iopub.status.idle": "2022-06-10T07:37:11.122167Z",
     "shell.execute_reply": "2022-06-10T07:37:11.120329Z"
    },
    "papermill": {
     "duration": 4.044401,
     "end_time": "2022-06-10T07:37:11.125565",
     "exception": false,
     "start_time": "2022-06-10T07:37:07.081164",
     "status": "completed"
    },
    "tags": []
   },
   "outputs": [
    {
     "name": "stdout",
     "output_type": "stream",
     "text": [
      "Using Kaggle's public dataset BigQuery integration.\n"
     ]
    },
    {
     "name": "stderr",
     "output_type": "stream",
     "text": [
      "/opt/conda/lib/python3.7/site-packages/google/cloud/bigquery/client.py:440: UserWarning: Cannot create BigQuery Storage client, the dependency google-cloud-bigquery-storage is not installed.\n",
      "  \"Cannot create BigQuery Storage client, the dependency \"\n"
     ]
    },
    {
     "name": "stdout",
     "output_type": "stream",
     "text": [
      "Setup Complete\n"
     ]
    }
   ],
   "source": [
    "# Set up feedback system\n",
    "from learntools.core import binder\n",
    "binder.bind(globals())\n",
    "from learntools.sql.ex5 import *\n",
    "print(\"Setup Complete\")"
   ]
  },
  {
   "cell_type": "markdown",
   "id": "1621088f",
   "metadata": {
    "papermill": {
     "duration": 0.018062,
     "end_time": "2022-06-10T07:37:11.166054",
     "exception": false,
     "start_time": "2022-06-10T07:37:11.147992",
     "status": "completed"
    },
    "tags": []
   },
   "source": [
    "You'll work with a dataset about taxi trips in the city of Chicago. Run the cell below to fetch the `chicago_taxi_trips` dataset."
   ]
  },
  {
   "cell_type": "code",
   "execution_count": 2,
   "id": "b394cb39",
   "metadata": {
    "execution": {
     "iopub.execute_input": "2022-06-10T07:37:11.241331Z",
     "iopub.status.busy": "2022-06-10T07:37:11.240966Z",
     "iopub.status.idle": "2022-06-10T07:37:11.589086Z",
     "shell.execute_reply": "2022-06-10T07:37:11.586202Z"
    },
    "papermill": {
     "duration": 0.39041,
     "end_time": "2022-06-10T07:37:11.592093",
     "exception": false,
     "start_time": "2022-06-10T07:37:11.201683",
     "status": "completed"
    },
    "tags": []
   },
   "outputs": [
    {
     "name": "stdout",
     "output_type": "stream",
     "text": [
      "Using Kaggle's public dataset BigQuery integration.\n"
     ]
    }
   ],
   "source": [
    "from google.cloud import bigquery\n",
    "\n",
    "# Create a \"Client\" object\n",
    "client = bigquery.Client()\n",
    "\n",
    "# Construct a reference to the \"chicago_taxi_trips\" dataset\n",
    "dataset_ref = client.dataset(\"chicago_taxi_trips\", project=\"bigquery-public-data\")\n",
    "\n",
    "# API request - fetch the dataset\n",
    "dataset = client.get_dataset(dataset_ref)"
   ]
  },
  {
   "cell_type": "markdown",
   "id": "1deb4532",
   "metadata": {
    "papermill": {
     "duration": 0.02994,
     "end_time": "2022-06-10T07:37:11.636610",
     "exception": false,
     "start_time": "2022-06-10T07:37:11.606670",
     "status": "completed"
    },
    "tags": []
   },
   "source": [
    "# Exercises\n",
    "\n",
    "You are curious how much slower traffic moves when traffic volume is high. This involves a few steps.\n",
    "\n",
    "### 1) Find the data\n",
    "Before you can access the data, you need to find the table name with the data.\n",
    "\n",
    "*Hint*: Tab completion is helpful whenever you can't remember a command. Type `client.` and then hit the tab key. Don't forget the period before hitting tab."
   ]
  },
  {
   "cell_type": "code",
   "execution_count": 3,
   "id": "503d49ad",
   "metadata": {
    "execution": {
     "iopub.execute_input": "2022-06-10T07:37:11.712217Z",
     "iopub.status.busy": "2022-06-10T07:37:11.711718Z",
     "iopub.status.idle": "2022-06-10T07:37:12.003644Z",
     "shell.execute_reply": "2022-06-10T07:37:11.993621Z"
    },
    "papermill": {
     "duration": 0.337336,
     "end_time": "2022-06-10T07:37:12.010011",
     "exception": false,
     "start_time": "2022-06-10T07:37:11.672675",
     "status": "completed"
    },
    "tags": []
   },
   "outputs": [
    {
     "name": "stdout",
     "output_type": "stream",
     "text": [
      "taxi_trips\n"
     ]
    }
   ],
   "source": [
    "# Your code here to find the table name\n",
    "tables = list(client.list_tables(dataset))\n",
    "\n",
    "for table in tables:\n",
    "    print(table.table_id)"
   ]
  },
  {
   "cell_type": "code",
   "execution_count": 4,
   "id": "9bf5682e",
   "metadata": {
    "execution": {
     "iopub.execute_input": "2022-06-10T07:37:12.064618Z",
     "iopub.status.busy": "2022-06-10T07:37:12.064089Z",
     "iopub.status.idle": "2022-06-10T07:37:12.096709Z",
     "shell.execute_reply": "2022-06-10T07:37:12.096062Z"
    },
    "papermill": {
     "duration": 0.064041,
     "end_time": "2022-06-10T07:37:12.099549",
     "exception": false,
     "start_time": "2022-06-10T07:37:12.035508",
     "status": "completed"
    },
    "tags": []
   },
   "outputs": [
    {
     "data": {
      "application/javascript": [
       "parent.postMessage({\"jupyterEvent\": \"custom.exercise_interaction\", \"data\": {\"outcomeType\": 1, \"valueTowardsCompletion\": 0.16666666666666666, \"interactionType\": 1, \"questionType\": 1, \"questionId\": \"1_GetTableName\", \"learnToolsVersion\": \"0.3.4\", \"failureMessage\": \"\", \"exceptionClass\": \"\", \"trace\": \"\"}}, \"*\")"
      ],
      "text/plain": [
       "<IPython.core.display.Javascript object>"
      ]
     },
     "metadata": {},
     "output_type": "display_data"
    },
    {
     "data": {
      "text/markdown": [
       "<span style=\"color:#33cc33\">Correct</span>"
      ],
      "text/plain": [
       "Correct"
      ]
     },
     "metadata": {},
     "output_type": "display_data"
    }
   ],
   "source": [
    "# Write the table name as a string below\n",
    "table_name = \"taxi_trips\"\n",
    "\n",
    "# Check your answer\n",
    "q_1.check()"
   ]
  },
  {
   "cell_type": "markdown",
   "id": "e74b9a41",
   "metadata": {
    "papermill": {
     "duration": 0.021223,
     "end_time": "2022-06-10T07:37:12.143160",
     "exception": false,
     "start_time": "2022-06-10T07:37:12.121937",
     "status": "completed"
    },
    "tags": []
   },
   "source": [
    "For the solution, uncomment the line below."
   ]
  },
  {
   "cell_type": "code",
   "execution_count": 5,
   "id": "9b16aad7",
   "metadata": {
    "execution": {
     "iopub.execute_input": "2022-06-10T07:37:12.216888Z",
     "iopub.status.busy": "2022-06-10T07:37:12.215908Z",
     "iopub.status.idle": "2022-06-10T07:37:12.229009Z",
     "shell.execute_reply": "2022-06-10T07:37:12.225157Z"
    },
    "papermill": {
     "duration": 0.051843,
     "end_time": "2022-06-10T07:37:12.236104",
     "exception": false,
     "start_time": "2022-06-10T07:37:12.184261",
     "status": "completed"
    },
    "tags": []
   },
   "outputs": [],
   "source": [
    "#q_1.solution()"
   ]
  },
  {
   "cell_type": "markdown",
   "id": "8fa849ae",
   "metadata": {
    "papermill": {
     "duration": 0.015951,
     "end_time": "2022-06-10T07:37:12.273676",
     "exception": false,
     "start_time": "2022-06-10T07:37:12.257725",
     "status": "completed"
    },
    "tags": []
   },
   "source": [
    "### 2) Peek at the data\n",
    "\n",
    "Use the next code cell to peek at the top few rows of the data. Inspect the data and see if any issues with data quality are immediately obvious. "
   ]
  },
  {
   "cell_type": "code",
   "execution_count": 6,
   "id": "0bd0ac46",
   "metadata": {
    "execution": {
     "iopub.execute_input": "2022-06-10T07:37:12.316405Z",
     "iopub.status.busy": "2022-06-10T07:37:12.310963Z",
     "iopub.status.idle": "2022-06-10T07:37:13.405898Z",
     "shell.execute_reply": "2022-06-10T07:37:13.399006Z"
    },
    "papermill": {
     "duration": 1.122692,
     "end_time": "2022-06-10T07:37:13.411128",
     "exception": false,
     "start_time": "2022-06-10T07:37:12.288436",
     "status": "completed"
    },
    "tags": []
   },
   "outputs": [
    {
     "name": "stderr",
     "output_type": "stream",
     "text": [
      "/opt/conda/lib/python3.7/site-packages/ipykernel_launcher.py:4: UserWarning: Cannot use bqstorage_client if max_results is set, reverting to fetching data with the tabledata.list endpoint.\n",
      "  after removing the cwd from sys.path.\n"
     ]
    },
    {
     "data": {
      "text/html": [
       "<div>\n",
       "<style scoped>\n",
       "    .dataframe tbody tr th:only-of-type {\n",
       "        vertical-align: middle;\n",
       "    }\n",
       "\n",
       "    .dataframe tbody tr th {\n",
       "        vertical-align: top;\n",
       "    }\n",
       "\n",
       "    .dataframe thead th {\n",
       "        text-align: right;\n",
       "    }\n",
       "</style>\n",
       "<table border=\"1\" class=\"dataframe\">\n",
       "  <thead>\n",
       "    <tr style=\"text-align: right;\">\n",
       "      <th></th>\n",
       "      <th>unique_key</th>\n",
       "      <th>taxi_id</th>\n",
       "      <th>trip_start_timestamp</th>\n",
       "      <th>trip_end_timestamp</th>\n",
       "      <th>trip_seconds</th>\n",
       "      <th>trip_miles</th>\n",
       "      <th>pickup_census_tract</th>\n",
       "      <th>dropoff_census_tract</th>\n",
       "      <th>pickup_community_area</th>\n",
       "      <th>dropoff_community_area</th>\n",
       "      <th>...</th>\n",
       "      <th>extras</th>\n",
       "      <th>trip_total</th>\n",
       "      <th>payment_type</th>\n",
       "      <th>company</th>\n",
       "      <th>pickup_latitude</th>\n",
       "      <th>pickup_longitude</th>\n",
       "      <th>pickup_location</th>\n",
       "      <th>dropoff_latitude</th>\n",
       "      <th>dropoff_longitude</th>\n",
       "      <th>dropoff_location</th>\n",
       "    </tr>\n",
       "  </thead>\n",
       "  <tbody>\n",
       "    <tr>\n",
       "      <th>0</th>\n",
       "      <td>6ac2488f401e05799558f7a6015bf03c5354d622</td>\n",
       "      <td>8ac089148362cd529ebbb3d1f1fba4ca368d94478c0e83...</td>\n",
       "      <td>2016-06-08 23:45:00+00:00</td>\n",
       "      <td>2016-06-09 00:00:00+00:00</td>\n",
       "      <td>705</td>\n",
       "      <td>2.3</td>\n",
       "      <td>NaN</td>\n",
       "      <td>NaN</td>\n",
       "      <td>NaN</td>\n",
       "      <td>NaN</td>\n",
       "      <td>...</td>\n",
       "      <td>0.0</td>\n",
       "      <td>7.00</td>\n",
       "      <td>Cash</td>\n",
       "      <td>303 Taxi</td>\n",
       "      <td>NaN</td>\n",
       "      <td>NaN</td>\n",
       "      <td>None</td>\n",
       "      <td>NaN</td>\n",
       "      <td>NaN</td>\n",
       "      <td>None</td>\n",
       "    </tr>\n",
       "    <tr>\n",
       "      <th>1</th>\n",
       "      <td>85dfe100e44ed32347972e7eccc0f5fb90f86146</td>\n",
       "      <td>8ac089148362cd529ebbb3d1f1fba4ca368d94478c0e83...</td>\n",
       "      <td>2016-06-09 00:45:00+00:00</td>\n",
       "      <td>2016-06-09 00:45:00+00:00</td>\n",
       "      <td>512</td>\n",
       "      <td>3.4</td>\n",
       "      <td>NaN</td>\n",
       "      <td>NaN</td>\n",
       "      <td>NaN</td>\n",
       "      <td>NaN</td>\n",
       "      <td>...</td>\n",
       "      <td>0.0</td>\n",
       "      <td>9.20</td>\n",
       "      <td>Cash</td>\n",
       "      <td>303 Taxi</td>\n",
       "      <td>NaN</td>\n",
       "      <td>NaN</td>\n",
       "      <td>None</td>\n",
       "      <td>NaN</td>\n",
       "      <td>NaN</td>\n",
       "      <td>None</td>\n",
       "    </tr>\n",
       "    <tr>\n",
       "      <th>2</th>\n",
       "      <td>cc7852078d7422dfd7764a9276fcd239209976d0</td>\n",
       "      <td>8ac089148362cd529ebbb3d1f1fba4ca368d94478c0e83...</td>\n",
       "      <td>2016-06-09 04:00:00+00:00</td>\n",
       "      <td>2016-06-09 04:15:00+00:00</td>\n",
       "      <td>493</td>\n",
       "      <td>3.2</td>\n",
       "      <td>NaN</td>\n",
       "      <td>NaN</td>\n",
       "      <td>NaN</td>\n",
       "      <td>NaN</td>\n",
       "      <td>...</td>\n",
       "      <td>0.0</td>\n",
       "      <td>8.60</td>\n",
       "      <td>Cash</td>\n",
       "      <td>303 Taxi</td>\n",
       "      <td>NaN</td>\n",
       "      <td>NaN</td>\n",
       "      <td>None</td>\n",
       "      <td>NaN</td>\n",
       "      <td>NaN</td>\n",
       "      <td>None</td>\n",
       "    </tr>\n",
       "    <tr>\n",
       "      <th>3</th>\n",
       "      <td>9bfaddca9732699f6fde5617a3cb0091ba580135</td>\n",
       "      <td>8ac089148362cd529ebbb3d1f1fba4ca368d94478c0e83...</td>\n",
       "      <td>2016-06-09 08:45:00+00:00</td>\n",
       "      <td>2016-06-09 09:00:00+00:00</td>\n",
       "      <td>1390</td>\n",
       "      <td>4.8</td>\n",
       "      <td>NaN</td>\n",
       "      <td>NaN</td>\n",
       "      <td>NaN</td>\n",
       "      <td>NaN</td>\n",
       "      <td>...</td>\n",
       "      <td>0.0</td>\n",
       "      <td>17.20</td>\n",
       "      <td>Cash</td>\n",
       "      <td>303 Taxi</td>\n",
       "      <td>NaN</td>\n",
       "      <td>NaN</td>\n",
       "      <td>None</td>\n",
       "      <td>NaN</td>\n",
       "      <td>NaN</td>\n",
       "      <td>None</td>\n",
       "    </tr>\n",
       "    <tr>\n",
       "      <th>4</th>\n",
       "      <td>3392da9b0dabb6f9f59832ec82944c64968bf117</td>\n",
       "      <td>5fa0a0f93d7c8f729c7f3132eed2de1dcf04fd38e73cee...</td>\n",
       "      <td>2016-06-03 12:45:00+00:00</td>\n",
       "      <td>2016-06-03 12:45:00+00:00</td>\n",
       "      <td>6</td>\n",
       "      <td>0.0</td>\n",
       "      <td>NaN</td>\n",
       "      <td>NaN</td>\n",
       "      <td>NaN</td>\n",
       "      <td>NaN</td>\n",
       "      <td>...</td>\n",
       "      <td>0.0</td>\n",
       "      <td>6.01</td>\n",
       "      <td>Credit Card</td>\n",
       "      <td>303 Taxi</td>\n",
       "      <td>NaN</td>\n",
       "      <td>NaN</td>\n",
       "      <td>None</td>\n",
       "      <td>NaN</td>\n",
       "      <td>NaN</td>\n",
       "      <td>None</td>\n",
       "    </tr>\n",
       "  </tbody>\n",
       "</table>\n",
       "<p>5 rows × 23 columns</p>\n",
       "</div>"
      ],
      "text/plain": [
       "                                 unique_key  \\\n",
       "0  6ac2488f401e05799558f7a6015bf03c5354d622   \n",
       "1  85dfe100e44ed32347972e7eccc0f5fb90f86146   \n",
       "2  cc7852078d7422dfd7764a9276fcd239209976d0   \n",
       "3  9bfaddca9732699f6fde5617a3cb0091ba580135   \n",
       "4  3392da9b0dabb6f9f59832ec82944c64968bf117   \n",
       "\n",
       "                                             taxi_id  \\\n",
       "0  8ac089148362cd529ebbb3d1f1fba4ca368d94478c0e83...   \n",
       "1  8ac089148362cd529ebbb3d1f1fba4ca368d94478c0e83...   \n",
       "2  8ac089148362cd529ebbb3d1f1fba4ca368d94478c0e83...   \n",
       "3  8ac089148362cd529ebbb3d1f1fba4ca368d94478c0e83...   \n",
       "4  5fa0a0f93d7c8f729c7f3132eed2de1dcf04fd38e73cee...   \n",
       "\n",
       "       trip_start_timestamp        trip_end_timestamp  trip_seconds  \\\n",
       "0 2016-06-08 23:45:00+00:00 2016-06-09 00:00:00+00:00           705   \n",
       "1 2016-06-09 00:45:00+00:00 2016-06-09 00:45:00+00:00           512   \n",
       "2 2016-06-09 04:00:00+00:00 2016-06-09 04:15:00+00:00           493   \n",
       "3 2016-06-09 08:45:00+00:00 2016-06-09 09:00:00+00:00          1390   \n",
       "4 2016-06-03 12:45:00+00:00 2016-06-03 12:45:00+00:00             6   \n",
       "\n",
       "   trip_miles  pickup_census_tract  dropoff_census_tract  \\\n",
       "0         2.3                  NaN                   NaN   \n",
       "1         3.4                  NaN                   NaN   \n",
       "2         3.2                  NaN                   NaN   \n",
       "3         4.8                  NaN                   NaN   \n",
       "4         0.0                  NaN                   NaN   \n",
       "\n",
       "   pickup_community_area  dropoff_community_area  ...  extras  trip_total  \\\n",
       "0                    NaN                     NaN  ...     0.0        7.00   \n",
       "1                    NaN                     NaN  ...     0.0        9.20   \n",
       "2                    NaN                     NaN  ...     0.0        8.60   \n",
       "3                    NaN                     NaN  ...     0.0       17.20   \n",
       "4                    NaN                     NaN  ...     0.0        6.01   \n",
       "\n",
       "   payment_type   company  pickup_latitude pickup_longitude pickup_location  \\\n",
       "0          Cash  303 Taxi              NaN              NaN            None   \n",
       "1          Cash  303 Taxi              NaN              NaN            None   \n",
       "2          Cash  303 Taxi              NaN              NaN            None   \n",
       "3          Cash  303 Taxi              NaN              NaN            None   \n",
       "4   Credit Card  303 Taxi              NaN              NaN            None   \n",
       "\n",
       "   dropoff_latitude  dropoff_longitude dropoff_location  \n",
       "0               NaN                NaN             None  \n",
       "1               NaN                NaN             None  \n",
       "2               NaN                NaN             None  \n",
       "3               NaN                NaN             None  \n",
       "4               NaN                NaN             None  \n",
       "\n",
       "[5 rows x 23 columns]"
      ]
     },
     "execution_count": 6,
     "metadata": {},
     "output_type": "execute_result"
    }
   ],
   "source": [
    "# Your code here\n",
    "table_ref = dataset_ref.table(\"taxi_trips\")\n",
    "table = client.get_table(table_ref)\n",
    "client.list_rows(table, max_results=5).to_dataframe()"
   ]
  },
  {
   "cell_type": "markdown",
   "id": "98984ede",
   "metadata": {
    "papermill": {
     "duration": 0.030493,
     "end_time": "2022-06-10T07:37:13.461534",
     "exception": false,
     "start_time": "2022-06-10T07:37:13.431041",
     "status": "completed"
    },
    "tags": []
   },
   "source": [
    "After deciding whether you see any important issues, run the code cell below."
   ]
  },
  {
   "cell_type": "code",
   "execution_count": 7,
   "id": "96e59c7a",
   "metadata": {
    "execution": {
     "iopub.execute_input": "2022-06-10T07:37:13.545803Z",
     "iopub.status.busy": "2022-06-10T07:37:13.544793Z",
     "iopub.status.idle": "2022-06-10T07:37:13.567166Z",
     "shell.execute_reply": "2022-06-10T07:37:13.564660Z"
    },
    "papermill": {
     "duration": 0.075248,
     "end_time": "2022-06-10T07:37:13.578517",
     "exception": false,
     "start_time": "2022-06-10T07:37:13.503269",
     "status": "completed"
    },
    "tags": []
   },
   "outputs": [
    {
     "data": {
      "application/javascript": [
       "parent.postMessage({\"jupyterEvent\": \"custom.exercise_interaction\", \"data\": {\"interactionType\": 3, \"questionType\": 4, \"questionId\": \"2_WhatsWrongWithData\", \"learnToolsVersion\": \"0.3.4\", \"valueTowardsCompletion\": 0.0, \"failureMessage\": \"\", \"exceptionClass\": \"\", \"trace\": \"\", \"outcomeType\": 4}}, \"*\")"
      ],
      "text/plain": [
       "<IPython.core.display.Javascript object>"
      ]
     },
     "metadata": {},
     "output_type": "display_data"
    },
    {
     "data": {
      "text/markdown": [
       "<span style=\"color:#33cc99\">Solution:</span> \n",
       "You can see the data by calling: \n",
       "```python\n",
       "# Construct a reference to the \"taxi_trips\" table\n",
       "table_ref = dataset_ref.table(\"taxi_trips\")\n",
       "\n",
       "# API request - fetch the table\n",
       "table = client.get_table(table_ref)\n",
       "\n",
       "# Preview the first five lines of the \"taxi_trips\" table\n",
       "client.list_rows(table, max_results=5).to_dataframe()\n",
       "```\n",
       "\n",
       "Some trips in the top few rows have `trip_seconds` or `trip_miles` values of 0. \n",
       "Other location fields have values of `None`. That is a problem if we want to use those fields.\n"
      ],
      "text/plain": [
       "Solution: \n",
       "You can see the data by calling: \n",
       "```python\n",
       "# Construct a reference to the \"taxi_trips\" table\n",
       "table_ref = dataset_ref.table(\"taxi_trips\")\n",
       "\n",
       "# API request - fetch the table\n",
       "table = client.get_table(table_ref)\n",
       "\n",
       "# Preview the first five lines of the \"taxi_trips\" table\n",
       "client.list_rows(table, max_results=5).to_dataframe()\n",
       "```\n",
       "\n",
       "Some trips in the top few rows have `trip_seconds` or `trip_miles` values of 0. \n",
       "Other location fields have values of `None`. That is a problem if we want to use those fields."
      ]
     },
     "metadata": {},
     "output_type": "display_data"
    }
   ],
   "source": [
    "# Check your answer (Run this code cell to receive credit!)\n",
    "q_2.solution()"
   ]
  },
  {
   "cell_type": "markdown",
   "id": "a0b3fef8",
   "metadata": {
    "papermill": {
     "duration": 0.015737,
     "end_time": "2022-06-10T07:37:13.626169",
     "exception": false,
     "start_time": "2022-06-10T07:37:13.610432",
     "status": "completed"
    },
    "tags": []
   },
   "source": [
    "### 3) Determine when this data is from\n",
    "\n",
    "If the data is sufficiently old, we might be careful before assuming the data is still relevant to traffic patterns today. Write a query that counts the number of trips in each year.  \n",
    "\n",
    "Your results should have two columns:\n",
    "- `year` - the year of the trips\n",
    "- `num_trips` - the number of trips in that year\n",
    "\n",
    "Hints:\n",
    "- When using **GROUP BY** and **ORDER BY**, you should refer to the columns by the alias `year` that you set at the top of the **SELECT** query.\n",
    "- The SQL code to **SELECT** the year from `trip_start_timestamp` is <code>SELECT EXTRACT(YEAR FROM trip_start_timestamp)</code>\n",
    "- The **FROM** field can be a little tricky until you are used to it.  The format is:\n",
    "    1. A backick (the symbol \\`).\n",
    "    2. The project name. In this case it is `bigquery-public-data`.\n",
    "    3. A period.\n",
    "    4. The dataset name. In this case, it is `chicago_taxi_trips`.\n",
    "    5. A period.\n",
    "    6. The table name. You used this as your answer in **1) Find the data**.\n",
    "    7. A backtick (the symbol \\`)."
   ]
  },
  {
   "cell_type": "code",
   "execution_count": 8,
   "id": "3c9acf2b",
   "metadata": {
    "execution": {
     "iopub.execute_input": "2022-06-10T07:37:13.715867Z",
     "iopub.status.busy": "2022-06-10T07:37:13.714737Z",
     "iopub.status.idle": "2022-06-10T07:37:14.828082Z",
     "shell.execute_reply": "2022-06-10T07:37:14.827513Z"
    },
    "papermill": {
     "duration": 1.163148,
     "end_time": "2022-06-10T07:37:14.839595",
     "exception": false,
     "start_time": "2022-06-10T07:37:13.676447",
     "status": "completed"
    },
    "tags": []
   },
   "outputs": [
    {
     "name": "stderr",
     "output_type": "stream",
     "text": [
      "/opt/conda/lib/python3.7/site-packages/google/cloud/bigquery/client.py:440: UserWarning: Cannot create BigQuery Storage client, the dependency google-cloud-bigquery-storage is not installed.\n",
      "  \"Cannot create BigQuery Storage client, the dependency \"\n"
     ]
    },
    {
     "name": "stdout",
     "output_type": "stream",
     "text": [
      "   year  num_trips\n",
      "0  2013   27217716\n",
      "1  2014   37395436\n",
      "2  2015   32385875\n",
      "3  2016   31759339\n",
      "4  2017   24988003\n",
      "5  2018   20732088\n",
      "6  2019   16477365\n",
      "7  2020    3889032\n",
      "8  2021    3948045\n",
      "9  2022    2309318\n"
     ]
    },
    {
     "data": {
      "application/javascript": [
       "parent.postMessage({\"jupyterEvent\": \"custom.exercise_interaction\", \"data\": {\"outcomeType\": 1, \"valueTowardsCompletion\": 0.16666666666666666, \"interactionType\": 1, \"questionType\": 2, \"questionId\": \"3_YearDistrib\", \"learnToolsVersion\": \"0.3.4\", \"failureMessage\": \"\", \"exceptionClass\": \"\", \"trace\": \"\"}}, \"*\")"
      ],
      "text/plain": [
       "<IPython.core.display.Javascript object>"
      ]
     },
     "metadata": {},
     "output_type": "display_data"
    },
    {
     "data": {
      "text/markdown": [
       "<span style=\"color:#33cc33\">Correct</span>"
      ],
      "text/plain": [
       "Correct"
      ]
     },
     "metadata": {},
     "output_type": "display_data"
    }
   ],
   "source": [
    "# Your code goes here\n",
    "rides_per_year_query = \"\"\"SELECT EXTRACT(YEAR FROM trip_start_timestamp) AS year,\n",
    "                                 COUNT(1) AS num_trips\n",
    "                          FROM `bigquery-public-data.chicago_taxi_trips.taxi_trips`\n",
    "                          GROUP BY year\n",
    "                          ORDER BY year\n",
    "                       \"\"\"\n",
    "\n",
    "# Set up the query (cancel the query if it would use too much of \n",
    "# your quota)\n",
    "safe_config = bigquery.QueryJobConfig(maximum_bytes_billed=10**10)\n",
    "rides_per_year_query_job = client.query(rides_per_year_query, job_config=safe_config)\n",
    "\n",
    "# API request - run the query, and return a pandas DataFrame\n",
    "rides_per_year_result = rides_per_year_query_job.to_dataframe()\n",
    "\n",
    "# View results\n",
    "print(rides_per_year_result)\n",
    "\n",
    "# Check your answer\n",
    "q_3.check()"
   ]
  },
  {
   "cell_type": "markdown",
   "id": "144ca5de",
   "metadata": {
    "papermill": {
     "duration": 0.029055,
     "end_time": "2022-06-10T07:37:14.906122",
     "exception": false,
     "start_time": "2022-06-10T07:37:14.877067",
     "status": "completed"
    },
    "tags": []
   },
   "source": [
    "For a hint or the solution, uncomment the appropriate line below."
   ]
  },
  {
   "cell_type": "code",
   "execution_count": 9,
   "id": "885d4799",
   "metadata": {
    "execution": {
     "iopub.execute_input": "2022-06-10T07:37:14.966614Z",
     "iopub.status.busy": "2022-06-10T07:37:14.965934Z",
     "iopub.status.idle": "2022-06-10T07:37:14.988431Z",
     "shell.execute_reply": "2022-06-10T07:37:14.980079Z"
    },
    "papermill": {
     "duration": 0.06183,
     "end_time": "2022-06-10T07:37:14.991964",
     "exception": false,
     "start_time": "2022-06-10T07:37:14.930134",
     "status": "completed"
    },
    "tags": []
   },
   "outputs": [],
   "source": [
    "#q_3.hint()\n",
    "#q_3.solution()"
   ]
  },
  {
   "cell_type": "markdown",
   "id": "1392e442",
   "metadata": {
    "papermill": {
     "duration": 0.032124,
     "end_time": "2022-06-10T07:37:15.051405",
     "exception": false,
     "start_time": "2022-06-10T07:37:15.019281",
     "status": "completed"
    },
    "tags": []
   },
   "source": [
    "### 4) Dive slightly deeper\n",
    "\n",
    "You'd like to take a closer look at rides from 2017.  Copy the query you used above in `rides_per_year_query` into the cell below for `rides_per_month_query`.  Then modify it in two ways:\n",
    "1. Use a **WHERE** clause to limit the query to data from 2017.\n",
    "2. Modify the query to extract the month rather than the year."
   ]
  },
  {
   "cell_type": "code",
   "execution_count": 10,
   "id": "52ff0ced",
   "metadata": {
    "execution": {
     "iopub.execute_input": "2022-06-10T07:37:15.106575Z",
     "iopub.status.busy": "2022-06-10T07:37:15.106014Z",
     "iopub.status.idle": "2022-06-10T07:37:16.273753Z",
     "shell.execute_reply": "2022-06-10T07:37:16.263169Z"
    },
    "papermill": {
     "duration": 1.222021,
     "end_time": "2022-06-10T07:37:16.289287",
     "exception": false,
     "start_time": "2022-06-10T07:37:15.067266",
     "status": "completed"
    },
    "tags": []
   },
   "outputs": [
    {
     "name": "stderr",
     "output_type": "stream",
     "text": [
      "/opt/conda/lib/python3.7/site-packages/google/cloud/bigquery/client.py:440: UserWarning: Cannot create BigQuery Storage client, the dependency google-cloud-bigquery-storage is not installed.\n",
      "  \"Cannot create BigQuery Storage client, the dependency \"\n"
     ]
    },
    {
     "name": "stdout",
     "output_type": "stream",
     "text": [
      "    month  num_trips\n",
      "0       1    1972071\n",
      "1       2    1909802\n",
      "2       3    2362105\n",
      "3       4    2194702\n",
      "4       5    2323386\n",
      "5       6    2324472\n",
      "6       7    2054299\n",
      "7       8    2079861\n",
      "8       9    1950631\n",
      "9      10    2141197\n",
      "10     11    1907997\n",
      "11     12    1767480\n"
     ]
    },
    {
     "data": {
      "application/javascript": [
       "parent.postMessage({\"jupyterEvent\": \"custom.exercise_interaction\", \"data\": {\"outcomeType\": 1, \"valueTowardsCompletion\": 0.16666666666666666, \"interactionType\": 1, \"questionType\": 2, \"questionId\": \"4_MonthDistrib\", \"learnToolsVersion\": \"0.3.4\", \"failureMessage\": \"\", \"exceptionClass\": \"\", \"trace\": \"\"}}, \"*\")"
      ],
      "text/plain": [
       "<IPython.core.display.Javascript object>"
      ]
     },
     "metadata": {},
     "output_type": "display_data"
    },
    {
     "data": {
      "text/markdown": [
       "<span style=\"color:#33cc33\">Correct</span>"
      ],
      "text/plain": [
       "Correct"
      ]
     },
     "metadata": {},
     "output_type": "display_data"
    }
   ],
   "source": [
    "# Your code goes here\n",
    "rides_per_month_query = \"\"\"SELECT EXTRACT(MONTH FROM trip_start_timestamp) AS month,\n",
    "                                  COUNT(1) AS num_trips\n",
    "                           FROM `bigquery-public-data.chicago_taxi_trips.taxi_trips`\n",
    "                           WHERE EXTRACT(YEAR FROM trip_start_timestamp) = 2017\n",
    "                           GROUP BY month\n",
    "                           ORDER BY month\n",
    "                        \"\"\" \n",
    "\n",
    "# Set up the query\n",
    "safe_config = bigquery.QueryJobConfig(maximum_bytes_billed=10**10)\n",
    "rides_per_month_query_job = client.query(rides_per_month_query, job_config=safe_config)\n",
    "\n",
    "# API request - run the query, and return a pandas DataFrame\n",
    "rides_per_month_result = rides_per_month_query_job.to_dataframe()\n",
    "\n",
    "# View results\n",
    "print(rides_per_month_result)\n",
    "\n",
    "# Check your answer\n",
    "q_4.check()"
   ]
  },
  {
   "cell_type": "markdown",
   "id": "7dc76deb",
   "metadata": {
    "papermill": {
     "duration": 0.015429,
     "end_time": "2022-06-10T07:37:16.320428",
     "exception": false,
     "start_time": "2022-06-10T07:37:16.304999",
     "status": "completed"
    },
    "tags": []
   },
   "source": [
    "For a hint or the solution, uncomment the appropriate line below."
   ]
  },
  {
   "cell_type": "code",
   "execution_count": 11,
   "id": "3a3edb8a",
   "metadata": {
    "execution": {
     "iopub.execute_input": "2022-06-10T07:37:16.364252Z",
     "iopub.status.busy": "2022-06-10T07:37:16.363917Z",
     "iopub.status.idle": "2022-06-10T07:37:16.367512Z",
     "shell.execute_reply": "2022-06-10T07:37:16.366518Z"
    },
    "papermill": {
     "duration": 0.040873,
     "end_time": "2022-06-10T07:37:16.379564",
     "exception": false,
     "start_time": "2022-06-10T07:37:16.338691",
     "status": "completed"
    },
    "tags": []
   },
   "outputs": [],
   "source": [
    "#q_4.hint()\n",
    "#q_4.solution()"
   ]
  },
  {
   "cell_type": "markdown",
   "id": "e50167de",
   "metadata": {
    "papermill": {
     "duration": 0.015276,
     "end_time": "2022-06-10T07:37:16.425840",
     "exception": false,
     "start_time": "2022-06-10T07:37:16.410564",
     "status": "completed"
    },
    "tags": []
   },
   "source": [
    "### 5) Write the query\n",
    "\n",
    "It's time to step up the sophistication of your queries.  Write a query that shows, for each hour of the day in the dataset, the corresponding number of trips and average speed.\n",
    "\n",
    "Your results should have three columns:\n",
    "- `hour_of_day` - sort by this column, which holds the result of extracting the hour from `trip_start_timestamp`.\n",
    "- `num_trips` - the count of the total number of trips in each hour of the day (e.g. how many trips were started between 6AM and 7AM, independent of which day it occurred on).\n",
    "- `avg_mph` - the average speed, measured in miles per hour, for trips that started in that hour of the day.  Average speed in miles per hour is calculated as `3600 * SUM(trip_miles) / SUM(trip_seconds)`. (The value 3600 is used to convert from seconds to hours.)\n",
    "\n",
    "Restrict your query to data meeting the following criteria:\n",
    "- a `trip_start_timestamp` between **2017-01-01** and **2017-07-01**\n",
    "- `trip_seconds` > 0 and `trip_miles` > 0\n",
    "\n",
    "You will use a common table expression (CTE) to select just the relevant rides.  Because this dataset is very big, this CTE should select only the columns you'll need to create the final output (though you won't actually create those in the CTE -- instead you'll create those in the later **SELECT** statement below the CTE).\n",
    "\n",
    "This is a much harder query than anything you've written so far.  Good luck!"
   ]
  },
  {
   "cell_type": "code",
   "execution_count": 12,
   "id": "353fe309",
   "metadata": {
    "execution": {
     "iopub.execute_input": "2022-06-10T07:37:16.474197Z",
     "iopub.status.busy": "2022-06-10T07:37:16.471583Z",
     "iopub.status.idle": "2022-06-10T07:37:17.547070Z",
     "shell.execute_reply": "2022-06-10T07:37:17.545900Z"
    },
    "papermill": {
     "duration": 1.110301,
     "end_time": "2022-06-10T07:37:17.554363",
     "exception": false,
     "start_time": "2022-06-10T07:37:16.444062",
     "status": "completed"
    },
    "tags": []
   },
   "outputs": [
    {
     "name": "stderr",
     "output_type": "stream",
     "text": [
      "/opt/conda/lib/python3.7/site-packages/google/cloud/bigquery/client.py:440: UserWarning: Cannot create BigQuery Storage client, the dependency google-cloud-bigquery-storage is not installed.\n",
      "  \"Cannot create BigQuery Storage client, the dependency \"\n"
     ]
    },
    {
     "name": "stdout",
     "output_type": "stream",
     "text": [
      "    hour_of_day  num_trips    avg_mph\n",
      "0             0     319339  20.230524\n",
      "1             1     266529  18.937621\n",
      "2             2     210147  18.777070\n",
      "3             3     159668  20.158048\n",
      "4             4     122183  26.736014\n",
      "5             5     119312  30.769172\n",
      "6             6     182738  24.588313\n",
      "7             7     358406  17.735967\n",
      "8             8     541775  15.079892\n",
      "9             9     565548  16.543882\n",
      "10           10     525120  18.539614\n",
      "11           11     594603  18.928379\n",
      "12           12     622324  17.838745\n",
      "13           13     630181  17.671089\n",
      "14           14     622465  16.974239\n",
      "15           15     640430  15.688418\n",
      "16           16     701435  14.283888\n",
      "17           17     756627  12.462955\n",
      "18           18     768251  13.646810\n",
      "19           19     701064  16.642882\n",
      "20           20     598614  19.536777\n",
      "21           21     552726  20.433874\n",
      "22           22     501095  19.531374\n",
      "23           23     399587  19.877046\n"
     ]
    },
    {
     "data": {
      "application/javascript": [
       "parent.postMessage({\"jupyterEvent\": \"custom.exercise_interaction\", \"data\": {\"outcomeType\": 1, \"valueTowardsCompletion\": 0.16666666666666666, \"interactionType\": 1, \"questionType\": 2, \"questionId\": \"5_TheLongQuery\", \"learnToolsVersion\": \"0.3.4\", \"failureMessage\": \"\", \"exceptionClass\": \"\", \"trace\": \"\"}}, \"*\")"
      ],
      "text/plain": [
       "<IPython.core.display.Javascript object>"
      ]
     },
     "metadata": {},
     "output_type": "display_data"
    },
    {
     "data": {
      "text/markdown": [
       "<span style=\"color:#33cc33\">Correct</span>"
      ],
      "text/plain": [
       "Correct"
      ]
     },
     "metadata": {},
     "output_type": "display_data"
    }
   ],
   "source": [
    "# Your code goes here\n",
    "speeds_query = \"\"\"\n",
    "               WITH RelevantRides AS\n",
    "               (\n",
    "                   SELECT EXTRACT(HOUR FROM trip_start_timestamp) AS hour_of_day,\n",
    "                          trip_miles,\n",
    "                          trip_seconds\n",
    "                   FROM `bigquery-public-data.chicago_taxi_trips.taxi_trips`\n",
    "                   WHERE trip_start_timestamp > '2017-01-01' AND\n",
    "                         trip_start_timestamp < '2017-07-01' AND\n",
    "                         trip_seconds > 0 AND\n",
    "                         trip_miles > 0\n",
    "               )\n",
    "               SELECT hour_of_day,\n",
    "                      COUNT(1) AS num_trips,\n",
    "                      (3600 * SUM(trip_miles) / SUM(trip_seconds)) AS avg_mph\n",
    "               FROM RelevantRides\n",
    "               GROUP BY hour_of_day\n",
    "               ORDER BY hour_of_day\n",
    "               \"\"\"\n",
    "\n",
    "# Set up the query\n",
    "safe_config = bigquery.QueryJobConfig(maximum_bytes_billed=10**10)\n",
    "speeds_query_job = client.query(speeds_query, job_config=safe_config)\n",
    "\n",
    "# API request - run the query, and return a pandas DataFrame\n",
    "speeds_result = speeds_query_job.to_dataframe()\n",
    "\n",
    "# View results\n",
    "print(speeds_result)\n",
    "\n",
    "# Check your answer\n",
    "q_5.check()"
   ]
  },
  {
   "cell_type": "markdown",
   "id": "e355c9d3",
   "metadata": {
    "papermill": {
     "duration": 0.033106,
     "end_time": "2022-06-10T07:37:17.631857",
     "exception": false,
     "start_time": "2022-06-10T07:37:17.598751",
     "status": "completed"
    },
    "tags": []
   },
   "source": [
    "For the solution, uncomment the appropriate line below."
   ]
  },
  {
   "cell_type": "code",
   "execution_count": 13,
   "id": "0c8d5b96",
   "metadata": {
    "execution": {
     "iopub.execute_input": "2022-06-10T07:37:17.687279Z",
     "iopub.status.busy": "2022-06-10T07:37:17.686294Z",
     "iopub.status.idle": "2022-06-10T07:37:17.707320Z",
     "shell.execute_reply": "2022-06-10T07:37:17.694411Z"
    },
    "papermill": {
     "duration": 0.070445,
     "end_time": "2022-06-10T07:37:17.718045",
     "exception": false,
     "start_time": "2022-06-10T07:37:17.647600",
     "status": "completed"
    },
    "tags": []
   },
   "outputs": [],
   "source": [
    "# q_5.solution()"
   ]
  },
  {
   "cell_type": "markdown",
   "id": "8d7f31d1",
   "metadata": {
    "papermill": {
     "duration": 0.01967,
     "end_time": "2022-06-10T07:37:17.767108",
     "exception": false,
     "start_time": "2022-06-10T07:37:17.747438",
     "status": "completed"
    },
    "tags": []
   },
   "source": [
    "That's a hard query. If you made good progress towards the solution, congratulations!"
   ]
  },
  {
   "cell_type": "markdown",
   "id": "76808d8a",
   "metadata": {
    "papermill": {
     "duration": 0.023911,
     "end_time": "2022-06-10T07:37:17.845929",
     "exception": false,
     "start_time": "2022-06-10T07:37:17.822018",
     "status": "completed"
    },
    "tags": []
   },
   "source": [
    "# Keep going\n",
    "\n",
    "You can write very complex queries now with a single data source. But nothing expands the horizons of SQL as much as the ability to combine or **JOIN** tables.\n",
    "\n",
    "**[Click here](https://www.kaggle.com/dansbecker/joining-data)** to start the last lesson in the Intro to SQL micro-course."
   ]
  },
  {
   "cell_type": "markdown",
   "id": "42e58795",
   "metadata": {
    "papermill": {
     "duration": 0.029338,
     "end_time": "2022-06-10T07:37:17.928277",
     "exception": false,
     "start_time": "2022-06-10T07:37:17.898939",
     "status": "completed"
    },
    "tags": []
   },
   "source": [
    "---\n",
    "\n",
    "\n",
    "\n",
    "\n",
    "*Have questions or comments? Visit the [course discussion forum](https://www.kaggle.com/learn/intro-to-sql/discussion) to chat with other learners.*"
   ]
  }
 ],
 "metadata": {
  "kernelspec": {
   "display_name": "Python 3",
   "language": "python",
   "name": "python3"
  },
  "language_info": {
   "codemirror_mode": {
    "name": "ipython",
    "version": 3
   },
   "file_extension": ".py",
   "mimetype": "text/x-python",
   "name": "python",
   "nbconvert_exporter": "python",
   "pygments_lexer": "ipython3",
   "version": "3.7.12"
  },
  "papermill": {
   "default_parameters": {},
   "duration": 47.11953,
   "end_time": "2022-06-10T07:37:20.900717",
   "environment_variables": {},
   "exception": null,
   "input_path": "__notebook__.ipynb",
   "output_path": "__notebook__.ipynb",
   "parameters": {},
   "start_time": "2022-06-10T07:36:33.781187",
   "version": "2.3.4"
  }
 },
 "nbformat": 4,
 "nbformat_minor": 5
}
