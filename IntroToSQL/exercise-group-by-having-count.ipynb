{
 "cells": [
  {
   "cell_type": "markdown",
   "id": "b27efc7b",
   "metadata": {
    "papermill": {
     "duration": 0.0084,
     "end_time": "2022-06-09T04:54:38.378700",
     "exception": false,
     "start_time": "2022-06-09T04:54:38.370300",
     "status": "completed"
    },
    "tags": []
   },
   "source": [
    "**This notebook is an exercise in the [SQL](https://www.kaggle.com/learn/intro-to-sql) course.  You can reference the tutorial at [this link](https://www.kaggle.com/dansbecker/group-by-having-count).**\n",
    "\n",
    "---\n"
   ]
  },
  {
   "cell_type": "markdown",
   "id": "b0d78f8d",
   "metadata": {
    "papermill": {
     "duration": 0.004753,
     "end_time": "2022-06-09T04:54:38.389244",
     "exception": false,
     "start_time": "2022-06-09T04:54:38.384491",
     "status": "completed"
    },
    "tags": []
   },
   "source": [
    "# Introduction\n",
    "\n",
    "Queries with **GROUP BY** can be powerful. There are many small things that can trip you up (like the order of the clauses), but it will start to feel natural once you've done it a few times. Here, you'll write queries using **GROUP BY** to answer questions from the Hacker News dataset.\n",
    "\n",
    "Before you get started, run the following cell to set everything up:"
   ]
  },
  {
   "cell_type": "code",
   "execution_count": 1,
   "id": "7932ded0",
   "metadata": {
    "execution": {
     "iopub.execute_input": "2022-06-09T04:54:38.401889Z",
     "iopub.status.busy": "2022-06-09T04:54:38.401080Z",
     "iopub.status.idle": "2022-06-09T04:54:40.579447Z",
     "shell.execute_reply": "2022-06-09T04:54:40.578394Z"
    },
    "papermill": {
     "duration": 2.187655,
     "end_time": "2022-06-09T04:54:40.581943",
     "exception": false,
     "start_time": "2022-06-09T04:54:38.394288",
     "status": "completed"
    },
    "tags": []
   },
   "outputs": [
    {
     "name": "stdout",
     "output_type": "stream",
     "text": [
      "Using Kaggle's public dataset BigQuery integration.\n"
     ]
    },
    {
     "name": "stderr",
     "output_type": "stream",
     "text": [
      "/opt/conda/lib/python3.7/site-packages/google/cloud/bigquery/client.py:440: UserWarning: Cannot create BigQuery Storage client, the dependency google-cloud-bigquery-storage is not installed.\n",
      "  \"Cannot create BigQuery Storage client, the dependency \"\n"
     ]
    },
    {
     "name": "stdout",
     "output_type": "stream",
     "text": [
      "Setup Complete\n"
     ]
    }
   ],
   "source": [
    "# Set up feedback system\n",
    "from learntools.core import binder\n",
    "binder.bind(globals())\n",
    "from learntools.sql.ex3 import *\n",
    "print(\"Setup Complete\")"
   ]
  },
  {
   "cell_type": "markdown",
   "id": "9fe82dad",
   "metadata": {
    "papermill": {
     "duration": 0.005658,
     "end_time": "2022-06-09T04:54:40.593278",
     "exception": false,
     "start_time": "2022-06-09T04:54:40.587620",
     "status": "completed"
    },
    "tags": []
   },
   "source": [
    "The code cell below fetches the `comments` table from the `hacker_news` dataset.  We also preview the first five rows of the table."
   ]
  },
  {
   "cell_type": "code",
   "execution_count": 2,
   "id": "d4d30d11",
   "metadata": {
    "execution": {
     "iopub.execute_input": "2022-06-09T04:54:40.605729Z",
     "iopub.status.busy": "2022-06-09T04:54:40.605300Z",
     "iopub.status.idle": "2022-06-09T04:54:41.659403Z",
     "shell.execute_reply": "2022-06-09T04:54:41.658571Z"
    },
    "papermill": {
     "duration": 1.062767,
     "end_time": "2022-06-09T04:54:41.661559",
     "exception": false,
     "start_time": "2022-06-09T04:54:40.598792",
     "status": "completed"
    },
    "tags": []
   },
   "outputs": [
    {
     "name": "stdout",
     "output_type": "stream",
     "text": [
      "Using Kaggle's public dataset BigQuery integration.\n"
     ]
    },
    {
     "name": "stderr",
     "output_type": "stream",
     "text": [
      "/opt/conda/lib/python3.7/site-packages/ipykernel_launcher.py:19: UserWarning: Cannot use bqstorage_client if max_results is set, reverting to fetching data with the tabledata.list endpoint.\n"
     ]
    },
    {
     "data": {
      "text/html": [
       "<div>\n",
       "<style scoped>\n",
       "    .dataframe tbody tr th:only-of-type {\n",
       "        vertical-align: middle;\n",
       "    }\n",
       "\n",
       "    .dataframe tbody tr th {\n",
       "        vertical-align: top;\n",
       "    }\n",
       "\n",
       "    .dataframe thead th {\n",
       "        text-align: right;\n",
       "    }\n",
       "</style>\n",
       "<table border=\"1\" class=\"dataframe\">\n",
       "  <thead>\n",
       "    <tr style=\"text-align: right;\">\n",
       "      <th></th>\n",
       "      <th>id</th>\n",
       "      <th>by</th>\n",
       "      <th>author</th>\n",
       "      <th>time</th>\n",
       "      <th>time_ts</th>\n",
       "      <th>text</th>\n",
       "      <th>parent</th>\n",
       "      <th>deleted</th>\n",
       "      <th>dead</th>\n",
       "      <th>ranking</th>\n",
       "    </tr>\n",
       "  </thead>\n",
       "  <tbody>\n",
       "    <tr>\n",
       "      <th>0</th>\n",
       "      <td>2701393</td>\n",
       "      <td>5l</td>\n",
       "      <td>5l</td>\n",
       "      <td>1309184881</td>\n",
       "      <td>2011-06-27 14:28:01+00:00</td>\n",
       "      <td>And the glazier who fixed all the broken windo...</td>\n",
       "      <td>2701243</td>\n",
       "      <td>None</td>\n",
       "      <td>None</td>\n",
       "      <td>0</td>\n",
       "    </tr>\n",
       "    <tr>\n",
       "      <th>1</th>\n",
       "      <td>5811403</td>\n",
       "      <td>99</td>\n",
       "      <td>99</td>\n",
       "      <td>1370234048</td>\n",
       "      <td>2013-06-03 04:34:08+00:00</td>\n",
       "      <td>Does canada have the equivalent of H1B/Green c...</td>\n",
       "      <td>5804452</td>\n",
       "      <td>None</td>\n",
       "      <td>None</td>\n",
       "      <td>0</td>\n",
       "    </tr>\n",
       "    <tr>\n",
       "      <th>2</th>\n",
       "      <td>21623</td>\n",
       "      <td>AF</td>\n",
       "      <td>AF</td>\n",
       "      <td>1178992400</td>\n",
       "      <td>2007-05-12 17:53:20+00:00</td>\n",
       "      <td>Speaking of Rails, there are other options in ...</td>\n",
       "      <td>21611</td>\n",
       "      <td>None</td>\n",
       "      <td>None</td>\n",
       "      <td>0</td>\n",
       "    </tr>\n",
       "    <tr>\n",
       "      <th>3</th>\n",
       "      <td>10159727</td>\n",
       "      <td>EA</td>\n",
       "      <td>EA</td>\n",
       "      <td>1441206574</td>\n",
       "      <td>2015-09-02 15:09:34+00:00</td>\n",
       "      <td>Humans and large livestock (and maybe even pet...</td>\n",
       "      <td>10159396</td>\n",
       "      <td>None</td>\n",
       "      <td>None</td>\n",
       "      <td>0</td>\n",
       "    </tr>\n",
       "    <tr>\n",
       "      <th>4</th>\n",
       "      <td>2988424</td>\n",
       "      <td>Iv</td>\n",
       "      <td>Iv</td>\n",
       "      <td>1315853580</td>\n",
       "      <td>2011-09-12 18:53:00+00:00</td>\n",
       "      <td>I must say I reacted in the same way when I re...</td>\n",
       "      <td>2988179</td>\n",
       "      <td>None</td>\n",
       "      <td>None</td>\n",
       "      <td>0</td>\n",
       "    </tr>\n",
       "  </tbody>\n",
       "</table>\n",
       "</div>"
      ],
      "text/plain": [
       "         id  by author        time                   time_ts  \\\n",
       "0   2701393  5l     5l  1309184881 2011-06-27 14:28:01+00:00   \n",
       "1   5811403  99     99  1370234048 2013-06-03 04:34:08+00:00   \n",
       "2     21623  AF     AF  1178992400 2007-05-12 17:53:20+00:00   \n",
       "3  10159727  EA     EA  1441206574 2015-09-02 15:09:34+00:00   \n",
       "4   2988424  Iv     Iv  1315853580 2011-09-12 18:53:00+00:00   \n",
       "\n",
       "                                                text    parent deleted  dead  \\\n",
       "0  And the glazier who fixed all the broken windo...   2701243    None  None   \n",
       "1  Does canada have the equivalent of H1B/Green c...   5804452    None  None   \n",
       "2  Speaking of Rails, there are other options in ...     21611    None  None   \n",
       "3  Humans and large livestock (and maybe even pet...  10159396    None  None   \n",
       "4  I must say I reacted in the same way when I re...   2988179    None  None   \n",
       "\n",
       "   ranking  \n",
       "0        0  \n",
       "1        0  \n",
       "2        0  \n",
       "3        0  \n",
       "4        0  "
      ]
     },
     "execution_count": 2,
     "metadata": {},
     "output_type": "execute_result"
    }
   ],
   "source": [
    "from google.cloud import bigquery\n",
    "\n",
    "# Create a \"Client\" object\n",
    "client = bigquery.Client()\n",
    "\n",
    "# Construct a reference to the \"hacker_news\" dataset\n",
    "dataset_ref = client.dataset(\"hacker_news\", project=\"bigquery-public-data\")\n",
    "\n",
    "# API request - fetch the dataset\n",
    "dataset = client.get_dataset(dataset_ref)\n",
    "\n",
    "# Construct a reference to the \"comments\" table\n",
    "table_ref = dataset_ref.table(\"comments\")\n",
    "\n",
    "# API request - fetch the table\n",
    "table = client.get_table(table_ref)\n",
    "\n",
    "# Preview the first five lines of the \"comments\" table\n",
    "client.list_rows(table, max_results=5).to_dataframe()"
   ]
  },
  {
   "cell_type": "markdown",
   "id": "c81e4490",
   "metadata": {
    "papermill": {
     "duration": 0.005504,
     "end_time": "2022-06-09T04:54:41.673152",
     "exception": false,
     "start_time": "2022-06-09T04:54:41.667648",
     "status": "completed"
    },
    "tags": []
   },
   "source": [
    "# Exercises\n",
    "\n",
    "### 1) Prolific commenters\n",
    "\n",
    "Hacker News would like to send awards to everyone who has written more than 10,000 posts. Write a query that returns all authors with more than 10,000 posts as well as their post counts. Call the column with post counts `NumPosts`.\n",
    "\n",
    "In case sample query is helpful, here is a query you saw in the tutorial to answer a similar question:\n",
    "```\n",
    "query = \"\"\"\n",
    "        SELECT parent, COUNT(1) AS NumPosts\n",
    "        FROM `bigquery-public-data.hacker_news.comments`\n",
    "        GROUP BY parent\n",
    "        HAVING COUNT(1) > 10\n",
    "        \"\"\"\n",
    "```"
   ]
  },
  {
   "cell_type": "code",
   "execution_count": 3,
   "id": "604e3ef4",
   "metadata": {
    "execution": {
     "iopub.execute_input": "2022-06-09T04:54:41.686341Z",
     "iopub.status.busy": "2022-06-09T04:54:41.685939Z",
     "iopub.status.idle": "2022-06-09T04:54:42.704298Z",
     "shell.execute_reply": "2022-06-09T04:54:42.703377Z"
    },
    "papermill": {
     "duration": 1.027591,
     "end_time": "2022-06-09T04:54:42.706446",
     "exception": false,
     "start_time": "2022-06-09T04:54:41.678855",
     "status": "completed"
    },
    "tags": []
   },
   "outputs": [
    {
     "name": "stderr",
     "output_type": "stream",
     "text": [
      "/opt/conda/lib/python3.7/site-packages/google/cloud/bigquery/client.py:440: UserWarning: Cannot create BigQuery Storage client, the dependency google-cloud-bigquery-storage is not installed.\n",
      "  \"Cannot create BigQuery Storage client, the dependency \"\n"
     ]
    },
    {
     "name": "stdout",
     "output_type": "stream",
     "text": [
      "    author  NumPosts\n",
      "0      eru     10448\n",
      "1  rbanffy     10557\n",
      "2    DanBC     12902\n",
      "3    sp332     10882\n",
      "4   davidw     10764\n"
     ]
    },
    {
     "data": {
      "application/javascript": [
       "parent.postMessage({\"jupyterEvent\": \"custom.exercise_interaction\", \"data\": {\"outcomeType\": 1, \"valueTowardsCompletion\": 0.5, \"interactionType\": 1, \"questionType\": 2, \"questionId\": \"1_ProlificCommenters\", \"learnToolsVersion\": \"0.3.4\", \"failureMessage\": \"\", \"exceptionClass\": \"\", \"trace\": \"\"}}, \"*\")"
      ],
      "text/plain": [
       "<IPython.core.display.Javascript object>"
      ]
     },
     "metadata": {},
     "output_type": "display_data"
    },
    {
     "data": {
      "text/markdown": [
       "<span style=\"color:#33cc33\">Correct</span>"
      ],
      "text/plain": [
       "Correct"
      ]
     },
     "metadata": {},
     "output_type": "display_data"
    }
   ],
   "source": [
    "# Query to select prolific commenters and post counts\n",
    "prolific_commenters_query = \"\"\"\n",
    "                            SELECT author, COUNT(1) AS NumPosts\n",
    "                            FROM `bigquery-public-data.hacker_news.comments`\n",
    "                            GROUP BY author\n",
    "                            HAVING COUNT(1) > 10000\n",
    "                            \"\"\"\n",
    "\n",
    "# Set up the query (cancel the query if it would use too much of \n",
    "# your quota, with the limit set to 1 GB)\n",
    "safe_config = bigquery.QueryJobConfig(maximum_bytes_billed=10**10)\n",
    "query_job = client.query(prolific_commenters_query, job_config=safe_config)\n",
    "\n",
    "# API request - run the query, and return a pandas DataFrame\n",
    "prolific_commenters = query_job.to_dataframe()\n",
    "\n",
    "# View top few rows of results\n",
    "print(prolific_commenters.head())\n",
    "\n",
    "# Check your answer\n",
    "q_1.check()"
   ]
  },
  {
   "cell_type": "code",
   "execution_count": 4,
   "id": "9a83a807",
   "metadata": {
    "execution": {
     "iopub.execute_input": "2022-06-09T04:54:42.720909Z",
     "iopub.status.busy": "2022-06-09T04:54:42.720504Z",
     "iopub.status.idle": "2022-06-09T04:54:42.730647Z",
     "shell.execute_reply": "2022-06-09T04:54:42.729879Z"
    },
    "papermill": {
     "duration": 0.020761,
     "end_time": "2022-06-09T04:54:42.733512",
     "exception": false,
     "start_time": "2022-06-09T04:54:42.712751",
     "status": "completed"
    },
    "tags": []
   },
   "outputs": [
    {
     "name": "stdout",
     "output_type": "stream",
     "text": [
      "NumPosts    227736\n",
      "dtype: int64\n"
     ]
    },
    {
     "name": "stderr",
     "output_type": "stream",
     "text": [
      "/opt/conda/lib/python3.7/site-packages/ipykernel_launcher.py:1: FutureWarning: Dropping of nuisance columns in DataFrame reductions (with 'numeric_only=None') is deprecated; in a future version this will raise TypeError.  Select only valid columns before calling the reduction.\n",
      "  \"\"\"Entry point for launching an IPython kernel.\n"
     ]
    }
   ],
   "source": [
    "print(prolific_commenters.max())"
   ]
  },
  {
   "cell_type": "code",
   "execution_count": 5,
   "id": "0a45aee7",
   "metadata": {
    "execution": {
     "iopub.execute_input": "2022-06-09T04:54:42.748891Z",
     "iopub.status.busy": "2022-06-09T04:54:42.748464Z",
     "iopub.status.idle": "2022-06-09T04:54:42.754520Z",
     "shell.execute_reply": "2022-06-09T04:54:42.753569Z"
    },
    "papermill": {
     "duration": 0.016102,
     "end_time": "2022-06-09T04:54:42.756536",
     "exception": false,
     "start_time": "2022-06-09T04:54:42.740434",
     "status": "completed"
    },
    "tags": []
   },
   "outputs": [
    {
     "data": {
      "text/plain": [
       "pandas.core.frame.DataFrame"
      ]
     },
     "execution_count": 5,
     "metadata": {},
     "output_type": "execute_result"
    }
   ],
   "source": [
    "type(prolific_commenters)"
   ]
  },
  {
   "cell_type": "code",
   "execution_count": 6,
   "id": "cc372dca",
   "metadata": {
    "execution": {
     "iopub.execute_input": "2022-06-09T04:54:42.771685Z",
     "iopub.status.busy": "2022-06-09T04:54:42.771223Z",
     "iopub.status.idle": "2022-06-09T04:54:42.777953Z",
     "shell.execute_reply": "2022-06-09T04:54:42.777006Z"
    },
    "papermill": {
     "duration": 0.01716,
     "end_time": "2022-06-09T04:54:42.780298",
     "exception": false,
     "start_time": "2022-06-09T04:54:42.763138",
     "status": "completed"
    },
    "tags": []
   },
   "outputs": [
    {
     "name": "stdout",
     "output_type": "stream",
     "text": [
      "          author  NumPosts\n",
      "0            eru     10448\n",
      "1        rbanffy     10557\n",
      "2          DanBC     12902\n",
      "3          sp332     10882\n",
      "4         davidw     10764\n",
      "5        rayiner     11080\n",
      "6        tptacek     33839\n",
      "7       jacquesm     21107\n",
      "8       jrockway     13626\n",
      "9      anigbrowl     11395\n",
      "10    stcredzero     10092\n",
      "11  dragonwriter     10723\n",
      "12          None    227736\n"
     ]
    }
   ],
   "source": [
    "print(prolific_commenters)"
   ]
  },
  {
   "cell_type": "markdown",
   "id": "3b2114b9",
   "metadata": {
    "papermill": {
     "duration": 0.006435,
     "end_time": "2022-06-09T04:54:42.793465",
     "exception": false,
     "start_time": "2022-06-09T04:54:42.787030",
     "status": "completed"
    },
    "tags": []
   },
   "source": [
    "For the solution, uncomment the line below."
   ]
  },
  {
   "cell_type": "code",
   "execution_count": 7,
   "id": "846fff0b",
   "metadata": {
    "execution": {
     "iopub.execute_input": "2022-06-09T04:54:42.808575Z",
     "iopub.status.busy": "2022-06-09T04:54:42.808125Z",
     "iopub.status.idle": "2022-06-09T04:54:42.812474Z",
     "shell.execute_reply": "2022-06-09T04:54:42.811487Z"
    },
    "papermill": {
     "duration": 0.014453,
     "end_time": "2022-06-09T04:54:42.814601",
     "exception": false,
     "start_time": "2022-06-09T04:54:42.800148",
     "status": "completed"
    },
    "tags": []
   },
   "outputs": [],
   "source": [
    "#q_1.solution()"
   ]
  },
  {
   "cell_type": "markdown",
   "id": "c705c36e",
   "metadata": {
    "papermill": {
     "duration": 0.006263,
     "end_time": "2022-06-09T04:54:42.827601",
     "exception": false,
     "start_time": "2022-06-09T04:54:42.821338",
     "status": "completed"
    },
    "tags": []
   },
   "source": [
    "### 2) Deleted comments\n",
    "\n",
    "How many comments have been deleted? (If a comment was deleted, the `deleted` column in the comments table will have the value `True`.)"
   ]
  },
  {
   "cell_type": "code",
   "execution_count": 8,
   "id": "b91d7304",
   "metadata": {
    "execution": {
     "iopub.execute_input": "2022-06-09T04:54:42.842507Z",
     "iopub.status.busy": "2022-06-09T04:54:42.842049Z",
     "iopub.status.idle": "2022-06-09T04:54:43.787765Z",
     "shell.execute_reply": "2022-06-09T04:54:43.786341Z"
    },
    "papermill": {
     "duration": 0.956135,
     "end_time": "2022-06-09T04:54:43.790389",
     "exception": false,
     "start_time": "2022-06-09T04:54:42.834254",
     "status": "completed"
    },
    "tags": []
   },
   "outputs": [
    {
     "name": "stderr",
     "output_type": "stream",
     "text": [
      "/opt/conda/lib/python3.7/site-packages/google/cloud/bigquery/client.py:440: UserWarning: Cannot create BigQuery Storage client, the dependency google-cloud-bigquery-storage is not installed.\n",
      "  \"Cannot create BigQuery Storage client, the dependency \"\n"
     ]
    },
    {
     "name": "stdout",
     "output_type": "stream",
     "text": [
      "   DelComments\n",
      "0       227736\n"
     ]
    }
   ],
   "source": [
    "# Write your query here and figure out the answer\n",
    "deleted_comments_query = \"\"\"\n",
    "                            SELECT COUNT(1) AS DelComments\n",
    "                            FROM `bigquery-public-data.hacker_news.comments`\n",
    "                            WHERE deleted = True\n",
    "                            \"\"\"\n",
    "# Set up the query (cancel the query if it would use too much of \n",
    "# your quota, with the limit set to 1 GB)\n",
    "safe_config = bigquery.QueryJobConfig(maximum_bytes_billed=10**10)\n",
    "query_job = client.query(deleted_comments_query, job_config=safe_config)\n",
    "\n",
    "# API request - run the query, and return a pandas DataFrame\n",
    "deleted_comments = query_job.to_dataframe()\n",
    "\n",
    "# View top few rows of results\n",
    "print(deleted_comments)"
   ]
  },
  {
   "cell_type": "code",
   "execution_count": 9,
   "id": "50f0a4b1",
   "metadata": {
    "execution": {
     "iopub.execute_input": "2022-06-09T04:54:43.806464Z",
     "iopub.status.busy": "2022-06-09T04:54:43.806059Z",
     "iopub.status.idle": "2022-06-09T04:54:43.814503Z",
     "shell.execute_reply": "2022-06-09T04:54:43.813351Z"
    },
    "papermill": {
     "duration": 0.019111,
     "end_time": "2022-06-09T04:54:43.816556",
     "exception": false,
     "start_time": "2022-06-09T04:54:43.797445",
     "status": "completed"
    },
    "tags": []
   },
   "outputs": [
    {
     "data": {
      "application/javascript": [
       "parent.postMessage({\"jupyterEvent\": \"custom.exercise_interaction\", \"data\": {\"outcomeType\": 1, \"valueTowardsCompletion\": 0.5, \"interactionType\": 1, \"questionType\": 1, \"questionId\": \"2_NumDeletedPosts\", \"learnToolsVersion\": \"0.3.4\", \"failureMessage\": \"\", \"exceptionClass\": \"\", \"trace\": \"\"}}, \"*\")"
      ],
      "text/plain": [
       "<IPython.core.display.Javascript object>"
      ]
     },
     "metadata": {},
     "output_type": "display_data"
    },
    {
     "data": {
      "text/markdown": [
       "<span style=\"color:#33cc33\">Correct</span>"
      ],
      "text/plain": [
       "Correct"
      ]
     },
     "metadata": {},
     "output_type": "display_data"
    }
   ],
   "source": [
    "num_deleted_posts = deleted_comments.iloc[0,0] # Put your answer here\n",
    "\n",
    "# Check your answer\n",
    "q_2.check()"
   ]
  },
  {
   "cell_type": "markdown",
   "id": "eaa588de",
   "metadata": {
    "papermill": {
     "duration": 0.006665,
     "end_time": "2022-06-09T04:54:43.830398",
     "exception": false,
     "start_time": "2022-06-09T04:54:43.823733",
     "status": "completed"
    },
    "tags": []
   },
   "source": [
    "For the solution, uncomment the line below."
   ]
  },
  {
   "cell_type": "code",
   "execution_count": 10,
   "id": "97f9c303",
   "metadata": {
    "execution": {
     "iopub.execute_input": "2022-06-09T04:54:43.846072Z",
     "iopub.status.busy": "2022-06-09T04:54:43.845655Z",
     "iopub.status.idle": "2022-06-09T04:54:43.850562Z",
     "shell.execute_reply": "2022-06-09T04:54:43.849454Z"
    },
    "papermill": {
     "duration": 0.015287,
     "end_time": "2022-06-09T04:54:43.852749",
     "exception": false,
     "start_time": "2022-06-09T04:54:43.837462",
     "status": "completed"
    },
    "tags": []
   },
   "outputs": [],
   "source": [
    "#q_2.solution()"
   ]
  },
  {
   "cell_type": "markdown",
   "id": "db46b53c",
   "metadata": {
    "papermill": {
     "duration": 0.00674,
     "end_time": "2022-06-09T04:54:43.866770",
     "exception": false,
     "start_time": "2022-06-09T04:54:43.860030",
     "status": "completed"
    },
    "tags": []
   },
   "source": [
    "# Keep Going\n",
    "**[Click here](https://www.kaggle.com/dansbecker/order-by)** to move on and learn about the **ORDER BY** clause."
   ]
  },
  {
   "cell_type": "markdown",
   "id": "e40936d0",
   "metadata": {
    "papermill": {
     "duration": 0.006783,
     "end_time": "2022-06-09T04:54:43.880679",
     "exception": false,
     "start_time": "2022-06-09T04:54:43.873896",
     "status": "completed"
    },
    "tags": []
   },
   "source": [
    "---\n",
    "\n",
    "\n",
    "\n",
    "\n",
    "*Have questions or comments? Visit the [course discussion forum](https://www.kaggle.com/learn/intro-to-sql/discussion) to chat with other learners.*"
   ]
  }
 ],
 "metadata": {
  "kernelspec": {
   "display_name": "Python 3",
   "language": "python",
   "name": "python3"
  },
  "language_info": {
   "codemirror_mode": {
    "name": "ipython",
    "version": 3
   },
   "file_extension": ".py",
   "mimetype": "text/x-python",
   "name": "python",
   "nbconvert_exporter": "python",
   "pygments_lexer": "ipython3",
   "version": "3.7.12"
  },
  "papermill": {
   "default_parameters": {},
   "duration": 16.914242,
   "end_time": "2022-06-09T04:54:44.610207",
   "environment_variables": {},
   "exception": null,
   "input_path": "__notebook__.ipynb",
   "output_path": "__notebook__.ipynb",
   "parameters": {},
   "start_time": "2022-06-09T04:54:27.695965",
   "version": "2.3.4"
  }
 },
 "nbformat": 4,
 "nbformat_minor": 5
}
