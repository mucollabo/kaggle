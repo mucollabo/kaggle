{
 "cells": [
  {
   "cell_type": "markdown",
   "id": "58b2366f",
   "metadata": {
    "papermill": {
     "duration": 0.005534,
     "end_time": "2022-06-07T15:35:22.513981",
     "exception": false,
     "start_time": "2022-06-07T15:35:22.508447",
     "status": "completed"
    },
    "tags": []
   },
   "source": [
    "**This notebook is an exercise in the [SQL](https://www.kaggle.com/learn/intro-to-sql) course.  You can reference the tutorial at [this link](https://www.kaggle.com/dansbecker/select-from-where).**\n",
    "\n",
    "---\n"
   ]
  },
  {
   "cell_type": "markdown",
   "id": "c881c70a",
   "metadata": {
    "papermill": {
     "duration": 0.00323,
     "end_time": "2022-06-07T15:35:22.523412",
     "exception": false,
     "start_time": "2022-06-07T15:35:22.520182",
     "status": "completed"
    },
    "tags": []
   },
   "source": [
    "# Introduction\n",
    "\n",
    "Try writing some **SELECT** statements of your own to explore a large dataset of air pollution measurements.\n",
    "\n",
    "Run the cell below to set up the feedback system."
   ]
  },
  {
   "cell_type": "code",
   "execution_count": 1,
   "id": "6d5c7c15",
   "metadata": {
    "execution": {
     "iopub.execute_input": "2022-06-07T15:35:22.532331Z",
     "iopub.status.busy": "2022-06-07T15:35:22.531793Z",
     "iopub.status.idle": "2022-06-07T15:36:10.493795Z",
     "shell.execute_reply": "2022-06-07T15:36:10.492790Z"
    },
    "papermill": {
     "duration": 47.975883,
     "end_time": "2022-06-07T15:36:10.502937",
     "exception": false,
     "start_time": "2022-06-07T15:35:22.527054",
     "status": "completed"
    },
    "tags": []
   },
   "outputs": [
    {
     "name": "stdout",
     "output_type": "stream",
     "text": [
      "Using Kaggle's public dataset BigQuery integration.\n"
     ]
    },
    {
     "name": "stderr",
     "output_type": "stream",
     "text": [
      "/opt/conda/lib/python3.7/site-packages/google/cloud/bigquery/client.py:440: UserWarning: Cannot create BigQuery Storage client, the dependency google-cloud-bigquery-storage is not installed.\n",
      "  \"Cannot create BigQuery Storage client, the dependency \"\n"
     ]
    },
    {
     "name": "stdout",
     "output_type": "stream",
     "text": [
      "Setup Complete\n"
     ]
    }
   ],
   "source": [
    "# Set up feedback system\n",
    "from learntools.core import binder\n",
    "binder.bind(globals())\n",
    "from learntools.sql.ex2 import *\n",
    "print(\"Setup Complete\")"
   ]
  },
  {
   "cell_type": "markdown",
   "id": "a3dd7dee",
   "metadata": {
    "papermill": {
     "duration": 0.003434,
     "end_time": "2022-06-07T15:36:10.509701",
     "exception": false,
     "start_time": "2022-06-07T15:36:10.506267",
     "status": "completed"
    },
    "tags": []
   },
   "source": [
    "The code cell below fetches the `global_air_quality` table from the `openaq` dataset.  We also preview the first five rows of the table."
   ]
  },
  {
   "cell_type": "code",
   "execution_count": 2,
   "id": "182af6a7",
   "metadata": {
    "execution": {
     "iopub.execute_input": "2022-06-07T15:36:10.518398Z",
     "iopub.status.busy": "2022-06-07T15:36:10.517843Z",
     "iopub.status.idle": "2022-06-07T15:36:11.378363Z",
     "shell.execute_reply": "2022-06-07T15:36:11.377611Z"
    },
    "papermill": {
     "duration": 0.86798,
     "end_time": "2022-06-07T15:36:11.381069",
     "exception": false,
     "start_time": "2022-06-07T15:36:10.513089",
     "status": "completed"
    },
    "tags": []
   },
   "outputs": [
    {
     "name": "stdout",
     "output_type": "stream",
     "text": [
      "Using Kaggle's public dataset BigQuery integration.\n"
     ]
    },
    {
     "name": "stderr",
     "output_type": "stream",
     "text": [
      "/opt/conda/lib/python3.7/site-packages/ipykernel_launcher.py:19: UserWarning: Cannot use bqstorage_client if max_results is set, reverting to fetching data with the tabledata.list endpoint.\n"
     ]
    },
    {
     "data": {
      "text/html": [
       "<div>\n",
       "<style scoped>\n",
       "    .dataframe tbody tr th:only-of-type {\n",
       "        vertical-align: middle;\n",
       "    }\n",
       "\n",
       "    .dataframe tbody tr th {\n",
       "        vertical-align: top;\n",
       "    }\n",
       "\n",
       "    .dataframe thead th {\n",
       "        text-align: right;\n",
       "    }\n",
       "</style>\n",
       "<table border=\"1\" class=\"dataframe\">\n",
       "  <thead>\n",
       "    <tr style=\"text-align: right;\">\n",
       "      <th></th>\n",
       "      <th>location</th>\n",
       "      <th>city</th>\n",
       "      <th>country</th>\n",
       "      <th>pollutant</th>\n",
       "      <th>value</th>\n",
       "      <th>timestamp</th>\n",
       "      <th>unit</th>\n",
       "      <th>source_name</th>\n",
       "      <th>latitude</th>\n",
       "      <th>longitude</th>\n",
       "      <th>averaged_over_in_hours</th>\n",
       "      <th>location_geom</th>\n",
       "    </tr>\n",
       "  </thead>\n",
       "  <tbody>\n",
       "    <tr>\n",
       "      <th>0</th>\n",
       "      <td>Płock, ul. Reja</td>\n",
       "      <td>Płock</td>\n",
       "      <td>PL</td>\n",
       "      <td>bc</td>\n",
       "      <td>0.30000</td>\n",
       "      <td>2022-05-09 18:00:00+00:00</td>\n",
       "      <td>µg/m³</td>\n",
       "      <td>GIOS</td>\n",
       "      <td>1.0</td>\n",
       "      <td>52.550938</td>\n",
       "      <td>19.709791</td>\n",
       "      <td>POINT(52.550938 1)</td>\n",
       "    </tr>\n",
       "    <tr>\n",
       "      <th>1</th>\n",
       "      <td>Legnica, al. Rzeczypospolitej</td>\n",
       "      <td>Legnica</td>\n",
       "      <td>PL</td>\n",
       "      <td>bc</td>\n",
       "      <td>0.67909</td>\n",
       "      <td>2022-05-16 05:00:00+00:00</td>\n",
       "      <td>µg/m³</td>\n",
       "      <td>GIOS</td>\n",
       "      <td>1.0</td>\n",
       "      <td>51.204503</td>\n",
       "      <td>16.180513</td>\n",
       "      <td>POINT(51.204503 1)</td>\n",
       "    </tr>\n",
       "    <tr>\n",
       "      <th>2</th>\n",
       "      <td>Włocławek, ul. Okrzei</td>\n",
       "      <td>Włocławek</td>\n",
       "      <td>PL</td>\n",
       "      <td>bc</td>\n",
       "      <td>2.64000</td>\n",
       "      <td>2022-04-29 06:00:00+00:00</td>\n",
       "      <td>µg/m³</td>\n",
       "      <td>GIOS</td>\n",
       "      <td>1.0</td>\n",
       "      <td>52.658467</td>\n",
       "      <td>19.059314</td>\n",
       "      <td>POINT(52.658467 1)</td>\n",
       "    </tr>\n",
       "    <tr>\n",
       "      <th>3</th>\n",
       "      <td>Zielonka, Bory Tucholskie</td>\n",
       "      <td>Zielonka</td>\n",
       "      <td>PL</td>\n",
       "      <td>bc</td>\n",
       "      <td>0.41000</td>\n",
       "      <td>2022-05-04 08:00:00+00:00</td>\n",
       "      <td>µg/m³</td>\n",
       "      <td>GIOS</td>\n",
       "      <td>1.0</td>\n",
       "      <td>53.662136</td>\n",
       "      <td>17.933986</td>\n",
       "      <td>POINT(53.662136 1)</td>\n",
       "    </tr>\n",
       "    <tr>\n",
       "      <th>4</th>\n",
       "      <td>Kędzierzyn-Koźle, ul. Śmiałego</td>\n",
       "      <td>Kędzierzyn-Koźle</td>\n",
       "      <td>PL</td>\n",
       "      <td>bc</td>\n",
       "      <td>1.32639</td>\n",
       "      <td>2022-05-14 21:00:00+00:00</td>\n",
       "      <td>µg/m³</td>\n",
       "      <td>GIOS</td>\n",
       "      <td>1.0</td>\n",
       "      <td>50.349608</td>\n",
       "      <td>18.236575</td>\n",
       "      <td>POINT(50.349608 1)</td>\n",
       "    </tr>\n",
       "  </tbody>\n",
       "</table>\n",
       "</div>"
      ],
      "text/plain": [
       "                         location              city country pollutant  \\\n",
       "0                 Płock, ul. Reja             Płock      PL        bc   \n",
       "1   Legnica, al. Rzeczypospolitej           Legnica      PL        bc   \n",
       "2           Włocławek, ul. Okrzei         Włocławek      PL        bc   \n",
       "3       Zielonka, Bory Tucholskie          Zielonka      PL        bc   \n",
       "4  Kędzierzyn-Koźle, ul. Śmiałego  Kędzierzyn-Koźle      PL        bc   \n",
       "\n",
       "     value                 timestamp   unit source_name  latitude  longitude  \\\n",
       "0  0.30000 2022-05-09 18:00:00+00:00  µg/m³        GIOS       1.0  52.550938   \n",
       "1  0.67909 2022-05-16 05:00:00+00:00  µg/m³        GIOS       1.0  51.204503   \n",
       "2  2.64000 2022-04-29 06:00:00+00:00  µg/m³        GIOS       1.0  52.658467   \n",
       "3  0.41000 2022-05-04 08:00:00+00:00  µg/m³        GIOS       1.0  53.662136   \n",
       "4  1.32639 2022-05-14 21:00:00+00:00  µg/m³        GIOS       1.0  50.349608   \n",
       "\n",
       "   averaged_over_in_hours       location_geom  \n",
       "0               19.709791  POINT(52.550938 1)  \n",
       "1               16.180513  POINT(51.204503 1)  \n",
       "2               19.059314  POINT(52.658467 1)  \n",
       "3               17.933986  POINT(53.662136 1)  \n",
       "4               18.236575  POINT(50.349608 1)  "
      ]
     },
     "execution_count": 2,
     "metadata": {},
     "output_type": "execute_result"
    }
   ],
   "source": [
    "from google.cloud import bigquery\n",
    "\n",
    "# Create a \"Client\" object\n",
    "client = bigquery.Client()\n",
    "\n",
    "# Construct a reference to the \"openaq\" dataset\n",
    "dataset_ref = client.dataset(\"openaq\", project=\"bigquery-public-data\")\n",
    "\n",
    "# API request - fetch the dataset\n",
    "dataset = client.get_dataset(dataset_ref)\n",
    "\n",
    "# Construct a reference to the \"global_air_quality\" table\n",
    "table_ref = dataset_ref.table(\"global_air_quality\")\n",
    "\n",
    "# API request - fetch the table\n",
    "table = client.get_table(table_ref)\n",
    "\n",
    "# Preview the first five lines of the \"global_air_quality\" table\n",
    "client.list_rows(table, max_results=5).to_dataframe()"
   ]
  },
  {
   "cell_type": "markdown",
   "id": "74bc86e4",
   "metadata": {
    "papermill": {
     "duration": 0.003764,
     "end_time": "2022-06-07T15:36:11.388984",
     "exception": false,
     "start_time": "2022-06-07T15:36:11.385220",
     "status": "completed"
    },
    "tags": []
   },
   "source": [
    "# Exercises\n",
    "\n",
    "### 1) Units of measurement\n",
    "\n",
    "Which countries have reported pollution levels in units of \"ppm\"?  In the code cell below, set `first_query` to an SQL query that pulls the appropriate entries from the `country` column.\n",
    "\n",
    "In case it's useful to see an example query, here's some code from the tutorial:\n",
    "\n",
    "```\n",
    "query = \"\"\"\n",
    "        SELECT city\n",
    "        FROM `bigquery-public-data.openaq.global_air_quality`\n",
    "        WHERE country = 'US'\n",
    "        \"\"\"\n",
    "```"
   ]
  },
  {
   "cell_type": "code",
   "execution_count": 3,
   "id": "83456d8a",
   "metadata": {
    "execution": {
     "iopub.execute_input": "2022-06-07T15:36:11.399163Z",
     "iopub.status.busy": "2022-06-07T15:36:11.398389Z",
     "iopub.status.idle": "2022-06-07T15:36:26.792947Z",
     "shell.execute_reply": "2022-06-07T15:36:26.791674Z"
    },
    "papermill": {
     "duration": 15.401909,
     "end_time": "2022-06-07T15:36:26.794931",
     "exception": false,
     "start_time": "2022-06-07T15:36:11.393022",
     "status": "completed"
    },
    "tags": []
   },
   "outputs": [
    {
     "name": "stderr",
     "output_type": "stream",
     "text": [
      "/opt/conda/lib/python3.7/site-packages/google/cloud/bigquery/client.py:440: UserWarning: Cannot create BigQuery Storage client, the dependency google-cloud-bigquery-storage is not installed.\n",
      "  \"Cannot create BigQuery Storage client, the dependency \"\n"
     ]
    },
    {
     "name": "stdout",
     "output_type": "stream",
     "text": [
      "  country\n",
      "0      US\n",
      "1      AR\n",
      "2      AR\n",
      "3      AR\n",
      "4      AR\n",
      "You got the right countries. Nice job! Some countries showed up many times in the results. To get each country only once you can run `SELECT DISTINCT country ...`. The DISTINCT keyword ensures each column shows up once, which you'll want in some cases.\n"
     ]
    },
    {
     "data": {
      "application/javascript": [
       "parent.postMessage({\"jupyterEvent\": \"custom.exercise_interaction\", \"data\": {\"outcomeType\": 1, \"valueTowardsCompletion\": 0.5, \"interactionType\": 1, \"questionType\": 2, \"questionId\": \"1_WhichCountries\", \"learnToolsVersion\": \"0.3.4\", \"failureMessage\": \"\", \"exceptionClass\": \"\", \"trace\": \"\"}}, \"*\")"
      ],
      "text/plain": [
       "<IPython.core.display.Javascript object>"
      ]
     },
     "metadata": {},
     "output_type": "display_data"
    },
    {
     "data": {
      "text/markdown": [
       "<span style=\"color:#33cc33\">Correct</span>"
      ],
      "text/plain": [
       "Correct"
      ]
     },
     "metadata": {},
     "output_type": "display_data"
    }
   ],
   "source": [
    "# Query to select countries with units of \"ppm\"\n",
    "first_query = \"\"\"\n",
    "              SELECT country\n",
    "              FROM `bigquery-public-data.openaq.global_air_quality`\n",
    "              WHERE unit = \"ppm\"\n",
    "              \"\"\"\n",
    "\n",
    "# Set up the query (cancel the query if it would use too much of \n",
    "# your quota, with the limit set to 10 GB)\n",
    "safe_config = bigquery.QueryJobConfig(maximum_bytes_billed=10**10)\n",
    "first_query_job = client.query(first_query, job_config=safe_config)\n",
    "\n",
    "# API request - run the query, and return a pandas DataFrame\n",
    "first_results = first_query_job.to_dataframe()\n",
    "\n",
    "# View top few rows of results\n",
    "print(first_results.head())\n",
    "\n",
    "# Check your answer\n",
    "q_1.check()"
   ]
  },
  {
   "cell_type": "markdown",
   "id": "072273e8",
   "metadata": {
    "papermill": {
     "duration": 0.003818,
     "end_time": "2022-06-07T15:36:26.802880",
     "exception": false,
     "start_time": "2022-06-07T15:36:26.799062",
     "status": "completed"
    },
    "tags": []
   },
   "source": [
    "For the solution, uncomment the line below."
   ]
  },
  {
   "cell_type": "code",
   "execution_count": 4,
   "id": "b9a22e0b",
   "metadata": {
    "execution": {
     "iopub.execute_input": "2022-06-07T15:36:26.812721Z",
     "iopub.status.busy": "2022-06-07T15:36:26.812337Z",
     "iopub.status.idle": "2022-06-07T15:36:26.816260Z",
     "shell.execute_reply": "2022-06-07T15:36:26.815351Z"
    },
    "papermill": {
     "duration": 0.011341,
     "end_time": "2022-06-07T15:36:26.818237",
     "exception": false,
     "start_time": "2022-06-07T15:36:26.806896",
     "status": "completed"
    },
    "tags": []
   },
   "outputs": [],
   "source": [
    "#q_1.solution()"
   ]
  },
  {
   "cell_type": "markdown",
   "id": "4ee7c2d1",
   "metadata": {
    "papermill": {
     "duration": 0.003976,
     "end_time": "2022-06-07T15:36:26.826620",
     "exception": false,
     "start_time": "2022-06-07T15:36:26.822644",
     "status": "completed"
    },
    "tags": []
   },
   "source": [
    "### 2) High air quality\n",
    "\n",
    "Which pollution levels were reported to be exactly 0?  \n",
    "- Set `zero_pollution_query` to select **all columns** of the rows where the `value` column is 0.\n",
    "- Set `zero_pollution_results` to a pandas DataFrame containing the query results."
   ]
  },
  {
   "cell_type": "code",
   "execution_count": 5,
   "id": "5640a2d7",
   "metadata": {
    "execution": {
     "iopub.execute_input": "2022-06-07T15:36:26.837289Z",
     "iopub.status.busy": "2022-06-07T15:36:26.836714Z",
     "iopub.status.idle": "2022-06-07T15:36:49.445397Z",
     "shell.execute_reply": "2022-06-07T15:36:49.443598Z"
    },
    "papermill": {
     "duration": 22.61696,
     "end_time": "2022-06-07T15:36:49.447737",
     "exception": false,
     "start_time": "2022-06-07T15:36:26.830777",
     "status": "completed"
    },
    "tags": []
   },
   "outputs": [
    {
     "name": "stderr",
     "output_type": "stream",
     "text": [
      "/opt/conda/lib/python3.7/site-packages/google/cloud/bigquery/client.py:440: UserWarning: Cannot create BigQuery Storage client, the dependency google-cloud-bigquery-storage is not installed.\n",
      "  \"Cannot create BigQuery Storage client, the dependency \"\n"
     ]
    },
    {
     "name": "stdout",
     "output_type": "stream",
     "text": [
      "                                location      city country pollutant  value  \\\n",
      "0  Wrocław, wyb. Conrada-Korzeniowskiego   Wrocław      PL        bc    0.0   \n",
      "1           Koszalin, ul. Armii Krajowej  Koszalin      PL        bc    0.0   \n",
      "2           Koszalin, ul. Armii Krajowej  Koszalin      PL        bc    0.0   \n",
      "3           Koszalin, ul. Armii Krajowej  Koszalin      PL        bc    0.0   \n",
      "4             Żary, ul. Szymanowskiego 8      Żary      PL        bc    0.0   \n",
      "\n",
      "                  timestamp   unit source_name  latitude  longitude  \\\n",
      "0 2022-04-30 06:00:00+00:00  µg/m³        GIOS       1.0  51.129378   \n",
      "1 2022-05-05 01:00:00+00:00  µg/m³        GIOS       1.0  54.193986   \n",
      "2 2022-05-12 02:00:00+00:00  µg/m³        GIOS       1.0  54.193986   \n",
      "3 2022-05-15 17:00:00+00:00  µg/m³        GIOS       1.0  54.193986   \n",
      "4 2022-05-06 15:00:00+00:00  µg/m³        GIOS       1.0  51.642656   \n",
      "\n",
      "   averaged_over_in_hours       location_geom  \n",
      "0               17.029250  POINT(51.129378 1)  \n",
      "1               16.172544  POINT(54.193986 1)  \n",
      "2               16.172544  POINT(54.193986 1)  \n",
      "3               16.172544  POINT(54.193986 1)  \n",
      "4               15.127808  POINT(51.642656 1)  \n"
     ]
    },
    {
     "data": {
      "application/javascript": [
       "parent.postMessage({\"jupyterEvent\": \"custom.exercise_interaction\", \"data\": {\"outcomeType\": 1, \"valueTowardsCompletion\": 0.5, \"interactionType\": 1, \"questionType\": 2, \"questionId\": \"2_ZeroPollution\", \"learnToolsVersion\": \"0.3.4\", \"failureMessage\": \"\", \"exceptionClass\": \"\", \"trace\": \"\"}}, \"*\")"
      ],
      "text/plain": [
       "<IPython.core.display.Javascript object>"
      ]
     },
     "metadata": {},
     "output_type": "display_data"
    },
    {
     "data": {
      "text/markdown": [
       "<span style=\"color:#33cc33\">Correct</span>"
      ],
      "text/plain": [
       "Correct"
      ]
     },
     "metadata": {},
     "output_type": "display_data"
    }
   ],
   "source": [
    "# Query to select all columns where pollution levels are exactly 0\n",
    "zero_pollution_query = \"\"\"\n",
    "                       SELECT *\n",
    "                       FROM `bigquery-public-data.openaq.global_air_quality`\n",
    "                       WHERE value = 0\n",
    "                       \"\"\"\n",
    "\n",
    "# Set up the query\n",
    "safe_config = bigquery.QueryJobConfig(maximum_bytes_billed=10**10)\n",
    "query_job = client.query(zero_pollution_query, job_config=safe_config)\n",
    "\n",
    "# API request - run the query and return a pandas DataFrame\n",
    "zero_pollution_results = query_job.to_dataframe()\n",
    "\n",
    "print(zero_pollution_results.head())\n",
    "\n",
    "# Check your answer\n",
    "q_2.check()"
   ]
  },
  {
   "cell_type": "markdown",
   "id": "84746870",
   "metadata": {
    "papermill": {
     "duration": 0.004349,
     "end_time": "2022-06-07T15:36:49.457147",
     "exception": false,
     "start_time": "2022-06-07T15:36:49.452798",
     "status": "completed"
    },
    "tags": []
   },
   "source": [
    "For the solution, uncomment the line below."
   ]
  },
  {
   "cell_type": "code",
   "execution_count": 6,
   "id": "ce230242",
   "metadata": {
    "execution": {
     "iopub.execute_input": "2022-06-07T15:36:49.468432Z",
     "iopub.status.busy": "2022-06-07T15:36:49.468029Z",
     "iopub.status.idle": "2022-06-07T15:36:49.472324Z",
     "shell.execute_reply": "2022-06-07T15:36:49.471319Z"
    },
    "papermill": {
     "duration": 0.012497,
     "end_time": "2022-06-07T15:36:49.474358",
     "exception": false,
     "start_time": "2022-06-07T15:36:49.461861",
     "status": "completed"
    },
    "tags": []
   },
   "outputs": [],
   "source": [
    "#q_2.solution()"
   ]
  },
  {
   "cell_type": "markdown",
   "id": "40a81ccc",
   "metadata": {
    "papermill": {
     "duration": 0.004421,
     "end_time": "2022-06-07T15:36:49.483761",
     "exception": false,
     "start_time": "2022-06-07T15:36:49.479340",
     "status": "completed"
    },
    "tags": []
   },
   "source": [
    "That query wasn't too complicated, and it got the data you want. But these **SELECT** queries don't organizing data in a way that answers the most interesting questions. For that, we'll need the **GROUP BY** command. \n",
    "\n",
    "If you know how to use [`groupby()`](https://pandas.pydata.org/pandas-docs/stable/reference/api/pandas.DataFrame.groupby.html) in pandas, this is similar. But BigQuery works quickly with far larger datasets.\n",
    "\n",
    "Fortunately, that's next."
   ]
  },
  {
   "cell_type": "markdown",
   "id": "cf8dbba4",
   "metadata": {
    "papermill": {
     "duration": 0.00423,
     "end_time": "2022-06-07T15:36:49.492629",
     "exception": false,
     "start_time": "2022-06-07T15:36:49.488399",
     "status": "completed"
    },
    "tags": []
   },
   "source": [
    "# Keep going\n",
    "**[GROUP BY](https://www.kaggle.com/dansbecker/group-by-having-count)** clauses and their extensions give you the power to pull interesting statistics out of data, rather than receiving it in just its raw format."
   ]
  },
  {
   "cell_type": "markdown",
   "id": "4562df7d",
   "metadata": {
    "papermill": {
     "duration": 0.004216,
     "end_time": "2022-06-07T15:36:49.501376",
     "exception": false,
     "start_time": "2022-06-07T15:36:49.497160",
     "status": "completed"
    },
    "tags": []
   },
   "source": [
    "---\n",
    "\n",
    "\n",
    "\n",
    "\n",
    "*Have questions or comments? Visit the [course discussion forum](https://www.kaggle.com/learn/intro-to-sql/discussion) to chat with other learners.*"
   ]
  }
 ],
 "metadata": {
  "kernelspec": {
   "display_name": "Python 3",
   "language": "python",
   "name": "python3"
  },
  "language_info": {
   "codemirror_mode": {
    "name": "ipython",
    "version": 3
   },
   "file_extension": ".py",
   "mimetype": "text/x-python",
   "name": "python",
   "nbconvert_exporter": "python",
   "pygments_lexer": "ipython3",
   "version": "3.7.12"
  },
  "papermill": {
   "default_parameters": {},
   "duration": 95.960535,
   "end_time": "2022-06-07T15:36:50.126250",
   "environment_variables": {},
   "exception": null,
   "input_path": "__notebook__.ipynb",
   "output_path": "__notebook__.ipynb",
   "parameters": {},
   "start_time": "2022-06-07T15:35:14.165715",
   "version": "2.3.4"
  }
 },
 "nbformat": 4,
 "nbformat_minor": 5
}
