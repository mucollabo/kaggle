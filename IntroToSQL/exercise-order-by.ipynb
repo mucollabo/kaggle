{
 "cells": [
  {
   "cell_type": "markdown",
   "id": "4795a159",
   "metadata": {
    "papermill": {
     "duration": 0.005228,
     "end_time": "2022-06-09T09:43:30.730016",
     "exception": false,
     "start_time": "2022-06-09T09:43:30.724788",
     "status": "completed"
    },
    "tags": []
   },
   "source": [
    "**This notebook is an exercise in the [SQL](https://www.kaggle.com/learn/intro-to-sql) course.  You can reference the tutorial at [this link](https://www.kaggle.com/dansbecker/order-by).**\n",
    "\n",
    "---\n"
   ]
  },
  {
   "cell_type": "markdown",
   "id": "1cf445c1",
   "metadata": {
    "papermill": {
     "duration": 0.00384,
     "end_time": "2022-06-09T09:43:30.740927",
     "exception": false,
     "start_time": "2022-06-09T09:43:30.737087",
     "status": "completed"
    },
    "tags": []
   },
   "source": [
    "# Introduction\n",
    "\n",
    "You've built up your SQL skills enough that the remaining hands-on exercises will use different datasets than you see in the explanations. If you need to get to know a new dataset, you can run a couple of **SELECT** queries to extract and review the data you need. \n",
    "\n",
    "The next exercises are also more challenging than what you've done so far. Don't worry, you are ready for it!\n",
    "\n",
    "Run the code in the following cell to get everything set up:"
   ]
  },
  {
   "cell_type": "code",
   "execution_count": 1,
   "id": "c58d61c7",
   "metadata": {
    "execution": {
     "iopub.execute_input": "2022-06-09T09:43:30.751529Z",
     "iopub.status.busy": "2022-06-09T09:43:30.750731Z",
     "iopub.status.idle": "2022-06-09T09:43:34.224533Z",
     "shell.execute_reply": "2022-06-09T09:43:34.223668Z"
    },
    "papermill": {
     "duration": 3.482062,
     "end_time": "2022-06-09T09:43:34.227018",
     "exception": false,
     "start_time": "2022-06-09T09:43:30.744956",
     "status": "completed"
    },
    "tags": []
   },
   "outputs": [
    {
     "name": "stdout",
     "output_type": "stream",
     "text": [
      "Using Kaggle's public dataset BigQuery integration.\n"
     ]
    },
    {
     "name": "stderr",
     "output_type": "stream",
     "text": [
      "/opt/conda/lib/python3.7/site-packages/google/cloud/bigquery/client.py:440: UserWarning: Cannot create BigQuery Storage client, the dependency google-cloud-bigquery-storage is not installed.\n",
      "  \"Cannot create BigQuery Storage client, the dependency \"\n"
     ]
    },
    {
     "name": "stdout",
     "output_type": "stream",
     "text": [
      "Setup Complete\n"
     ]
    }
   ],
   "source": [
    "# Set up feedback system\n",
    "from learntools.core import binder\n",
    "binder.bind(globals())\n",
    "from learntools.sql.ex4 import *\n",
    "print(\"Setup Complete\")"
   ]
  },
  {
   "cell_type": "markdown",
   "id": "99df099d",
   "metadata": {
    "papermill": {
     "duration": 0.004122,
     "end_time": "2022-06-09T09:43:34.235691",
     "exception": false,
     "start_time": "2022-06-09T09:43:34.231569",
     "status": "completed"
    },
    "tags": []
   },
   "source": [
    "The World Bank has made tons of interesting education data available through BigQuery. Run the following cell to see the first few rows of the `international_education` table from the `world_bank_intl_education` dataset."
   ]
  },
  {
   "cell_type": "code",
   "execution_count": 2,
   "id": "e0fa2466",
   "metadata": {
    "execution": {
     "iopub.execute_input": "2022-06-09T09:43:34.246745Z",
     "iopub.status.busy": "2022-06-09T09:43:34.246033Z",
     "iopub.status.idle": "2022-06-09T09:43:35.648301Z",
     "shell.execute_reply": "2022-06-09T09:43:35.647213Z"
    },
    "papermill": {
     "duration": 1.410299,
     "end_time": "2022-06-09T09:43:35.650380",
     "exception": false,
     "start_time": "2022-06-09T09:43:34.240081",
     "status": "completed"
    },
    "tags": []
   },
   "outputs": [
    {
     "name": "stdout",
     "output_type": "stream",
     "text": [
      "Using Kaggle's public dataset BigQuery integration.\n"
     ]
    },
    {
     "name": "stderr",
     "output_type": "stream",
     "text": [
      "/opt/conda/lib/python3.7/site-packages/ipykernel_launcher.py:19: UserWarning: Cannot use bqstorage_client if max_results is set, reverting to fetching data with the tabledata.list endpoint.\n"
     ]
    },
    {
     "data": {
      "text/html": [
       "<div>\n",
       "<style scoped>\n",
       "    .dataframe tbody tr th:only-of-type {\n",
       "        vertical-align: middle;\n",
       "    }\n",
       "\n",
       "    .dataframe tbody tr th {\n",
       "        vertical-align: top;\n",
       "    }\n",
       "\n",
       "    .dataframe thead th {\n",
       "        text-align: right;\n",
       "    }\n",
       "</style>\n",
       "<table border=\"1\" class=\"dataframe\">\n",
       "  <thead>\n",
       "    <tr style=\"text-align: right;\">\n",
       "      <th></th>\n",
       "      <th>country_name</th>\n",
       "      <th>country_code</th>\n",
       "      <th>indicator_name</th>\n",
       "      <th>indicator_code</th>\n",
       "      <th>value</th>\n",
       "      <th>year</th>\n",
       "    </tr>\n",
       "  </thead>\n",
       "  <tbody>\n",
       "    <tr>\n",
       "      <th>0</th>\n",
       "      <td>Tuvalu</td>\n",
       "      <td>TUV</td>\n",
       "      <td>Official entrance age to upper secondary educa...</td>\n",
       "      <td>UIS.THAGE.3.A.GPV</td>\n",
       "      <td>1.600000e+01</td>\n",
       "      <td>2016</td>\n",
       "    </tr>\n",
       "    <tr>\n",
       "      <th>1</th>\n",
       "      <td>Uzbekistan</td>\n",
       "      <td>UZB</td>\n",
       "      <td>GDP, PPP (constant 2011 international $)</td>\n",
       "      <td>NY.GDP.MKTP.PP.KD</td>\n",
       "      <td>1.923272e+11</td>\n",
       "      <td>2016</td>\n",
       "    </tr>\n",
       "    <tr>\n",
       "      <th>2</th>\n",
       "      <td>Serbia</td>\n",
       "      <td>SRB</td>\n",
       "      <td>Illiterate population, 25-64 years, female (nu...</td>\n",
       "      <td>UIS.ILLPOP.AG25T64.F</td>\n",
       "      <td>1.446242e+04</td>\n",
       "      <td>2016</td>\n",
       "    </tr>\n",
       "    <tr>\n",
       "      <th>3</th>\n",
       "      <td>Singapore</td>\n",
       "      <td>SGP</td>\n",
       "      <td>Adult literacy rate, population 15+ years, bot...</td>\n",
       "      <td>SE.ADT.LITR.ZS</td>\n",
       "      <td>9.704959e+01</td>\n",
       "      <td>2016</td>\n",
       "    </tr>\n",
       "    <tr>\n",
       "      <th>4</th>\n",
       "      <td>Singapore</td>\n",
       "      <td>SGP</td>\n",
       "      <td>PIRLS: Mean performance on the reading scale, ...</td>\n",
       "      <td>LO.PIRLS.REA</td>\n",
       "      <td>5.760000e+02</td>\n",
       "      <td>2016</td>\n",
       "    </tr>\n",
       "  </tbody>\n",
       "</table>\n",
       "</div>"
      ],
      "text/plain": [
       "  country_name country_code  \\\n",
       "0       Tuvalu          TUV   \n",
       "1   Uzbekistan          UZB   \n",
       "2       Serbia          SRB   \n",
       "3    Singapore          SGP   \n",
       "4    Singapore          SGP   \n",
       "\n",
       "                                      indicator_name        indicator_code  \\\n",
       "0  Official entrance age to upper secondary educa...     UIS.THAGE.3.A.GPV   \n",
       "1           GDP, PPP (constant 2011 international $)     NY.GDP.MKTP.PP.KD   \n",
       "2  Illiterate population, 25-64 years, female (nu...  UIS.ILLPOP.AG25T64.F   \n",
       "3  Adult literacy rate, population 15+ years, bot...        SE.ADT.LITR.ZS   \n",
       "4  PIRLS: Mean performance on the reading scale, ...          LO.PIRLS.REA   \n",
       "\n",
       "          value  year  \n",
       "0  1.600000e+01  2016  \n",
       "1  1.923272e+11  2016  \n",
       "2  1.446242e+04  2016  \n",
       "3  9.704959e+01  2016  \n",
       "4  5.760000e+02  2016  "
      ]
     },
     "execution_count": 2,
     "metadata": {},
     "output_type": "execute_result"
    }
   ],
   "source": [
    "from google.cloud import bigquery\n",
    "\n",
    "# Create a \"Client\" object\n",
    "client = bigquery.Client()\n",
    "\n",
    "# Construct a reference to the \"world_bank_intl_education\" dataset\n",
    "dataset_ref = client.dataset(\"world_bank_intl_education\", project=\"bigquery-public-data\")\n",
    "\n",
    "# API request - fetch the dataset\n",
    "dataset = client.get_dataset(dataset_ref)\n",
    "\n",
    "# Construct a reference to the \"international_education\" table\n",
    "table_ref = dataset_ref.table(\"international_education\")\n",
    "\n",
    "# API request - fetch the table\n",
    "table = client.get_table(table_ref)\n",
    "\n",
    "# Preview the first five lines of the \"international_education\" table\n",
    "client.list_rows(table, max_results=5).to_dataframe()"
   ]
  },
  {
   "cell_type": "markdown",
   "id": "f1d61bc4",
   "metadata": {
    "papermill": {
     "duration": 0.004465,
     "end_time": "2022-06-09T09:43:35.659639",
     "exception": false,
     "start_time": "2022-06-09T09:43:35.655174",
     "status": "completed"
    },
    "tags": []
   },
   "source": [
    "# Exercises\n",
    "\n",
    "The value in the `indicator_code` column describes what type of data is shown in a given row.  \n",
    "\n",
    "One interesting indicator code is `SE.XPD.TOTL.GD.ZS`, which corresponds to \"Government expenditure on education as % of GDP (%)\".\n",
    "\n",
    "### 1) Government expenditure on education\n",
    "\n",
    "Which countries spend the largest fraction of GDP on education?  \n",
    "\n",
    "To answer this question, consider only the rows in the dataset corresponding to indicator code `SE.XPD.TOTL.GD.ZS`, and write a query that returns the average value in the `value` column for each country in the dataset between the years 2010-2017 (including 2010 and 2017 in the average). \n",
    "\n",
    "Requirements:\n",
    "- Your results should have the country name rather than the country code. You will have one row for each country.\n",
    "- The aggregate function for average is **AVG()**.  Use the name `avg_ed_spending_pct` for the column created by this aggregation.\n",
    "- Order the results so the countries that spend the largest fraction of GDP on education show up first.\n",
    "\n",
    "In case it's useful to see a sample query, here's a query you saw in the tutorial (using a different dataset):\n",
    "```\n",
    "# Query to find out the number of accidents for each day of the week\n",
    "query = \"\"\"\n",
    "        SELECT COUNT(consecutive_number) AS num_accidents, \n",
    "               EXTRACT(DAYOFWEEK FROM timestamp_of_crash) AS day_of_week\n",
    "        FROM `bigquery-public-data.nhtsa_traffic_fatalities.accident_2015`\n",
    "        GROUP BY day_of_week\n",
    "        ORDER BY num_accidents DESC\n",
    "        \"\"\"\n",
    "```"
   ]
  },
  {
   "cell_type": "code",
   "execution_count": 3,
   "id": "a38c47eb",
   "metadata": {
    "execution": {
     "iopub.execute_input": "2022-06-09T09:43:35.670904Z",
     "iopub.status.busy": "2022-06-09T09:43:35.670444Z",
     "iopub.status.idle": "2022-06-09T09:43:37.598803Z",
     "shell.execute_reply": "2022-06-09T09:43:37.596896Z"
    },
    "papermill": {
     "duration": 1.93704,
     "end_time": "2022-06-09T09:43:37.601191",
     "exception": false,
     "start_time": "2022-06-09T09:43:35.664151",
     "status": "completed"
    },
    "tags": []
   },
   "outputs": [
    {
     "name": "stderr",
     "output_type": "stream",
     "text": [
      "/opt/conda/lib/python3.7/site-packages/google/cloud/bigquery/client.py:440: UserWarning: Cannot create BigQuery Storage client, the dependency google-cloud-bigquery-storage is not installed.\n",
      "  \"Cannot create BigQuery Storage client, the dependency \"\n"
     ]
    },
    {
     "name": "stdout",
     "output_type": "stream",
     "text": [
      "            country_name  avg_ed_spending_pct\n",
      "0                   Cuba            12.837270\n",
      "1  Micronesia, Fed. Sts.            12.467750\n",
      "2        Solomon Islands            10.001080\n",
      "3                Moldova             8.372153\n",
      "4                Namibia             8.349610\n"
     ]
    },
    {
     "data": {
      "application/javascript": [
       "parent.postMessage({\"jupyterEvent\": \"custom.exercise_interaction\", \"data\": {\"outcomeType\": 1, \"valueTowardsCompletion\": 0.5, \"interactionType\": 1, \"questionType\": 2, \"questionId\": \"1_EducationSpending\", \"learnToolsVersion\": \"0.3.4\", \"failureMessage\": \"\", \"exceptionClass\": \"\", \"trace\": \"\"}}, \"*\")"
      ],
      "text/plain": [
       "<IPython.core.display.Javascript object>"
      ]
     },
     "metadata": {},
     "output_type": "display_data"
    },
    {
     "data": {
      "text/markdown": [
       "<span style=\"color:#33cc33\">Correct</span>"
      ],
      "text/plain": [
       "Correct"
      ]
     },
     "metadata": {},
     "output_type": "display_data"
    }
   ],
   "source": [
    "# Your code goes here\n",
    "country_spend_pct_query = \"\"\"\n",
    "                          SELECT country_name,\n",
    "                                 AVG(value) AS avg_ed_spending_pct\n",
    "                          FROM `bigquery-public-data.world_bank_intl_education.international_education`\n",
    "                          WHERE indicator_code = \"SE.XPD.TOTL.GD.ZS\" and year >= 2010 and year <= 2017\n",
    "                          GROUP BY country_name\n",
    "                          ORDER BY avg_ed_spending_pct DESC\n",
    "                          \"\"\"\n",
    "\n",
    "# Set up the query (cancel the query if it would use too much of \n",
    "# your quota, with the limit set to 1 GB)\n",
    "safe_config = bigquery.QueryJobConfig(maximum_bytes_billed=10**10)\n",
    "country_spend_pct_query_job = client.query(country_spend_pct_query, job_config=safe_config)\n",
    "\n",
    "# API request - run the query, and return a pandas DataFrame\n",
    "country_spending_results = country_spend_pct_query_job.to_dataframe()\n",
    "\n",
    "# View top few rows of results\n",
    "print(country_spending_results.head())\n",
    "\n",
    "# Check your answer\n",
    "q_1.check()"
   ]
  },
  {
   "cell_type": "markdown",
   "id": "72715002",
   "metadata": {
    "papermill": {
     "duration": 0.00536,
     "end_time": "2022-06-09T09:43:37.612061",
     "exception": false,
     "start_time": "2022-06-09T09:43:37.606701",
     "status": "completed"
    },
    "tags": []
   },
   "source": [
    "For a hint or the solution, uncomment the appropriate line below."
   ]
  },
  {
   "cell_type": "code",
   "execution_count": 4,
   "id": "fbb9438d",
   "metadata": {
    "execution": {
     "iopub.execute_input": "2022-06-09T09:43:37.624769Z",
     "iopub.status.busy": "2022-06-09T09:43:37.624179Z",
     "iopub.status.idle": "2022-06-09T09:43:37.627492Z",
     "shell.execute_reply": "2022-06-09T09:43:37.626879Z"
    },
    "papermill": {
     "duration": 0.011946,
     "end_time": "2022-06-09T09:43:37.629352",
     "exception": false,
     "start_time": "2022-06-09T09:43:37.617406",
     "status": "completed"
    },
    "tags": []
   },
   "outputs": [],
   "source": [
    "#q_1.hint()\n",
    "#q_1.solution()"
   ]
  },
  {
   "cell_type": "markdown",
   "id": "e3fe70ac",
   "metadata": {
    "papermill": {
     "duration": 0.005187,
     "end_time": "2022-06-09T09:43:37.640131",
     "exception": false,
     "start_time": "2022-06-09T09:43:37.634944",
     "status": "completed"
    },
    "tags": []
   },
   "source": [
    "### 2) Identify interesting codes to explore\n",
    "\n",
    "The last question started by telling you to focus on rows with the code `SE.XPD.TOTL.GD.ZS`. But how would you find more interesting indicator codes to explore?\n",
    "\n",
    "There are 1000s of codes in the dataset, so it would be time consuming to review them all. But many codes are available for only a few countries. When browsing the options for different codes, you might restrict yourself to codes that are reported by many countries.\n",
    "\n",
    "Write a query below that selects the indicator code and indicator name for all codes with at least 175 rows in the year 2016.\n",
    "\n",
    "Requirements:\n",
    "- You should have one row for each indicator code.\n",
    "- The columns in your results should be called `indicator_code`, `indicator_name`, and `num_rows`.\n",
    "- Only select codes with 175 or more rows in the raw database (exactly 175 rows would be included).\n",
    "- To get both the `indicator_code` and `indicator_name` in your resulting DataFrame, you need to include both in your **SELECT** statement (in addition to a **COUNT()** aggregation). This requires you to include both in your **GROUP BY** clause.\n",
    "- Order from results most frequent to least frequent."
   ]
  },
  {
   "cell_type": "code",
   "execution_count": 5,
   "id": "a4cc4441",
   "metadata": {
    "execution": {
     "iopub.execute_input": "2022-06-09T09:43:37.653173Z",
     "iopub.status.busy": "2022-06-09T09:43:37.652046Z",
     "iopub.status.idle": "2022-06-09T09:43:38.960536Z",
     "shell.execute_reply": "2022-06-09T09:43:38.959232Z"
    },
    "papermill": {
     "duration": 1.317859,
     "end_time": "2022-06-09T09:43:38.963304",
     "exception": false,
     "start_time": "2022-06-09T09:43:37.645445",
     "status": "completed"
    },
    "tags": []
   },
   "outputs": [
    {
     "name": "stderr",
     "output_type": "stream",
     "text": [
      "/opt/conda/lib/python3.7/site-packages/google/cloud/bigquery/client.py:440: UserWarning: Cannot create BigQuery Storage client, the dependency google-cloud-bigquery-storage is not installed.\n",
      "  \"Cannot create BigQuery Storage client, the dependency \"\n"
     ]
    },
    {
     "name": "stdout",
     "output_type": "stream",
     "text": [
      "      indicator_code                   indicator_name  num_rows\n",
      "0        SP.POP.GROW     Population growth (annual %)       232\n",
      "1        SP.POP.TOTL                Population, total       232\n",
      "2     IT.NET.USER.P2  Internet users (per 100 people)       223\n",
      "3     SP.POP.1564.TO    Population, ages 15-64, total       213\n",
      "4  SP.POP.0014.FE.IN    Population, ages 0-14, female       213\n"
     ]
    },
    {
     "data": {
      "application/javascript": [
       "parent.postMessage({\"jupyterEvent\": \"custom.exercise_interaction\", \"data\": {\"outcomeType\": 1, \"valueTowardsCompletion\": 0.5, \"interactionType\": 1, \"questionType\": 2, \"questionId\": \"2_FindInterestingCodes\", \"learnToolsVersion\": \"0.3.4\", \"failureMessage\": \"\", \"exceptionClass\": \"\", \"trace\": \"\"}}, \"*\")"
      ],
      "text/plain": [
       "<IPython.core.display.Javascript object>"
      ]
     },
     "metadata": {},
     "output_type": "display_data"
    },
    {
     "data": {
      "text/markdown": [
       "<span style=\"color:#33cc33\">Correct</span>"
      ],
      "text/plain": [
       "Correct"
      ]
     },
     "metadata": {},
     "output_type": "display_data"
    }
   ],
   "source": [
    "# Your code goes here\n",
    "code_count_query = \"\"\"SELECT indicator_code,\n",
    "                             indicator_name,\n",
    "                             COUNT(1) AS num_rows\n",
    "                      FROM `bigquery-public-data.world_bank_intl_education.international_education`\n",
    "                      WHERE year = 2016\n",
    "                      GROUP BY indicator_code, indicator_name\n",
    "                      HAVING num_rows >= 175\n",
    "                      ORDER BY num_rows DESC\n",
    "                      \"\"\"\n",
    "\n",
    "# Set up the query\n",
    "safe_config = bigquery.QueryJobConfig(maximum_bytes_billed=10**10)\n",
    "code_count_query_job = client.query(code_count_query, job_config=safe_config)\n",
    "\n",
    "# API request - run the query, and return a pandas DataFrame\n",
    "code_count_results = code_count_query_job.to_dataframe()\n",
    "\n",
    "# View top few rows of results\n",
    "print(code_count_results.head())\n",
    "\n",
    "# Check your answer\n",
    "q_2.check()"
   ]
  },
  {
   "cell_type": "markdown",
   "id": "dcc08876",
   "metadata": {
    "papermill": {
     "duration": 0.005744,
     "end_time": "2022-06-09T09:43:38.975116",
     "exception": false,
     "start_time": "2022-06-09T09:43:38.969372",
     "status": "completed"
    },
    "tags": []
   },
   "source": [
    "For a hint or the solution, uncomment the appropriate line below."
   ]
  },
  {
   "cell_type": "code",
   "execution_count": 6,
   "id": "ebcf9e0a",
   "metadata": {
    "execution": {
     "iopub.execute_input": "2022-06-09T09:43:38.989092Z",
     "iopub.status.busy": "2022-06-09T09:43:38.988231Z",
     "iopub.status.idle": "2022-06-09T09:43:38.992121Z",
     "shell.execute_reply": "2022-06-09T09:43:38.991242Z"
    },
    "papermill": {
     "duration": 0.013219,
     "end_time": "2022-06-09T09:43:38.994194",
     "exception": false,
     "start_time": "2022-06-09T09:43:38.980975",
     "status": "completed"
    },
    "tags": []
   },
   "outputs": [],
   "source": [
    "# q_2.hint()\n",
    "# q_2.solution()"
   ]
  },
  {
   "cell_type": "markdown",
   "id": "4e06ffc5",
   "metadata": {
    "papermill": {
     "duration": 0.005831,
     "end_time": "2022-06-09T09:43:39.005985",
     "exception": false,
     "start_time": "2022-06-09T09:43:39.000154",
     "status": "completed"
    },
    "tags": []
   },
   "source": [
    "# Keep Going\n",
    "**[Click here](https://www.kaggle.com/dansbecker/as-with)** to learn how to use **AS** and **WITH** to clean up your code and help you construct more complex queries."
   ]
  },
  {
   "cell_type": "markdown",
   "id": "d6795ded",
   "metadata": {
    "papermill": {
     "duration": 0.005556,
     "end_time": "2022-06-09T09:43:39.017741",
     "exception": false,
     "start_time": "2022-06-09T09:43:39.012185",
     "status": "completed"
    },
    "tags": []
   },
   "source": [
    "---\n",
    "\n",
    "\n",
    "\n",
    "\n",
    "*Have questions or comments? Visit the [course discussion forum](https://www.kaggle.com/learn/intro-to-sql/discussion) to chat with other learners.*"
   ]
  }
 ],
 "metadata": {
  "kernelspec": {
   "display_name": "Python 3",
   "language": "python",
   "name": "python3"
  },
  "language_info": {
   "codemirror_mode": {
    "name": "ipython",
    "version": 3
   },
   "file_extension": ".py",
   "mimetype": "text/x-python",
   "name": "python",
   "nbconvert_exporter": "python",
   "pygments_lexer": "ipython3",
   "version": "3.7.12"
  },
  "papermill": {
   "default_parameters": {},
   "duration": 19.122189,
   "end_time": "2022-06-09T09:43:39.646264",
   "environment_variables": {},
   "exception": null,
   "input_path": "__notebook__.ipynb",
   "output_path": "__notebook__.ipynb",
   "parameters": {},
   "start_time": "2022-06-09T09:43:20.524075",
   "version": "2.3.4"
  }
 },
 "nbformat": 4,
 "nbformat_minor": 5
}
