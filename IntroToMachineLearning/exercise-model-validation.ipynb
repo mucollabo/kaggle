{
 "cells": [
  {
   "cell_type": "markdown",
   "id": "f0756854",
   "metadata": {
    "papermill": {
     "duration": 0.017744,
     "end_time": "2022-04-13T14:28:58.798529",
     "exception": false,
     "start_time": "2022-04-13T14:28:58.780785",
     "status": "completed"
    },
    "tags": []
   },
   "source": [
    "**This notebook is an exercise in the [Introduction to Machine Learning](https://www.kaggle.com/learn/intro-to-machine-learning) course.  You can reference the tutorial at [this link](https://www.kaggle.com/dansbecker/model-validation).**\n",
    "\n",
    "---\n"
   ]
  },
  {
   "cell_type": "markdown",
   "id": "d5ba46ed",
   "metadata": {
    "papermill": {
     "duration": 0.016122,
     "end_time": "2022-04-13T14:28:58.830997",
     "exception": false,
     "start_time": "2022-04-13T14:28:58.814875",
     "status": "completed"
    },
    "tags": []
   },
   "source": [
    "## Recap\n",
    "You've built a model. In this exercise you will test how good your model is.\n",
    "\n",
    "Run the cell below to set up your coding environment where the previous exercise left off."
   ]
  },
  {
   "cell_type": "code",
   "execution_count": 1,
   "id": "ac9387f3",
   "metadata": {
    "execution": {
     "iopub.execute_input": "2022-04-13T14:28:58.864951Z",
     "iopub.status.busy": "2022-04-13T14:28:58.864470Z",
     "iopub.status.idle": "2022-04-13T14:29:00.338659Z",
     "shell.execute_reply": "2022-04-13T14:29:00.337629Z"
    },
    "papermill": {
     "duration": 1.494738,
     "end_time": "2022-04-13T14:29:00.341793",
     "exception": false,
     "start_time": "2022-04-13T14:28:58.847055",
     "status": "completed"
    },
    "tags": []
   },
   "outputs": [
    {
     "name": "stdout",
     "output_type": "stream",
     "text": [
      "First in-sample predictions: [208500. 181500. 223500. 140000. 250000.]\n",
      "Actual target values for those homes: [208500, 181500, 223500, 140000, 250000]\n",
      "Setup Complete\n"
     ]
    }
   ],
   "source": [
    "# Code you have previously used to load data\n",
    "import pandas as pd\n",
    "from sklearn.tree import DecisionTreeRegressor\n",
    "\n",
    "# Path of the file to read\n",
    "iowa_file_path = '../input/home-data-for-ml-course/train.csv'\n",
    "\n",
    "home_data = pd.read_csv(iowa_file_path)\n",
    "y = home_data.SalePrice\n",
    "feature_columns = ['LotArea', 'YearBuilt', '1stFlrSF', '2ndFlrSF', 'FullBath', 'BedroomAbvGr', 'TotRmsAbvGrd']\n",
    "X = home_data[feature_columns]\n",
    "\n",
    "# Specify Model\n",
    "iowa_model = DecisionTreeRegressor()\n",
    "# Fit Model\n",
    "iowa_model.fit(X, y)\n",
    "\n",
    "print(\"First in-sample predictions:\", iowa_model.predict(X.head()))\n",
    "print(\"Actual target values for those homes:\", y.head().tolist())\n",
    "\n",
    "# Set up code checking\n",
    "from learntools.core import binder\n",
    "binder.bind(globals())\n",
    "from learntools.machine_learning.ex4 import *\n",
    "print(\"Setup Complete\")"
   ]
  },
  {
   "cell_type": "markdown",
   "id": "33368384",
   "metadata": {
    "papermill": {
     "duration": 0.016446,
     "end_time": "2022-04-13T14:29:00.375559",
     "exception": false,
     "start_time": "2022-04-13T14:29:00.359113",
     "status": "completed"
    },
    "tags": []
   },
   "source": [
    "# Exercises\n",
    "\n",
    "## Step 1: Split Your Data\n",
    "Use the `train_test_split` function to split up your data.\n",
    "\n",
    "Give it the argument `random_state=1` so the `check` functions know what to expect when verifying your code.\n",
    "\n",
    "Recall, your features are loaded in the DataFrame **X** and your target is loaded in **y**.\n"
   ]
  },
  {
   "cell_type": "code",
   "execution_count": 2,
   "id": "1087912c",
   "metadata": {
    "execution": {
     "iopub.execute_input": "2022-04-13T14:29:00.409872Z",
     "iopub.status.busy": "2022-04-13T14:29:00.409553Z",
     "iopub.status.idle": "2022-04-13T14:29:00.423414Z",
     "shell.execute_reply": "2022-04-13T14:29:00.422762Z"
    },
    "papermill": {
     "duration": 0.033483,
     "end_time": "2022-04-13T14:29:00.425477",
     "exception": false,
     "start_time": "2022-04-13T14:29:00.391994",
     "status": "completed"
    },
    "tags": []
   },
   "outputs": [
    {
     "data": {
      "application/javascript": [
       "parent.postMessage({\"jupyterEvent\": \"custom.exercise_interaction\", \"data\": {\"outcomeType\": 1, \"valueTowardsCompletion\": 0.25, \"interactionType\": 1, \"questionType\": 2, \"questionId\": \"1_SplitData\", \"learnToolsVersion\": \"0.3.4\", \"failureMessage\": \"\", \"exceptionClass\": \"\", \"trace\": \"\"}}, \"*\")"
      ],
      "text/plain": [
       "<IPython.core.display.Javascript object>"
      ]
     },
     "metadata": {},
     "output_type": "display_data"
    },
    {
     "data": {
      "text/markdown": [
       "<span style=\"color:#33cc33\">Correct</span>"
      ],
      "text/plain": [
       "Correct"
      ]
     },
     "metadata": {},
     "output_type": "display_data"
    }
   ],
   "source": [
    "# Import the train_test_split function and uncomment\n",
    "from sklearn.model_selection import train_test_split\n",
    "\n",
    "# fill in and uncomment\n",
    "train_X, val_X, train_y, val_y = train_test_split(X, y, random_state=1)\n",
    "\n",
    "# Check your answer\n",
    "step_1.check()"
   ]
  },
  {
   "cell_type": "code",
   "execution_count": 3,
   "id": "a0a82825",
   "metadata": {
    "execution": {
     "iopub.execute_input": "2022-04-13T14:29:00.462787Z",
     "iopub.status.busy": "2022-04-13T14:29:00.462198Z",
     "iopub.status.idle": "2022-04-13T14:29:00.465458Z",
     "shell.execute_reply": "2022-04-13T14:29:00.464853Z"
    },
    "papermill": {
     "duration": 0.024253,
     "end_time": "2022-04-13T14:29:00.467424",
     "exception": false,
     "start_time": "2022-04-13T14:29:00.443171",
     "status": "completed"
    },
    "tags": []
   },
   "outputs": [],
   "source": [
    "# The lines below will show you a hint or the solution.\n",
    "# step_1.hint() \n",
    "# step_1.solution()\n"
   ]
  },
  {
   "cell_type": "markdown",
   "id": "25f5447d",
   "metadata": {
    "papermill": {
     "duration": 0.018493,
     "end_time": "2022-04-13T14:29:00.504151",
     "exception": false,
     "start_time": "2022-04-13T14:29:00.485658",
     "status": "completed"
    },
    "tags": []
   },
   "source": [
    "## Step 2: Specify and Fit the Model\n",
    "\n",
    "Create a `DecisionTreeRegressor` model and fit it to the relevant data.\n",
    "Set `random_state` to 1 again when creating the model."
   ]
  },
  {
   "cell_type": "code",
   "execution_count": 4,
   "id": "d6cb95e7",
   "metadata": {
    "execution": {
     "iopub.execute_input": "2022-04-13T14:29:00.541988Z",
     "iopub.status.busy": "2022-04-13T14:29:00.541413Z",
     "iopub.status.idle": "2022-04-13T14:29:00.567846Z",
     "shell.execute_reply": "2022-04-13T14:29:00.566743Z"
    },
    "papermill": {
     "duration": 0.048458,
     "end_time": "2022-04-13T14:29:00.570494",
     "exception": false,
     "start_time": "2022-04-13T14:29:00.522036",
     "status": "completed"
    },
    "tags": []
   },
   "outputs": [
    {
     "name": "stdout",
     "output_type": "stream",
     "text": [
      "[186500. 184000. 130000.  92000. 164500. 220000. 335000. 144152. 215000.\n",
      " 262000.]\n",
      "[186500. 184000. 130000.  92000. 164500. 220000. 335000. 144152. 215000.\n",
      " 262000.]\n"
     ]
    },
    {
     "data": {
      "application/javascript": [
       "parent.postMessage({\"jupyterEvent\": \"custom.exercise_interaction\", \"data\": {\"outcomeType\": 1, \"valueTowardsCompletion\": 0.25, \"interactionType\": 1, \"questionType\": 2, \"questionId\": \"2_FitModelWithTrain\", \"learnToolsVersion\": \"0.3.4\", \"failureMessage\": \"\", \"exceptionClass\": \"\", \"trace\": \"\"}}, \"*\")"
      ],
      "text/plain": [
       "<IPython.core.display.Javascript object>"
      ]
     },
     "metadata": {},
     "output_type": "display_data"
    },
    {
     "data": {
      "text/markdown": [
       "<span style=\"color:#33cc33\">Correct</span>"
      ],
      "text/plain": [
       "Correct"
      ]
     },
     "metadata": {},
     "output_type": "display_data"
    }
   ],
   "source": [
    "# You imported DecisionTreeRegressor in your last exercise\n",
    "# and that code has been copied to the setup code above. So, no need to\n",
    "# import it again\n",
    "\n",
    "# Specify the model\n",
    "iowa_model = DecisionTreeRegressor(random_state=1)\n",
    "\n",
    "# Fit iowa_model with the training data.\n",
    "iowa_model.fit(train_X, train_y)\n",
    "\n",
    "# Check your answer\n",
    "step_2.check()"
   ]
  },
  {
   "cell_type": "code",
   "execution_count": 5,
   "id": "3256dd2f",
   "metadata": {
    "execution": {
     "iopub.execute_input": "2022-04-13T14:29:00.612861Z",
     "iopub.status.busy": "2022-04-13T14:29:00.612271Z",
     "iopub.status.idle": "2022-04-13T14:29:00.622504Z",
     "shell.execute_reply": "2022-04-13T14:29:00.621533Z"
    },
    "papermill": {
     "duration": 0.033752,
     "end_time": "2022-04-13T14:29:00.624551",
     "exception": false,
     "start_time": "2022-04-13T14:29:00.590799",
     "status": "completed"
    },
    "tags": []
   },
   "outputs": [
    {
     "data": {
      "application/javascript": [
       "parent.postMessage({\"jupyterEvent\": \"custom.exercise_interaction\", \"data\": {\"interactionType\": 2, \"questionType\": 2, \"questionId\": \"2_FitModelWithTrain\", \"learnToolsVersion\": \"0.3.4\", \"valueTowardsCompletion\": 0.0, \"failureMessage\": \"\", \"exceptionClass\": \"\", \"trace\": \"\", \"outcomeType\": 4}}, \"*\")"
      ],
      "text/plain": [
       "<IPython.core.display.Javascript object>"
      ]
     },
     "metadata": {},
     "output_type": "display_data"
    },
    {
     "data": {
      "text/markdown": [
       "<span style=\"color:#3366cc\">Hint:</span> Remember, you fit with training data. You will test with validation data soon"
      ],
      "text/plain": [
       "Hint: Remember, you fit with training data. You will test with validation data soon"
      ]
     },
     "metadata": {},
     "output_type": "display_data"
    },
    {
     "data": {
      "application/javascript": [
       "parent.postMessage({\"jupyterEvent\": \"custom.exercise_interaction\", \"data\": {\"interactionType\": 3, \"questionType\": 2, \"questionId\": \"2_FitModelWithTrain\", \"learnToolsVersion\": \"0.3.4\", \"valueTowardsCompletion\": 0.0, \"failureMessage\": \"\", \"exceptionClass\": \"\", \"trace\": \"\", \"outcomeType\": 4}}, \"*\")"
      ],
      "text/plain": [
       "<IPython.core.display.Javascript object>"
      ]
     },
     "metadata": {},
     "output_type": "display_data"
    },
    {
     "data": {
      "text/markdown": [
       "<span style=\"color:#33cc99\">Solution:</span> \n",
       "```python\n",
       "iowa_model = DecisionTreeRegressor(random_state=1)\n",
       "iowa_model.fit(train_X, train_y)\n",
       "```"
      ],
      "text/plain": [
       "Solution: \n",
       "```python\n",
       "iowa_model = DecisionTreeRegressor(random_state=1)\n",
       "iowa_model.fit(train_X, train_y)\n",
       "```"
      ]
     },
     "metadata": {},
     "output_type": "display_data"
    }
   ],
   "source": [
    "step_2.hint()\n",
    "step_2.solution()"
   ]
  },
  {
   "cell_type": "markdown",
   "id": "0b28aef6",
   "metadata": {
    "papermill": {
     "duration": 0.021584,
     "end_time": "2022-04-13T14:29:00.668049",
     "exception": false,
     "start_time": "2022-04-13T14:29:00.646465",
     "status": "completed"
    },
    "tags": []
   },
   "source": [
    "## Step 3: Make Predictions with Validation data\n"
   ]
  },
  {
   "cell_type": "code",
   "execution_count": 6,
   "id": "40b7c088",
   "metadata": {
    "execution": {
     "iopub.execute_input": "2022-04-13T14:29:00.715457Z",
     "iopub.status.busy": "2022-04-13T14:29:00.715139Z",
     "iopub.status.idle": "2022-04-13T14:29:00.728531Z",
     "shell.execute_reply": "2022-04-13T14:29:00.727626Z"
    },
    "papermill": {
     "duration": 0.039884,
     "end_time": "2022-04-13T14:29:00.730604",
     "exception": false,
     "start_time": "2022-04-13T14:29:00.690720",
     "status": "completed"
    },
    "tags": []
   },
   "outputs": [
    {
     "data": {
      "application/javascript": [
       "parent.postMessage({\"jupyterEvent\": \"custom.exercise_interaction\", \"data\": {\"outcomeType\": 1, \"valueTowardsCompletion\": 0.25, \"interactionType\": 1, \"questionType\": 2, \"questionId\": \"3_ValPreds\", \"learnToolsVersion\": \"0.3.4\", \"failureMessage\": \"\", \"exceptionClass\": \"\", \"trace\": \"\"}}, \"*\")"
      ],
      "text/plain": [
       "<IPython.core.display.Javascript object>"
      ]
     },
     "metadata": {},
     "output_type": "display_data"
    },
    {
     "data": {
      "text/markdown": [
       "<span style=\"color:#33cc33\">Correct</span>"
      ],
      "text/plain": [
       "Correct"
      ]
     },
     "metadata": {},
     "output_type": "display_data"
    }
   ],
   "source": [
    "# Predict with all validation observations\n",
    "val_predictions = iowa_model.predict(val_X)\n",
    "\n",
    "# Check your answer\n",
    "step_3.check()"
   ]
  },
  {
   "cell_type": "code",
   "execution_count": 7,
   "id": "9cd57ea6",
   "metadata": {
    "execution": {
     "iopub.execute_input": "2022-04-13T14:29:00.778798Z",
     "iopub.status.busy": "2022-04-13T14:29:00.778311Z",
     "iopub.status.idle": "2022-04-13T14:29:00.781646Z",
     "shell.execute_reply": "2022-04-13T14:29:00.780812Z"
    },
    "papermill": {
     "duration": 0.030052,
     "end_time": "2022-04-13T14:29:00.783836",
     "exception": false,
     "start_time": "2022-04-13T14:29:00.753784",
     "status": "completed"
    },
    "tags": []
   },
   "outputs": [],
   "source": [
    "# step_3.hint()\n",
    "# step_3.solution()"
   ]
  },
  {
   "cell_type": "markdown",
   "id": "f3dd4792",
   "metadata": {
    "papermill": {
     "duration": 0.025581,
     "end_time": "2022-04-13T14:29:00.833515",
     "exception": false,
     "start_time": "2022-04-13T14:29:00.807934",
     "status": "completed"
    },
    "tags": []
   },
   "source": [
    "Inspect your predictions and actual values from validation data."
   ]
  },
  {
   "cell_type": "code",
   "execution_count": 8,
   "id": "48ea8469",
   "metadata": {
    "execution": {
     "iopub.execute_input": "2022-04-13T14:29:00.883265Z",
     "iopub.status.busy": "2022-04-13T14:29:00.882695Z",
     "iopub.status.idle": "2022-04-13T14:29:00.889149Z",
     "shell.execute_reply": "2022-04-13T14:29:00.888383Z"
    },
    "papermill": {
     "duration": 0.03439,
     "end_time": "2022-04-13T14:29:00.891202",
     "exception": false,
     "start_time": "2022-04-13T14:29:00.856812",
     "status": "completed"
    },
    "tags": []
   },
   "outputs": [
    {
     "name": "stdout",
     "output_type": "stream",
     "text": [
      "[186500. 184000. 130000.  92000. 164500.]\n",
      "258     231500\n",
      "267     179500\n",
      "288     122000\n",
      "649      84500\n",
      "1233    142000\n",
      "Name: SalePrice, dtype: int64\n"
     ]
    }
   ],
   "source": [
    "# print the top few validation predictions\n",
    "print(val_predictions[:5])\n",
    "# print the top few actual prices from validation data\n",
    "print(val_y[:5])"
   ]
  },
  {
   "cell_type": "markdown",
   "id": "f4e92177",
   "metadata": {
    "papermill": {
     "duration": 0.02332,
     "end_time": "2022-04-13T14:29:00.938838",
     "exception": false,
     "start_time": "2022-04-13T14:29:00.915518",
     "status": "completed"
    },
    "tags": []
   },
   "source": [
    "What do you notice that is different from what you saw with in-sample predictions (which are printed after the top code cell in this page).\n",
    "\n",
    "Do you remember why validation predictions differ from in-sample (or training) predictions? This is an important idea from the last lesson.\n",
    "\n",
    "## Step 4: Calculate the Mean Absolute Error in Validation Data\n"
   ]
  },
  {
   "cell_type": "code",
   "execution_count": 9,
   "id": "6ccf5e5c",
   "metadata": {
    "execution": {
     "iopub.execute_input": "2022-04-13T14:29:00.988232Z",
     "iopub.status.busy": "2022-04-13T14:29:00.987727Z",
     "iopub.status.idle": "2022-04-13T14:29:00.997665Z",
     "shell.execute_reply": "2022-04-13T14:29:00.996626Z"
    },
    "papermill": {
     "duration": 0.037593,
     "end_time": "2022-04-13T14:29:01.000061",
     "exception": false,
     "start_time": "2022-04-13T14:29:00.962468",
     "status": "completed"
    },
    "tags": []
   },
   "outputs": [
    {
     "name": "stdout",
     "output_type": "stream",
     "text": [
      "29652.931506849316\n"
     ]
    },
    {
     "data": {
      "application/javascript": [
       "parent.postMessage({\"jupyterEvent\": \"custom.exercise_interaction\", \"data\": {\"outcomeType\": 1, \"valueTowardsCompletion\": 0.25, \"interactionType\": 1, \"questionType\": 1, \"questionId\": \"4_MAE\", \"learnToolsVersion\": \"0.3.4\", \"failureMessage\": \"\", \"exceptionClass\": \"\", \"trace\": \"\"}}, \"*\")"
      ],
      "text/plain": [
       "<IPython.core.display.Javascript object>"
      ]
     },
     "metadata": {},
     "output_type": "display_data"
    },
    {
     "data": {
      "text/markdown": [
       "<span style=\"color:#33cc33\">Correct</span>"
      ],
      "text/plain": [
       "Correct"
      ]
     },
     "metadata": {},
     "output_type": "display_data"
    }
   ],
   "source": [
    "from sklearn.metrics import mean_absolute_error\n",
    "val_mae = mean_absolute_error(val_y, val_predictions)\n",
    "\n",
    "# uncomment following line to see the validation_mae\n",
    "print(val_mae)\n",
    "\n",
    "# Check your answer\n",
    "step_4.check()"
   ]
  },
  {
   "cell_type": "code",
   "execution_count": 10,
   "id": "09f304b4",
   "metadata": {
    "execution": {
     "iopub.execute_input": "2022-04-13T14:29:01.053711Z",
     "iopub.status.busy": "2022-04-13T14:29:01.053255Z",
     "iopub.status.idle": "2022-04-13T14:29:01.057690Z",
     "shell.execute_reply": "2022-04-13T14:29:01.056718Z"
    },
    "papermill": {
     "duration": 0.034372,
     "end_time": "2022-04-13T14:29:01.059803",
     "exception": false,
     "start_time": "2022-04-13T14:29:01.025431",
     "status": "completed"
    },
    "tags": []
   },
   "outputs": [],
   "source": [
    "# step_4.hint()\n",
    "# step_4.solution()"
   ]
  },
  {
   "cell_type": "markdown",
   "id": "3d604239",
   "metadata": {
    "papermill": {
     "duration": 0.025192,
     "end_time": "2022-04-13T14:29:01.111450",
     "exception": false,
     "start_time": "2022-04-13T14:29:01.086258",
     "status": "completed"
    },
    "tags": []
   },
   "source": [
    "Is that MAE good?  There isn't a general rule for what values are good that applies across applications. But you'll see how to use (and improve) this number in the next step.\n",
    "\n",
    "# Keep Going\n",
    "\n",
    "You are ready for **[Underfitting and Overfitting](https://www.kaggle.com/dansbecker/underfitting-and-overfitting).**\n"
   ]
  },
  {
   "cell_type": "markdown",
   "id": "48f1d5f7",
   "metadata": {
    "papermill": {
     "duration": 0.026373,
     "end_time": "2022-04-13T14:29:01.164248",
     "exception": false,
     "start_time": "2022-04-13T14:29:01.137875",
     "status": "completed"
    },
    "tags": []
   },
   "source": [
    "---\n",
    "\n",
    "\n",
    "\n",
    "\n",
    "*Have questions or comments? Visit the [course discussion forum](https://www.kaggle.com/learn/intro-to-machine-learning/discussion) to chat with other learners.*"
   ]
  }
 ],
 "metadata": {
  "kernelspec": {
   "display_name": "Python 3",
   "language": "python",
   "name": "python3"
  },
  "language_info": {
   "codemirror_mode": {
    "name": "ipython",
    "version": 3
   },
   "file_extension": ".py",
   "mimetype": "text/x-python",
   "name": "python",
   "nbconvert_exporter": "python",
   "pygments_lexer": "ipython3",
   "version": "3.7.12"
  },
  "papermill": {
   "default_parameters": {},
   "duration": 13.731225,
   "end_time": "2022-04-13T14:29:01.910493",
   "environment_variables": {},
   "exception": null,
   "input_path": "__notebook__.ipynb",
   "output_path": "__notebook__.ipynb",
   "parameters": {},
   "start_time": "2022-04-13T14:28:48.179268",
   "version": "2.3.4"
  }
 },
 "nbformat": 4,
 "nbformat_minor": 5
}
