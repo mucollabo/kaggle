{
 "cells": [
  {
   "cell_type": "markdown",
   "id": "63ab98db",
   "metadata": {
    "papermill": {
     "duration": 0.012675,
     "end_time": "2022-04-16T06:28:31.772037",
     "exception": false,
     "start_time": "2022-04-16T06:28:31.759362",
     "status": "completed"
    },
    "tags": []
   },
   "source": [
    "**This notebook is an exercise in the [Introduction to Machine Learning](https://www.kaggle.com/learn/intro-to-machine-learning) course.  You can reference the tutorial at [this link](https://www.kaggle.com/dansbecker/underfitting-and-overfitting).**\n",
    "\n",
    "---\n"
   ]
  },
  {
   "cell_type": "markdown",
   "id": "a6b2c6f8",
   "metadata": {
    "papermill": {
     "duration": 0.011259,
     "end_time": "2022-04-16T06:28:31.794859",
     "exception": false,
     "start_time": "2022-04-16T06:28:31.783600",
     "status": "completed"
    },
    "tags": []
   },
   "source": [
    "## Recap\n",
    "You've built your first model, and now it's time to optimize the size of the tree to make better predictions. Run this cell to set up your coding environment where the previous step left off."
   ]
  },
  {
   "cell_type": "code",
   "execution_count": 1,
   "id": "3a6c762f",
   "metadata": {
    "execution": {
     "iopub.execute_input": "2022-04-16T06:28:31.820142Z",
     "iopub.status.busy": "2022-04-16T06:28:31.819782Z",
     "iopub.status.idle": "2022-04-16T06:28:33.145357Z",
     "shell.execute_reply": "2022-04-16T06:28:33.144485Z"
    },
    "papermill": {
     "duration": 1.341461,
     "end_time": "2022-04-16T06:28:33.148102",
     "exception": false,
     "start_time": "2022-04-16T06:28:31.806641",
     "status": "completed"
    },
    "tags": []
   },
   "outputs": [
    {
     "name": "stdout",
     "output_type": "stream",
     "text": [
      "Validation MAE: 29,653\n",
      "\n",
      "Setup complete\n"
     ]
    }
   ],
   "source": [
    "# Code you have previously used to load data\n",
    "import pandas as pd\n",
    "from sklearn.metrics import mean_absolute_error\n",
    "from sklearn.model_selection import train_test_split\n",
    "from sklearn.tree import DecisionTreeRegressor\n",
    "\n",
    "\n",
    "# Path of the file to read\n",
    "iowa_file_path = '../input/home-data-for-ml-course/train.csv'\n",
    "\n",
    "home_data = pd.read_csv(iowa_file_path)\n",
    "# Create target object and call it y\n",
    "y = home_data.SalePrice\n",
    "# Create X\n",
    "features = ['LotArea', 'YearBuilt', '1stFlrSF', '2ndFlrSF', 'FullBath', 'BedroomAbvGr', 'TotRmsAbvGrd']\n",
    "X = home_data[features]\n",
    "\n",
    "# Split into validation and training data\n",
    "train_X, val_X, train_y, val_y = train_test_split(X, y, random_state=1)\n",
    "\n",
    "# Specify Model\n",
    "iowa_model = DecisionTreeRegressor(random_state=1)\n",
    "# Fit Model\n",
    "iowa_model.fit(train_X, train_y)\n",
    "\n",
    "# Make validation predictions and calculate mean absolute error\n",
    "val_predictions = iowa_model.predict(val_X)\n",
    "val_mae = mean_absolute_error(val_predictions, val_y)\n",
    "print(\"Validation MAE: {:,.0f}\".format(val_mae))\n",
    "\n",
    "# Set up code checking\n",
    "from learntools.core import binder\n",
    "binder.bind(globals())\n",
    "from learntools.machine_learning.ex5 import *\n",
    "print(\"\\nSetup complete\")"
   ]
  },
  {
   "cell_type": "markdown",
   "id": "c4f535c2",
   "metadata": {
    "papermill": {
     "duration": 0.012242,
     "end_time": "2022-04-16T06:28:33.172998",
     "exception": false,
     "start_time": "2022-04-16T06:28:33.160756",
     "status": "completed"
    },
    "tags": []
   },
   "source": [
    "# Exercises\n",
    "You could write the function `get_mae` yourself. For now, we'll supply it. This is the same function you read about in the previous lesson. Just run the cell below."
   ]
  },
  {
   "cell_type": "code",
   "execution_count": 2,
   "id": "98c10759",
   "metadata": {
    "execution": {
     "iopub.execute_input": "2022-04-16T06:28:33.198706Z",
     "iopub.status.busy": "2022-04-16T06:28:33.198415Z",
     "iopub.status.idle": "2022-04-16T06:28:33.203400Z",
     "shell.execute_reply": "2022-04-16T06:28:33.202569Z"
    },
    "papermill": {
     "duration": 0.020377,
     "end_time": "2022-04-16T06:28:33.205381",
     "exception": false,
     "start_time": "2022-04-16T06:28:33.185004",
     "status": "completed"
    },
    "tags": []
   },
   "outputs": [],
   "source": [
    "def get_mae(max_leaf_nodes, train_X, val_X, train_y, val_y):\n",
    "    model = DecisionTreeRegressor(max_leaf_nodes=max_leaf_nodes, random_state=0)\n",
    "    model.fit(train_X, train_y)\n",
    "    preds_val = model.predict(val_X)\n",
    "    mae = mean_absolute_error(val_y, preds_val)\n",
    "    return(mae)"
   ]
  },
  {
   "cell_type": "markdown",
   "id": "86511ffe",
   "metadata": {
    "papermill": {
     "duration": 0.011791,
     "end_time": "2022-04-16T06:28:33.229048",
     "exception": false,
     "start_time": "2022-04-16T06:28:33.217257",
     "status": "completed"
    },
    "tags": []
   },
   "source": [
    "## Step 1: Compare Different Tree Sizes\n",
    "Write a loop that tries the following values for *max_leaf_nodes* from a set of possible values.\n",
    "\n",
    "Call the *get_mae* function on each value of max_leaf_nodes. Store the output in some way that allows you to select the value of `max_leaf_nodes` that gives the most accurate model on your data."
   ]
  },
  {
   "cell_type": "code",
   "execution_count": 3,
   "id": "20e73a4a",
   "metadata": {
    "execution": {
     "iopub.execute_input": "2022-04-16T06:28:33.254876Z",
     "iopub.status.busy": "2022-04-16T06:28:33.254564Z",
     "iopub.status.idle": "2022-04-16T06:28:33.305042Z",
     "shell.execute_reply": "2022-04-16T06:28:33.304023Z"
    },
    "papermill": {
     "duration": 0.066115,
     "end_time": "2022-04-16T06:28:33.307176",
     "exception": false,
     "start_time": "2022-04-16T06:28:33.241061",
     "status": "completed"
    },
    "tags": []
   },
   "outputs": [
    {
     "name": "stdout",
     "output_type": "stream",
     "text": [
      "[35044.51299744237, 29016.41319191076, 27405.930473214907, 27282.50803885739, 27893.822225701646, 29454.18598068598]\n",
      "3\n",
      "100\n"
     ]
    },
    {
     "data": {
      "application/javascript": [
       "parent.postMessage({\"jupyterEvent\": \"custom.exercise_interaction\", \"data\": {\"outcomeType\": 1, \"valueTowardsCompletion\": 0.5, \"interactionType\": 1, \"questionType\": 1, \"questionId\": \"1_BestTreeSize\", \"learnToolsVersion\": \"0.3.4\", \"failureMessage\": \"\", \"exceptionClass\": \"\", \"trace\": \"\"}}, \"*\")"
      ],
      "text/plain": [
       "<IPython.core.display.Javascript object>"
      ]
     },
     "metadata": {},
     "output_type": "display_data"
    },
    {
     "data": {
      "text/markdown": [
       "<span style=\"color:#33cc33\">Correct</span>"
      ],
      "text/plain": [
       "Correct"
      ]
     },
     "metadata": {},
     "output_type": "display_data"
    }
   ],
   "source": [
    "candidate_max_leaf_nodes = [5, 25, 50, 100, 250, 500]\n",
    "maeList = []\n",
    "# Write loop to find the ideal tree size from candidate_max_leaf_nodes\n",
    "for node in candidate_max_leaf_nodes:\n",
    "        maeList.append(get_mae(node, train_X, val_X, train_y, val_y))\n",
    "print(maeList)\n",
    "maeMinIndex = maeList.index(min(maeList))\n",
    "print(maeMinIndex)\n",
    "\n",
    "# Store the best value of max_leaf_nodes (it will be either 5, 25, 50, 100, 250 or 500)\n",
    "best_tree_size = candidate_max_leaf_nodes[maeMinIndex]\n",
    "print(best_tree_size)\n",
    "\n",
    "# Check your answer\n",
    "step_1.check()"
   ]
  },
  {
   "cell_type": "code",
   "execution_count": 4,
   "id": "e9c0d132",
   "metadata": {
    "execution": {
     "iopub.execute_input": "2022-04-16T06:28:33.336174Z",
     "iopub.status.busy": "2022-04-16T06:28:33.335890Z",
     "iopub.status.idle": "2022-04-16T06:28:33.339180Z",
     "shell.execute_reply": "2022-04-16T06:28:33.338605Z"
    },
    "papermill": {
     "duration": 0.020094,
     "end_time": "2022-04-16T06:28:33.340946",
     "exception": false,
     "start_time": "2022-04-16T06:28:33.320852",
     "status": "completed"
    },
    "tags": []
   },
   "outputs": [],
   "source": [
    "# The lines below will show you a hint or the solution.\n",
    "# step_1.hint() \n",
    "# step_1.solution()"
   ]
  },
  {
   "cell_type": "markdown",
   "id": "70b92d8b",
   "metadata": {
    "papermill": {
     "duration": 0.013433,
     "end_time": "2022-04-16T06:28:33.368226",
     "exception": false,
     "start_time": "2022-04-16T06:28:33.354793",
     "status": "completed"
    },
    "tags": []
   },
   "source": [
    "## Step 2: Fit Model Using All Data\n",
    "You know the best tree size. If you were going to deploy this model in practice, you would make it even more accurate by using all of the data and keeping that tree size.  That is, you don't need to hold out the validation data now that you've made all your modeling decisions."
   ]
  },
  {
   "cell_type": "code",
   "execution_count": 5,
   "id": "1080af9f",
   "metadata": {
    "execution": {
     "iopub.execute_input": "2022-04-16T06:28:33.397194Z",
     "iopub.status.busy": "2022-04-16T06:28:33.396901Z",
     "iopub.status.idle": "2022-04-16T06:28:33.412441Z",
     "shell.execute_reply": "2022-04-16T06:28:33.411622Z"
    },
    "papermill": {
     "duration": 0.032437,
     "end_time": "2022-04-16T06:28:33.414392",
     "exception": false,
     "start_time": "2022-04-16T06:28:33.381955",
     "status": "completed"
    },
    "tags": []
   },
   "outputs": [
    {
     "data": {
      "application/javascript": [
       "parent.postMessage({\"jupyterEvent\": \"custom.exercise_interaction\", \"data\": {\"outcomeType\": 1, \"valueTowardsCompletion\": 0.5, \"interactionType\": 1, \"questionType\": 2, \"questionId\": \"2_FitModelWithAllData\", \"learnToolsVersion\": \"0.3.4\", \"failureMessage\": \"\", \"exceptionClass\": \"\", \"trace\": \"\"}}, \"*\")"
      ],
      "text/plain": [
       "<IPython.core.display.Javascript object>"
      ]
     },
     "metadata": {},
     "output_type": "display_data"
    },
    {
     "data": {
      "text/markdown": [
       "<span style=\"color:#33cc33\">Correct</span>"
      ],
      "text/plain": [
       "Correct"
      ]
     },
     "metadata": {},
     "output_type": "display_data"
    }
   ],
   "source": [
    "# Fill in argument to make optimal size and uncomment\n",
    "final_model = DecisionTreeRegressor(max_leaf_nodes=100, random_state=0)\n",
    "\n",
    "# fit the final model and uncomment the next two lines\n",
    "final_model.fit(X, y)\n",
    "\n",
    "# Check your answer\n",
    "step_2.check()"
   ]
  },
  {
   "cell_type": "code",
   "execution_count": 6,
   "id": "7d9d5c36",
   "metadata": {
    "execution": {
     "iopub.execute_input": "2022-04-16T06:28:33.445313Z",
     "iopub.status.busy": "2022-04-16T06:28:33.445020Z",
     "iopub.status.idle": "2022-04-16T06:28:33.451642Z",
     "shell.execute_reply": "2022-04-16T06:28:33.451063Z"
    },
    "papermill": {
     "duration": 0.024241,
     "end_time": "2022-04-16T06:28:33.453408",
     "exception": false,
     "start_time": "2022-04-16T06:28:33.429167",
     "status": "completed"
    },
    "tags": []
   },
   "outputs": [
    {
     "data": {
      "application/javascript": [
       "parent.postMessage({\"jupyterEvent\": \"custom.exercise_interaction\", \"data\": {\"interactionType\": 2, \"questionType\": 2, \"questionId\": \"2_FitModelWithAllData\", \"learnToolsVersion\": \"0.3.4\", \"valueTowardsCompletion\": 0.0, \"failureMessage\": \"\", \"exceptionClass\": \"\", \"trace\": \"\", \"outcomeType\": 4}}, \"*\")"
      ],
      "text/plain": [
       "<IPython.core.display.Javascript object>"
      ]
     },
     "metadata": {},
     "output_type": "display_data"
    },
    {
     "data": {
      "text/markdown": [
       "<span style=\"color:#3366cc\">Hint:</span> Fit with the ideal value of max_leaf_nodes. In the fit step, use all of the data in the dataset"
      ],
      "text/plain": [
       "Hint: Fit with the ideal value of max_leaf_nodes. In the fit step, use all of the data in the dataset"
      ]
     },
     "metadata": {},
     "output_type": "display_data"
    }
   ],
   "source": [
    "step_2.hint()\n",
    "# step_2.solution()"
   ]
  },
  {
   "cell_type": "markdown",
   "id": "b054aa38",
   "metadata": {
    "papermill": {
     "duration": 0.01593,
     "end_time": "2022-04-16T06:28:33.485279",
     "exception": false,
     "start_time": "2022-04-16T06:28:33.469349",
     "status": "completed"
    },
    "tags": []
   },
   "source": [
    "You've tuned this model and improved your results. But we are still using Decision Tree models, which are not very sophisticated by modern machine learning standards. In the next step you will learn to use Random Forests to improve your models even more.\n",
    "\n",
    "# Keep Going\n",
    "\n",
    "You are ready for **[Random Forests](https://www.kaggle.com/dansbecker/random-forests).**\n"
   ]
  },
  {
   "cell_type": "markdown",
   "id": "1cf3f426",
   "metadata": {
    "papermill": {
     "duration": 0.01795,
     "end_time": "2022-04-16T06:28:33.519741",
     "exception": false,
     "start_time": "2022-04-16T06:28:33.501791",
     "status": "completed"
    },
    "tags": []
   },
   "source": [
    "---\n",
    "\n",
    "\n",
    "\n",
    "\n",
    "*Have questions or comments? Visit the [course discussion forum](https://www.kaggle.com/learn/intro-to-machine-learning/discussion) to chat with other learners.*"
   ]
  }
 ],
 "metadata": {
  "kernelspec": {
   "display_name": "Python 3",
   "language": "python",
   "name": "python3"
  },
  "language_info": {
   "codemirror_mode": {
    "name": "ipython",
    "version": 3
   },
   "file_extension": ".py",
   "mimetype": "text/x-python",
   "name": "python",
   "nbconvert_exporter": "python",
   "pygments_lexer": "ipython3",
   "version": "3.7.12"
  },
  "papermill": {
   "default_parameters": {},
   "duration": 12.315696,
   "end_time": "2022-04-16T06:28:34.256985",
   "environment_variables": {},
   "exception": null,
   "input_path": "__notebook__.ipynb",
   "output_path": "__notebook__.ipynb",
   "parameters": {},
   "start_time": "2022-04-16T06:28:21.941289",
   "version": "2.3.4"
  }
 },
 "nbformat": 4,
 "nbformat_minor": 5
}
