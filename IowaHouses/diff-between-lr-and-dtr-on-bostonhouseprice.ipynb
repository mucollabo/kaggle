{
 "cells": [
  {
   "cell_type": "code",
   "execution_count": 1,
   "id": "18f0f540",
   "metadata": {
    "_cell_guid": "b1076dfc-b9ad-4769-8c92-a6c4dae69d19",
    "_uuid": "8f2839f25d086af736a60e9eeb907d3b93b6e0e5",
    "execution": {
     "iopub.execute_input": "2022-06-16T09:47:55.041087Z",
     "iopub.status.busy": "2022-06-16T09:47:55.040171Z",
     "iopub.status.idle": "2022-06-16T09:47:55.054810Z",
     "shell.execute_reply": "2022-06-16T09:47:55.054100Z"
    },
    "papermill": {
     "duration": 0.024358,
     "end_time": "2022-06-16T09:47:55.057298",
     "exception": false,
     "start_time": "2022-06-16T09:47:55.032940",
     "status": "completed"
    },
    "tags": []
   },
   "outputs": [],
   "source": [
    "# This Python 3 environment comes with many helpful analytics libraries installed\n",
    "# It is defined by the kaggle/python Docker image: https://github.com/kaggle/docker-python\n",
    "# For example, here's several helpful packages to load\n",
    "\n",
    "import numpy as np # linear algebra\n",
    "import pandas as pd # data processing, CSV file I/O (e.g. pd.read_csv)\n",
    "\n",
    "# Input data files are available in the read-only \"../input/\" directory\n",
    "# For example, running this (by clicking run or pressing Shift+Enter) will list all files under the input directory\n",
    "\n",
    "import os\n",
    "for dirname, _, filenames in os.walk('/kaggle/input'):\n",
    "    for filename in filenames:\n",
    "        print(os.path.join(dirname, filename))\n",
    "\n",
    "# You can write up to 20GB to the current directory (/kaggle/working/) that gets preserved as output when you create a version using \"Save & Run All\" \n",
    "# You can also write temporary files to /kaggle/temp/, but they won't be saved outside of the current session"
   ]
  },
  {
   "cell_type": "code",
   "execution_count": 2,
   "id": "55ffa461",
   "metadata": {
    "execution": {
     "iopub.execute_input": "2022-06-16T09:47:55.069094Z",
     "iopub.status.busy": "2022-06-16T09:47:55.068508Z",
     "iopub.status.idle": "2022-06-16T09:47:56.364000Z",
     "shell.execute_reply": "2022-06-16T09:47:56.363096Z"
    },
    "papermill": {
     "duration": 1.303397,
     "end_time": "2022-06-16T09:47:56.367113",
     "exception": false,
     "start_time": "2022-06-16T09:47:55.063716",
     "status": "completed"
    },
    "tags": []
   },
   "outputs": [
    {
     "name": "stdout",
     "output_type": "stream",
     "text": [
      "Numpy Version 1.21.6\n",
      "Pandas Version 1.3.5\n",
      "Matplotlib Version 3.5.2\n",
      "Seaborn Version 0.11.2\n",
      "Scikit Version 1.0.2\n"
     ]
    }
   ],
   "source": [
    "import matplotlib as plt\n",
    "import seaborn as sns\n",
    "import sklearn\n",
    "\n",
    "from sklearn.datasets import load_boston\n",
    "\n",
    "print(\"Numpy Version\", np.__version__)\n",
    "print(\"Pandas Version\", pd.__version__)\n",
    "print(\"Matplotlib Version\", plt.__version__)\n",
    "print(\"Seaborn Version\", sns.__version__)\n",
    "print(\"Scikit Version\", sklearn.__version__)"
   ]
  },
  {
   "cell_type": "code",
   "execution_count": 3,
   "id": "4710db08",
   "metadata": {
    "execution": {
     "iopub.execute_input": "2022-06-16T09:47:56.376555Z",
     "iopub.status.busy": "2022-06-16T09:47:56.375917Z",
     "iopub.status.idle": "2022-06-16T09:47:56.423759Z",
     "shell.execute_reply": "2022-06-16T09:47:56.422143Z"
    },
    "papermill": {
     "duration": 0.055148,
     "end_time": "2022-06-16T09:47:56.426123",
     "exception": false,
     "start_time": "2022-06-16T09:47:56.370975",
     "status": "completed"
    },
    "tags": []
   },
   "outputs": [
    {
     "name": "stderr",
     "output_type": "stream",
     "text": [
      "/opt/conda/lib/python3.7/site-packages/sklearn/utils/deprecation.py:87: FutureWarning: Function load_boston is deprecated; `load_boston` is deprecated in 1.0 and will be removed in 1.2.\n",
      "\n",
      "    The Boston housing prices dataset has an ethical problem. You can refer to\n",
      "    the documentation of this function for further details.\n",
      "\n",
      "    The scikit-learn maintainers therefore strongly discourage the use of this\n",
      "    dataset unless the purpose of the code is to study and educate about\n",
      "    ethical issues in data science and machine learning.\n",
      "\n",
      "    In this special case, you can fetch the dataset from the original\n",
      "    source::\n",
      "\n",
      "        import pandas as pd\n",
      "        import numpy as np\n",
      "\n",
      "\n",
      "        data_url = \"http://lib.stat.cmu.edu/datasets/boston\"\n",
      "        raw_df = pd.read_csv(data_url, sep=\"\\s+\", skiprows=22, header=None)\n",
      "        data = np.hstack([raw_df.values[::2, :], raw_df.values[1::2, :2]])\n",
      "        target = raw_df.values[1::2, 2]\n",
      "\n",
      "    Alternative datasets include the California housing dataset (i.e.\n",
      "    :func:`~sklearn.datasets.fetch_california_housing`) and the Ames housing\n",
      "    dataset. You can load the datasets as follows::\n",
      "\n",
      "        from sklearn.datasets import fetch_california_housing\n",
      "        housing = fetch_california_housing()\n",
      "\n",
      "    for the California housing dataset and::\n",
      "\n",
      "        from sklearn.datasets import fetch_openml\n",
      "        housing = fetch_openml(name=\"house_prices\", as_frame=True)\n",
      "\n",
      "    for the Ames housing dataset.\n",
      "    \n",
      "  warnings.warn(msg, category=FutureWarning)\n"
     ]
    },
    {
     "data": {
      "text/html": [
       "<div>\n",
       "<style scoped>\n",
       "    .dataframe tbody tr th:only-of-type {\n",
       "        vertical-align: middle;\n",
       "    }\n",
       "\n",
       "    .dataframe tbody tr th {\n",
       "        vertical-align: top;\n",
       "    }\n",
       "\n",
       "    .dataframe thead th {\n",
       "        text-align: right;\n",
       "    }\n",
       "</style>\n",
       "<table border=\"1\" class=\"dataframe\">\n",
       "  <thead>\n",
       "    <tr style=\"text-align: right;\">\n",
       "      <th></th>\n",
       "      <th>CRIM</th>\n",
       "      <th>ZN</th>\n",
       "      <th>INDUS</th>\n",
       "      <th>CHAS</th>\n",
       "      <th>NOX</th>\n",
       "      <th>RM</th>\n",
       "      <th>AGE</th>\n",
       "      <th>DIS</th>\n",
       "      <th>RAD</th>\n",
       "      <th>TAX</th>\n",
       "      <th>PTRATIO</th>\n",
       "      <th>B</th>\n",
       "      <th>LSTAT</th>\n",
       "    </tr>\n",
       "  </thead>\n",
       "  <tbody>\n",
       "    <tr>\n",
       "      <th>0</th>\n",
       "      <td>0.00632</td>\n",
       "      <td>18.0</td>\n",
       "      <td>2.31</td>\n",
       "      <td>0.0</td>\n",
       "      <td>0.538</td>\n",
       "      <td>6.575</td>\n",
       "      <td>65.2</td>\n",
       "      <td>4.0900</td>\n",
       "      <td>1.0</td>\n",
       "      <td>296.0</td>\n",
       "      <td>15.3</td>\n",
       "      <td>396.90</td>\n",
       "      <td>4.98</td>\n",
       "    </tr>\n",
       "    <tr>\n",
       "      <th>1</th>\n",
       "      <td>0.02731</td>\n",
       "      <td>0.0</td>\n",
       "      <td>7.07</td>\n",
       "      <td>0.0</td>\n",
       "      <td>0.469</td>\n",
       "      <td>6.421</td>\n",
       "      <td>78.9</td>\n",
       "      <td>4.9671</td>\n",
       "      <td>2.0</td>\n",
       "      <td>242.0</td>\n",
       "      <td>17.8</td>\n",
       "      <td>396.90</td>\n",
       "      <td>9.14</td>\n",
       "    </tr>\n",
       "    <tr>\n",
       "      <th>2</th>\n",
       "      <td>0.02729</td>\n",
       "      <td>0.0</td>\n",
       "      <td>7.07</td>\n",
       "      <td>0.0</td>\n",
       "      <td>0.469</td>\n",
       "      <td>7.185</td>\n",
       "      <td>61.1</td>\n",
       "      <td>4.9671</td>\n",
       "      <td>2.0</td>\n",
       "      <td>242.0</td>\n",
       "      <td>17.8</td>\n",
       "      <td>392.83</td>\n",
       "      <td>4.03</td>\n",
       "    </tr>\n",
       "    <tr>\n",
       "      <th>3</th>\n",
       "      <td>0.03237</td>\n",
       "      <td>0.0</td>\n",
       "      <td>2.18</td>\n",
       "      <td>0.0</td>\n",
       "      <td>0.458</td>\n",
       "      <td>6.998</td>\n",
       "      <td>45.8</td>\n",
       "      <td>6.0622</td>\n",
       "      <td>3.0</td>\n",
       "      <td>222.0</td>\n",
       "      <td>18.7</td>\n",
       "      <td>394.63</td>\n",
       "      <td>2.94</td>\n",
       "    </tr>\n",
       "    <tr>\n",
       "      <th>4</th>\n",
       "      <td>0.06905</td>\n",
       "      <td>0.0</td>\n",
       "      <td>2.18</td>\n",
       "      <td>0.0</td>\n",
       "      <td>0.458</td>\n",
       "      <td>7.147</td>\n",
       "      <td>54.2</td>\n",
       "      <td>6.0622</td>\n",
       "      <td>3.0</td>\n",
       "      <td>222.0</td>\n",
       "      <td>18.7</td>\n",
       "      <td>396.90</td>\n",
       "      <td>5.33</td>\n",
       "    </tr>\n",
       "  </tbody>\n",
       "</table>\n",
       "</div>"
      ],
      "text/plain": [
       "      CRIM    ZN  INDUS  CHAS    NOX     RM   AGE     DIS  RAD    TAX  \\\n",
       "0  0.00632  18.0   2.31   0.0  0.538  6.575  65.2  4.0900  1.0  296.0   \n",
       "1  0.02731   0.0   7.07   0.0  0.469  6.421  78.9  4.9671  2.0  242.0   \n",
       "2  0.02729   0.0   7.07   0.0  0.469  7.185  61.1  4.9671  2.0  242.0   \n",
       "3  0.03237   0.0   2.18   0.0  0.458  6.998  45.8  6.0622  3.0  222.0   \n",
       "4  0.06905   0.0   2.18   0.0  0.458  7.147  54.2  6.0622  3.0  222.0   \n",
       "\n",
       "   PTRATIO       B  LSTAT  \n",
       "0     15.3  396.90   4.98  \n",
       "1     17.8  396.90   9.14  \n",
       "2     17.8  392.83   4.03  \n",
       "3     18.7  394.63   2.94  \n",
       "4     18.7  396.90   5.33  "
      ]
     },
     "execution_count": 3,
     "metadata": {},
     "output_type": "execute_result"
    }
   ],
   "source": [
    "boston = load_boston()\n",
    "boston_df = pd.DataFrame(boston.data, columns=boston.feature_names)\n",
    "boston_df.head()"
   ]
  },
  {
   "cell_type": "code",
   "execution_count": 4,
   "id": "7655e043",
   "metadata": {
    "execution": {
     "iopub.execute_input": "2022-06-16T09:47:56.436140Z",
     "iopub.status.busy": "2022-06-16T09:47:56.435726Z",
     "iopub.status.idle": "2022-06-16T09:47:56.446826Z",
     "shell.execute_reply": "2022-06-16T09:47:56.446183Z"
    },
    "papermill": {
     "duration": 0.018559,
     "end_time": "2022-06-16T09:47:56.448916",
     "exception": false,
     "start_time": "2022-06-16T09:47:56.430357",
     "status": "completed"
    },
    "tags": []
   },
   "outputs": [
    {
     "data": {
      "text/plain": [
       "0      24.0\n",
       "1      21.6\n",
       "2      34.7\n",
       "3      33.4\n",
       "4      36.2\n",
       "       ... \n",
       "501    22.4\n",
       "502    20.6\n",
       "503    23.9\n",
       "504    22.0\n",
       "505    11.9\n",
       "Name: PRICE, Length: 506, dtype: float64"
      ]
     },
     "execution_count": 4,
     "metadata": {},
     "output_type": "execute_result"
    }
   ],
   "source": [
    "boston_df['PRICE'] = boston.target\n",
    "boston_df['PRICE']"
   ]
  },
  {
   "cell_type": "code",
   "execution_count": 5,
   "id": "baec5077",
   "metadata": {
    "execution": {
     "iopub.execute_input": "2022-06-16T09:47:56.459414Z",
     "iopub.status.busy": "2022-06-16T09:47:56.458613Z",
     "iopub.status.idle": "2022-06-16T09:47:56.463129Z",
     "shell.execute_reply": "2022-06-16T09:47:56.462382Z"
    },
    "papermill": {
     "duration": 0.011967,
     "end_time": "2022-06-16T09:47:56.465160",
     "exception": false,
     "start_time": "2022-06-16T09:47:56.453193",
     "status": "completed"
    },
    "tags": []
   },
   "outputs": [
    {
     "name": "stdout",
     "output_type": "stream",
     "text": [
      "data size of boston_df:  (506, 14)\n"
     ]
    }
   ],
   "source": [
    "print('data size of boston_df: ', boston_df.shape)"
   ]
  },
  {
   "cell_type": "code",
   "execution_count": 6,
   "id": "321f492e",
   "metadata": {
    "execution": {
     "iopub.execute_input": "2022-06-16T09:47:56.475671Z",
     "iopub.status.busy": "2022-06-16T09:47:56.474944Z",
     "iopub.status.idle": "2022-06-16T09:47:56.540802Z",
     "shell.execute_reply": "2022-06-16T09:47:56.539705Z"
    },
    "papermill": {
     "duration": 0.07418,
     "end_time": "2022-06-16T09:47:56.543668",
     "exception": false,
     "start_time": "2022-06-16T09:47:56.469488",
     "status": "completed"
    },
    "tags": []
   },
   "outputs": [
    {
     "name": "stdout",
     "output_type": "stream",
     "text": [
      "x_train size:  (354, 13)\n",
      "x_test size:  (152, 13)\n",
      "y_train size:  (354,)\n",
      "y_test size:  (152,)\n"
     ]
    }
   ],
   "source": [
    "from sklearn.model_selection import train_test_split\n",
    "\n",
    "y_target = boston_df['PRICE']\n",
    "x_data = boston_df.drop(['PRICE'], axis=1, inplace=False)\n",
    "\n",
    "x_train, x_test, y_train, y_test = train_test_split(x_data, y_target, test_size=0.3, random_state=0)\n",
    "\n",
    "print('x_train size: ', x_train.shape)\n",
    "print('x_test size: ', x_test.shape)\n",
    "print('y_train size: ', y_train.shape)\n",
    "print('y_test size: ', y_test.shape)"
   ]
  },
  {
   "cell_type": "code",
   "execution_count": 7,
   "id": "71ccb8a4",
   "metadata": {
    "execution": {
     "iopub.execute_input": "2022-06-16T09:47:56.554519Z",
     "iopub.status.busy": "2022-06-16T09:47:56.553960Z",
     "iopub.status.idle": "2022-06-16T09:47:56.647850Z",
     "shell.execute_reply": "2022-06-16T09:47:56.646720Z"
    },
    "papermill": {
     "duration": 0.101979,
     "end_time": "2022-06-16T09:47:56.650075",
     "exception": false,
     "start_time": "2022-06-16T09:47:56.548096",
     "status": "completed"
    },
    "tags": []
   },
   "outputs": [
    {
     "data": {
      "text/plain": [
       "LinearRegression()"
      ]
     },
     "execution_count": 7,
     "metadata": {},
     "output_type": "execute_result"
    }
   ],
   "source": [
    "from sklearn.linear_model import LinearRegression\n",
    "\n",
    "lr = LinearRegression()\n",
    "lr.fit(x_train, y_train)"
   ]
  },
  {
   "cell_type": "code",
   "execution_count": 8,
   "id": "50c74489",
   "metadata": {
    "execution": {
     "iopub.execute_input": "2022-06-16T09:47:56.661562Z",
     "iopub.status.busy": "2022-06-16T09:47:56.660604Z",
     "iopub.status.idle": "2022-06-16T09:47:56.741778Z",
     "shell.execute_reply": "2022-06-16T09:47:56.740870Z"
    },
    "papermill": {
     "duration": 0.089349,
     "end_time": "2022-06-16T09:47:56.744063",
     "exception": false,
     "start_time": "2022-06-16T09:47:56.654714",
     "status": "completed"
    },
    "tags": []
   },
   "outputs": [
    {
     "data": {
      "text/plain": [
       "DecisionTreeRegressor()"
      ]
     },
     "execution_count": 8,
     "metadata": {},
     "output_type": "execute_result"
    }
   ],
   "source": [
    "from sklearn import tree\n",
    "clf = tree.DecisionTreeRegressor()\n",
    "clf.fit(x_train, y_train)"
   ]
  },
  {
   "cell_type": "code",
   "execution_count": 9,
   "id": "0284396a",
   "metadata": {
    "execution": {
     "iopub.execute_input": "2022-06-16T09:47:56.755310Z",
     "iopub.status.busy": "2022-06-16T09:47:56.754918Z",
     "iopub.status.idle": "2022-06-16T09:47:56.771004Z",
     "shell.execute_reply": "2022-06-16T09:47:56.770062Z"
    },
    "papermill": {
     "duration": 0.024426,
     "end_time": "2022-06-16T09:47:56.773497",
     "exception": false,
     "start_time": "2022-06-16T09:47:56.749071",
     "status": "completed"
    },
    "tags": []
   },
   "outputs": [
    {
     "name": "stdout",
     "output_type": "stream",
     "text": [
      "- linear regression -\n",
      "lr MSE:  27.196\n",
      "lr RMSE:  5.215\n",
      "- tree regression -\n",
      "lr MSE:  26.247\n",
      "lr RMSE:  5.123\n"
     ]
    }
   ],
   "source": [
    "from sklearn.metrics import mean_squared_error, r2_score \n",
    "\n",
    "y_pred_lr = lr.predict(x_test)\n",
    "mse_lr = mean_squared_error(y_test, y_pred_lr)\n",
    "rmse_lr = np.sqrt(mse_lr)\n",
    "r2_lr = r2_score(y_test, y_pred_lr)\n",
    "\n",
    "y_pred_clf = clf.predict(x_test)\n",
    "mse_clf = mean_squared_error(y_test, y_pred_clf)\n",
    "rmse_clf = np.sqrt(mse_clf)\n",
    "r2_clf = r2_score(y_test, y_pred_clf)\n",
    "\n",
    "print(\"- linear regression -\")\n",
    "print(\"lr MSE: \", round(mse_lr, 3))\n",
    "print(\"lr RMSE: \", round(rmse_lr, 3))\n",
    "print(\"- tree regression -\")\n",
    "print(\"lr MSE: \", round(mse_clf, 3))\n",
    "print(\"lr RMSE: \", round(rmse_clf, 3))\n"
   ]
  },
  {
   "cell_type": "code",
   "execution_count": null,
   "id": "fe588381",
   "metadata": {
    "papermill": {
     "duration": 0.00444,
     "end_time": "2022-06-16T09:47:56.782866",
     "exception": false,
     "start_time": "2022-06-16T09:47:56.778426",
     "status": "completed"
    },
    "tags": []
   },
   "outputs": [],
   "source": []
  }
 ],
 "metadata": {
  "kernelspec": {
   "display_name": "Python 3",
   "language": "python",
   "name": "python3"
  },
  "language_info": {
   "codemirror_mode": {
    "name": "ipython",
    "version": 3
   },
   "file_extension": ".py",
   "mimetype": "text/x-python",
   "name": "python",
   "nbconvert_exporter": "python",
   "pygments_lexer": "ipython3",
   "version": "3.7.12"
  },
  "papermill": {
   "default_parameters": {},
   "duration": 12.850084,
   "end_time": "2022-06-16T09:47:57.509224",
   "environment_variables": {},
   "exception": null,
   "input_path": "__notebook__.ipynb",
   "output_path": "__notebook__.ipynb",
   "parameters": {},
   "start_time": "2022-06-16T09:47:44.659140",
   "version": "2.3.4"
  }
 },
 "nbformat": 4,
 "nbformat_minor": 5
}
