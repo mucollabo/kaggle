{
 "cells": [
  {
   "cell_type": "markdown",
   "id": "f63af844",
   "metadata": {
    "papermill": {
     "duration": 0.01129,
     "end_time": "2022-07-04T16:47:58.505502",
     "exception": false,
     "start_time": "2022-07-04T16:47:58.494212",
     "status": "completed"
    },
    "tags": []
   },
   "source": [
    "**This notebook is an exercise in the [Feature Engineering](https://www.kaggle.com/learn/feature-engineering) course.  You can reference the tutorial at [this link](https://www.kaggle.com/ryanholbrook/target-encoding).**\n",
    "\n",
    "---\n"
   ]
  },
  {
   "cell_type": "markdown",
   "id": "8fbfad77",
   "metadata": {
    "papermill": {
     "duration": 0.009842,
     "end_time": "2022-07-04T16:47:58.525634",
     "exception": false,
     "start_time": "2022-07-04T16:47:58.515792",
     "status": "completed"
    },
    "tags": []
   },
   "source": [
    "# Introduction #\n",
    "\n",
    "In this exercise, you'll apply target encoding to features in the [*Ames*](https://www.kaggle.com/c/house-prices-advanced-regression-techniques/data) dataset.\n",
    "\n",
    "Run this cell to set everything up!"
   ]
  },
  {
   "cell_type": "code",
   "execution_count": 1,
   "id": "0db6f885",
   "metadata": {
    "execution": {
     "iopub.execute_input": "2022-07-04T16:47:58.547763Z",
     "iopub.status.busy": "2022-07-04T16:47:58.547281Z",
     "iopub.status.idle": "2022-07-04T16:48:00.452801Z",
     "shell.execute_reply": "2022-07-04T16:48:00.451250Z"
    },
    "papermill": {
     "duration": 1.920587,
     "end_time": "2022-07-04T16:48:00.456274",
     "exception": false,
     "start_time": "2022-07-04T16:47:58.535687",
     "status": "completed"
    },
    "tags": []
   },
   "outputs": [],
   "source": [
    "# Setup feedback system\n",
    "from learntools.core import binder\n",
    "binder.bind(globals())\n",
    "from learntools.feature_engineering_new.ex6 import *\n",
    "\n",
    "import matplotlib.pyplot as plt\n",
    "import numpy as np\n",
    "import pandas as pd\n",
    "import seaborn as sns\n",
    "import warnings\n",
    "from category_encoders import MEstimateEncoder\n",
    "from sklearn.model_selection import cross_val_score\n",
    "from xgboost import XGBRegressor\n",
    "\n",
    "# Set Matplotlib defaults\n",
    "plt.style.use(\"seaborn-whitegrid\")\n",
    "plt.rc(\"figure\", autolayout=True)\n",
    "plt.rc(\n",
    "    \"axes\",\n",
    "    labelweight=\"bold\",\n",
    "    labelsize=\"large\",\n",
    "    titleweight=\"bold\",\n",
    "    titlesize=14,\n",
    "    titlepad=10,\n",
    ")\n",
    "warnings.filterwarnings('ignore')\n",
    "\n",
    "\n",
    "def score_dataset(X, y, model=XGBRegressor()):\n",
    "    # Label encoding for categoricals\n",
    "    for colname in X.select_dtypes([\"category\", \"object\"]):\n",
    "        X[colname], _ = X[colname].factorize()\n",
    "    # Metric for Housing competition is RMSLE (Root Mean Squared Log Error)\n",
    "    score = cross_val_score(\n",
    "        model, X, y, cv=5, scoring=\"neg_mean_squared_log_error\",\n",
    "    )\n",
    "    score = -1 * score.mean()\n",
    "    score = np.sqrt(score)\n",
    "    return score\n",
    "\n",
    "\n",
    "df = pd.read_csv(\"../input/fe-course-data/ames.csv\")"
   ]
  },
  {
   "cell_type": "markdown",
   "id": "88618b80",
   "metadata": {
    "papermill": {
     "duration": 0.010805,
     "end_time": "2022-07-04T16:48:00.479970",
     "exception": false,
     "start_time": "2022-07-04T16:48:00.469165",
     "status": "completed"
    },
    "tags": []
   },
   "source": [
    "-------------------------------------------------------------------------------\n",
    "\n",
    "First you'll need to choose which features you want to apply a target encoding to. Categorical features with a large number of categories are often good candidates. Run this cell to see how many categories each categorical feature in the *Ames* dataset has."
   ]
  },
  {
   "cell_type": "code",
   "execution_count": 2,
   "id": "a2a44930",
   "metadata": {
    "execution": {
     "iopub.execute_input": "2022-07-04T16:48:00.502628Z",
     "iopub.status.busy": "2022-07-04T16:48:00.502243Z",
     "iopub.status.idle": "2022-07-04T16:48:00.540470Z",
     "shell.execute_reply": "2022-07-04T16:48:00.539270Z"
    },
    "papermill": {
     "duration": 0.052575,
     "end_time": "2022-07-04T16:48:00.543209",
     "exception": false,
     "start_time": "2022-07-04T16:48:00.490634",
     "status": "completed"
    },
    "tags": []
   },
   "outputs": [
    {
     "data": {
      "text/plain": [
       "MSSubClass       16\n",
       "MSZoning          7\n",
       "Street            2\n",
       "Alley             3\n",
       "LotShape          4\n",
       "LandContour       4\n",
       "Utilities         3\n",
       "LotConfig         5\n",
       "LandSlope         3\n",
       "Neighborhood     28\n",
       "Condition1        9\n",
       "Condition2        8\n",
       "BldgType          5\n",
       "HouseStyle        8\n",
       "OverallQual      10\n",
       "OverallCond       9\n",
       "RoofStyle         6\n",
       "RoofMatl          8\n",
       "Exterior1st      16\n",
       "Exterior2nd      17\n",
       "MasVnrType        5\n",
       "ExterQual         4\n",
       "ExterCond         5\n",
       "Foundation        6\n",
       "BsmtQual          6\n",
       "BsmtCond          6\n",
       "BsmtExposure      5\n",
       "BsmtFinType1      7\n",
       "BsmtFinType2      7\n",
       "Heating           6\n",
       "HeatingQC         5\n",
       "CentralAir        2\n",
       "Electrical        6\n",
       "KitchenQual       5\n",
       "Functional        8\n",
       "FireplaceQu       6\n",
       "GarageType        7\n",
       "GarageFinish      4\n",
       "GarageQual        6\n",
       "GarageCond        6\n",
       "PavedDrive        3\n",
       "PoolQC            5\n",
       "Fence             5\n",
       "MiscFeature       6\n",
       "SaleType         10\n",
       "SaleCondition     6\n",
       "dtype: int64"
      ]
     },
     "execution_count": 2,
     "metadata": {},
     "output_type": "execute_result"
    }
   ],
   "source": [
    "df.select_dtypes([\"object\"]).nunique()"
   ]
  },
  {
   "cell_type": "markdown",
   "id": "b70ddb1d",
   "metadata": {
    "papermill": {
     "duration": 0.010265,
     "end_time": "2022-07-04T16:48:00.564168",
     "exception": false,
     "start_time": "2022-07-04T16:48:00.553903",
     "status": "completed"
    },
    "tags": []
   },
   "source": [
    "We talked about how the M-estimate encoding uses smoothing to improve estimates for rare categories. To see how many times a category occurs in the dataset, you can use the `value_counts` method. This cell shows the counts for `SaleType`, but you might want to consider others as well."
   ]
  },
  {
   "cell_type": "code",
   "execution_count": 3,
   "id": "54e9d745",
   "metadata": {
    "execution": {
     "iopub.execute_input": "2022-07-04T16:48:00.587584Z",
     "iopub.status.busy": "2022-07-04T16:48:00.586778Z",
     "iopub.status.idle": "2022-07-04T16:48:00.599513Z",
     "shell.execute_reply": "2022-07-04T16:48:00.598393Z"
    },
    "papermill": {
     "duration": 0.027172,
     "end_time": "2022-07-04T16:48:00.601934",
     "exception": false,
     "start_time": "2022-07-04T16:48:00.574762",
     "status": "completed"
    },
    "tags": []
   },
   "outputs": [
    {
     "data": {
      "text/plain": [
       "WD       2536\n",
       "New       239\n",
       "COD        87\n",
       "ConLD      26\n",
       "CWD        12\n",
       "ConLI       9\n",
       "ConLw       8\n",
       "Oth         7\n",
       "Con         5\n",
       "VWD         1\n",
       "Name: SaleType, dtype: int64"
      ]
     },
     "execution_count": 3,
     "metadata": {},
     "output_type": "execute_result"
    }
   ],
   "source": [
    "df[\"SaleType\"].value_counts()"
   ]
  },
  {
   "cell_type": "code",
   "execution_count": 4,
   "id": "6ca49932",
   "metadata": {
    "execution": {
     "iopub.execute_input": "2022-07-04T16:48:00.626388Z",
     "iopub.status.busy": "2022-07-04T16:48:00.625573Z",
     "iopub.status.idle": "2022-07-04T16:48:00.635084Z",
     "shell.execute_reply": "2022-07-04T16:48:00.634222Z"
    },
    "papermill": {
     "duration": 0.024031,
     "end_time": "2022-07-04T16:48:00.637211",
     "exception": false,
     "start_time": "2022-07-04T16:48:00.613180",
     "status": "completed"
    },
    "tags": []
   },
   "outputs": [
    {
     "data": {
      "text/plain": [
       "North_Ames                                 443\n",
       "College_Creek                              267\n",
       "Old_Town                                   239\n",
       "Edwards                                    194\n",
       "Somerset                                   182\n",
       "Northridge_Heights                         166\n",
       "Gilbert                                    165\n",
       "Sawyer                                     151\n",
       "Northwest_Ames                             131\n",
       "Sawyer_West                                125\n",
       "Mitchell                                   114\n",
       "Brookside                                  108\n",
       "Crawford                                   103\n",
       "Iowa_DOT_and_Rail_Road                      93\n",
       "Timberland                                  72\n",
       "Northridge                                  71\n",
       "Stone_Brook                                 51\n",
       "South_and_West_of_Iowa_State_University     48\n",
       "Clear_Creek                                 44\n",
       "Meadow_Village                              37\n",
       "Briardale                                   30\n",
       "Bloomington_Heights                         28\n",
       "Veenker                                     24\n",
       "Northpark_Villa                             23\n",
       "Blueste                                     10\n",
       "Greens                                       8\n",
       "Green_Hills                                  2\n",
       "Landmark                                     1\n",
       "Name: Neighborhood, dtype: int64"
      ]
     },
     "execution_count": 4,
     "metadata": {},
     "output_type": "execute_result"
    }
   ],
   "source": [
    "df[\"Neighborhood\"].value_counts()"
   ]
  },
  {
   "cell_type": "code",
   "execution_count": 5,
   "id": "a958ebd3",
   "metadata": {
    "execution": {
     "iopub.execute_input": "2022-07-04T16:48:00.661681Z",
     "iopub.status.busy": "2022-07-04T16:48:00.660959Z",
     "iopub.status.idle": "2022-07-04T16:48:00.670613Z",
     "shell.execute_reply": "2022-07-04T16:48:00.669172Z"
    },
    "papermill": {
     "duration": 0.024537,
     "end_time": "2022-07-04T16:48:00.673250",
     "exception": false,
     "start_time": "2022-07-04T16:48:00.648713",
     "status": "completed"
    },
    "tags": []
   },
   "outputs": [
    {
     "data": {
      "text/plain": [
       "One_Story_1946_and_Newer_All_Styles          1079\n",
       "Two_Story_1946_and_Newer                      575\n",
       "One_and_Half_Story_Finished_All_Ages          287\n",
       "One_Story_PUD_1946_and_Newer                  192\n",
       "One_Story_1945_and_Older                      139\n",
       "Two_Story_PUD_1946_and_Newer                  129\n",
       "Two_Story_1945_and_Older                      128\n",
       "Split_or_Multilevel                           118\n",
       "Duplex_All_Styles_and_Ages                    109\n",
       "Two_Family_conversion_All_Styles_and_Ages      61\n",
       "Split_Foyer                                    48\n",
       "Two_and_Half_Story_All_Ages                    23\n",
       "One_and_Half_Story_Unfinished_All_Ages         18\n",
       "PUD_Multilevel_Split_Level_Foyer               17\n",
       "One_Story_with_Finished_Attic_All_Ages          6\n",
       "One_and_Half_Story_PUD_All_Ages                 1\n",
       "Name: MSSubClass, dtype: int64"
      ]
     },
     "execution_count": 5,
     "metadata": {},
     "output_type": "execute_result"
    }
   ],
   "source": [
    "df[\"MSSubClass\"].value_counts()"
   ]
  },
  {
   "cell_type": "code",
   "execution_count": 6,
   "id": "2b8134c9",
   "metadata": {
    "execution": {
     "iopub.execute_input": "2022-07-04T16:48:00.697092Z",
     "iopub.status.busy": "2022-07-04T16:48:00.696690Z",
     "iopub.status.idle": "2022-07-04T16:48:00.706106Z",
     "shell.execute_reply": "2022-07-04T16:48:00.705021Z"
    },
    "papermill": {
     "duration": 0.024126,
     "end_time": "2022-07-04T16:48:00.708525",
     "exception": false,
     "start_time": "2022-07-04T16:48:00.684399",
     "status": "completed"
    },
    "tags": []
   },
   "outputs": [
    {
     "data": {
      "text/plain": [
       "Average           825\n",
       "Above_Average     732\n",
       "Good              602\n",
       "Very_Good         350\n",
       "Below_Average     226\n",
       "Excellent         107\n",
       "Fair               40\n",
       "Very_Excellent     31\n",
       "Poor               13\n",
       "Very_Poor           4\n",
       "Name: OverallQual, dtype: int64"
      ]
     },
     "execution_count": 6,
     "metadata": {},
     "output_type": "execute_result"
    }
   ],
   "source": [
    "df[\"OverallQual\"].value_counts()"
   ]
  },
  {
   "cell_type": "code",
   "execution_count": 7,
   "id": "5cf9215e",
   "metadata": {
    "execution": {
     "iopub.execute_input": "2022-07-04T16:48:00.732528Z",
     "iopub.status.busy": "2022-07-04T16:48:00.732131Z",
     "iopub.status.idle": "2022-07-04T16:48:00.741511Z",
     "shell.execute_reply": "2022-07-04T16:48:00.740538Z"
    },
    "papermill": {
     "duration": 0.024058,
     "end_time": "2022-07-04T16:48:00.743822",
     "exception": false,
     "start_time": "2022-07-04T16:48:00.719764",
     "status": "completed"
    },
    "tags": []
   },
   "outputs": [
    {
     "data": {
      "text/plain": [
       "VinylSd    1026\n",
       "MetalSd     450\n",
       "HdBoard     442\n",
       "Wd Sdng     420\n",
       "Plywood     221\n",
       "CemntBd     126\n",
       "BrkFace      88\n",
       "WdShing      56\n",
       "AsbShng      44\n",
       "Stucco       43\n",
       "BrkComm       6\n",
       "AsphShn       2\n",
       "CBlock        2\n",
       "Stone         2\n",
       "PreCast       1\n",
       "ImStucc       1\n",
       "Name: Exterior1st, dtype: int64"
      ]
     },
     "execution_count": 7,
     "metadata": {},
     "output_type": "execute_result"
    }
   ],
   "source": [
    "df[\"Exterior1st\"].value_counts()"
   ]
  },
  {
   "cell_type": "code",
   "execution_count": 8,
   "id": "f6a78ea9",
   "metadata": {
    "execution": {
     "iopub.execute_input": "2022-07-04T16:48:00.768238Z",
     "iopub.status.busy": "2022-07-04T16:48:00.767839Z",
     "iopub.status.idle": "2022-07-04T16:48:00.777262Z",
     "shell.execute_reply": "2022-07-04T16:48:00.776154Z"
    },
    "papermill": {
     "duration": 0.02461,
     "end_time": "2022-07-04T16:48:00.779709",
     "exception": false,
     "start_time": "2022-07-04T16:48:00.755099",
     "status": "completed"
    },
    "tags": []
   },
   "outputs": [
    {
     "data": {
      "text/plain": [
       "VinylSd    1015\n",
       "MetalSd     447\n",
       "HdBoard     406\n",
       "Wd Sdng     397\n",
       "Plywood     274\n",
       "CmentBd     126\n",
       "Wd Shng      81\n",
       "Stucco       47\n",
       "BrkFace      47\n",
       "AsbShng      38\n",
       "Brk Cmn      22\n",
       "ImStucc      15\n",
       "Stone         6\n",
       "AsphShn       4\n",
       "CBlock        3\n",
       "PreCast       1\n",
       "Other         1\n",
       "Name: Exterior2nd, dtype: int64"
      ]
     },
     "execution_count": 8,
     "metadata": {},
     "output_type": "execute_result"
    }
   ],
   "source": [
    "df[\"Exterior2nd\"].value_counts()"
   ]
  },
  {
   "cell_type": "markdown",
   "id": "95ab1202",
   "metadata": {
    "papermill": {
     "duration": 0.011096,
     "end_time": "2022-07-04T16:48:00.802173",
     "exception": false,
     "start_time": "2022-07-04T16:48:00.791077",
     "status": "completed"
    },
    "tags": []
   },
   "source": [
    "# 1) Choose Features for Encoding\n",
    "\n",
    "Which features did you identify for target encoding? After you've thought about your answer, run the next cell for some discussion."
   ]
  },
  {
   "cell_type": "code",
   "execution_count": 9,
   "id": "ae553c6a",
   "metadata": {
    "execution": {
     "iopub.execute_input": "2022-07-04T16:48:00.826939Z",
     "iopub.status.busy": "2022-07-04T16:48:00.826579Z",
     "iopub.status.idle": "2022-07-04T16:48:00.834728Z",
     "shell.execute_reply": "2022-07-04T16:48:00.833795Z"
    },
    "papermill": {
     "duration": 0.02298,
     "end_time": "2022-07-04T16:48:00.836983",
     "exception": false,
     "start_time": "2022-07-04T16:48:00.814003",
     "status": "completed"
    },
    "tags": []
   },
   "outputs": [
    {
     "data": {
      "application/javascript": [
       "parent.postMessage({\"jupyterEvent\": \"custom.exercise_interaction\", \"data\": {\"outcomeType\": 1, \"valueTowardsCompletion\": 0.3333333333333333, \"interactionType\": 1, \"questionType\": 4, \"questionId\": \"1_Q1\", \"learnToolsVersion\": \"0.3.4\", \"failureMessage\": \"\", \"exceptionClass\": \"\", \"trace\": \"\"}}, \"*\")"
      ],
      "text/plain": [
       "<IPython.core.display.Javascript object>"
      ]
     },
     "metadata": {},
     "output_type": "display_data"
    },
    {
     "data": {
      "text/markdown": [
       "<span style=\"color:#33cc33\">Correct:</span> \n",
       "\n",
       " The `Neighborhood` feature looks promising. It has the most categories of any feature, and several categories are rare. Others that could be worth considering are `SaleType`, `MSSubClass`, `Exterior1st`, `Exterior2nd`. In fact, almost any of the nominal features would be worth trying because of the prevalence of rare categories."
      ],
      "text/plain": [
       "Correct: \n",
       "\n",
       " The `Neighborhood` feature looks promising. It has the most categories of any feature, and several categories are rare. Others that could be worth considering are `SaleType`, `MSSubClass`, `Exterior1st`, `Exterior2nd`. In fact, almost any of the nominal features would be worth trying because of the prevalence of rare categories."
      ]
     },
     "metadata": {},
     "output_type": "display_data"
    }
   ],
   "source": [
    "# View the solution (Run this cell to receive credit!)\n",
    "q_1.check()"
   ]
  },
  {
   "cell_type": "markdown",
   "id": "413ddade",
   "metadata": {
    "papermill": {
     "duration": 0.010889,
     "end_time": "2022-07-04T16:48:00.859356",
     "exception": false,
     "start_time": "2022-07-04T16:48:00.848467",
     "status": "completed"
    },
    "tags": []
   },
   "source": [
    "-------------------------------------------------------------------------------\n",
    "\n",
    "Now you'll apply a target encoding to your choice of feature. As we discussed in the tutorial, to avoid overfitting, we need to fit the encoder on data heldout from the training set. Run this cell to create the encoding and training splits:"
   ]
  },
  {
   "cell_type": "code",
   "execution_count": 10,
   "id": "e12c0319",
   "metadata": {
    "execution": {
     "iopub.execute_input": "2022-07-04T16:48:00.883868Z",
     "iopub.status.busy": "2022-07-04T16:48:00.883512Z",
     "iopub.status.idle": "2022-07-04T16:48:00.898177Z",
     "shell.execute_reply": "2022-07-04T16:48:00.896955Z"
    },
    "lines_to_next_cell": 2,
    "papermill": {
     "duration": 0.03014,
     "end_time": "2022-07-04T16:48:00.900747",
     "exception": false,
     "start_time": "2022-07-04T16:48:00.870607",
     "status": "completed"
    },
    "tags": []
   },
   "outputs": [],
   "source": [
    "# Encoding split\n",
    "X_encode = df.sample(frac=0.20, random_state=0)\n",
    "y_encode = X_encode.pop(\"SalePrice\")\n",
    "\n",
    "# Training split\n",
    "X_pretrain = df.drop(X_encode.index)\n",
    "y_train = X_pretrain.pop(\"SalePrice\")"
   ]
  },
  {
   "cell_type": "markdown",
   "id": "3cd73d5b",
   "metadata": {
    "papermill": {
     "duration": 0.011137,
     "end_time": "2022-07-04T16:48:00.923443",
     "exception": false,
     "start_time": "2022-07-04T16:48:00.912306",
     "status": "completed"
    },
    "tags": []
   },
   "source": [
    "# 2) Apply M-Estimate Encoding\n",
    "\n",
    "Apply a target encoding to your choice of categorical features. Also choose a value for the smoothing parameter `m` (any value is okay for a correct answer)."
   ]
  },
  {
   "cell_type": "code",
   "execution_count": 11,
   "id": "e43c916e",
   "metadata": {
    "execution": {
     "iopub.execute_input": "2022-07-04T16:48:00.948303Z",
     "iopub.status.busy": "2022-07-04T16:48:00.947890Z",
     "iopub.status.idle": "2022-07-04T16:48:01.032322Z",
     "shell.execute_reply": "2022-07-04T16:48:01.031387Z"
    },
    "lines_to_next_cell": 0,
    "papermill": {
     "duration": 0.099537,
     "end_time": "2022-07-04T16:48:01.034445",
     "exception": false,
     "start_time": "2022-07-04T16:48:00.934908",
     "status": "completed"
    },
    "tags": []
   },
   "outputs": [
    {
     "data": {
      "application/javascript": [
       "parent.postMessage({\"jupyterEvent\": \"custom.exercise_interaction\", \"data\": {\"outcomeType\": 1, \"valueTowardsCompletion\": 0.3333333333333333, \"interactionType\": 1, \"questionType\": 2, \"questionId\": \"2_Q2\", \"learnToolsVersion\": \"0.3.4\", \"failureMessage\": \"\", \"exceptionClass\": \"\", \"trace\": \"\"}}, \"*\")"
      ],
      "text/plain": [
       "<IPython.core.display.Javascript object>"
      ]
     },
     "metadata": {},
     "output_type": "display_data"
    },
    {
     "data": {
      "text/markdown": [
       "<span style=\"color:#33cc33\">Correct</span>"
      ],
      "text/plain": [
       "Correct"
      ]
     },
     "metadata": {},
     "output_type": "display_data"
    }
   ],
   "source": [
    "# YOUR CODE HERE: Create the MEstimateEncoder\n",
    "# Choose a set of features to encode and a value for m\n",
    "encoder = MEstimateEncoder(cols=[\"Neighborhood\"], m=5.0)\n",
    "\n",
    "\n",
    "# Fit the encoder on the encoding split\n",
    "encoder.fit(X_encode, y_encode)\n",
    "\n",
    "# Encode the training split\n",
    "X_train = encoder.transform(X_pretrain, y_train)\n",
    "\n",
    "\n",
    "# Check your answer\n",
    "q_2.check()"
   ]
  },
  {
   "cell_type": "code",
   "execution_count": 12,
   "id": "b2b19eba",
   "metadata": {
    "execution": {
     "iopub.execute_input": "2022-07-04T16:48:01.059927Z",
     "iopub.status.busy": "2022-07-04T16:48:01.059509Z",
     "iopub.status.idle": "2022-07-04T16:48:01.064368Z",
     "shell.execute_reply": "2022-07-04T16:48:01.063042Z"
    },
    "lines_to_next_cell": 0,
    "papermill": {
     "duration": 0.020342,
     "end_time": "2022-07-04T16:48:01.066736",
     "exception": false,
     "start_time": "2022-07-04T16:48:01.046394",
     "status": "completed"
    },
    "tags": []
   },
   "outputs": [],
   "source": [
    "# Lines below will give you a hint or solution code\n",
    "#q_2.hint()\n",
    "#q_2.solution()"
   ]
  },
  {
   "cell_type": "markdown",
   "id": "c5aeaede",
   "metadata": {
    "papermill": {
     "duration": 0.011404,
     "end_time": "2022-07-04T16:48:01.090387",
     "exception": false,
     "start_time": "2022-07-04T16:48:01.078983",
     "status": "completed"
    },
    "tags": []
   },
   "source": [
    "If you'd like to see how the encoded feature compares to the target, you can run this cell:"
   ]
  },
  {
   "cell_type": "code",
   "execution_count": 13,
   "id": "bc250a27",
   "metadata": {
    "execution": {
     "iopub.execute_input": "2022-07-04T16:48:01.115715Z",
     "iopub.status.busy": "2022-07-04T16:48:01.115280Z",
     "iopub.status.idle": "2022-07-04T16:48:01.397299Z",
     "shell.execute_reply": "2022-07-04T16:48:01.395884Z"
    },
    "papermill": {
     "duration": 0.297784,
     "end_time": "2022-07-04T16:48:01.399915",
     "exception": false,
     "start_time": "2022-07-04T16:48:01.102131",
     "status": "completed"
    },
    "tags": []
   },
   "outputs": [
    {
     "data": {
      "image/png": "[encoded data removed]",
      "text/plain": [
       "<Figure size 540x360 with 1 Axes>"
      ]
     },
     "metadata": {},
     "output_type": "display_data"
    }
   ],
   "source": [
    "feature = encoder.cols\n",
    "\n",
    "plt.figure(dpi=90)\n",
    "ax = sns.distplot(y_train, kde=True, hist=False)\n",
    "ax = sns.distplot(X_train[feature], color='r', ax=ax, hist=True, kde=False, norm_hist=True)\n",
    "ax.set_xlabel(\"SalePrice\");"
   ]
  },
  {
   "cell_type": "markdown",
   "id": "febcaf7f",
   "metadata": {
    "papermill": {
     "duration": 0.011741,
     "end_time": "2022-07-04T16:48:01.423977",
     "exception": false,
     "start_time": "2022-07-04T16:48:01.412236",
     "status": "completed"
    },
    "tags": []
   },
   "source": [
    "From the distribution plots, does it seem like the encoding is informative?\n",
    "\n",
    "And this cell will show you the score of the encoded set compared to the original set:"
   ]
  },
  {
   "cell_type": "code",
   "execution_count": 14,
   "id": "0d83f35f",
   "metadata": {
    "execution": {
     "iopub.execute_input": "2022-07-04T16:48:01.449960Z",
     "iopub.status.busy": "2022-07-04T16:48:01.449550Z",
     "iopub.status.idle": "2022-07-04T16:48:09.212871Z",
     "shell.execute_reply": "2022-07-04T16:48:09.210967Z"
    },
    "papermill": {
     "duration": 7.780627,
     "end_time": "2022-07-04T16:48:09.216731",
     "exception": false,
     "start_time": "2022-07-04T16:48:01.436104",
     "status": "completed"
    },
    "tags": []
   },
   "outputs": [
    {
     "name": "stdout",
     "output_type": "stream",
     "text": [
      "Baseline Score: 0.1428 RMSLE\n",
      "Score with Encoding: 0.1383 RMSLE\n"
     ]
    }
   ],
   "source": [
    "X = df.copy()\n",
    "y = X.pop(\"SalePrice\")\n",
    "score_base = score_dataset(X, y)\n",
    "score_new = score_dataset(X_train, y_train)\n",
    "\n",
    "print(f\"Baseline Score: {score_base:.4f} RMSLE\")\n",
    "print(f\"Score with Encoding: {score_new:.4f} RMSLE\")"
   ]
  },
  {
   "cell_type": "markdown",
   "id": "3d8e85cd",
   "metadata": {
    "papermill": {
     "duration": 0.012069,
     "end_time": "2022-07-04T16:48:09.242843",
     "exception": false,
     "start_time": "2022-07-04T16:48:09.230774",
     "status": "completed"
    },
    "tags": []
   },
   "source": [
    "Do you think that target encoding was worthwhile in this case? Depending on which feature or features you chose, you may have ended up with a score significantly worse than the baseline. In that case, it's likely the extra information gained by the encoding couldn't make up for the loss of data used for the encoding."
   ]
  },
  {
   "cell_type": "code",
   "execution_count": 15,
   "id": "bed84f95",
   "metadata": {
    "execution": {
     "iopub.execute_input": "2022-07-04T16:48:09.269519Z",
     "iopub.status.busy": "2022-07-04T16:48:09.268736Z",
     "iopub.status.idle": "2022-07-04T16:48:09.300927Z",
     "shell.execute_reply": "2022-07-04T16:48:09.299627Z"
    },
    "papermill": {
     "duration": 0.048607,
     "end_time": "2022-07-04T16:48:09.303731",
     "exception": false,
     "start_time": "2022-07-04T16:48:09.255124",
     "status": "completed"
    },
    "tags": []
   },
   "outputs": [],
   "source": [
    "# YOUR CODE HERE: Create the MEstimateEncoder\n",
    "# Choose a set of features to encode and a value for m\n",
    "encoder = MEstimateEncoder(cols=[\"MSSubClass\"], m=5.0)\n",
    "\n",
    "\n",
    "# Fit the encoder on the encoding split\n",
    "encoder.fit(X_encode, y_encode)\n",
    "\n",
    "# Encode the training split\n",
    "X_train = encoder.transform(X_pretrain, y_train)"
   ]
  },
  {
   "cell_type": "code",
   "execution_count": 16,
   "id": "c115c700",
   "metadata": {
    "execution": {
     "iopub.execute_input": "2022-07-04T16:48:09.330802Z",
     "iopub.status.busy": "2022-07-04T16:48:09.330342Z",
     "iopub.status.idle": "2022-07-04T16:48:09.611858Z",
     "shell.execute_reply": "2022-07-04T16:48:09.610740Z"
    },
    "papermill": {
     "duration": 0.297514,
     "end_time": "2022-07-04T16:48:09.614284",
     "exception": false,
     "start_time": "2022-07-04T16:48:09.316770",
     "status": "completed"
    },
    "tags": []
   },
   "outputs": [
    {
     "data": {
      "image/png": "[encoded data removed]",
      "text/plain": [
       "<Figure size 540x360 with 1 Axes>"
      ]
     },
     "metadata": {},
     "output_type": "display_data"
    }
   ],
   "source": [
    "feature = encoder.cols\n",
    "\n",
    "plt.figure(dpi=90)\n",
    "ax = sns.distplot(y_train, kde=True, hist=False)\n",
    "ax = sns.distplot(X_train[feature], color='r', ax=ax, hist=True, kde=False, norm_hist=True)\n",
    "ax.set_xlabel(\"SalePrice\");"
   ]
  },
  {
   "cell_type": "code",
   "execution_count": 17,
   "id": "e48ca1c1",
   "metadata": {
    "execution": {
     "iopub.execute_input": "2022-07-04T16:48:09.641293Z",
     "iopub.status.busy": "2022-07-04T16:48:09.640599Z",
     "iopub.status.idle": "2022-07-04T16:48:17.276906Z",
     "shell.execute_reply": "2022-07-04T16:48:17.275961Z"
    },
    "papermill": {
     "duration": 7.652746,
     "end_time": "2022-07-04T16:48:17.279402",
     "exception": false,
     "start_time": "2022-07-04T16:48:09.626656",
     "status": "completed"
    },
    "tags": []
   },
   "outputs": [
    {
     "name": "stdout",
     "output_type": "stream",
     "text": [
      "Baseline Score: 0.1428 RMSLE\n",
      "Score with Encoding: 0.1456 RMSLE\n"
     ]
    }
   ],
   "source": [
    "X = df.copy()\n",
    "y = X.pop(\"SalePrice\")\n",
    "score_base = score_dataset(X, y)\n",
    "score_new = score_dataset(X_train, y_train)\n",
    "\n",
    "print(f\"Baseline Score: {score_base:.4f} RMSLE\")\n",
    "print(f\"Score with Encoding: {score_new:.4f} RMSLE\")"
   ]
  },
  {
   "cell_type": "code",
   "execution_count": 18,
   "id": "0c32b687",
   "metadata": {
    "execution": {
     "iopub.execute_input": "2022-07-04T16:48:17.308052Z",
     "iopub.status.busy": "2022-07-04T16:48:17.307678Z",
     "iopub.status.idle": "2022-07-04T16:48:17.701891Z",
     "shell.execute_reply": "2022-07-04T16:48:17.700905Z"
    },
    "papermill": {
     "duration": 0.410578,
     "end_time": "2022-07-04T16:48:17.704187",
     "exception": false,
     "start_time": "2022-07-04T16:48:17.293609",
     "status": "completed"
    },
    "tags": []
   },
   "outputs": [
    {
     "data": {
      "image/png": "[encoded data removed]",
      "text/plain": [
       "<Figure size 540x360 with 1 Axes>"
      ]
     },
     "metadata": {},
     "output_type": "display_data"
    }
   ],
   "source": [
    "# YOUR CODE HERE: Create the MEstimateEncoder\n",
    "# Choose a set of features to encode and a value for m\n",
    "encoder = MEstimateEncoder(cols=[\"SaleType\"], m=5.0)\n",
    "\n",
    "\n",
    "# Fit the encoder on the encoding split\n",
    "encoder.fit(X_encode, y_encode)\n",
    "\n",
    "# Encode the training split\n",
    "X_train = encoder.transform(X_pretrain, y_train)\n",
    "\n",
    "feature = encoder.cols\n",
    "\n",
    "plt.figure(dpi=90)\n",
    "ax = sns.distplot(y_train, kde=True, hist=False)\n",
    "ax = sns.distplot(X_train[feature], color='r', ax=ax, hist=True, kde=False, norm_hist=True)\n",
    "ax.set_xlabel(\"SalePrice\");"
   ]
  },
  {
   "cell_type": "code",
   "execution_count": 19,
   "id": "b7e7b339",
   "metadata": {
    "execution": {
     "iopub.execute_input": "2022-07-04T16:48:17.733174Z",
     "iopub.status.busy": "2022-07-04T16:48:17.732128Z",
     "iopub.status.idle": "2022-07-04T16:48:26.408277Z",
     "shell.execute_reply": "2022-07-04T16:48:26.407371Z"
    },
    "papermill": {
     "duration": 8.693434,
     "end_time": "2022-07-04T16:48:26.411224",
     "exception": false,
     "start_time": "2022-07-04T16:48:17.717790",
     "status": "completed"
    },
    "tags": []
   },
   "outputs": [
    {
     "name": "stdout",
     "output_type": "stream",
     "text": [
      "Baseline Score: 0.1428 RMSLE\n",
      "Score with Encoding: 0.1454 RMSLE\n"
     ]
    }
   ],
   "source": [
    "X = df.copy()\n",
    "y = X.pop(\"SalePrice\")\n",
    "score_base = score_dataset(X, y)\n",
    "score_new = score_dataset(X_train, y_train)\n",
    "\n",
    "print(f\"Baseline Score: {score_base:.4f} RMSLE\")\n",
    "print(f\"Score with Encoding: {score_new:.4f} RMSLE\")"
   ]
  },
  {
   "cell_type": "code",
   "execution_count": 20,
   "id": "3dafce7c",
   "metadata": {
    "execution": {
     "iopub.execute_input": "2022-07-04T16:48:26.441754Z",
     "iopub.status.busy": "2022-07-04T16:48:26.441361Z",
     "iopub.status.idle": "2022-07-04T16:48:26.732842Z",
     "shell.execute_reply": "2022-07-04T16:48:26.731702Z"
    },
    "papermill": {
     "duration": 0.308189,
     "end_time": "2022-07-04T16:48:26.735239",
     "exception": false,
     "start_time": "2022-07-04T16:48:26.427050",
     "status": "completed"
    },
    "tags": []
   },
   "outputs": [
    {
     "data": {
      "image/png": "[encoded data removed]",
      "text/plain": [
       "<Figure size 540x360 with 1 Axes>"
      ]
     },
     "metadata": {},
     "output_type": "display_data"
    }
   ],
   "source": [
    "# YOUR CODE HERE: Create the MEstimateEncoder\n",
    "# Choose a set of features to encode and a value for m\n",
    "encoder = MEstimateEncoder(cols=[\"Exterior2nd\"], m=5.0)\n",
    "\n",
    "\n",
    "# Fit the encoder on the encoding split\n",
    "encoder.fit(X_encode, y_encode)\n",
    "\n",
    "# Encode the training split\n",
    "X_train = encoder.transform(X_pretrain, y_train)\n",
    "\n",
    "feature = encoder.cols\n",
    "\n",
    "plt.figure(dpi=90)\n",
    "ax = sns.distplot(y_train, kde=True, hist=False)\n",
    "ax = sns.distplot(X_train[feature], color='r', ax=ax, hist=True, kde=False, norm_hist=True)\n",
    "ax.set_xlabel(\"SalePrice\");"
   ]
  },
  {
   "cell_type": "code",
   "execution_count": 21,
   "id": "025d1141",
   "metadata": {
    "execution": {
     "iopub.execute_input": "2022-07-04T16:48:26.764027Z",
     "iopub.status.busy": "2022-07-04T16:48:26.763352Z",
     "iopub.status.idle": "2022-07-04T16:48:34.489519Z",
     "shell.execute_reply": "2022-07-04T16:48:34.488286Z"
    },
    "papermill": {
     "duration": 7.743439,
     "end_time": "2022-07-04T16:48:34.492080",
     "exception": false,
     "start_time": "2022-07-04T16:48:26.748641",
     "status": "completed"
    },
    "tags": []
   },
   "outputs": [
    {
     "name": "stdout",
     "output_type": "stream",
     "text": [
      "Baseline Score: 0.1428 RMSLE\n",
      "Score with Encoding: 0.1432 RMSLE\n"
     ]
    }
   ],
   "source": [
    "X = df.copy()\n",
    "y = X.pop(\"SalePrice\")\n",
    "score_base = score_dataset(X, y)\n",
    "score_new = score_dataset(X_train, y_train)\n",
    "\n",
    "print(f\"Baseline Score: {score_base:.4f} RMSLE\")\n",
    "print(f\"Score with Encoding: {score_new:.4f} RMSLE\")"
   ]
  },
  {
   "cell_type": "code",
   "execution_count": 22,
   "id": "872d1234",
   "metadata": {
    "execution": {
     "iopub.execute_input": "2022-07-04T16:48:34.523035Z",
     "iopub.status.busy": "2022-07-04T16:48:34.522248Z",
     "iopub.status.idle": "2022-07-04T16:48:34.817706Z",
     "shell.execute_reply": "2022-07-04T16:48:34.816616Z"
    },
    "papermill": {
     "duration": 0.313615,
     "end_time": "2022-07-04T16:48:34.820663",
     "exception": false,
     "start_time": "2022-07-04T16:48:34.507048",
     "status": "completed"
    },
    "tags": []
   },
   "outputs": [
    {
     "data": {
      "image/png": "[encoded data removed]",
      "text/plain": [
       "<Figure size 540x360 with 1 Axes>"
      ]
     },
     "metadata": {},
     "output_type": "display_data"
    }
   ],
   "source": [
    "# YOUR CODE HERE: Create the MEstimateEncoder\n",
    "# Choose a set of features to encode and a value for m\n",
    "encoder = MEstimateEncoder(cols=[\"Exterior1st\"], m=5.0)\n",
    "\n",
    "\n",
    "# Fit the encoder on the encoding split\n",
    "encoder.fit(X_encode, y_encode)\n",
    "\n",
    "# Encode the training split\n",
    "X_train = encoder.transform(X_pretrain, y_train)\n",
    "\n",
    "feature = encoder.cols\n",
    "\n",
    "plt.figure(dpi=90)\n",
    "ax = sns.distplot(y_train, kde=True, hist=False)\n",
    "ax = sns.distplot(X_train[feature], color='r', ax=ax, hist=True, kde=False, norm_hist=True)\n",
    "ax.set_xlabel(\"SalePrice\");"
   ]
  },
  {
   "cell_type": "code",
   "execution_count": 23,
   "id": "bbfa96b1",
   "metadata": {
    "execution": {
     "iopub.execute_input": "2022-07-04T16:48:34.851955Z",
     "iopub.status.busy": "2022-07-04T16:48:34.851368Z",
     "iopub.status.idle": "2022-07-04T16:48:42.638852Z",
     "shell.execute_reply": "2022-07-04T16:48:42.637068Z"
    },
    "papermill": {
     "duration": 7.80809,
     "end_time": "2022-07-04T16:48:42.642652",
     "exception": false,
     "start_time": "2022-07-04T16:48:34.834562",
     "status": "completed"
    },
    "tags": []
   },
   "outputs": [
    {
     "name": "stdout",
     "output_type": "stream",
     "text": [
      "Baseline Score: 0.1428 RMSLE\n",
      "Score with Encoding: 0.1468 RMSLE\n"
     ]
    }
   ],
   "source": [
    "X = df.copy()\n",
    "y = X.pop(\"SalePrice\")\n",
    "score_base = score_dataset(X, y)\n",
    "score_new = score_dataset(X_train, y_train)\n",
    "\n",
    "print(f\"Baseline Score: {score_base:.4f} RMSLE\")\n",
    "print(f\"Score with Encoding: {score_new:.4f} RMSLE\")"
   ]
  },
  {
   "cell_type": "markdown",
   "id": "851f99c4",
   "metadata": {
    "papermill": {
     "duration": 0.013532,
     "end_time": "2022-07-04T16:48:42.671376",
     "exception": false,
     "start_time": "2022-07-04T16:48:42.657844",
     "status": "completed"
    },
    "tags": []
   },
   "source": [
    "-------------------------------------------------------------------------------\n",
    "\n",
    "In this question, you'll explore the problem of overfitting with target encodings. This will illustrate this importance of training fitting target encoders on data held-out from the training set.\n",
    "\n",
    "So let's see what happens when we fit the encoder and the model on the *same* dataset. To emphasize how dramatic the overfitting can be, we'll mean-encode a feature that should have no relationship with `SalePrice`, a count: `0, 1, 2, 3, 4, 5, ...`."
   ]
  },
  {
   "cell_type": "code",
   "execution_count": 24,
   "id": "2c702901",
   "metadata": {
    "execution": {
     "iopub.execute_input": "2022-07-04T16:48:42.702146Z",
     "iopub.status.busy": "2022-07-04T16:48:42.701424Z",
     "iopub.status.idle": "2022-07-04T16:48:46.865907Z",
     "shell.execute_reply": "2022-07-04T16:48:46.864853Z"
    },
    "papermill": {
     "duration": 4.182965,
     "end_time": "2022-07-04T16:48:46.868724",
     "exception": false,
     "start_time": "2022-07-04T16:48:42.685759",
     "status": "completed"
    },
    "tags": []
   },
   "outputs": [
    {
     "name": "stdout",
     "output_type": "stream",
     "text": [
      "Score: 0.0291 RMSLE\n"
     ]
    }
   ],
   "source": [
    "# Try experimenting with the smoothing parameter m\n",
    "# Try 0, 1, 5, 50\n",
    "m = 5\n",
    "\n",
    "X = df.copy()\n",
    "y = X.pop('SalePrice')\n",
    "\n",
    "# Create an uninformative feature\n",
    "X[\"Count\"] = range(len(X))\n",
    "X[\"Count\"][1] = 0  # actually need one duplicate value to circumvent error-checking in MEstimateEncoder\n",
    "\n",
    "# fit and transform on the same dataset\n",
    "encoder = MEstimateEncoder(cols=\"Count\", m=m)\n",
    "X = encoder.fit_transform(X, y)\n",
    "\n",
    "# Results\n",
    "score =  score_dataset(X, y)\n",
    "print(f\"Score: {score:.4f} RMSLE\")"
   ]
  },
  {
   "cell_type": "markdown",
   "id": "faecfb5e",
   "metadata": {
    "papermill": {
     "duration": 0.013899,
     "end_time": "2022-07-04T16:48:46.898346",
     "exception": false,
     "start_time": "2022-07-04T16:48:46.884447",
     "status": "completed"
    },
    "tags": []
   },
   "source": [
    "Almost a perfect score!"
   ]
  },
  {
   "cell_type": "code",
   "execution_count": 25,
   "id": "dc77c9f2",
   "metadata": {
    "execution": {
     "iopub.execute_input": "2022-07-04T16:48:46.929056Z",
     "iopub.status.busy": "2022-07-04T16:48:46.928334Z",
     "iopub.status.idle": "2022-07-04T16:48:47.300379Z",
     "shell.execute_reply": "2022-07-04T16:48:47.299194Z"
    },
    "papermill": {
     "duration": 0.390151,
     "end_time": "2022-07-04T16:48:47.302936",
     "exception": false,
     "start_time": "2022-07-04T16:48:46.912785",
     "status": "completed"
    },
    "tags": []
   },
   "outputs": [
    {
     "data": {
      "image/png": "[encoded data removed]",
      "text/plain": [
       "<Figure size 540x360 with 1 Axes>"
      ]
     },
     "metadata": {},
     "output_type": "display_data"
    }
   ],
   "source": [
    "plt.figure(dpi=90)\n",
    "ax = sns.distplot(y, kde=True, hist=False)\n",
    "ax = sns.distplot(X[\"Count\"], color='r', ax=ax, hist=True, kde=False, norm_hist=True)\n",
    "ax.set_xlabel(\"SalePrice\");"
   ]
  },
  {
   "cell_type": "markdown",
   "id": "11baf745",
   "metadata": {
    "papermill": {
     "duration": 0.014059,
     "end_time": "2022-07-04T16:48:47.331737",
     "exception": false,
     "start_time": "2022-07-04T16:48:47.317678",
     "status": "completed"
    },
    "tags": []
   },
   "source": [
    "And the distributions are almost exactly the same, too.\n",
    "\n",
    "# 3) Overfitting with Target Encoders\n",
    "\n",
    "Based on your understanding of how mean-encoding works, can you explain how XGBoost was able to get an almost a perfect fit after mean-encoding the count feature?"
   ]
  },
  {
   "cell_type": "code",
   "execution_count": 26,
   "id": "985c2529",
   "metadata": {
    "execution": {
     "iopub.execute_input": "2022-07-04T16:48:47.362637Z",
     "iopub.status.busy": "2022-07-04T16:48:47.361480Z",
     "iopub.status.idle": "2022-07-04T16:48:47.371537Z",
     "shell.execute_reply": "2022-07-04T16:48:47.370296Z"
    },
    "lines_to_next_cell": 0,
    "papermill": {
     "duration": 0.02804,
     "end_time": "2022-07-04T16:48:47.373887",
     "exception": false,
     "start_time": "2022-07-04T16:48:47.345847",
     "status": "completed"
    },
    "tags": []
   },
   "outputs": [
    {
     "data": {
      "application/javascript": [
       "parent.postMessage({\"jupyterEvent\": \"custom.exercise_interaction\", \"data\": {\"outcomeType\": 1, \"valueTowardsCompletion\": 0.3333333333333333, \"interactionType\": 1, \"questionType\": 4, \"questionId\": \"3_Q3\", \"learnToolsVersion\": \"0.3.4\", \"failureMessage\": \"\", \"exceptionClass\": \"\", \"trace\": \"\"}}, \"*\")"
      ],
      "text/plain": [
       "<IPython.core.display.Javascript object>"
      ]
     },
     "metadata": {},
     "output_type": "display_data"
    },
    {
     "data": {
      "text/markdown": [
       "<span style=\"color:#33cc33\">Correct:</span> \n",
       "\n",
       "\n",
       "Since `Count` never has any duplicate values, the mean-encoded `Count` is essentially an exact copy of the target. In other words, mean-encoding turned a completely meaningless feature into a perfect feature.\n",
       "\n",
       "Now, the only reason this worked is because we trained XGBoost on the same set we used to train the encoder. If we had used a hold-out set instead, none of this \"fake\" encoding would have transferred to the training data.\n",
       "\n",
       "The lesson is that when using a target encoder it's very important to use separate data sets for training the encoder and training the model. Otherwise the results can be very disappointing!\n"
      ],
      "text/plain": [
       "Correct: \n",
       "\n",
       "\n",
       "Since `Count` never has any duplicate values, the mean-encoded `Count` is essentially an exact copy of the target. In other words, mean-encoding turned a completely meaningless feature into a perfect feature.\n",
       "\n",
       "Now, the only reason this worked is because we trained XGBoost on the same set we used to train the encoder. If we had used a hold-out set instead, none of this \"fake\" encoding would have transferred to the training data.\n",
       "\n",
       "The lesson is that when using a target encoder it's very important to use separate data sets for training the encoder and training the model. Otherwise the results can be very disappointing!"
      ]
     },
     "metadata": {},
     "output_type": "display_data"
    }
   ],
   "source": [
    "# View the solution (Run this cell to receive credit!)\n",
    "q_3.check()"
   ]
  },
  {
   "cell_type": "code",
   "execution_count": 27,
   "id": "0a5b13aa",
   "metadata": {
    "execution": {
     "iopub.execute_input": "2022-07-04T16:48:47.405570Z",
     "iopub.status.busy": "2022-07-04T16:48:47.404731Z",
     "iopub.status.idle": "2022-07-04T16:48:47.409565Z",
     "shell.execute_reply": "2022-07-04T16:48:47.408695Z"
    },
    "papermill": {
     "duration": 0.022965,
     "end_time": "2022-07-04T16:48:47.411839",
     "exception": false,
     "start_time": "2022-07-04T16:48:47.388874",
     "status": "completed"
    },
    "tags": []
   },
   "outputs": [],
   "source": [
    "# Uncomment this if you'd like a hint before seeing the answer\n",
    "#q_3.hint()"
   ]
  },
  {
   "cell_type": "markdown",
   "id": "a23843fc",
   "metadata": {
    "papermill": {
     "duration": 0.014222,
     "end_time": "2022-07-04T16:48:47.440600",
     "exception": false,
     "start_time": "2022-07-04T16:48:47.426378",
     "status": "completed"
    },
    "tags": []
   },
   "source": [
    "# The End #\n",
    "\n",
    "That's it for *Feature Engineering*! We hope you enjoyed your time with us.\n",
    "\n",
    "Now, are you ready to try out your new skills? Now would be a great time to join our [Housing Prices](https://www.kaggle.com/c/house-prices-advanced-regression-techniques) Getting Started competition. We've even prepared a [Bonus Lesson](https://www.kaggle.com/ryanholbrook/feature-engineering-for-house-prices) that collects all the work we've done together into a starter notebook.\n",
    "\n",
    "# References #\n",
    "Here are some great resources you might like to consult for more information. They all played a part in shaping this course:\n",
    "- *The Art of Feature Engineering*, a book by Pablo Duboue.\n",
    "- *An Empirical Analysis of Feature Engineering for Predictive Modeling*, an article by Jeff Heaton.\n",
    "- *Feature Engineering for Machine Learning*, a book by Alice Zheng and Amanda Casari. The tutorial on clustering was inspired by this excellent book.\n",
    "- *Feature Engineering and Selection*, a book by Max Kuhn and Kjell Johnson."
   ]
  },
  {
   "cell_type": "markdown",
   "id": "9ed84558",
   "metadata": {
    "papermill": {
     "duration": 0.014594,
     "end_time": "2022-07-04T16:48:47.469690",
     "exception": false,
     "start_time": "2022-07-04T16:48:47.455096",
     "status": "completed"
    },
    "tags": []
   },
   "source": [
    "---\n",
    "\n",
    "\n",
    "\n",
    "\n",
    "*Have questions or comments? Visit the [course discussion forum](https://www.kaggle.com/learn/feature-engineering/discussion) to chat with other learners.*"
   ]
  }
 ],
 "metadata": {
  "kernelspec": {
   "display_name": "Python 3",
   "language": "python",
   "name": "python3"
  },
  "language_info": {
   "codemirror_mode": {
    "name": "ipython",
    "version": 3
   },
   "file_extension": ".py",
   "mimetype": "text/x-python",
   "name": "python",
   "nbconvert_exporter": "python",
   "pygments_lexer": "ipython3",
   "version": "3.7.12"
  },
  "papermill": {
   "default_parameters": {},
   "duration": 60.204936,
   "end_time": "2022-07-04T16:48:48.307232",
   "environment_variables": {},
   "exception": null,
   "input_path": "__notebook__.ipynb",
   "output_path": "__notebook__.ipynb",
   "parameters": {},
   "start_time": "2022-07-04T16:47:48.102296",
   "version": "2.3.4"
  }
 },
 "nbformat": 4,
 "nbformat_minor": 5
}
