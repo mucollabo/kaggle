{
 "cells": [
  {
   "cell_type": "markdown",
   "id": "56bb6721",
   "metadata": {
    "papermill": {
     "duration": 0.011165,
     "end_time": "2022-05-27T14:50:07.341320",
     "exception": false,
     "start_time": "2022-05-27T14:50:07.330155",
     "status": "completed"
    },
    "tags": []
   },
   "source": [
    "**This notebook is an exercise in the [Feature Engineering](https://www.kaggle.com/learn/feature-engineering) course.  You can reference the tutorial at [this link](https://www.kaggle.com/ryanholbrook/creating-features).**\n",
    "\n",
    "---\n"
   ]
  },
  {
   "cell_type": "markdown",
   "id": "ef018667",
   "metadata": {
    "papermill": {
     "duration": 0.007172,
     "end_time": "2022-05-27T14:50:07.356148",
     "exception": false,
     "start_time": "2022-05-27T14:50:07.348976",
     "status": "completed"
    },
    "tags": []
   },
   "source": [
    "# Introduction #\n",
    "\n",
    "In this exercise you'll start developing the features you identified in Exercise 2 as having the most potential. As you work through this exercise, you might take a moment to look at the data documentation again and consider whether the features we're creating make sense from a real-world perspective, and whether there are any useful combinations that stand out to you.\n",
    "\n",
    "Run this cell to set everything up!"
   ]
  },
  {
   "cell_type": "code",
   "execution_count": 1,
   "id": "e8100d86",
   "metadata": {
    "execution": {
     "iopub.execute_input": "2022-05-27T14:50:07.373951Z",
     "iopub.status.busy": "2022-05-27T14:50:07.373199Z",
     "iopub.status.idle": "2022-05-27T14:50:08.895169Z",
     "shell.execute_reply": "2022-05-27T14:50:08.893750Z"
    },
    "papermill": {
     "duration": 1.533906,
     "end_time": "2022-05-27T14:50:08.897859",
     "exception": false,
     "start_time": "2022-05-27T14:50:07.363953",
     "status": "completed"
    },
    "tags": []
   },
   "outputs": [],
   "source": [
    "# Setup feedback system\n",
    "from learntools.core import binder\n",
    "binder.bind(globals())\n",
    "from learntools.feature_engineering_new.ex3 import *\n",
    "\n",
    "import numpy as np\n",
    "import pandas as pd\n",
    "from sklearn.model_selection import cross_val_score\n",
    "from xgboost import XGBRegressor\n",
    "\n",
    "\n",
    "def score_dataset(X, y, model=XGBRegressor()):\n",
    "    # Label encoding for categoricals\n",
    "    for colname in X.select_dtypes([\"category\", \"object\"]):\n",
    "        X[colname], _ = X[colname].factorize()\n",
    "    # Metric for Housing competition is RMSLE (Root Mean Squared Log Error)\n",
    "    score = cross_val_score(\n",
    "        model, X, y, cv=5, scoring=\"neg_mean_squared_log_error\",\n",
    "    )\n",
    "    score = -1 * score.mean()\n",
    "    score = np.sqrt(score)\n",
    "    return score\n",
    "\n",
    "\n",
    "# Prepare data\n",
    "df = pd.read_csv(\"../input/fe-course-data/ames.csv\")\n",
    "X = df.copy()\n",
    "y = X.pop(\"SalePrice\")"
   ]
  },
  {
   "cell_type": "markdown",
   "id": "3eb26940",
   "metadata": {
    "papermill": {
     "duration": 0.007403,
     "end_time": "2022-05-27T14:50:08.913663",
     "exception": false,
     "start_time": "2022-05-27T14:50:08.906260",
     "status": "completed"
    },
    "tags": []
   },
   "source": [
    "-------------------------------------------------------------------------------\n",
    "\n",
    "Let's start with a few mathematical combinations. We'll focus on features describing areas -- having the same units (square-feet) makes it easy to combine them in sensible ways. Since we're using XGBoost (a tree-based model), we'll focus on ratios and sums.\n",
    "\n",
    "# 1) Create Mathematical Transforms\n",
    "\n",
    "Create the following features:\n",
    "\n",
    "- `LivLotRatio`: the ratio of `GrLivArea` to `LotArea`\n",
    "- `Spaciousness`: the sum of `FirstFlrSF` and `SecondFlrSF` divided by `TotRmsAbvGrd`\n",
    "- `TotalOutsideSF`: the sum of `WoodDeckSF`, `OpenPorchSF`, `EnclosedPorch`, `Threeseasonporch`, and `ScreenPorch`"
   ]
  },
  {
   "cell_type": "code",
   "execution_count": 2,
   "id": "629e398e",
   "metadata": {
    "execution": {
     "iopub.execute_input": "2022-05-27T14:50:08.930913Z",
     "iopub.status.busy": "2022-05-27T14:50:08.930432Z",
     "iopub.status.idle": "2022-05-27T14:50:08.967128Z",
     "shell.execute_reply": "2022-05-27T14:50:08.966005Z"
    },
    "papermill": {
     "duration": 0.048579,
     "end_time": "2022-05-27T14:50:08.969975",
     "exception": false,
     "start_time": "2022-05-27T14:50:08.921396",
     "status": "completed"
    },
    "tags": []
   },
   "outputs": [
    {
     "data": {
      "text/html": [
       "<div>\n",
       "<style scoped>\n",
       "    .dataframe tbody tr th:only-of-type {\n",
       "        vertical-align: middle;\n",
       "    }\n",
       "\n",
       "    .dataframe tbody tr th {\n",
       "        vertical-align: top;\n",
       "    }\n",
       "\n",
       "    .dataframe thead th {\n",
       "        text-align: right;\n",
       "    }\n",
       "</style>\n",
       "<table border=\"1\" class=\"dataframe\">\n",
       "  <thead>\n",
       "    <tr style=\"text-align: right;\">\n",
       "      <th></th>\n",
       "      <th>MSSubClass</th>\n",
       "      <th>MSZoning</th>\n",
       "      <th>LotFrontage</th>\n",
       "      <th>LotArea</th>\n",
       "      <th>Street</th>\n",
       "      <th>Alley</th>\n",
       "      <th>LotShape</th>\n",
       "      <th>LandContour</th>\n",
       "      <th>Utilities</th>\n",
       "      <th>LotConfig</th>\n",
       "      <th>...</th>\n",
       "      <th>ScreenPorch</th>\n",
       "      <th>PoolArea</th>\n",
       "      <th>PoolQC</th>\n",
       "      <th>Fence</th>\n",
       "      <th>MiscFeature</th>\n",
       "      <th>MiscVal</th>\n",
       "      <th>MoSold</th>\n",
       "      <th>YearSold</th>\n",
       "      <th>SaleType</th>\n",
       "      <th>SaleCondition</th>\n",
       "    </tr>\n",
       "  </thead>\n",
       "  <tbody>\n",
       "    <tr>\n",
       "      <th>0</th>\n",
       "      <td>One_Story_1946_and_Newer_All_Styles</td>\n",
       "      <td>Residential_Low_Density</td>\n",
       "      <td>141.0</td>\n",
       "      <td>31770.0</td>\n",
       "      <td>Pave</td>\n",
       "      <td>No_Alley_Access</td>\n",
       "      <td>Slightly_Irregular</td>\n",
       "      <td>Lvl</td>\n",
       "      <td>AllPub</td>\n",
       "      <td>Corner</td>\n",
       "      <td>...</td>\n",
       "      <td>0.0</td>\n",
       "      <td>0.0</td>\n",
       "      <td>No_Pool</td>\n",
       "      <td>No_Fence</td>\n",
       "      <td>None</td>\n",
       "      <td>0.0</td>\n",
       "      <td>5</td>\n",
       "      <td>2010</td>\n",
       "      <td>WD</td>\n",
       "      <td>Normal</td>\n",
       "    </tr>\n",
       "    <tr>\n",
       "      <th>1</th>\n",
       "      <td>One_Story_1946_and_Newer_All_Styles</td>\n",
       "      <td>Residential_High_Density</td>\n",
       "      <td>80.0</td>\n",
       "      <td>11622.0</td>\n",
       "      <td>Pave</td>\n",
       "      <td>No_Alley_Access</td>\n",
       "      <td>Regular</td>\n",
       "      <td>Lvl</td>\n",
       "      <td>AllPub</td>\n",
       "      <td>Inside</td>\n",
       "      <td>...</td>\n",
       "      <td>120.0</td>\n",
       "      <td>0.0</td>\n",
       "      <td>No_Pool</td>\n",
       "      <td>Minimum_Privacy</td>\n",
       "      <td>None</td>\n",
       "      <td>0.0</td>\n",
       "      <td>6</td>\n",
       "      <td>2010</td>\n",
       "      <td>WD</td>\n",
       "      <td>Normal</td>\n",
       "    </tr>\n",
       "    <tr>\n",
       "      <th>2</th>\n",
       "      <td>One_Story_1946_and_Newer_All_Styles</td>\n",
       "      <td>Residential_Low_Density</td>\n",
       "      <td>81.0</td>\n",
       "      <td>14267.0</td>\n",
       "      <td>Pave</td>\n",
       "      <td>No_Alley_Access</td>\n",
       "      <td>Slightly_Irregular</td>\n",
       "      <td>Lvl</td>\n",
       "      <td>AllPub</td>\n",
       "      <td>Corner</td>\n",
       "      <td>...</td>\n",
       "      <td>0.0</td>\n",
       "      <td>0.0</td>\n",
       "      <td>No_Pool</td>\n",
       "      <td>No_Fence</td>\n",
       "      <td>Gar2</td>\n",
       "      <td>12500.0</td>\n",
       "      <td>6</td>\n",
       "      <td>2010</td>\n",
       "      <td>WD</td>\n",
       "      <td>Normal</td>\n",
       "    </tr>\n",
       "    <tr>\n",
       "      <th>3</th>\n",
       "      <td>One_Story_1946_and_Newer_All_Styles</td>\n",
       "      <td>Residential_Low_Density</td>\n",
       "      <td>93.0</td>\n",
       "      <td>11160.0</td>\n",
       "      <td>Pave</td>\n",
       "      <td>No_Alley_Access</td>\n",
       "      <td>Regular</td>\n",
       "      <td>Lvl</td>\n",
       "      <td>AllPub</td>\n",
       "      <td>Corner</td>\n",
       "      <td>...</td>\n",
       "      <td>0.0</td>\n",
       "      <td>0.0</td>\n",
       "      <td>No_Pool</td>\n",
       "      <td>No_Fence</td>\n",
       "      <td>None</td>\n",
       "      <td>0.0</td>\n",
       "      <td>4</td>\n",
       "      <td>2010</td>\n",
       "      <td>WD</td>\n",
       "      <td>Normal</td>\n",
       "    </tr>\n",
       "    <tr>\n",
       "      <th>4</th>\n",
       "      <td>Two_Story_1946_and_Newer</td>\n",
       "      <td>Residential_Low_Density</td>\n",
       "      <td>74.0</td>\n",
       "      <td>13830.0</td>\n",
       "      <td>Pave</td>\n",
       "      <td>No_Alley_Access</td>\n",
       "      <td>Slightly_Irregular</td>\n",
       "      <td>Lvl</td>\n",
       "      <td>AllPub</td>\n",
       "      <td>Inside</td>\n",
       "      <td>...</td>\n",
       "      <td>0.0</td>\n",
       "      <td>0.0</td>\n",
       "      <td>No_Pool</td>\n",
       "      <td>Minimum_Privacy</td>\n",
       "      <td>None</td>\n",
       "      <td>0.0</td>\n",
       "      <td>3</td>\n",
       "      <td>2010</td>\n",
       "      <td>WD</td>\n",
       "      <td>Normal</td>\n",
       "    </tr>\n",
       "  </tbody>\n",
       "</table>\n",
       "<p>5 rows × 78 columns</p>\n",
       "</div>"
      ],
      "text/plain": [
       "                            MSSubClass                  MSZoning  LotFrontage  \\\n",
       "0  One_Story_1946_and_Newer_All_Styles   Residential_Low_Density        141.0   \n",
       "1  One_Story_1946_and_Newer_All_Styles  Residential_High_Density         80.0   \n",
       "2  One_Story_1946_and_Newer_All_Styles   Residential_Low_Density         81.0   \n",
       "3  One_Story_1946_and_Newer_All_Styles   Residential_Low_Density         93.0   \n",
       "4             Two_Story_1946_and_Newer   Residential_Low_Density         74.0   \n",
       "\n",
       "   LotArea Street            Alley            LotShape LandContour Utilities  \\\n",
       "0  31770.0   Pave  No_Alley_Access  Slightly_Irregular         Lvl    AllPub   \n",
       "1  11622.0   Pave  No_Alley_Access             Regular         Lvl    AllPub   \n",
       "2  14267.0   Pave  No_Alley_Access  Slightly_Irregular         Lvl    AllPub   \n",
       "3  11160.0   Pave  No_Alley_Access             Regular         Lvl    AllPub   \n",
       "4  13830.0   Pave  No_Alley_Access  Slightly_Irregular         Lvl    AllPub   \n",
       "\n",
       "  LotConfig  ... ScreenPorch PoolArea   PoolQC            Fence MiscFeature  \\\n",
       "0    Corner  ...         0.0      0.0  No_Pool         No_Fence        None   \n",
       "1    Inside  ...       120.0      0.0  No_Pool  Minimum_Privacy        None   \n",
       "2    Corner  ...         0.0      0.0  No_Pool         No_Fence        Gar2   \n",
       "3    Corner  ...         0.0      0.0  No_Pool         No_Fence        None   \n",
       "4    Inside  ...         0.0      0.0  No_Pool  Minimum_Privacy        None   \n",
       "\n",
       "   MiscVal MoSold YearSold  SaleType  SaleCondition  \n",
       "0      0.0      5     2010       WD          Normal  \n",
       "1      0.0      6     2010       WD          Normal  \n",
       "2  12500.0      6     2010       WD          Normal  \n",
       "3      0.0      4     2010       WD          Normal  \n",
       "4      0.0      3     2010       WD          Normal  \n",
       "\n",
       "[5 rows x 78 columns]"
      ]
     },
     "execution_count": 2,
     "metadata": {},
     "output_type": "execute_result"
    }
   ],
   "source": [
    "X.head()"
   ]
  },
  {
   "cell_type": "code",
   "execution_count": 3,
   "id": "fe5218da",
   "metadata": {
    "execution": {
     "iopub.execute_input": "2022-05-27T14:50:08.988381Z",
     "iopub.status.busy": "2022-05-27T14:50:08.987572Z",
     "iopub.status.idle": "2022-05-27T14:50:09.032691Z",
     "shell.execute_reply": "2022-05-27T14:50:09.031699Z"
    },
    "papermill": {
     "duration": 0.057486,
     "end_time": "2022-05-27T14:50:09.035594",
     "exception": false,
     "start_time": "2022-05-27T14:50:08.978108",
     "status": "completed"
    },
    "tags": []
   },
   "outputs": [
    {
     "name": "stdout",
     "output_type": "stream",
     "text": [
      "<class 'pandas.core.frame.DataFrame'>\n",
      "RangeIndex: 2930 entries, 0 to 2929\n",
      "Data columns (total 78 columns):\n",
      " #   Column            Non-Null Count  Dtype  \n",
      "---  ------            --------------  -----  \n",
      " 0   MSSubClass        2930 non-null   object \n",
      " 1   MSZoning          2930 non-null   object \n",
      " 2   LotFrontage       2930 non-null   float64\n",
      " 3   LotArea           2930 non-null   float64\n",
      " 4   Street            2930 non-null   object \n",
      " 5   Alley             2930 non-null   object \n",
      " 6   LotShape          2930 non-null   object \n",
      " 7   LandContour       2930 non-null   object \n",
      " 8   Utilities         2930 non-null   object \n",
      " 9   LotConfig         2930 non-null   object \n",
      " 10  LandSlope         2930 non-null   object \n",
      " 11  Neighborhood      2930 non-null   object \n",
      " 12  Condition1        2930 non-null   object \n",
      " 13  Condition2        2930 non-null   object \n",
      " 14  BldgType          2930 non-null   object \n",
      " 15  HouseStyle        2930 non-null   object \n",
      " 16  OverallQual       2930 non-null   object \n",
      " 17  OverallCond       2930 non-null   object \n",
      " 18  YearBuilt         2930 non-null   int64  \n",
      " 19  YearRemodAdd      2930 non-null   int64  \n",
      " 20  RoofStyle         2930 non-null   object \n",
      " 21  RoofMatl          2930 non-null   object \n",
      " 22  Exterior1st       2930 non-null   object \n",
      " 23  Exterior2nd       2930 non-null   object \n",
      " 24  MasVnrType        2930 non-null   object \n",
      " 25  MasVnrArea        2930 non-null   float64\n",
      " 26  ExterQual         2930 non-null   object \n",
      " 27  ExterCond         2930 non-null   object \n",
      " 28  Foundation        2930 non-null   object \n",
      " 29  BsmtQual          2930 non-null   object \n",
      " 30  BsmtCond          2930 non-null   object \n",
      " 31  BsmtExposure      2930 non-null   object \n",
      " 32  BsmtFinType1      2930 non-null   object \n",
      " 33  BsmtFinSF1        2930 non-null   float64\n",
      " 34  BsmtFinType2      2930 non-null   object \n",
      " 35  BsmtFinSF2        2930 non-null   float64\n",
      " 36  BsmtUnfSF         2930 non-null   float64\n",
      " 37  TotalBsmtSF       2930 non-null   float64\n",
      " 38  Heating           2930 non-null   object \n",
      " 39  HeatingQC         2930 non-null   object \n",
      " 40  CentralAir        2930 non-null   object \n",
      " 41  Electrical        2930 non-null   object \n",
      " 42  FirstFlrSF        2930 non-null   float64\n",
      " 43  SecondFlrSF       2930 non-null   float64\n",
      " 44  LowQualFinSF      2930 non-null   float64\n",
      " 45  GrLivArea         2930 non-null   float64\n",
      " 46  BsmtFullBath      2930 non-null   int64  \n",
      " 47  BsmtHalfBath      2930 non-null   int64  \n",
      " 48  FullBath          2930 non-null   int64  \n",
      " 49  HalfBath          2930 non-null   int64  \n",
      " 50  BedroomAbvGr      2930 non-null   int64  \n",
      " 51  KitchenAbvGr      2930 non-null   int64  \n",
      " 52  KitchenQual       2930 non-null   object \n",
      " 53  TotRmsAbvGrd      2930 non-null   int64  \n",
      " 54  Functional        2930 non-null   object \n",
      " 55  Fireplaces        2930 non-null   int64  \n",
      " 56  FireplaceQu       2930 non-null   object \n",
      " 57  GarageType        2930 non-null   object \n",
      " 58  GarageFinish      2930 non-null   object \n",
      " 59  GarageCars        2930 non-null   int64  \n",
      " 60  GarageArea        2930 non-null   float64\n",
      " 61  GarageQual        2930 non-null   object \n",
      " 62  GarageCond        2930 non-null   object \n",
      " 63  PavedDrive        2930 non-null   object \n",
      " 64  WoodDeckSF        2930 non-null   float64\n",
      " 65  OpenPorchSF       2930 non-null   float64\n",
      " 66  EnclosedPorch     2930 non-null   float64\n",
      " 67  Threeseasonporch  2930 non-null   float64\n",
      " 68  ScreenPorch       2930 non-null   float64\n",
      " 69  PoolArea          2930 non-null   float64\n",
      " 70  PoolQC            2930 non-null   object \n",
      " 71  Fence             2930 non-null   object \n",
      " 72  MiscFeature       2930 non-null   object \n",
      " 73  MiscVal           2930 non-null   float64\n",
      " 74  MoSold            2930 non-null   int64  \n",
      " 75  YearSold          2930 non-null   int64  \n",
      " 76  SaleType          2930 non-null   object \n",
      " 77  SaleCondition     2930 non-null   object \n",
      "dtypes: float64(19), int64(13), object(46)\n",
      "memory usage: 1.7+ MB\n"
     ]
    }
   ],
   "source": [
    "X.info()"
   ]
  },
  {
   "cell_type": "code",
   "execution_count": 4,
   "id": "c137238f",
   "metadata": {
    "execution": {
     "iopub.execute_input": "2022-05-27T14:50:09.055328Z",
     "iopub.status.busy": "2022-05-27T14:50:09.054929Z",
     "iopub.status.idle": "2022-05-27T14:50:09.081121Z",
     "shell.execute_reply": "2022-05-27T14:50:09.079947Z"
    },
    "lines_to_next_cell": 0,
    "papermill": {
     "duration": 0.038019,
     "end_time": "2022-05-27T14:50:09.083307",
     "exception": false,
     "start_time": "2022-05-27T14:50:09.045288",
     "status": "completed"
    },
    "tags": []
   },
   "outputs": [
    {
     "data": {
      "application/javascript": [
       "parent.postMessage({\"jupyterEvent\": \"custom.exercise_interaction\", \"data\": {\"outcomeType\": 1, \"valueTowardsCompletion\": 0.2, \"interactionType\": 1, \"questionType\": 2, \"questionId\": \"1_Q1\", \"learnToolsVersion\": \"0.3.4\", \"failureMessage\": \"\", \"exceptionClass\": \"\", \"trace\": \"\"}}, \"*\")"
      ],
      "text/plain": [
       "<IPython.core.display.Javascript object>"
      ]
     },
     "metadata": {},
     "output_type": "display_data"
    },
    {
     "data": {
      "text/markdown": [
       "<span style=\"color:#33cc33\">Correct</span>"
      ],
      "text/plain": [
       "Correct"
      ]
     },
     "metadata": {},
     "output_type": "display_data"
    }
   ],
   "source": [
    "# YOUR CODE HERE\n",
    "X_1 = pd.DataFrame()  # dataframe to hold new features\n",
    "\n",
    "sf_columns = [\"WoodDeckSF\", \"OpenPorchSF\", \"EnclosedPorch\", \"Threeseasonporch\", \"ScreenPorch\"]\n",
    "\n",
    "X_1[\"LivLotRatio\"] = X.GrLivArea / X.LotArea\n",
    "X_1[\"Spaciousness\"] = (X.FirstFlrSF + X.SecondFlrSF) / X.TotRmsAbvGrd\n",
    "X_1[\"TotalOutsideSF\"] = X[sf_columns].sum(axis=1)\n",
    "\n",
    "\n",
    "# Check your answer\n",
    "q_1.check()"
   ]
  },
  {
   "cell_type": "code",
   "execution_count": 5,
   "id": "dcd826fb",
   "metadata": {
    "execution": {
     "iopub.execute_input": "2022-05-27T14:50:09.101835Z",
     "iopub.status.busy": "2022-05-27T14:50:09.101395Z",
     "iopub.status.idle": "2022-05-27T14:50:09.105531Z",
     "shell.execute_reply": "2022-05-27T14:50:09.104563Z"
    },
    "lines_to_next_cell": 0,
    "papermill": {
     "duration": 0.015825,
     "end_time": "2022-05-27T14:50:09.107655",
     "exception": false,
     "start_time": "2022-05-27T14:50:09.091830",
     "status": "completed"
    },
    "tags": []
   },
   "outputs": [],
   "source": [
    "# Lines below will give you a hint or solution code\n",
    "# q_1.hint()\n",
    "#q_1.solution()"
   ]
  },
  {
   "cell_type": "code",
   "execution_count": 6,
   "id": "b8f71dd9",
   "metadata": {
    "execution": {
     "iopub.execute_input": "2022-05-27T14:50:09.126329Z",
     "iopub.status.busy": "2022-05-27T14:50:09.125940Z",
     "iopub.status.idle": "2022-05-27T14:50:09.136846Z",
     "shell.execute_reply": "2022-05-27T14:50:09.135864Z"
    },
    "papermill": {
     "duration": 0.023058,
     "end_time": "2022-05-27T14:50:09.139262",
     "exception": false,
     "start_time": "2022-05-27T14:50:09.116204",
     "status": "completed"
    },
    "tags": []
   },
   "outputs": [
    {
     "data": {
      "text/html": [
       "<div>\n",
       "<style scoped>\n",
       "    .dataframe tbody tr th:only-of-type {\n",
       "        vertical-align: middle;\n",
       "    }\n",
       "\n",
       "    .dataframe tbody tr th {\n",
       "        vertical-align: top;\n",
       "    }\n",
       "\n",
       "    .dataframe thead th {\n",
       "        text-align: right;\n",
       "    }\n",
       "</style>\n",
       "<table border=\"1\" class=\"dataframe\">\n",
       "  <thead>\n",
       "    <tr style=\"text-align: right;\">\n",
       "      <th></th>\n",
       "      <th>LivLotRatio</th>\n",
       "      <th>Spaciousness</th>\n",
       "      <th>TotalOutsideSF</th>\n",
       "    </tr>\n",
       "  </thead>\n",
       "  <tbody>\n",
       "    <tr>\n",
       "      <th>0</th>\n",
       "      <td>0.052125</td>\n",
       "      <td>236.571429</td>\n",
       "      <td>272.0</td>\n",
       "    </tr>\n",
       "    <tr>\n",
       "      <th>1</th>\n",
       "      <td>0.077095</td>\n",
       "      <td>179.200000</td>\n",
       "      <td>260.0</td>\n",
       "    </tr>\n",
       "    <tr>\n",
       "      <th>2</th>\n",
       "      <td>0.093152</td>\n",
       "      <td>221.500000</td>\n",
       "      <td>429.0</td>\n",
       "    </tr>\n",
       "    <tr>\n",
       "      <th>3</th>\n",
       "      <td>0.189068</td>\n",
       "      <td>263.750000</td>\n",
       "      <td>0.0</td>\n",
       "    </tr>\n",
       "    <tr>\n",
       "      <th>4</th>\n",
       "      <td>0.117787</td>\n",
       "      <td>271.500000</td>\n",
       "      <td>246.0</td>\n",
       "    </tr>\n",
       "  </tbody>\n",
       "</table>\n",
       "</div>"
      ],
      "text/plain": [
       "   LivLotRatio  Spaciousness  TotalOutsideSF\n",
       "0     0.052125    236.571429           272.0\n",
       "1     0.077095    179.200000           260.0\n",
       "2     0.093152    221.500000           429.0\n",
       "3     0.189068    263.750000             0.0\n",
       "4     0.117787    271.500000           246.0"
      ]
     },
     "execution_count": 6,
     "metadata": {},
     "output_type": "execute_result"
    }
   ],
   "source": [
    "X_1.head()"
   ]
  },
  {
   "cell_type": "markdown",
   "id": "706cad2d",
   "metadata": {
    "papermill": {
     "duration": 0.00851,
     "end_time": "2022-05-27T14:50:09.156433",
     "exception": false,
     "start_time": "2022-05-27T14:50:09.147923",
     "status": "completed"
    },
    "tags": []
   },
   "source": [
    "-------------------------------------------------------------------------------\n",
    "\n",
    "If you've discovered an interaction effect between a numeric feature and a categorical feature, you might want to model it explicitly using a one-hot encoding, like so:\n",
    "\n",
    "```\n",
    "# One-hot encode Categorical feature, adding a column prefix \"Cat\"\n",
    "X_new = pd.get_dummies(df.Categorical, prefix=\"Cat\")\n",
    "\n",
    "# Multiply row-by-row\n",
    "X_new = X_new.mul(df.Continuous, axis=0)\n",
    "\n",
    "# Join the new features to the feature set\n",
    "X = X.join(X_new)\n",
    "```\n",
    "\n",
    "# 2) Interaction with a Categorical\n",
    "\n",
    "We discovered an interaction between `BldgType` and `GrLivArea` in Exercise 2. Now create their interaction features."
   ]
  },
  {
   "cell_type": "code",
   "execution_count": 7,
   "id": "19209ca3",
   "metadata": {
    "execution": {
     "iopub.execute_input": "2022-05-27T14:50:09.175794Z",
     "iopub.status.busy": "2022-05-27T14:50:09.175052Z",
     "iopub.status.idle": "2022-05-27T14:50:09.189383Z",
     "shell.execute_reply": "2022-05-27T14:50:09.188395Z"
    },
    "lines_to_next_cell": 0,
    "papermill": {
     "duration": 0.026285,
     "end_time": "2022-05-27T14:50:09.191435",
     "exception": false,
     "start_time": "2022-05-27T14:50:09.165150",
     "status": "completed"
    },
    "tags": []
   },
   "outputs": [
    {
     "data": {
      "application/javascript": [
       "parent.postMessage({\"jupyterEvent\": \"custom.exercise_interaction\", \"data\": {\"outcomeType\": 1, \"valueTowardsCompletion\": 0.2, \"interactionType\": 1, \"questionType\": 2, \"questionId\": \"2_Q2\", \"learnToolsVersion\": \"0.3.4\", \"failureMessage\": \"\", \"exceptionClass\": \"\", \"trace\": \"\"}}, \"*\")"
      ],
      "text/plain": [
       "<IPython.core.display.Javascript object>"
      ]
     },
     "metadata": {},
     "output_type": "display_data"
    },
    {
     "data": {
      "text/markdown": [
       "<span style=\"color:#33cc33\">Correct</span>"
      ],
      "text/plain": [
       "Correct"
      ]
     },
     "metadata": {},
     "output_type": "display_data"
    }
   ],
   "source": [
    "# YOUR CODE HERE\n",
    "# One-hot encode BldgType. Use `prefix=\"Bldg\"` in `get_dummies`\n",
    "X_2 = pd.get_dummies(X.BldgType, prefix=\"Bldg\")\n",
    "# Multiply\n",
    "X_2 = X_2.mul(X.GrLivArea, axis=0)\n",
    "\n",
    "\n",
    "# Check your answer\n",
    "q_2.check()"
   ]
  },
  {
   "cell_type": "code",
   "execution_count": 8,
   "id": "18560b74",
   "metadata": {
    "execution": {
     "iopub.execute_input": "2022-05-27T14:50:09.211271Z",
     "iopub.status.busy": "2022-05-27T14:50:09.210384Z",
     "iopub.status.idle": "2022-05-27T14:50:09.222225Z",
     "shell.execute_reply": "2022-05-27T14:50:09.221065Z"
    },
    "papermill": {
     "duration": 0.024942,
     "end_time": "2022-05-27T14:50:09.225338",
     "exception": false,
     "start_time": "2022-05-27T14:50:09.200396",
     "status": "completed"
    },
    "tags": []
   },
   "outputs": [
    {
     "name": "stdout",
     "output_type": "stream",
     "text": [
      "<class 'pandas.core.frame.DataFrame'>\n",
      "RangeIndex: 2930 entries, 0 to 2929\n",
      "Data columns (total 5 columns):\n",
      " #   Column         Non-Null Count  Dtype  \n",
      "---  ------         --------------  -----  \n",
      " 0   Bldg_Duplex    2930 non-null   float64\n",
      " 1   Bldg_OneFam    2930 non-null   float64\n",
      " 2   Bldg_Twnhs     2930 non-null   float64\n",
      " 3   Bldg_TwnhsE    2930 non-null   float64\n",
      " 4   Bldg_TwoFmCon  2930 non-null   float64\n",
      "dtypes: float64(5)\n",
      "memory usage: 114.6 KB\n"
     ]
    }
   ],
   "source": [
    "X_2.info()"
   ]
  },
  {
   "cell_type": "code",
   "execution_count": 9,
   "id": "f6cf55d8",
   "metadata": {
    "execution": {
     "iopub.execute_input": "2022-05-27T14:50:09.245800Z",
     "iopub.status.busy": "2022-05-27T14:50:09.245414Z",
     "iopub.status.idle": "2022-05-27T14:50:09.260174Z",
     "shell.execute_reply": "2022-05-27T14:50:09.259182Z"
    },
    "papermill": {
     "duration": 0.026875,
     "end_time": "2022-05-27T14:50:09.262175",
     "exception": false,
     "start_time": "2022-05-27T14:50:09.235300",
     "status": "completed"
    },
    "tags": []
   },
   "outputs": [
    {
     "data": {
      "text/html": [
       "<div>\n",
       "<style scoped>\n",
       "    .dataframe tbody tr th:only-of-type {\n",
       "        vertical-align: middle;\n",
       "    }\n",
       "\n",
       "    .dataframe tbody tr th {\n",
       "        vertical-align: top;\n",
       "    }\n",
       "\n",
       "    .dataframe thead th {\n",
       "        text-align: right;\n",
       "    }\n",
       "</style>\n",
       "<table border=\"1\" class=\"dataframe\">\n",
       "  <thead>\n",
       "    <tr style=\"text-align: right;\">\n",
       "      <th></th>\n",
       "      <th>Bldg_Duplex</th>\n",
       "      <th>Bldg_OneFam</th>\n",
       "      <th>Bldg_Twnhs</th>\n",
       "      <th>Bldg_TwnhsE</th>\n",
       "      <th>Bldg_TwoFmCon</th>\n",
       "    </tr>\n",
       "  </thead>\n",
       "  <tbody>\n",
       "    <tr>\n",
       "      <th>0</th>\n",
       "      <td>0.0</td>\n",
       "      <td>1656.0</td>\n",
       "      <td>0.0</td>\n",
       "      <td>0.0</td>\n",
       "      <td>0.0</td>\n",
       "    </tr>\n",
       "    <tr>\n",
       "      <th>1</th>\n",
       "      <td>0.0</td>\n",
       "      <td>896.0</td>\n",
       "      <td>0.0</td>\n",
       "      <td>0.0</td>\n",
       "      <td>0.0</td>\n",
       "    </tr>\n",
       "    <tr>\n",
       "      <th>2</th>\n",
       "      <td>0.0</td>\n",
       "      <td>1329.0</td>\n",
       "      <td>0.0</td>\n",
       "      <td>0.0</td>\n",
       "      <td>0.0</td>\n",
       "    </tr>\n",
       "    <tr>\n",
       "      <th>3</th>\n",
       "      <td>0.0</td>\n",
       "      <td>2110.0</td>\n",
       "      <td>0.0</td>\n",
       "      <td>0.0</td>\n",
       "      <td>0.0</td>\n",
       "    </tr>\n",
       "    <tr>\n",
       "      <th>4</th>\n",
       "      <td>0.0</td>\n",
       "      <td>1629.0</td>\n",
       "      <td>0.0</td>\n",
       "      <td>0.0</td>\n",
       "      <td>0.0</td>\n",
       "    </tr>\n",
       "  </tbody>\n",
       "</table>\n",
       "</div>"
      ],
      "text/plain": [
       "   Bldg_Duplex  Bldg_OneFam  Bldg_Twnhs  Bldg_TwnhsE  Bldg_TwoFmCon\n",
       "0          0.0       1656.0         0.0          0.0            0.0\n",
       "1          0.0        896.0         0.0          0.0            0.0\n",
       "2          0.0       1329.0         0.0          0.0            0.0\n",
       "3          0.0       2110.0         0.0          0.0            0.0\n",
       "4          0.0       1629.0         0.0          0.0            0.0"
      ]
     },
     "execution_count": 9,
     "metadata": {},
     "output_type": "execute_result"
    }
   ],
   "source": [
    "X_2.head()"
   ]
  },
  {
   "cell_type": "code",
   "execution_count": 10,
   "id": "d61db187",
   "metadata": {
    "execution": {
     "iopub.execute_input": "2022-05-27T14:50:09.282626Z",
     "iopub.status.busy": "2022-05-27T14:50:09.282085Z",
     "iopub.status.idle": "2022-05-27T14:50:09.290001Z",
     "shell.execute_reply": "2022-05-27T14:50:09.289068Z"
    },
    "lines_to_next_cell": 0,
    "papermill": {
     "duration": 0.020741,
     "end_time": "2022-05-27T14:50:09.292017",
     "exception": false,
     "start_time": "2022-05-27T14:50:09.271276",
     "status": "completed"
    },
    "tags": []
   },
   "outputs": [
    {
     "data": {
      "application/javascript": [
       "parent.postMessage({\"jupyterEvent\": \"custom.exercise_interaction\", \"data\": {\"interactionType\": 2, \"questionType\": 2, \"questionId\": \"2_Q2\", \"learnToolsVersion\": \"0.3.4\", \"valueTowardsCompletion\": 0.0, \"failureMessage\": \"\", \"exceptionClass\": \"\", \"trace\": \"\", \"outcomeType\": 4}}, \"*\")"
      ],
      "text/plain": [
       "<IPython.core.display.Javascript object>"
      ]
     },
     "metadata": {},
     "output_type": "display_data"
    },
    {
     "data": {
      "text/markdown": [
       "<span style=\"color:#3366cc\">Hint:</span> Your code should look something like:\n",
       "```python\n",
       "X_2 = pd.get_dummies(____, prefix=\"Bldg\")\n",
       "X_2 = X_2.mul(____, axis=0)\n",
       "```\n"
      ],
      "text/plain": [
       "Hint: Your code should look something like:\n",
       "```python\n",
       "X_2 = pd.get_dummies(____, prefix=\"Bldg\")\n",
       "X_2 = X_2.mul(____, axis=0)\n",
       "```"
      ]
     },
     "metadata": {},
     "output_type": "display_data"
    }
   ],
   "source": [
    "# Lines below will give you a hint or solution code\n",
    "q_2.hint()\n",
    "#q_2.solution()"
   ]
  },
  {
   "cell_type": "markdown",
   "id": "1e79578a",
   "metadata": {
    "lines_to_next_cell": 0,
    "papermill": {
     "duration": 0.009079,
     "end_time": "2022-05-27T14:50:09.310531",
     "exception": false,
     "start_time": "2022-05-27T14:50:09.301452",
     "status": "completed"
    },
    "tags": []
   },
   "source": [
    "# 3) Count Feature\n",
    "\n",
    "Let's try creating a feature that describes how many kinds of outdoor areas a dwelling has. Create a feature `PorchTypes` that counts how many of the following are greater than 0.0:\n",
    "\n",
    "```\n",
    "WoodDeckSF\n",
    "OpenPorchSF\n",
    "EnclosedPorch\n",
    "Threeseasonporch\n",
    "ScreenPorch\n",
    "```"
   ]
  },
  {
   "cell_type": "code",
   "execution_count": 11,
   "id": "edbe66b0",
   "metadata": {
    "execution": {
     "iopub.execute_input": "2022-05-27T14:50:09.331073Z",
     "iopub.status.busy": "2022-05-27T14:50:09.330657Z",
     "iopub.status.idle": "2022-05-27T14:50:09.347003Z",
     "shell.execute_reply": "2022-05-27T14:50:09.345984Z"
    },
    "lines_to_next_cell": 0,
    "papermill": {
     "duration": 0.029053,
     "end_time": "2022-05-27T14:50:09.348997",
     "exception": false,
     "start_time": "2022-05-27T14:50:09.319944",
     "status": "completed"
    },
    "tags": []
   },
   "outputs": [
    {
     "data": {
      "application/javascript": [
       "parent.postMessage({\"jupyterEvent\": \"custom.exercise_interaction\", \"data\": {\"outcomeType\": 1, \"valueTowardsCompletion\": 0.2, \"interactionType\": 1, \"questionType\": 2, \"questionId\": \"3_Q3\", \"learnToolsVersion\": \"0.3.4\", \"failureMessage\": \"\", \"exceptionClass\": \"\", \"trace\": \"\"}}, \"*\")"
      ],
      "text/plain": [
       "<IPython.core.display.Javascript object>"
      ]
     },
     "metadata": {},
     "output_type": "display_data"
    },
    {
     "data": {
      "text/markdown": [
       "<span style=\"color:#33cc33\">Correct</span>"
      ],
      "text/plain": [
       "Correct"
      ]
     },
     "metadata": {},
     "output_type": "display_data"
    }
   ],
   "source": [
    "X_3 = pd.DataFrame()\n",
    "\n",
    "# YOUR CODE HERE\n",
    "porch_columns = [\"WoodDeckSF\", \"OpenPorchSF\", \"EnclosedPorch\", \"Threeseasonporch\", \"ScreenPorch\"]\n",
    "X_3[\"PorchTypes\"] = X[porch_columns].gt(0).sum(axis=1)\n",
    "\n",
    "\n",
    "# Check your answer\n",
    "q_3.check()"
   ]
  },
  {
   "cell_type": "code",
   "execution_count": 12,
   "id": "eceada50",
   "metadata": {
    "execution": {
     "iopub.execute_input": "2022-05-27T14:50:09.370254Z",
     "iopub.status.busy": "2022-05-27T14:50:09.369524Z",
     "iopub.status.idle": "2022-05-27T14:50:09.373693Z",
     "shell.execute_reply": "2022-05-27T14:50:09.372993Z"
    },
    "lines_to_next_cell": 0,
    "papermill": {
     "duration": 0.017107,
     "end_time": "2022-05-27T14:50:09.375694",
     "exception": false,
     "start_time": "2022-05-27T14:50:09.358587",
     "status": "completed"
    },
    "tags": []
   },
   "outputs": [],
   "source": [
    "# Lines below will give you a hint or solution code\n",
    "#q_3.hint()\n",
    "#q_3.solution()"
   ]
  },
  {
   "cell_type": "markdown",
   "id": "2e14c582",
   "metadata": {
    "papermill": {
     "duration": 0.009642,
     "end_time": "2022-05-27T14:50:09.395607",
     "exception": false,
     "start_time": "2022-05-27T14:50:09.385965",
     "status": "completed"
    },
    "tags": []
   },
   "source": [
    "# 4) Break Down a Categorical Feature\n",
    "\n",
    "`MSSubClass` describes the type of a dwelling:"
   ]
  },
  {
   "cell_type": "code",
   "execution_count": 13,
   "id": "1ff556d6",
   "metadata": {
    "execution": {
     "iopub.execute_input": "2022-05-27T14:50:09.417464Z",
     "iopub.status.busy": "2022-05-27T14:50:09.416701Z",
     "iopub.status.idle": "2022-05-27T14:50:09.424221Z",
     "shell.execute_reply": "2022-05-27T14:50:09.423272Z"
    },
    "papermill": {
     "duration": 0.020632,
     "end_time": "2022-05-27T14:50:09.426272",
     "exception": false,
     "start_time": "2022-05-27T14:50:09.405640",
     "status": "completed"
    },
    "tags": []
   },
   "outputs": [
    {
     "data": {
      "text/plain": [
       "array(['One_Story_1946_and_Newer_All_Styles', 'Two_Story_1946_and_Newer',\n",
       "       'One_Story_PUD_1946_and_Newer',\n",
       "       'One_and_Half_Story_Finished_All_Ages', 'Split_Foyer',\n",
       "       'Two_Story_PUD_1946_and_Newer', 'Split_or_Multilevel',\n",
       "       'One_Story_1945_and_Older', 'Duplex_All_Styles_and_Ages',\n",
       "       'Two_Family_conversion_All_Styles_and_Ages',\n",
       "       'One_and_Half_Story_Unfinished_All_Ages',\n",
       "       'Two_Story_1945_and_Older', 'Two_and_Half_Story_All_Ages',\n",
       "       'One_Story_with_Finished_Attic_All_Ages',\n",
       "       'PUD_Multilevel_Split_Level_Foyer',\n",
       "       'One_and_Half_Story_PUD_All_Ages'], dtype=object)"
      ]
     },
     "execution_count": 13,
     "metadata": {},
     "output_type": "execute_result"
    }
   ],
   "source": [
    "df.MSSubClass.unique()"
   ]
  },
  {
   "cell_type": "markdown",
   "id": "f5423c40",
   "metadata": {
    "papermill": {
     "duration": 0.009602,
     "end_time": "2022-05-27T14:50:09.445829",
     "exception": false,
     "start_time": "2022-05-27T14:50:09.436227",
     "status": "completed"
    },
    "tags": []
   },
   "source": [
    "You can see that there is a more general categorization described (roughly) by the first word of each category. Create a feature containing only these first words by splitting `MSSubClass` at the first underscore `_`. (Hint: In the `split` method use an argument `n=1`.)"
   ]
  },
  {
   "cell_type": "code",
   "execution_count": 14,
   "id": "f7e1e772",
   "metadata": {
    "execution": {
     "iopub.execute_input": "2022-05-27T14:50:09.467864Z",
     "iopub.status.busy": "2022-05-27T14:50:09.467155Z",
     "iopub.status.idle": "2022-05-27T14:50:09.493747Z",
     "shell.execute_reply": "2022-05-27T14:50:09.492810Z"
    },
    "lines_to_next_cell": 0,
    "papermill": {
     "duration": 0.040022,
     "end_time": "2022-05-27T14:50:09.495852",
     "exception": false,
     "start_time": "2022-05-27T14:50:09.455830",
     "status": "completed"
    },
    "tags": []
   },
   "outputs": [
    {
     "data": {
      "application/javascript": [
       "parent.postMessage({\"jupyterEvent\": \"custom.exercise_interaction\", \"data\": {\"outcomeType\": 1, \"valueTowardsCompletion\": 0.2, \"interactionType\": 1, \"questionType\": 2, \"questionId\": \"4_Q4\", \"learnToolsVersion\": \"0.3.4\", \"failureMessage\": \"\", \"exceptionClass\": \"\", \"trace\": \"\"}}, \"*\")"
      ],
      "text/plain": [
       "<IPython.core.display.Javascript object>"
      ]
     },
     "metadata": {},
     "output_type": "display_data"
    },
    {
     "data": {
      "text/markdown": [
       "<span style=\"color:#33cc33\">Correct</span>"
      ],
      "text/plain": [
       "Correct"
      ]
     },
     "metadata": {},
     "output_type": "display_data"
    }
   ],
   "source": [
    "X_4 = pd.DataFrame()\n",
    "\n",
    "# YOUR CODE HERE\n",
    "X_4[\"MSClass\"] = df.MSSubClass.str.split(pat=\"_\", n=1, expand=True)[0]\n",
    "\n",
    "# Check your answer\n",
    "q_4.check()"
   ]
  },
  {
   "cell_type": "code",
   "execution_count": 15,
   "id": "7de0c9f9",
   "metadata": {
    "execution": {
     "iopub.execute_input": "2022-05-27T14:50:09.517862Z",
     "iopub.status.busy": "2022-05-27T14:50:09.517440Z",
     "iopub.status.idle": "2022-05-27T14:50:09.525361Z",
     "shell.execute_reply": "2022-05-27T14:50:09.524443Z"
    },
    "lines_to_next_cell": 0,
    "papermill": {
     "duration": 0.021601,
     "end_time": "2022-05-27T14:50:09.527479",
     "exception": false,
     "start_time": "2022-05-27T14:50:09.505878",
     "status": "completed"
    },
    "tags": []
   },
   "outputs": [
    {
     "data": {
      "application/javascript": [
       "parent.postMessage({\"jupyterEvent\": \"custom.exercise_interaction\", \"data\": {\"interactionType\": 2, \"questionType\": 2, \"questionId\": \"4_Q4\", \"learnToolsVersion\": \"0.3.4\", \"valueTowardsCompletion\": 0.0, \"failureMessage\": \"\", \"exceptionClass\": \"\", \"trace\": \"\", \"outcomeType\": 4}}, \"*\")"
      ],
      "text/plain": [
       "<IPython.core.display.Javascript object>"
      ]
     },
     "metadata": {},
     "output_type": "display_data"
    },
    {
     "data": {
      "text/markdown": [
       "<span style=\"color:#3366cc\">Hint:</span> Your code should look something like:\n",
       "```python\n",
       "X_4 = pd.DataFrame()\n",
       "\n",
       "X_4[\"MSClass\"] = df.____.str.____(____, n=1, expand=True)[____]\n",
       "```\n"
      ],
      "text/plain": [
       "Hint: Your code should look something like:\n",
       "```python\n",
       "X_4 = pd.DataFrame()\n",
       "\n",
       "X_4[\"MSClass\"] = df.____.str.____(____, n=1, expand=True)[____]\n",
       "```"
      ]
     },
     "metadata": {},
     "output_type": "display_data"
    }
   ],
   "source": [
    "# Lines below will give you a hint or solution code\n",
    "q_4.hint()\n",
    "#q_4.solution()"
   ]
  },
  {
   "cell_type": "markdown",
   "id": "8e9a67ee",
   "metadata": {
    "papermill": {
     "duration": 0.010135,
     "end_time": "2022-05-27T14:50:09.547957",
     "exception": false,
     "start_time": "2022-05-27T14:50:09.537822",
     "status": "completed"
    },
    "tags": []
   },
   "source": [
    "# 5) Use a Grouped Transform\n",
    "\n",
    "The value of a home often depends on how it compares to typical homes in its neighborhood. Create a feature `MedNhbdArea` that describes the *median* of `GrLivArea` grouped on `Neighborhood`."
   ]
  },
  {
   "cell_type": "code",
   "execution_count": 16,
   "id": "ae9f02ac",
   "metadata": {
    "execution": {
     "iopub.execute_input": "2022-05-27T14:50:09.570872Z",
     "iopub.status.busy": "2022-05-27T14:50:09.570157Z",
     "iopub.status.idle": "2022-05-27T14:50:09.587735Z",
     "shell.execute_reply": "2022-05-27T14:50:09.586869Z"
    },
    "lines_to_next_cell": 0,
    "papermill": {
     "duration": 0.031333,
     "end_time": "2022-05-27T14:50:09.589710",
     "exception": false,
     "start_time": "2022-05-27T14:50:09.558377",
     "status": "completed"
    },
    "tags": []
   },
   "outputs": [
    {
     "data": {
      "application/javascript": [
       "parent.postMessage({\"jupyterEvent\": \"custom.exercise_interaction\", \"data\": {\"outcomeType\": 1, \"valueTowardsCompletion\": 0.2, \"interactionType\": 1, \"questionType\": 2, \"questionId\": \"5_Q5\", \"learnToolsVersion\": \"0.3.4\", \"failureMessage\": \"\", \"exceptionClass\": \"\", \"trace\": \"\"}}, \"*\")"
      ],
      "text/plain": [
       "<IPython.core.display.Javascript object>"
      ]
     },
     "metadata": {},
     "output_type": "display_data"
    },
    {
     "data": {
      "text/markdown": [
       "<span style=\"color:#33cc33\">Correct</span>"
      ],
      "text/plain": [
       "Correct"
      ]
     },
     "metadata": {},
     "output_type": "display_data"
    }
   ],
   "source": [
    "X_5 = pd.DataFrame()\n",
    "\n",
    "# YOUR CODE HERE\n",
    "X_5[\"MedNhbdArea\"] = (\n",
    "    X.groupby(\"Neighborhood\")\n",
    "    [\"GrLivArea\"]\n",
    "    .transform(\"median\"))\n",
    "\n",
    "# Check your answer\n",
    "q_5.check()"
   ]
  },
  {
   "cell_type": "code",
   "execution_count": 17,
   "id": "a8bb518c",
   "metadata": {
    "execution": {
     "iopub.execute_input": "2022-05-27T14:50:09.612957Z",
     "iopub.status.busy": "2022-05-27T14:50:09.612240Z",
     "iopub.status.idle": "2022-05-27T14:50:09.621445Z",
     "shell.execute_reply": "2022-05-27T14:50:09.620312Z"
    },
    "papermill": {
     "duration": 0.023359,
     "end_time": "2022-05-27T14:50:09.623572",
     "exception": false,
     "start_time": "2022-05-27T14:50:09.600213",
     "status": "completed"
    },
    "tags": []
   },
   "outputs": [
    {
     "data": {
      "text/plain": [
       "array([1200. , 1560. , 1767. , 1632. , 1555. , 1092. , 1322. , 1832. ,\n",
       "       1455.5, 2418. , 1575. , 1052. , 1226. , 1231. , 1374. , 1128. ,\n",
       "       1694. , 1536.5, 1195.5, 1504. , 1648. , 1118. , 1282. , 1650.5,\n",
       "       1706.5, 1398.5, 1320. ])"
      ]
     },
     "execution_count": 17,
     "metadata": {},
     "output_type": "execute_result"
    }
   ],
   "source": [
    "X_5.MedNhbdArea.unique()"
   ]
  },
  {
   "cell_type": "code",
   "execution_count": 18,
   "id": "190a2170",
   "metadata": {
    "execution": {
     "iopub.execute_input": "2022-05-27T14:50:09.647037Z",
     "iopub.status.busy": "2022-05-27T14:50:09.646622Z",
     "iopub.status.idle": "2022-05-27T14:50:09.650424Z",
     "shell.execute_reply": "2022-05-27T14:50:09.649790Z"
    },
    "lines_to_next_cell": 0,
    "papermill": {
     "duration": 0.017898,
     "end_time": "2022-05-27T14:50:09.652386",
     "exception": false,
     "start_time": "2022-05-27T14:50:09.634488",
     "status": "completed"
    },
    "tags": []
   },
   "outputs": [],
   "source": [
    "# Lines below will give you a hint or solution code\n",
    "#q_5.hint()\n",
    "#q_5.solution()"
   ]
  },
  {
   "cell_type": "markdown",
   "id": "98bec560",
   "metadata": {
    "papermill": {
     "duration": 0.010659,
     "end_time": "2022-05-27T14:50:09.673922",
     "exception": false,
     "start_time": "2022-05-27T14:50:09.663263",
     "status": "completed"
    },
    "tags": []
   },
   "source": [
    "Now you've made your first new feature set! If you like, you can run the cell below to score the model with all of your new features added:"
   ]
  },
  {
   "cell_type": "code",
   "execution_count": 19,
   "id": "1d4377b5",
   "metadata": {
    "execution": {
     "iopub.execute_input": "2022-05-27T14:50:09.697981Z",
     "iopub.status.busy": "2022-05-27T14:50:09.697260Z",
     "iopub.status.idle": "2022-05-27T14:50:14.386552Z",
     "shell.execute_reply": "2022-05-27T14:50:14.385746Z"
    },
    "papermill": {
     "duration": 4.704415,
     "end_time": "2022-05-27T14:50:14.389172",
     "exception": false,
     "start_time": "2022-05-27T14:50:09.684757",
     "status": "completed"
    },
    "tags": []
   },
   "outputs": [
    {
     "data": {
      "text/plain": [
       "0.13847331710099203"
      ]
     },
     "execution_count": 19,
     "metadata": {},
     "output_type": "execute_result"
    }
   ],
   "source": [
    "X_new = X.join([X_1, X_2, X_3, X_4, X_5])\n",
    "score_dataset(X_new, y)"
   ]
  },
  {
   "cell_type": "markdown",
   "id": "3629d383",
   "metadata": {
    "papermill": {
     "duration": 0.011009,
     "end_time": "2022-05-27T14:50:14.412755",
     "exception": false,
     "start_time": "2022-05-27T14:50:14.401746",
     "status": "completed"
    },
    "tags": []
   },
   "source": [
    "# Keep Going #\n",
    "\n",
    "[**Untangle spatial relationships**](https://www.kaggle.com/ryanholbrook/clustering-with-k-means) by adding cluster labels to your dataset."
   ]
  },
  {
   "cell_type": "markdown",
   "id": "0478903a",
   "metadata": {
    "papermill": {
     "duration": 0.011083,
     "end_time": "2022-05-27T14:50:14.435195",
     "exception": false,
     "start_time": "2022-05-27T14:50:14.424112",
     "status": "completed"
    },
    "tags": []
   },
   "source": [
    "---\n",
    "\n",
    "\n",
    "\n",
    "\n",
    "*Have questions or comments? Visit the [course discussion forum](https://www.kaggle.com/learn/feature-engineering/discussion) to chat with other learners.*"
   ]
  }
 ],
 "metadata": {
  "kernelspec": {
   "display_name": "Python 3",
   "language": "python",
   "name": "python3"
  },
  "language_info": {
   "codemirror_mode": {
    "name": "ipython",
    "version": 3
   },
   "file_extension": ".py",
   "mimetype": "text/x-python",
   "name": "python",
   "nbconvert_exporter": "python",
   "pygments_lexer": "ipython3",
   "version": "3.7.12"
  },
  "papermill": {
   "default_parameters": {},
   "duration": 18.608605,
   "end_time": "2022-05-27T14:50:15.169119",
   "environment_variables": {},
   "exception": null,
   "input_path": "__notebook__.ipynb",
   "output_path": "__notebook__.ipynb",
   "parameters": {},
   "start_time": "2022-05-27T14:49:56.560514",
   "version": "2.3.4"
  }
 },
 "nbformat": 4,
 "nbformat_minor": 5
}
