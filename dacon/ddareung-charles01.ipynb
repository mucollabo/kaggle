{
 "cells": [
  {
   "cell_type": "markdown",
   "id": "d1a7efd8",
   "metadata": {
    "id": "vPJ9jVBtNLHm",
    "papermill": {
     "duration": 0.007506,
     "end_time": "2022-07-04T02:35:51.801863",
     "exception": false,
     "start_time": "2022-07-04T02:35:51.794357",
     "status": "completed"
    },
    "tags": []
   },
   "source": [
    "## 라이브러리 로딩"
   ]
  },
  {
   "cell_type": "code",
   "execution_count": 1,
   "id": "1356b8fe",
   "metadata": {
    "execution": {
     "iopub.execute_input": "2022-07-04T02:35:51.817445Z",
     "iopub.status.busy": "2022-07-04T02:35:51.816639Z",
     "iopub.status.idle": "2022-07-04T02:35:51.837344Z",
     "shell.execute_reply": "2022-07-04T02:35:51.836504Z"
    },
    "papermill": {
     "duration": 0.032551,
     "end_time": "2022-07-04T02:35:51.841017",
     "exception": false,
     "start_time": "2022-07-04T02:35:51.808466",
     "status": "completed"
    },
    "tags": []
   },
   "outputs": [
    {
     "name": "stdout",
     "output_type": "stream",
     "text": [
      "/kaggle/input/ddareung/submission.csv\n",
      "/kaggle/input/ddareung/train.csv\n",
      "/kaggle/input/ddareung/test.csv\n"
     ]
    }
   ],
   "source": [
    "import os\n",
    "for dirname, _, filenames in os.walk('/kaggle/input'):\n",
    "    for filename in filenames:\n",
    "        print(os.path.join(dirname, filename))"
   ]
  },
  {
   "cell_type": "code",
   "execution_count": 2,
   "id": "e291fc68",
   "metadata": {
    "execution": {
     "iopub.execute_input": "2022-07-04T02:35:51.857034Z",
     "iopub.status.busy": "2022-07-04T02:35:51.856292Z",
     "iopub.status.idle": "2022-07-04T02:35:53.287906Z",
     "shell.execute_reply": "2022-07-04T02:35:53.286583Z"
    },
    "id": "v-zC2rkdKDcI",
    "papermill": {
     "duration": 1.442714,
     "end_time": "2022-07-04T02:35:53.291107",
     "exception": false,
     "start_time": "2022-07-04T02:35:51.848393",
     "status": "completed"
    },
    "tags": []
   },
   "outputs": [],
   "source": [
    "import numpy as np\n",
    "import pandas as pd\n",
    "from sklearn.ensemble import RandomForestRegressor"
   ]
  },
  {
   "cell_type": "markdown",
   "id": "242a0778",
   "metadata": {
    "id": "v8i_07N4LCku",
    "papermill": {
     "duration": 0.006419,
     "end_time": "2022-07-04T02:35:53.304251",
     "exception": false,
     "start_time": "2022-07-04T02:35:53.297832",
     "status": "completed"
    },
    "tags": []
   },
   "source": [
    "## 데이터 로딩 및 확인"
   ]
  },
  {
   "cell_type": "code",
   "execution_count": 3,
   "id": "31e07552",
   "metadata": {
    "execution": {
     "iopub.execute_input": "2022-07-04T02:35:53.320515Z",
     "iopub.status.busy": "2022-07-04T02:35:53.319919Z",
     "iopub.status.idle": "2022-07-04T02:35:53.349930Z",
     "shell.execute_reply": "2022-07-04T02:35:53.348722Z"
    },
    "id": "to0uUNr6KHoq",
    "papermill": {
     "duration": 0.041584,
     "end_time": "2022-07-04T02:35:53.353139",
     "exception": false,
     "start_time": "2022-07-04T02:35:53.311555",
     "status": "completed"
    },
    "tags": []
   },
   "outputs": [],
   "source": [
    "train = pd.read_csv('../input/ddareung/train.csv') \n",
    "test = pd.read_csv('../input/ddareung/test.csv')"
   ]
  },
  {
   "cell_type": "code",
   "execution_count": 4,
   "id": "06bf781d",
   "metadata": {
    "execution": {
     "iopub.execute_input": "2022-07-04T02:35:53.368543Z",
     "iopub.status.busy": "2022-07-04T02:35:53.368139Z",
     "iopub.status.idle": "2022-07-04T02:35:53.399036Z",
     "shell.execute_reply": "2022-07-04T02:35:53.397384Z"
    },
    "id": "f_vUhom0LGUv",
    "outputId": "4a79757a-8728-4eb9-b856-c338c92f9cdb",
    "papermill": {
     "duration": 0.041351,
     "end_time": "2022-07-04T02:35:53.401609",
     "exception": false,
     "start_time": "2022-07-04T02:35:53.360258",
     "status": "completed"
    },
    "tags": []
   },
   "outputs": [
    {
     "name": "stdout",
     "output_type": "stream",
     "text": [
      "<class 'pandas.core.frame.DataFrame'>\n",
      "RangeIndex: 1459 entries, 0 to 1458\n",
      "Data columns (total 11 columns):\n",
      " #   Column                  Non-Null Count  Dtype  \n",
      "---  ------                  --------------  -----  \n",
      " 0   id                      1459 non-null   int64  \n",
      " 1   hour                    1459 non-null   int64  \n",
      " 2   hour_bef_temperature    1457 non-null   float64\n",
      " 3   hour_bef_precipitation  1457 non-null   float64\n",
      " 4   hour_bef_windspeed      1450 non-null   float64\n",
      " 5   hour_bef_humidity       1457 non-null   float64\n",
      " 6   hour_bef_visibility     1457 non-null   float64\n",
      " 7   hour_bef_ozone          1383 non-null   float64\n",
      " 8   hour_bef_pm10           1369 non-null   float64\n",
      " 9   hour_bef_pm2.5          1342 non-null   float64\n",
      " 10  count                   1459 non-null   float64\n",
      "dtypes: float64(9), int64(2)\n",
      "memory usage: 125.5 KB\n"
     ]
    }
   ],
   "source": [
    "train.info()"
   ]
  },
  {
   "cell_type": "code",
   "execution_count": 5,
   "id": "bbd0e18e",
   "metadata": {
    "execution": {
     "iopub.execute_input": "2022-07-04T02:35:53.418628Z",
     "iopub.status.busy": "2022-07-04T02:35:53.417990Z",
     "iopub.status.idle": "2022-07-04T02:35:53.446149Z",
     "shell.execute_reply": "2022-07-04T02:35:53.445165Z"
    },
    "id": "__07tYh_KIZ9",
    "outputId": "ad9c8c05-f599-469b-ffa2-daa343fa061e",
    "papermill": {
     "duration": 0.040268,
     "end_time": "2022-07-04T02:35:53.448760",
     "exception": false,
     "start_time": "2022-07-04T02:35:53.408492",
     "status": "completed"
    },
    "tags": []
   },
   "outputs": [
    {
     "data": {
      "text/html": [
       "<div>\n",
       "<style scoped>\n",
       "    .dataframe tbody tr th:only-of-type {\n",
       "        vertical-align: middle;\n",
       "    }\n",
       "\n",
       "    .dataframe tbody tr th {\n",
       "        vertical-align: top;\n",
       "    }\n",
       "\n",
       "    .dataframe thead th {\n",
       "        text-align: right;\n",
       "    }\n",
       "</style>\n",
       "<table border=\"1\" class=\"dataframe\">\n",
       "  <thead>\n",
       "    <tr style=\"text-align: right;\">\n",
       "      <th></th>\n",
       "      <th>id</th>\n",
       "      <th>hour</th>\n",
       "      <th>hour_bef_temperature</th>\n",
       "      <th>hour_bef_precipitation</th>\n",
       "      <th>hour_bef_windspeed</th>\n",
       "      <th>hour_bef_humidity</th>\n",
       "      <th>hour_bef_visibility</th>\n",
       "      <th>hour_bef_ozone</th>\n",
       "      <th>hour_bef_pm10</th>\n",
       "      <th>hour_bef_pm2.5</th>\n",
       "      <th>count</th>\n",
       "    </tr>\n",
       "  </thead>\n",
       "  <tbody>\n",
       "    <tr>\n",
       "      <th>0</th>\n",
       "      <td>3</td>\n",
       "      <td>20</td>\n",
       "      <td>16.3</td>\n",
       "      <td>1.0</td>\n",
       "      <td>1.5</td>\n",
       "      <td>89.0</td>\n",
       "      <td>576.0</td>\n",
       "      <td>0.027</td>\n",
       "      <td>76.0</td>\n",
       "      <td>33.0</td>\n",
       "      <td>49.0</td>\n",
       "    </tr>\n",
       "    <tr>\n",
       "      <th>1</th>\n",
       "      <td>6</td>\n",
       "      <td>13</td>\n",
       "      <td>20.1</td>\n",
       "      <td>0.0</td>\n",
       "      <td>1.4</td>\n",
       "      <td>48.0</td>\n",
       "      <td>916.0</td>\n",
       "      <td>0.042</td>\n",
       "      <td>73.0</td>\n",
       "      <td>40.0</td>\n",
       "      <td>159.0</td>\n",
       "    </tr>\n",
       "    <tr>\n",
       "      <th>2</th>\n",
       "      <td>7</td>\n",
       "      <td>6</td>\n",
       "      <td>13.9</td>\n",
       "      <td>0.0</td>\n",
       "      <td>0.7</td>\n",
       "      <td>79.0</td>\n",
       "      <td>1382.0</td>\n",
       "      <td>0.033</td>\n",
       "      <td>32.0</td>\n",
       "      <td>19.0</td>\n",
       "      <td>26.0</td>\n",
       "    </tr>\n",
       "    <tr>\n",
       "      <th>3</th>\n",
       "      <td>8</td>\n",
       "      <td>23</td>\n",
       "      <td>8.1</td>\n",
       "      <td>0.0</td>\n",
       "      <td>2.7</td>\n",
       "      <td>54.0</td>\n",
       "      <td>946.0</td>\n",
       "      <td>0.040</td>\n",
       "      <td>75.0</td>\n",
       "      <td>64.0</td>\n",
       "      <td>57.0</td>\n",
       "    </tr>\n",
       "    <tr>\n",
       "      <th>4</th>\n",
       "      <td>9</td>\n",
       "      <td>18</td>\n",
       "      <td>29.5</td>\n",
       "      <td>0.0</td>\n",
       "      <td>4.8</td>\n",
       "      <td>7.0</td>\n",
       "      <td>2000.0</td>\n",
       "      <td>0.057</td>\n",
       "      <td>27.0</td>\n",
       "      <td>11.0</td>\n",
       "      <td>431.0</td>\n",
       "    </tr>\n",
       "  </tbody>\n",
       "</table>\n",
       "</div>"
      ],
      "text/plain": [
       "   id  hour  hour_bef_temperature  hour_bef_precipitation  hour_bef_windspeed  \\\n",
       "0   3    20                  16.3                     1.0                 1.5   \n",
       "1   6    13                  20.1                     0.0                 1.4   \n",
       "2   7     6                  13.9                     0.0                 0.7   \n",
       "3   8    23                   8.1                     0.0                 2.7   \n",
       "4   9    18                  29.5                     0.0                 4.8   \n",
       "\n",
       "   hour_bef_humidity  hour_bef_visibility  hour_bef_ozone  hour_bef_pm10  \\\n",
       "0               89.0                576.0           0.027           76.0   \n",
       "1               48.0                916.0           0.042           73.0   \n",
       "2               79.0               1382.0           0.033           32.0   \n",
       "3               54.0                946.0           0.040           75.0   \n",
       "4                7.0               2000.0           0.057           27.0   \n",
       "\n",
       "   hour_bef_pm2.5  count  \n",
       "0            33.0   49.0  \n",
       "1            40.0  159.0  \n",
       "2            19.0   26.0  \n",
       "3            64.0   57.0  \n",
       "4            11.0  431.0  "
      ]
     },
     "execution_count": 5,
     "metadata": {},
     "output_type": "execute_result"
    }
   ],
   "source": [
    "train.head()"
   ]
  },
  {
   "cell_type": "code",
   "execution_count": 6,
   "id": "dd5b063a",
   "metadata": {
    "execution": {
     "iopub.execute_input": "2022-07-04T02:35:53.465729Z",
     "iopub.status.busy": "2022-07-04T02:35:53.465069Z",
     "iopub.status.idle": "2022-07-04T02:35:53.482725Z",
     "shell.execute_reply": "2022-07-04T02:35:53.481799Z"
    },
    "id": "pVxYli5iKLuf",
    "outputId": "9fd28f2b-9c35-46ff-bbd9-7fe251000784",
    "papermill": {
     "duration": 0.029546,
     "end_time": "2022-07-04T02:35:53.485658",
     "exception": false,
     "start_time": "2022-07-04T02:35:53.456112",
     "status": "completed"
    },
    "tags": []
   },
   "outputs": [
    {
     "data": {
      "text/html": [
       "<div>\n",
       "<style scoped>\n",
       "    .dataframe tbody tr th:only-of-type {\n",
       "        vertical-align: middle;\n",
       "    }\n",
       "\n",
       "    .dataframe tbody tr th {\n",
       "        vertical-align: top;\n",
       "    }\n",
       "\n",
       "    .dataframe thead th {\n",
       "        text-align: right;\n",
       "    }\n",
       "</style>\n",
       "<table border=\"1\" class=\"dataframe\">\n",
       "  <thead>\n",
       "    <tr style=\"text-align: right;\">\n",
       "      <th></th>\n",
       "      <th>id</th>\n",
       "      <th>hour</th>\n",
       "      <th>hour_bef_temperature</th>\n",
       "      <th>hour_bef_precipitation</th>\n",
       "      <th>hour_bef_windspeed</th>\n",
       "      <th>hour_bef_humidity</th>\n",
       "      <th>hour_bef_visibility</th>\n",
       "      <th>hour_bef_ozone</th>\n",
       "      <th>hour_bef_pm10</th>\n",
       "      <th>hour_bef_pm2.5</th>\n",
       "    </tr>\n",
       "  </thead>\n",
       "  <tbody>\n",
       "    <tr>\n",
       "      <th>0</th>\n",
       "      <td>0</td>\n",
       "      <td>7</td>\n",
       "      <td>20.7</td>\n",
       "      <td>0.0</td>\n",
       "      <td>1.3</td>\n",
       "      <td>62.0</td>\n",
       "      <td>954.0</td>\n",
       "      <td>0.041</td>\n",
       "      <td>44.0</td>\n",
       "      <td>27.0</td>\n",
       "    </tr>\n",
       "    <tr>\n",
       "      <th>1</th>\n",
       "      <td>1</td>\n",
       "      <td>17</td>\n",
       "      <td>30.0</td>\n",
       "      <td>0.0</td>\n",
       "      <td>5.4</td>\n",
       "      <td>33.0</td>\n",
       "      <td>1590.0</td>\n",
       "      <td>0.061</td>\n",
       "      <td>49.0</td>\n",
       "      <td>36.0</td>\n",
       "    </tr>\n",
       "    <tr>\n",
       "      <th>2</th>\n",
       "      <td>2</td>\n",
       "      <td>13</td>\n",
       "      <td>19.0</td>\n",
       "      <td>1.0</td>\n",
       "      <td>2.1</td>\n",
       "      <td>95.0</td>\n",
       "      <td>193.0</td>\n",
       "      <td>0.020</td>\n",
       "      <td>36.0</td>\n",
       "      <td>28.0</td>\n",
       "    </tr>\n",
       "    <tr>\n",
       "      <th>3</th>\n",
       "      <td>4</td>\n",
       "      <td>6</td>\n",
       "      <td>22.5</td>\n",
       "      <td>0.0</td>\n",
       "      <td>2.5</td>\n",
       "      <td>60.0</td>\n",
       "      <td>1185.0</td>\n",
       "      <td>0.027</td>\n",
       "      <td>52.0</td>\n",
       "      <td>38.0</td>\n",
       "    </tr>\n",
       "    <tr>\n",
       "      <th>4</th>\n",
       "      <td>5</td>\n",
       "      <td>22</td>\n",
       "      <td>14.6</td>\n",
       "      <td>1.0</td>\n",
       "      <td>3.4</td>\n",
       "      <td>93.0</td>\n",
       "      <td>218.0</td>\n",
       "      <td>0.041</td>\n",
       "      <td>18.0</td>\n",
       "      <td>15.0</td>\n",
       "    </tr>\n",
       "  </tbody>\n",
       "</table>\n",
       "</div>"
      ],
      "text/plain": [
       "   id  hour  hour_bef_temperature  hour_bef_precipitation  hour_bef_windspeed  \\\n",
       "0   0     7                  20.7                     0.0                 1.3   \n",
       "1   1    17                  30.0                     0.0                 5.4   \n",
       "2   2    13                  19.0                     1.0                 2.1   \n",
       "3   4     6                  22.5                     0.0                 2.5   \n",
       "4   5    22                  14.6                     1.0                 3.4   \n",
       "\n",
       "   hour_bef_humidity  hour_bef_visibility  hour_bef_ozone  hour_bef_pm10  \\\n",
       "0               62.0                954.0           0.041           44.0   \n",
       "1               33.0               1590.0           0.061           49.0   \n",
       "2               95.0                193.0           0.020           36.0   \n",
       "3               60.0               1185.0           0.027           52.0   \n",
       "4               93.0                218.0           0.041           18.0   \n",
       "\n",
       "   hour_bef_pm2.5  \n",
       "0            27.0  \n",
       "1            36.0  \n",
       "2            28.0  \n",
       "3            38.0  \n",
       "4            15.0  "
      ]
     },
     "execution_count": 6,
     "metadata": {},
     "output_type": "execute_result"
    }
   ],
   "source": [
    "test.head()"
   ]
  },
  {
   "cell_type": "markdown",
   "id": "5b804a39",
   "metadata": {
    "id": "7T4NNGQbKT52",
    "papermill": {
     "duration": 0.007425,
     "end_time": "2022-07-04T02:35:53.500554",
     "exception": false,
     "start_time": "2022-07-04T02:35:53.493129",
     "status": "completed"
    },
    "tags": []
   },
   "source": [
    "## 결측치 확인 및 처리"
   ]
  },
  {
   "cell_type": "code",
   "execution_count": 7,
   "id": "b79a275e",
   "metadata": {
    "execution": {
     "iopub.execute_input": "2022-07-04T02:35:53.518224Z",
     "iopub.status.busy": "2022-07-04T02:35:53.517383Z",
     "iopub.status.idle": "2022-07-04T02:35:53.529149Z",
     "shell.execute_reply": "2022-07-04T02:35:53.527786Z"
    },
    "id": "Pdj-uplvKMsH",
    "outputId": "3da8274c-1e55-408d-917a-4e9502961959",
    "papermill": {
     "duration": 0.023833,
     "end_time": "2022-07-04T02:35:53.531720",
     "exception": false,
     "start_time": "2022-07-04T02:35:53.507887",
     "status": "completed"
    },
    "tags": []
   },
   "outputs": [
    {
     "data": {
      "text/plain": [
       "id                          0\n",
       "hour                        0\n",
       "hour_bef_temperature        2\n",
       "hour_bef_precipitation      2\n",
       "hour_bef_windspeed          9\n",
       "hour_bef_humidity           2\n",
       "hour_bef_visibility         2\n",
       "hour_bef_ozone             76\n",
       "hour_bef_pm10              90\n",
       "hour_bef_pm2.5            117\n",
       "count                       0\n",
       "dtype: int64"
      ]
     },
     "execution_count": 7,
     "metadata": {},
     "output_type": "execute_result"
    }
   ],
   "source": [
    "train.isnull().sum()"
   ]
  },
  {
   "cell_type": "code",
   "execution_count": 8,
   "id": "4cf241e2",
   "metadata": {
    "execution": {
     "iopub.execute_input": "2022-07-04T02:35:53.549034Z",
     "iopub.status.busy": "2022-07-04T02:35:53.548550Z",
     "iopub.status.idle": "2022-07-04T02:35:53.558256Z",
     "shell.execute_reply": "2022-07-04T02:35:53.557029Z"
    },
    "id": "J4VedGdkKOFe",
    "outputId": "322a3830-b70d-4254-8c33-83afd7088788",
    "papermill": {
     "duration": 0.021433,
     "end_time": "2022-07-04T02:35:53.560521",
     "exception": false,
     "start_time": "2022-07-04T02:35:53.539088",
     "status": "completed"
    },
    "tags": []
   },
   "outputs": [
    {
     "data": {
      "text/plain": [
       "id                         0\n",
       "hour                       0\n",
       "hour_bef_temperature       1\n",
       "hour_bef_precipitation     1\n",
       "hour_bef_windspeed         1\n",
       "hour_bef_humidity          1\n",
       "hour_bef_visibility        1\n",
       "hour_bef_ozone            35\n",
       "hour_bef_pm10             37\n",
       "hour_bef_pm2.5            36\n",
       "dtype: int64"
      ]
     },
     "execution_count": 8,
     "metadata": {},
     "output_type": "execute_result"
    }
   ],
   "source": [
    "test.isnull().sum()"
   ]
  },
  {
   "cell_type": "code",
   "execution_count": 9,
   "id": "676d1b79",
   "metadata": {
    "execution": {
     "iopub.execute_input": "2022-07-04T02:35:53.578769Z",
     "iopub.status.busy": "2022-07-04T02:35:53.578349Z",
     "iopub.status.idle": "2022-07-04T02:35:53.586036Z",
     "shell.execute_reply": "2022-07-04T02:35:53.585036Z"
    },
    "id": "M_-tgG09KQRC",
    "papermill": {
     "duration": 0.020404,
     "end_time": "2022-07-04T02:35:53.588605",
     "exception": false,
     "start_time": "2022-07-04T02:35:53.568201",
     "status": "completed"
    },
    "tags": []
   },
   "outputs": [],
   "source": [
    "train.fillna(0,inplace = True)\n",
    "test.fillna(0,inplace = True)"
   ]
  },
  {
   "cell_type": "code",
   "execution_count": 10,
   "id": "b54453fd",
   "metadata": {
    "execution": {
     "iopub.execute_input": "2022-07-04T02:35:53.605973Z",
     "iopub.status.busy": "2022-07-04T02:35:53.605220Z",
     "iopub.status.idle": "2022-07-04T02:35:53.618409Z",
     "shell.execute_reply": "2022-07-04T02:35:53.617187Z"
    },
    "papermill": {
     "duration": 0.025148,
     "end_time": "2022-07-04T02:35:53.621381",
     "exception": false,
     "start_time": "2022-07-04T02:35:53.596233",
     "status": "completed"
    },
    "tags": []
   },
   "outputs": [
    {
     "name": "stdout",
     "output_type": "stream",
     "text": [
      "<class 'pandas.core.frame.DataFrame'>\n",
      "RangeIndex: 1459 entries, 0 to 1458\n",
      "Data columns (total 11 columns):\n",
      " #   Column                  Non-Null Count  Dtype  \n",
      "---  ------                  --------------  -----  \n",
      " 0   id                      1459 non-null   int64  \n",
      " 1   hour                    1459 non-null   int64  \n",
      " 2   hour_bef_temperature    1459 non-null   float64\n",
      " 3   hour_bef_precipitation  1459 non-null   float64\n",
      " 4   hour_bef_windspeed      1459 non-null   float64\n",
      " 5   hour_bef_humidity       1459 non-null   float64\n",
      " 6   hour_bef_visibility     1459 non-null   float64\n",
      " 7   hour_bef_ozone          1459 non-null   float64\n",
      " 8   hour_bef_pm10           1459 non-null   float64\n",
      " 9   hour_bef_pm2.5          1459 non-null   float64\n",
      " 10  count                   1459 non-null   float64\n",
      "dtypes: float64(9), int64(2)\n",
      "memory usage: 125.5 KB\n"
     ]
    }
   ],
   "source": [
    "train.info()"
   ]
  },
  {
   "cell_type": "code",
   "execution_count": 11,
   "id": "b7928c49",
   "metadata": {
    "execution": {
     "iopub.execute_input": "2022-07-04T02:35:53.639031Z",
     "iopub.status.busy": "2022-07-04T02:35:53.638621Z",
     "iopub.status.idle": "2022-07-04T02:35:53.651356Z",
     "shell.execute_reply": "2022-07-04T02:35:53.650276Z"
    },
    "papermill": {
     "duration": 0.025569,
     "end_time": "2022-07-04T02:35:53.655048",
     "exception": false,
     "start_time": "2022-07-04T02:35:53.629479",
     "status": "completed"
    },
    "tags": []
   },
   "outputs": [
    {
     "name": "stdout",
     "output_type": "stream",
     "text": [
      "<class 'pandas.core.frame.DataFrame'>\n",
      "RangeIndex: 715 entries, 0 to 714\n",
      "Data columns (total 10 columns):\n",
      " #   Column                  Non-Null Count  Dtype  \n",
      "---  ------                  --------------  -----  \n",
      " 0   id                      715 non-null    int64  \n",
      " 1   hour                    715 non-null    int64  \n",
      " 2   hour_bef_temperature    715 non-null    float64\n",
      " 3   hour_bef_precipitation  715 non-null    float64\n",
      " 4   hour_bef_windspeed      715 non-null    float64\n",
      " 5   hour_bef_humidity       715 non-null    float64\n",
      " 6   hour_bef_visibility     715 non-null    float64\n",
      " 7   hour_bef_ozone          715 non-null    float64\n",
      " 8   hour_bef_pm10           715 non-null    float64\n",
      " 9   hour_bef_pm2.5          715 non-null    float64\n",
      "dtypes: float64(8), int64(2)\n",
      "memory usage: 56.0 KB\n"
     ]
    }
   ],
   "source": [
    "test.info()"
   ]
  },
  {
   "cell_type": "markdown",
   "id": "8ddcdded",
   "metadata": {
    "id": "WFmBcnx2LLDe",
    "papermill": {
     "duration": 0.007742,
     "end_time": "2022-07-04T02:35:53.670617",
     "exception": false,
     "start_time": "2022-07-04T02:35:53.662875",
     "status": "completed"
    },
    "tags": []
   },
   "source": [
    "## 모델 정의 및 학습"
   ]
  },
  {
   "cell_type": "code",
   "execution_count": 12,
   "id": "0ae37c01",
   "metadata": {
    "execution": {
     "iopub.execute_input": "2022-07-04T02:35:53.688511Z",
     "iopub.status.busy": "2022-07-04T02:35:53.687748Z",
     "iopub.status.idle": "2022-07-04T02:35:53.695486Z",
     "shell.execute_reply": "2022-07-04T02:35:53.694700Z"
    },
    "id": "VALRp2K-LUBn",
    "papermill": {
     "duration": 0.019359,
     "end_time": "2022-07-04T02:35:53.697845",
     "exception": false,
     "start_time": "2022-07-04T02:35:53.678486",
     "status": "completed"
    },
    "tags": []
   },
   "outputs": [],
   "source": [
    "train_x = train.drop(['count'],axis = 1)\n",
    "train_y = train['count']"
   ]
  },
  {
   "cell_type": "code",
   "execution_count": 13,
   "id": "0d20e4af",
   "metadata": {
    "execution": {
     "iopub.execute_input": "2022-07-04T02:35:53.716452Z",
     "iopub.status.busy": "2022-07-04T02:35:53.715640Z",
     "iopub.status.idle": "2022-07-04T02:35:54.509753Z",
     "shell.execute_reply": "2022-07-04T02:35:54.508528Z"
    },
    "id": "WZ5MuARhLPX7",
    "outputId": "5d0f5f9b-f558-412f-a3c0-f2e0ce3ce3c9",
    "papermill": {
     "duration": 0.80681,
     "end_time": "2022-07-04T02:35:54.512345",
     "exception": false,
     "start_time": "2022-07-04T02:35:53.705535",
     "status": "completed"
    },
    "tags": []
   },
   "outputs": [
    {
     "data": {
      "text/plain": [
       "RandomForestRegressor()"
      ]
     },
     "execution_count": 13,
     "metadata": {},
     "output_type": "execute_result"
    }
   ],
   "source": [
    "model=RandomForestRegressor(n_estimators=100)\n",
    "model.fit(train_x,train_y)"
   ]
  },
  {
   "cell_type": "markdown",
   "id": "cd5235ce",
   "metadata": {
    "id": "jN5oDFfCL7fc",
    "papermill": {
     "duration": 0.007658,
     "end_time": "2022-07-04T02:35:54.528095",
     "exception": false,
     "start_time": "2022-07-04T02:35:54.520437",
     "status": "completed"
    },
    "tags": []
   },
   "source": [
    "## 학습 된 모델로 예측 데이터 생성"
   ]
  },
  {
   "cell_type": "code",
   "execution_count": 14,
   "id": "0d0b1128",
   "metadata": {
    "execution": {
     "iopub.execute_input": "2022-07-04T02:35:54.545515Z",
     "iopub.status.busy": "2022-07-04T02:35:54.545141Z",
     "iopub.status.idle": "2022-07-04T02:35:54.573749Z",
     "shell.execute_reply": "2022-07-04T02:35:54.572911Z"
    },
    "id": "ITPZ9W3fLkPf",
    "papermill": {
     "duration": 0.040032,
     "end_time": "2022-07-04T02:35:54.576045",
     "exception": false,
     "start_time": "2022-07-04T02:35:54.536013",
     "status": "completed"
    },
    "tags": []
   },
   "outputs": [],
   "source": [
    "pred = model.predict(test)"
   ]
  },
  {
   "cell_type": "markdown",
   "id": "e0c1b09f",
   "metadata": {
    "id": "8cmQhhzjL-MD",
    "papermill": {
     "duration": 0.007466,
     "end_time": "2022-07-04T02:35:54.591414",
     "exception": false,
     "start_time": "2022-07-04T02:35:54.583948",
     "status": "completed"
    },
    "tags": []
   },
   "source": [
    "## 제출파일 생성"
   ]
  },
  {
   "cell_type": "code",
   "execution_count": 15,
   "id": "f57960d5",
   "metadata": {
    "execution": {
     "iopub.execute_input": "2022-07-04T02:35:54.609396Z",
     "iopub.status.busy": "2022-07-04T02:35:54.608426Z",
     "iopub.status.idle": "2022-07-04T02:35:54.613591Z",
     "shell.execute_reply": "2022-07-04T02:35:54.612323Z"
    },
    "id": "HC_74SxhLozW",
    "outputId": "4059a217-b6dd-4783-aee3-46acda2e8d63",
    "papermill": {
     "duration": 0.016863,
     "end_time": "2022-07-04T02:35:54.616108",
     "exception": false,
     "start_time": "2022-07-04T02:35:54.599245",
     "status": "completed"
    },
    "tags": []
   },
   "outputs": [],
   "source": [
    "# submission = pd.read_csv('/content/data/submission.csv')\n",
    "# submission"
   ]
  },
  {
   "cell_type": "code",
   "execution_count": 16,
   "id": "4f8d46a4",
   "metadata": {
    "execution": {
     "iopub.execute_input": "2022-07-04T02:35:54.634049Z",
     "iopub.status.busy": "2022-07-04T02:35:54.633238Z",
     "iopub.status.idle": "2022-07-04T02:35:54.638030Z",
     "shell.execute_reply": "2022-07-04T02:35:54.636895Z"
    },
    "id": "erbo9F9dLuzX",
    "papermill": {
     "duration": 0.016206,
     "end_time": "2022-07-04T02:35:54.640321",
     "exception": false,
     "start_time": "2022-07-04T02:35:54.624115",
     "status": "completed"
    },
    "tags": []
   },
   "outputs": [],
   "source": [
    "# submission['count'] = pred"
   ]
  },
  {
   "cell_type": "code",
   "execution_count": 17,
   "id": "ca8ee136",
   "metadata": {
    "execution": {
     "iopub.execute_input": "2022-07-04T02:35:54.658310Z",
     "iopub.status.busy": "2022-07-04T02:35:54.657618Z",
     "iopub.status.idle": "2022-07-04T02:35:54.661360Z",
     "shell.execute_reply": "2022-07-04T02:35:54.660651Z"
    },
    "id": "Fz5ZjLPgMZ9Z",
    "outputId": "a44bc783-6708-448d-d1ea-b03904dcaf09",
    "papermill": {
     "duration": 0.015135,
     "end_time": "2022-07-04T02:35:54.663295",
     "exception": false,
     "start_time": "2022-07-04T02:35:54.648160",
     "status": "completed"
    },
    "tags": []
   },
   "outputs": [],
   "source": [
    "# submission"
   ]
  },
  {
   "cell_type": "code",
   "execution_count": 18,
   "id": "3a84d67f",
   "metadata": {
    "execution": {
     "iopub.execute_input": "2022-07-04T02:35:54.681859Z",
     "iopub.status.busy": "2022-07-04T02:35:54.681181Z",
     "iopub.status.idle": "2022-07-04T02:35:54.684987Z",
     "shell.execute_reply": "2022-07-04T02:35:54.684094Z"
    },
    "id": "Ggp9jIZ7Lyf6",
    "papermill": {
     "duration": 0.015536,
     "end_time": "2022-07-04T02:35:54.686991",
     "exception": false,
     "start_time": "2022-07-04T02:35:54.671455",
     "status": "completed"
    },
    "tags": []
   },
   "outputs": [],
   "source": [
    "# submission.to_csv('베이스라인.csv',index = False)"
   ]
  }
 ],
 "metadata": {
  "kernelspec": {
   "display_name": "Python 3",
   "language": "python",
   "name": "python3"
  },
  "language_info": {
   "codemirror_mode": {
    "name": "ipython",
    "version": 3
   },
   "file_extension": ".py",
   "mimetype": "text/x-python",
   "name": "python",
   "nbconvert_exporter": "python",
   "pygments_lexer": "ipython3",
   "version": "3.7.12"
  },
  "papermill": {
   "default_parameters": {},
   "duration": 13.820076,
   "end_time": "2022-07-04T02:35:55.416859",
   "environment_variables": {},
   "exception": null,
   "input_path": "__notebook__.ipynb",
   "output_path": "__notebook__.ipynb",
   "parameters": {},
   "start_time": "2022-07-04T02:35:41.596783",
   "version": "2.3.4"
  }
 },
 "nbformat": 4,
 "nbformat_minor": 5
}
