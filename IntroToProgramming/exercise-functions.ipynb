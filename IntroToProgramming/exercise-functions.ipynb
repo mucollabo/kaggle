{
 "cells": [
  {
   "cell_type": "markdown",
   "id": "1999b331",
   "metadata": {
    "papermill": {
     "duration": 0.018519,
     "end_time": "2022-05-18T09:29:41.828306",
     "exception": false,
     "start_time": "2022-05-18T09:29:41.809787",
     "status": "completed"
    },
    "tags": []
   },
   "source": [
    "**This notebook is an exercise in the [Intro to Programming](https://www.kaggle.com/learn/intro-to-programming) course.  You can reference the tutorial at [this link](https://www.kaggle.com/alexisbcook/functions).**\n",
    "\n",
    "---\n"
   ]
  },
  {
   "cell_type": "markdown",
   "id": "46c0dbd8",
   "metadata": {
    "papermill": {
     "duration": 0.018797,
     "end_time": "2022-05-18T09:29:41.864670",
     "exception": false,
     "start_time": "2022-05-18T09:29:41.845873",
     "status": "completed"
    },
    "tags": []
   },
   "source": [
    "In the tutorial, you learned about functions. In this exercise, you'll write some of your own!\n",
    "\n",
    "# Set up the notebook\n",
    "\n",
    "Run the next code cell without changes to set up the notebook."
   ]
  },
  {
   "cell_type": "code",
   "execution_count": 1,
   "id": "5e7c5b3e",
   "metadata": {
    "execution": {
     "iopub.execute_input": "2022-05-18T09:29:41.904324Z",
     "iopub.status.busy": "2022-05-18T09:29:41.903635Z",
     "iopub.status.idle": "2022-05-18T09:29:41.948893Z",
     "shell.execute_reply": "2022-05-18T09:29:41.948248Z"
    },
    "papermill": {
     "duration": 0.068524,
     "end_time": "2022-05-18T09:29:41.951773",
     "exception": false,
     "start_time": "2022-05-18T09:29:41.883249",
     "status": "completed"
    },
    "tags": []
   },
   "outputs": [
    {
     "name": "stdout",
     "output_type": "stream",
     "text": [
      "Setup complete.\n"
     ]
    }
   ],
   "source": [
    "# Set up the exercise\n",
    "import math\n",
    "from learntools.core import binder\n",
    "binder.bind(globals())\n",
    "from learntools.intro_to_programming.ex2 import *\n",
    "print('Setup complete.')"
   ]
  },
  {
   "cell_type": "markdown",
   "id": "c0f18376",
   "metadata": {
    "papermill": {
     "duration": 0.016346,
     "end_time": "2022-05-18T09:29:41.987151",
     "exception": false,
     "start_time": "2022-05-18T09:29:41.970805",
     "status": "completed"
    },
    "tags": []
   },
   "source": [
    "# Question 1\n",
    "\n",
    "In the [House Prices - Advanced Regression Techniques competition](https://www.kaggle.com/c/house-prices-advanced-regression-techniques/overview), you need to use information like the number of bedrooms and bathrooms to predict the price of a house.  Inspired by this competition, you'll write your own function to do this.\n",
    "\n",
    "In the next code cell, create a function `get_expected_cost()` that has two arguments:\n",
    "- `beds` - number of bedrooms \n",
    "- `baths` - number of bathrooms\n",
    "\n",
    "It should return the expected cost of a house with that number of bedrooms and bathrooms.  Assume that:\n",
    "- the expected cost for a house with 0 bedrooms and 0 bathrooms is `80000`.  \n",
    "- each bedroom adds `30000` to the expected cost\n",
    "- each bathroom adds `10000` to the expected cost.\n",
    "\n",
    "For instance, \n",
    "- a house with 1 bedroom and 1 bathroom has an expected cost of `120000`, and \n",
    "- a house with 2 bedrooms and 1 bathroom has an expected cost of `150000`."
   ]
  },
  {
   "cell_type": "code",
   "execution_count": 2,
   "id": "8f5d277c",
   "metadata": {
    "execution": {
     "iopub.execute_input": "2022-05-18T09:29:42.022799Z",
     "iopub.status.busy": "2022-05-18T09:29:42.022347Z",
     "iopub.status.idle": "2022-05-18T09:29:42.030259Z",
     "shell.execute_reply": "2022-05-18T09:29:42.029644Z"
    },
    "papermill": {
     "duration": 0.028182,
     "end_time": "2022-05-18T09:29:42.031901",
     "exception": false,
     "start_time": "2022-05-18T09:29:42.003719",
     "status": "completed"
    },
    "tags": []
   },
   "outputs": [
    {
     "data": {
      "application/javascript": [
       "parent.postMessage({\"jupyterEvent\": \"custom.exercise_interaction\", \"data\": {\"outcomeType\": 1, \"valueTowardsCompletion\": 0.2, \"interactionType\": 1, \"questionType\": 2, \"questionId\": \"1_GetExpectedCost\", \"learnToolsVersion\": \"0.3.4\", \"failureMessage\": \"\", \"exceptionClass\": \"\", \"trace\": \"\"}}, \"*\")"
      ],
      "text/plain": [
       "<IPython.core.display.Javascript object>"
      ]
     },
     "metadata": {},
     "output_type": "display_data"
    },
    {
     "data": {
      "text/markdown": [
       "<span style=\"color:#33cc33\">Correct</span>"
      ],
      "text/plain": [
       "Correct"
      ]
     },
     "metadata": {},
     "output_type": "display_data"
    }
   ],
   "source": [
    "# TODO: Complete the function\n",
    "def get_expected_cost(beds, baths):\n",
    "    value = 80000 + beds * 30000 + baths * 10000\n",
    "    return value\n",
    "\n",
    "# Check your answer \n",
    "q1.check()"
   ]
  },
  {
   "cell_type": "code",
   "execution_count": 3,
   "id": "813c1fa8",
   "metadata": {
    "execution": {
     "iopub.execute_input": "2022-05-18T09:29:42.070514Z",
     "iopub.status.busy": "2022-05-18T09:29:42.070069Z",
     "iopub.status.idle": "2022-05-18T09:29:42.072958Z",
     "shell.execute_reply": "2022-05-18T09:29:42.072329Z"
    },
    "papermill": {
     "duration": 0.025197,
     "end_time": "2022-05-18T09:29:42.074849",
     "exception": false,
     "start_time": "2022-05-18T09:29:42.049652",
     "status": "completed"
    },
    "tags": []
   },
   "outputs": [],
   "source": [
    "# Uncomment to see a hint\n",
    "#q1.hint()\n",
    "\n",
    "# Uncomment to view the solution\n",
    "#q1.solution()"
   ]
  },
  {
   "cell_type": "markdown",
   "id": "d259f8ab",
   "metadata": {
    "papermill": {
     "duration": 0.018721,
     "end_time": "2022-05-18T09:29:42.111235",
     "exception": false,
     "start_time": "2022-05-18T09:29:42.092514",
     "status": "completed"
    },
    "tags": []
   },
   "source": [
    "# Question 2\n",
    "\n",
    "You are thinking about buying a home and want to get an idea of how much you will spend, based on the number of bedrooms and bathrooms.  You are trying to decide between four different options:\n",
    "- Option 1: house with two bedrooms and three bathrooms\n",
    "- Option 2: house with three bedrooms and two bathrooms\n",
    "- Option 3: house with three bedrooms and three bathrooms\n",
    "- Option 4: house with three bedrooms and four bathrooms\n",
    "\n",
    "Use the `get_expected_cost()` function you defined in question 1 to set `option_1`, `option_2`, `option_3`, and `option_4` to the expected cost of each option."
   ]
  },
  {
   "cell_type": "code",
   "execution_count": 4,
   "id": "926c8e6b",
   "metadata": {
    "execution": {
     "iopub.execute_input": "2022-05-18T09:29:42.151349Z",
     "iopub.status.busy": "2022-05-18T09:29:42.150819Z",
     "iopub.status.idle": "2022-05-18T09:29:42.162703Z",
     "shell.execute_reply": "2022-05-18T09:29:42.159639Z"
    },
    "papermill": {
     "duration": 0.034095,
     "end_time": "2022-05-18T09:29:42.165041",
     "exception": false,
     "start_time": "2022-05-18T09:29:42.130946",
     "status": "completed"
    },
    "tags": []
   },
   "outputs": [
    {
     "name": "stdout",
     "output_type": "stream",
     "text": [
      "170000\n",
      "190000\n",
      "200000\n",
      "210000\n"
     ]
    },
    {
     "data": {
      "application/javascript": [
       "parent.postMessage({\"jupyterEvent\": \"custom.exercise_interaction\", \"data\": {\"outcomeType\": 1, \"valueTowardsCompletion\": 0.2, \"interactionType\": 1, \"questionType\": 1, \"questionId\": \"2_RunGetExpectedCost\", \"learnToolsVersion\": \"0.3.4\", \"failureMessage\": \"\", \"exceptionClass\": \"\", \"trace\": \"\"}}, \"*\")"
      ],
      "text/plain": [
       "<IPython.core.display.Javascript object>"
      ]
     },
     "metadata": {},
     "output_type": "display_data"
    },
    {
     "data": {
      "text/markdown": [
       "<span style=\"color:#33cc33\">Correct</span>"
      ],
      "text/plain": [
       "Correct"
      ]
     },
     "metadata": {},
     "output_type": "display_data"
    }
   ],
   "source": [
    "# TODO: Use the get_expected_cost function to fill in each value\n",
    "option_one = get_expected_cost(2, 3)\n",
    "option_two = get_expected_cost(3, 2)\n",
    "option_three = get_expected_cost(3, 3)\n",
    "option_four = get_expected_cost(3, 4)\n",
    "\n",
    "print(option_one)\n",
    "print(option_two)\n",
    "print(option_three)\n",
    "print(option_four)\n",
    "\n",
    "# Check your answer\n",
    "q2.check()"
   ]
  },
  {
   "cell_type": "code",
   "execution_count": 5,
   "id": "73aea814",
   "metadata": {
    "execution": {
     "iopub.execute_input": "2022-05-18T09:29:42.206892Z",
     "iopub.status.busy": "2022-05-18T09:29:42.206539Z",
     "iopub.status.idle": "2022-05-18T09:29:42.210402Z",
     "shell.execute_reply": "2022-05-18T09:29:42.209341Z"
    },
    "papermill": {
     "duration": 0.028519,
     "end_time": "2022-05-18T09:29:42.212608",
     "exception": false,
     "start_time": "2022-05-18T09:29:42.184089",
     "status": "completed"
    },
    "tags": []
   },
   "outputs": [],
   "source": [
    "# Uncomment to see a hint\n",
    "#q2.hint()\n",
    "\n",
    "# Uncomment to view the solution\n",
    "#q2.solution()"
   ]
  },
  {
   "cell_type": "markdown",
   "id": "a45ea183",
   "metadata": {
    "papermill": {
     "duration": 0.019437,
     "end_time": "2022-05-18T09:29:42.251476",
     "exception": false,
     "start_time": "2022-05-18T09:29:42.232039",
     "status": "completed"
    },
    "tags": []
   },
   "source": [
    "# Question 3\n",
    "\n",
    "You're a home decorator, and you'd like to use Python to streamline some of your work.  Specifically, you're creating a tool that you intend to use to calculate the cost of painting a room.\n",
    "\n",
    "As a first step, define a function `get_cost()` that takes as input:\n",
    "- `sqft_walls` = total square feet of walls to be painted\n",
    "- `sqft_ceiling` = square feet of ceiling to be painted\n",
    "- `sqft_per_gallon` = number of square feet that you can cover with one gallon of paint\n",
    "- `cost_per_gallon` = cost (in dollars) of one gallon of paint\n",
    "\n",
    "It should return the cost (in dollars) of putting one coat of paint on all walls and the ceiling.  Assume you can buy the exact amount of paint that you need, so you can buy partial gallons (e.g., if you need 7.523 gallons, you can buy that exact amount, instead of needing to buy 8 gallons and waste some paint).  Do not round your answer."
   ]
  },
  {
   "cell_type": "code",
   "execution_count": 6,
   "id": "e683c7a1",
   "metadata": {
    "execution": {
     "iopub.execute_input": "2022-05-18T09:29:42.294601Z",
     "iopub.status.busy": "2022-05-18T09:29:42.293675Z",
     "iopub.status.idle": "2022-05-18T09:29:42.302382Z",
     "shell.execute_reply": "2022-05-18T09:29:42.301568Z"
    },
    "papermill": {
     "duration": 0.03419,
     "end_time": "2022-05-18T09:29:42.305109",
     "exception": false,
     "start_time": "2022-05-18T09:29:42.270919",
     "status": "completed"
    },
    "tags": []
   },
   "outputs": [
    {
     "data": {
      "application/javascript": [
       "parent.postMessage({\"jupyterEvent\": \"custom.exercise_interaction\", \"data\": {\"outcomeType\": 1, \"valueTowardsCompletion\": 0.2, \"interactionType\": 1, \"questionType\": 2, \"questionId\": \"3_GetCostPaint\", \"learnToolsVersion\": \"0.3.4\", \"failureMessage\": \"\", \"exceptionClass\": \"\", \"trace\": \"\"}}, \"*\")"
      ],
      "text/plain": [
       "<IPython.core.display.Javascript object>"
      ]
     },
     "metadata": {},
     "output_type": "display_data"
    },
    {
     "data": {
      "text/markdown": [
       "<span style=\"color:#33cc33\">Correct</span>"
      ],
      "text/plain": [
       "Correct"
      ]
     },
     "metadata": {},
     "output_type": "display_data"
    }
   ],
   "source": [
    "# TODO: Finish defining the function\n",
    "def get_cost(sqft_walls, sqft_ceiling, sqft_per_gallon, cost_per_gallon):\n",
    "    cost = ((sqft_walls + sqft_ceiling)/sqft_per_gallon)*cost_per_gallon\n",
    "    return cost\n",
    "\n",
    "# Check your answer\n",
    "q3.check()"
   ]
  },
  {
   "cell_type": "code",
   "execution_count": 7,
   "id": "9a84b3f8",
   "metadata": {
    "execution": {
     "iopub.execute_input": "2022-05-18T09:29:42.350996Z",
     "iopub.status.busy": "2022-05-18T09:29:42.350460Z",
     "iopub.status.idle": "2022-05-18T09:29:42.354874Z",
     "shell.execute_reply": "2022-05-18T09:29:42.353943Z"
    },
    "papermill": {
     "duration": 0.030768,
     "end_time": "2022-05-18T09:29:42.357413",
     "exception": false,
     "start_time": "2022-05-18T09:29:42.326645",
     "status": "completed"
    },
    "tags": []
   },
   "outputs": [],
   "source": [
    "# Uncomment to see a hint\n",
    "#q3.hint()\n",
    "\n",
    "# Uncomment to view the solution\n",
    "#q3.solution()"
   ]
  },
  {
   "cell_type": "markdown",
   "id": "cdfadeec",
   "metadata": {
    "papermill": {
     "duration": 0.019408,
     "end_time": "2022-05-18T09:29:42.398640",
     "exception": false,
     "start_time": "2022-05-18T09:29:42.379232",
     "status": "completed"
    },
    "tags": []
   },
   "source": [
    "# Question 4\n",
    "\n",
    "Use the `get_cost()` function you defined in Question 3 to calculate the cost of applying one coat of paint to a room with:\n",
    "- 432 square feet of walls, and\n",
    "- 144 square feet of ceiling.\n",
    "\n",
    "Assume that one gallon of paint covers 400 square feet and costs $15.  As in Question 3, assume you can buy partial gallons of paint.  Do not round your answer."
   ]
  },
  {
   "cell_type": "code",
   "execution_count": 8,
   "id": "a67ce488",
   "metadata": {
    "execution": {
     "iopub.execute_input": "2022-05-18T09:29:42.439580Z",
     "iopub.status.busy": "2022-05-18T09:29:42.439316Z",
     "iopub.status.idle": "2022-05-18T09:29:42.446008Z",
     "shell.execute_reply": "2022-05-18T09:29:42.445261Z"
    },
    "papermill": {
     "duration": 0.029419,
     "end_time": "2022-05-18T09:29:42.447911",
     "exception": false,
     "start_time": "2022-05-18T09:29:42.418492",
     "status": "completed"
    },
    "tags": []
   },
   "outputs": [
    {
     "data": {
      "application/javascript": [
       "parent.postMessage({\"jupyterEvent\": \"custom.exercise_interaction\", \"data\": {\"outcomeType\": 1, \"valueTowardsCompletion\": 0.2, \"interactionType\": 1, \"questionType\": 1, \"questionId\": \"4_GetCostPaintExample\", \"learnToolsVersion\": \"0.3.4\", \"failureMessage\": \"\", \"exceptionClass\": \"\", \"trace\": \"\"}}, \"*\")"
      ],
      "text/plain": [
       "<IPython.core.display.Javascript object>"
      ]
     },
     "metadata": {},
     "output_type": "display_data"
    },
    {
     "data": {
      "text/markdown": [
       "<span style=\"color:#33cc33\">Correct</span>"
      ],
      "text/plain": [
       "Correct"
      ]
     },
     "metadata": {},
     "output_type": "display_data"
    }
   ],
   "source": [
    "# TODO: Set the project_cost variable to the cost of the project\n",
    "project_cost = get_cost(432, 144, 400, 15.)\n",
    "\n",
    "# Check your answer\n",
    "q4.check()"
   ]
  },
  {
   "cell_type": "code",
   "execution_count": 9,
   "id": "095d5e0a",
   "metadata": {
    "execution": {
     "iopub.execute_input": "2022-05-18T09:29:42.491507Z",
     "iopub.status.busy": "2022-05-18T09:29:42.491033Z",
     "iopub.status.idle": "2022-05-18T09:29:42.494407Z",
     "shell.execute_reply": "2022-05-18T09:29:42.493823Z"
    },
    "papermill": {
     "duration": 0.027462,
     "end_time": "2022-05-18T09:29:42.496169",
     "exception": false,
     "start_time": "2022-05-18T09:29:42.468707",
     "status": "completed"
    },
    "tags": []
   },
   "outputs": [],
   "source": [
    "# Uncomment to see a hint\n",
    "#q4.hint()\n",
    "\n",
    "# Uncomment to view the solution\n",
    "#q4.solution()"
   ]
  },
  {
   "cell_type": "markdown",
   "id": "aae6ea15",
   "metadata": {
    "papermill": {
     "duration": 0.020645,
     "end_time": "2022-05-18T09:29:42.537350",
     "exception": false,
     "start_time": "2022-05-18T09:29:42.516705",
     "status": "completed"
    },
    "tags": []
   },
   "source": [
    "# 🌶️ Question 5\n",
    "\n",
    "Now say you can no longer buy fractions of a gallon.  (For instance, if you need 4.3 gallons to do a project, then you have to buy 5 gallons of paint.)\n",
    "\n",
    "With this new scenario, you will create a new function `get_actual_cost` that uses the same inputs and calculates the cost of your project.\n",
    "\n",
    "One function that you'll need to use to do this is `math.ceil()`.  We demonstrate usage of this function in the code cell below.  It takes as a number as input and rounds the number up to the nearest integer.  \n",
    "\n",
    "Run the next code cell to test this function for yourself.  Feel free to change the value of `test_value` and make sure `math.ceil()` returns the number you expect."
   ]
  },
  {
   "cell_type": "code",
   "execution_count": 10,
   "id": "7ff67525",
   "metadata": {
    "execution": {
     "iopub.execute_input": "2022-05-18T09:29:42.581201Z",
     "iopub.status.busy": "2022-05-18T09:29:42.580669Z",
     "iopub.status.idle": "2022-05-18T09:29:42.586549Z",
     "shell.execute_reply": "2022-05-18T09:29:42.584905Z"
    },
    "papermill": {
     "duration": 0.030803,
     "end_time": "2022-05-18T09:29:42.589156",
     "exception": false,
     "start_time": "2022-05-18T09:29:42.558353",
     "status": "completed"
    },
    "tags": []
   },
   "outputs": [
    {
     "name": "stdout",
     "output_type": "stream",
     "text": [
      "3\n"
     ]
    }
   ],
   "source": [
    "test_value = 2.17\n",
    "\n",
    "rounded_value = math.ceil(test_value)\n",
    "print(rounded_value)"
   ]
  },
  {
   "cell_type": "markdown",
   "id": "beb9affc",
   "metadata": {
    "papermill": {
     "duration": 0.021437,
     "end_time": "2022-05-18T09:29:42.632150",
     "exception": false,
     "start_time": "2022-05-18T09:29:42.610713",
     "status": "completed"
    },
    "tags": []
   },
   "source": [
    "Use the next code cell to define the function `get_actual_cost()`.  You'll need to use the `math.ceil()` function to do this.\n",
    "\n",
    "When answering this question, note that it's completely valid to define a function that makes use of another function.  For instance, we can define a function `round_up_and_divide_by_three` that makes use of the `math.ceil` function:\n",
    "```\n",
    "def round_up_and_divide_by_three(num):\n",
    "    new_value = math.ceil(num)\n",
    "    final_value = new_value / 3\n",
    "    return final_value\n",
    "```"
   ]
  },
  {
   "cell_type": "code",
   "execution_count": 11,
   "id": "71b356e6",
   "metadata": {
    "execution": {
     "iopub.execute_input": "2022-05-18T09:29:42.676746Z",
     "iopub.status.busy": "2022-05-18T09:29:42.676207Z",
     "iopub.status.idle": "2022-05-18T09:29:42.684317Z",
     "shell.execute_reply": "2022-05-18T09:29:42.683696Z"
    },
    "papermill": {
     "duration": 0.032276,
     "end_time": "2022-05-18T09:29:42.686075",
     "exception": false,
     "start_time": "2022-05-18T09:29:42.653799",
     "status": "completed"
    },
    "tags": []
   },
   "outputs": [
    {
     "data": {
      "application/javascript": [
       "parent.postMessage({\"jupyterEvent\": \"custom.exercise_interaction\", \"data\": {\"outcomeType\": 1, \"valueTowardsCompletion\": 0.2, \"interactionType\": 1, \"questionType\": 2, \"questionId\": \"5_NoMoreFractions\", \"learnToolsVersion\": \"0.3.4\", \"failureMessage\": \"\", \"exceptionClass\": \"\", \"trace\": \"\"}}, \"*\")"
      ],
      "text/plain": [
       "<IPython.core.display.Javascript object>"
      ]
     },
     "metadata": {},
     "output_type": "display_data"
    },
    {
     "data": {
      "text/markdown": [
       "<span style=\"color:#33cc33\">Correct</span>"
      ],
      "text/plain": [
       "Correct"
      ]
     },
     "metadata": {},
     "output_type": "display_data"
    }
   ],
   "source": [
    "def get_actual_cost(sqft_walls, sqft_ceiling, sqft_per_gallon, cost_per_gallon):\n",
    "    cost = math.ceil((sqft_walls + sqft_ceiling) / sqft_per_gallon) * cost_per_gallon\n",
    "    return cost\n",
    "\n",
    "# Check your answer\n",
    "q5.check()"
   ]
  },
  {
   "cell_type": "code",
   "execution_count": 12,
   "id": "e98349fa",
   "metadata": {
    "execution": {
     "iopub.execute_input": "2022-05-18T09:29:42.731816Z",
     "iopub.status.busy": "2022-05-18T09:29:42.731538Z",
     "iopub.status.idle": "2022-05-18T09:29:42.734744Z",
     "shell.execute_reply": "2022-05-18T09:29:42.733914Z"
    },
    "papermill": {
     "duration": 0.028396,
     "end_time": "2022-05-18T09:29:42.736652",
     "exception": false,
     "start_time": "2022-05-18T09:29:42.708256",
     "status": "completed"
    },
    "tags": []
   },
   "outputs": [],
   "source": [
    "# Uncomment to see a hint\n",
    "#q5.hint()\n",
    "\n",
    "# Uncomment to view the solution\n",
    "#q5.solution()"
   ]
  },
  {
   "cell_type": "markdown",
   "id": "de3361ca",
   "metadata": {
    "papermill": {
     "duration": 0.022348,
     "end_time": "2022-05-18T09:29:42.780553",
     "exception": false,
     "start_time": "2022-05-18T09:29:42.758205",
     "status": "completed"
    },
    "tags": []
   },
   "source": [
    "Once your function is verified as correct, run the next code cell to calculate the updated cost of your project."
   ]
  },
  {
   "cell_type": "code",
   "execution_count": 13,
   "id": "41406d75",
   "metadata": {
    "execution": {
     "iopub.execute_input": "2022-05-18T09:29:42.825978Z",
     "iopub.status.busy": "2022-05-18T09:29:42.825666Z",
     "iopub.status.idle": "2022-05-18T09:29:42.831586Z",
     "shell.execute_reply": "2022-05-18T09:29:42.830914Z"
    },
    "papermill": {
     "duration": 0.030982,
     "end_time": "2022-05-18T09:29:42.833481",
     "exception": false,
     "start_time": "2022-05-18T09:29:42.802499",
     "status": "completed"
    },
    "tags": []
   },
   "outputs": [
    {
     "data": {
      "text/plain": [
       "30"
      ]
     },
     "execution_count": 13,
     "metadata": {},
     "output_type": "execute_result"
    }
   ],
   "source": [
    "get_actual_cost(432, 144, 400, 15) "
   ]
  },
  {
   "cell_type": "markdown",
   "id": "68c9e89a",
   "metadata": {
    "papermill": {
     "duration": 0.023796,
     "end_time": "2022-05-18T09:29:42.880451",
     "exception": false,
     "start_time": "2022-05-18T09:29:42.856655",
     "status": "completed"
    },
    "tags": []
   },
   "source": [
    "Say you're working with a slightly larger room.  Run the next code cell to calculate the cost of the project."
   ]
  },
  {
   "cell_type": "code",
   "execution_count": 14,
   "id": "1121cc14",
   "metadata": {
    "execution": {
     "iopub.execute_input": "2022-05-18T09:29:42.927324Z",
     "iopub.status.busy": "2022-05-18T09:29:42.926695Z",
     "iopub.status.idle": "2022-05-18T09:29:42.932596Z",
     "shell.execute_reply": "2022-05-18T09:29:42.931910Z"
    },
    "papermill": {
     "duration": 0.031127,
     "end_time": "2022-05-18T09:29:42.934349",
     "exception": false,
     "start_time": "2022-05-18T09:29:42.903222",
     "status": "completed"
    },
    "tags": []
   },
   "outputs": [
    {
     "data": {
      "text/plain": [
       "45"
      ]
     },
     "execution_count": 14,
     "metadata": {},
     "output_type": "execute_result"
    }
   ],
   "source": [
    "get_actual_cost(594, 288, 400, 15) "
   ]
  },
  {
   "cell_type": "markdown",
   "id": "e9938a70",
   "metadata": {
    "papermill": {
     "duration": 0.025326,
     "end_time": "2022-05-18T09:29:42.983554",
     "exception": false,
     "start_time": "2022-05-18T09:29:42.958228",
     "status": "completed"
    },
    "tags": []
   },
   "source": [
    "# Keep going\n",
    "\n",
    "Continue to learn about **[data types](https://www.kaggle.com/alexisbcook/data-types)**."
   ]
  },
  {
   "cell_type": "markdown",
   "id": "14be8e28",
   "metadata": {
    "papermill": {
     "duration": 0.023009,
     "end_time": "2022-05-18T09:29:43.029521",
     "exception": false,
     "start_time": "2022-05-18T09:29:43.006512",
     "status": "completed"
    },
    "tags": []
   },
   "source": [
    "---\n",
    "\n",
    "\n",
    "\n",
    "\n",
    "*Have questions or comments? Visit the [course discussion forum](https://www.kaggle.com/learn/intro-to-programming/discussion) to chat with other learners.*"
   ]
  }
 ],
 "metadata": {
  "kernelspec": {
   "display_name": "Python 3",
   "language": "python",
   "name": "python3"
  },
  "language_info": {
   "codemirror_mode": {
    "name": "ipython",
    "version": 3
   },
   "file_extension": ".py",
   "mimetype": "text/x-python",
   "name": "python",
   "nbconvert_exporter": "python",
   "pygments_lexer": "ipython3",
   "version": "3.7.12"
  },
  "papermill": {
   "default_parameters": {},
   "duration": 11.256629,
   "end_time": "2022-05-18T09:29:43.672019",
   "environment_variables": {},
   "exception": null,
   "input_path": "__notebook__.ipynb",
   "output_path": "__notebook__.ipynb",
   "parameters": {},
   "start_time": "2022-05-18T09:29:32.415390",
   "version": "2.3.4"
  }
 },
 "nbformat": 4,
 "nbformat_minor": 5
}
