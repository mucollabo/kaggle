{
 "cells": [
  {
   "cell_type": "markdown",
   "id": "5972b8fa",
   "metadata": {
    "papermill": {
     "duration": 0.010927,
     "end_time": "2022-06-16T02:49:42.145768",
     "exception": false,
     "start_time": "2022-06-16T02:49:42.134841",
     "status": "completed"
    },
    "tags": []
   },
   "source": [
    "**This notebook is an exercise in the [Intro to Programming](https://www.kaggle.com/learn/intro-to-programming) course.  You can reference the tutorial at [this link](https://www.kaggle.com/alexisbcook/intro-to-lists).**\n",
    "\n",
    "---\n"
   ]
  },
  {
   "cell_type": "markdown",
   "id": "bf123ddf",
   "metadata": {
    "papermill": {
     "duration": 0.006891,
     "end_time": "2022-06-16T02:49:42.159945",
     "exception": false,
     "start_time": "2022-06-16T02:49:42.153054",
     "status": "completed"
    },
    "tags": []
   },
   "source": [
    "In the tutorial, you learned how to define and modify Python lists.  In this exercise, you will use your new knowledge to solve several problems.\n",
    "\n",
    "# Set up the notebook\n",
    "\n",
    "Run the next code cell without changes to set up the notebook."
   ]
  },
  {
   "cell_type": "code",
   "execution_count": 1,
   "id": "c01d3872",
   "metadata": {
    "execution": {
     "iopub.execute_input": "2022-06-16T02:49:42.176366Z",
     "iopub.status.busy": "2022-06-16T02:49:42.175688Z",
     "iopub.status.idle": "2022-06-16T02:49:42.219548Z",
     "shell.execute_reply": "2022-06-16T02:49:42.218804Z"
    },
    "papermill": {
     "duration": 0.055228,
     "end_time": "2022-06-16T02:49:42.222303",
     "exception": false,
     "start_time": "2022-06-16T02:49:42.167075",
     "status": "completed"
    },
    "tags": []
   },
   "outputs": [
    {
     "name": "stdout",
     "output_type": "stream",
     "text": [
      "Setup complete.\n"
     ]
    }
   ],
   "source": [
    "from learntools.core import binder\n",
    "binder.bind(globals())\n",
    "from learntools.intro_to_programming.ex5 import *\n",
    "print('Setup complete.')"
   ]
  },
  {
   "cell_type": "markdown",
   "id": "c33a8212",
   "metadata": {
    "papermill": {
     "duration": 0.006981,
     "end_time": "2022-06-16T02:49:42.236753",
     "exception": false,
     "start_time": "2022-06-16T02:49:42.229772",
     "status": "completed"
    },
    "tags": []
   },
   "source": [
    "# Question 1\n",
    "\n",
    "You own a restaurant with five food dishes, organized in the Python list `menu` below.  One day, you decide to:\n",
    "- remove bean soup (`'bean soup'`) from the menu, and\n",
    "- add roasted beet salad (`'roasted beet salad'`) to the menu.\n",
    "\n",
    "Implement this change to the list below.  While completing this task, \n",
    "- do not change the line that creates the `menu` list.  \n",
    "- your answer should use `.remove()` and `.append()`.  "
   ]
  },
  {
   "cell_type": "code",
   "execution_count": 2,
   "id": "2bbcf56f",
   "metadata": {
    "execution": {
     "iopub.execute_input": "2022-06-16T02:49:42.253260Z",
     "iopub.status.busy": "2022-06-16T02:49:42.252571Z",
     "iopub.status.idle": "2022-06-16T02:49:42.262551Z",
     "shell.execute_reply": "2022-06-16T02:49:42.261908Z"
    },
    "papermill": {
     "duration": 0.02044,
     "end_time": "2022-06-16T02:49:42.264446",
     "exception": false,
     "start_time": "2022-06-16T02:49:42.244006",
     "status": "completed"
    },
    "tags": []
   },
   "outputs": [
    {
     "data": {
      "application/javascript": [
       "parent.postMessage({\"jupyterEvent\": \"custom.exercise_interaction\", \"data\": {\"outcomeType\": 1, \"valueTowardsCompletion\": 0.2, \"interactionType\": 1, \"questionType\": 2, \"questionId\": \"1_FoodMenu\", \"learnToolsVersion\": \"0.3.4\", \"failureMessage\": \"\", \"exceptionClass\": \"\", \"trace\": \"\"}}, \"*\")"
      ],
      "text/plain": [
       "<IPython.core.display.Javascript object>"
      ]
     },
     "metadata": {},
     "output_type": "display_data"
    },
    {
     "data": {
      "text/markdown": [
       "<span style=\"color:#33cc33\">Correct</span>"
      ],
      "text/plain": [
       "Correct"
      ]
     },
     "metadata": {},
     "output_type": "display_data"
    }
   ],
   "source": [
    "# Do not change: Initial menu for your restaurant\n",
    "menu = ['stewed meat with onions', 'bean soup', 'risotto with trout and shrimp',\n",
    "       'fish soup with cream and onion', 'gyro']\n",
    "\n",
    "# TODO: remove 'bean soup', and add 'roasted beet salad' to the end of the menu\n",
    "menu.remove('bean soup')\n",
    "menu.append('roasted beet salad')\n",
    "\n",
    "# Do not change: Check your answer\n",
    "q1.check()"
   ]
  },
  {
   "cell_type": "code",
   "execution_count": 3,
   "id": "ccc1721e",
   "metadata": {
    "execution": {
     "iopub.execute_input": "2022-06-16T02:49:42.281716Z",
     "iopub.status.busy": "2022-06-16T02:49:42.281011Z",
     "iopub.status.idle": "2022-06-16T02:49:42.284853Z",
     "shell.execute_reply": "2022-06-16T02:49:42.283937Z"
    },
    "papermill": {
     "duration": 0.014807,
     "end_time": "2022-06-16T02:49:42.286898",
     "exception": false,
     "start_time": "2022-06-16T02:49:42.272091",
     "status": "completed"
    },
    "tags": []
   },
   "outputs": [],
   "source": [
    "# Uncomment to see a hint\n",
    "#q1.hint()\n",
    "\n",
    "# Uncomment to see the solution\n",
    "#q1.solution()"
   ]
  },
  {
   "cell_type": "markdown",
   "id": "b8167975",
   "metadata": {
    "papermill": {
     "duration": 0.007337,
     "end_time": "2022-06-16T02:49:42.301997",
     "exception": false,
     "start_time": "2022-06-16T02:49:42.294660",
     "status": "completed"
    },
    "tags": []
   },
   "source": [
    "# Question 2\n",
    "\n",
    "The list `num_customers` contains the number of customers who came into your restaurant every day over the last month (which lasted thirty days).  Fill in values for each of the following:\n",
    "- `avg_first_seven` - average number of customers who visited in the first seven days\n",
    "- `avg_last_seven` - average number of customers who visited in the last seven days\n",
    "- `max_month` - number of customers on the day that got the most customers in the last month\n",
    "- `min_month` - number of customers on the day that got the least customers in the last month\n",
    "\n",
    "Answer this question by writing code.  For instance, if you have to find the minimum value in a list, use `min()` instead of scanning for the smallest value and directly filling in a number."
   ]
  },
  {
   "cell_type": "code",
   "execution_count": 4,
   "id": "75a10f04",
   "metadata": {
    "execution": {
     "iopub.execute_input": "2022-06-16T02:49:42.319344Z",
     "iopub.status.busy": "2022-06-16T02:49:42.318649Z",
     "iopub.status.idle": "2022-06-16T02:49:42.328833Z",
     "shell.execute_reply": "2022-06-16T02:49:42.327969Z"
    },
    "papermill": {
     "duration": 0.021072,
     "end_time": "2022-06-16T02:49:42.330861",
     "exception": false,
     "start_time": "2022-06-16T02:49:42.309789",
     "status": "completed"
    },
    "tags": []
   },
   "outputs": [
    {
     "data": {
      "application/javascript": [
       "parent.postMessage({\"jupyterEvent\": \"custom.exercise_interaction\", \"data\": {\"outcomeType\": 1, \"valueTowardsCompletion\": 0.2, \"interactionType\": 1, \"questionType\": 1, \"questionId\": \"2_NumCustomers\", \"learnToolsVersion\": \"0.3.4\", \"failureMessage\": \"\", \"exceptionClass\": \"\", \"trace\": \"\"}}, \"*\")"
      ],
      "text/plain": [
       "<IPython.core.display.Javascript object>"
      ]
     },
     "metadata": {},
     "output_type": "display_data"
    },
    {
     "data": {
      "text/markdown": [
       "<span style=\"color:#33cc33\">Correct</span>"
      ],
      "text/plain": [
       "Correct"
      ]
     },
     "metadata": {},
     "output_type": "display_data"
    }
   ],
   "source": [
    "# Do not change: Number of customers each day for the last month\n",
    "num_customers = [137, 147, 135, 128, 170, 174, 165, 146, 126, 159,\n",
    "                 141, 148, 132, 147, 168, 153, 170, 161, 148, 152,\n",
    "                 141, 151, 131, 149, 164, 163, 143, 143, 166, 171]\n",
    "\n",
    "# TODO: Fill in values for the variables below\n",
    "avg_first_seven = sum(num_customers[:7])/7 \n",
    "avg_last_seven = sum(num_customers[-7:])/7 \n",
    "max_month = max(num_customers)\n",
    "min_month = min(num_customers)\n",
    "\n",
    "# Do not change: Check your answer\n",
    "q2.check()"
   ]
  },
  {
   "cell_type": "code",
   "execution_count": 5,
   "id": "6d15f7e7",
   "metadata": {
    "execution": {
     "iopub.execute_input": "2022-06-16T02:49:42.348614Z",
     "iopub.status.busy": "2022-06-16T02:49:42.347905Z",
     "iopub.status.idle": "2022-06-16T02:49:42.351321Z",
     "shell.execute_reply": "2022-06-16T02:49:42.350676Z"
    },
    "papermill": {
     "duration": 0.014371,
     "end_time": "2022-06-16T02:49:42.353113",
     "exception": false,
     "start_time": "2022-06-16T02:49:42.338742",
     "status": "completed"
    },
    "tags": []
   },
   "outputs": [],
   "source": [
    "# Uncomment to see a hint\n",
    "#q2.hint()\n",
    "\n",
    "# Uncomment to see the solution\n",
    "#q2.solution()"
   ]
  },
  {
   "cell_type": "markdown",
   "id": "b4997239",
   "metadata": {
    "papermill": {
     "duration": 0.007434,
     "end_time": "2022-06-16T02:49:42.368413",
     "exception": false,
     "start_time": "2022-06-16T02:49:42.360979",
     "status": "completed"
    },
    "tags": []
   },
   "source": [
    "# Question 3\n",
    "\n",
    "In the tutorial, we gave an example of a Python string with information that was better as a list."
   ]
  },
  {
   "cell_type": "code",
   "execution_count": 6,
   "id": "5cc529c3",
   "metadata": {
    "execution": {
     "iopub.execute_input": "2022-06-16T02:49:42.385969Z",
     "iopub.status.busy": "2022-06-16T02:49:42.385310Z",
     "iopub.status.idle": "2022-06-16T02:49:42.389259Z",
     "shell.execute_reply": "2022-06-16T02:49:42.388624Z"
    },
    "papermill": {
     "duration": 0.014834,
     "end_time": "2022-06-16T02:49:42.391050",
     "exception": false,
     "start_time": "2022-06-16T02:49:42.376216",
     "status": "completed"
    },
    "tags": []
   },
   "outputs": [],
   "source": [
    "flowers = \"pink primrose,hard-leaved pocket orchid,canterbury bells,sweet pea,english marigold,tiger lily,moon orchid,bird of paradise,monkshood,globe thistle\""
   ]
  },
  {
   "cell_type": "markdown",
   "id": "f806e700",
   "metadata": {
    "papermill": {
     "duration": 0.007559,
     "end_time": "2022-06-16T02:49:42.406432",
     "exception": false,
     "start_time": "2022-06-16T02:49:42.398873",
     "status": "completed"
    },
    "tags": []
   },
   "source": [
    "You can actually use Python to quickly turn this string into a list with `.split()`.  In the parentheses, we need to provide the character should be used to mark the end of one list item and the beginning of another, and enclose it in quotation marks.  In this case, that character is a comma."
   ]
  },
  {
   "cell_type": "code",
   "execution_count": 7,
   "id": "ab671248",
   "metadata": {
    "execution": {
     "iopub.execute_input": "2022-06-16T02:49:42.424248Z",
     "iopub.status.busy": "2022-06-16T02:49:42.423545Z",
     "iopub.status.idle": "2022-06-16T02:49:42.428851Z",
     "shell.execute_reply": "2022-06-16T02:49:42.427565Z"
    },
    "papermill": {
     "duration": 0.016897,
     "end_time": "2022-06-16T02:49:42.431216",
     "exception": false,
     "start_time": "2022-06-16T02:49:42.414319",
     "status": "completed"
    },
    "tags": []
   },
   "outputs": [
    {
     "name": "stdout",
     "output_type": "stream",
     "text": [
      "['pink primrose', 'hard-leaved pocket orchid', 'canterbury bells', 'sweet pea', 'english marigold', 'tiger lily', 'moon orchid', 'bird of paradise', 'monkshood', 'globe thistle']\n"
     ]
    }
   ],
   "source": [
    " print(flowers.split(\",\"))"
   ]
  },
  {
   "cell_type": "markdown",
   "id": "c5006ffb",
   "metadata": {
    "papermill": {
     "duration": 0.00766,
     "end_time": "2022-06-16T02:49:42.446822",
     "exception": false,
     "start_time": "2022-06-16T02:49:42.439162",
     "status": "completed"
    },
    "tags": []
   },
   "source": [
    "Now it is your turn to try this out!  Create two Python lists:\n",
    "- `letters` should be a Python list where each entry is an uppercase letter of the English alphabet.  For instance, the first two entries should be `\"A\"` and `\"B\"`, and the final two entries should be `\"Y\"` and `\"Z\"`.  Use the string `alphabet` to create this list.\n",
    "- `address` should be a Python list where each row in `address` is a different item in the list.  Currently, each row in `address` is separated by a comma. "
   ]
  },
  {
   "cell_type": "code",
   "execution_count": 8,
   "id": "bb297a4f",
   "metadata": {
    "execution": {
     "iopub.execute_input": "2022-06-16T02:49:42.464268Z",
     "iopub.status.busy": "2022-06-16T02:49:42.463881Z",
     "iopub.status.idle": "2022-06-16T02:49:42.472205Z",
     "shell.execute_reply": "2022-06-16T02:49:42.471279Z"
    },
    "papermill": {
     "duration": 0.019477,
     "end_time": "2022-06-16T02:49:42.474163",
     "exception": false,
     "start_time": "2022-06-16T02:49:42.454686",
     "status": "completed"
    },
    "tags": []
   },
   "outputs": [
    {
     "data": {
      "application/javascript": [
       "parent.postMessage({\"jupyterEvent\": \"custom.exercise_interaction\", \"data\": {\"outcomeType\": 1, \"valueTowardsCompletion\": 0.2, \"interactionType\": 1, \"questionType\": 1, \"questionId\": \"3_SplitString\", \"learnToolsVersion\": \"0.3.4\", \"failureMessage\": \"\", \"exceptionClass\": \"\", \"trace\": \"\"}}, \"*\")"
      ],
      "text/plain": [
       "<IPython.core.display.Javascript object>"
      ]
     },
     "metadata": {},
     "output_type": "display_data"
    },
    {
     "data": {
      "text/markdown": [
       "<span style=\"color:#33cc33\">Correct</span>"
      ],
      "text/plain": [
       "Correct"
      ]
     },
     "metadata": {},
     "output_type": "display_data"
    }
   ],
   "source": [
    "# DO not change: Define two Python strings\n",
    "alphabet = \"A.B.C.D.E.F.G.H.I.J.K.L.M.N.O.P.Q.R.S.T.U.V.W.X.Y.Z\"\n",
    "address = \"Mr. H. Potter,The cupboard under the Stairs,4 Privet Drive,Little Whinging,Surrey\"\n",
    "\n",
    "# TODO: Convert strings into Python lists\n",
    "letters = alphabet.split(\".\")\n",
    "formatted_address = address.split(\",\")\n",
    "\n",
    "# Do not change: Check your answer\n",
    "q3.check()"
   ]
  },
  {
   "cell_type": "code",
   "execution_count": 9,
   "id": "a360a0ba",
   "metadata": {
    "execution": {
     "iopub.execute_input": "2022-06-16T02:49:42.492410Z",
     "iopub.status.busy": "2022-06-16T02:49:42.491373Z",
     "iopub.status.idle": "2022-06-16T02:49:42.495797Z",
     "shell.execute_reply": "2022-06-16T02:49:42.494901Z"
    },
    "papermill": {
     "duration": 0.015773,
     "end_time": "2022-06-16T02:49:42.497989",
     "exception": false,
     "start_time": "2022-06-16T02:49:42.482216",
     "status": "completed"
    },
    "tags": []
   },
   "outputs": [],
   "source": [
    "# Uncomment to see a hint\n",
    "#q3.hint()\n",
    "\n",
    "# Uncomment to see the solution\n",
    "#q3.solution()"
   ]
  },
  {
   "cell_type": "markdown",
   "id": "21430563",
   "metadata": {
    "papermill": {
     "duration": 0.008444,
     "end_time": "2022-06-16T02:49:42.514789",
     "exception": false,
     "start_time": "2022-06-16T02:49:42.506345",
     "status": "completed"
    },
    "tags": []
   },
   "source": [
    "# Question 4\n",
    "\n",
    "In the Python course, you'll learn all about **list comprehensions**, which allow you to create a list based on the values in another list.  In this question, you'll get a brief preview of how they work.\n",
    "\n",
    "Say we're working with the list below."
   ]
  },
  {
   "cell_type": "code",
   "execution_count": 10,
   "id": "5ba72257",
   "metadata": {
    "execution": {
     "iopub.execute_input": "2022-06-16T02:49:42.533938Z",
     "iopub.status.busy": "2022-06-16T02:49:42.533219Z",
     "iopub.status.idle": "2022-06-16T02:49:42.537537Z",
     "shell.execute_reply": "2022-06-16T02:49:42.536838Z"
    },
    "papermill": {
     "duration": 0.016539,
     "end_time": "2022-06-16T02:49:42.539538",
     "exception": false,
     "start_time": "2022-06-16T02:49:42.522999",
     "status": "completed"
    },
    "tags": []
   },
   "outputs": [],
   "source": [
    "test_ratings = [1, 2, 3, 4, 5]"
   ]
  },
  {
   "cell_type": "markdown",
   "id": "668b5050",
   "metadata": {
    "papermill": {
     "duration": 0.007833,
     "end_time": "2022-06-16T02:49:42.555575",
     "exception": false,
     "start_time": "2022-06-16T02:49:42.547742",
     "status": "completed"
    },
    "tags": []
   },
   "source": [
    "Then we can use this list (`test_ratings`) to create a new list (`test_liked`) where each item has been turned into a boolean, depending on whether or not the item is greater than or equal to four."
   ]
  },
  {
   "cell_type": "code",
   "execution_count": 11,
   "id": "396c4f9a",
   "metadata": {
    "execution": {
     "iopub.execute_input": "2022-06-16T02:49:42.573686Z",
     "iopub.status.busy": "2022-06-16T02:49:42.572767Z",
     "iopub.status.idle": "2022-06-16T02:49:42.578215Z",
     "shell.execute_reply": "2022-06-16T02:49:42.577004Z"
    },
    "papermill": {
     "duration": 0.016527,
     "end_time": "2022-06-16T02:49:42.580176",
     "exception": false,
     "start_time": "2022-06-16T02:49:42.563649",
     "status": "completed"
    },
    "tags": []
   },
   "outputs": [
    {
     "name": "stdout",
     "output_type": "stream",
     "text": [
      "[False, False, False, True, True]\n"
     ]
    }
   ],
   "source": [
    "test_liked = [i>=4 for i in test_ratings]\n",
    "print(test_liked)"
   ]
  },
  {
   "cell_type": "markdown",
   "id": "76e4e740",
   "metadata": {
    "papermill": {
     "duration": 0.008101,
     "end_time": "2022-06-16T02:49:42.596506",
     "exception": false,
     "start_time": "2022-06-16T02:49:42.588405",
     "status": "completed"
    },
    "tags": []
   },
   "source": [
    "In this question, you'll use this list comprehension to define a function `percentage_liked()` that takes one argument as input:\n",
    "- `ratings`: list of ratings that people gave to a movie, where each rating is a number between 1-5, inclusive\n",
    "\n",
    "We say someone liked the movie, if they gave a rating of either 4 or 5.  Your function should return the percentage of people who liked the movie.\n",
    "\n",
    "For instance, if we supply a value of `[1, 2, 3, 4, 5, 4, 5, 1]`, then 50% (4/8) of the people liked the movie, and the function should return `0.5`.\n",
    "\n",
    "Part of the function has already been completed for you.  You need only use `list_liked` to calculate `percentage_liked`."
   ]
  },
  {
   "cell_type": "code",
   "execution_count": 12,
   "id": "b5e8cb31",
   "metadata": {
    "execution": {
     "iopub.execute_input": "2022-06-16T02:49:42.614941Z",
     "iopub.status.busy": "2022-06-16T02:49:42.613951Z",
     "iopub.status.idle": "2022-06-16T02:49:42.622786Z",
     "shell.execute_reply": "2022-06-16T02:49:42.621949Z"
    },
    "papermill": {
     "duration": 0.020131,
     "end_time": "2022-06-16T02:49:42.624816",
     "exception": false,
     "start_time": "2022-06-16T02:49:42.604685",
     "status": "completed"
    },
    "tags": []
   },
   "outputs": [
    {
     "data": {
      "application/javascript": [
       "parent.postMessage({\"jupyterEvent\": \"custom.exercise_interaction\", \"data\": {\"outcomeType\": 1, \"valueTowardsCompletion\": 0.2, \"interactionType\": 1, \"questionType\": 2, \"questionId\": \"4_PercentageLiked\", \"learnToolsVersion\": \"0.3.4\", \"failureMessage\": \"\", \"exceptionClass\": \"\", \"trace\": \"\"}}, \"*\")"
      ],
      "text/plain": [
       "<IPython.core.display.Javascript object>"
      ]
     },
     "metadata": {},
     "output_type": "display_data"
    },
    {
     "data": {
      "text/markdown": [
       "<span style=\"color:#33cc33\">Correct</span>"
      ],
      "text/plain": [
       "Correct"
      ]
     },
     "metadata": {},
     "output_type": "display_data"
    }
   ],
   "source": [
    "\n",
    "def percentage_liked(ratings):\n",
    "    list_liked = [i>=4 for i in ratings]\n",
    "    # TODO: Complete the function\n",
    "    percentage_liked = list_liked.count(True)/len(list_liked)\n",
    "    return percentage_liked\n",
    "\n",
    "# Do not change: should return 0.5\n",
    "percentage_liked([1, 2, 3, 4, 5, 4, 5, 1])\n",
    "\n",
    "# Do not change: Check your answer\n",
    "q4.check()"
   ]
  },
  {
   "cell_type": "code",
   "execution_count": 13,
   "id": "be24475d",
   "metadata": {
    "execution": {
     "iopub.execute_input": "2022-06-16T02:49:42.643921Z",
     "iopub.status.busy": "2022-06-16T02:49:42.643149Z",
     "iopub.status.idle": "2022-06-16T02:49:42.646975Z",
     "shell.execute_reply": "2022-06-16T02:49:42.646303Z"
    },
    "papermill": {
     "duration": 0.015733,
     "end_time": "2022-06-16T02:49:42.649066",
     "exception": false,
     "start_time": "2022-06-16T02:49:42.633333",
     "status": "completed"
    },
    "tags": []
   },
   "outputs": [],
   "source": [
    "# Uncomment to see a hint\n",
    "#q4.hint()\n",
    "\n",
    "# Uncomment to see the solution\n",
    "#q4.solution()"
   ]
  },
  {
   "cell_type": "markdown",
   "id": "c141c43c",
   "metadata": {
    "papermill": {
     "duration": 0.008248,
     "end_time": "2022-06-16T02:49:42.666331",
     "exception": false,
     "start_time": "2022-06-16T02:49:42.658083",
     "status": "completed"
    },
    "tags": []
   },
   "source": [
    "# 🌶️ Question 5\n",
    " \n",
    "Say you're doing analytics for a website.  You need to write a function that returns the percentage growth in the total number of users relative to a specified number of years ago.\n",
    "\n",
    "Your function `percentage_growth()` should take two arguments as input:\n",
    "- `num_users` = Python list with the total number of users each year.  So `num_users[0]` is the total number of users in the first year, `num_users[1]` is the total number of users in the second year, and so on.  The final entry in the list gives the total number of users in the most recently completed year.\n",
    "- `yrs_ago` = number of years to go back in time when calculating the growth percentage\n",
    "\n",
    "For instance, say `num_users = [920344, 1043553, 1204334, 1458996, 1503323, 1593432, 1623463, 1843064, 1930992, 2001078]`.\n",
    "- if `yrs_ago = 1`, we want the function to return a value of about `0.036`. This corresponds to a percentage growth of approximately 3.6%, calculated as (2001078 - 1930992)/1930992.\n",
    "- if `yrs_ago = 7`, we would want to return approximately `0.66`.  This corresponds to a percentage growth of approximately 66%, calculated as (2001078 - 1204334)/1204334.\n",
    "\n",
    "Your coworker sent you a draft of a function, but it doesn't seem to be doing the correct calculation.  Can you figure out what has gone wrong and make the needed changes?"
   ]
  },
  {
   "cell_type": "code",
   "execution_count": 14,
   "id": "17d767de",
   "metadata": {
    "execution": {
     "iopub.execute_input": "2022-06-16T02:49:42.685363Z",
     "iopub.status.busy": "2022-06-16T02:49:42.684473Z",
     "iopub.status.idle": "2022-06-16T02:49:42.696092Z",
     "shell.execute_reply": "2022-06-16T02:49:42.695120Z"
    },
    "papermill": {
     "duration": 0.023395,
     "end_time": "2022-06-16T02:49:42.698169",
     "exception": false,
     "start_time": "2022-06-16T02:49:42.674774",
     "status": "completed"
    },
    "tags": []
   },
   "outputs": [
    {
     "name": "stdout",
     "output_type": "stream",
     "text": [
      "0.03629533421163837\n",
      "0.6615639847417742\n"
     ]
    },
    {
     "data": {
      "application/javascript": [
       "parent.postMessage({\"jupyterEvent\": \"custom.exercise_interaction\", \"data\": {\"outcomeType\": 1, \"valueTowardsCompletion\": 0.2, \"interactionType\": 1, \"questionType\": 2, \"questionId\": \"5_WebsiteAnalytics\", \"learnToolsVersion\": \"0.3.4\", \"failureMessage\": \"\", \"exceptionClass\": \"\", \"trace\": \"\"}}, \"*\")"
      ],
      "text/plain": [
       "<IPython.core.display.Javascript object>"
      ]
     },
     "metadata": {},
     "output_type": "display_data"
    },
    {
     "data": {
      "text/markdown": [
       "<span style=\"color:#33cc33\">Correct</span>"
      ],
      "text/plain": [
       "Correct"
      ]
     },
     "metadata": {},
     "output_type": "display_data"
    }
   ],
   "source": [
    "# TODO: Edit the function\n",
    "def percentage_growth(num_users, yrs_ago):\n",
    "    growth = (num_users[len(num_users)-1] - num_users[len(num_users)-(yrs_ago+1)])/num_users[len(num_users)-(yrs_ago+1)]\n",
    "    return growth\n",
    "\n",
    "# Do not change: Variable for calculating some test examples\n",
    "num_users_test = [920344, 1043553, 1204334, 1458996, 1503323, 1593432, 1623463, 1843064, 1930992, 2001078]\n",
    "\n",
    "# Do not change: Should return .036\n",
    "print(percentage_growth(num_users_test, 1))\n",
    "\n",
    "# Do not change: Should return 0.66\n",
    "print(percentage_growth(num_users_test, 7))\n",
    "\n",
    "# Do not change: Check your answer\n",
    "q5.check()"
   ]
  },
  {
   "cell_type": "code",
   "execution_count": 15,
   "id": "a1edb2c4",
   "metadata": {
    "execution": {
     "iopub.execute_input": "2022-06-16T02:49:42.717445Z",
     "iopub.status.busy": "2022-06-16T02:49:42.717071Z",
     "iopub.status.idle": "2022-06-16T02:49:42.720564Z",
     "shell.execute_reply": "2022-06-16T02:49:42.719939Z"
    },
    "papermill": {
     "duration": 0.015252,
     "end_time": "2022-06-16T02:49:42.722358",
     "exception": false,
     "start_time": "2022-06-16T02:49:42.707106",
     "status": "completed"
    },
    "tags": []
   },
   "outputs": [],
   "source": [
    "# Uncomment to see a hint\n",
    "#q5.hint()\n",
    "\n",
    "# Uncomment to see the solution\n",
    "#q5.solution()"
   ]
  },
  {
   "cell_type": "markdown",
   "id": "be6314af",
   "metadata": {
    "papermill": {
     "duration": 0.008706,
     "end_time": "2022-06-16T02:49:42.740117",
     "exception": false,
     "start_time": "2022-06-16T02:49:42.731411",
     "status": "completed"
    },
    "tags": []
   },
   "source": [
    "# Congratulations!\n",
    "\n",
    "Congratulations for finishing the Intro to Programming course!  You should be proud of your very first steps with learning programming.  As next steps, we recommend taking:\n",
    "- the **[Python course](http://www.kaggle.com/learn/python)**, and \n",
    "- the **[Intro to Machine Learning course](https://www.kaggle.com/learn/intro-to-machine-learning)**."
   ]
  },
  {
   "cell_type": "markdown",
   "id": "9be27eaf",
   "metadata": {
    "papermill": {
     "duration": 0.008376,
     "end_time": "2022-06-16T02:49:42.757313",
     "exception": false,
     "start_time": "2022-06-16T02:49:42.748937",
     "status": "completed"
    },
    "tags": []
   },
   "source": [
    "---\n",
    "\n",
    "\n",
    "\n",
    "\n",
    "*Have questions or comments? Visit the [course discussion forum](https://www.kaggle.com/learn/intro-to-programming/discussion) to chat with other learners.*"
   ]
  }
 ],
 "metadata": {
  "kernelspec": {
   "display_name": "Python 3",
   "language": "python",
   "name": "python3"
  },
  "language_info": {
   "codemirror_mode": {
    "name": "ipython",
    "version": 3
   },
   "file_extension": ".py",
   "mimetype": "text/x-python",
   "name": "python",
   "nbconvert_exporter": "python",
   "pygments_lexer": "ipython3",
   "version": "3.7.12"
  },
  "papermill": {
   "default_parameters": {},
   "duration": 11.308327,
   "end_time": "2022-06-16T02:49:43.386904",
   "environment_variables": {},
   "exception": null,
   "input_path": "__notebook__.ipynb",
   "output_path": "__notebook__.ipynb",
   "parameters": {},
   "start_time": "2022-06-16T02:49:32.078577",
   "version": "2.3.4"
  }
 },
 "nbformat": 4,
 "nbformat_minor": 5
}
