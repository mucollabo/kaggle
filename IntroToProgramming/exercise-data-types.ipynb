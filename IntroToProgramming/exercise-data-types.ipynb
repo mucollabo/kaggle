{
 "cells": [
  {
   "cell_type": "markdown",
   "id": "fc543451",
   "metadata": {
    "papermill": {
     "duration": 0.027124,
     "end_time": "2022-05-18T09:25:23.910865",
     "exception": false,
     "start_time": "2022-05-18T09:25:23.883741",
     "status": "completed"
    },
    "tags": []
   },
   "source": [
    "**This notebook is an exercise in the [Intro to Programming](https://www.kaggle.com/learn/intro-to-programming) course.  You can reference the tutorial at [this link](https://www.kaggle.com/alexisbcook/data-types).**\n",
    "\n",
    "---\n"
   ]
  },
  {
   "cell_type": "markdown",
   "id": "196825f8",
   "metadata": {
    "papermill": {
     "duration": 0.024391,
     "end_time": "2022-05-18T09:25:23.960154",
     "exception": false,
     "start_time": "2022-05-18T09:25:23.935763",
     "status": "completed"
    },
    "tags": []
   },
   "source": [
    "In the tutorial, you learned about four different data types: floats, integers, strings, and booleans.  In this exercise, you'll experiment with them.\n",
    "\n",
    "# Set up the notebook\n",
    "\n",
    "Run the next code cell without changes to set up the notebook."
   ]
  },
  {
   "cell_type": "code",
   "execution_count": 1,
   "id": "77fc18d7",
   "metadata": {
    "execution": {
     "iopub.execute_input": "2022-05-18T09:25:24.012518Z",
     "iopub.status.busy": "2022-05-18T09:25:24.011943Z",
     "iopub.status.idle": "2022-05-18T09:25:24.063550Z",
     "shell.execute_reply": "2022-05-18T09:25:24.062955Z"
    },
    "papermill": {
     "duration": 0.080007,
     "end_time": "2022-05-18T09:25:24.065815",
     "exception": false,
     "start_time": "2022-05-18T09:25:23.985808",
     "status": "completed"
    },
    "tags": []
   },
   "outputs": [
    {
     "name": "stdout",
     "output_type": "stream",
     "text": [
      "Setup complete.\n"
     ]
    }
   ],
   "source": [
    "# Set up the exercise\n",
    "from learntools.core import binder\n",
    "binder.bind(globals())\n",
    "from learntools.intro_to_programming.ex3 import *\n",
    "print('Setup complete.')"
   ]
  },
  {
   "cell_type": "markdown",
   "id": "ad25f9f1",
   "metadata": {
    "papermill": {
     "duration": 0.024658,
     "end_time": "2022-05-18T09:25:24.116481",
     "exception": false,
     "start_time": "2022-05-18T09:25:24.091823",
     "status": "completed"
    },
    "tags": []
   },
   "source": [
    "# Question 1\n",
    "\n",
    "You have seen how to convert a float to an integer with the `int` function.  Try this out yourself by running the code cell below."
   ]
  },
  {
   "cell_type": "code",
   "execution_count": 2,
   "id": "2bf31fcc",
   "metadata": {
    "execution": {
     "iopub.execute_input": "2022-05-18T09:25:24.167977Z",
     "iopub.status.busy": "2022-05-18T09:25:24.167325Z",
     "iopub.status.idle": "2022-05-18T09:25:24.173665Z",
     "shell.execute_reply": "2022-05-18T09:25:24.172904Z"
    },
    "papermill": {
     "duration": 0.034857,
     "end_time": "2022-05-18T09:25:24.176225",
     "exception": false,
     "start_time": "2022-05-18T09:25:24.141368",
     "status": "completed"
    },
    "tags": []
   },
   "outputs": [
    {
     "name": "stdout",
     "output_type": "stream",
     "text": [
      "1.0\n",
      "<class 'float'>\n",
      "1\n",
      "<class 'int'>\n"
     ]
    }
   ],
   "source": [
    "# Define a float\n",
    "y = 1.\n",
    "print(y)\n",
    "print(type(y))\n",
    "\n",
    "# Convert float to integer with the int function\n",
    "z = int(y)\n",
    "print(z)\n",
    "print(type(z))"
   ]
  },
  {
   "cell_type": "markdown",
   "id": "9f0fc83e",
   "metadata": {
    "papermill": {
     "duration": 0.02485,
     "end_time": "2022-05-18T09:25:24.226558",
     "exception": false,
     "start_time": "2022-05-18T09:25:24.201708",
     "status": "completed"
    },
    "tags": []
   },
   "source": [
    "In this case, the float you are using has no numbers after the decimal.  \n",
    "- But what happens when you try to convert a float with a fractional part to an integer?  \n",
    "- How does the outcome of the `int` function change for positive and negative numbers?\n",
    "\n",
    "Use the next code cell to investigate and answer these questions.  Feel free to add or remove any lines of code -- it is your workspace!"
   ]
  },
  {
   "cell_type": "code",
   "execution_count": 3,
   "id": "6c5ed4b4",
   "metadata": {
    "execution": {
     "iopub.execute_input": "2022-05-18T09:25:24.280816Z",
     "iopub.status.busy": "2022-05-18T09:25:24.280224Z",
     "iopub.status.idle": "2022-05-18T09:25:24.286473Z",
     "shell.execute_reply": "2022-05-18T09:25:24.285007Z"
    },
    "papermill": {
     "duration": 0.036761,
     "end_time": "2022-05-18T09:25:24.288548",
     "exception": false,
     "start_time": "2022-05-18T09:25:24.251787",
     "status": "completed"
    },
    "tags": []
   },
   "outputs": [
    {
     "name": "stdout",
     "output_type": "stream",
     "text": [
      "1\n",
      "1\n",
      "-3\n",
      "-2\n"
     ]
    }
   ],
   "source": [
    "# Uncomment and run this code to get started!\n",
    "print(int(1.2321))\n",
    "print(int(1.747))\n",
    "print(int(-3.94535))\n",
    "print(int(-2.19774))"
   ]
  },
  {
   "cell_type": "markdown",
   "id": "ffb1d85b",
   "metadata": {
    "papermill": {
     "duration": 0.02544,
     "end_time": "2022-05-18T09:25:24.340426",
     "exception": false,
     "start_time": "2022-05-18T09:25:24.314986",
     "status": "completed"
    },
    "tags": []
   },
   "source": [
    "Once you have an answer, run the code cell below to see the solution.  Viewing the solution will give you credit for answering the problem."
   ]
  },
  {
   "cell_type": "code",
   "execution_count": 4,
   "id": "7edf96d2",
   "metadata": {
    "execution": {
     "iopub.execute_input": "2022-05-18T09:25:24.394004Z",
     "iopub.status.busy": "2022-05-18T09:25:24.393467Z",
     "iopub.status.idle": "2022-05-18T09:25:24.401694Z",
     "shell.execute_reply": "2022-05-18T09:25:24.401108Z"
    },
    "papermill": {
     "duration": 0.037415,
     "end_time": "2022-05-18T09:25:24.403526",
     "exception": false,
     "start_time": "2022-05-18T09:25:24.366111",
     "status": "completed"
    },
    "tags": []
   },
   "outputs": [
    {
     "data": {
      "application/javascript": [
       "parent.postMessage({\"jupyterEvent\": \"custom.exercise_interaction\", \"data\": {\"outcomeType\": 1, \"valueTowardsCompletion\": 0.2, \"interactionType\": 1, \"questionType\": 4, \"questionId\": \"1_FloatToInt\", \"learnToolsVersion\": \"0.3.4\", \"failureMessage\": \"\", \"exceptionClass\": \"\", \"trace\": \"\"}}, \"*\")"
      ],
      "text/plain": [
       "<IPython.core.display.Javascript object>"
      ]
     },
     "metadata": {},
     "output_type": "display_data"
    },
    {
     "data": {
      "text/markdown": [
       "<span style=\"color:#33cc33\">Correct:</span> \n",
       "\n",
       "Negative floats are always rounded UP to the closest integer (for instance, both -1.1 and -1.9 are rounded up to -1). Positive floats are always rounded DOWN to the closest integer (for instance, 2.1 and 2.9 are rounded down to 2)."
      ],
      "text/plain": [
       "Correct: \n",
       "\n",
       "Negative floats are always rounded UP to the closest integer (for instance, both -1.1 and -1.9 are rounded up to -1). Positive floats are always rounded DOWN to the closest integer (for instance, 2.1 and 2.9 are rounded down to 2)."
      ]
     },
     "metadata": {},
     "output_type": "display_data"
    }
   ],
   "source": [
    "# Check your answer (Run this code cell to receive credit!)\n",
    "q1.check()"
   ]
  },
  {
   "cell_type": "markdown",
   "id": "2dad4a86",
   "metadata": {
    "papermill": {
     "duration": 0.026967,
     "end_time": "2022-05-18T09:25:24.458510",
     "exception": false,
     "start_time": "2022-05-18T09:25:24.431543",
     "status": "completed"
    },
    "tags": []
   },
   "source": [
    "# Question 2\n",
    "\n",
    "In the tutorial, you learned about booleans (which can take a value of `True` or `False`), in addition to integers, floats, and strings.  For this question, your goal is to determine what happens when you multiply a boolean by any of these data types.  Specifically, \n",
    "- What happens when you multiply an integer or float by `True`?  What happens when you multiply them by `False`?  How does the answer change if the numbers are positive or negative?\n",
    "- What happens when you multiply a string by `True`?  By `False`?\n",
    "\n",
    "Use the next code cell for your investigation. "
   ]
  },
  {
   "cell_type": "code",
   "execution_count": 5,
   "id": "7b5c6cb3",
   "metadata": {
    "execution": {
     "iopub.execute_input": "2022-05-18T09:25:24.514619Z",
     "iopub.status.busy": "2022-05-18T09:25:24.514147Z",
     "iopub.status.idle": "2022-05-18T09:25:24.519617Z",
     "shell.execute_reply": "2022-05-18T09:25:24.518734Z"
    },
    "papermill": {
     "duration": 0.03608,
     "end_time": "2022-05-18T09:25:24.521770",
     "exception": false,
     "start_time": "2022-05-18T09:25:24.485690",
     "status": "completed"
    },
    "tags": []
   },
   "outputs": [
    {
     "name": "stdout",
     "output_type": "stream",
     "text": [
      "3\n",
      "-3.1\n",
      "<class 'str'>\n",
      "0\n"
     ]
    }
   ],
   "source": [
    "# Uncomment and run this code to get started!\n",
    "print(3 * True)\n",
    "print(-3.1 * True)\n",
    "print(type(\"abc\" * False))\n",
    "print(len(\"abc\" * False))"
   ]
  },
  {
   "cell_type": "code",
   "execution_count": 6,
   "id": "b8e4e5da",
   "metadata": {
    "execution": {
     "iopub.execute_input": "2022-05-18T09:25:24.579990Z",
     "iopub.status.busy": "2022-05-18T09:25:24.579687Z",
     "iopub.status.idle": "2022-05-18T09:25:24.587462Z",
     "shell.execute_reply": "2022-05-18T09:25:24.586553Z"
    },
    "papermill": {
     "duration": 0.039924,
     "end_time": "2022-05-18T09:25:24.590574",
     "exception": false,
     "start_time": "2022-05-18T09:25:24.550650",
     "status": "completed"
    },
    "tags": []
   },
   "outputs": [
    {
     "name": "stdout",
     "output_type": "stream",
     "text": [
      "<class 'int'>\n",
      "<class 'int'>\n",
      "<class 'float'>\n",
      "<class 'float'>\n",
      "\n",
      "abc\n",
      "3\n"
     ]
    }
   ],
   "source": [
    "print(type(3 * True))\n",
    "print(type(3 * False))\n",
    "# print(len(3 * True))\n",
    "# print(len(3 * False))\n",
    "print(type(-3.1 * True))\n",
    "print(type(-3.1 * False))\n",
    "# print(len(-3.1 * True))\n",
    "# print(len(-3.1 * False))\n",
    "print(\"abc\" * False)\n",
    "print(\"abc\" * True)\n",
    "print(len(\"abc\" * True) )"
   ]
  },
  {
   "cell_type": "markdown",
   "id": "e22b034d",
   "metadata": {
    "papermill": {
     "duration": 0.027525,
     "end_time": "2022-05-18T09:25:24.647174",
     "exception": false,
     "start_time": "2022-05-18T09:25:24.619649",
     "status": "completed"
    },
    "tags": []
   },
   "source": [
    "Once you have an answer, run the code cell below to see the solution.  Viewing the solution will give you credit for answering the problem."
   ]
  },
  {
   "cell_type": "code",
   "execution_count": 7,
   "id": "86ca79c6",
   "metadata": {
    "execution": {
     "iopub.execute_input": "2022-05-18T09:25:24.705283Z",
     "iopub.status.busy": "2022-05-18T09:25:24.704982Z",
     "iopub.status.idle": "2022-05-18T09:25:24.713123Z",
     "shell.execute_reply": "2022-05-18T09:25:24.712142Z"
    },
    "papermill": {
     "duration": 0.040231,
     "end_time": "2022-05-18T09:25:24.715027",
     "exception": false,
     "start_time": "2022-05-18T09:25:24.674796",
     "status": "completed"
    },
    "tags": []
   },
   "outputs": [
    {
     "data": {
      "application/javascript": [
       "parent.postMessage({\"jupyterEvent\": \"custom.exercise_interaction\", \"data\": {\"outcomeType\": 1, \"valueTowardsCompletion\": 0.2, \"interactionType\": 1, \"questionType\": 4, \"questionId\": \"2_MultiplyBooleans\", \"learnToolsVersion\": \"0.3.4\", \"failureMessage\": \"\", \"exceptionClass\": \"\", \"trace\": \"\"}}, \"*\")"
      ],
      "text/plain": [
       "<IPython.core.display.Javascript object>"
      ]
     },
     "metadata": {},
     "output_type": "display_data"
    },
    {
     "data": {
      "text/markdown": [
       "<span style=\"color:#33cc33\">Correct:</span> \n",
       "\n",
       "When you multiple an integer or float by a boolean with value `True`, it just returns that same integer or float (and is equivalent to multiplying by 1).  If you multiply an integer or float by a boolean with value `False`, it always returns 0.  This is true for both positive and negative numbers.  If you multiply a string by a boolean with value `True`, it just returns that same string.  And if you multiply a string by a boolean with value `False`, it returns an empty string (or a string with length zero)."
      ],
      "text/plain": [
       "Correct: \n",
       "\n",
       "When you multiple an integer or float by a boolean with value `True`, it just returns that same integer or float (and is equivalent to multiplying by 1).  If you multiply an integer or float by a boolean with value `False`, it always returns 0.  This is true for both positive and negative numbers.  If you multiply a string by a boolean with value `True`, it just returns that same string.  And if you multiply a string by a boolean with value `False`, it returns an empty string (or a string with length zero)."
      ]
     },
     "metadata": {},
     "output_type": "display_data"
    }
   ],
   "source": [
    "# Check your answer (Run this code cell to receive credit!)\n",
    "q2.check()"
   ]
  },
  {
   "cell_type": "markdown",
   "id": "3ef4186d",
   "metadata": {
    "papermill": {
     "duration": 0.029322,
     "end_time": "2022-05-18T09:25:24.774388",
     "exception": false,
     "start_time": "2022-05-18T09:25:24.745066",
     "status": "completed"
    },
    "tags": []
   },
   "source": [
    "# Question 3\n",
    "\n",
    "In this question, you will build off your work from the previous exercise to write a function that estimates the value of a house.\n",
    "\n",
    "Use the next code cell to create a function `get_expected_cost` that takes as input three variables:\n",
    "- `beds` - number of bedrooms (data type float)\n",
    "- `baths` - number of bathrooms (data type float)\n",
    "- `has_basement` - whether or not the house has a basement (data type boolean)\n",
    "\n",
    "It should return the expected cost of a house with those characteristics. Assume that:\n",
    "- the expected cost for a house with 0 bedrooms and 0 bathrooms, and no basement is 80000, \n",
    "- each bedroom adds 30000 to the expected cost,\n",
    "- each bathroom adds 10000 to the expected cost, and\n",
    "- a basement adds 40000 to the expected cost.\n",
    "\n",
    "For instance,\n",
    "- a house with 1 bedroom, 1 bathroom, and no basement has an expected cost of 80000 + 30000 + 10000 = 120000.  This value will be calculated with `get_expected_cost(1, 1, False)`.\n",
    "- a house with 2 bedrooms, 1 bathroom, and a basement has an expected cost of 80000 + 2*30000 + 10000 + 40000 = 190000.  This value will be calculated with `get_expected_cost(2, 1, True)`.\n",
    "\n",
    "Remember you can always get a hint by uncommenting `q3.hint()` in the code cell following the next!"
   ]
  },
  {
   "cell_type": "code",
   "execution_count": 8,
   "id": "63deca76",
   "metadata": {
    "execution": {
     "iopub.execute_input": "2022-05-18T09:25:24.834482Z",
     "iopub.status.busy": "2022-05-18T09:25:24.834213Z",
     "iopub.status.idle": "2022-05-18T09:25:24.842158Z",
     "shell.execute_reply": "2022-05-18T09:25:24.841245Z"
    },
    "papermill": {
     "duration": 0.040546,
     "end_time": "2022-05-18T09:25:24.844012",
     "exception": false,
     "start_time": "2022-05-18T09:25:24.803466",
     "status": "completed"
    },
    "tags": []
   },
   "outputs": [
    {
     "data": {
      "application/javascript": [
       "parent.postMessage({\"jupyterEvent\": \"custom.exercise_interaction\", \"data\": {\"outcomeType\": 1, \"valueTowardsCompletion\": 0.2, \"interactionType\": 1, \"questionType\": 2, \"questionId\": \"3_EstimateHouseValueBool\", \"learnToolsVersion\": \"0.3.4\", \"failureMessage\": \"\", \"exceptionClass\": \"\", \"trace\": \"\"}}, \"*\")"
      ],
      "text/plain": [
       "<IPython.core.display.Javascript object>"
      ]
     },
     "metadata": {},
     "output_type": "display_data"
    },
    {
     "data": {
      "text/markdown": [
       "<span style=\"color:#33cc33\">Correct</span>"
      ],
      "text/plain": [
       "Correct"
      ]
     },
     "metadata": {},
     "output_type": "display_data"
    }
   ],
   "source": [
    "# TODO: Complete the function\n",
    "def get_expected_cost(beds, baths, has_basement):\n",
    "    value = 80000 + beds * 30000 + baths * 10000 + has_basement * 40000\n",
    "    return value\n",
    "\n",
    "# Check your answer \n",
    "q3.check()"
   ]
  },
  {
   "cell_type": "code",
   "execution_count": 9,
   "id": "f798602e",
   "metadata": {
    "execution": {
     "iopub.execute_input": "2022-05-18T09:25:24.909313Z",
     "iopub.status.busy": "2022-05-18T09:25:24.908699Z",
     "iopub.status.idle": "2022-05-18T09:25:24.912304Z",
     "shell.execute_reply": "2022-05-18T09:25:24.911680Z"
    },
    "papermill": {
     "duration": 0.038983,
     "end_time": "2022-05-18T09:25:24.914360",
     "exception": false,
     "start_time": "2022-05-18T09:25:24.875377",
     "status": "completed"
    },
    "tags": []
   },
   "outputs": [],
   "source": [
    "# Uncomment to see a hint\n",
    "#q3.hint()\n",
    "\n",
    "# Uncomment to view the solution\n",
    "#q3.solution()"
   ]
  },
  {
   "cell_type": "markdown",
   "id": "3e31a55b",
   "metadata": {
    "papermill": {
     "duration": 0.030799,
     "end_time": "2022-05-18T09:25:24.975468",
     "exception": false,
     "start_time": "2022-05-18T09:25:24.944669",
     "status": "completed"
    },
    "tags": []
   },
   "source": [
    "# Question 4\n",
    "\n",
    "We'll continue our study of boolean arithmetic.  For this question, your task is to provide a description of what happpens when you add booleans. \n",
    "\n",
    "Use the next code cell for your investigation.  Feel free to add or remove any lines of code - use it as your workspace!"
   ]
  },
  {
   "cell_type": "code",
   "execution_count": 10,
   "id": "c9533d0d",
   "metadata": {
    "execution": {
     "iopub.execute_input": "2022-05-18T09:25:25.039255Z",
     "iopub.status.busy": "2022-05-18T09:25:25.038771Z",
     "iopub.status.idle": "2022-05-18T09:25:25.044293Z",
     "shell.execute_reply": "2022-05-18T09:25:25.043685Z"
    },
    "papermill": {
     "duration": 0.040801,
     "end_time": "2022-05-18T09:25:25.047250",
     "exception": false,
     "start_time": "2022-05-18T09:25:25.006449",
     "status": "completed"
    },
    "tags": []
   },
   "outputs": [
    {
     "name": "stdout",
     "output_type": "stream",
     "text": [
      "0\n",
      "1\n",
      "1\n",
      "2\n",
      "3\n"
     ]
    }
   ],
   "source": [
    "print(False + False)\n",
    "print(True + False)\n",
    "print(False + True)\n",
    "print(True + True)\n",
    "print(False + True + True + True)"
   ]
  },
  {
   "cell_type": "markdown",
   "id": "d4bf6d1b",
   "metadata": {
    "papermill": {
     "duration": 0.030664,
     "end_time": "2022-05-18T09:25:25.110358",
     "exception": false,
     "start_time": "2022-05-18T09:25:25.079694",
     "status": "completed"
    },
    "tags": []
   },
   "source": [
    "Once you have an answer, run the code cell below to see the solution.  Viewing the solution will give you credit for answering the problem."
   ]
  },
  {
   "cell_type": "code",
   "execution_count": 11,
   "id": "b78b5581",
   "metadata": {
    "execution": {
     "iopub.execute_input": "2022-05-18T09:25:25.173893Z",
     "iopub.status.busy": "2022-05-18T09:25:25.173300Z",
     "iopub.status.idle": "2022-05-18T09:25:25.180295Z",
     "shell.execute_reply": "2022-05-18T09:25:25.179393Z"
    },
    "papermill": {
     "duration": 0.04123,
     "end_time": "2022-05-18T09:25:25.182337",
     "exception": false,
     "start_time": "2022-05-18T09:25:25.141107",
     "status": "completed"
    },
    "tags": []
   },
   "outputs": [
    {
     "data": {
      "application/javascript": [
       "parent.postMessage({\"jupyterEvent\": \"custom.exercise_interaction\", \"data\": {\"outcomeType\": 1, \"valueTowardsCompletion\": 0.2, \"interactionType\": 1, \"questionType\": 4, \"questionId\": \"4_AddingBooleans\", \"learnToolsVersion\": \"0.3.4\", \"failureMessage\": \"\", \"exceptionClass\": \"\", \"trace\": \"\"}}, \"*\")"
      ],
      "text/plain": [
       "<IPython.core.display.Javascript object>"
      ]
     },
     "metadata": {},
     "output_type": "display_data"
    },
    {
     "data": {
      "text/markdown": [
       "<span style=\"color:#33cc33\">Correct:</span> \n",
       "\n",
       "When you add booleans, adding `False` is equivalent to adding 0, and adding `True` is equivalent to adding 1."
      ],
      "text/plain": [
       "Correct: \n",
       "\n",
       "When you add booleans, adding `False` is equivalent to adding 0, and adding `True` is equivalent to adding 1."
      ]
     },
     "metadata": {},
     "output_type": "display_data"
    }
   ],
   "source": [
    "# Check your answer (Run this code cell to receive credit!)\n",
    "q4.check()"
   ]
  },
  {
   "cell_type": "markdown",
   "id": "8f47f943",
   "metadata": {
    "papermill": {
     "duration": 0.032228,
     "end_time": "2022-05-18T09:25:25.246940",
     "exception": false,
     "start_time": "2022-05-18T09:25:25.214712",
     "status": "completed"
    },
    "tags": []
   },
   "source": [
    "# 🌶️ Question 5\n",
    "\n",
    "You own an online shop where you sell rings with custom engravings.  You offer both gold plated and solid gold rings.\n",
    "- Gold plated rings have a base cost of \\\\$50, and you charge \\\\$7 per engraved unit.  \n",
    "- Solid gold rings have a base cost of \\\\$100, and you charge \\\\$10 per engraved unit.\n",
    "- Spaces and punctuation are counted as engraved units.\n",
    "\n",
    "Write a function `cost_of_project()` that takes two arguments:\n",
    "- `engraving` - a Python string with the text of the engraving\n",
    "- `solid_gold` - a Boolean that indicates whether the ring is solid gold\n",
    "\n",
    "It should return the cost of the project.  This question should be fairly challenging, and you may need a hint."
   ]
  },
  {
   "cell_type": "code",
   "execution_count": 12,
   "id": "67138ff7",
   "metadata": {
    "execution": {
     "iopub.execute_input": "2022-05-18T09:25:25.312167Z",
     "iopub.status.busy": "2022-05-18T09:25:25.311357Z",
     "iopub.status.idle": "2022-05-18T09:25:25.320158Z",
     "shell.execute_reply": "2022-05-18T09:25:25.319361Z"
    },
    "papermill": {
     "duration": 0.043422,
     "end_time": "2022-05-18T09:25:25.321965",
     "exception": false,
     "start_time": "2022-05-18T09:25:25.278543",
     "status": "completed"
    },
    "tags": []
   },
   "outputs": [
    {
     "data": {
      "application/javascript": [
       "parent.postMessage({\"jupyterEvent\": \"custom.exercise_interaction\", \"data\": {\"outcomeType\": 1, \"valueTowardsCompletion\": 0.2, \"interactionType\": 1, \"questionType\": 2, \"questionId\": \"5_CustomEngravings\", \"learnToolsVersion\": \"0.3.4\", \"failureMessage\": \"\", \"exceptionClass\": \"\", \"trace\": \"\"}}, \"*\")"
      ],
      "text/plain": [
       "<IPython.core.display.Javascript object>"
      ]
     },
     "metadata": {},
     "output_type": "display_data"
    },
    {
     "data": {
      "text/markdown": [
       "<span style=\"color:#33cc33\">Correct</span>"
      ],
      "text/plain": [
       "Correct"
      ]
     },
     "metadata": {},
     "output_type": "display_data"
    }
   ],
   "source": [
    "def cost_of_project(engraving, solid_gold):\n",
    "    cost = (50 + (len(engraving) * 7)) * (1 - solid_gold) + (100 + (len(engraving) * 10)) * solid_gold\n",
    "    return cost\n",
    "\n",
    "# Check your answer\n",
    "q5.check()"
   ]
  },
  {
   "cell_type": "code",
   "execution_count": 13,
   "id": "c18ba82e",
   "metadata": {
    "execution": {
     "iopub.execute_input": "2022-05-18T09:25:25.389695Z",
     "iopub.status.busy": "2022-05-18T09:25:25.388779Z",
     "iopub.status.idle": "2022-05-18T09:25:25.392736Z",
     "shell.execute_reply": "2022-05-18T09:25:25.391859Z"
    },
    "papermill": {
     "duration": 0.039875,
     "end_time": "2022-05-18T09:25:25.394772",
     "exception": false,
     "start_time": "2022-05-18T09:25:25.354897",
     "status": "completed"
    },
    "tags": []
   },
   "outputs": [],
   "source": [
    "# Uncomment to see a hint\n",
    "#q5.hint()\n",
    "\n",
    "# Uncomment to view the solution\n",
    "#q5.solution()"
   ]
  },
  {
   "cell_type": "markdown",
   "id": "311672c6",
   "metadata": {
    "papermill": {
     "duration": 0.032942,
     "end_time": "2022-05-18T09:25:25.460995",
     "exception": false,
     "start_time": "2022-05-18T09:25:25.428053",
     "status": "completed"
    },
    "tags": []
   },
   "source": [
    "Run the next code cell to calculate the cost of engraving `Charlie+Denver` on a solid gold ring."
   ]
  },
  {
   "cell_type": "code",
   "execution_count": 14,
   "id": "62f6688b",
   "metadata": {
    "execution": {
     "iopub.execute_input": "2022-05-18T09:25:25.529275Z",
     "iopub.status.busy": "2022-05-18T09:25:25.528600Z",
     "iopub.status.idle": "2022-05-18T09:25:25.532922Z",
     "shell.execute_reply": "2022-05-18T09:25:25.532108Z"
    },
    "papermill": {
     "duration": 0.040727,
     "end_time": "2022-05-18T09:25:25.534947",
     "exception": false,
     "start_time": "2022-05-18T09:25:25.494220",
     "status": "completed"
    },
    "tags": []
   },
   "outputs": [
    {
     "name": "stdout",
     "output_type": "stream",
     "text": [
      "240\n"
     ]
    }
   ],
   "source": [
    "project_one = cost_of_project(\"Charlie+Denver\", True)\n",
    "print(project_one)"
   ]
  },
  {
   "cell_type": "markdown",
   "id": "cd175545",
   "metadata": {
    "papermill": {
     "duration": 0.03437,
     "end_time": "2022-05-18T09:25:25.603381",
     "exception": false,
     "start_time": "2022-05-18T09:25:25.569011",
     "status": "completed"
    },
    "tags": []
   },
   "source": [
    "Use the next code cell to calculate the cost of engraving `08/10/2000` on a gold plated ring."
   ]
  },
  {
   "cell_type": "code",
   "execution_count": 15,
   "id": "abe23611",
   "metadata": {
    "execution": {
     "iopub.execute_input": "2022-05-18T09:25:25.672646Z",
     "iopub.status.busy": "2022-05-18T09:25:25.671682Z",
     "iopub.status.idle": "2022-05-18T09:25:25.676991Z",
     "shell.execute_reply": "2022-05-18T09:25:25.675820Z"
    },
    "papermill": {
     "duration": 0.042303,
     "end_time": "2022-05-18T09:25:25.679256",
     "exception": false,
     "start_time": "2022-05-18T09:25:25.636953",
     "status": "completed"
    },
    "tags": []
   },
   "outputs": [
    {
     "name": "stdout",
     "output_type": "stream",
     "text": [
      "120\n"
     ]
    }
   ],
   "source": [
    "project_two = cost_of_project(\"08/10/2000\", False)\n",
    "print(project_two)"
   ]
  },
  {
   "cell_type": "markdown",
   "id": "9c008784",
   "metadata": {
    "papermill": {
     "duration": 0.034293,
     "end_time": "2022-05-18T09:25:25.749319",
     "exception": false,
     "start_time": "2022-05-18T09:25:25.715026",
     "status": "completed"
    },
    "tags": []
   },
   "source": [
    "# Keep going\n",
    "\n",
    "Continue to the next lesson to **[learn about conditions and conditional statements](https://www.kaggle.com/alexisbcook/conditions-and-conditional-statements)**."
   ]
  },
  {
   "cell_type": "markdown",
   "id": "3005d1a9",
   "metadata": {
    "papermill": {
     "duration": 0.034792,
     "end_time": "2022-05-18T09:25:25.818464",
     "exception": false,
     "start_time": "2022-05-18T09:25:25.783672",
     "status": "completed"
    },
    "tags": []
   },
   "source": [
    "---\n",
    "\n",
    "\n",
    "\n",
    "\n",
    "*Have questions or comments? Visit the [course discussion forum](https://www.kaggle.com/learn/intro-to-programming/discussion) to chat with other learners.*"
   ]
  }
 ],
 "metadata": {
  "kernelspec": {
   "display_name": "Python 3",
   "language": "python",
   "name": "python3"
  },
  "language_info": {
   "codemirror_mode": {
    "name": "ipython",
    "version": 3
   },
   "file_extension": ".py",
   "mimetype": "text/x-python",
   "name": "python",
   "nbconvert_exporter": "python",
   "pygments_lexer": "ipython3",
   "version": "3.7.12"
  },
  "papermill": {
   "default_parameters": {},
   "duration": 12.754206,
   "end_time": "2022-05-18T09:25:26.473760",
   "environment_variables": {},
   "exception": null,
   "input_path": "__notebook__.ipynb",
   "output_path": "__notebook__.ipynb",
   "parameters": {},
   "start_time": "2022-05-18T09:25:13.719554",
   "version": "2.3.4"
  }
 },
 "nbformat": 4,
 "nbformat_minor": 5
}
