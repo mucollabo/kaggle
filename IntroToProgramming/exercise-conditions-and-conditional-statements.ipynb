{
 "cells": [
  {
   "cell_type": "markdown",
   "id": "043bc080",
   "metadata": {
    "papermill": {
     "duration": 0.027286,
     "end_time": "2022-05-18T13:16:19.031667",
     "exception": false,
     "start_time": "2022-05-18T13:16:19.004381",
     "status": "completed"
    },
    "tags": []
   },
   "source": [
    "**This notebook is an exercise in the [Intro to Programming](https://www.kaggle.com/learn/intro-to-programming) course.  You can reference the tutorial at [this link](https://www.kaggle.com/alexisbcook/conditions-and-conditional-statements).**\n",
    "\n",
    "---\n"
   ]
  },
  {
   "cell_type": "markdown",
   "id": "82a111df",
   "metadata": {
    "papermill": {
     "duration": 0.026796,
     "end_time": "2022-05-18T13:16:19.084308",
     "exception": false,
     "start_time": "2022-05-18T13:16:19.057512",
     "status": "completed"
    },
    "tags": []
   },
   "source": [
    "In the tutorial, you learned about conditions and conditional statements. In this exercise, you will use what you learned to answer several questions.\n",
    "\n",
    "# Set up the notebook\n",
    "\n",
    "Run the next code cell without changes to set up the notebook."
   ]
  },
  {
   "cell_type": "code",
   "execution_count": 1,
   "id": "ea98918c",
   "metadata": {
    "execution": {
     "iopub.execute_input": "2022-05-18T13:16:19.140176Z",
     "iopub.status.busy": "2022-05-18T13:16:19.139519Z",
     "iopub.status.idle": "2022-05-18T13:16:43.110778Z",
     "shell.execute_reply": "2022-05-18T13:16:43.109635Z"
    },
    "papermill": {
     "duration": 24.002114,
     "end_time": "2022-05-18T13:16:43.113639",
     "exception": false,
     "start_time": "2022-05-18T13:16:19.111525",
     "status": "completed"
    },
    "tags": []
   },
   "outputs": [
    {
     "name": "stdout",
     "output_type": "stream",
     "text": [
      "Collecting git+https://github.com/Kaggle/learntools.git@master\r\n",
      "  Cloning https://github.com/Kaggle/learntools.git (to revision master) to /tmp/pip-req-build-_e1q9q52\r\n",
      "  Running command git clone --filter=blob:none --quiet https://github.com/Kaggle/learntools.git /tmp/pip-req-build-_e1q9q52\r\n",
      "  Resolved https://github.com/Kaggle/learntools.git to commit e8a474e00eee1c00f9adb72641a679ddbf3449b7\r\n",
      "  Preparing metadata (setup.py) ... \u001b[?25l-\b \bdone\r\n",
      "\u001b[?25hBuilding wheels for collected packages: learntools\r\n",
      "  Building wheel for learntools (setup.py) ... \u001b[?25l-\b \b\\\b \b|\b \b/\b \bdone\r\n",
      "\u001b[?25h  Created wheel for learntools: filename=learntools-0.3.4-py3-none-any.whl size=267896 sha256=88c2eb347f590fbdffacebeeb7450035bbc325d7e07266b425475350bdcc98f0\r\n",
      "  Stored in directory: /tmp/pip-ephem-wheel-cache-yixowcru/wheels/96/98/04/32b386c4641f1aea964eebb0148dc4632b25195ed8e54869c8\r\n",
      "Successfully built learntools\r\n",
      "Installing collected packages: learntools\r\n",
      "Successfully installed learntools-0.3.4\r\n",
      "\u001b[33mWARNING: Running pip as the 'root' user can result in broken permissions and conflicting behaviour with the system package manager. It is recommended to use a virtual environment instead: https://pip.pypa.io/warnings/venv\u001b[0m\u001b[33m\r\n",
      "\u001b[0mSetup complete.\n"
     ]
    }
   ],
   "source": [
    "!pip install -U -t /kaggle/working/ git+https://github.com/Kaggle/learntools.git@master\n",
    "from learntools.core import binder\n",
    "binder.bind(globals())\n",
    "from learntools.intro_to_programming.ex4 import *\n",
    "print('Setup complete.')"
   ]
  },
  {
   "cell_type": "markdown",
   "id": "88eefb45",
   "metadata": {
    "papermill": {
     "duration": 0.032779,
     "end_time": "2022-05-18T13:16:43.178476",
     "exception": false,
     "start_time": "2022-05-18T13:16:43.145697",
     "status": "completed"
    },
    "tags": []
   },
   "source": [
    "# Question 1\n",
    "\n",
    "You work at a college admissions office.  When inspecting a dataset of college applicants, you notice that some students have represented their grades with letters (`\"A\"`, `\"B\"`, `\"C\"`, `\"D\"`, `\"F\"`), whereas others have represented their grades with a number between 0 and 100.\n",
    "\n",
    "You realize that for consistency, all of the grades should be formatted in the same way, and you decide to format them all as letters.  For the conversion, you decide to assign:\n",
    "- `\"A\"` - any grade 90-100, inclusive\n",
    "- `\"B\"` - any grade 80-89, inclusive\n",
    "- `\"C\"` - any grade 70-79, inclusive\n",
    "- `\"D\"` - any grade 60-69, inclusive\n",
    "- `\"F\"` - any grade <60\n",
    "\n",
    "Write a function `get_grade()` that takes as input:\n",
    "- `score` - an integer 0-100 corresponding to a numerical grade\n",
    "\n",
    "It should return a Python string with the letter grade that it corresponds to.  For instance,\n",
    "- A score of 85 corresponds to a B grade.  In other words, `get_grade(85)` should return `\"B\"`.\n",
    "- A score of 49 corresponds to an F grade.  In other words, `get_grade(49)` should return `\"F\"`.\n",
    "\n",
    "Make sure that when supplying the grade that is returned by the function, it is enclosed in quotes.  (For instance, if you want to return `\"A\"`, you should write `return \"A\"` and not `return A`.)"
   ]
  },
  {
   "cell_type": "code",
   "execution_count": 2,
   "id": "7e355201",
   "metadata": {
    "execution": {
     "iopub.execute_input": "2022-05-18T13:16:43.245468Z",
     "iopub.status.busy": "2022-05-18T13:16:43.245132Z",
     "iopub.status.idle": "2022-05-18T13:16:43.260083Z",
     "shell.execute_reply": "2022-05-18T13:16:43.258418Z"
    },
    "papermill": {
     "duration": 0.05141,
     "end_time": "2022-05-18T13:16:43.262990",
     "exception": false,
     "start_time": "2022-05-18T13:16:43.211580",
     "status": "completed"
    },
    "tags": []
   },
   "outputs": [
    {
     "data": {
      "application/javascript": [
       "parent.postMessage({\"jupyterEvent\": \"custom.exercise_interaction\", \"data\": {\"outcomeType\": 1, \"valueTowardsCompletion\": 0.2, \"interactionType\": 1, \"questionType\": 2, \"questionId\": \"1_GetGrade\", \"learnToolsVersion\": \"0.3.4\", \"failureMessage\": \"\", \"exceptionClass\": \"\", \"trace\": \"\"}}, \"*\")"
      ],
      "text/plain": [
       "<IPython.core.display.Javascript object>"
      ]
     },
     "metadata": {},
     "output_type": "display_data"
    },
    {
     "data": {
      "text/markdown": [
       "<span style=\"color:#33cc33\">Correct</span>"
      ],
      "text/plain": [
       "Correct"
      ]
     },
     "metadata": {},
     "output_type": "display_data"
    }
   ],
   "source": [
    "# TODO: Edit the function to return the correct grade for different scores\n",
    "def get_grade(score):\n",
    "    if score >= 90:\n",
    "        grade = \"A\"\n",
    "    elif score >= 80:\n",
    "        grade = \"B\"\n",
    "    elif score >= 70:\n",
    "        grade = \"C\"\n",
    "    elif score >= 60:\n",
    "        grade = \"D\"\n",
    "    else:\n",
    "        grade = \"F\"\n",
    "        \n",
    "    return grade\n",
    "    \n",
    "# Check your answer\n",
    "q1.check()"
   ]
  },
  {
   "cell_type": "code",
   "execution_count": 3,
   "id": "ded357de",
   "metadata": {
    "execution": {
     "iopub.execute_input": "2022-05-18T13:16:43.332079Z",
     "iopub.status.busy": "2022-05-18T13:16:43.331767Z",
     "iopub.status.idle": "2022-05-18T13:16:43.336231Z",
     "shell.execute_reply": "2022-05-18T13:16:43.334893Z"
    },
    "papermill": {
     "duration": 0.041643,
     "end_time": "2022-05-18T13:16:43.338559",
     "exception": false,
     "start_time": "2022-05-18T13:16:43.296916",
     "status": "completed"
    },
    "tags": []
   },
   "outputs": [],
   "source": [
    "# Uncomment to see a hint\n",
    "#q1.hint()\n",
    "\n",
    "# Uncomment to see the solution\n",
    "#q1.solution()"
   ]
  },
  {
   "cell_type": "markdown",
   "id": "4052f6dd",
   "metadata": {
    "papermill": {
     "duration": 0.034251,
     "end_time": "2022-05-18T13:16:43.408703",
     "exception": false,
     "start_time": "2022-05-18T13:16:43.374452",
     "status": "completed"
    },
    "tags": []
   },
   "source": [
    "# Question 2\n",
    "\n",
    "In the exercise for the previous lesson, you wrote a function `cost_of_project()` that estimated the price of rings for an online shop that sells rings with custom engravings.  This function did not use conditional statements.  In this exercise, you will rewrite the function to use conditional statements.  Recall that the online shop has the following price structure:\n",
    "- Gold plated rings have a base cost of \\\\$50, and you charge \\\\$7 per engraved unit.  \n",
    "- Solid gold rings have a base cost of \\\\$100, and you charge \\\\$10 per engraved unit.\n",
    "- Spaces and punctuation are counted as engraved units.\n",
    "\n",
    "Your function `cost_of_project()` takes two arguments:\n",
    "- `engraving` - a Python string with the text of the engraving\n",
    "- `solid_gold` - a Boolean that indicates whether the ring is solid gold\n",
    "\n",
    "It should return the cost of the project.  \n",
    "\n",
    "The function has been partially completed for you, and you need to fill in the blanks to complete the function."
   ]
  },
  {
   "cell_type": "code",
   "execution_count": 4,
   "id": "8fe8b498",
   "metadata": {
    "execution": {
     "iopub.execute_input": "2022-05-18T13:16:43.475962Z",
     "iopub.status.busy": "2022-05-18T13:16:43.475537Z",
     "iopub.status.idle": "2022-05-18T13:16:43.486470Z",
     "shell.execute_reply": "2022-05-18T13:16:43.485712Z"
    },
    "papermill": {
     "duration": 0.047614,
     "end_time": "2022-05-18T13:16:43.488529",
     "exception": false,
     "start_time": "2022-05-18T13:16:43.440915",
     "status": "completed"
    },
    "tags": []
   },
   "outputs": [
    {
     "data": {
      "application/javascript": [
       "parent.postMessage({\"jupyterEvent\": \"custom.exercise_interaction\", \"data\": {\"outcomeType\": 1, \"valueTowardsCompletion\": 0.2, \"interactionType\": 1, \"questionType\": 2, \"questionId\": \"2_CostProjectPartDeux\", \"learnToolsVersion\": \"0.3.4\", \"failureMessage\": \"\", \"exceptionClass\": \"\", \"trace\": \"\"}}, \"*\")"
      ],
      "text/plain": [
       "<IPython.core.display.Javascript object>"
      ]
     },
     "metadata": {},
     "output_type": "display_data"
    },
    {
     "data": {
      "text/markdown": [
       "<span style=\"color:#33cc33\">Correct</span>"
      ],
      "text/plain": [
       "Correct"
      ]
     },
     "metadata": {},
     "output_type": "display_data"
    }
   ],
   "source": [
    "def cost_of_project(engraving, solid_gold):\n",
    "    if solid_gold == True:\n",
    "        cost = 100 + len(engraving)*10\n",
    "    else:\n",
    "        cost = 50 + len(engraving)*7\n",
    "    return cost\n",
    "\n",
    "# Check your answer\n",
    "q2.check()"
   ]
  },
  {
   "cell_type": "code",
   "execution_count": 5,
   "id": "2e673ced",
   "metadata": {
    "execution": {
     "iopub.execute_input": "2022-05-18T13:16:43.559448Z",
     "iopub.status.busy": "2022-05-18T13:16:43.559155Z",
     "iopub.status.idle": "2022-05-18T13:16:43.562878Z",
     "shell.execute_reply": "2022-05-18T13:16:43.561918Z"
    },
    "papermill": {
     "duration": 0.041617,
     "end_time": "2022-05-18T13:16:43.565548",
     "exception": false,
     "start_time": "2022-05-18T13:16:43.523931",
     "status": "completed"
    },
    "tags": []
   },
   "outputs": [],
   "source": [
    "# Uncomment to see a hint\n",
    "#q2.hint()\n",
    "\n",
    "# Uncomment to see the solution\n",
    "#q2.solution()"
   ]
  },
  {
   "cell_type": "markdown",
   "id": "dd6762a9",
   "metadata": {
    "papermill": {
     "duration": 0.033234,
     "end_time": "2022-05-18T13:16:43.634526",
     "exception": false,
     "start_time": "2022-05-18T13:16:43.601292",
     "status": "completed"
    },
    "tags": []
   },
   "source": [
    "# Question 3\n",
    "\n",
    "You are a programmer at a water agency.  Recently, you have been tasked to write a function `get_water_bill()` that takes as input:\n",
    "- `num_gallons` = the number of gallons of water that a customer used that month.  (This will always be an integer with no decimal part.)\n",
    "\n",
    "It should output the water bill.  \n",
    "\n",
    "The water agency uses this pricing structure:\n",
    "<table style=\"width: 100%;\">\n",
    "<tbody>\n",
    "<tr><th><b>Tier</b></th><th><b>Amount in gallons</b></th><th><b>Price per 1000 gallons</b></th></tr>\n",
    "<tr>\n",
    "<td>Tier 1</td>\n",
    "<td>0 - 8,000</td>\n",
    "<td>\\$5</td>\n",
    "</tr>\n",
    "<tr>\n",
    "<td>Tier 2</td>\n",
    "<td>8,001 - 22,000</td>\n",
    "<td>\\$6</td>\n",
    "</tr>\n",
    "<tr>\n",
    "<td>Tier 3</td>\n",
    "<td>22,001 - 30,000</td>\n",
    "<td>\\$7</td>\n",
    "</tr>\n",
    "<tr>\n",
    "<td>Tier 4</td>\n",
    "<td>30,001+</td>\n",
    "<td>\\$10</td>\n",
    "</tr>\n",
    "</tbody>\n",
    "</table>\n",
    "\n",
    "For example: \n",
    "- Someone who uses 10,000 gallons of water in a month is placed in Tier 2, and needs to pay a water bill of \\\\$6 * 10 = \\\\$60.  In other words, `get_water_bill(10000)` should return `60.0`.\n",
    "- Someone who uses 25,000 gallons of water in a month is placed in Tier 3, and needs to pay a water bill of \\\\$7 * 25 = \\\\$175.  In other words, `get_water_bill(25000)` should return `175.0`.\n",
    "\n",
    "**Do not round your answer.**  So, your answer might return fractions of a penny."
   ]
  },
  {
   "cell_type": "code",
   "execution_count": 6,
   "id": "5607de63",
   "metadata": {
    "execution": {
     "iopub.execute_input": "2022-05-18T13:16:43.702812Z",
     "iopub.status.busy": "2022-05-18T13:16:43.702550Z",
     "iopub.status.idle": "2022-05-18T13:16:43.712032Z",
     "shell.execute_reply": "2022-05-18T13:16:43.711031Z"
    },
    "papermill": {
     "duration": 0.046346,
     "end_time": "2022-05-18T13:16:43.714175",
     "exception": false,
     "start_time": "2022-05-18T13:16:43.667829",
     "status": "completed"
    },
    "tags": []
   },
   "outputs": [
    {
     "data": {
      "application/javascript": [
       "parent.postMessage({\"jupyterEvent\": \"custom.exercise_interaction\", \"data\": {\"outcomeType\": 1, \"valueTowardsCompletion\": 0.2, \"interactionType\": 1, \"questionType\": 2, \"questionId\": \"3_GetWaterBill\", \"learnToolsVersion\": \"0.3.4\", \"failureMessage\": \"\", \"exceptionClass\": \"\", \"trace\": \"\"}}, \"*\")"
      ],
      "text/plain": [
       "<IPython.core.display.Javascript object>"
      ]
     },
     "metadata": {},
     "output_type": "display_data"
    },
    {
     "data": {
      "text/markdown": [
       "<span style=\"color:#33cc33\">Correct</span>"
      ],
      "text/plain": [
       "Correct"
      ]
     },
     "metadata": {},
     "output_type": "display_data"
    }
   ],
   "source": [
    "# TODO: Edit the function to return the correct bill for different\n",
    "# values of num_gallons\n",
    "def get_water_bill(num_gallons):\n",
    "    if num_gallons > 30000:\n",
    "        bill = 10 * num_gallons / 1000\n",
    "    elif num_gallons > 22000:\n",
    "        bill = 7 * num_gallons / 1000\n",
    "    elif num_gallons > 8000:\n",
    "        bill = 6 * num_gallons / 1000\n",
    "    else:\n",
    "        bill = 5 * num_gallons / 1000\n",
    "        \n",
    "    return bill\n",
    "\n",
    "# Check your answer\n",
    "q3.check()"
   ]
  },
  {
   "cell_type": "code",
   "execution_count": 7,
   "id": "2ddf35bb",
   "metadata": {
    "execution": {
     "iopub.execute_input": "2022-05-18T13:16:43.785412Z",
     "iopub.status.busy": "2022-05-18T13:16:43.785114Z",
     "iopub.status.idle": "2022-05-18T13:16:43.788863Z",
     "shell.execute_reply": "2022-05-18T13:16:43.787999Z"
    },
    "papermill": {
     "duration": 0.042341,
     "end_time": "2022-05-18T13:16:43.791071",
     "exception": false,
     "start_time": "2022-05-18T13:16:43.748730",
     "status": "completed"
    },
    "tags": []
   },
   "outputs": [],
   "source": [
    "# Uncomment to see a hint\n",
    "#q3.hint()\n",
    "\n",
    "# Uncomment to see the solution\n",
    "#q3.solution()"
   ]
  },
  {
   "cell_type": "markdown",
   "id": "75ae468a",
   "metadata": {
    "papermill": {
     "duration": 0.037127,
     "end_time": "2022-05-18T13:16:43.864109",
     "exception": false,
     "start_time": "2022-05-18T13:16:43.826982",
     "status": "completed"
    },
    "tags": []
   },
   "source": [
    "# Question 4\n",
    "\n",
    "You work for a company that provides data services.  For \\\\$100/month, your company provides 15 gigabytes (GB) of data.  Then, any additional data is billed at \\\\$0.10/MB (or \\\\$100/GB, since 1,000 MB are in 1 GB).\n",
    "\n",
    "Use the next code cell to write a function `get_phone_bill()` that takes as input:\n",
    "- `gb` = number of GB that the customer used in a month\n",
    "\n",
    "It should return the customer's total phone bill.\n",
    "\n",
    "For instance:\n",
    "- A customer who uses 10 GB of data in one month is billed only \\\\$100, since the usage stayed under 15 GB.  In other words, `get_phone_bill(10)` should return `100`.\n",
    "- A customer who uses 15.1 GB (or 15 GB + 100 MB) of data in one month has gone over by .1 GB, so they must pay \\\\$100 (cost of plan), plus \\\\$0.10 * 100 = \\\\$10, for a total bill of \\\\$110.  In other words, `get_phone_bill(15.1)` should return `110`.\n",
    "\n",
    "Do not round your answer."
   ]
  },
  {
   "cell_type": "code",
   "execution_count": 8,
   "id": "e73e1f21",
   "metadata": {
    "execution": {
     "iopub.execute_input": "2022-05-18T13:16:43.940547Z",
     "iopub.status.busy": "2022-05-18T13:16:43.940237Z",
     "iopub.status.idle": "2022-05-18T13:16:43.948037Z",
     "shell.execute_reply": "2022-05-18T13:16:43.947473Z"
    },
    "papermill": {
     "duration": 0.047853,
     "end_time": "2022-05-18T13:16:43.949765",
     "exception": false,
     "start_time": "2022-05-18T13:16:43.901912",
     "status": "completed"
    },
    "tags": []
   },
   "outputs": [
    {
     "data": {
      "application/javascript": [
       "parent.postMessage({\"jupyterEvent\": \"custom.exercise_interaction\", \"data\": {\"outcomeType\": 1, \"valueTowardsCompletion\": 0.2, \"interactionType\": 1, \"questionType\": 2, \"questionId\": \"4_GetPhoneBill\", \"learnToolsVersion\": \"0.3.4\", \"failureMessage\": \"\", \"exceptionClass\": \"\", \"trace\": \"\"}}, \"*\")"
      ],
      "text/plain": [
       "<IPython.core.display.Javascript object>"
      ]
     },
     "metadata": {},
     "output_type": "display_data"
    },
    {
     "data": {
      "text/markdown": [
       "<span style=\"color:#33cc33\">Correct</span>"
      ],
      "text/plain": [
       "Correct"
      ]
     },
     "metadata": {},
     "output_type": "display_data"
    }
   ],
   "source": [
    "# TODO: Edit the function to return the correct bill for different\n",
    "# values of GB\n",
    "def get_phone_bill(gb):\n",
    "    if gb <= 15:\n",
    "        bill = 100\n",
    "    else:\n",
    "        bill = 100 + (gb - 15) * 100\n",
    "    return bill\n",
    "\n",
    "# Check your answer\n",
    "q4.check()"
   ]
  },
  {
   "cell_type": "code",
   "execution_count": 9,
   "id": "09257cd2",
   "metadata": {
    "execution": {
     "iopub.execute_input": "2022-05-18T13:16:44.024766Z",
     "iopub.status.busy": "2022-05-18T13:16:44.024493Z",
     "iopub.status.idle": "2022-05-18T13:16:44.028297Z",
     "shell.execute_reply": "2022-05-18T13:16:44.027393Z"
    },
    "papermill": {
     "duration": 0.043591,
     "end_time": "2022-05-18T13:16:44.030437",
     "exception": false,
     "start_time": "2022-05-18T13:16:43.986846",
     "status": "completed"
    },
    "tags": []
   },
   "outputs": [],
   "source": [
    "# Uncomment to see a hint\n",
    "#q4.hint()\n",
    "\n",
    "# Uncomment to see the solution\n",
    "#q4.solution()"
   ]
  },
  {
   "cell_type": "markdown",
   "id": "e4b884e6",
   "metadata": {
    "papermill": {
     "duration": 0.03566,
     "end_time": "2022-05-18T13:16:44.103349",
     "exception": false,
     "start_time": "2022-05-18T13:16:44.067689",
     "status": "completed"
    },
    "tags": []
   },
   "source": [
    "# 🌶️ Question 5\n",
    "\n",
    "In Mexico, foods and beverages that are high in saturated fat, trans fat, sugar, sodium, and/or calories appear with warning labels that are designed to help consumers make healthy food choices.\n",
    "\n",
    "For instance, the [box of cookies](https://world.openfoodfacts.org/product/7501000673209/florentinas-gamesa) in the image below appears with two labels (in the upper right corner):\n",
    "- EXCESO CALORÍAS (in English, EXCESS CALORIES)\n",
    "- EXCESO AZÚCARES (in English, EXCESS SUGAR)\n",
    "\n",
    "<center><img src=\"https://i.imgur.com/VXYKHnM.png\" alt=\"drawing\" width=\"500\"/></center>\n",
    "\n",
    "In this question, you'll work with a function `get_labels()` that takes the nutritional details about a food item and prints the needed warning labels.  This function takes several inputs:\n",
    "- `food_type` = one of `\"solid\"` or `\"liquid\"`\n",
    "- `serving_size` = size of one serving (if solid, in grams; if liquid, in milliliters)\n",
    "- `calories_per_serving` = calories in one serving\n",
    "- `saturated_fat_g` = grams of saturated fat in one serving\n",
    "- `trans_fat_g` = grams of trans fat in one serving\n",
    "- `sodium_mg` = mg of sodium in one serving\n",
    "- `sugars_g` = grams of sugar in one serving\n",
    "\n",
    "Note that some of the code here should feel unfamiliar to you, since we have not shared the details of how some of the functions like `excess_sugar()` or `excess_saturated_fat()` work.  But at a high level, these are functions that return a value of `True` if the food is deemed to have an excess of sugar or saturated fat, respectively.  These functions are used within the `get_labels()` function, and whenever there is an excess (of sugar or saturated fat, but also of trans fat, sodium, or calories), it prints the corresponding label."
   ]
  },
  {
   "cell_type": "code",
   "execution_count": 10,
   "id": "aa44dd8b",
   "metadata": {
    "execution": {
     "iopub.execute_input": "2022-05-18T13:16:44.177151Z",
     "iopub.status.busy": "2022-05-18T13:16:44.176873Z",
     "iopub.status.idle": "2022-05-18T13:16:44.184578Z",
     "shell.execute_reply": "2022-05-18T13:16:44.183759Z"
    },
    "papermill": {
     "duration": 0.046995,
     "end_time": "2022-05-18T13:16:44.186667",
     "exception": false,
     "start_time": "2022-05-18T13:16:44.139672",
     "status": "completed"
    },
    "tags": []
   },
   "outputs": [],
   "source": [
    "# import functions needed to make get_labels work\n",
    "from learntools.intro_to_programming.ex4q5 import excess_sugar, excess_saturated_fat, excess_trans_fat, excess_sodium, excess_calories\n",
    "\n",
    "def get_labels(food_type, serving_size, calories_per_serving, saturated_fat_g, trans_fat_g, sodium_mg, sugars_g):\n",
    "    # Print messages based on findings\n",
    "    if excess_sugar(sugars_g, calories_per_serving) == True:\n",
    "        print(\"EXCESO AZÚCARES / EXCESS SUGAR\")\n",
    "    if excess_saturated_fat(saturated_fat_g, calories_per_serving) == True:\n",
    "        print(\"EXCESO GRASAS SATURADAS / EXCESS SATURATED FAT\")\n",
    "    if excess_trans_fat(trans_fat_g, calories_per_serving) == True:\n",
    "        print(\"EXCESO GRASAS TRANS / EXCESS TRANS FAT\")\n",
    "    if excess_sodium(calories_per_serving, sodium_mg) == True:\n",
    "        print(\"EXCESO SODIO / EXCESS SODIUM\")\n",
    "    if excess_calories(food_type, calories_per_serving, serving_size) == True:\n",
    "        print(\"EXCESO CALORÍAS / EXCESS CALORIES\")"
   ]
  },
  {
   "cell_type": "markdown",
   "id": "06aff9f8",
   "metadata": {
    "papermill": {
     "duration": 0.03682,
     "end_time": "2022-05-18T13:16:44.259415",
     "exception": false,
     "start_time": "2022-05-18T13:16:44.222595",
     "status": "completed"
    },
    "tags": []
   },
   "source": [
    "The next code cell demonstrates how to use `get_labels()` to get the warning labels that the food item should contain.  We begin with [bologna](https://world.openfoodfacts.org/product/4099100179378/bologna).  Here is [an image](https://imgur.com/Cfcx72e) with all of the nutritional information.  Note that for this food,\n",
    "- `food_type = \"solid\"` (because bologna is a solid and not a liquid)\n",
    "- `serving_size = 32` (the serving size is 32 grams)\n",
    "- `calories_per_serving = 110` (there are 110 calories per serving)\n",
    "- `saturated_fat_g = 2.5` (there are 2.5 grams of saturated fat per serving)\n",
    "- `trans_fat_g = 0` (there are 0 grams of trans fat per serving)\n",
    "- `sodium_mg = 400` (there are 400 mg of sodium per serving)\n",
    "- `sugars_g = 1` (the nutrition facts say <1g, but we will round it up to 1 gram per serving to be safe)\n",
    "\n",
    "By supplying all of these values to the function, we can print the warning labels."
   ]
  },
  {
   "cell_type": "code",
   "execution_count": 11,
   "id": "78e0f26f",
   "metadata": {
    "execution": {
     "iopub.execute_input": "2022-05-18T13:16:44.337145Z",
     "iopub.status.busy": "2022-05-18T13:16:44.336614Z",
     "iopub.status.idle": "2022-05-18T13:16:44.341527Z",
     "shell.execute_reply": "2022-05-18T13:16:44.340446Z"
    },
    "papermill": {
     "duration": 0.047798,
     "end_time": "2022-05-18T13:16:44.344212",
     "exception": false,
     "start_time": "2022-05-18T13:16:44.296414",
     "status": "completed"
    },
    "tags": []
   },
   "outputs": [
    {
     "name": "stdout",
     "output_type": "stream",
     "text": [
      "EXCESO GRASAS SATURADAS / EXCESS SATURATED FAT\n",
      "EXCESO SODIO / EXCESS SODIUM\n",
      "EXCESO CALORÍAS / EXCESS CALORIES\n"
     ]
    }
   ],
   "source": [
    "# bologna https://world.openfoodfacts.org/product/4099100179378/bologna\n",
    "get_labels(\"solid\", 32, 110, 2.5, 0, 400, 1)"
   ]
  },
  {
   "cell_type": "markdown",
   "id": "6b425f15",
   "metadata": {
    "papermill": {
     "duration": 0.035744,
     "end_time": "2022-05-18T13:16:44.417222",
     "exception": false,
     "start_time": "2022-05-18T13:16:44.381478",
     "status": "completed"
    },
    "tags": []
   },
   "source": [
    "This bologna has three labels, printed in the output above.\n",
    "\n",
    "For the rest of this question, you will use the same `get_labels()` function to determine the labels for more foods.  This question is designed to help you get practice with feeling comfortable with code that other people have written, and where you don't have time to review every single line of code before interacting with it.  For instance, when you take the [Intro to Machine Learning course](http://www.kaggle.com/learn/intro-to-machine-learning), you'll work with a Python package called \"scikit-learn\", which is a large collection of code that you'll learn how to run without reviewing all of the code in detail (as it would take too long, and you can trust that it was implemented correctly).\n",
    "\n",
    "In general, as you continue coding in Python, you will often be running code that other people have written.  This is common practice for advanced programmers.\n",
    "\n",
    "In the next code cell, fill in the values for [this cereal](https://world.openfoodfacts.org/product/7501008023624/zucaritas-kellogg-s).  Here is [an image](https://imgur.com/a/MUxzHVU) with all of the nutritional information.\n",
    "\n",
    "**Note**: running the line of code below as-is will return an error.  You have to fill in the nutritional values first."
   ]
  },
  {
   "cell_type": "code",
   "execution_count": 12,
   "id": "2c9c1455",
   "metadata": {
    "execution": {
     "iopub.execute_input": "2022-05-18T13:16:44.493680Z",
     "iopub.status.busy": "2022-05-18T13:16:44.492918Z",
     "iopub.status.idle": "2022-05-18T13:16:44.498018Z",
     "shell.execute_reply": "2022-05-18T13:16:44.497232Z"
    },
    "papermill": {
     "duration": 0.046671,
     "end_time": "2022-05-18T13:16:44.500572",
     "exception": false,
     "start_time": "2022-05-18T13:16:44.453901",
     "status": "completed"
    },
    "tags": []
   },
   "outputs": [
    {
     "name": "stdout",
     "output_type": "stream",
     "text": [
      "EXCESO SODIO / EXCESS SODIUM\n",
      "EXCESO CALORÍAS / EXCESS CALORIES\n"
     ]
    }
   ],
   "source": [
    "# zucaritas cereal https://world.openfoodfacts.org/product/7501008023624/zucaritas-kellogg-s\n",
    "# TODO: Uncomment the line below, fill in the values, and run the function\n",
    "get_labels(\"solid\", 40, 150, 0, 0, 150, 1)"
   ]
  },
  {
   "cell_type": "markdown",
   "id": "d6879040",
   "metadata": {
    "papermill": {
     "duration": 0.035976,
     "end_time": "2022-05-18T13:16:44.575681",
     "exception": false,
     "start_time": "2022-05-18T13:16:44.539705",
     "status": "completed"
    },
    "tags": []
   },
   "source": [
    "Next, try [these mozzarella sticks](https://world-es.openfoodfacts.org/producto/0062325540104/mozzarella-cheese-sticks).  Here is [an image](https://imgur.com/rcdB7VH) with all of the nutritional information."
   ]
  },
  {
   "cell_type": "code",
   "execution_count": 13,
   "id": "c97d85ed",
   "metadata": {
    "execution": {
     "iopub.execute_input": "2022-05-18T13:16:44.652835Z",
     "iopub.status.busy": "2022-05-18T13:16:44.651861Z",
     "iopub.status.idle": "2022-05-18T13:16:44.657322Z",
     "shell.execute_reply": "2022-05-18T13:16:44.656490Z"
    },
    "papermill": {
     "duration": 0.047304,
     "end_time": "2022-05-18T13:16:44.660635",
     "exception": false,
     "start_time": "2022-05-18T13:16:44.613331",
     "status": "completed"
    },
    "tags": []
   },
   "outputs": [
    {
     "name": "stdout",
     "output_type": "stream",
     "text": [
      "EXCESO GRASAS SATURADAS / EXCESS SATURATED FAT\n",
      "EXCESO GRASAS TRANS / EXCESS TRANS FAT\n",
      "EXCESO SODIO / EXCESS SODIUM\n",
      "EXCESO CALORÍAS / EXCESS CALORIES\n"
     ]
    }
   ],
   "source": [
    "# mozzarella sticks https://world-es.openfoodfacts.org/producto/0062325540104/mozzarella-cheese-sticks\n",
    "# TODO: Uncomment the line below, fill in the values, and run the function\n",
    "get_labels(\"solid\", 21, 68, 3, 0.2, 208, 0)"
   ]
  },
  {
   "cell_type": "markdown",
   "id": "d13d2cbb",
   "metadata": {
    "papermill": {
     "duration": 0.037686,
     "end_time": "2022-05-18T13:16:44.736355",
     "exception": false,
     "start_time": "2022-05-18T13:16:44.698669",
     "status": "completed"
    },
    "tags": []
   },
   "source": [
    "Feel free to skip to the end of the notebook now and run `q5.check()` to complete the exercise.  If you want to try more foods, \n",
    "- try [these cookies](https://world.openfoodfacts.org/product/0069700118545/biscuits-au-sucre-pretraches).  Here is [an image](https://imgur.com/2Bc271o) with all of the nutritional information.\n",
    "- try [this soda](https://world-es.openfoodfacts.org/producto/0078000113464/orange-soda-sunkist).  Here is [an image](https://imgur.com/RsBYa8E) with all of the nutritional information.\n",
    "\n",
    "Use the two code cells below for this."
   ]
  },
  {
   "cell_type": "code",
   "execution_count": 14,
   "id": "0caa2fac",
   "metadata": {
    "execution": {
     "iopub.execute_input": "2022-05-18T13:16:44.811814Z",
     "iopub.status.busy": "2022-05-18T13:16:44.810734Z",
     "iopub.status.idle": "2022-05-18T13:16:44.816863Z",
     "shell.execute_reply": "2022-05-18T13:16:44.815627Z"
    },
    "papermill": {
     "duration": 0.047366,
     "end_time": "2022-05-18T13:16:44.820370",
     "exception": false,
     "start_time": "2022-05-18T13:16:44.773004",
     "status": "completed"
    },
    "tags": []
   },
   "outputs": [
    {
     "name": "stdout",
     "output_type": "stream",
     "text": [
      "EXCESO AZÚCARES / EXCESS SUGAR\n",
      "EXCESO GRASAS SATURADAS / EXCESS SATURATED FAT\n",
      "EXCESO CALORÍAS / EXCESS CALORIES\n"
     ]
    }
   ],
   "source": [
    "# pillsbury cookies https://world.openfoodfacts.org/product/0069700118545/biscuits-au-sucre-pretraches\n",
    "# TODO: Uncomment the line below, fill in the values, and run the function\n",
    "get_labels(\"solid\", 30, 120, 1.5, 0.1, 110, 9)"
   ]
  },
  {
   "cell_type": "code",
   "execution_count": 15,
   "id": "c0650909",
   "metadata": {
    "execution": {
     "iopub.execute_input": "2022-05-18T13:16:44.899030Z",
     "iopub.status.busy": "2022-05-18T13:16:44.898494Z",
     "iopub.status.idle": "2022-05-18T13:16:44.903398Z",
     "shell.execute_reply": "2022-05-18T13:16:44.902220Z"
    },
    "papermill": {
     "duration": 0.045371,
     "end_time": "2022-05-18T13:16:44.905433",
     "exception": false,
     "start_time": "2022-05-18T13:16:44.860062",
     "status": "completed"
    },
    "tags": []
   },
   "outputs": [
    {
     "name": "stdout",
     "output_type": "stream",
     "text": [
      "EXCESO AZÚCARES / EXCESS SUGAR\n"
     ]
    }
   ],
   "source": [
    "# sunkist orange soda https://world-es.openfoodfacts.org/producto/0078000113464/orange-soda-sunkist\n",
    "# TODO: Uncomment the line below, fill in the values, and run the function\n",
    "get_labels(\"liquid\", 355, 160, 0, 0, 65, 44)"
   ]
  },
  {
   "cell_type": "markdown",
   "id": "c0720ddd",
   "metadata": {
    "papermill": {
     "duration": 0.036978,
     "end_time": "2022-05-18T13:16:44.980970",
     "exception": false,
     "start_time": "2022-05-18T13:16:44.943992",
     "status": "completed"
    },
    "tags": []
   },
   "source": [
    "Once you have finished investigating the food items in this question, run the final code cell to get credit for completing this problem."
   ]
  },
  {
   "cell_type": "code",
   "execution_count": 16,
   "id": "58bd451f",
   "metadata": {
    "execution": {
     "iopub.execute_input": "2022-05-18T13:16:45.059004Z",
     "iopub.status.busy": "2022-05-18T13:16:45.058485Z",
     "iopub.status.idle": "2022-05-18T13:16:45.064758Z",
     "shell.execute_reply": "2022-05-18T13:16:45.064180Z"
    },
    "papermill": {
     "duration": 0.047781,
     "end_time": "2022-05-18T13:16:45.066752",
     "exception": false,
     "start_time": "2022-05-18T13:16:45.018971",
     "status": "completed"
    },
    "tags": []
   },
   "outputs": [
    {
     "data": {
      "application/javascript": [
       "parent.postMessage({\"jupyterEvent\": \"custom.exercise_interaction\", \"data\": {\"outcomeType\": 1, \"valueTowardsCompletion\": 0.2, \"interactionType\": 1, \"questionType\": 2, \"questionId\": \"5_GetLabels\", \"learnToolsVersion\": \"0.3.4\", \"failureMessage\": \"\", \"exceptionClass\": \"\", \"trace\": \"\"}}, \"*\")"
      ],
      "text/plain": [
       "<IPython.core.display.Javascript object>"
      ]
     },
     "metadata": {},
     "output_type": "display_data"
    },
    {
     "data": {
      "text/markdown": [
       "<span style=\"color:#33cc33\">Once you have determined the labels for all of the food items, you're ready to move on to the next lesson!</span>"
      ],
      "text/plain": [
       "Once you have determined the labels for all of the food items, you're ready to move on to the next lesson!"
      ]
     },
     "metadata": {},
     "output_type": "display_data"
    }
   ],
   "source": [
    "# Get credit for completing the problem\n",
    "q5.check()"
   ]
  },
  {
   "cell_type": "markdown",
   "id": "dd8b424a",
   "metadata": {
    "papermill": {
     "duration": 0.03902,
     "end_time": "2022-05-18T13:16:45.145904",
     "exception": false,
     "start_time": "2022-05-18T13:16:45.106884",
     "status": "completed"
    },
    "tags": []
   },
   "source": [
    "# Keep going\n",
    "\n",
    "Continue to the next lesson to **[learn about Python lists](https://www.kaggle.com/alexisbcook/intro-to-lists)**."
   ]
  },
  {
   "cell_type": "markdown",
   "id": "3cb89d05",
   "metadata": {
    "papermill": {
     "duration": 0.039583,
     "end_time": "2022-05-18T13:16:45.224257",
     "exception": false,
     "start_time": "2022-05-18T13:16:45.184674",
     "status": "completed"
    },
    "tags": []
   },
   "source": [
    "---\n",
    "\n",
    "\n",
    "\n",
    "\n",
    "*Have questions or comments? Visit the [course discussion forum](https://www.kaggle.com/learn/intro-to-programming/discussion) to chat with other learners.*"
   ]
  }
 ],
 "metadata": {
  "kernelspec": {
   "display_name": "Python 3",
   "language": "python",
   "name": "python3"
  },
  "language_info": {
   "codemirror_mode": {
    "name": "ipython",
    "version": 3
   },
   "file_extension": ".py",
   "mimetype": "text/x-python",
   "name": "python",
   "nbconvert_exporter": "python",
   "pygments_lexer": "ipython3",
   "version": "3.7.12"
  },
  "papermill": {
   "default_parameters": {},
   "duration": 38.565143,
   "end_time": "2022-05-18T13:16:45.987190",
   "environment_variables": {},
   "exception": null,
   "input_path": "__notebook__.ipynb",
   "output_path": "__notebook__.ipynb",
   "parameters": {},
   "start_time": "2022-05-18T13:16:07.422047",
   "version": "2.3.4"
  }
 },
 "nbformat": 4,
 "nbformat_minor": 5
}
